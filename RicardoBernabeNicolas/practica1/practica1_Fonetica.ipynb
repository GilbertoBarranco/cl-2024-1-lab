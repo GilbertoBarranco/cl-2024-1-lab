{
  "cells": [
    {
      "cell_type": "markdown",
      "id": "a1d17ddb-81e1-492f-a0a5-5a55d94f7e4c",
      "metadata": {
        "id": "a1d17ddb-81e1-492f-a0a5-5a55d94f7e4c"
      },
      "source": [
        "# 1. Fonología"
      ]
    },
    {
      "cell_type": "markdown",
      "id": "7568912a-5945-46c0-aeb4-6106e8f36635",
      "metadata": {
        "id": "7568912a-5945-46c0-aeb4-6106e8f36635"
      },
      "source": [
        "## Objetivo"
      ]
    },
    {
      "cell_type": "markdown",
      "id": "1db19ad2-dbd9-4a56-843a-1133e440641e",
      "metadata": {
        "id": "1db19ad2-dbd9-4a56-843a-1133e440641e"
      },
      "source": [
        "- Læs alumnæs entenderán que es la fonología y un alfabeto fonético\n",
        "- Manipularan datasets disponibles en repositorios de Github\n",
        "- Guardaran estos datasets en una estructura de datos\n",
        "- Recuperarán información reelevante de esta estructura para resolver una tarea específica"
      ]
    },
    {
      "cell_type": "markdown",
      "id": "54563b4d-3c1a-4a23-9716-73554e263fb0",
      "metadata": {
        "id": "54563b4d-3c1a-4a23-9716-73554e263fb0"
      },
      "source": [
        "## ¿Qué es la fonología?"
      ]
    },
    {
      "cell_type": "markdown",
      "id": "3fb13d94-e6af-44dc-aa94-608b99feafff",
      "metadata": {
        "id": "3fb13d94-e6af-44dc-aa94-608b99feafff"
      },
      "source": [
        "- La fonología es una rama de la Lingüística que estudia como los humanos producimos y percibimos el lenguaje\n",
        "    - Producción: La forma en que producimos el lenguaje\n",
        "    - Percepción: La forma en que interpretamos el lenguaje"
      ]
    },
    {
      "cell_type": "code",
      "execution_count": null,
      "id": "e529deca-fb69-4072-91ed-7a5063443d62",
      "metadata": {
        "tags": [],
        "id": "e529deca-fb69-4072-91ed-7a5063443d62"
      },
      "outputs": [],
      "source": [
        "%%HTML\n",
        "<iframe width=\"760\" height=\"415\" src=\"https://www.youtube.com/embed/DcNMCB-Gsn8?controls=1\"></iframe>"
      ]
    },
    {
      "cell_type": "markdown",
      "id": "ae09ec8d-b9e9-4e66-9878-63c514fb57f0",
      "metadata": {
        "id": "ae09ec8d-b9e9-4e66-9878-63c514fb57f0"
      },
      "source": [
        "#### Formas comunes\n",
        "\n",
        "- Oral-Aural\n",
        "    - Producción: La boca\n",
        "    - Percepción: Oidos\n",
        "- Manual-visual\n",
        "    - Producción: Manual usando las manos\n",
        "    - Percepción: Visual\n",
        "- Manual-Manual\n",
        "    - Producción: Manual usando las manos\n",
        "    - Percepción: Manual usando las manos"
      ]
    },
    {
      "cell_type": "markdown",
      "id": "029a8e17-03ed-417c-b2f3-512fd1ee5fd9",
      "metadata": {
        "id": "029a8e17-03ed-417c-b2f3-512fd1ee5fd9"
      },
      "source": [
        "#### International Phonetic Alphabet (IPA)\n",
        "\n",
        "- Las lenguas naturales tienen muchos sonidos diferentes por lo que necesitamos una forma de describirlos independientemente de las lenguas\n",
        "- Por ejemplo: Los sonidos del habla se determinan por los movimientos de la boca necesarios para producirlos\n",
        "- Las dos grandes categorías: Consonantes y Vocales\n",
        "- IPA es una representación escrita de los [sonidos](https://www.ipachart.com/) del habla"
      ]
    },
    {
      "cell_type": "markdown",
      "source": [
        "### Dataset: IPA-dict de open-dict\n",
        "\n",
        "- Diccionario de palabras para varios idiomas con su representación fonética\n",
        "- Representación simple, una palabra por renglon con el formato:\n",
        "\n",
        "```\n",
        "[PALABRA][TAB][IPA]\n",
        "\n",
        "Ejemplos\n",
        "mariguana\t/maɾiɣwana/\n",
        "zyuganov's   /ˈzjuɡɑnɑvz/, /ˈzuɡɑnɑvz/\n",
        "```\n",
        "\n",
        "- [Github repo](https://github.com/open-dict-data/ipa-dict)\n",
        "  - [ISO language codes](https://en.wikipedia.org/wiki/List_of_ISO_639-1_codes)\n",
        "  - URL: `https://raw.githubusercontent.com/open-dict-data/ipa-dict/master/data/<iso-lang>`"
      ],
      "metadata": {
        "id": "COzTRH3QXdWl"
      },
      "id": "COzTRH3QXdWl"
    },
    {
      "cell_type": "markdown",
      "source": [
        "### Explorando el corpus"
      ],
      "metadata": {
        "id": "c-Q91_zR859L"
      },
      "id": "c-Q91_zR859L"
    },
    {
      "cell_type": "code",
      "source": [
        "import requests as r\n",
        "\n",
        "response = r.get(\"https://raw.githubusercontent.com/open-dict-data/ipa-dict/master/data/en_US.txt\")\n",
        "#response.text\n",
        "response.text[500:1000]"
      ],
      "metadata": {
        "id": "dfCkH58988vq"
      },
      "id": "dfCkH58988vq",
      "execution_count": null,
      "outputs": []
    },
    {
      "cell_type": "code",
      "source": [
        "from pprint import pp\n",
        "pp(response.text[500:1000])"
      ],
      "metadata": {
        "colab": {
          "base_uri": "https://localhost:8080/"
        },
        "id": "wTGoSBgXmlos",
        "outputId": "6d2abb75-27a3-482b-b0b4-baed341e8e8d"
      },
      "id": "wTGoSBgXmlos",
      "execution_count": null,
      "outputs": [
        {
          "output_type": "stream",
          "name": "stdout",
          "text": [
            "('/ˌɑˈhus/\\n'\n",
            " 'aaron\\t/ˈɛɹən/\\n'\n",
            " \"aaron's\\t/ˈɛɹənz/\\n\"\n",
            " 'aarons\\t/ˈɛɹənz/\\n'\n",
            " 'aaronson\\t/ˈɑɹənsən/, /ˈɛɹənsən/\\n'\n",
            " \"aaronson's\\t/ˈɑɹənsənz/, /ˈɛɹənsənz/\\n\"\n",
            " 'aarti\\t/ˈɑɹˌti/\\n'\n",
            " 'aase\\t/ˈɑs/\\n'\n",
            " 'aasen\\t/ˈɑsən/\\n'\n",
            " 'ab\\t/ˈæb/, /ˈeɪˈbi/\\n'\n",
            " 'aba\\t/ˌeɪˌbiˈeɪ/\\n'\n",
            " 'ababa\\t/ˈɑbəbə/, /əˈbɑbə/\\n'\n",
            " 'abacha\\t/ˈæbəkə/\\n'\n",
            " 'aback\\t/əˈbæk/\\n'\n",
            " 'abaco\\t/ˈæbəˌkoʊ/\\n'\n",
            " 'abacus\\t/ˈæbəkəs/\\n'\n",
            " 'abad\\t/əˈbɑd/\\n'\n",
            " 'abadaka\\t/əˈbædəkə/\\n'\n",
            " 'abadi\\t/əˈbædi/\\n'\n",
            " 'abadie\\t/əˈbædi/\\n'\n",
            " 'abair\\t/əˈbɛɹ/\\n'\n",
            " 'abalkin\\t/əˈbɑɫkɪn/\\n'\n",
            " 'abalone\\t/ˌæbəˈɫoʊni/\\n'\n",
            " 'abalones\\t/ˌæbəˈɫoʊniz/\\n'\n",
            " 'abalos\\t/ɑˈbɑɫoʊz/\\n'\n",
            " 'abandon\\t/əˈbændən/\\n'\n",
            " 'abandoned\\t/əˈbændənd/\\n'\n",
            " 'abandoning\\t/ə')\n"
          ]
        }
      ]
    },
    {
      "cell_type": "code",
      "source": [
        "words = response.text.split(\"\\n\")\n",
        "print(words[:10])\n",
        "print(words[100])\n",
        "pp(words[-1])\n",
        "pp(words[-2])\n",
        "print(words[-3].split('\\t'))"
      ],
      "metadata": {
        "colab": {
          "base_uri": "https://localhost:8080/"
        },
        "id": "4ukj7OZRR02D",
        "outputId": "4ddfe65f-04bb-4cee-abc1-40ce5d2b8359"
      },
      "id": "4ukj7OZRR02D",
      "execution_count": null,
      "outputs": [
        {
          "output_type": "stream",
          "name": "stdout",
          "text": [
            "[\"'bout\\t/ˈbaʊt/\", \"'cause\\t/kəz/\", \"'course\\t/ˈkɔɹs/\", \"'cuse\\t/ˈkjuz/\", \"'em\\t/əm/\", \"'frisco\\t/ˈfɹɪskoʊ/\", \"'gain\\t/ˈɡɛn/\", \"'kay\\t/ˈkeɪ/\", \"'m\\t/əm/\", \"'n\\t/ən/\"]\n",
            "abbreviate\t/əˈbɹiviˌeɪt/\n",
            "''\n",
            "'zywicki\\t/zɪˈwɪki/'\n",
            "[\"zyuganov's\", '/ˈzjuɡɑnɑvz/, /ˈzuɡɑnɑvz/']\n"
          ]
        }
      ]
    },
    {
      "cell_type": "markdown",
      "source": [
        "### Obteniendo el corpus"
      ],
      "metadata": {
        "id": "cJMkPF06jJJp"
      },
      "id": "cJMkPF06jJJp"
    },
    {
      "cell_type": "code",
      "source": [
        "lang_codes = {\n",
        "  \"ar\": \"Arabic (Modern Standard)\",\n",
        "  \"de\": \"German\",\n",
        "  \"en_UK\": \"English (Received Pronunciation)\",\n",
        "  \"en_US\": \"English (General American)\",\n",
        "  \"eo\": \"Esperanto\",\n",
        "  \"es_ES\": \"Spanish (Spain)\",\n",
        "  \"es_MX\": \"Spanish (Mexico)\",\n",
        "  \"fa\": \"Persian\",\n",
        "  \"fi\": \"Finnish\",\n",
        "  \"fr_FR\": \"French (France)\",\n",
        "  \"fr_QC\": \"French (Québec)\",\n",
        "  \"is\": \"Icelandic\",\n",
        "  \"ja\": \"Japanese\",\n",
        "  \"jam\": \"Jamaican Creole\",\n",
        "  \"km\": \"Khmer\",\n",
        "  \"ko\": \"Korean\",\n",
        "  \"ma\": \"Malay (Malaysian and Indonesian)\",\n",
        "  \"nb\": \"Norwegian Bokmål\",\n",
        "  \"nl\": \"Dutch\",\n",
        "  \"or\": \"Odia\",\n",
        "  \"ro\": \"Romanian\",\n",
        "  \"sv\": \"Swedish\",\n",
        "  \"sw\": \"Swahili\",\n",
        "  \"tts\": \"Isan\",\n",
        "  \"vi_C\": \"Vietnamese (Central)\",\n",
        "  \"vi_N\": \"Vietnamese (Northern)\",\n",
        "  \"vi_S\": \"Vietnamese (Southern)\",\n",
        "  \"yue\": \"Cantonese\",\n",
        "  \"zh\": \"Mandarin\"\n",
        "}\n",
        "iso_lang_codes = list(lang_codes.keys())"
      ],
      "metadata": {
        "id": "YSRb9cx5jM8d"
      },
      "id": "YSRb9cx5jM8d",
      "execution_count": null,
      "outputs": []
    },
    {
      "cell_type": "code",
      "source": [
        "def response_to_dict(ipa_list: list) -> dict:\n",
        "    \"\"\"Parse to dict the list of word-IPA\n",
        "\n",
        "    Each element of text hae the format:\n",
        "    [WORD][TAB][IPA]\n",
        "\n",
        "    Parameters\n",
        "    ----------\n",
        "    ipa_list: list\n",
        "        List with each row of ipa-dict raw dataset file\n",
        "\n",
        "    Returns\n",
        "    -------\n",
        "    dict:\n",
        "        A dictionary with the word as key and the phonetic\n",
        "        representation as value\n",
        "    \"\"\"\n",
        "    result = {}\n",
        "    for item in ipa_list:\n",
        "        item_list = item.split(\"\\t\")\n",
        "        result[item_list[0]] = item_list[1]\n",
        "    return result\n",
        "\n",
        "def get_ipa_dict(iso_lang: str) -> dict:\n",
        "    \"\"\"Get ipa-dict file from Github\n",
        "\n",
        "    Parameters:\n",
        "    -----------\n",
        "    iso_lang:\n",
        "        Language as iso code\n",
        "\n",
        "    Results:\n",
        "    --------\n",
        "    dict:\n",
        "        Dictionary with words as keys and phonetic representation\n",
        "        as values for a given lang code\n",
        "    \"\"\"\n",
        "    response = r.get(f\"https://raw.githubusercontent.com/open-dict-data/ipa-dict/master/data/{iso_lang}.txt\")\n",
        "    raw_data = response.text.split(\"\\n\")\n",
        "    return response_to_dict(raw_data[:-1])\n",
        "\n",
        "def get_ipa_transcriptions(word: str, dataset: dict) -> list[str]:\n",
        "    \"\"\"Search for word in a given dataset of IPA phonetics\n",
        "\n",
        "    Given a word this function return the IPA transcriptions\n",
        "\n",
        "    Parameters:\n",
        "    -----------\n",
        "    word: str\n",
        "        A word to search in the dataset\n",
        "    dataset: dict\n",
        "        A dataset for a given language code\n",
        "    Returns\n",
        "    -------\n",
        "    \"\"\"\n",
        "    return dataset.get(word.lower(), \"NOT FOUND\").split(\", \")\n"
      ],
      "metadata": {
        "id": "3vfeGyqYkI9V"
      },
      "id": "3vfeGyqYkI9V",
      "execution_count": null,
      "outputs": []
    },
    {
      "cell_type": "code",
      "source": [
        "d = {\"apple\": 1}\n",
        "d.get('banana')"
      ],
      "metadata": {
        "id": "xc7dG6M1Rnuu"
      },
      "id": "xc7dG6M1Rnuu",
      "execution_count": null,
      "outputs": []
    },
    {
      "cell_type": "markdown",
      "source": [
        "#### Obtengamos un par de datasets"
      ],
      "metadata": {
        "id": "h9Ri8YmwMnxR"
      },
      "id": "h9Ri8YmwMnxR"
    },
    {
      "cell_type": "code",
      "source": [
        "dataset_es_mx = get_ipa_dict(\"es_MX\")\n",
        "dataset_en_us = get_ipa_dict(\"en_US\")"
      ],
      "metadata": {
        "id": "SDspkhcdLmtx"
      },
      "id": "SDspkhcdLmtx",
      "execution_count": null,
      "outputs": []
    },
    {
      "cell_type": "code",
      "source": [
        "print(f\"dog | {get_ipa_transcriptions('dog', dataset_en_us)}🐶\")\n",
        "print(f\"mariguana | {get_ipa_transcriptions('mariguana', dataset_es_mx)} 🪴\")"
      ],
      "metadata": {
        "colab": {
          "base_uri": "https://localhost:8080/"
        },
        "id": "abpslzJRMvD6",
        "outputId": "3f2fad68-98a7-4816-b925-09628757e0a5"
      },
      "id": "abpslzJRMvD6",
      "execution_count": null,
      "outputs": [
        {
          "output_type": "stream",
          "name": "stdout",
          "text": [
            "dog | ['/ˈdɔɡ/']🐶\n",
            "mariguana | ['/maɾiɣwana/'] 🪴\n"
          ]
        }
      ]
    },
    {
      "cell_type": "code",
      "source": [
        "print(f\"[es_MX] hola | {dataset_es_mx['hola']}\")\n",
        "print(f\"[en_US] hotel | {dataset_en_us['hotel']}\")"
      ],
      "metadata": {
        "id": "drw73avU9-ct",
        "colab": {
          "base_uri": "https://localhost:8080/"
        },
        "outputId": "6b964fed-fbb5-4f5c-e1a6-3f5651a7beb9"
      },
      "id": "drw73avU9-ct",
      "execution_count": 17,
      "outputs": [
        {
          "output_type": "stream",
          "name": "stdout",
          "text": [
            "[es_MX] hola | /ola/\n",
            "[en_US] hotel | /hoʊˈtɛɫ/\n"
          ]
        }
      ]
    },
    {
      "cell_type": "code",
      "source": [
        "def get_dataset() -> dict:\n",
        "    \"\"\"Download corpora from ipa-dict github\n",
        "\n",
        "    Given a list of iso lang codes download available datasets.\n",
        "\n",
        "    Returns\n",
        "    -------\n",
        "    dict\n",
        "        Lang codes as keys and dictionary with words-transcriptions\n",
        "        as values\n",
        "    \"\"\"\n",
        "    return {code: get_ipa_dict(code) for code in iso_lang_codes}\n",
        "\n",
        "dataset = get_dataset()"
      ],
      "metadata": {
        "id": "WcCmgrgnT9wK"
      },
      "id": "WcCmgrgnT9wK",
      "execution_count": null,
      "outputs": []
    },
    {
      "cell_type": "markdown",
      "source": [
        "### Busquedas básicas automatizada"
      ],
      "metadata": {
        "id": "LvIugo1xLc4O"
      },
      "id": "LvIugo1xLc4O"
    },
    {
      "cell_type": "code",
      "source": [
        "dataset.keys()"
      ],
      "metadata": {
        "colab": {
          "base_uri": "https://localhost:8080/"
        },
        "id": "ZEI9zRAHTV02",
        "outputId": "ee2b8cc9-53d1-4219-de5e-ff0706e7598c"
      },
      "id": "ZEI9zRAHTV02",
      "execution_count": null,
      "outputs": [
        {
          "output_type": "execute_result",
          "data": {
            "text/plain": [
              "dict_keys(['ar', 'de', 'en_UK', 'en_US', 'eo', 'es_ES', 'es_MX', 'fa', 'fi', 'fr_FR', 'fr_QC', 'is', 'ja', 'jam', 'km', 'ko', 'ma', 'nb', 'nl', 'or', 'ro', 'sv', 'sw', 'tts', 'vi_C', 'vi_N', 'vi_S', 'yue', 'zh'])"
            ]
          },
          "metadata": {},
          "execution_count": 12
        }
      ]
    },
    {
      "cell_type": "code",
      "execution_count": null,
      "id": "f5b7fbc2-4b95-4233-9fa6-17493bb2afb3",
      "metadata": {
        "tags": [],
        "colab": {
          "base_uri": "https://localhost:8080/"
        },
        "id": "f5b7fbc2-4b95-4233-9fa6-17493bb2afb3",
        "outputId": "0ab2e3ce-e3c3-4d16-bb82-3f5673b378ff"
      },
      "outputs": [
        {
          "output_type": "stream",
          "name": "stdout",
          "text": [
            "Representación fonética de palabras\n",
            "Lenguas disponibles: ['ar', 'de', 'en_UK', 'en_US', 'eo', 'es_ES', 'es_MX', 'fa', 'fi', 'fr_FR', 'fr_QC', 'is', 'ja', 'jam', 'km', 'ko', 'ma', 'nb', 'nl', 'or', 'ro', 'sv', 'sw', 'tts', 'vi_C', 'vi_N', 'vi_S', 'yue', 'zh']\n"
          ]
        }
      ],
      "source": [
        "print(\"Representación fonética de palabras\")\n",
        "\n",
        "print(f\"Lenguas disponibles: {(iso_lang_codes)}\")\n",
        "\n",
        "lang = input(\"lang>> \")\n",
        "print(f\"Selected language: {lang_codes[lang]}\") if lang else print(\"Adios 👋🏼\")\n",
        "while lang:\n",
        "    sub_dataset = dataset[lang]\n",
        "    query = input(f\"  [{lang}]word>> \")\n",
        "    results = get_ipa_transcriptions(query, sub_dataset)\n",
        "    print(query, \" | \", \", \".join(results))\n",
        "    while query:\n",
        "        query = input(f\"  [{lang}]word>> \")\n",
        "        print(query, sub_dataset.get(query, query))\n",
        "    lang = input(\"lang>> \")\n",
        "    print(f\"Selected language: {lang_codes[lang]}\") if lang else print(\"Adios 👋🏼\")"
      ]
    },
    {
      "cell_type": "markdown",
      "source": [
        "### Encontrando palabras que tengan terminación similar"
      ],
      "metadata": {
        "id": "8TLGghJWFbIZ"
      },
      "id": "8TLGghJWFbIZ"
    },
    {
      "cell_type": "code",
      "source": [
        "from collections import defaultdict\n",
        "#sentence = \"There once was a cat that ate a rat and after that sat on a yellow mat\"\n",
        "#sentence = \"the cat sat on the mat and looked at the rat.\"\n",
        "#sentence = \"If you drop the ball it will fall on the doll\"\n",
        "sentence = \"cuando juego con fuego siento como brilla la orilla de mi corazón\"\n",
        "\n",
        "#lang = \"en_US\"\n",
        "lang = \"es_MX\"\n",
        "words = sentence.split(\" \")\n",
        "\n",
        "# Get words and IPA transciptions map\n",
        "word_ipa_map = {}\n",
        "for word in words:\n",
        "    ipa_transcriptions = get_ipa_transcriptions(word=word, dataset=dataset.get(lang))\n",
        "    ipa_transcriptions = [_.strip(\"/\") for _ in ipa_transcriptions]\n",
        "    word_ipa_map.update({word: ipa_transcriptions })\n",
        "\n",
        "rhyming_patterns = defaultdict(list)\n",
        "for word, ipa_list in word_ipa_map.items():\n",
        "    for ipa in ipa_list:\n",
        "        ipa_pattern = ipa[-2:]\n",
        "        rhyming_patterns[ipa_pattern].append(word)\n",
        "\n",
        "for pattern, words in rhyming_patterns.items():\n",
        "    if len(set(words)) > 1:\n",
        "        print(f\"{pattern}:: {', '.join(words)}\")"
      ],
      "metadata": {
        "colab": {
          "base_uri": "https://localhost:8080/"
        },
        "id": "B1JaTm-lUy3c",
        "outputId": "aa62ff1f-2874-40e5-8269-37223af8f464"
      },
      "id": "B1JaTm-lUy3c",
      "execution_count": null,
      "outputs": [
        {
          "output_type": "stream",
          "name": "stdout",
          "text": [
            "ɣo:: juego, fuego\n",
            "on:: con, corazón\n",
            "ʎa:: brilla, orilla\n"
          ]
        }
      ]
    },
    {
      "cell_type": "code",
      "source": [],
      "metadata": {
        "id": "uJEtYnT0bnwN"
      },
      "id": "uJEtYnT0bnwN",
      "execution_count": null,
      "outputs": []
    },
    {
      "cell_type": "markdown",
      "source": [
        "### Práctica 1: Buscador equivalencias fonéticas en un corpus\n",
        "\n",
        "**Fecha de entrega: Domingo 27 de Agosto 2023 11:59pm**\n",
        "\n",
        "- Agregar un nuevo modo de búsqueda donde se extienda el comportamiento básico del buscador para ahora buscar por frases. Ejemplo:\n",
        "\n",
        "```\n",
        "[es_MX]>>> Hola que hace\n",
        " /ola/ /ke/ /ase/\n",
        "```\n",
        "\n",
        "- Optimizar el código para agregar los datasets en un \"cache\" a demanda y no descargar todo el corpus de un trancazo. Esto quiere decir que al inicio de la ejecución no habrá ningun dataset descargado. Mientras la usuaria vaya seleccionado idiomas los irá agregando a un cache local (puede ser persistente o en memoria). Ejemplo:\n",
        "\n",
        "```\n",
        "lang>> es_MX\n",
        "Corpus no encontrado. Descargando ...\n",
        "[es_MX]>>\n",
        "...\n",
        "lang>> en_US\n",
        "Corpus no encontrado. Descargando ...\n",
        "[en_US]>>\n",
        "...\n",
        "lang>> es_MX\n",
        "[es_MX]>>\n",
        "...\n",
        "```\n",
        "\n",
        "#### EXTRA\n",
        "\n",
        "- Mejorar la solución al escenario cuando no se encuentran las palabras en el dataset mostrando palabras similares. Ejemplo:\n",
        "\n",
        "```\n",
        "[es_MX]>> pero\n",
        "No se encontro <<pero>> en el dataset. Palabras aproximadas:\n",
        "perro /pero/\n",
        "perno /peɾno/\n",
        "[es_MX]>>\n",
        "```"
      ],
      "metadata": {
        "id": "bFfv_5FnANgs"
      },
      "id": "bFfv_5FnANgs"
    },
    {
      "cell_type": "code",
      "source": [
        "print(list(dataset_es_mx.keys())[:100])"
      ],
      "metadata": {
        "colab": {
          "base_uri": "https://localhost:8080/"
        },
        "id": "COTrSEXHs_WI",
        "outputId": "747fa697-df0d-462c-92c3-0a9d521e7583"
      },
      "id": "COTrSEXHs_WI",
      "execution_count": 45,
      "outputs": [
        {
          "output_type": "stream",
          "name": "stdout",
          "text": [
            "['a', 'aarónica', 'aarónicas', 'aarónico', 'aarónicos', 'aba', 'ababa', 'ababais', 'abábamos', 'ababan', 'ababas', 'ababilla', 'ababillaba', 'ababillabais', 'ababillábamos', 'ababillaban', 'ababillabas', 'ababillad', 'ababillada', 'ababilladas', 'ababillado', 'ababillados', 'ababilláis', 'ababillamos', 'ababillan', 'ababillando', 'ababillándome', 'ababillándonos', 'ababillándoos', 'ababillándose', 'ababillándote', 'ababillar', 'ababillará', 'ababillara', 'ababillarais', 'ababilláramos', 'ababillarán', 'ababillaran', 'ababillarás', 'ababillaras', 'ababillaré', 'ababillare', 'ababillaréis', 'ababillareis', 'ababilláremos', 'ababillaremos', 'ababillaren', 'ababillares', 'ababillaría', 'ababillaríais', 'ababillaríamos', 'ababillarían', 'ababillarías', 'ababillarme', 'ababillarnos', 'ababillaron', 'ababillaros', 'ababillarse', 'ababillarte', 'ababillas', 'ababillase', 'ababillaseis', 'ababillásemos', 'ababillasen', 'ababillases', 'ababillaste', 'ababillasteis', 'ababillé', 'ababille', 'ababilléis', 'ababillemos', 'ababillen', 'ababilles', 'ababilló', 'ababillo', 'abacera', 'abaceras', 'abacería', 'abacerías', 'abacero', 'abaceros', 'ábaco', 'ábacos', 'abad', 'abada', 'abadas', 'abadeja', 'abadejas', 'abadejo', 'abadejos', 'abadenga', 'abadengas', 'abadengo', 'abadengos', 'abaderna', 'abadernaba', 'abadernabais', 'abadernábamos', 'abadernaban', 'abadernabas']\n"
          ]
        }
      ]
    },
    {
      "cell_type": "markdown",
      "source": [
        "# Ejercicio 1. Agregar un nuevo modo de búsqueda donde se extienda el comportamiento básico del buscador para ahora buscar por frases."
      ],
      "metadata": {
        "id": "FqEEcTzLbtAu"
      },
      "id": "FqEEcTzLbtAu"
    },
    {
      "cell_type": "code",
      "source": [
        "def phrase_to_phon(query):\n",
        "    \"\"\"\n",
        "    Función que separa una frase y se busca su forma fonetica (Si existe)\n",
        "    Si no, busca opciones (se muestran 5) parecidas\n",
        "\n",
        "    Parameters\n",
        "    ----------\n",
        "    query: String\n",
        "        La frase que estamos analizando\n",
        "\n",
        "    Returns\n",
        "    -------\n",
        "    result: String\n",
        "        El resultado del análisis fonetico\n",
        "    \"\"\"\n",
        "    words = query.split()\n",
        "    result = \"\"\n",
        "    for word in words:\n",
        "      r = \"\".join(get_ipa_transcriptions(word, sub_dataset))\n",
        "      if r == \"NOT FOUND\":\n",
        "        print(\"No se encontró la palabra \",word,\" palabras similares:\")\n",
        "        result = result + \" [\" + \" \".join(find_similar(word)) + \"]\"\n",
        "      else:\n",
        "        result = result  + \" \" + r\n",
        "    return result\n",
        "\n",
        "\n",
        "\n",
        "iso_lang_codes_downloaded = {}\n",
        "\n",
        "def add_lang(lang):\n",
        "  \"\"\"\n",
        "Función que añade un corpus de lenguaje a nuestra colección de corpus\n",
        "Esta función se hace en memoria por lo que se van a bajar cada que se utilize\n",
        "el programa, pero se puede cambiar entre lenguajes y el programa \"recuerda\"\n",
        "cuáles han sido ya descargados y se muestran los lenguajes disponibles\n",
        "\n",
        "Parameters\n",
        "    ----------\n",
        "lang: String\n",
        "el lenguaje a descargar\n",
        "\"\"\"\n",
        "  if lang not in iso_lang_codes:\n",
        "    print(\"Lenguaje no disponible\")\n",
        "    return\n",
        "  if lang in iso_lang_codes and lang in list(iso_lang_codes_downloaded.keys()):\n",
        "    print(\"El lenguaje ya está cargado\")\n",
        "    return\n",
        "  else:\n",
        "    print(\"Corpus no encontrado. Descargando ...\")\n",
        "    iso_lang_codes_downloaded[lang] = get_ipa_dict(lang)\n",
        "\n",
        "\n",
        "\n",
        "\n",
        "\n",
        "print(\"Representación fonética de palabras\")\n",
        "print(f\"Corpus disponibles: {(iso_lang_codes)}\")\n",
        "print(f\"Corpus descargados: {(iso_lang_codes_downloaded)}\")\n",
        "lang = input(\"lang>> \")\n",
        "while lang:\n",
        "    add_lang(lang)\n",
        "    print(\"Corpus descargados\",list(iso_lang_codes_downloaded.keys()))\n",
        "    sub_dataset = iso_lang_codes_downloaded[lang]\n",
        "    print(f\"Selected language: {lang_codes[lang]}\") if lang else print(\"Adios 👋🏼\")\n",
        "    query = input(f\"  [{lang}]phrase>> \")\n",
        "    print(query, \" | \", phrase_to_phon(query))\n",
        "    while query:\n",
        "        query = input(f\"  [{lang}]phrase>> \")\n",
        "        print(query, \" | \", phrase_to_phon(query))\n",
        "    lang = input(\"lang>> \")\n",
        "    print(f\"Selected language: {lang_codes[lang]}\") if lang else print(\"Adios 👋🏼\")"
      ],
      "metadata": {
        "id": "kfA--12ebpjl",
        "colab": {
          "base_uri": "https://localhost:8080/"
        },
        "outputId": "b328a30a-000e-44f6-98e7-8239f7ed0dcc"
      },
      "id": "kfA--12ebpjl",
      "execution_count": 72,
      "outputs": [
        {
          "output_type": "stream",
          "name": "stdout",
          "text": [
            "Representación fonética de palabras\n",
            "Corpus disponibles: ['ar', 'de', 'en_UK', 'en_US', 'eo', 'es_ES', 'es_MX', 'fa', 'fi', 'fr_FR', 'fr_QC', 'is', 'ja', 'jam', 'km', 'ko', 'ma', 'nb', 'nl', 'or', 'ro', 'sv', 'sw', 'tts', 'vi_C', 'vi_N', 'vi_S', 'yue', 'zh']\n",
            "Corpus descargados: {}\n",
            "lang>> es_MX\n",
            "Corpus no encontrado. Descargando ...\n",
            "Corpus descargados ['es_MX']\n",
            "Selected language: Spanish (Mexico)\n",
            "  [es_MX]phrase>> cuar estara en la tiña\n",
            "No se encontró la palabra  cuar  palabras similares:\n",
            "No se encontró la palabra  estara  palabras similares:\n",
            "cuar estara en la tiña  |  [ciar cual cuan cucar cunar][destara esbara escara estaba estaca] /en/ /la/ /tiɲa/\n",
            "  [es_MX]phrase>> \n",
            "  |  \n",
            "lang>> es_MX\n",
            "Selected language: Spanish (Mexico)\n",
            "El lenguaje ya está cargado\n",
            "Corpus descargados ['es_MX']\n",
            "Selected language: Spanish (Mexico)\n",
            "  [es_MX]phrase>> \n",
            "  |  \n",
            "lang>> en_UK\n",
            "Selected language: English (Received Pronunciation)\n",
            "Corpus no encontrado. Descargando ...\n",
            "Corpus descargados ['es_MX', 'en_UK']\n",
            "Selected language: English (Received Pronunciation)\n",
            "  [en_UK]phrase>> i wan a big oranje apple \n",
            "No se encontró la palabra  i  palabras similares:\n",
            "No se encontró la palabra  a  palabras similares:\n",
            "No se encontró la palabra  oranje  palabras similares:\n",
            "i wan a big oranje apple   |  [ai b bi c d] /wˈæn/[ad ah ai an at] /bˈɪɡ/[orange] /ˈæpə‍l/\n",
            "  [en_UK]phrase>> \n",
            "  |  \n",
            "lang>> \n",
            "Adios 👋🏼\n"
          ]
        }
      ]
    },
    {
      "cell_type": "code",
      "source": [
        "#Función de Levenshtein genérica obtenida de\n",
        "# https://machinelearningknowledge.ai/ways-to-calculate-levenshtein-distance-edit-distance-in-python/\n",
        "\n",
        "def levenshtein_distance(s, t):\n",
        "    \"\"\"\n",
        "    Función que calcula la distancia de Levenshtein\n",
        "\n",
        "    Parameters\n",
        "    ----------\n",
        "    s: String\n",
        "        String que estamos comparando\n",
        "    r: String\n",
        "        String que estamos comparando\n",
        "\n",
        "    Returns\n",
        "    -------\n",
        "    d[m][n]: int\n",
        "        Distancia de Levenshtein entre s y t\n",
        "    \"\"\"\n",
        "    m = len(s)\n",
        "    n = len(t)\n",
        "    d = [[0] * (n + 1) for i in range(m + 1)]\n",
        "\n",
        "    for i in range(1, m + 1):\n",
        "        d[i][0] = i\n",
        "\n",
        "    for j in range(1, n + 1):\n",
        "        d[0][j] = j\n",
        "\n",
        "    for j in range(1, n + 1):\n",
        "        for i in range(1, m + 1):\n",
        "            if s[i - 1] == t[j - 1]:\n",
        "                cost = 0\n",
        "            else:\n",
        "                cost = 1\n",
        "            d[i][j] = min(d[i - 1][j] + 1,      # deletion\n",
        "                          d[i][j - 1] + 1,      # insertion\n",
        "                          d[i - 1][j - 1] + cost) # substitution\n",
        "\n",
        "    return d[m][n]\n",
        "\n",
        "\n",
        "def find_similar(query):\n",
        "  \"\"\"\n",
        "  Función que en un corpu busca palabras con distancia de Levenshtein variable\n",
        "\n",
        "  Si buscamos \"cuar\" obtenemos [ciar cual cuan cucar cunar]\n",
        "\n",
        "   Parameters\n",
        "    ----------\n",
        "    query: String\n",
        "        String que estamos buscando\n",
        "\n",
        "    Returns\n",
        "    -------\n",
        "    similar: List\n",
        "        Lista que contiene opciones a distancia de Levenshtein baja\n",
        "\n",
        "  \"\"\"\n",
        "  similar = []\n",
        "  max = 5                                         #Número de opciones posibles\n",
        "  for word in sub_dataset.keys():\n",
        "    if max == 0:\n",
        "      break\n",
        "    distance = levenshtein_distance(query,word)\n",
        "    if distance <= 1:                             #Distancia requerida (Entre mas mas alejada la palabra del corpus menos coincidencias)\n",
        "      if not word.upper() == query.upper():\n",
        "        similar.append(word)\n",
        "        max = max -1\n",
        "  return similar\n",
        "\n"
      ],
      "metadata": {
        "id": "7EcHbpX4BAVE"
      },
      "id": "7EcHbpX4BAVE",
      "execution_count": 71,
      "outputs": []
    }
  ],
  "metadata": {
    "kernelspec": {
      "display_name": "Python 3 (ipykernel)",
      "language": "python",
      "name": "python3"
    },
    "language_info": {
      "codemirror_mode": {
        "name": "ipython",
        "version": 3
      },
      "file_extension": ".py",
      "mimetype": "text/x-python",
      "name": "python",
      "nbconvert_exporter": "python",
      "pygments_lexer": "ipython3",
      "version": "3.11.3"
    },
    "colab": {
      "provenance": [],
      "toc_visible": true
    }
  },
  "nbformat": 4,
  "nbformat_minor": 5
}