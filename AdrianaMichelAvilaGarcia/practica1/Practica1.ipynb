{
 "cells": [
  {
   "cell_type": "markdown",
   "id": "6d0ee6d3-7418-431d-b5d8-5d1a3bbd2556",
   "metadata": {
    "tags": []
   },
   "source": [
    "# Práctica 1: Buscador equivalencias fonéticas en un corpus"
   ]
  },
  {
   "cell_type": "code",
   "execution_count": 1,
   "id": "17555958-97c7-48c7-81f1-c972d53c3612",
   "metadata": {
    "tags": []
   },
   "outputs": [],
   "source": [
    "import requests as r\n",
    "import difflib"
   ]
  },
  {
   "cell_type": "code",
   "execution_count": 2,
   "id": "18bd8f8c-c3a2-4145-a08a-ba910e8f888b",
   "metadata": {
    "tags": []
   },
   "outputs": [],
   "source": [
    "lang_codes = {\n",
    "  \"ar\": \"Arabic (Modern Standard)\",\n",
    "  \"de\": \"German\",\n",
    "  \"en_UK\": \"English (Received Pronunciation)\",\n",
    "  \"en_US\": \"English (General American)\",\n",
    "  \"eo\": \"Esperanto\",\n",
    "  \"es_ES\": \"Spanish (Spain)\",\n",
    "  \"es_MX\": \"Spanish (Mexico)\",\n",
    "  \"fa\": \"Persian\",\n",
    "  \"fi\": \"Finnish\",\n",
    "  \"fr_FR\": \"French (France)\",\n",
    "  \"fr_QC\": \"French (Québec)\",\n",
    "  \"is\": \"Icelandic\",\n",
    "  \"ja\": \"Japanese\",\n",
    "  \"jam\": \"Jamaican Creole\",\n",
    "  \"km\": \"Khmer\",\n",
    "  \"ko\": \"Korean\",\n",
    "  \"ma\": \"Malay (Malaysian and Indonesian)\",\n",
    "  \"nb\": \"Norwegian Bokmål\",\n",
    "  \"nl\": \"Dutch\",\n",
    "  \"or\": \"Odia\",\n",
    "  \"ro\": \"Romanian\",\n",
    "  \"sv\": \"Swedish\",\n",
    "  \"sw\": \"Swahili\",\n",
    "  \"tts\": \"Isan\",\n",
    "  \"vi_C\": \"Vietnamese (Central)\",\n",
    "  \"vi_N\": \"Vietnamese (Northern)\",\n",
    "  \"vi_S\": \"Vietnamese (Southern)\",\n",
    "  \"yue\": \"Cantonese\",\n",
    "  \"zh\": \"Mandarin\"\n",
    "}\n",
    "iso_lang_codes = list(lang_codes.keys())"
   ]
  },
  {
   "cell_type": "markdown",
   "id": "9d4e19bf-cd86-4351-b697-3c1a73582cae",
   "metadata": {},
   "source": [
    "Algunas funciones auxiliares"
   ]
  },
  {
   "cell_type": "code",
   "execution_count": 3,
   "id": "41adb234-386d-4e19-a1bc-54f691c2ca7f",
   "metadata": {
    "tags": []
   },
   "outputs": [],
   "source": [
    "def response_to_dict(ipa_list: list) -> dict:\n",
    "    \"\"\"Parse to dict the list of word-IPA\n",
    "\n",
    "    Each element of text hae the format:\n",
    "    [WORD][TAB][IPA]\n",
    "\n",
    "    Parameters\n",
    "    ----------\n",
    "    ipa_list: list\n",
    "        List with each row of ipa-dict raw dataset file\n",
    "\n",
    "    Returns\n",
    "    -------\n",
    "    dict:\n",
    "        A dictionary with the word as key and the phonetic\n",
    "        representation as value\n",
    "    \"\"\"\n",
    "    result = {}\n",
    "    for item in ipa_list:\n",
    "        item_list = item.split(\"\\t\")\n",
    "        result[item_list[0]] = item_list[1]\n",
    "    return result\n",
    "\n",
    "def get_ipa_transcriptions(word: str, dataset: dict) -> list[str]:\n",
    "    \"\"\"Search for word in a given dataset of IPA phonetics\n",
    "\n",
    "    Given a word this function return the IPA transcriptions\n",
    "\n",
    "    Parameters:\n",
    "    -----------\n",
    "    word: str\n",
    "        A word to search in the dataset\n",
    "    dataset: dict\n",
    "        A dataset for a given language code\n",
    "    Returns\n",
    "    -------\n",
    "    \"\"\"\n",
    "    return dataset.get(word.lower(), \"NOT FOUND\").split(\", \")"
   ]
  },
  {
   "cell_type": "markdown",
   "id": "89ad7e3b-0a54-46dd-8887-657d9d83c7e1",
   "metadata": {},
   "source": [
    "## Función para traer los diccionarios usando una \"cache\"\n",
    "\n",
    "Optimizar el código para agregar los datasets en un \"cache\" a demanda y no descargar todo el corpus de un trancazo. Esto quiere decir que al inicio de la ejecución no habrá ningun dataset descargado. Mientras la usuaria vaya seleccionado idiomas los irá agregando a un cache local (puede ser persistente o en memoria). Ejemplo:\n",
    "\n",
    "```\n",
    "lang>> es_MX\n",
    "Corpus no encontrado. Descargando ...\n",
    "[es_MX]>>\n",
    "...\n",
    "lang>> en_US\n",
    "Corpus no encontrado. Descargando ...\n",
    "[en_US]>>\n",
    "...\n",
    "lang>> es_MX\n",
    "[es_MX]>>\n",
    "...\n",
    "````"
   ]
  },
  {
   "cell_type": "code",
   "execution_count": 4,
   "id": "7d8d8611-22a4-482b-8043-22800495355e",
   "metadata": {
    "tags": []
   },
   "outputs": [],
   "source": [
    "# Diccionario en memoria para almacenar los datasets descargados\n",
    "cache = {}\n",
    "\n",
    "def get_ipa_dict_cached(iso_lang: str) -> dict:\n",
    "    \"\"\"Obtener archivo ipa-dict desde Github o caché local.\n",
    "\n",
    "    Parámetros:\n",
    "    -----------\n",
    "    iso_lang:\n",
    "        Lenguaje como código iso\n",
    "\n",
    "    Resultados:\n",
    "    --------\n",
    "    dict:\n",
    "        Diccionario con palabras como claves y representación fonética\n",
    "        como valores para un código de idioma dado.\n",
    "    \"\"\"\n",
    "    if iso_lang in cache:\n",
    "        print(f\"Usando caché para {iso_lang}\")\n",
    "        return cache[iso_lang]\n",
    "    \n",
    "    print(f\"Corpus para {iso_lang} no encontrado. Descargando...\")\n",
    "    response = r.get(f\"https://raw.githubusercontent.com/open-dict-data/ipa-dict/master/data/{iso_lang}.txt\")\n",
    "    if response.status_code == 200:\n",
    "        raw_data = response.text.split(\"\\n\")\n",
    "        data_dict = response_to_dict(raw_data[:-1])\n",
    "        cache[iso_lang] = data_dict\n",
    "        print(\"... listo\")\n",
    "        return data_dict\n",
    "    else:\n",
    "        print(f\"Corpus no encontrado para {iso_lang}.\")\n",
    "        return {}"
   ]
  },
  {
   "cell_type": "markdown",
   "id": "fa63c5fb-7c2e-481b-a9f3-5aa236237b2b",
   "metadata": {},
   "source": [
    "Función para que el usuario ingrese lenguajes válidos:"
   ]
  },
  {
   "cell_type": "code",
   "execution_count": 5,
   "id": "dede1814-483b-43bd-b1e4-9d9e3e185dbc",
   "metadata": {
    "tags": []
   },
   "outputs": [],
   "source": [
    "def get_valid_language():\n",
    "    print(f\"Elige uno de los siguientes idiomas: {(iso_lang_codes)}\")\n",
    "    print(\"Para salir sólo presiona enter\")\n",
    "\n",
    "    lang = input(\"lang>> \")\n",
    "    while lang:\n",
    "        if lang in lang_codes:\n",
    "            return lang\n",
    "        else:\n",
    "            lang = input(\"lang>> \")\n",
    "    return lang"
   ]
  },
  {
   "cell_type": "markdown",
   "id": "1b9dd9d4-1d8b-4828-86f0-014abee5045a",
   "metadata": {},
   "source": [
    "## Modo de búsqueda por frases\n",
    "\n",
    "Agregar un nuevo modo de búsqueda donde se extienda el comportamiento básico del buscador para ahora buscar por frases. Ejemplo:\n",
    "\n",
    "```\n",
    "[es_MX]>>> Hola que hace\n",
    " /ola/ /ke/ /ase/\n",
    "```"
   ]
  },
  {
   "cell_type": "code",
   "execution_count": 6,
   "id": "dac4c262-7ff2-459d-bb44-9686f45f1b0f",
   "metadata": {
    "tags": []
   },
   "outputs": [],
   "source": [
    "def phrase_to_ipa(phrase: str, dataset: dict) -> str:\n",
    "    \"\"\"Get the IPA representation of a phrase\n",
    "\n",
    "    Given a string, split it in words (by whitespaces), find the IPA representation of \n",
    "    each word (only take the first representation), and return a new string replacing\n",
    "    each word in te oroginal phrase with its IPA translation.\n",
    "\n",
    "    Returns\n",
    "    -------\n",
    "    str\n",
    "        Representation in IPA of the original phrase\n",
    "    \"\"\"\n",
    "    words = phrase.split(' ')\n",
    "    ipa_phrase = ''\n",
    "    for word in words:\n",
    "        ipa_phrase += get_ipa_transcriptions(word, dataset)[0]\n",
    "        ipa_phrase += ' '\n",
    "    return ipa_phrase.rstrip()"
   ]
  },
  {
   "cell_type": "code",
   "execution_count": 7,
   "id": "a610e846-1ac0-4a14-a21a-0923819abb2b",
   "metadata": {
    "tags": []
   },
   "outputs": [
    {
     "name": "stdout",
     "output_type": "stream",
     "text": [
      "Representación fonética de frases\n",
      "Elige uno de los siguientes idiomas: ['ar', 'de', 'en_UK', 'en_US', 'eo', 'es_ES', 'es_MX', 'fa', 'fi', 'fr_FR', 'fr_QC', 'is', 'ja', 'jam', 'km', 'ko', 'ma', 'nb', 'nl', 'or', 'ro', 'sv', 'sw', 'tts', 'vi_C', 'vi_N', 'vi_S', 'yue', 'zh']\n",
      "Para salir sólo presiona enter\n"
     ]
    },
    {
     "name": "stdin",
     "output_type": "stream",
     "text": [
      "lang>>  hola que hace\n",
      "lang>>  \n"
     ]
    },
    {
     "name": "stdout",
     "output_type": "stream",
     "text": [
      "Adios 👋🏼\n"
     ]
    }
   ],
   "source": [
    "print(\"Representación fonética de frases\")\n",
    "\n",
    "lang = get_valid_language()\n",
    "print(f\"Selected language: {lang_codes[lang]}\") if lang else print(\"Adios 👋🏼\")\n",
    "while lang:\n",
    "    sub_dataset = get_ipa_dict_cached(lang)\n",
    "    query = input(f\"  [{lang}]word>> \")\n",
    "    print(query, \" | \", phrase_to_ipa(query, sub_dataset))\n",
    "    while query:\n",
    "        query = input(f\"  [{lang}]word>> \")\n",
    "        print(query, \" | \", phrase_to_ipa(query, sub_dataset))\n",
    "    lang = get_valid_language()\n",
    "    print(f\"Selected language: {lang_codes[lang]}\") if lang else print(\"Adios 👋🏼\")"
   ]
  },
  {
   "cell_type": "markdown",
   "id": "ac405719-66a4-41e6-8342-da729dc5c470",
   "metadata": {
    "tags": []
   },
   "source": [
    "## Modo de búsqueda normal con sugerencia de palabras similares\n",
    "\n",
    "Mejorar la solución al escenario cuando no se encuentran las palabras en el dataset mostrando palabras similares. Este modo sólo acepta palabras, no frases. Ejemplo:\n",
    "\n",
    "```\n",
    "[es_MX]>> pero\n",
    "No se encontro <<pero>> en el dataset. Palabras aproximadas:\n",
    "perro /pero/\n",
    "perno /peɾno/\n",
    "[es_MX]>>\n",
    "```"
   ]
  },
  {
   "cell_type": "code",
   "execution_count": 10,
   "id": "0a07c9ae-f6f6-431c-add8-39f1685124bd",
   "metadata": {
    "tags": []
   },
   "outputs": [],
   "source": [
    "def find_similar_words(input_word, dataset, threshold=0.6, amount=5):\n",
    "    \"\"\"Get list of similar words\n",
    "\n",
    "    Return a list of the best “good enough” matches of string input_word in the given dataset.\n",
    "\n",
    "    Returns\n",
    "    -------\n",
    "    list[str]\n",
    "        RList of similar words\n",
    "    \"\"\"\n",
    "    similar_words = difflib.get_close_matches(input_word, dataset.keys(), n=amount, cutoff=threshold)\n",
    "    return similar_words\n",
    "\n",
    "def print_word_transcription(input_word, dataset):\n",
    "    \"\"\" Prints the transcription results for the given input_word and dataset \"\"\"\n",
    "    results = get_ipa_transcriptions(input_word, dataset)\n",
    "    print(input_word, \" | \", \", \".join(results))\n",
    "    \n",
    "def search_word(input_word, dataset):\n",
    "    \"\"\" \n",
    "    Searches for the given input_word in the dataset, and depending on whether the word is found\n",
    "    or not, prints the IPA transcriptions of the word, or of its similar words.\n",
    "    \"\"\"\n",
    "    if input_word in dataset:\n",
    "        print_word_transcription(input_word, dataset)\n",
    "    else:\n",
    "        print(f\"No se encontró {input_word} en el dataset. Buscando palabras aproximadas...\")\n",
    "        similar_words = find_similar_words(input_word, dataset)\n",
    "        if len(similar_words)>0:\n",
    "            print(\"Palabras aproximadas:\")\n",
    "            for word in similar_words:\n",
    "                print_word_transcription(word, dataset)\n",
    "        else:\n",
    "            print(\"No se encontraron palabras parecidas.\")"
   ]
  },
  {
   "cell_type": "code",
   "execution_count": 11,
   "id": "b8b599ca-7565-4c1f-9290-21b19a7c2bb1",
   "metadata": {
    "tags": []
   },
   "outputs": [
    {
     "name": "stdout",
     "output_type": "stream",
     "text": [
      "Representación fonética de palabras\n",
      "Elige uno de los siguientes idiomas: ['ar', 'de', 'en_UK', 'en_US', 'eo', 'es_ES', 'es_MX', 'fa', 'fi', 'fr_FR', 'fr_QC', 'is', 'ja', 'jam', 'km', 'ko', 'ma', 'nb', 'nl', 'or', 'ro', 'sv', 'sw', 'tts', 'vi_C', 'vi_N', 'vi_S', 'yue', 'zh']\n",
      "Para salir sólo presiona enter\n"
     ]
    },
    {
     "name": "stdin",
     "output_type": "stream",
     "text": [
      "lang>>  de\n"
     ]
    },
    {
     "name": "stdout",
     "output_type": "stream",
     "text": [
      "Selected language: German\n",
      "Corpus para de no encontrado. Descargando...\n",
      "... listo\n"
     ]
    },
    {
     "name": "stdin",
     "output_type": "stream",
     "text": [
      "  [de]word>>  hallo\n"
     ]
    },
    {
     "name": "stdout",
     "output_type": "stream",
     "text": [
      "hallo  |  /haˈloː/, /ˈhalo/\n"
     ]
    },
    {
     "name": "stdin",
     "output_type": "stream",
     "text": [
      "  [de]word>>  halllo\n"
     ]
    },
    {
     "name": "stdout",
     "output_type": "stream",
     "text": [
      "No se encontró halllo en el dataset. Buscando palabras aproximadas...\n",
      "Palabras aproximadas:\n",
      "hallo  |  /haˈloː/, /ˈhalo/\n",
      "hall  |  /hal/\n",
      "haltlos  |  /ˈhaltloːs/\n",
      "halo-  |  /halo/\n",
      "hallt  |  /halt/\n"
     ]
    },
    {
     "name": "stdin",
     "output_type": "stream",
     "text": [
      "  [de]word>>  \n"
     ]
    },
    {
     "name": "stdout",
     "output_type": "stream",
     "text": [
      "No se encontró  en el dataset. Buscando palabras aproximadas...\n",
      "No se encontraron palabras parecidas.\n",
      "Elige uno de los siguientes idiomas: ['ar', 'de', 'en_UK', 'en_US', 'eo', 'es_ES', 'es_MX', 'fa', 'fi', 'fr_FR', 'fr_QC', 'is', 'ja', 'jam', 'km', 'ko', 'ma', 'nb', 'nl', 'or', 'ro', 'sv', 'sw', 'tts', 'vi_C', 'vi_N', 'vi_S', 'yue', 'zh']\n",
      "Para salir sólo presiona enter\n"
     ]
    },
    {
     "name": "stdin",
     "output_type": "stream",
     "text": [
      "lang>>  \n"
     ]
    },
    {
     "name": "stdout",
     "output_type": "stream",
     "text": [
      "Adios 👋🏼\n"
     ]
    }
   ],
   "source": [
    "print(\"Representación fonética de palabras\")\n",
    "\n",
    "lang = get_valid_language()\n",
    "print(f\"Selected language: {lang_codes[lang]}\") if lang else print(\"Adios 👋🏼\")\n",
    "while lang:\n",
    "    dataset = get_ipa_dict_cached(lang)\n",
    "    query = input(f\"  [{lang}]word>> \")\n",
    "    search_word(query, dataset)\n",
    "    while query:\n",
    "        query = input(f\"  [{lang}]word>> \")\n",
    "        search_word(query, dataset)\n",
    "    lang = get_valid_language()\n",
    "    print(f\"Selected language: {lang_codes[lang]}\") if lang else print(\"Adios 👋🏼\")"
   ]
  }
 ],
 "metadata": {
  "kernelspec": {
   "display_name": "Python 3 (ipykernel)",
   "language": "python",
   "name": "python3"
  },
  "language_info": {
   "codemirror_mode": {
    "name": "ipython",
    "version": 3
   },
   "file_extension": ".py",
   "mimetype": "text/x-python",
   "name": "python",
   "nbconvert_exporter": "python",
   "pygments_lexer": "ipython3",
   "version": "3.10.12"
  }
 },
 "nbformat": 4,
 "nbformat_minor": 5
}
