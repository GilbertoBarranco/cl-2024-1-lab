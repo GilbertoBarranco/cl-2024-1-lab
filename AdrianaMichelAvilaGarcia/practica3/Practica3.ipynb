{
 "cells": [
  {
   "cell_type": "markdown",
   "id": "8fa86f44-a59a-4deb-918e-1946a93b987d",
   "metadata": {},
   "source": [
    "# Práctica 3: Implementación de un etiquetador POS para Otomí usando CRFs\n",
    "- Implementar un etiquetador POS para el idioma otomí\n",
    "    - Escenario retador de bajos recursos lingüísticos (low-resources)\n",
    "    - Considerar que las feature functions **deben** cambiar (van acorde a la lengua)\n",
    "    - Pueden usar bibliotecas conocidas para la implementación\n",
    "- Comparar los resultados obtenidos con el CRF visto en clase\n",
    "    - Reportar accuracy, precision, recall y F1-score\n",
    "    - Mostrar un ejemplo de oracion etiquetada (Debe ser una oracion del conjunto de pruebas). Formato libre\n",
    "\n",
    "#### Extra\n",
    "- Hacer un análisis breve de los resultados\n",
    "    - ¿Qué diferencias encuentran entre trabajar con textos en español y en Otomí?\n",
    "    - ¿Se obtuvieron buenos o malos resultados? ¿Porqué?"
   ]
  },
  {
   "cell_type": "code",
   "execution_count": 1,
   "id": "94ba43a3-cbee-44b0-84f6-2bee4c087373",
   "metadata": {
    "tags": []
   },
   "outputs": [],
   "source": [
    "from sklearn_crfsuite import CRF\n",
    "from sklearn.model_selection import train_test_split\n",
    "from inspect import Attribute"
   ]
  },
  {
   "cell_type": "markdown",
   "id": "b4e80744-c290-4fbf-99f8-a7ba86998848",
   "metadata": {
    "tags": []
   },
   "source": [
    "## Preprocesamiento"
   ]
  },
  {
   "cell_type": "markdown",
   "id": "9c6cefca-c4c6-4f06-a417-a159d152ba1e",
   "metadata": {
    "tags": []
   },
   "source": [
    "### Lectura del corpus"
   ]
  },
  {
   "cell_type": "code",
   "execution_count": 2,
   "id": "87e2908d-def6-4c55-b8c4-9121fd774b3c",
   "metadata": {
    "tags": []
   },
   "outputs": [],
   "source": [
    "path = './corpus_otomi'"
   ]
  },
  {
   "cell_type": "code",
   "execution_count": 3,
   "id": "8272919d-ea3f-4bfe-9142-2ee505a86c97",
   "metadata": {
    "tags": []
   },
   "outputs": [
    {
     "data": {
      "text/plain": [
       "[[['n', 'psd'], ['dó', '1.cpl'], ['phu̱di', 'stem'], 'v'],\n",
       " [['dó', '1.cpl'], ['pe̱phí', 'stem'], 'v'],\n",
       " [['bi', '3.cpl'], ['t', 'lig'], [\"'u̱n\", 'stem'], ['gí', '1.obj'], 'v'],\n",
       " [['bi', '3.cpl'], ['mähtratá', 'stem'], ['gí', '1.obj'], 'v'],\n",
       " [['ko', 'stem'], 'obl'],\n",
       " [['chíkóhté', 'stem'], 'obl']]"
      ]
     },
     "execution_count": 3,
     "metadata": {},
     "output_type": "execute_result"
    }
   ],
   "source": [
    "import ast\n",
    "encoding = 'utf-8'\n",
    "\n",
    "try:\n",
    "    with open(path, 'r', encoding=encoding) as f:\n",
    "        contents = f.readlines()\n",
    "        parsed_corpus = [ ast.literal_eval(x) for x in contents ]\n",
    "except UnicodeDecodeError:\n",
    "    print(\"Error: Unable to decode the file with the specified encoding.\")\n",
    "    \n",
    "parsed_corpus[0]"
   ]
  },
  {
   "cell_type": "markdown",
   "id": "6b63cfd1-a361-4fe6-8417-93d3164127bc",
   "metadata": {},
   "source": [
    "Cada elemento del corpus es una lista de palabras. Cada palabra está representada como una lista de tamaño *n* donde los primeros *n-1* elementos son pares *[ morfema, etiqueta]*, y el *n*-ésimo elemento es la etiqueta POS de la palabra. \n",
    "\n",
    "Ahora vamos a separar el corpus en las listas X e Y."
   ]
  },
  {
   "cell_type": "code",
   "execution_count": 4,
   "id": "7fbeebf4-4592-42af-bf2b-b8141f81ce5f",
   "metadata": {
    "tags": []
   },
   "outputs": [
    {
     "name": "stdout",
     "output_type": "stream",
     "text": [
      "Y: ['v', 'v', 'v', 'v', 'obl', 'obl']\n",
      "X:\n"
     ]
    },
    {
     "data": {
      "text/plain": [
       "[[['n', 'psd'], ['dó', '1.cpl'], ['phu̱di', 'stem']],\n",
       " [['dó', '1.cpl'], ['pe̱phí', 'stem']],\n",
       " [['bi', '3.cpl'], ['t', 'lig'], [\"'u̱n\", 'stem'], ['gí', '1.obj']],\n",
       " [['bi', '3.cpl'], ['mähtratá', 'stem'], ['gí', '1.obj']],\n",
       " [['ko', 'stem']],\n",
       " [['chíkóhté', 'stem']]]"
      ]
     },
     "execution_count": 4,
     "metadata": {},
     "output_type": "execute_result"
    }
   ],
   "source": [
    "X = [ [word[:-1] for word in sent] for sent in parsed_corpus ]\n",
    "Y = [ [word[-1] for word in sent] for sent in parsed_corpus ]\n",
    "\n",
    "print(\"Y:\", Y[0])\n",
    "print(\"X:\")\n",
    "X[0]"
   ]
  },
  {
   "cell_type": "markdown",
   "id": "58814de2-806e-4a60-a79d-c59127470b02",
   "metadata": {},
   "source": [
    "Revisamos todas las etiquetas en Y:"
   ]
  },
  {
   "cell_type": "code",
   "execution_count": 5,
   "id": "286d9cd4-8708-4738-9798-d62b16ab7c83",
   "metadata": {
    "tags": []
   },
   "outputs": [
    {
     "name": "stdout",
     "output_type": "stream",
     "text": [
      "['v', 'obl', 'det', 'cnj', 'neg', 'n', 'unkwn', 'it', 'dem', 'p.loc', 'prt', 'mexico', 'conj.adv', 'dec', 'tapanco', 'gen', 'lim', 'dim', 'conj', 'cord', 'aff', 'loc', 'san', 'andrés', 'cond', 'buena.vista', 'pascuala', 'nada.más', 'toluca', 'cnj.adv', 'zapata', 'calvario', 'bautisterio', 'adj', 'regular/v', 'chente', 'cristo', 'emilio', 'adv', 'juan', 'pato', 'luis', 'mextepec', 'chalma']\n"
     ]
    }
   ],
   "source": [
    "all_tags = []\n",
    "for tags in Y:\n",
    "    for tag in tags:\n",
    "        if tag in all_tags:\n",
    "            continue\n",
    "        else:\n",
    "            all_tags.append(tag)\n",
    "\n",
    "print(all_tags)"
   ]
  },
  {
   "cell_type": "markdown",
   "id": "f008c08e-98cb-46f2-b99c-87f2c0c5a3e4",
   "metadata": {},
   "source": [
    "Notamos que hay varias que parecen estar incorrectas, así que las corregimos asignándoles el valor que creemos que deberían tener."
   ]
  },
  {
   "cell_type": "code",
   "execution_count": 6,
   "id": "926ccc63-6fda-4760-b484-fa05f856efe5",
   "metadata": {
    "tags": []
   },
   "outputs": [],
   "source": [
    "# Diccionario con las etiquetas que creemos que corresponden a las que tenemos\n",
    "corrected_tags = { \n",
    "    'v': 'v',\n",
    "    'obl': 'obl',\n",
    "    'det': 'det',\n",
    "    'cnj': 'cnj',\n",
    "    'neg': 'neg',\n",
    "    'n': 'n',\n",
    "    'unkwn': 'unkwn',\n",
    "    'it': 'unkwn',\n",
    "    'dem': 'dem',\n",
    "    'p.loc': 'p.loc',\n",
    "    'prt': 'prt',\n",
    "    'mexico': 'n',\n",
    "    'conj.adv': 'conj.adv',\n",
    "    'dec': 'dec',\n",
    "    'tapanco': 'n',\n",
    "    'gen': 'gen',\n",
    "    'lim': 'lim',\n",
    "    'dim': 'dim',\n",
    "    'conj': 'conj',\n",
    "    'cord': 'cord',\n",
    "    'aff': 'aff',\n",
    "    'loc': 'loc',\n",
    "    'san': 'n',\n",
    "    'andrés': 'n',\n",
    "    'cond': 'cond',\n",
    "    'buena.vista': 'n',\n",
    "    'pascuala': 'n',\n",
    "    'nada.más': 'unkwn',\n",
    "    'toluca': 'n',\n",
    "    'cnj.adv': 'cnj.adv',\n",
    "    'zapata': 'n',\n",
    "    'calvario': 'n',\n",
    "    'bautisterio': 'n',\n",
    "    'adj': 'adj',\n",
    "    'regular/v': 'regular/v',\n",
    "    'chente': 'unkwn',\n",
    "    'cristo': 'n',\n",
    "    'emilio': 'n',\n",
    "    'adv': 'adv',\n",
    "    'juan': 'n',\n",
    "    'pato': 'n',\n",
    "    'luis': 'n',\n",
    "    'mextepec': 'n',\n",
    "    'chalma': 'unkwn'\n",
    "}"
   ]
  },
  {
   "cell_type": "code",
   "execution_count": 7,
   "id": "75c32192-89f6-40af-907d-aea12a266d58",
   "metadata": {
    "tags": []
   },
   "outputs": [
    {
     "data": {
      "text/plain": [
       "[['v', 'v', 'v', 'v', 'obl', 'obl'],\n",
       " ['v', 'det', 'obl', 'cnj', 'neg', 'v', 'v', 'cnj', 'v'],\n",
       " ['obl', 'obl', 'v'],\n",
       " ['cnj', 'v', 'cnj', 'v'],\n",
       " ['neg', 'v', 'v']]"
      ]
     },
     "execution_count": 7,
     "metadata": {},
     "output_type": "execute_result"
    }
   ],
   "source": [
    "Y_corrected = [ [ corrected_tags[tag] for tag in tags ] for tags in Y ]\n",
    "Y_corrected[:5]"
   ]
  },
  {
   "cell_type": "markdown",
   "id": "ee0a4a20-c50a-4092-9b02-06fe42184a38",
   "metadata": {
    "tags": []
   },
   "source": [
    "### Feature extraction"
   ]
  },
  {
   "cell_type": "code",
   "execution_count": 8,
   "id": "b9dc2866-8b20-4d15-af05-acef243aad26",
   "metadata": {
    "tags": []
   },
   "outputs": [
    {
     "data": {
      "text/plain": [
       "'ndóphu̱di'"
      ]
     },
     "execution_count": 8,
     "metadata": {},
     "output_type": "execute_result"
    }
   ],
   "source": [
    "def list_to_word(list):\n",
    "    return ''.join(item[0] for item in list)\n",
    "\n",
    "list_to_word(X[0][0])"
   ]
  },
  {
   "cell_type": "code",
   "execution_count": 9,
   "id": "b25a9a1b-a99c-4ff6-8a79-a35708205136",
   "metadata": {
    "tags": []
   },
   "outputs": [
    {
     "data": {
      "text/plain": [
       "\"ndóphu̱di dópe̱phí bit'u̱ngí bimähtratágí ko chíkóhté\""
      ]
     },
     "execution_count": 9,
     "metadata": {},
     "output_type": "execute_result"
    }
   ],
   "source": [
    "def sent_to_string(sent):\n",
    "    return ' '.join(list_to_word(list_word) for list_word in sent)\n",
    "\n",
    "sent_to_string(X[0])"
   ]
  },
  {
   "cell_type": "code",
   "execution_count": 10,
   "id": "75ff4de4-b897-4781-b11b-dada9d5d1906",
   "metadata": {
    "tags": []
   },
   "outputs": [],
   "source": [
    "def get_stem_index_from_glosa(word_data):\n",
    "    \"\"\"\n",
    "    Parámetros: una lista respresentando una palabra, en donde los elementos son morfemas y su etiqueta.\n",
    "    \"\"\"\n",
    "    # Find the index of the \"stem\" morpheme\n",
    "    stem_index = None\n",
    "    for i, (word, morpheme) in enumerate(word_data):\n",
    "        if morpheme == 'stem':\n",
    "            stem_index = i\n",
    "            break\n",
    "    return stem_index"
   ]
  },
  {
   "cell_type": "code",
   "execution_count": 11,
   "id": "536ad1c0-ca4c-4261-898b-d6fbc60b1b45",
   "metadata": {
    "tags": []
   },
   "outputs": [],
   "source": [
    "def get_features_from_glosa(word_data):\n",
    "    \"\"\"\n",
    "    Parámetros: una lista respresentando una palabra, en donde los elementos son morfemas y su etiqueta.\n",
    "    \"\"\"\n",
    "    word_dict = {}\n",
    "\n",
    "    stem_index = get_stem_index_from_glosa(word_data)\n",
    "\n",
    "    if stem_index is not None:\n",
    "        stem = word_data[stem_index][0]\n",
    "        prev_morphemes = [word_data[i][0] for i in range(stem_index) if i != stem_index][::-1]\n",
    "        next_morphemes = [word_data[i][0] for i in range(stem_index + 1, len(word_data)) if i != stem_index]\n",
    "\n",
    "        word_dict = {\n",
    "            'stem': stem,\n",
    "            'morphemes_before_stem': len(prev_morphemes),\n",
    "            'morphemes_after_stem': len(next_morphemes)\n",
    "        }\n",
    "\n",
    "        if len(prev_morphemes) > 0:\n",
    "            word_dict['prev_morpheme_1']= prev_morphemes[0]\n",
    "            if len(prev_morphemes) > 1:\n",
    "                word_dict['prev_morpheme_2']= prev_morphemes[1]\n",
    "\n",
    "        if len(next_morphemes) > 0:\n",
    "            word_dict['next_morpheme_1']= next_morphemes[0]\n",
    "            if len(next_morphemes) > 1:\n",
    "                word_dict['next_morpheme_2']= next_morphemes[1]\n",
    "\n",
    "    if len(word_data) > 0:\n",
    "        word_dict['first_morpheme']= word_data[0][0]\n",
    "        word_dict['last_morpheme']= word_data[-1][0]\n",
    "    \n",
    "    word_dict['morphemes_cant']= len(word_data)\n",
    "\n",
    "    return word_dict"
   ]
  },
  {
   "cell_type": "code",
   "execution_count": 12,
   "id": "546eacf7-a388-4202-be37-6633c0b1bd1b",
   "metadata": {
    "tags": []
   },
   "outputs": [],
   "source": [
    "def word_to_features(sent, i):\n",
    "    list_word = sent[i]\n",
    "    word = list_to_word(list_word)\n",
    "    \n",
    "    features = get_features_from_glosa(list_word)\n",
    "    features['word'] = word\n",
    "    features['word_length'] = len(word)\n",
    "    features['first_2'] = word[:2]\n",
    "    features['first_3'] = word[:3]\n",
    "    features['is_digit'] = word.isdigit()\n",
    "    \n",
    "    if i < len(sent)-1:\n",
    "        next_word = list_to_word(sent[i + 1])\n",
    "        features.update({\n",
    "            'next_word.lower()': next_word.lower(),\n",
    "        })\n",
    "        next_stem_index = get_stem_index_from_glosa(sent[i + 1])\n",
    "        if next_stem_index is not None:\n",
    "            features['next_word_stem'] = sent[i+1][next_stem_index][0]\n",
    "    else:\n",
    "        features['EOS'] = True\n",
    "    \n",
    "    if i > 0:\n",
    "        prev_word = list_to_word(sent[i - 1])\n",
    "        features.update({\n",
    "            'prev_word.lower()': prev_word.lower(),\n",
    "        })\n",
    "        prev_stem_index = get_stem_index_from_glosa(sent[i - 1])\n",
    "        if prev_stem_index is not None:\n",
    "            features['prev_word_stem'] = sent[i-1][prev_stem_index][0]\n",
    "    else:\n",
    "        features['BOS'] = True  # Beginning of sentence\n",
    "\n",
    "    return features"
   ]
  },
  {
   "cell_type": "code",
   "execution_count": 13,
   "id": "506e54d9-9fde-4e4c-9fe0-93909441ef39",
   "metadata": {
    "tags": []
   },
   "outputs": [],
   "source": [
    "# Extract features and labels\n",
    "def sent_to_features(sent):\n",
    "    return [word_to_features(sent, i) for i in range(len(sent))]"
   ]
  },
  {
   "cell_type": "code",
   "execution_count": 14,
   "id": "0907af19-7c87-4a18-9142-d056ac758164",
   "metadata": {
    "tags": []
   },
   "outputs": [
    {
     "data": {
      "text/plain": [
       "[{'stem': 'phu̱di',\n",
       "  'morphemes_before_stem': 2,\n",
       "  'morphemes_after_stem': 0,\n",
       "  'prev_morpheme_1': 'dó',\n",
       "  'prev_morpheme_2': 'n',\n",
       "  'first_morpheme': 'n',\n",
       "  'last_morpheme': 'phu̱di',\n",
       "  'morphemes_cant': 3,\n",
       "  'word': 'ndóphu̱di',\n",
       "  'word_length': 9,\n",
       "  'first_2': 'nd',\n",
       "  'first_3': 'ndó',\n",
       "  'is_digit': False,\n",
       "  'next_word.lower()': 'dópe̱phí',\n",
       "  'next_word_stem': 'pe̱phí',\n",
       "  'BOS': True},\n",
       " {'stem': 'pe̱phí',\n",
       "  'morphemes_before_stem': 1,\n",
       "  'morphemes_after_stem': 0,\n",
       "  'prev_morpheme_1': 'dó',\n",
       "  'first_morpheme': 'dó',\n",
       "  'last_morpheme': 'pe̱phí',\n",
       "  'morphemes_cant': 2,\n",
       "  'word': 'dópe̱phí',\n",
       "  'word_length': 8,\n",
       "  'first_2': 'dó',\n",
       "  'first_3': 'dóp',\n",
       "  'is_digit': False,\n",
       "  'next_word.lower()': \"bit'u̱ngí\",\n",
       "  'next_word_stem': \"'u̱n\",\n",
       "  'prev_word.lower()': 'ndóphu̱di',\n",
       "  'prev_word_stem': 'phu̱di'},\n",
       " {'stem': \"'u̱n\",\n",
       "  'morphemes_before_stem': 2,\n",
       "  'morphemes_after_stem': 1,\n",
       "  'prev_morpheme_1': 't',\n",
       "  'prev_morpheme_2': 'bi',\n",
       "  'next_morpheme_1': 'gí',\n",
       "  'first_morpheme': 'bi',\n",
       "  'last_morpheme': 'gí',\n",
       "  'morphemes_cant': 4,\n",
       "  'word': \"bit'u̱ngí\",\n",
       "  'word_length': 9,\n",
       "  'first_2': 'bi',\n",
       "  'first_3': 'bit',\n",
       "  'is_digit': False,\n",
       "  'next_word.lower()': 'bimähtratágí',\n",
       "  'next_word_stem': 'mähtratá',\n",
       "  'prev_word.lower()': 'dópe̱phí',\n",
       "  'prev_word_stem': 'pe̱phí'},\n",
       " {'stem': 'mähtratá',\n",
       "  'morphemes_before_stem': 1,\n",
       "  'morphemes_after_stem': 1,\n",
       "  'prev_morpheme_1': 'bi',\n",
       "  'next_morpheme_1': 'gí',\n",
       "  'first_morpheme': 'bi',\n",
       "  'last_morpheme': 'gí',\n",
       "  'morphemes_cant': 3,\n",
       "  'word': 'bimähtratágí',\n",
       "  'word_length': 12,\n",
       "  'first_2': 'bi',\n",
       "  'first_3': 'bim',\n",
       "  'is_digit': False,\n",
       "  'next_word.lower()': 'ko',\n",
       "  'next_word_stem': 'ko',\n",
       "  'prev_word.lower()': \"bit'u̱ngí\",\n",
       "  'prev_word_stem': \"'u̱n\"},\n",
       " {'stem': 'ko',\n",
       "  'morphemes_before_stem': 0,\n",
       "  'morphemes_after_stem': 0,\n",
       "  'first_morpheme': 'ko',\n",
       "  'last_morpheme': 'ko',\n",
       "  'morphemes_cant': 1,\n",
       "  'word': 'ko',\n",
       "  'word_length': 2,\n",
       "  'first_2': 'ko',\n",
       "  'first_3': 'ko',\n",
       "  'is_digit': False,\n",
       "  'next_word.lower()': 'chíkóhté',\n",
       "  'next_word_stem': 'chíkóhté',\n",
       "  'prev_word.lower()': 'bimähtratágí',\n",
       "  'prev_word_stem': 'mähtratá'},\n",
       " {'stem': 'chíkóhté',\n",
       "  'morphemes_before_stem': 0,\n",
       "  'morphemes_after_stem': 0,\n",
       "  'first_morpheme': 'chíkóhté',\n",
       "  'last_morpheme': 'chíkóhté',\n",
       "  'morphemes_cant': 1,\n",
       "  'word': 'chíkóhté',\n",
       "  'word_length': 8,\n",
       "  'first_2': 'ch',\n",
       "  'first_3': 'chí',\n",
       "  'is_digit': False,\n",
       "  'EOS': True,\n",
       "  'prev_word.lower()': 'ko',\n",
       "  'prev_word_stem': 'ko'}]"
      ]
     },
     "execution_count": 14,
     "metadata": {},
     "output_type": "execute_result"
    }
   ],
   "source": [
    "# Ejemplo:\n",
    "sent_to_features(X[0])"
   ]
  },
  {
   "cell_type": "code",
   "execution_count": 15,
   "id": "68ef1fc2-f9ac-475e-8d77-0fa55ce2c2ee",
   "metadata": {},
   "outputs": [],
   "source": [
    "# Prepare data for CRF\n",
    "X_with_features = [ sent_to_features(sent) for sent in X]"
   ]
  },
  {
   "cell_type": "code",
   "execution_count": 16,
   "id": "9999e7ee-c4d0-4b33-b47a-1ec7025e9a01",
   "metadata": {},
   "outputs": [
    {
     "data": {
      "text/plain": [
       "True"
      ]
     },
     "execution_count": 16,
     "metadata": {},
     "output_type": "execute_result"
    }
   ],
   "source": [
    "len(X_with_features[0]) == len(Y_corrected[0])"
   ]
  },
  {
   "cell_type": "markdown",
   "id": "b26421d2-034e-4f49-b66e-1e0f42be01c5",
   "metadata": {},
   "source": [
    "## Dividir datos en conjuntos de entrenemiento y prueba"
   ]
  },
  {
   "cell_type": "code",
   "execution_count": 17,
   "id": "9c32af1c-e921-4ef4-9258-3ccf9db147ef",
   "metadata": {
    "tags": []
   },
   "outputs": [],
   "source": [
    "# Split the data into training and testing sets\n",
    "X_train, X_test, y_train, y_test = train_test_split(X_with_features, Y_corrected, test_size=0.2, random_state=42)"
   ]
  },
  {
   "cell_type": "markdown",
   "id": "d0f28f6d-e155-4e56-b635-54aff71d10c8",
   "metadata": {},
   "source": [
    "## Entrenamiento del modelo"
   ]
  },
  {
   "cell_type": "code",
   "execution_count": 18,
   "id": "00d740aa-bd7c-434c-a90c-efb8af5cfeb1",
   "metadata": {
    "tags": []
   },
   "outputs": [
    {
     "name": "stderr",
     "output_type": "stream",
     "text": [
      "loading training data to CRFsuite: 100%|█████████████████████████████████████████| 1364/1364 [00:00<00:00, 5692.79it/s]\n"
     ]
    },
    {
     "name": "stdout",
     "output_type": "stream",
     "text": [
      "\n",
      "Feature generation\n",
      "type: CRF1d\n",
      "feature.minfreq: 0.000000\n",
      "feature.possible_states: 0\n",
      "feature.possible_transitions: 1\n",
      "0....1....2....3....4....5....6....7....8....9....10\n",
      "Number of features: 18251\n",
      "Seconds required: 0.085\n",
      "\n",
      "Passive Aggressive\n",
      "type: 1\n",
      "c: 1.000000\n",
      "error_sensitive: 1\n",
      "averaging: 1\n",
      "max_iterations: 100\n",
      "epsilon: 0.000000\n",
      "\n",
      "Iter 1   time=0.04  loss=1684.47  feature_norm=2.92\n",
      "Iter 2   time=0.03  loss=995.80   feature_norm=3.75\n",
      "Iter 3   time=0.03  loss=721.43   feature_norm=4.33\n",
      "Iter 4   time=0.03  loss=621.75   feature_norm=4.80\n",
      "Iter 5   time=0.03  loss=525.29   feature_norm=5.17\n",
      "Iter 6   time=0.03  loss=445.14   feature_norm=5.49\n",
      "Iter 7   time=0.03  loss=396.71   feature_norm=5.77\n",
      "Iter 8   time=0.03  loss=321.74   feature_norm=6.01\n",
      "Iter 9   time=0.02  loss=313.80   feature_norm=6.22\n",
      "Iter 10  time=0.02  loss=294.73   feature_norm=6.41\n",
      "Iter 11  time=0.02  loss=233.26   feature_norm=6.55\n",
      "Iter 12  time=0.02  loss=247.69   feature_norm=6.69\n",
      "Iter 13  time=0.02  loss=174.65   feature_norm=6.80\n",
      "Iter 14  time=0.02  loss=178.34   feature_norm=6.92\n",
      "Iter 15  time=0.02  loss=180.96   feature_norm=7.02\n",
      "Iter 16  time=0.02  loss=167.12   feature_norm=7.13\n",
      "Iter 17  time=0.02  loss=147.60   feature_norm=7.22\n",
      "Iter 18  time=0.02  loss=165.64   feature_norm=7.31\n",
      "Iter 19  time=0.02  loss=149.08   feature_norm=7.40\n",
      "Iter 20  time=0.02  loss=139.76   feature_norm=7.47\n",
      "Iter 21  time=0.02  loss=100.13   feature_norm=7.54\n",
      "Iter 22  time=0.02  loss=97.31    feature_norm=7.61\n",
      "Iter 23  time=0.02  loss=118.27   feature_norm=7.68\n",
      "Iter 24  time=0.02  loss=67.19    feature_norm=7.72\n",
      "Iter 25  time=0.02  loss=65.37    feature_norm=7.77\n",
      "Iter 26  time=0.02  loss=98.45    feature_norm=7.84\n",
      "Iter 27  time=0.02  loss=55.78    feature_norm=7.88\n",
      "Iter 28  time=0.02  loss=57.62    feature_norm=7.91\n",
      "Iter 29  time=0.02  loss=79.11    feature_norm=7.96\n",
      "Iter 30  time=0.02  loss=57.98    feature_norm=7.99\n",
      "Iter 31  time=0.02  loss=80.62    feature_norm=8.04\n",
      "Iter 32  time=0.02  loss=64.97    feature_norm=8.07\n",
      "Iter 33  time=0.02  loss=55.32    feature_norm=8.10\n",
      "Iter 34  time=0.02  loss=46.48    feature_norm=8.12\n",
      "Iter 35  time=0.02  loss=36.08    feature_norm=8.14\n",
      "Iter 36  time=0.02  loss=31.85    feature_norm=8.16\n",
      "Iter 37  time=0.02  loss=39.22    feature_norm=8.18\n",
      "Iter 38  time=0.02  loss=80.96    feature_norm=8.23\n",
      "Iter 39  time=0.02  loss=34.32    feature_norm=8.25\n",
      "Iter 40  time=0.02  loss=45.68    feature_norm=8.28\n",
      "Iter 41  time=0.02  loss=37.03    feature_norm=8.30\n",
      "Iter 42  time=0.02  loss=64.45    feature_norm=8.33\n",
      "Iter 43  time=0.02  loss=35.22    feature_norm=8.36\n",
      "Iter 44  time=0.02  loss=40.93    feature_norm=8.37\n",
      "Iter 45  time=0.02  loss=50.19    feature_norm=8.39\n",
      "Iter 46  time=0.02  loss=57.79    feature_norm=8.42\n",
      "Iter 47  time=0.03  loss=53.96    feature_norm=8.45\n",
      "Iter 48  time=0.03  loss=58.88    feature_norm=8.49\n",
      "Iter 49  time=0.02  loss=49.24    feature_norm=8.51\n",
      "Iter 50  time=0.02  loss=33.97    feature_norm=8.53\n",
      "Iter 51  time=0.02  loss=20.75    feature_norm=8.54\n",
      "Iter 52  time=0.03  loss=41.23    feature_norm=8.56\n",
      "Iter 53  time=0.02  loss=36.84    feature_norm=8.58\n",
      "Iter 54  time=0.02  loss=14.59    feature_norm=8.59\n",
      "Iter 55  time=0.03  loss=41.96    feature_norm=8.61\n",
      "Iter 56  time=0.02  loss=37.23    feature_norm=8.62\n",
      "Iter 57  time=0.02  loss=32.94    feature_norm=8.63\n",
      "Iter 58  time=0.02  loss=25.80    feature_norm=8.65\n",
      "Iter 59  time=0.02  loss=33.48    feature_norm=8.66\n",
      "Iter 60  time=0.02  loss=35.67    feature_norm=8.68\n",
      "Iter 61  time=0.02  loss=40.65    feature_norm=8.71\n",
      "Iter 62  time=0.02  loss=26.39    feature_norm=8.72\n",
      "Iter 63  time=0.02  loss=24.17    feature_norm=8.73\n",
      "Iter 64  time=0.02  loss=14.43    feature_norm=8.74\n",
      "Iter 65  time=0.02  loss=31.04    feature_norm=8.75\n",
      "Iter 66  time=0.02  loss=29.63    feature_norm=8.77\n",
      "Iter 67  time=0.02  loss=21.11    feature_norm=8.78\n",
      "Iter 68  time=0.02  loss=37.68    feature_norm=8.79\n",
      "Iter 69  time=0.02  loss=27.12    feature_norm=8.81\n",
      "Iter 70  time=0.02  loss=37.22    feature_norm=8.82\n",
      "Iter 71  time=0.02  loss=20.75    feature_norm=8.84\n",
      "Iter 72  time=0.02  loss=22.66    feature_norm=8.85\n",
      "Iter 73  time=0.02  loss=15.36    feature_norm=8.86\n",
      "Iter 74  time=0.02  loss=51.14    feature_norm=8.89\n",
      "Iter 75  time=0.02  loss=28.92    feature_norm=8.90\n",
      "Iter 76  time=0.02  loss=36.35    feature_norm=8.92\n",
      "Iter 77  time=0.02  loss=16.50    feature_norm=8.93\n",
      "Iter 78  time=0.02  loss=35.55    feature_norm=8.94\n",
      "Iter 79  time=0.02  loss=30.10    feature_norm=8.95\n",
      "Iter 80  time=0.02  loss=33.87    feature_norm=8.97\n",
      "Iter 81  time=0.02  loss=36.91    feature_norm=8.99\n",
      "Iter 82  time=0.02  loss=32.14    feature_norm=9.00\n",
      "Iter 83  time=0.02  loss=28.18    feature_norm=9.02\n",
      "Iter 84  time=0.02  loss=43.61    feature_norm=9.04\n",
      "Iter 85  time=0.02  loss=24.23    feature_norm=9.05\n",
      "Iter 86  time=0.02  loss=34.84    feature_norm=9.07\n",
      "Iter 87  time=0.02  loss=22.89    feature_norm=9.08\n",
      "Iter 88  time=0.02  loss=19.30    feature_norm=9.09\n",
      "Iter 89  time=0.02  loss=27.57    feature_norm=9.11\n",
      "Iter 90  time=0.02  loss=22.47    feature_norm=9.12\n",
      "Iter 91  time=0.02  loss=31.95    feature_norm=9.14\n",
      "Iter 92  time=0.02  loss=20.88    feature_norm=9.15\n",
      "Iter 93  time=0.02  loss=19.56    feature_norm=9.16\n",
      "Iter 94  time=0.02  loss=23.51    feature_norm=9.17\n",
      "Iter 95  time=0.03  loss=29.44    feature_norm=9.18\n",
      "Iter 96  time=0.02  loss=26.12    feature_norm=9.19\n",
      "Iter 97  time=0.02  loss=18.42    feature_norm=9.20\n",
      "Iter 98  time=0.02  loss=17.55    feature_norm=9.21\n",
      "Iter 99  time=0.02  loss=12.41    feature_norm=9.22\n",
      "Iter 100 time=0.02  loss=21.29    feature_norm=9.23\n",
      "Total seconds required for training: 2.149\n",
      "\n",
      "Storing the model\n",
      "Number of active features: 12505 (18251)\n",
      "Number of active attributes: 8826 (13138)\n",
      "Number of active labels: 24 (24)\n",
      "Writing labels\n",
      "Writing attributes\n",
      "Writing feature references for transitions\n",
      "Writing feature references for attributes\n",
      "Seconds required: 0.051\n",
      "\n"
     ]
    }
   ],
   "source": [
    "# Initialize and train the CRF tagger: https://sklearn-crfsuite.readthedocs.io/en/latest/api.html\n",
    "crf = CRF(algorithm='pa', max_iterations=100, all_possible_transitions=True, verbose=True)\n",
    "try:\n",
    "    crf.fit(X_train, y_train)\n",
    "except AttributeError as e:\n",
    "    print(e)"
   ]
  },
  {
   "cell_type": "markdown",
   "id": "4d29ae27-8594-4890-bcc1-2e953252d035",
   "metadata": {},
   "source": [
    "## Resultados"
   ]
  },
  {
   "cell_type": "markdown",
   "id": "4d5f3cd1-1c02-43ca-aab9-9c8e2629790c",
   "metadata": {},
   "source": [
    "### Métricas de desempeño"
   ]
  },
  {
   "cell_type": "code",
   "execution_count": 19,
   "id": "eb9b7ae9-426a-4132-9f79-146e1d43fe43",
   "metadata": {
    "tags": []
   },
   "outputs": [],
   "source": [
    "from sklearn.metrics import classification_report\n",
    "from sklearn.metrics import accuracy_score\n",
    "from sklearn.metrics import precision_score\n",
    "from sklearn.metrics import recall_score\n",
    "from sklearn.metrics import f1_score"
   ]
  },
  {
   "cell_type": "code",
   "execution_count": 20,
   "id": "939b8b21-9182-4b2d-b735-881b70093a0e",
   "metadata": {
    "tags": []
   },
   "outputs": [
    {
     "name": "stdout",
     "output_type": "stream",
     "text": [
      "              precision    recall  f1-score   support\n",
      "\n",
      "         aff       1.00      1.00      1.00         1\n",
      "         cnj       0.97      0.95      0.96       148\n",
      "     cnj.adv       0.00      0.00      0.00         1\n",
      "        cond       0.00      0.00      0.00         2\n",
      "    conj.adv       0.75      1.00      0.86         6\n",
      "         dem       0.98      0.98      0.98       107\n",
      "         det       0.97      0.99      0.98       178\n",
      "         dim       1.00      1.00      1.00         3\n",
      "         gen       0.89      0.89      0.89         9\n",
      "         lim       1.00      1.00      1.00         1\n",
      "           n       0.88      0.87      0.88        61\n",
      "         neg       0.97      0.95      0.96        38\n",
      "         obl       0.96      0.97      0.96       504\n",
      "       p.loc       0.94      1.00      0.97        17\n",
      "         prt       0.50      0.46      0.48        13\n",
      "   regular/v       1.00      1.00      1.00         1\n",
      "       unkwn       0.89      0.95      0.92        80\n",
      "           v       0.98      0.96      0.97       496\n",
      "\n",
      "    accuracy                           0.96      1666\n",
      "   macro avg       0.82      0.83      0.82      1666\n",
      "weighted avg       0.96      0.96      0.96      1666\n",
      "\n"
     ]
    },
    {
     "name": "stderr",
     "output_type": "stream",
     "text": [
      "C:\\Users\\DELL\\miniconda3\\envs\\nlp-environment\\lib\\site-packages\\sklearn\\metrics\\_classification.py:1344: UndefinedMetricWarning: Precision and F-score are ill-defined and being set to 0.0 in labels with no predicted samples. Use `zero_division` parameter to control this behavior.\n",
      "  _warn_prf(average, modifier, msg_start, len(result))\n",
      "C:\\Users\\DELL\\miniconda3\\envs\\nlp-environment\\lib\\site-packages\\sklearn\\metrics\\_classification.py:1344: UndefinedMetricWarning: Precision and F-score are ill-defined and being set to 0.0 in labels with no predicted samples. Use `zero_division` parameter to control this behavior.\n",
      "  _warn_prf(average, modifier, msg_start, len(result))\n",
      "C:\\Users\\DELL\\miniconda3\\envs\\nlp-environment\\lib\\site-packages\\sklearn\\metrics\\_classification.py:1344: UndefinedMetricWarning: Precision and F-score are ill-defined and being set to 0.0 in labels with no predicted samples. Use `zero_division` parameter to control this behavior.\n",
      "  _warn_prf(average, modifier, msg_start, len(result))\n"
     ]
    }
   ],
   "source": [
    "y_pred = crf.predict(X_test)\n",
    "\n",
    "# Flatten the true and predicted labels\n",
    "y_test_flat = [label for sent_labels in y_test for label in sent_labels]\n",
    "y_pred_flat = [label for sent_labels in y_pred for label in sent_labels]\n",
    "\n",
    "# Evaluate the model\n",
    "report = classification_report(y_true=y_test_flat, y_pred=y_pred_flat)\n",
    "print(report)"
   ]
  },
  {
   "cell_type": "markdown",
   "id": "f05af83a-8b29-4ef3-8ebe-654c6b17c046",
   "metadata": {},
   "source": [
    "#### Accuracy, Precision, Recall y F1-score"
   ]
  },
  {
   "cell_type": "code",
   "execution_count": 21,
   "id": "fcaaadc6-de76-4b41-babf-762f428c7806",
   "metadata": {
    "tags": []
   },
   "outputs": [
    {
     "name": "stdout",
     "output_type": "stream",
     "text": [
      "Accuracy: 0.9585834333733494\n",
      "Precision: 0.8318521755537316\n",
      "Recall: 0.8163184009898812\n",
      "F1-score 0.8229301648510957\n"
     ]
    },
    {
     "name": "stderr",
     "output_type": "stream",
     "text": [
      "C:\\Users\\DELL\\miniconda3\\envs\\nlp-environment\\lib\\site-packages\\sklearn\\metrics\\_classification.py:1344: UndefinedMetricWarning: Recall is ill-defined and being set to 0.0 in labels with no true samples. Use `zero_division` parameter to control this behavior.\n",
      "  _warn_prf(average, modifier, msg_start, len(result))\n"
     ]
    }
   ],
   "source": [
    "print(\"Accuracy:\", accuracy_score(y_pred_flat, y_test_flat))\n",
    "print(\"Precision:\", precision_score(y_pred_flat, y_test_flat, average=\"macro\"))\n",
    "print(\"Recall:\", recall_score(y_pred_flat, y_test_flat, average=\"macro\"))\n",
    "print(\"F1-score\", f1_score(y_pred_flat, y_test_flat, average=\"macro\"))"
   ]
  },
  {
   "cell_type": "markdown",
   "id": "0369c610-6a43-4066-9b43-163afe16e511",
   "metadata": {},
   "source": [
    "#### Matriz de confusión"
   ]
  },
  {
   "cell_type": "code",
   "execution_count": 22,
   "id": "75945a01-57f9-4427-a68b-b9522aa0d288",
   "metadata": {
    "tags": []
   },
   "outputs": [
    {
     "data": {
      "image/png": "[encoded data removed]",
      "text/plain": [
       "<Figure size 1000x1000 with 2 Axes>"
      ]
     },
     "metadata": {},
     "output_type": "display_data"
    }
   ],
   "source": [
    "from sklearn.metrics import ConfusionMatrixDisplay\n",
    "import matplotlib.pyplot as plt\n",
    "\n",
    "f,ax = plt.subplots(1,1,figsize=(10,10))\n",
    "disp = ConfusionMatrixDisplay.from_predictions(y_test_flat, y_pred_flat, xticks_rotation='vertical', ax=ax)"
   ]
  },
  {
   "cell_type": "markdown",
   "id": "fa592964-fff4-4513-b7c2-47fb2213b20e",
   "metadata": {},
   "source": [
    "#### Ejemplo de oración etiquetada"
   ]
  },
  {
   "cell_type": "code",
   "execution_count": 23,
   "id": "be2af982-ada0-469d-8191-1be11dc77b47",
   "metadata": {
    "tags": []
   },
   "outputs": [],
   "source": [
    "def sent_with_features_to_string(sent):\n",
    "    return ' '.join(word_dict['word'] for word_dict in sent)\n",
    "\n",
    "def print_tagged_sample(index, X, Y, Y_pred):\n",
    "    print(\"Oración:\", sent_with_features_to_string(X[index]))\n",
    "    print(\"Predicción:\", Y_pred[index])\n",
    "    print(\"Correcto:\", Y[index])"
   ]
  },
  {
   "cell_type": "code",
   "execution_count": 24,
   "id": "9aa253bc-11a2-4672-8340-df343caacd71",
   "metadata": {
    "tags": []
   },
   "outputs": [
    {
     "name": "stdout",
     "output_type": "stream",
     "text": [
      "Oración: pa hitsa dóndú ri̱ ngú\n",
      "Predicción: ['obl', 'obl', 'v', 'det', 'obl']\n",
      "Correcto: ['obl', 'neg', 'v', 'det', 'obl']\n"
     ]
    }
   ],
   "source": [
    "print_tagged_sample(0, X_test, y_test, y_pred)"
   ]
  },
  {
   "cell_type": "markdown",
   "id": "555f61eb-5f97-47ed-98c3-1bd9814bea07",
   "metadata": {},
   "source": [
    "## Análisis\n",
    "- ¿Qué diferencias encuentran entre trabajar con textos en español y en Otomí?\n",
    "\n",
    "Hay muy pocos recursos del idioma Otomí, y aún menos del Otomí de Toluca, variante de la región San Andrés Cuexcontitlan; por lo que no encontré información acerca del funcionamiento de su morforlogía ni de su sintaxis. Así que para saber qué poner como parte de las features tuve que analizar la glosa proporcionada en el corpus. De esta forma de que muchas inflexiones se hacían antes del stem, así que decidí agregar los morfemas anteriores y posteriores al stem como features.\n",
    "\n",
    "Las diferencias entre trabajar con textos en español y Otomí es que, como estoy familiarizada con el español, sé qué podría funcionar como features, y con el Otomí no sabía qué agregar. También, el corpus en español que utilizamos era más grande que el de Otomí, así que claramente se logró un mejor desempeño en el modelo.\n",
    "\n",
    "- ¿Se obtuvieron buenos o malos resultados? ¿Porqué?\n",
    "\n",
    "La accuracy lograda fue bastante buena (mayor a 90%), y aunque la precisión, el recall y F1-score no fueron tan buenos, no fueron malos (alrededor del 80%). Pienso que los resultados fueron muy soprendentes para la poca cantida de ejemplares con la que contábamos."
   ]
  }
 ],
 "metadata": {
  "kernelspec": {
   "display_name": "Python 3 (ipykernel)",
   "language": "python",
   "name": "python3"
  },
  "language_info": {
   "codemirror_mode": {
    "name": "ipython",
    "version": 3
   },
   "file_extension": ".py",
   "mimetype": "text/x-python",
   "name": "python",
   "nbconvert_exporter": "python",
   "pygments_lexer": "ipython3",
   "version": "3.10.13"
  }
 },
 "nbformat": 4,
 "nbformat_minor": 5
}
