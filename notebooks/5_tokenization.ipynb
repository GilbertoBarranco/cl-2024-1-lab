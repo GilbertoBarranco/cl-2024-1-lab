{
 "cells": [
  {
   "cell_type": "markdown",
   "metadata": {
    "id": "UUPaNJXa1Om4"
   },
   "source": [
    "# 5. Tokenization"
   ]
  },
  {
   "cell_type": "markdown",
   "metadata": {
    "id": "rbo4KM2tJEuZ"
   },
   "source": [
    "## Objetivo\n",
    "\n",
    "- Læs alumnæs entenderán la importancia de la tokenización en un pipeline de NLP\n",
    "- Como varía un corpus sin tokenizar y uno tokenizado\n",
    "- Explorar métodos de *Subword tokenization* como: *BPE*, *WordPiece* y *Unigram*"
   ]
  },
  {
   "cell_type": "markdown",
   "metadata": {
    "id": "jqslq1xoJcOB"
   },
   "source": [
    "## Tokenization"
   ]
  },
  {
   "cell_type": "markdown",
   "metadata": {
    "id": "0lArM5QU1bJ1"
   },
   "source": [
    "- Buscamos tener unidades de información para representar una lengua\n",
    "    - Transformar nuestro texto crudo en datos que pueda procesar nuestro modelo\n",
    "- La unidad más intuitiva son las palabras alfa-numericas separadas por\n",
    "espacios (tokens)\n",
    "- Segmentación de texto en *tokens* de ahí el nombre *tokenization*\n",
    "    - Es una parte fundamental de un *pipeline* de *NLP*"
   ]
  },
  {
   "cell_type": "code",
   "execution_count": null,
   "metadata": {
    "colab": {
     "base_uri": "https://localhost:8080/"
    },
    "id": "2KdF0vK35_1w",
    "outputId": "24e9b5fd-e220-4dae-9fbe-358a4796e38c"
   },
   "outputs": [
    {
     "data": {
      "text/plain": [
       "['Mira', 'mamá', 'estoy', 'en', 'la', 'tele']"
      ]
     },
     "execution_count": 121,
     "metadata": {},
     "output_type": "execute_result"
    }
   ],
   "source": [
    "\"Mira mamá estoy en la tele\".split()"
   ]
  },
  {
   "cell_type": "markdown",
   "metadata": {
    "id": "EljLPY4G8b6m"
   },
   "source": [
    "## Word-based tokenization"
   ]
  },
  {
   "cell_type": "markdown",
   "metadata": {
    "id": "7KHsH6cheGcK"
   },
   "source": [
    "- Fácil de implementar (`.split()`)\n",
    "- Se pueden considerar los signos de puntuación agregando reglas simples"
   ]
  },
  {
   "cell_type": "code",
   "execution_count": 199,
   "metadata": {
    "colab": {
     "base_uri": "https://localhost:8080/"
    },
    "id": "hdiNlhUn9pob",
    "outputId": "c8281b34-9df8-437c-b9c5-aab3550ac267"
   },
   "outputs": [
    {
     "data": {
      "text/plain": [
       "['Let', \"'\", 's', 'get', 'started', 'son', '!', '!', '!']"
      ]
     },
     "execution_count": 199,
     "metadata": {},
     "output_type": "execute_result"
    }
   ],
   "source": [
    "import re\n",
    "text = \"Let's get started son!!!\"\n",
    "re.findall(r\"['!]|\\w+\", text)"
   ]
  },
  {
   "cell_type": "markdown",
   "metadata": {
    "id": "rE1SIAfW6XPI"
   },
   "source": [
    "### Problem?"
   ]
  },
  {
   "cell_type": "markdown",
   "metadata": {
    "id": "s2QFZ-7dEWPX"
   },
   "source": [
    "<img src=\"http://images.wikia.com/battlebears/images/2/2c/Troll_Problem.jpg\" with=\"250\" height=\"250\">"
   ]
  },
  {
   "cell_type": "markdown",
   "metadata": {
    "id": "EUDLwgXZ-OxQ"
   },
   "source": [
    "- Vocabularios gigantescos difíciles de procesar\n",
    "- Generalmente, entre más grande es el vocabulario más pesado será nuestro modelo\n",
    "\n",
    "**Ejemplo:**\n",
    "- Si queremos representaciones vectoriales de nuestros tokens obtendríamos vectores distintos para palabras similares\n",
    "    - niño = `v1(39, 34, 5,...)`\n",
    "    - niños = `v2(9, 4, 0,...)`\n",
    "    - niña = `v3(2, 1, 1,...)`\n",
    "    - ...\n",
    "- Tendríamos tokens con bajísima frecuencia\n",
    "    - merequetengue = `vn(0,0,1,...)`"
   ]
  },
  {
   "cell_type": "markdown",
   "metadata": {
    "id": "OYTxQzaICZdg"
   },
   "source": [
    "### Una Solución: Stemming/Lemmatization (AKA la vieja confiable)\n",
    "\n",
    "<img src=\"https://external-content.duckduckgo.com/iu/?u=https%3A%2F%2Fi.ytimg.com%2Fvi%2FfxobA3YJCpk%2Fmaxresdefault.jpg&f=1&nofb=1&ipt=962ac292fba0c909d09a3f795a98775d24e22680fb502a2a5142d9c534bd2137&ipo=images\" with=\"250\" height=\"250\">\n"
   ]
  },
  {
   "cell_type": "code",
   "execution_count": 200,
   "metadata": {
    "colab": {
     "base_uri": "https://localhost:8080/"
    },
    "id": "g7tblrHXgb-g",
    "outputId": "cced4a12-1a99-46d3-aff6-ad6eb76a93c4"
   },
   "outputs": [
    {
     "name": "stderr",
     "output_type": "stream",
     "text": [
      "[nltk_data] Downloading package brown to /root/nltk_data...\n",
      "[nltk_data]   Package brown is already up-to-date!\n"
     ]
    },
    {
     "data": {
      "text/plain": [
       "True"
      ]
     },
     "execution_count": 200,
     "metadata": {},
     "output_type": "execute_result"
    }
   ],
   "source": [
    "import nltk\n",
    "from nltk.corpus import brown\n",
    "nltk.download('brown')"
   ]
  },
  {
   "cell_type": "code",
   "execution_count": 201,
   "metadata": {
    "colab": {
     "base_uri": "https://localhost:8080/"
    },
    "id": "IAzu1OYaf4Fe",
    "outputId": "59ce41ec-f837-4ae8-eb81-0d8141940a7e"
   },
   "outputs": [
    {
     "name": "stdout",
     "output_type": "stream",
     "text": [
      "The\n",
      "Tokens: 1012528\n",
      "Tipos: 55640\n",
      "Sub brown_corpus tipos: 15225\n"
     ]
    }
   ],
   "source": [
    "from collections import Counter\n",
    "\n",
    "brown_corpus = [word for word in brown.words() if re.match(\"\\w\", word)]\n",
    "print(brown_corpus[0])\n",
    "print(\"Tokens:\", len(brown_corpus))\n",
    "print(\"Tipos:\", len(Counter(brown_corpus)))\n",
    "\n",
    "sub_brown_corpus = brown_corpus[:100000]\n",
    "print(\"Sub brown_corpus tipos:\", len(Counter(sub_brown_corpus)))"
   ]
  },
  {
   "cell_type": "code",
   "execution_count": 202,
   "metadata": {
    "colab": {
     "base_uri": "https://localhost:8080/"
    },
    "id": "LlZRbuQcjRFU",
    "outputId": "9897acb4-d191-46c5-8699-dee3b01b05ff"
   },
   "outputs": [
    {
     "data": {
      "text/plain": [
       "['This',\n",
       " 'would',\n",
       " 'be',\n",
       " 'cheaper',\n",
       " 'to',\n",
       " 'operate',\n",
       " 'and',\n",
       " 'could',\n",
       " 'be',\n",
       " 'used',\n",
       " 'for',\n",
       " 'cruises',\n",
       " 'during',\n",
       " 'the',\n",
       " 'lean',\n",
       " 'winter',\n",
       " 'months',\n",
       " 'Also',\n",
       " 'under',\n",
       " 'consideration']"
      ]
     },
     "execution_count": 202,
     "metadata": {},
     "output_type": "execute_result"
    }
   ],
   "source": [
    "sub_brown_corpus[-20:]"
   ]
  },
  {
   "cell_type": "code",
   "execution_count": 203,
   "metadata": {
    "colab": {
     "base_uri": "https://localhost:8080/"
    },
    "id": "p98fuuZvhh3n",
    "outputId": "9571e111-ad73-4311-d32a-ac75488d7e6a"
   },
   "outputs": [
    {
     "name": "stdout",
     "output_type": "stream",
     "text": [
      "2023-10-09 22:16:28.419139: W tensorflow/compiler/tf2tensorrt/utils/py_utils.cc:38] TF-TRT Warning: Could not find TensorRT\n",
      "Collecting en-core-web-sm==3.6.0\n",
      "  Downloading https://github.com/explosion/spacy-models/releases/download/en_core_web_sm-3.6.0/en_core_web_sm-3.6.0-py3-none-any.whl (12.8 MB)\n",
      "\u001b[2K     \u001b[90m━━━━━━━━━━━━━━━━━━━━━━━━━━━━━━━━━━━━━━━━\u001b[0m \u001b[32m12.8/12.8 MB\u001b[0m \u001b[31m40.7 MB/s\u001b[0m eta \u001b[36m0:00:00\u001b[0m\n",
      "\u001b[?25hRequirement already satisfied: spacy<3.7.0,>=3.6.0 in /usr/local/lib/python3.10/dist-packages (from en-core-web-sm==3.6.0) (3.6.1)\n",
      "Requirement already satisfied: spacy-legacy<3.1.0,>=3.0.11 in /usr/local/lib/python3.10/dist-packages (from spacy<3.7.0,>=3.6.0->en-core-web-sm==3.6.0) (3.0.12)\n",
      "Requirement already satisfied: spacy-loggers<2.0.0,>=1.0.0 in /usr/local/lib/python3.10/dist-packages (from spacy<3.7.0,>=3.6.0->en-core-web-sm==3.6.0) (1.0.5)\n",
      "Requirement already satisfied: murmurhash<1.1.0,>=0.28.0 in /usr/local/lib/python3.10/dist-packages (from spacy<3.7.0,>=3.6.0->en-core-web-sm==3.6.0) (1.0.10)\n",
      "Requirement already satisfied: cymem<2.1.0,>=2.0.2 in /usr/local/lib/python3.10/dist-packages (from spacy<3.7.0,>=3.6.0->en-core-web-sm==3.6.0) (2.0.8)\n",
      "Requirement already satisfied: preshed<3.1.0,>=3.0.2 in /usr/local/lib/python3.10/dist-packages (from spacy<3.7.0,>=3.6.0->en-core-web-sm==3.6.0) (3.0.9)\n",
      "Requirement already satisfied: thinc<8.2.0,>=8.1.8 in /usr/local/lib/python3.10/dist-packages (from spacy<3.7.0,>=3.6.0->en-core-web-sm==3.6.0) (8.1.12)\n",
      "Requirement already satisfied: wasabi<1.2.0,>=0.9.1 in /usr/local/lib/python3.10/dist-packages (from spacy<3.7.0,>=3.6.0->en-core-web-sm==3.6.0) (1.1.2)\n",
      "Requirement already satisfied: srsly<3.0.0,>=2.4.3 in /usr/local/lib/python3.10/dist-packages (from spacy<3.7.0,>=3.6.0->en-core-web-sm==3.6.0) (2.4.8)\n",
      "Requirement already satisfied: catalogue<2.1.0,>=2.0.6 in /usr/local/lib/python3.10/dist-packages (from spacy<3.7.0,>=3.6.0->en-core-web-sm==3.6.0) (2.0.10)\n",
      "Requirement already satisfied: typer<0.10.0,>=0.3.0 in /usr/local/lib/python3.10/dist-packages (from spacy<3.7.0,>=3.6.0->en-core-web-sm==3.6.0) (0.9.0)\n",
      "Requirement already satisfied: pathy>=0.10.0 in /usr/local/lib/python3.10/dist-packages (from spacy<3.7.0,>=3.6.0->en-core-web-sm==3.6.0) (0.10.2)\n",
      "Requirement already satisfied: smart-open<7.0.0,>=5.2.1 in /usr/local/lib/python3.10/dist-packages (from spacy<3.7.0,>=3.6.0->en-core-web-sm==3.6.0) (6.4.0)\n",
      "Requirement already satisfied: tqdm<5.0.0,>=4.38.0 in /usr/local/lib/python3.10/dist-packages (from spacy<3.7.0,>=3.6.0->en-core-web-sm==3.6.0) (4.66.1)\n",
      "Requirement already satisfied: numpy>=1.15.0 in /usr/local/lib/python3.10/dist-packages (from spacy<3.7.0,>=3.6.0->en-core-web-sm==3.6.0) (1.23.5)\n",
      "Requirement already satisfied: requests<3.0.0,>=2.13.0 in /usr/local/lib/python3.10/dist-packages (from spacy<3.7.0,>=3.6.0->en-core-web-sm==3.6.0) (2.31.0)\n",
      "Requirement already satisfied: pydantic!=1.8,!=1.8.1,<3.0.0,>=1.7.4 in /usr/local/lib/python3.10/dist-packages (from spacy<3.7.0,>=3.6.0->en-core-web-sm==3.6.0) (1.10.13)\n",
      "Requirement already satisfied: jinja2 in /usr/local/lib/python3.10/dist-packages (from spacy<3.7.0,>=3.6.0->en-core-web-sm==3.6.0) (3.1.2)\n",
      "Requirement already satisfied: setuptools in /usr/local/lib/python3.10/dist-packages (from spacy<3.7.0,>=3.6.0->en-core-web-sm==3.6.0) (67.7.2)\n",
      "Requirement already satisfied: packaging>=20.0 in /usr/local/lib/python3.10/dist-packages (from spacy<3.7.0,>=3.6.0->en-core-web-sm==3.6.0) (23.2)\n",
      "Requirement already satisfied: langcodes<4.0.0,>=3.2.0 in /usr/local/lib/python3.10/dist-packages (from spacy<3.7.0,>=3.6.0->en-core-web-sm==3.6.0) (3.3.0)\n",
      "Requirement already satisfied: typing-extensions>=4.2.0 in /usr/local/lib/python3.10/dist-packages (from pydantic!=1.8,!=1.8.1,<3.0.0,>=1.7.4->spacy<3.7.0,>=3.6.0->en-core-web-sm==3.6.0) (4.5.0)\n",
      "Requirement already satisfied: charset-normalizer<4,>=2 in /usr/local/lib/python3.10/dist-packages (from requests<3.0.0,>=2.13.0->spacy<3.7.0,>=3.6.0->en-core-web-sm==3.6.0) (3.3.0)\n",
      "Requirement already satisfied: idna<4,>=2.5 in /usr/local/lib/python3.10/dist-packages (from requests<3.0.0,>=2.13.0->spacy<3.7.0,>=3.6.0->en-core-web-sm==3.6.0) (3.4)\n",
      "Requirement already satisfied: urllib3<3,>=1.21.1 in /usr/local/lib/python3.10/dist-packages (from requests<3.0.0,>=2.13.0->spacy<3.7.0,>=3.6.0->en-core-web-sm==3.6.0) (2.0.6)\n",
      "Requirement already satisfied: certifi>=2017.4.17 in /usr/local/lib/python3.10/dist-packages (from requests<3.0.0,>=2.13.0->spacy<3.7.0,>=3.6.0->en-core-web-sm==3.6.0) (2023.7.22)\n",
      "Requirement already satisfied: blis<0.8.0,>=0.7.8 in /usr/local/lib/python3.10/dist-packages (from thinc<8.2.0,>=8.1.8->spacy<3.7.0,>=3.6.0->en-core-web-sm==3.6.0) (0.7.11)\n",
      "Requirement already satisfied: confection<1.0.0,>=0.0.1 in /usr/local/lib/python3.10/dist-packages (from thinc<8.2.0,>=8.1.8->spacy<3.7.0,>=3.6.0->en-core-web-sm==3.6.0) (0.1.3)\n",
      "Requirement already satisfied: click<9.0.0,>=7.1.1 in /usr/local/lib/python3.10/dist-packages (from typer<0.10.0,>=0.3.0->spacy<3.7.0,>=3.6.0->en-core-web-sm==3.6.0) (8.1.7)\n",
      "Requirement already satisfied: MarkupSafe>=2.0 in /usr/local/lib/python3.10/dist-packages (from jinja2->spacy<3.7.0,>=3.6.0->en-core-web-sm==3.6.0) (2.1.3)\n",
      "\u001b[38;5;2m✔ Download and installation successful\u001b[0m\n",
      "You can now load the package via spacy.load('en_core_web_sm')\n",
      "2023-10-09 22:16:46.449393: W tensorflow/compiler/tf2tensorrt/utils/py_utils.cc:38] TF-TRT Warning: Could not find TensorRT\n",
      "Collecting es-core-news-sm==3.6.0\n",
      "  Downloading https://github.com/explosion/spacy-models/releases/download/es_core_news_sm-3.6.0/es_core_news_sm-3.6.0-py3-none-any.whl (12.9 MB)\n",
      "\u001b[2K     \u001b[90m━━━━━━━━━━━━━━━━━━━━━━━━━━━━━━━━━━━━━━━━\u001b[0m \u001b[32m12.9/12.9 MB\u001b[0m \u001b[31m47.4 MB/s\u001b[0m eta \u001b[36m0:00:00\u001b[0m\n",
      "\u001b[?25hRequirement already satisfied: spacy<3.7.0,>=3.6.0 in /usr/local/lib/python3.10/dist-packages (from es-core-news-sm==3.6.0) (3.6.1)\n",
      "Requirement already satisfied: spacy-legacy<3.1.0,>=3.0.11 in /usr/local/lib/python3.10/dist-packages (from spacy<3.7.0,>=3.6.0->es-core-news-sm==3.6.0) (3.0.12)\n",
      "Requirement already satisfied: spacy-loggers<2.0.0,>=1.0.0 in /usr/local/lib/python3.10/dist-packages (from spacy<3.7.0,>=3.6.0->es-core-news-sm==3.6.0) (1.0.5)\n",
      "Requirement already satisfied: murmurhash<1.1.0,>=0.28.0 in /usr/local/lib/python3.10/dist-packages (from spacy<3.7.0,>=3.6.0->es-core-news-sm==3.6.0) (1.0.10)\n",
      "Requirement already satisfied: cymem<2.1.0,>=2.0.2 in /usr/local/lib/python3.10/dist-packages (from spacy<3.7.0,>=3.6.0->es-core-news-sm==3.6.0) (2.0.8)\n",
      "Requirement already satisfied: preshed<3.1.0,>=3.0.2 in /usr/local/lib/python3.10/dist-packages (from spacy<3.7.0,>=3.6.0->es-core-news-sm==3.6.0) (3.0.9)\n",
      "Requirement already satisfied: thinc<8.2.0,>=8.1.8 in /usr/local/lib/python3.10/dist-packages (from spacy<3.7.0,>=3.6.0->es-core-news-sm==3.6.0) (8.1.12)\n",
      "Requirement already satisfied: wasabi<1.2.0,>=0.9.1 in /usr/local/lib/python3.10/dist-packages (from spacy<3.7.0,>=3.6.0->es-core-news-sm==3.6.0) (1.1.2)\n",
      "Requirement already satisfied: srsly<3.0.0,>=2.4.3 in /usr/local/lib/python3.10/dist-packages (from spacy<3.7.0,>=3.6.0->es-core-news-sm==3.6.0) (2.4.8)\n",
      "Requirement already satisfied: catalogue<2.1.0,>=2.0.6 in /usr/local/lib/python3.10/dist-packages (from spacy<3.7.0,>=3.6.0->es-core-news-sm==3.6.0) (2.0.10)\n",
      "Requirement already satisfied: typer<0.10.0,>=0.3.0 in /usr/local/lib/python3.10/dist-packages (from spacy<3.7.0,>=3.6.0->es-core-news-sm==3.6.0) (0.9.0)\n",
      "Requirement already satisfied: pathy>=0.10.0 in /usr/local/lib/python3.10/dist-packages (from spacy<3.7.0,>=3.6.0->es-core-news-sm==3.6.0) (0.10.2)\n",
      "Requirement already satisfied: smart-open<7.0.0,>=5.2.1 in /usr/local/lib/python3.10/dist-packages (from spacy<3.7.0,>=3.6.0->es-core-news-sm==3.6.0) (6.4.0)\n",
      "Requirement already satisfied: tqdm<5.0.0,>=4.38.0 in /usr/local/lib/python3.10/dist-packages (from spacy<3.7.0,>=3.6.0->es-core-news-sm==3.6.0) (4.66.1)\n",
      "Requirement already satisfied: numpy>=1.15.0 in /usr/local/lib/python3.10/dist-packages (from spacy<3.7.0,>=3.6.0->es-core-news-sm==3.6.0) (1.23.5)\n",
      "Requirement already satisfied: requests<3.0.0,>=2.13.0 in /usr/local/lib/python3.10/dist-packages (from spacy<3.7.0,>=3.6.0->es-core-news-sm==3.6.0) (2.31.0)\n",
      "Requirement already satisfied: pydantic!=1.8,!=1.8.1,<3.0.0,>=1.7.4 in /usr/local/lib/python3.10/dist-packages (from spacy<3.7.0,>=3.6.0->es-core-news-sm==3.6.0) (1.10.13)\n",
      "Requirement already satisfied: jinja2 in /usr/local/lib/python3.10/dist-packages (from spacy<3.7.0,>=3.6.0->es-core-news-sm==3.6.0) (3.1.2)\n",
      "Requirement already satisfied: setuptools in /usr/local/lib/python3.10/dist-packages (from spacy<3.7.0,>=3.6.0->es-core-news-sm==3.6.0) (67.7.2)\n",
      "Requirement already satisfied: packaging>=20.0 in /usr/local/lib/python3.10/dist-packages (from spacy<3.7.0,>=3.6.0->es-core-news-sm==3.6.0) (23.2)\n",
      "Requirement already satisfied: langcodes<4.0.0,>=3.2.0 in /usr/local/lib/python3.10/dist-packages (from spacy<3.7.0,>=3.6.0->es-core-news-sm==3.6.0) (3.3.0)\n",
      "Requirement already satisfied: typing-extensions>=4.2.0 in /usr/local/lib/python3.10/dist-packages (from pydantic!=1.8,!=1.8.1,<3.0.0,>=1.7.4->spacy<3.7.0,>=3.6.0->es-core-news-sm==3.6.0) (4.5.0)\n",
      "Requirement already satisfied: charset-normalizer<4,>=2 in /usr/local/lib/python3.10/dist-packages (from requests<3.0.0,>=2.13.0->spacy<3.7.0,>=3.6.0->es-core-news-sm==3.6.0) (3.3.0)\n",
      "Requirement already satisfied: idna<4,>=2.5 in /usr/local/lib/python3.10/dist-packages (from requests<3.0.0,>=2.13.0->spacy<3.7.0,>=3.6.0->es-core-news-sm==3.6.0) (3.4)\n",
      "Requirement already satisfied: urllib3<3,>=1.21.1 in /usr/local/lib/python3.10/dist-packages (from requests<3.0.0,>=2.13.0->spacy<3.7.0,>=3.6.0->es-core-news-sm==3.6.0) (2.0.6)\n",
      "Requirement already satisfied: certifi>=2017.4.17 in /usr/local/lib/python3.10/dist-packages (from requests<3.0.0,>=2.13.0->spacy<3.7.0,>=3.6.0->es-core-news-sm==3.6.0) (2023.7.22)\n",
      "Requirement already satisfied: blis<0.8.0,>=0.7.8 in /usr/local/lib/python3.10/dist-packages (from thinc<8.2.0,>=8.1.8->spacy<3.7.0,>=3.6.0->es-core-news-sm==3.6.0) (0.7.11)\n",
      "Requirement already satisfied: confection<1.0.0,>=0.0.1 in /usr/local/lib/python3.10/dist-packages (from thinc<8.2.0,>=8.1.8->spacy<3.7.0,>=3.6.0->es-core-news-sm==3.6.0) (0.1.3)\n",
      "Requirement already satisfied: click<9.0.0,>=7.1.1 in /usr/local/lib/python3.10/dist-packages (from typer<0.10.0,>=0.3.0->spacy<3.7.0,>=3.6.0->es-core-news-sm==3.6.0) (8.1.7)\n",
      "Requirement already satisfied: MarkupSafe>=2.0 in /usr/local/lib/python3.10/dist-packages (from jinja2->spacy<3.7.0,>=3.6.0->es-core-news-sm==3.6.0) (2.1.3)\n",
      "\u001b[38;5;2m✔ Download and installation successful\u001b[0m\n",
      "You can now load the package via spacy.load('es_core_news_sm')\n"
     ]
    }
   ],
   "source": [
    "!python -m spacy download en_core_web_sm\n",
    "!python -m spacy download es_core_news_sm"
   ]
  },
  {
   "cell_type": "code",
   "execution_count": 204,
   "metadata": {
    "id": "RV3Baz61e2jR"
   },
   "outputs": [],
   "source": [
    "import spacy\n",
    "\n",
    "def lemmatize(words: list, lang=\"en\") -> list:\n",
    "    model = \"en_core_web_sm\" if lang == \"en\" else \"es_core_news_sm\"\n",
    "    nlp = spacy.load(model)\n",
    "    nlp.max_length = 1500000\n",
    "    lemmatizer = nlp.get_pipe(\"lemmatizer\")\n",
    "    return [token.lemma_ for token in nlp(\" \".join(words))]"
   ]
  },
  {
   "cell_type": "code",
   "execution_count": 206,
   "metadata": {
    "colab": {
     "base_uri": "https://localhost:8080/"
    },
    "id": "aAST27R7EiRj",
    "outputId": "84c50082-20d4-477f-b82a-8da487a91afb"
   },
   "outputs": [
    {
     "name": "stdout",
     "output_type": "stream",
     "text": [
      "tipos (Vanilla): 15225\n",
      "Tipos (Lemmatized): 11316\n"
     ]
    }
   ],
   "source": [
    "print(\"tipos (Vanilla):\", len(Counter(sub_brown_corpus)))\n",
    "print(\"Tipos (Lemmatized):\", len(Counter(lemmatize(sub_brown_corpus))))"
   ]
  },
  {
   "cell_type": "markdown",
   "metadata": {
    "id": "LSylGoAvlbtz"
   },
   "source": [
    "- eats -> eat\n",
    "- eating -> eat\n",
    "- eated -> eat\n",
    "- ate -> eat"
   ]
  },
  {
   "cell_type": "markdown",
   "metadata": {
    "id": "o4KuoZO5mgtV"
   },
   "source": [
    "### More problems?\n",
    "\n",
    "<img src=\"https://external-content.duckduckgo.com/iu/?u=https%3A%2F%2Fpreview.redd.it%2Fjoonhzw1sjq31.png%3Fwidth%3D960%26crop%3Dsmart%26auto%3Dwebp%26s%3D3725297033765336276d49958089880e3f64d288&f=1&nofb=1&ipt=fdcf7c99c6a13417957a3832a14ca0f7ac4a70fc906fec79997bcb9795e31054&ipo=images\" width=\"250\" height=\"250\">"
   ]
  },
  {
   "cell_type": "markdown",
   "metadata": {
    "id": "pSNd_HLnnPcs"
   },
   "source": [
    "- Métodos dependientes de las lenguas\n",
    "- Se pierde información\n",
    "- Ruled-based (?)"
   ]
  },
  {
   "cell_type": "markdown",
   "metadata": {
    "id": "bvmrBSBgndhs"
   },
   "source": [
    "## Subword-tokenization"
   ]
  },
  {
   "cell_type": "markdown",
   "metadata": {
    "id": "rxVa1ke-tvIa"
   },
   "source": [
    "- Segmentación de palabras en unidades más pequeñas (*sub-words*)\n",
    "- Obtenemos tipos menos variados pero con mayores frecuencias\n",
    "    - Esto le gusta modelos basados en métodos estadísticos\n",
    "- Palabras frecuentes no deberían separarse\n",
    "- Palabras largas y raras debería descomponerse en sub-palabras significativas\n",
    "- Hay métodos estadisticos que no requieren conocimiento a priori de las lenguas"
   ]
  },
  {
   "cell_type": "code",
   "execution_count": 208,
   "metadata": {
    "colab": {
     "base_uri": "https://localhost:8080/"
    },
    "id": "e0ydfVfXvAA9",
    "outputId": "b9bbf662-9738-4520-d9fe-548f22f6cb2d"
   },
   "outputs": [
    {
     "data": {
      "text/plain": [
       "[\"Let's\", 'do', 'token', 'ization', '!']"
      ]
     },
     "execution_count": 208,
     "metadata": {},
     "output_type": "execute_result"
    }
   ],
   "source": [
    "text = \"Let's do tokenization!\"\n",
    "result = [\"Let's\", \"do\", \"token\", \"ization\", \"!\"]\n",
    "result"
   ]
  },
  {
   "cell_type": "markdown",
   "metadata": {
    "id": "Bi91TzS_vfZ7"
   },
   "source": [
    "### Métodos para tokenizar\n"
   ]
  },
  {
   "cell_type": "markdown",
   "metadata": {
    "id": "h3nUEOtMvrHp"
   },
   "source": [
    "- *Byte-pair Encoding, BPE* (🤗, 💽)\n",
    "- *Wordpiece* (🤗)\n",
    "- *Unigram* (🤗)"
   ]
  },
  {
   "cell_type": "code",
   "execution_count": 209,
   "metadata": {
    "colab": {
     "base_uri": "https://localhost:8080/"
    },
    "id": "S4ekcOvYA94b",
    "outputId": "158b081e-9d7e-42ed-d966-4134e0b207a5"
   },
   "outputs": [
    {
     "name": "stdout",
     "output_type": "stream",
     "text": [
      "Requirement already satisfied: sentencepiece in /usr/local/lib/python3.10/dist-packages (0.1.99)\n",
      "Requirement already satisfied: transformers in /usr/local/lib/python3.10/dist-packages (4.34.0)\n",
      "Requirement already satisfied: filelock in /usr/local/lib/python3.10/dist-packages (from transformers) (3.12.4)\n",
      "Requirement already satisfied: huggingface-hub<1.0,>=0.16.4 in /usr/local/lib/python3.10/dist-packages (from transformers) (0.17.3)\n",
      "Requirement already satisfied: numpy>=1.17 in /usr/local/lib/python3.10/dist-packages (from transformers) (1.23.5)\n",
      "Requirement already satisfied: packaging>=20.0 in /usr/local/lib/python3.10/dist-packages (from transformers) (23.2)\n",
      "Requirement already satisfied: pyyaml>=5.1 in /usr/local/lib/python3.10/dist-packages (from transformers) (6.0.1)\n",
      "Requirement already satisfied: regex!=2019.12.17 in /usr/local/lib/python3.10/dist-packages (from transformers) (2023.6.3)\n",
      "Requirement already satisfied: requests in /usr/local/lib/python3.10/dist-packages (from transformers) (2.31.0)\n",
      "Requirement already satisfied: tokenizers<0.15,>=0.14 in /usr/local/lib/python3.10/dist-packages (from transformers) (0.14.1)\n",
      "Requirement already satisfied: safetensors>=0.3.1 in /usr/local/lib/python3.10/dist-packages (from transformers) (0.4.0)\n",
      "Requirement already satisfied: tqdm>=4.27 in /usr/local/lib/python3.10/dist-packages (from transformers) (4.66.1)\n",
      "Requirement already satisfied: fsspec in /usr/local/lib/python3.10/dist-packages (from huggingface-hub<1.0,>=0.16.4->transformers) (2023.6.0)\n",
      "Requirement already satisfied: typing-extensions>=3.7.4.3 in /usr/local/lib/python3.10/dist-packages (from huggingface-hub<1.0,>=0.16.4->transformers) (4.5.0)\n",
      "Requirement already satisfied: charset-normalizer<4,>=2 in /usr/local/lib/python3.10/dist-packages (from requests->transformers) (3.3.0)\n",
      "Requirement already satisfied: idna<4,>=2.5 in /usr/local/lib/python3.10/dist-packages (from requests->transformers) (3.4)\n",
      "Requirement already satisfied: urllib3<3,>=1.21.1 in /usr/local/lib/python3.10/dist-packages (from requests->transformers) (2.0.6)\n",
      "Requirement already satisfied: certifi>=2017.4.17 in /usr/local/lib/python3.10/dist-packages (from requests->transformers) (2023.7.22)\n"
     ]
    }
   ],
   "source": [
    "!pip install sentencepiece\n",
    "!pip install transformers"
   ]
  },
  {
   "cell_type": "markdown",
   "metadata": {
    "id": "KBESt85twGkZ"
   },
   "source": [
    "### BPE"
   ]
  },
  {
   "cell_type": "markdown",
   "metadata": {
    "id": "urnnBA7iwKEW"
   },
   "source": [
    "- Segmenmentación iterativa, comienza segmentando en secuencias de caracteres\n",
    "- Junta los pares más frecuentes (*merge operation*)\n",
    "- Termina cuando se llega al número de *merge operations* especificado o número de vocabulario deseado (*hyperparams*, depende de la implementación)\n",
    "- Introducido en el paper: [Neural Machine Translation of Rare Words with Subword Units, (Sennrich et al., 2015)](https://arxiv.org/abs/1508.07909)"
   ]
  },
  {
   "cell_type": "code",
   "execution_count": null,
   "metadata": {
    "colab": {
     "base_uri": "https://localhost:8080/",
     "height": 438
    },
    "id": "DvhcUk7fBAIG",
    "outputId": "b724caee-22e3-4a9e-c722-da5495aa40cf"
   },
   "outputs": [
    {
     "data": {
      "text/html": [
       "<iframe width=\"760\" height=\"415\" src=\"https://www.youtube.com/embed/HEikzVL-lZU\"></iframe>\n"
      ],
      "text/plain": [
       "<IPython.core.display.HTML object>"
      ]
     },
     "metadata": {},
     "output_type": "display_data"
    }
   ],
   "source": [
    "%%HTML\n",
    "<iframe width=\"760\" height=\"415\" src=\"https://www.youtube.com/embed/HEikzVL-lZU\"></iframe>"
   ]
  },
  {
   "cell_type": "code",
   "execution_count": 210,
   "metadata": {
    "id": "BFGXI-61ELmp"
   },
   "outputs": [],
   "source": [
    "SENTENCE = \"Let's do this tokenization to enable hypermodernization on my tokens tokenized 👁️!!!\""
   ]
  },
  {
   "cell_type": "code",
   "execution_count": 211,
   "metadata": {
    "colab": {
     "base_uri": "https://localhost:8080/"
    },
    "id": "NnRxpoeOD7Ce",
    "outputId": "ea3875dd-007e-4d5c-df54-c2f60f1bfb7b"
   },
   "outputs": [
    {
     "data": {
      "text/plain": [
       "['Let',\n",
       " \"'s\",\n",
       " 'Ġdo',\n",
       " 'Ġthis',\n",
       " 'Ġtoken',\n",
       " 'ization',\n",
       " 'Ġto',\n",
       " 'Ġenable',\n",
       " 'Ġhyper',\n",
       " 'modern',\n",
       " 'ization',\n",
       " 'Ġon',\n",
       " 'Ġmy',\n",
       " 'Ġtokens',\n",
       " 'Ġtoken',\n",
       " 'ized',\n",
       " 'ĠðŁĳ',\n",
       " 'ģ',\n",
       " 'ï¸ı',\n",
       " '!!!']"
      ]
     },
     "execution_count": 211,
     "metadata": {},
     "output_type": "execute_result"
    }
   ],
   "source": [
    "from transformers import GPT2Tokenizer\n",
    "bpe_tokenizer = GPT2Tokenizer.from_pretrained(\"gpt2\")\n",
    "bpe_tokenizer.tokenize(SENTENCE)"
   ]
  },
  {
   "cell_type": "code",
   "execution_count": 212,
   "metadata": {
    "colab": {
     "base_uri": "https://localhost:8080/"
    },
    "id": "wD1hmCbmGyHp",
    "outputId": "a97e0575-6ad9-408a-83ab-fb653e0b2d39"
   },
   "outputs": [
    {
     "data": {
      "text/plain": [
       "{'input_ids': [5756, 338, 466, 428, 11241, 1634, 284, 7139, 8718, 23922, 1634, 319, 616, 16326, 11241, 1143, 50169, 223, 37929, 10185], 'attention_mask': [1, 1, 1, 1, 1, 1, 1, 1, 1, 1, 1, 1, 1, 1, 1, 1, 1, 1, 1, 1]}"
      ]
     },
     "execution_count": 212,
     "metadata": {},
     "output_type": "execute_result"
    }
   ],
   "source": [
    "encoded_tokens = bpe_tokenizer(SENTENCE)\n",
    "encoded_tokens"
   ]
  },
  {
   "cell_type": "code",
   "execution_count": 213,
   "metadata": {
    "colab": {
     "base_uri": "https://localhost:8080/",
     "height": 34
    },
    "id": "zZISJ-PjG6nN",
    "outputId": "9d4573d3-bc3f-421d-a94f-5ec2d579c64a"
   },
   "outputs": [
    {
     "data": {
      "application/vnd.google.colaboratory.intrinsic+json": {
       "type": "string"
      },
      "text/plain": [
       "\"Let's do this tokenization to enable hypermodernization on my tokens tokenized 👁️!!!\""
      ]
     },
     "execution_count": 213,
     "metadata": {},
     "output_type": "execute_result"
    }
   ],
   "source": [
    "bpe_tokenizer.decode(encoded_tokens[\"input_ids\"])"
   ]
  },
  {
   "cell_type": "markdown",
   "metadata": {
    "id": "lLEf-PySGBMx"
   },
   "source": [
    "- En realidad GPT-2 usa *Byte-Level BPE*\n",
    "    - Evitamos vocabularios de inicio grandes (Ej: unicode)\n",
    "    - Usamos bytes como vocabulario base\n",
    "    - Evitamos *Out Of Vocabulary, OOV* (aka `[UKW]`) (?)"
   ]
  },
  {
   "cell_type": "markdown",
   "metadata": {
    "id": "xnaxqfOHHdEo"
   },
   "source": [
    "### WordPiece"
   ]
  },
  {
   "cell_type": "markdown",
   "metadata": {
    "id": "G_GezIRiHfdl"
   },
   "source": [
    "- Descrito en el paper: [Japanese and Korean voice search, (Schuster et al., 2012) ](https://static.googleusercontent.com/media/research.google.com/ja//pubs/archive/37842.pdf)\n",
    "- Similar a BPE, inicia el vocabulario con todos los caracteres y aprende los merges\n",
    "- En contraste con BPE, no elige con base en los pares más frecuentes si no los pares que maximicen la probabilidad de aparecer en los datos una vez que se agregan al vocabulario\n",
    "\n",
    "$$score(a_i,b_j) = \\frac{f(a_i,b_j)}{f(a_i)f(b_j)}$$\n",
    "\n",
    "- Esto quiere decir que evalua la perdida de realizar un *merge* asegurandoce que vale la pena hacerlo\n",
    "\n",
    "- Algoritmo usado en `BERT`"
   ]
  },
  {
   "cell_type": "code",
   "execution_count": 214,
   "metadata": {
    "colab": {
     "base_uri": "https://localhost:8080/"
    },
    "id": "R3GbJuV7A6be",
    "outputId": "877f6f0b-9456-4a52-a3ae-4b91a07f765e"
   },
   "outputs": [
    {
     "data": {
      "text/plain": [
       "['[UNK]',\n",
       " \"'\",\n",
       " 's',\n",
       " 'do',\n",
       " 'this',\n",
       " 'token',\n",
       " '##ization',\n",
       " 'to',\n",
       " 'enable',\n",
       " 'hyper',\n",
       " '##mo',\n",
       " '##dern',\n",
       " '##ization',\n",
       " 'on',\n",
       " 'my',\n",
       " 'token',\n",
       " '##s',\n",
       " 'token',\n",
       " '##ized',\n",
       " '[UNK]',\n",
       " '!',\n",
       " '!',\n",
       " '!',\n",
       " '[UNK]']"
      ]
     },
     "execution_count": 214,
     "metadata": {},
     "output_type": "execute_result"
    }
   ],
   "source": [
    "from transformers import BertTokenizer\n",
    "SENTENCE = \"🌽\" + SENTENCE + \"🔥\"\n",
    "wp_tokenizer = BertTokenizer.from_pretrained(\"bert-base-uncased\")\n",
    "wp_tokenizer.tokenize(SENTENCE)"
   ]
  },
  {
   "cell_type": "markdown",
   "metadata": {
    "id": "v2S-v6_IJiKH"
   },
   "source": [
    "![](https://us-tuna-sounds-images.voicemod.net/9cf541d2-dd7f-4c1c-ae37-8bc671c855fe-1665957161744.jpg)"
   ]
  },
  {
   "cell_type": "code",
   "execution_count": 215,
   "metadata": {
    "colab": {
     "base_uri": "https://localhost:8080/"
    },
    "id": "U_l1y4DDJvSq",
    "outputId": "73cc32d1-4bc7-41e2-8d7f-c5abd9f8dc0a"
   },
   "outputs": [
    {
     "data": {
      "text/plain": [
       "{'input_ids': [101, 100, 1005, 1055, 2079, 2023, 19204, 3989, 2000, 9585, 23760, 5302, 25888, 3989, 2006, 2026, 19204, 2015, 19204, 3550, 100, 999, 999, 999, 100, 102], 'token_type_ids': [0, 0, 0, 0, 0, 0, 0, 0, 0, 0, 0, 0, 0, 0, 0, 0, 0, 0, 0, 0, 0, 0, 0, 0, 0, 0], 'attention_mask': [1, 1, 1, 1, 1, 1, 1, 1, 1, 1, 1, 1, 1, 1, 1, 1, 1, 1, 1, 1, 1, 1, 1, 1, 1, 1]}"
      ]
     },
     "execution_count": 215,
     "metadata": {},
     "output_type": "execute_result"
    }
   ],
   "source": [
    "wp_tokenizer(SENTENCE)"
   ]
  },
  {
   "cell_type": "markdown",
   "metadata": {
    "id": "LsnetsJ-gWHM"
   },
   "source": [
    "### Unigram"
   ]
  },
  {
   "cell_type": "markdown",
   "metadata": {
    "id": "JKia-OlqgYTn"
   },
   "source": [
    "- Algoritmo de subpword tokenization introducido en el paper: [Subword Regularization: Improving Neural Network Translation Models with Multiple Subword Candidates (Kudo, 2018)](https://arxiv.org/pdf/1804.10959.pdf)\n",
    "- En contraste con BPE o WordPiece, este algoritmo inicia con un vocabulario muy grande y va reduciendolo hasta llegar tener un vocabulario deseado\n",
    "- En cada iteración se calcula la perdida de quitar cierto elemento del vocabulario\n",
    "    - Se quitará `p%` elementos que menos aumenten la perdida en esa iteración\n",
    "- El algoritmo termina cuando se alcanza el tamaño deseado del vocabulario"
   ]
  },
  {
   "cell_type": "markdown",
   "metadata": {
    "id": "28IEp2eLwFxJ"
   },
   "source": [
    "![unigram_loss.png](data:image/png;base64,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)"
   ]
  },
  {
   "cell_type": "markdown",
   "metadata": {
    "id": "eqS3rQ56z7oW"
   },
   "source": [
    "Sin embargo, *Unigram* no se usa por si mismo en algun modelo de Hugging Face:\n",
    "> \"Unigram is not used directly for any of the models in the transformers, but it’s used in conjunction with SentencePiece.\" - Hugging face guy\n"
   ]
  },
  {
   "cell_type": "markdown",
   "metadata": {
    "id": "oaIJpqsY0Hj5"
   },
   "source": [
    "### SentencePiece\n"
   ]
  },
  {
   "cell_type": "markdown",
   "metadata": {
    "id": "2Hu7plAT0MFz"
   },
   "source": [
    "- No asume que las palabras estan divididas por espacios\n",
    "- Trata la entrada de texto como un *stream* de datos crudos. Esto incluye al espacio como un caractér a usar\n",
    "- Utiliza BPE o Unigram para construir el vocabulario"
   ]
  },
  {
   "cell_type": "code",
   "execution_count": 216,
   "metadata": {
    "colab": {
     "base_uri": "https://localhost:8080/",
     "height": 530,
     "referenced_widgets": [
      "79162b831cda4631a6213149b61470c4",
      "e9356268f592457798613eed0481811b",
      "6ac25032053745ed85299fa6e3e669c2",
      "64dbfe6a4b27433c9ec39bf267c5b6a3",
      "361c1d6e88d34840865938090db25ab4",
      "cc7f7b64537f40ecb4681dbc3bbd02c0",
      "cc54cb3f9b034407943c41309f6f8b6a",
      "ef017799af19450985ae4487b4d979c1",
      "ec826e27c60d40339fea9c4a25edebbe",
      "a6b888ab688b4374b72489120e69af76",
      "4504ceecfa6a4a418de3c60b8a9f700b",
      "272775fb3e1b4eafa9bfb974165b827f",
      "143bd9cd6990432ca2d668f8054ea2e2",
      "56ea7547905f44749457685c11399e57",
      "10418a182a1c40188a996e80642f378f",
      "9cfcb4be0bca41229ca77f6ef79ab591",
      "7fec9fcccc984706a4b0a2a6cb4e428d",
      "c402cd96d2f1427aa547eab16e8fd9a2",
      "37d4442e5e8f4cb39c55434d19f4fd56",
      "d685f2635bc84ca4adb7c482bdd05c4c",
      "7f22daa35eec41ce8e35a38f58cac51b",
      "f2930bbcd73e4d66a83b07141d1c1ba4",
      "7757044d639b40b78dd99971d62c6225",
      "4e04cde4fcfd4318b76eb2d504ebbd39",
      "4c67e6761dad42718951f9ba69170654",
      "ab27ed7caeba4b59a34e57555812f401",
      "4af7e76583074d038a0a7cc15a1de2e0",
      "ef18442cac994ffda285017ed1e26c89",
      "b5bc36408cf643a691716e36807f7060",
      "433723554d85449e800e315722f0958d",
      "2e3e6f7e1b974553a01e6a277ea17a26",
      "70e9aea62e9f486d907a43ff66ce8f5b",
      "4455897594f045138fab5fc1ce70c137"
     ]
    },
    "id": "S_C5ypqsy81u",
    "outputId": "cd90cd67-102c-48c6-e7d3-37f3259d0738"
   },
   "outputs": [
    {
     "data": {
      "application/vnd.jupyter.widget-view+json": {
       "model_id": "79162b831cda4631a6213149b61470c4",
       "version_major": 2,
       "version_minor": 0
      },
      "text/plain": [
       "Downloading (…)ve/main/spiece.model:   0%|          | 0.00/798k [00:00<?, ?B/s]"
      ]
     },
     "metadata": {},
     "output_type": "display_data"
    },
    {
     "data": {
      "application/vnd.jupyter.widget-view+json": {
       "model_id": "272775fb3e1b4eafa9bfb974165b827f",
       "version_major": 2,
       "version_minor": 0
      },
      "text/plain": [
       "Downloading (…)/main/tokenizer.json:   0%|          | 0.00/1.38M [00:00<?, ?B/s]"
      ]
     },
     "metadata": {},
     "output_type": "display_data"
    },
    {
     "data": {
      "application/vnd.jupyter.widget-view+json": {
       "model_id": "7757044d639b40b78dd99971d62c6225",
       "version_major": 2,
       "version_minor": 0
      },
      "text/plain": [
       "Downloading (…)lve/main/config.json:   0%|          | 0.00/760 [00:00<?, ?B/s]"
      ]
     },
     "metadata": {},
     "output_type": "display_data"
    },
    {
     "data": {
      "text/plain": [
       "['▁',\n",
       " '🌽',\n",
       " 'Let',\n",
       " \"'\",\n",
       " 's',\n",
       " '▁do',\n",
       " '▁this',\n",
       " '▁token',\n",
       " 'ization',\n",
       " '▁to',\n",
       " '▁enable',\n",
       " '▁hyper',\n",
       " 'modern',\n",
       " 'ization',\n",
       " '▁on',\n",
       " '▁my',\n",
       " '▁token',\n",
       " 's',\n",
       " '▁token',\n",
       " 'ized',\n",
       " '▁',\n",
       " '👁️',\n",
       " '!!!',\n",
       " '🔥']"
      ]
     },
     "execution_count": 216,
     "metadata": {},
     "output_type": "execute_result"
    }
   ],
   "source": [
    "from transformers import XLNetTokenizer\n",
    "\n",
    "tokenizer = XLNetTokenizer.from_pretrained(\"xlnet-base-cased\")\n",
    "tokenizer.tokenize(SENTENCE)"
   ]
  },
  {
   "cell_type": "markdown",
   "metadata": {
    "id": "e0OBaH-s2McQ"
   },
   "source": [
    "### Objetivo de los subword tokenizers\n"
   ]
  },
  {
   "cell_type": "markdown",
   "metadata": {
    "id": "b-UWPtZD2sV5"
   },
   "source": [
    "- Buscamos que modelos de redes neuronales tenga datos mas frecuentes\n",
    "- Esto ayuda a que en principio \"aprendan\" mejor\n",
    "- Reducir el numero de tipos (?)\n",
    "- Reducir el numero de OOV (?)\n",
    "- Reducir la entropia (?)"
   ]
  },
  {
   "cell_type": "markdown",
   "metadata": {
    "id": "rMbXi89C3END"
   },
   "source": [
    "## Vamos a tokenizar 🌈"
   ]
  },
  {
   "cell_type": "markdown",
   "metadata": {
    "id": "TpWVVLzy3RQa"
   },
   "source": [
    "![](https://external-content.duckduckgo.com/iu/?u=https%3A%2F%2Fi.pinimg.com%2F736x%2F75%2F28%2Fe7%2F7528e71db75a37f0dcf5be8a54e0523f.jpg&f=1&nofb=1&ipt=d08ba1ed7fa9af9c3692703a667271740c22bb8e8f5b9f5f7acb44715e7d47d8&ipo=images)"
   ]
  },
  {
   "cell_type": "markdown",
   "metadata": {
    "id": "SNl_R1mqQqWs"
   },
   "source": [
    "### Corpus Español: CESS"
   ]
  },
  {
   "cell_type": "code",
   "execution_count": 217,
   "metadata": {
    "colab": {
     "base_uri": "https://localhost:8080/"
    },
    "id": "VCXtaN9fRBCn",
    "outputId": "c5004ba1-d603-4ceb-f3f8-529939afa098"
   },
   "outputs": [
    {
     "name": "stderr",
     "output_type": "stream",
     "text": [
      "[nltk_data] Downloading package cess_esp to /root/nltk_data...\n",
      "[nltk_data]   Package cess_esp is already up-to-date!\n"
     ]
    },
    {
     "data": {
      "text/plain": [
       "True"
      ]
     },
     "execution_count": 217,
     "metadata": {},
     "output_type": "execute_result"
    }
   ],
   "source": [
    "nltk.download(\"cess_esp\")"
   ]
  },
  {
   "cell_type": "code",
   "execution_count": 218,
   "metadata": {
    "id": "DtnmYlySQsFE"
   },
   "outputs": [],
   "source": [
    "from nltk.corpus import cess_esp as cess\n",
    "\n",
    "cess_sents = cess.sents()\n",
    "cess_words = cess.words()"
   ]
  },
  {
   "cell_type": "code",
   "execution_count": 219,
   "metadata": {
    "colab": {
     "base_uri": "https://localhost:8080/"
    },
    "id": "Jdd5tW35RPRH",
    "outputId": "0d9f1321-38ed-4636-b931-07411d1c03d0"
   },
   "outputs": [
    {
     "data": {
      "text/plain": [
       "6030"
      ]
     },
     "execution_count": 219,
     "metadata": {},
     "output_type": "execute_result"
    }
   ],
   "source": [
    "len(cess_sents)"
   ]
  },
  {
   "cell_type": "code",
   "execution_count": 220,
   "metadata": {
    "id": "xbanfyLMSeq1"
   },
   "outputs": [],
   "source": [
    "cess_plain_text = \" \".join([\" \".join(sentence) for sentence in cess_sents])\n",
    "cess_plain_text = re.sub(r\"[-|_]\", \" \", cess_plain_text)"
   ]
  },
  {
   "cell_type": "code",
   "execution_count": 221,
   "metadata": {
    "colab": {
     "base_uri": "https://localhost:8080/"
    },
    "id": "92qjQXedUIui",
    "outputId": "c36944ff-66c3-446c-83af-8bd2631da8b6"
   },
   "outputs": [
    {
     "data": {
      "text/plain": [
       "1104297"
      ]
     },
     "execution_count": 221,
     "metadata": {},
     "output_type": "execute_result"
    }
   ],
   "source": [
    "len(cess_plain_text)"
   ]
  },
  {
   "cell_type": "code",
   "execution_count": 222,
   "metadata": {
    "colab": {
     "base_uri": "https://localhost:8080/",
     "height": 52
    },
    "id": "8ojFGeSCTlmj",
    "outputId": "8ab04372-59c6-4041-ac12-deee1b526e6c"
   },
   "outputs": [
    {
     "data": {
      "application/vnd.google.colaboratory.intrinsic+json": {
       "type": "string"
      },
      "text/plain": [
       "'EDF explicó a EFE que el proyecto para la construcción de Altamira 2 , al norte de Tampico , prevé la utilización de gas natural como combustible principal en una central de ciclo combinado que debe empezar a funcionar en mayo del 2002 . La electricidad producida pasará a la red eléctrica pública de'"
      ]
     },
     "execution_count": 222,
     "metadata": {},
     "output_type": "execute_result"
    }
   ],
   "source": [
    "cess_plain_text[300:600]"
   ]
  },
  {
   "cell_type": "markdown",
   "metadata": {
    "id": "Ig_H8-oEUwU2"
   },
   "source": [
    "### Corpus Inglés: Genesis"
   ]
  },
  {
   "cell_type": "code",
   "execution_count": 223,
   "metadata": {
    "colab": {
     "base_uri": "https://localhost:8080/"
    },
    "id": "QPstlJ20UkbE",
    "outputId": "bf6bc088-3f02-4411-ddba-1d87752d814f"
   },
   "outputs": [
    {
     "name": "stderr",
     "output_type": "stream",
     "text": [
      "[nltk_data] Downloading package genesis to /root/nltk_data...\n",
      "[nltk_data]   Package genesis is already up-to-date!\n"
     ]
    },
    {
     "data": {
      "text/plain": [
       "True"
      ]
     },
     "execution_count": 223,
     "metadata": {},
     "output_type": "execute_result"
    }
   ],
   "source": [
    "nltk.download('genesis')"
   ]
  },
  {
   "cell_type": "code",
   "execution_count": 224,
   "metadata": {
    "id": "DcDTJyKYQLSJ"
   },
   "outputs": [],
   "source": [
    "from nltk.corpus import genesis\n",
    "\n",
    "genesis_plain_text = genesis.raw()\n",
    "genesis_words = genesis.words()"
   ]
  },
  {
   "cell_type": "code",
   "execution_count": 225,
   "metadata": {
    "colab": {
     "base_uri": "https://localhost:8080/"
    },
    "id": "r1YjiO5dUpII",
    "outputId": "25182cdb-8237-44e4-fff5-c627907c057d"
   },
   "outputs": [
    {
     "data": {
      "text/plain": [
       "1420424"
      ]
     },
     "execution_count": 225,
     "metadata": {},
     "output_type": "execute_result"
    }
   ],
   "source": [
    "len(genesis_plain_text)"
   ]
  },
  {
   "cell_type": "markdown",
   "metadata": {
    "id": "y7ojemCtVEwE"
   },
   "source": [
    "### Tokenizando el español con Hugging face"
   ]
  },
  {
   "cell_type": "code",
   "execution_count": 226,
   "metadata": {
    "colab": {
     "base_uri": "https://localhost:8080/"
    },
    "id": "-MHPlfhUVHl0",
    "outputId": "5c99a957-6e17-4e82-e51d-65d83c2cb583"
   },
   "outputs": [
    {
     "data": {
      "text/plain": [
       "['el',\n",
       " 'grupo',\n",
       " 'estatal',\n",
       " 'electri',\n",
       " '##ci',\n",
       " '##té',\n",
       " 'de',\n",
       " 'france',\n",
       " 'fp',\n",
       " '##a',\n",
       " 'ed',\n",
       " '##f',\n",
       " 'fp',\n",
       " '##t',\n",
       " 'anunció',\n",
       " 'hoy',\n",
       " ',',\n",
       " 'jueves',\n",
       " ',',\n",
       " 'la',\n",
       " 'compra',\n",
       " 'del',\n",
       " '51',\n",
       " 'por',\n",
       " 'c']"
      ]
     },
     "execution_count": 226,
     "metadata": {},
     "output_type": "execute_result"
    }
   ],
   "source": [
    "from transformers import AutoTokenizer\n",
    "\n",
    "spanish_tokenizer = AutoTokenizer.from_pretrained(\"dccuchile/bert-base-spanish-wwm-uncased\")\n",
    "spanish_tokenizer.tokenize(cess_plain_text[:100])"
   ]
  },
  {
   "cell_type": "code",
   "execution_count": 227,
   "metadata": {
    "colab": {
     "base_uri": "https://localhost:8080/"
    },
    "id": "x-aByv8pXYRQ",
    "outputId": "1b455f23-4254-4499-9fc2-7896620d627a"
   },
   "outputs": [
    {
     "data": {
      "text/plain": [
       "25464"
      ]
     },
     "execution_count": 227,
     "metadata": {},
     "output_type": "execute_result"
    }
   ],
   "source": [
    "cess_types = Counter(cess_words)\n",
    "len(cess_types)"
   ]
  },
  {
   "cell_type": "code",
   "execution_count": 229,
   "metadata": {
    "colab": {
     "base_uri": "https://localhost:8080/"
    },
    "id": "SbpXXjvKYRW6",
    "outputId": "be5ea30d-3c7a-40a1-bbb2-78324deef9f8"
   },
   "outputs": [
    {
     "data": {
      "text/plain": [
       "[(',', 11420),\n",
       " ('de', 10234),\n",
       " ('la', 6412),\n",
       " ('.', 5866),\n",
       " ('que', 5552),\n",
       " ('el', 5199),\n",
       " ('en', 4340),\n",
       " ('y', 4235),\n",
       " ('*0*', 3883),\n",
       " ('\"', 3038),\n",
       " ('los', 2963),\n",
       " ('a', 2953),\n",
       " ('del', 2257),\n",
       " ('se', 1884),\n",
       " ('las', 1832),\n",
       " ('un', 1815),\n",
       " ('con', 1494),\n",
       " ('por', 1456),\n",
       " ('una', 1396),\n",
       " ('su', 1291)]"
      ]
     },
     "execution_count": 229,
     "metadata": {},
     "output_type": "execute_result"
    }
   ],
   "source": [
    "cess_types.most_common(20)"
   ]
  },
  {
   "cell_type": "code",
   "execution_count": 230,
   "metadata": {
    "colab": {
     "base_uri": "https://localhost:8080/"
    },
    "id": "7pYaX_ZEXijm",
    "outputId": "90abb358-4222-4c2e-8218-ab544c7bba29"
   },
   "outputs": [
    {
     "name": "stderr",
     "output_type": "stream",
     "text": [
      "Token indices sequence length is longer than the specified maximum sequence length for this model (236857 > 512). Running this sequence through the model will result in indexing errors\n"
     ]
    },
    {
     "data": {
      "text/plain": [
       "17818"
      ]
     },
     "execution_count": 230,
     "metadata": {},
     "output_type": "execute_result"
    }
   ],
   "source": [
    "cess_tokenized = spanish_tokenizer.tokenize(cess_plain_text)\n",
    "cess_tokenized_types = Counter(cess_tokenized)\n",
    "len(cess_tokenized_types)"
   ]
  },
  {
   "cell_type": "code",
   "execution_count": 232,
   "metadata": {
    "colab": {
     "base_uri": "https://localhost:8080/"
    },
    "id": "MWOUzc9JYG1T",
    "outputId": "93c3d1e7-3401-496f-f088-e7a9ed0939a2"
   },
   "outputs": [
    {
     "data": {
      "text/plain": [
       "[('de', 11838),\n",
       " (',', 11622),\n",
       " ('*', 7767),\n",
       " ('la', 7164),\n",
       " ('.', 6534),\n",
       " ('el', 6090),\n",
       " ('que', 5948),\n",
       " ('en', 5001),\n",
       " ('y', 4441),\n",
       " ('0', 3972),\n",
       " ('a', 3634),\n",
       " ('los', 3230),\n",
       " ('\"', 3050),\n",
       " ('del', 2516),\n",
       " ('se', 1957),\n",
       " ('las', 1957),\n",
       " ('por', 1949),\n",
       " ('un', 1906),\n",
       " ('fp', 1651),\n",
       " ('con', 1639),\n",
       " ('una', 1474),\n",
       " ('no', 1428),\n",
       " ('para', 1360),\n",
       " ('su', 1336),\n",
       " ('##a', 1301),\n",
       " ('al', 1241),\n",
       " ('##s', 1197),\n",
       " ('es', 1012),\n",
       " ('##t', 941),\n",
       " ('como', 788)]"
      ]
     },
     "execution_count": 232,
     "metadata": {},
     "output_type": "execute_result"
    }
   ],
   "source": [
    "cess_tokenized_types.most_common(30)"
   ]
  },
  {
   "cell_type": "code",
   "execution_count": 233,
   "metadata": {
    "colab": {
     "base_uri": "https://localhost:8080/"
    },
    "id": "pXxst1GJmnAA",
    "outputId": "6d627169-3d8b-42b9-829d-424787e4ef97"
   },
   "outputs": [
    {
     "data": {
      "text/plain": [
       "18109"
      ]
     },
     "execution_count": 233,
     "metadata": {},
     "output_type": "execute_result"
    }
   ],
   "source": [
    "cess_lemmatized_types = Counter(lemmatize(cess_words, lang=\"es\"))\n",
    "len(cess_lemmatized_types)"
   ]
  },
  {
   "cell_type": "code",
   "execution_count": 234,
   "metadata": {
    "colab": {
     "base_uri": "https://localhost:8080/"
    },
    "id": "vYPJSUTaoDOY",
    "outputId": "3ae68b47-f872-4fac-f987-b17826e270fd"
   },
   "outputs": [
    {
     "data": {
      "text/plain": [
       "[('el', 17905),\n",
       " (',', 11424),\n",
       " ('de', 10280),\n",
       " ('*', 7767),\n",
       " ('.', 5896),\n",
       " ('que', 5568),\n",
       " ('en', 4628),\n",
       " ('y', 4339),\n",
       " ('0', 3889),\n",
       " ('uno', 3631),\n",
       " ('él', 3565),\n",
       " ('\"', 3043),\n",
       " ('a', 3006),\n",
       " ('ser', 2416),\n",
       " ('del', 2261),\n",
       " ('su', 1824),\n",
       " ('haber', 1724),\n",
       " ('con', 1545),\n",
       " ('por', 1526),\n",
       " ('no', 1354),\n",
       " ('para', 1313),\n",
       " ('-', 1240),\n",
       " ('al', 1011),\n",
       " ('este', 848),\n",
       " ('-Fpa-', 773),\n",
       " ('como', 724),\n",
       " ('-Fpt-', 676),\n",
       " ('más', 664),\n",
       " ('estar', 577),\n",
       " ('tener', 569)]"
      ]
     },
     "execution_count": 234,
     "metadata": {},
     "output_type": "execute_result"
    }
   ],
   "source": [
    "cess_lemmatized_types.most_common(30)"
   ]
  },
  {
   "cell_type": "markdown",
   "metadata": {
    "id": "TI_4lLaDbXLK"
   },
   "source": [
    "### Tokenizando para el ingles"
   ]
  },
  {
   "cell_type": "code",
   "execution_count": 235,
   "metadata": {
    "colab": {
     "base_uri": "https://localhost:8080/"
    },
    "id": "gZCtfixJbPuE",
    "outputId": "f6239fb0-1c37-4c70-8eb7-894fc618b0de"
   },
   "outputs": [
    {
     "data": {
      "text/plain": [
       "25841"
      ]
     },
     "execution_count": 235,
     "metadata": {},
     "output_type": "execute_result"
    }
   ],
   "source": [
    "genesis_types = Counter(genesis_words)\n",
    "len(genesis_types)"
   ]
  },
  {
   "cell_type": "code",
   "execution_count": 236,
   "metadata": {
    "colab": {
     "base_uri": "https://localhost:8080/"
    },
    "id": "K8YuRqJVbii1",
    "outputId": "6944e10f-06ac-492d-83ef-8cb98b1fc002"
   },
   "outputs": [
    {
     "data": {
      "text/plain": [
       "6501"
      ]
     },
     "execution_count": 236,
     "metadata": {},
     "output_type": "execute_result"
    }
   ],
   "source": [
    "genesis_tokenized = wp_tokenizer.tokenize(genesis_plain_text)\n",
    "genesis_tokenized_types = Counter(genesis_tokenized)\n",
    "len(genesis_tokenized_types)"
   ]
  },
  {
   "cell_type": "code",
   "execution_count": 237,
   "metadata": {
    "colab": {
     "base_uri": "https://localhost:8080/"
    },
    "id": "IVyJ3N9xbz3J",
    "outputId": "c144bea0-b51a-4dee-95cc-f2a22c1b0057"
   },
   "outputs": [
    {
     "data": {
      "text/plain": [
       "[(',', 22823),\n",
       " ('.', 12549),\n",
       " ('and', 5751),\n",
       " ('##e', 5452),\n",
       " ('##a', 5355),\n",
       " ('##t', 5220),\n",
       " ('the', 4936),\n",
       " ('##s', 4487),\n",
       " ('e', 4289),\n",
       " ('de', 3882),\n",
       " (':', 3659),\n",
       " (';', 3642),\n",
       " ('a', 3472),\n",
       " (\"'\", 3461),\n",
       " ('##n', 3320),\n",
       " ('##i', 3064),\n",
       " ('ja', 2970),\n",
       " ('i', 2943),\n",
       " ('of', 2862),\n",
       " ('se', 2854),\n",
       " ('##u', 2732),\n",
       " ('to', 2661),\n",
       " ('##z', 2627),\n",
       " ('und', 2611),\n",
       " ('et', 2511),\n",
       " ('och', 2460),\n",
       " ('##r', 2417),\n",
       " ('\"', 2415),\n",
       " ('##h', 2399),\n",
       " ('##m', 2351)]"
      ]
     },
     "execution_count": 237,
     "metadata": {},
     "output_type": "execute_result"
    }
   ],
   "source": [
    "genesis_tokenized_types.most_common(30)"
   ]
  },
  {
   "cell_type": "code",
   "execution_count": 238,
   "metadata": {
    "colab": {
     "base_uri": "https://localhost:8080/"
    },
    "id": "jP-6w2yfoQ5g",
    "outputId": "e2f6280f-bb87-42c2-d9d8-f37d643a3826"
   },
   "outputs": [
    {
     "data": {
      "text/plain": [
       "24655"
      ]
     },
     "execution_count": 238,
     "metadata": {},
     "output_type": "execute_result"
    }
   ],
   "source": [
    "genesis_lemmatized_types = Counter(lemmatize(genesis_words))\n",
    "len(genesis_lemmatized_types)"
   ]
  },
  {
   "cell_type": "code",
   "execution_count": null,
   "metadata": {
    "colab": {
     "base_uri": "https://localhost:8080/"
    },
    "id": "3FZ8bI7Do00y",
    "outputId": "9174a4e8-aa9b-4963-c2b1-c2776833aaba"
   },
   "outputs": [
    {
     "data": {
      "text/plain": [
       "[(',', 22823),\n",
       " ('.', 12509),\n",
       " ('and', 5639),\n",
       " ('the', 4911),\n",
       " (';', 3641),\n",
       " (':', 3641),\n",
       " (\"'\", 3461),\n",
       " ('e', 3264),\n",
       " ('de', 3211),\n",
       " ('of', 2839),\n",
       " ('I', 2809),\n",
       " ('be', 2774),\n",
       " ('he', 2632),\n",
       " ('\"', 2427),\n",
       " ('a', 2407),\n",
       " ('und', 2030),\n",
       " ('och', 2006),\n",
       " ('to', 1849),\n",
       " ('in', 1691),\n",
       " ('et', 1645)]"
      ]
     },
     "execution_count": 46,
     "metadata": {},
     "output_type": "execute_result"
    }
   ],
   "source": [
    "genesis_lemmatized_types.most_common(20)"
   ]
  },
  {
   "cell_type": "markdown",
   "metadata": {
    "id": "QCZ9MV7ecmGo"
   },
   "source": [
    "## Entrenando nuestro modelo con BPE"
   ]
  },
  {
   "cell_type": "markdown",
   "metadata": {
    "id": "mre2MjiTbMh6"
   },
   "source": [
    "![](https://external-content.duckduckgo.com/iu/?u=https%3A%2F%2Fmedia1.tenor.com%2Fimages%2Fd565618bb1217a7c435579d9172270d0%2Ftenor.gif%3Fitemid%3D3379322&f=1&nofb=1&ipt=9719714edb643995ce9d978c8bab77f5310204960093070e37e183d5372096d9&ipo=images)"
   ]
  },
  {
   "cell_type": "code",
   "execution_count": 239,
   "metadata": {
    "colab": {
     "base_uri": "https://localhost:8080/"
    },
    "id": "Fb7ajFAHcscl",
    "outputId": "11d98cbf-0bf7-497f-94b4-ea0e15f08e40"
   },
   "outputs": [
    {
     "name": "stdout",
     "output_type": "stream",
     "text": [
      "Requirement already satisfied: subword-nmt in /usr/local/lib/python3.10/dist-packages (0.3.8)\n",
      "Requirement already satisfied: mock in /usr/local/lib/python3.10/dist-packages (from subword-nmt) (5.1.0)\n",
      "Requirement already satisfied: tqdm in /usr/local/lib/python3.10/dist-packages (from subword-nmt) (4.66.1)\n"
     ]
    }
   ],
   "source": [
    "!pip install subword-nmt"
   ]
  },
  {
   "cell_type": "code",
   "execution_count": 245,
   "metadata": {
    "id": "a-oo4rQOdGN2"
   },
   "outputs": [],
   "source": [
    "with open(\"cess_plain.txt\", \"w\") as f:\n",
    "    f.write(cess_plain_text)"
   ]
  },
  {
   "cell_type": "code",
   "execution_count": 246,
   "metadata": {
    "colab": {
     "base_uri": "https://localhost:8080/"
    },
    "id": "JwyeJ5f0dWjE",
    "outputId": "fd9174f9-e1f3-4ecc-c212-31e31dcfd56b"
   },
   "outputs": [
    {
     "name": "stdout",
     "output_type": "stream",
     "text": [
      "axolotl_plain_normalized.txt   cess.model\n",
      "axolotl_plain_test.txt\t       cess_plain.txt\n",
      "axolotl_plain_test.txt.txt     cess_test_tokenized.txt\n",
      "axolotl_plain_vanilla.txt      sample_data\n",
      "axolotl_vanilla.model\t       spa_bible_tokenized.txt\n",
      "axolotl_vanilla_tokenized.txt  spa-bible.txt\n"
     ]
    }
   ],
   "source": [
    "!ls"
   ]
  },
  {
   "cell_type": "code",
   "execution_count": null,
   "metadata": {
    "colab": {
     "base_uri": "https://localhost:8080/"
    },
    "id": "nLTPhYlzdZMB",
    "outputId": "079534e2-e586-4a58-cf8e-6321dd9a547a"
   },
   "outputs": [],
   "source": [
    "!cat cess_plain.txt"
   ]
  },
  {
   "cell_type": "code",
   "execution_count": 248,
   "metadata": {
    "colab": {
     "base_uri": "https://localhost:8080/"
    },
    "id": "E_oASS5Vc1xz",
    "outputId": "0f4e29ee-096f-4f4c-bb05-86b2931460f5"
   },
   "outputs": [
    {
     "name": "stdout",
     "output_type": "stream",
     "text": [
      "100% 300/300 [00:01<00:00, 210.48it/s]\n"
     ]
    }
   ],
   "source": [
    "!subword-nmt learn-bpe -s 300 < cess_plain.txt > cess.model"
   ]
  },
  {
   "cell_type": "code",
   "execution_count": 249,
   "metadata": {
    "colab": {
     "base_uri": "https://localhost:8080/"
    },
    "id": "FA1pLWxx6ETS",
    "outputId": "cb79e6cf-423c-4453-91f1-4dd0be2df523"
   },
   "outputs": [
    {
     "name": "stdout",
     "output_type": "stream",
     "text": [
      "Q@@ ui@@ si@@ era que pro@@ c@@ es@@ ar@@ as esta mar@@ a@@ vi@@ ll@@ os@@ a or@@ ación m@@ i c@@ h@@ av@@ o\n"
     ]
    }
   ],
   "source": [
    "!echo \"Quisiera que procesaras esta maravillosa oración mi chavo\" | subword-nmt apply-bpe -c cess.model"
   ]
  },
  {
   "cell_type": "markdown",
   "metadata": {
    "id": "sbRQG1WNAbjm"
   },
   "source": [
    "## Aplicandolo a otros corpus"
   ]
  },
  {
   "cell_type": "code",
   "execution_count": 250,
   "metadata": {
    "id": "6XO4EeM8pkxG"
   },
   "outputs": [],
   "source": [
    "BIBLE_FILE_NAMES = {\"spa\": \"spa-x-bible-reinavaleracontemporanea\", \"eng\": \"eng-x-bible-kingjames\"}"
   ]
  },
  {
   "cell_type": "code",
   "execution_count": 251,
   "metadata": {
    "id": "VMNjKQD0NONF"
   },
   "outputs": [],
   "source": [
    "import requests\n",
    "\n",
    "def get_bible_corpus(lang: str) -> str:\n",
    "    file_name = BIBLE_FILE_NAMES[lang]\n",
    "    r = requests.get(f\"https://raw.githubusercontent.com/ximenina/theturningpoint/main/Detailed/corpora/corpusPBC/{file_name}.txt.clean.txt\")\n",
    "    return r.text\n",
    "\n",
    "def write_plain_text_corpus(raw_text: str, file_name: str) -> None:\n",
    "    with open(f\"{file_name}.txt\", \"w\") as f:\n",
    "        f.write(raw_text)"
   ]
  },
  {
   "cell_type": "code",
   "execution_count": 252,
   "metadata": {
    "colab": {
     "base_uri": "https://localhost:8080/",
     "height": 34
    },
    "id": "JmJ8KanArk-V",
    "outputId": "ad74e97d-4856-46b5-e0a7-f406a7050632"
   },
   "outputs": [
    {
     "data": {
      "application/vnd.google.colaboratory.intrinsic+json": {
       "type": "string"
      },
      "text/plain": [
       "'spa-x-bible-reinavaleracontemporanea'"
      ]
     },
     "execution_count": 252,
     "metadata": {},
     "output_type": "execute_result"
    }
   ],
   "source": [
    "BIBLE_FILE_NAMES['spa']"
   ]
  },
  {
   "cell_type": "code",
   "execution_count": 253,
   "metadata": {
    "id": "HnYGl4NtNueJ"
   },
   "outputs": [],
   "source": [
    "spa_bible_plain_text = get_bible_corpus('spa')\n",
    "spa_bible_words = spa_bible_plain_text.replace(\"\\n\", \" \").split()"
   ]
  },
  {
   "cell_type": "code",
   "execution_count": 254,
   "metadata": {
    "colab": {
     "base_uri": "https://localhost:8080/"
    },
    "id": "brmETSDiPEkV",
    "outputId": "0e4a8f0c-c848-4daf-e8fb-831eb4462cfd"
   },
   "outputs": [
    {
     "data": {
      "text/plain": [
       "['Principio',\n",
       " 'del',\n",
       " 'evangelio',\n",
       " 'de',\n",
       " 'Jesucristo',\n",
       " ',',\n",
       " 'el',\n",
       " 'Hijo',\n",
       " 'de',\n",
       " 'Dios']"
      ]
     },
     "execution_count": 254,
     "metadata": {},
     "output_type": "execute_result"
    }
   ],
   "source": [
    "spa_bible_words[:10]"
   ]
  },
  {
   "cell_type": "code",
   "execution_count": 255,
   "metadata": {
    "colab": {
     "base_uri": "https://localhost:8080/"
    },
    "id": "FdgN5Br7P5-X",
    "outputId": "4fe9abfe-67db-40a3-dc09-debc6ab4c24b"
   },
   "outputs": [
    {
     "data": {
      "text/plain": [
       "30073"
      ]
     },
     "execution_count": 255,
     "metadata": {},
     "output_type": "execute_result"
    }
   ],
   "source": [
    "len(spa_bible_words)"
   ]
  },
  {
   "cell_type": "code",
   "execution_count": 256,
   "metadata": {
    "colab": {
     "base_uri": "https://localhost:8080/"
    },
    "id": "otFwhvKCQA7p",
    "outputId": "db251a0a-7cbb-44b8-af93-480f0361810b"
   },
   "outputs": [
    {
     "data": {
      "text/plain": [
       "3568"
      ]
     },
     "execution_count": 256,
     "metadata": {},
     "output_type": "execute_result"
    }
   ],
   "source": [
    "spa_bible_types = Counter(spa_bible_words)\n",
    "len(spa_bible_types)"
   ]
  },
  {
   "cell_type": "code",
   "execution_count": 258,
   "metadata": {
    "colab": {
     "base_uri": "https://localhost:8080/"
    },
    "id": "ynLly3NoQKES",
    "outputId": "0e9ac78c-e465-425a-9a79-d3767c033be0"
   },
   "outputs": [
    {
     "data": {
      "text/plain": [
       "[(',', 1946),\n",
       " ('.', 1099),\n",
       " ('y', 1031),\n",
       " ('de', 976),\n",
       " ('que', 924),\n",
       " ('a', 832),\n",
       " ('los', 605),\n",
       " ('la', 569),\n",
       " (':', 539),\n",
       " ('el', 507),\n",
       " ('se', 477),\n",
       " ('«', 423),\n",
       " ('»', 423),\n",
       " ('Jesús', 420),\n",
       " ('en', 413),\n",
       " ('lo', 355),\n",
       " ('le', 289),\n",
       " ('no', 268),\n",
       " ('les', 254),\n",
       " ('dijo', 252),\n",
       " ('con', 208),\n",
       " ('¿', 196),\n",
       " ('?', 195),\n",
       " ('al', 177),\n",
       " ('su', 170),\n",
       " ('para', 169),\n",
       " ('del', 164),\n",
       " ('¡', 158),\n",
       " ('!', 158),\n",
       " ('por', 143)]"
      ]
     },
     "execution_count": 258,
     "metadata": {},
     "output_type": "execute_result"
    }
   ],
   "source": [
    "spa_bible_types.most_common(30)"
   ]
  },
  {
   "cell_type": "code",
   "execution_count": 259,
   "metadata": {
    "colab": {
     "base_uri": "https://localhost:8080/"
    },
    "id": "qLLWH8vmul4d",
    "outputId": "ef6995f8-703c-4a84-d16c-8b182ba0a2ee"
   },
   "outputs": [
    {
     "data": {
      "text/plain": [
       "2316"
      ]
     },
     "execution_count": 259,
     "metadata": {},
     "output_type": "execute_result"
    }
   ],
   "source": [
    "spa_bible_lemmas_types = Counter(lemmatize(spa_bible_words, lang=\"es\"))\n",
    "len(spa_bible_lemmas_types)"
   ]
  },
  {
   "cell_type": "code",
   "execution_count": 260,
   "metadata": {
    "id": "o3x3DZ8zr8uc"
   },
   "outputs": [],
   "source": [
    "write_plain_text_corpus(spa_bible_plain_text, \"spa-bible\")"
   ]
  },
  {
   "cell_type": "code",
   "execution_count": 261,
   "metadata": {
    "id": "i8pEgnudKvWQ"
   },
   "outputs": [],
   "source": [
    "!subword-nmt apply-bpe -c cess.model < spa-bible.txt > spa_bible_tokenized.txt"
   ]
  },
  {
   "cell_type": "code",
   "execution_count": 262,
   "metadata": {
    "id": "mbS7LM26LMBA"
   },
   "outputs": [],
   "source": [
    "with open(\"spa_bible_tokenized.txt\", \"r\") as f:\n",
    "    tokenized_text = f.read()\n",
    "spa_bible_tokenized = tokenized_text.split()"
   ]
  },
  {
   "cell_type": "code",
   "execution_count": 263,
   "metadata": {
    "colab": {
     "base_uri": "https://localhost:8080/"
    },
    "id": "hB60BSTYMOD-",
    "outputId": "6d4d4028-5855-4e97-d6bc-bcd5f70eb41d"
   },
   "outputs": [
    {
     "data": {
      "text/plain": [
       "['P@@', 'r@@', 'in@@', 'ci@@', 'pi@@', 'o', 'del', 'ev@@', 'an@@', 'g@@']"
      ]
     },
     "execution_count": 263,
     "metadata": {},
     "output_type": "execute_result"
    }
   ],
   "source": [
    "spa_bible_tokenized[:10]"
   ]
  },
  {
   "cell_type": "code",
   "execution_count": 264,
   "metadata": {
    "colab": {
     "base_uri": "https://localhost:8080/"
    },
    "id": "bqMFr9h3L0Km",
    "outputId": "ac3ddfe9-26da-409b-e07d-597fb0f09d22"
   },
   "outputs": [
    {
     "data": {
      "text/plain": [
       "62332"
      ]
     },
     "execution_count": 264,
     "metadata": {},
     "output_type": "execute_result"
    }
   ],
   "source": [
    "len(spa_bible_tokenized)"
   ]
  },
  {
   "cell_type": "code",
   "execution_count": 265,
   "metadata": {
    "colab": {
     "base_uri": "https://localhost:8080/"
    },
    "id": "lrXsWTwXMLoD",
    "outputId": "178b48e7-a346-4b95-9b16-4a8c90a39513"
   },
   "outputs": [
    {
     "data": {
      "text/plain": [
       "392"
      ]
     },
     "execution_count": 265,
     "metadata": {},
     "output_type": "execute_result"
    }
   ],
   "source": [
    "spa_bible_tokenized_types = Counter(spa_bible_tokenized)\n",
    "len(spa_bible_tokenized_types)"
   ]
  },
  {
   "cell_type": "code",
   "execution_count": 267,
   "metadata": {
    "colab": {
     "base_uri": "https://localhost:8080/"
    },
    "id": "tmF_dkiDMeaA",
    "outputId": "72221965-f2e1-4d7a-b8a0-b0f3207ef53c"
   },
   "outputs": [
    {
     "data": {
      "text/plain": [
       "[(',', 1946),\n",
       " ('a', 1611),\n",
       " ('y', 1156),\n",
       " ('o', 1126),\n",
       " ('.', 1099),\n",
       " ('de', 1095),\n",
       " ('que', 1029),\n",
       " ('los', 851),\n",
       " ('os', 801),\n",
       " ('t@@', 800),\n",
       " ('s@@', 772),\n",
       " ('es@@', 771),\n",
       " ('es', 737),\n",
       " ('d@@', 716),\n",
       " ('en', 702),\n",
       " ('c@@', 678),\n",
       " ('e', 657),\n",
       " ('la', 657),\n",
       " ('u@@', 654),\n",
       " ('di@@', 635),\n",
       " ('ó', 628),\n",
       " ('i@@', 613),\n",
       " ('an', 605),\n",
       " ('se', 581),\n",
       " ('el', 553),\n",
       " ('m@@', 551),\n",
       " ('r@@', 546),\n",
       " ('en@@', 541),\n",
       " (':', 539),\n",
       " ('J@@', 537),\n",
       " ('l@@', 507),\n",
       " ('lo', 505),\n",
       " ('e@@', 484),\n",
       " ('s', 481),\n",
       " ('er@@', 471),\n",
       " ('v@@', 466),\n",
       " ('ú@@', 445),\n",
       " ('n@@', 444),\n",
       " ('as', 439),\n",
       " ('g@@', 438)]"
      ]
     },
     "execution_count": 267,
     "metadata": {},
     "output_type": "execute_result"
    }
   ],
   "source": [
    "spa_bible_tokenized_types.most_common(40)"
   ]
  },
  {
   "cell_type": "markdown",
   "metadata": {
    "id": "pxkw79ldAnrP"
   },
   "source": [
    "### Type-token Ratio (TTR)\n",
    "\n",
    "- Una forma de medir la variazión del vocabulario en un corpus\n",
    "- Este se calcula como $TTR = \\frac{len(types)}{len(tokens)}$\n",
    "- Puede ser útil para monitorear la variación lexica de un texto"
   ]
  },
  {
   "cell_type": "code",
   "execution_count": 268,
   "metadata": {
    "colab": {
     "base_uri": "https://localhost:8080/"
    },
    "id": "b5ey_DGoAj9-",
    "outputId": "4358fc71-b419-4b6e-cfb5-98a05fa4e829"
   },
   "outputs": [
    {
     "name": "stdout",
     "output_type": "stream",
     "text": [
      "Bible Spanish Information\n",
      "Tokens: 30073\n",
      "Types (vanilla): 3568\n",
      "Types (lemmatized) 2316\n",
      "Types (native BPE): 392\n",
      "TTR (Vanilla): 0.11864463139693412\n",
      "TTR (BPE): 0.006288904575498942\n"
     ]
    }
   ],
   "source": [
    "print(\"Bible Spanish Information\")\n",
    "print(\"Tokens:\", len(spa_bible_words))\n",
    "print(\"Types (vanilla):\", len(spa_bible_types))\n",
    "print(\"Types (lemmatized)\", len(spa_bible_lemmas_types))\n",
    "print(\"Types (native BPE):\", len(spa_bible_tokenized_types))\n",
    "print(\"TTR (Vanilla):\", len(spa_bible_types)/len(spa_bible_words))\n",
    "print(\"TTR (BPE):\", len(spa_bible_tokenized_types)/len(spa_bible_tokenized))"
   ]
  },
  {
   "cell_type": "markdown",
   "metadata": {
    "id": "kHfNlbERPfSQ"
   },
   "source": [
    "## Entrenando BPE con corpus en Nahuatl"
   ]
  },
  {
   "cell_type": "code",
   "execution_count": 269,
   "metadata": {
    "colab": {
     "base_uri": "https://localhost:8080/"
    },
    "id": "zxCDOFXGU2v7",
    "outputId": "11cb3ce9-fa83-4026-92c0-561ee5781867"
   },
   "outputs": [
    {
     "name": "stdout",
     "output_type": "stream",
     "text": [
      "Requirement already satisfied: elotl in /usr/local/lib/python3.10/dist-packages (0.0.1.16)\n",
      "Requirement already satisfied: importlib-resources in /usr/local/lib/python3.10/dist-packages (from elotl) (6.1.0)\n",
      "Requirement already satisfied: future in /usr/local/lib/python3.10/dist-packages (from elotl) (0.18.3)\n"
     ]
    }
   ],
   "source": [
    "!pip install elotl"
   ]
  },
  {
   "cell_type": "code",
   "execution_count": 270,
   "metadata": {
    "id": "GAG2Psj3TYTV"
   },
   "outputs": [],
   "source": [
    "import elotl.corpus\n",
    "axolotl = elotl.corpus.load(\"axolotl\")"
   ]
  },
  {
   "cell_type": "code",
   "execution_count": 271,
   "metadata": {
    "colab": {
     "base_uri": "https://localhost:8080/"
    },
    "id": "ySdf892GPn76",
    "outputId": "4ebcc481-2bf7-451b-aaac-f6ceb013122a"
   },
   "outputs": [
    {
     "data": {
      "text/plain": [
       "16117"
      ]
     },
     "execution_count": 271,
     "metadata": {},
     "output_type": "execute_result"
    }
   ],
   "source": [
    "len(axolotl)"
   ]
  },
  {
   "cell_type": "code",
   "execution_count": 272,
   "metadata": {
    "id": "xIAqGcxXPqT-"
   },
   "outputs": [],
   "source": [
    "train_rows_count = len(axolotl) - round(len(axolotl)*.30)"
   ]
  },
  {
   "cell_type": "code",
   "execution_count": 273,
   "metadata": {
    "id": "YWaDYGr2PiVB"
   },
   "outputs": [],
   "source": [
    "axolotl_train = axolotl[:train_rows_count]\n",
    "axolotl_test = axolotl[train_rows_count:]"
   ]
  },
  {
   "cell_type": "code",
   "execution_count": 274,
   "metadata": {
    "colab": {
     "base_uri": "https://localhost:8080/"
    },
    "id": "dr8YKgz5QGDl",
    "outputId": "74863977-c160-465d-af89-928f4471f0e4"
   },
   "outputs": [
    {
     "name": "stdout",
     "output_type": "stream",
     "text": [
      "Axolotl train len: 11282\n",
      "Axolotl test len: 4835\n",
      "Total: 16117\n"
     ]
    }
   ],
   "source": [
    "print(\"Axolotl train len:\", len(axolotl_train))\n",
    "print(\"Axolotl test len:\", len(axolotl_test))\n",
    "print(\"Total:\", len(axolotl_test) + len(axolotl_train))"
   ]
  },
  {
   "cell_type": "code",
   "execution_count": 275,
   "metadata": {
    "colab": {
     "base_uri": "https://localhost:8080/"
    },
    "id": "EDj2ufhZQftm",
    "outputId": "d7f522dc-c86d-45c2-c8c7-34726de5dd51"
   },
   "outputs": [
    {
     "data": {
      "text/plain": [
       "[['Vino a iluminar el sol y allí fue a ver a su',\n",
       "  'tlaminako tonati uan noponi kiitato',\n",
       "  '',\n",
       "  'Lo que relatan de antes (cuentos tének y nahuas de la huasteca)'],\n",
       " ['Y así, cuando hizo su ofrenda de fuego, se sienta delante de los demás y una persona se queda junto a él.',\n",
       "  'Auh in ye yuhqui in on tlenamacac niman ye ic teixpan on motlalia ce tlacatl itech mocaua.',\n",
       "  '',\n",
       "  'Vida económica de Tenochtitlan'],\n",
       " ['¿Si es jade, si es oro, acaso no tendrá que ir allá?',\n",
       "  '¿In chalchihuitl, teocuitlatl, mach ah ca on yaz?',\n",
       "  '',\n",
       "  'Trece Poetas del Mundo Azteca']]"
      ]
     },
     "execution_count": 275,
     "metadata": {},
     "output_type": "execute_result"
    }
   ],
   "source": [
    "axolotl_train[:3]"
   ]
  },
  {
   "cell_type": "code",
   "execution_count": 276,
   "metadata": {
    "colab": {
     "base_uri": "https://localhost:8080/"
    },
    "id": "vRX0WIdpJHb7",
    "outputId": "9e4bebe9-e7a5-453b-845b-b0fbf8d39266"
   },
   "outputs": [
    {
     "data": {
      "text/plain": [
       "200302"
      ]
     },
     "execution_count": 276,
     "metadata": {},
     "output_type": "execute_result"
    }
   ],
   "source": [
    "axolotl_words_vanilla_train = [word for row in axolotl_train for word in row[1].lower().split()]\n",
    "len(axolotl_words_vanilla_train)"
   ]
  },
  {
   "cell_type": "code",
   "execution_count": 277,
   "metadata": {
    "colab": {
     "base_uri": "https://localhost:8080/"
    },
    "id": "zsqd8CtnwOms",
    "outputId": "f4e0d4dc-98f7-40f1-d514-886d62bf6103"
   },
   "outputs": [
    {
     "data": {
      "text/plain": [
       "['tlaminako',\n",
       " 'tonati',\n",
       " 'uan',\n",
       " 'noponi',\n",
       " 'kiitato',\n",
       " 'auh',\n",
       " 'in',\n",
       " 'ye',\n",
       " 'yuhqui',\n",
       " 'in']"
      ]
     },
     "execution_count": 277,
     "metadata": {},
     "output_type": "execute_result"
    }
   ],
   "source": [
    "axolotl_words_vanilla[:10]"
   ]
  },
  {
   "cell_type": "code",
   "execution_count": 278,
   "metadata": {
    "id": "oHTjFtMuOEsx"
   },
   "outputs": [],
   "source": [
    "write_plain_text_corpus(\" \".join(axolotl_words_vanilla_train), \"axolotl_plain_vanilla\")"
   ]
  },
  {
   "cell_type": "code",
   "execution_count": 279,
   "metadata": {
    "colab": {
     "base_uri": "https://localhost:8080/"
    },
    "id": "wexqYXwmQwae",
    "outputId": "8ef4a333-57e5-4b78-f287-3ee1ff0822e4"
   },
   "outputs": [
    {
     "name": "stdout",
     "output_type": "stream",
     "text": [
      "100% 300/300 [00:04<00:00, 65.21it/s] \n"
     ]
    }
   ],
   "source": [
    "!subword-nmt learn-bpe -s 300 < axolotl_plain_vanilla.txt > axolotl_vanilla.model"
   ]
  },
  {
   "cell_type": "code",
   "execution_count": 280,
   "metadata": {
    "id": "z-5naiV9JSki"
   },
   "outputs": [],
   "source": [
    "axolotl_test_words = [word for row in axolotl_test for word in row[1].lower().split()]\n",
    "axolotl_test_types = Counter(axolotl_test_words)"
   ]
  },
  {
   "cell_type": "code",
   "execution_count": 281,
   "metadata": {
    "colab": {
     "base_uri": "https://localhost:8080/"
    },
    "id": "KbUVcLZtJiHh",
    "outputId": "9a403fcb-903d-4f46-b43b-4dab375869a1"
   },
   "outputs": [
    {
     "data": {
      "text/plain": [
       "[('yn', 5448),\n",
       " ('in', 4367),\n",
       " ('auh', 1359),\n",
       " ('ye', 1157),\n",
       " ('tlen', 998),\n",
       " ('ynic', 930),\n",
       " ('ihuan', 820),\n",
       " ('ipan', 780),\n",
       " ('ca', 754),\n",
       " ('de', 735)]"
      ]
     },
     "execution_count": 281,
     "metadata": {},
     "output_type": "execute_result"
    }
   ],
   "source": [
    "axolotl_test_types.most_common(10)"
   ]
  },
  {
   "cell_type": "code",
   "execution_count": 282,
   "metadata": {
    "id": "vJ2KxiSQJYXx"
   },
   "outputs": [],
   "source": [
    "axolotl_singletons = [singleton for singleton in axolotl_test_types.items() if singleton[1] == 1]"
   ]
  },
  {
   "cell_type": "code",
   "execution_count": 283,
   "metadata": {
    "colab": {
     "base_uri": "https://localhost:8080/"
    },
    "id": "UoKarH04JnYI",
    "outputId": "96b3c1ab-0cde-4875-a633-a2a57abe9250"
   },
   "outputs": [
    {
     "data": {
      "text/plain": [
       "19553"
      ]
     },
     "execution_count": 283,
     "metadata": {},
     "output_type": "execute_result"
    }
   ],
   "source": [
    "len(axolotl_singletons)"
   ]
  },
  {
   "cell_type": "code",
   "execution_count": 284,
   "metadata": {
    "id": "rffWAyk1SAYD"
   },
   "outputs": [],
   "source": [
    "write_plain_text_corpus(\" \".join(axolotl_test_words), \"axolotl_plain_test\")"
   ]
  },
  {
   "cell_type": "code",
   "execution_count": 285,
   "metadata": {
    "id": "GOC48EXvSbrJ"
   },
   "outputs": [],
   "source": [
    "!subword-nmt apply-bpe -c axolotl_vanilla.model < axolotl_plain_test.txt > axolotl_vanilla_tokenized.txt"
   ]
  },
  {
   "cell_type": "code",
   "execution_count": 286,
   "metadata": {
    "id": "_yOkxKJTSrMq"
   },
   "outputs": [],
   "source": [
    "with open(\"axolotl_vanilla_tokenized.txt\") as f:\n",
    "    axolotl_test_tokenized = f.read().split()"
   ]
  },
  {
   "cell_type": "code",
   "execution_count": 287,
   "metadata": {
    "colab": {
     "base_uri": "https://localhost:8080/"
    },
    "id": "zxy1oY1AS4iB",
    "outputId": "6b6eedcd-d9df-4db8-e480-824d2ca7a9ee"
   },
   "outputs": [
    {
     "data": {
      "text/plain": [
       "256758"
      ]
     },
     "execution_count": 287,
     "metadata": {},
     "output_type": "execute_result"
    }
   ],
   "source": [
    "len(axolotl_test_tokenized)"
   ]
  },
  {
   "cell_type": "code",
   "execution_count": 288,
   "metadata": {
    "colab": {
     "base_uri": "https://localhost:8080/"
    },
    "id": "5USR33oDxSdj",
    "outputId": "a59c88dc-1ba4-4513-dff2-596cf7086ced"
   },
   "outputs": [
    {
     "data": {
      "text/plain": [
       "['o@@', 'me', 'a@@', 'xo@@', 'x@@', 'tla@@', 'n@@', 'tli', 'i@@', 'x']"
      ]
     },
     "execution_count": 288,
     "metadata": {},
     "output_type": "execute_result"
    }
   ],
   "source": [
    "axolotl_test_tokenized[:10]"
   ]
  },
  {
   "cell_type": "code",
   "execution_count": 289,
   "metadata": {
    "id": "uWilKtKtTFZM"
   },
   "outputs": [],
   "source": [
    "axolotl_test_tokenized_types = Counter(axolotl_test_tokenized)"
   ]
  },
  {
   "cell_type": "code",
   "execution_count": 290,
   "metadata": {
    "colab": {
     "base_uri": "https://localhost:8080/"
    },
    "id": "7DaOOlwrUtm7",
    "outputId": "5c97aec4-d34f-45cd-c9bc-369b8e7cb937"
   },
   "outputs": [
    {
     "data": {
      "text/plain": [
       "[('yn', 5490),\n",
       " ('in', 5192),\n",
       " ('i@@', 5094),\n",
       " ('a@@', 4649),\n",
       " ('tla@@', 4323),\n",
       " ('o@@', 4124),\n",
       " ('qui@@', 3705),\n",
       " ('.', 3606),\n",
       " ('te@@', 3604),\n",
       " ('ti@@', 3512),\n",
       " ('ca@@', 3432),\n",
       " ('mo@@', 3061),\n",
       " ('ma@@', 3004),\n",
       " (',', 2768),\n",
       " ('to@@', 2716),\n",
       " ('l@@', 2634),\n",
       " ('y@@', 2622),\n",
       " ('no@@', 2363),\n",
       " ('co@@', 2223),\n",
       " ('h@@', 2164)]"
      ]
     },
     "execution_count": 290,
     "metadata": {},
     "output_type": "execute_result"
    }
   ],
   "source": [
    "axolotl_test_tokenized_types.most_common(20)"
   ]
  },
  {
   "cell_type": "code",
   "execution_count": 291,
   "metadata": {
    "colab": {
     "base_uri": "https://localhost:8080/"
    },
    "id": "yUMzlKCQR73z",
    "outputId": "3576605a-a856-4250-ceed-c5a58962fc36"
   },
   "outputs": [
    {
     "name": "stdout",
     "output_type": "stream",
     "text": [
      "Axolotl Information\n",
      "Tokens: 86604\n",
      "Types (vanilla): 25714\n",
      "Types (native BPE): 451\n",
      "TTR (Vanilla): 0.2969146921620249\n",
      "TTR (BPE): 0.0015267294495205602\n"
     ]
    }
   ],
   "source": [
    "print(\"Axolotl Information\")\n",
    "print(\"Tokens:\", len(axolotl_test_words))\n",
    "print(\"Types (vanilla):\", len(axolotl_test_types))\n",
    "print(\"Types (native BPE):\", len(axolotl_test_tokenized_types))\n",
    "print(\"TTR (Vanilla):\", len(axolotl_test_types)/len(axolotl_test_words))\n",
    "print(\"TTR (BPE):\", len(spa_bible_tokenized_types)/len(axolotl_test_tokenized))\n",
    "# TODO: Singletones comparation"
   ]
  },
  {
   "cell_type": "markdown",
   "metadata": {
    "id": "CUG2cVS6DcWL"
   },
   "source": [
    "## Normalización"
   ]
  },
  {
   "cell_type": "markdown",
   "metadata": {
    "id": "P0UcZdpWDfW0"
   },
   "source": [
    "![](https://www.startpage.com/av/proxy-image?piurl=https%3A%2F%2Fimage.slidesharecdn.com%2Ffotolog-metroflog-blog-091114151901-phpapp02%2F95%2Ffotolog-metroflog-blog-25-728.jpg%3Fcb%3D1258212001&sp=1696882272Te74c680afd09150b556116c0c376ba0392e93aafa18a7d6206e6ec36e791f3c2)"
   ]
  },
  {
   "cell_type": "code",
   "execution_count": 292,
   "metadata": {
    "id": "UufnThu87JnI"
   },
   "outputs": [],
   "source": [
    "METROFLOG_SENTENCE = \"lEt'$ dó tHis béttëŕ :)\""
   ]
  },
  {
   "cell_type": "code",
   "execution_count": 293,
   "metadata": {
    "colab": {
     "base_uri": "https://localhost:8080/",
     "height": 463,
     "referenced_widgets": [
      "fb12e1ecafa840638ea24dd751097bdd",
      "5d6221bc224a496b86c50e5803caf346",
      "25ef9cfaab304df2b69c1510df8e325f",
      "8dc2d514431449dfac25d20e0e48e9ae",
      "cf9c14180be04157a44685590a4972e6",
      "8a7d115132984d54aafc10f116fe8501",
      "9dc9fee8ec094894b5a63ab99e8d7666",
      "4d5b3303c5bd419a9925b7bf37a53242",
      "a82daabdfbbe4ede8fc6fc32e072997b",
      "ae632eaecce341b8a295de0db8edfaf8",
      "ae71f7cd385f450587d2062f86a513f2",
      "4dbfe9144c2542a69184c5d8b26ad395",
      "22055c67e0654aa2be5126d0f97f5531",
      "3abde4238f0d4faaad9a51f7694a2d92",
      "6d8f6d73c769484fa3d1e714e4879707",
      "137091a4be06419aad255f17030305ef",
      "c5f62627cb8b401289ee81755e4f7a32",
      "24ab8acc5ccc42b9a651a7c93d591673",
      "111b51b9b2e04bf69f16702a52f322f7",
      "308c1e4f6c2646979bf69926ea4d7363",
      "8c5517aa266046f993b9c3dc0f65e23d",
      "199616ac47724f02948bc16bae127809"
     ]
    },
    "id": "WaCWiKc-7r4Y",
    "outputId": "04f91b20-2be5-4369-879d-e3785aa06ac0"
   },
   "outputs": [
    {
     "data": {
      "application/vnd.jupyter.widget-view+json": {
       "model_id": "fb12e1ecafa840638ea24dd751097bdd",
       "version_major": 2,
       "version_minor": 0
      },
      "text/plain": [
       "Downloading (…)okenizer_config.json:   0%|          | 0.00/43.0 [00:00<?, ?B/s]"
      ]
     },
     "metadata": {},
     "output_type": "display_data"
    },
    {
     "data": {
      "application/vnd.jupyter.widget-view+json": {
       "model_id": "4dbfe9144c2542a69184c5d8b26ad395",
       "version_major": 2,
       "version_minor": 0
      },
      "text/plain": [
       "Downloading (…)/main/tokenizer.json:   0%|          | 0.00/1.42M [00:00<?, ?B/s]"
      ]
     },
     "metadata": {},
     "output_type": "display_data"
    },
    {
     "data": {
      "text/plain": [
       "['[CLS]',\n",
       " '▁l',\n",
       " '<unk>',\n",
       " 't',\n",
       " \"'\",\n",
       " '$',\n",
       " '▁',\n",
       " 'd',\n",
       " '<unk>',\n",
       " '▁',\n",
       " 't',\n",
       " '<unk>',\n",
       " 'is',\n",
       " '▁b',\n",
       " '<unk>',\n",
       " 't',\n",
       " 't',\n",
       " '<unk>',\n",
       " '▁',\n",
       " ':',\n",
       " ')',\n",
       " '[SEP]']"
      ]
     },
     "execution_count": 293,
     "metadata": {},
     "output_type": "execute_result"
    }
   ],
   "source": [
    "from transformers import AutoTokenizer\n",
    "\n",
    "tokenizer = AutoTokenizer.from_pretrained(\"huggingface-course/albert-tokenizer-without-normalizer\")\n",
    "tokenizer.convert_ids_to_tokens(tokenizer.encode(METROFLOG_SENTENCE))"
   ]
  },
  {
   "cell_type": "code",
   "execution_count": 294,
   "metadata": {
    "colab": {
     "base_uri": "https://localhost:8080/",
     "height": 130,
     "referenced_widgets": [
      "3a14af5f7a2944188f5d3d3db323a3ae",
      "de57c2cccbd34b20af5a2bbe660b4d27",
      "43b004bbe6804ef5871c7d77e0693986",
      "117c49ebe8f64f35bba236f6aab5eac3",
      "a83a0289475747dc9036b11c5d1565e9",
      "3a71cb07b41f43588fb9b50f550103a4",
      "5f5dea8822f84844a52ad0add5d0f72f",
      "7640f56ff48f4768bceff82351121475",
      "5044856cb39344b582f765c8725341fc",
      "d0a1b8e69c494c31a207e44040ddfff8",
      "df6b8a992b9f4e0dae69b8918275819d",
      "b251ce4bc1874c909379cdbb511216de",
      "3d9b5101b6694b6f9544a2e26caaa790",
      "28ec45d45c994f2e810d63d45f72a3cc",
      "442bd795e70940c48ef700d034b2936c",
      "786736d601cf49c7b1dbcecc44aa6938",
      "3ff9ae7241994d5d8f14707aa8e85104",
      "42c7b6f18b9542c684869b1917228578",
      "17546e369c3e4004ad141710b9c148c0",
      "6d6071e55fe3402ca422fc0b57194226",
      "8d941a53874349f084dd6321cdfb27f4",
      "212b11204ea8441ba617e4b262239a6a",
      "c9b6ecf2896140768af9e7d0c754ac36",
      "9bcca4e6cb9f4937934fb959163269e6",
      "959fee11ac3149bea4a63fc2c9e99d86",
      "95536809435f4ce3a94140960051fb7a",
      "9c93514274014754b64ff5da7184b8c1",
      "534d6ac48d1540b198ee9978025996d0",
      "21fbf522fd9a43ada4e33283d223b5d1",
      "bae6b9331c6042f59c44109eee896e46",
      "8bcceca86aff4e3484b8c3fc228ed65b",
      "1ecc97cf470a40f2a3c00bb70d78e268",
      "457370d233c84f0eb97922f8fe4d6848"
     ]
    },
    "id": "tuZoKC8B8gA1",
    "outputId": "fe8a3cd8-5b94-41eb-9f2f-a4e0b2504e2f"
   },
   "outputs": [
    {
     "data": {
      "application/vnd.jupyter.widget-view+json": {
       "model_id": "3a14af5f7a2944188f5d3d3db323a3ae",
       "version_major": 2,
       "version_minor": 0
      },
      "text/plain": [
       "Downloading (…)lve/main/config.json:   0%|          | 0.00/685 [00:00<?, ?B/s]"
      ]
     },
     "metadata": {},
     "output_type": "display_data"
    },
    {
     "data": {
      "application/vnd.jupyter.widget-view+json": {
       "model_id": "b251ce4bc1874c909379cdbb511216de",
       "version_major": 2,
       "version_minor": 0
      },
      "text/plain": [
       "Downloading (…)ve/main/spiece.model:   0%|          | 0.00/760k [00:00<?, ?B/s]"
      ]
     },
     "metadata": {},
     "output_type": "display_data"
    },
    {
     "data": {
      "application/vnd.jupyter.widget-view+json": {
       "model_id": "c9b6ecf2896140768af9e7d0c754ac36",
       "version_major": 2,
       "version_minor": 0
      },
      "text/plain": [
       "Downloading (…)/main/tokenizer.json:   0%|          | 0.00/1.31M [00:00<?, ?B/s]"
      ]
     },
     "metadata": {},
     "output_type": "display_data"
    },
    {
     "data": {
      "text/plain": [
       "['[CLS]', '▁let', \"'\", '$', '▁do', '▁this', '▁better', '▁', ':', ')', '[SEP]']"
      ]
     },
     "execution_count": 294,
     "metadata": {},
     "output_type": "execute_result"
    }
   ],
   "source": [
    "tokenizer = AutoTokenizer.from_pretrained(\"albert-large-v2\")\n",
    "tokenizer.convert_ids_to_tokens(tokenizer.encode(METROFLOG_SENTENCE))"
   ]
  },
  {
   "cell_type": "markdown",
   "metadata": {
    "id": "fVTN4kut897t"
   },
   "source": [
    "#### Y para lenguas de bajos recursos digitales?\n",
    "\n",
    "- No hay muchos recursos :(\n",
    "- Pero para el nahuatl esta `pyelotl` :)"
   ]
  },
  {
   "cell_type": "markdown",
   "metadata": {
    "id": "aNWBVF4c9N3j"
   },
   "source": [
    "#### Normalizando el Nahuatl"
   ]
  },
  {
   "cell_type": "code",
   "execution_count": 295,
   "metadata": {
    "id": "26GQkUkX9QvB"
   },
   "outputs": [],
   "source": [
    "import elotl.nahuatl.orthography"
   ]
  },
  {
   "cell_type": "code",
   "execution_count": 296,
   "metadata": {
    "id": "thlTYQUqGwRE"
   },
   "outputs": [],
   "source": [
    "# Tres posibles normalizadores: sep, inali, ack\n",
    "# Sauce: https://pypi.org/project/elotl/\n",
    "\n",
    "nahuatl_normalizer = elotl.nahuatl.orthography.Normalizer(\"sep\")"
   ]
  },
  {
   "cell_type": "code",
   "execution_count": 297,
   "metadata": {
    "colab": {
     "base_uri": "https://localhost:8080/",
     "height": 34
    },
    "id": "ZLZX7VeNHDxn",
    "outputId": "15b780e4-85d9-45a7-9c30-8523fe923228"
   },
   "outputs": [
    {
     "data": {
      "application/vnd.google.colaboratory.intrinsic+json": {
       "type": "string"
      },
      "text/plain": [
       "'Auh in ye yuhqui in on tlenamacac niman ye ic teixpan on motlalia ce tlacatl itech mocaua.'"
      ]
     },
     "execution_count": 297,
     "metadata": {},
     "output_type": "execute_result"
    }
   ],
   "source": [
    "axolotl[1][1]"
   ]
  },
  {
   "cell_type": "code",
   "execution_count": 298,
   "metadata": {
    "colab": {
     "base_uri": "https://localhost:8080/",
     "height": 34
    },
    "id": "nkC--od4HLao",
    "outputId": "cca96afe-8d5c-4828-a0be-ff8aa289e6cc"
   },
   "outputs": [
    {
     "data": {
      "application/vnd.google.colaboratory.intrinsic+json": {
       "type": "string"
      },
      "text/plain": [
       "'au in ye yujki in on tlenamakak niman ye ik teixpan on motlalia se tlakatl itech mokaua.'"
      ]
     },
     "execution_count": 298,
     "metadata": {},
     "output_type": "execute_result"
    }
   ],
   "source": [
    "nahuatl_normalizer.normalize(axolotl[1][1])"
   ]
  },
  {
   "cell_type": "code",
   "execution_count": 299,
   "metadata": {
    "colab": {
     "base_uri": "https://localhost:8080/",
     "height": 34
    },
    "id": "mIXqhX_uHWJ8",
    "outputId": "70719725-e8de-4b07-d3e1-fd4a0e6e5451"
   },
   "outputs": [
    {
     "data": {
      "application/vnd.google.colaboratory.intrinsic+json": {
       "type": "string"
      },
      "text/plain": [
       "'aw in ye yuʔki in on ƛenamakak niman ye ik teiʃpan on moƛalia se ƛakaƛ itet͡ʃ mokawa.'"
      ]
     },
     "execution_count": 299,
     "metadata": {},
     "output_type": "execute_result"
    }
   ],
   "source": [
    "nahuatl_normalizer.to_phones(axolotl[1][1])"
   ]
  },
  {
   "cell_type": "markdown",
   "metadata": {
    "id": "S-qcqI8b2m5u"
   },
   "source": [
    "## Práctica 5: Subword tokenization\n"
   ]
  },
  {
   "cell_type": "markdown",
   "metadata": {
    "id": "MScBmUy4eX_7"
   },
   "source": [
    "\n",
    "**Fecha de entrega: 15 de Octubre 11:59pm**\n",
    "\n",
    "- Investigar como medir la entropia de un texto\n",
    "- Medir la entropía de la biblia en español y axolotl con y sin tokenizacion\n",
    "    - Tokenizar con BPE native (`subword-nmt`)\n",
    "- Imprimir en pantalla:\n",
    "    - Entropia Nahuatl, Español sin tokenizar\n",
    "    - Entropia Nahuatl, Español tokenizado\n",
    "- Responder las preguntas:\n",
    "    - ¿Aumento o disminuyó la entropia para los corpus?\n",
    "        - Nahuatl\n",
    "        - Español\n",
    "    - ¿Qué significa que la entropia aumente o disminuya en un texto?\n",
    "    - ¿Como influye la tokenizacion en la entropía de un texto?\n",
    "\n",
    "#### Extra\n",
    "\n",
    "- Realizar el proceso de normalización para el texto en Nahuatl\n",
    "- Entrenar un modelo con el texto normalizado\n",
    "    - Usando BPE Native (`subword-nmt`)\n",
    "- Comparar typos, tokens, TTR con las versiones:\n",
    "    - sin tokenizar\n",
    "    - tokenizado sin normalizar (Vainilla)\n",
    "    - tokenizado normalizado (NRMLZ)\n",
    "\n",
    "```python\n",
    "print(\"Axolotl Information: Normalized VS Vanilla\")\n",
    "print(\"Tokens (Vanilla):\", ...)\n",
    "print(\"Tokens (NRMLZ):\", ...)\n",
    "print(\"Types (Raw):\", ...)\n",
    "print(\"Types (Vanilla BPE):\", ...)\n",
    "print(\"Types (NRMLZ BPE):\", ...)\n",
    "print(\"TTR (Raw):\", ...)\n",
    "print(\"TTR (Vanilla BPE):\", ...)\n",
    "print(\"TTR (NRMLZ BPE):\", ...)\n",
    "```"
   ]
  },
  {
   "cell_type": "markdown",
   "metadata": {
    "id": "1qLmH9YN2skH"
   },
   "source": [
    "### Referencias:\n",
    "\n",
    "- [Corpora de la biblia en varios idiomas](https://github.com/ximenina/theturningpoint/tree/main/Detailed/corpora/corpusPBC)\n",
    "- [Biblioteca nativa para BPE](https://github.com/rsennrich/subword-nmt)\n",
    "- [Tokenizers Hugging face](https://huggingface.co/docs/transformers/tokenizer_summary)"
   ]
  }
 ],
 "metadata": {
  "colab": {
   "provenance": []
  },
  "kernelspec": {
   "display_name": "Python 3 (ipykernel)",
   "language": "python",
   "name": "python3"
  },
  "language_info": {
   "codemirror_mode": {
    "name": "ipython",
    "version": 3
   },
   "file_extension": ".py",
   "mimetype": "text/x-python",
   "name": "python",
   "nbconvert_exporter": "python",
   "pygments_lexer": "ipython3",
   "version": "3.11.5"
  },
  "widgets": {
   "application/vnd.jupyter.widget-state+json": {
    "10418a182a1c40188a996e80642f378f": {
     "model_module": "@jupyter-widgets/controls",
     "model_module_version": "1.5.0",
     "model_name": "HTMLModel",
     "state": {
      "_dom_classes": [],
      "_model_module": "@jupyter-widgets/controls",
      "_model_module_version": "1.5.0",
      "_model_name": "HTMLModel",
      "_view_count": null,
      "_view_module": "@jupyter-widgets/controls",
      "_view_module_version": "1.5.0",
      "_view_name": "HTMLView",
      "description": "",
      "description_tooltip": null,
      "layout": "IPY_MODEL_7f22daa35eec41ce8e35a38f58cac51b",
      "placeholder": "​",
      "style": "IPY_MODEL_f2930bbcd73e4d66a83b07141d1c1ba4",
      "value": " 1.38M/1.38M [00:00&lt;00:00, 10.3MB/s]"
     }
    },
    "111b51b9b2e04bf69f16702a52f322f7": {
     "model_module": "@jupyter-widgets/base",
     "model_module_version": "1.2.0",
     "model_name": "LayoutModel",
     "state": {
      "_model_module": "@jupyter-widgets/base",
      "_model_module_version": "1.2.0",
      "_model_name": "LayoutModel",
      "_view_count": null,
      "_view_module": "@jupyter-widgets/base",
      "_view_module_version": "1.2.0",
      "_view_name": "LayoutView",
      "align_content": null,
      "align_items": null,
      "align_self": null,
      "border": null,
      "bottom": null,
      "display": null,
      "flex": null,
      "flex_flow": null,
      "grid_area": null,
      "grid_auto_columns": null,
      "grid_auto_flow": null,
      "grid_auto_rows": null,
      "grid_column": null,
      "grid_gap": null,
      "grid_row": null,
      "grid_template_areas": null,
      "grid_template_columns": null,
      "grid_template_rows": null,
      "height": null,
      "justify_content": null,
      "justify_items": null,
      "left": null,
      "margin": null,
      "max_height": null,
      "max_width": null,
      "min_height": null,
      "min_width": null,
      "object_fit": null,
      "object_position": null,
      "order": null,
      "overflow": null,
      "overflow_x": null,
      "overflow_y": null,
      "padding": null,
      "right": null,
      "top": null,
      "visibility": null,
      "width": null
     }
    },
    "117c49ebe8f64f35bba236f6aab5eac3": {
     "model_module": "@jupyter-widgets/controls",
     "model_module_version": "1.5.0",
     "model_name": "HTMLModel",
     "state": {
      "_dom_classes": [],
      "_model_module": "@jupyter-widgets/controls",
      "_model_module_version": "1.5.0",
      "_model_name": "HTMLModel",
      "_view_count": null,
      "_view_module": "@jupyter-widgets/controls",
      "_view_module_version": "1.5.0",
      "_view_name": "HTMLView",
      "description": "",
      "description_tooltip": null,
      "layout": "IPY_MODEL_d0a1b8e69c494c31a207e44040ddfff8",
      "placeholder": "​",
      "style": "IPY_MODEL_df6b8a992b9f4e0dae69b8918275819d",
      "value": " 685/685 [00:00&lt;00:00, 36.6kB/s]"
     }
    },
    "137091a4be06419aad255f17030305ef": {
     "model_module": "@jupyter-widgets/base",
     "model_module_version": "1.2.0",
     "model_name": "LayoutModel",
     "state": {
      "_model_module": "@jupyter-widgets/base",
      "_model_module_version": "1.2.0",
      "_model_name": "LayoutModel",
      "_view_count": null,
      "_view_module": "@jupyter-widgets/base",
      "_view_module_version": "1.2.0",
      "_view_name": "LayoutView",
      "align_content": null,
      "align_items": null,
      "align_self": null,
      "border": null,
      "bottom": null,
      "display": null,
      "flex": null,
      "flex_flow": null,
      "grid_area": null,
      "grid_auto_columns": null,
      "grid_auto_flow": null,
      "grid_auto_rows": null,
      "grid_column": null,
      "grid_gap": null,
      "grid_row": null,
      "grid_template_areas": null,
      "grid_template_columns": null,
      "grid_template_rows": null,
      "height": null,
      "justify_content": null,
      "justify_items": null,
      "left": null,
      "margin": null,
      "max_height": null,
      "max_width": null,
      "min_height": null,
      "min_width": null,
      "object_fit": null,
      "object_position": null,
      "order": null,
      "overflow": null,
      "overflow_x": null,
      "overflow_y": null,
      "padding": null,
      "right": null,
      "top": null,
      "visibility": null,
      "width": null
     }
    },
    "143bd9cd6990432ca2d668f8054ea2e2": {
     "model_module": "@jupyter-widgets/controls",
     "model_module_version": "1.5.0",
     "model_name": "HTMLModel",
     "state": {
      "_dom_classes": [],
      "_model_module": "@jupyter-widgets/controls",
      "_model_module_version": "1.5.0",
      "_model_name": "HTMLModel",
      "_view_count": null,
      "_view_module": "@jupyter-widgets/controls",
      "_view_module_version": "1.5.0",
      "_view_name": "HTMLView",
      "description": "",
      "description_tooltip": null,
      "layout": "IPY_MODEL_7fec9fcccc984706a4b0a2a6cb4e428d",
      "placeholder": "​",
      "style": "IPY_MODEL_c402cd96d2f1427aa547eab16e8fd9a2",
      "value": "Downloading (…)/main/tokenizer.json: 100%"
     }
    },
    "17546e369c3e4004ad141710b9c148c0": {
     "model_module": "@jupyter-widgets/base",
     "model_module_version": "1.2.0",
     "model_name": "LayoutModel",
     "state": {
      "_model_module": "@jupyter-widgets/base",
      "_model_module_version": "1.2.0",
      "_model_name": "LayoutModel",
      "_view_count": null,
      "_view_module": "@jupyter-widgets/base",
      "_view_module_version": "1.2.0",
      "_view_name": "LayoutView",
      "align_content": null,
      "align_items": null,
      "align_self": null,
      "border": null,
      "bottom": null,
      "display": null,
      "flex": null,
      "flex_flow": null,
      "grid_area": null,
      "grid_auto_columns": null,
      "grid_auto_flow": null,
      "grid_auto_rows": null,
      "grid_column": null,
      "grid_gap": null,
      "grid_row": null,
      "grid_template_areas": null,
      "grid_template_columns": null,
      "grid_template_rows": null,
      "height": null,
      "justify_content": null,
      "justify_items": null,
      "left": null,
      "margin": null,
      "max_height": null,
      "max_width": null,
      "min_height": null,
      "min_width": null,
      "object_fit": null,
      "object_position": null,
      "order": null,
      "overflow": null,
      "overflow_x": null,
      "overflow_y": null,
      "padding": null,
      "right": null,
      "top": null,
      "visibility": null,
      "width": null
     }
    },
    "199616ac47724f02948bc16bae127809": {
     "model_module": "@jupyter-widgets/controls",
     "model_module_version": "1.5.0",
     "model_name": "DescriptionStyleModel",
     "state": {
      "_model_module": "@jupyter-widgets/controls",
      "_model_module_version": "1.5.0",
      "_model_name": "DescriptionStyleModel",
      "_view_count": null,
      "_view_module": "@jupyter-widgets/base",
      "_view_module_version": "1.2.0",
      "_view_name": "StyleView",
      "description_width": ""
     }
    },
    "1ecc97cf470a40f2a3c00bb70d78e268": {
     "model_module": "@jupyter-widgets/base",
     "model_module_version": "1.2.0",
     "model_name": "LayoutModel",
     "state": {
      "_model_module": "@jupyter-widgets/base",
      "_model_module_version": "1.2.0",
      "_model_name": "LayoutModel",
      "_view_count": null,
      "_view_module": "@jupyter-widgets/base",
      "_view_module_version": "1.2.0",
      "_view_name": "LayoutView",
      "align_content": null,
      "align_items": null,
      "align_self": null,
      "border": null,
      "bottom": null,
      "display": null,
      "flex": null,
      "flex_flow": null,
      "grid_area": null,
      "grid_auto_columns": null,
      "grid_auto_flow": null,
      "grid_auto_rows": null,
      "grid_column": null,
      "grid_gap": null,
      "grid_row": null,
      "grid_template_areas": null,
      "grid_template_columns": null,
      "grid_template_rows": null,
      "height": null,
      "justify_content": null,
      "justify_items": null,
      "left": null,
      "margin": null,
      "max_height": null,
      "max_width": null,
      "min_height": null,
      "min_width": null,
      "object_fit": null,
      "object_position": null,
      "order": null,
      "overflow": null,
      "overflow_x": null,
      "overflow_y": null,
      "padding": null,
      "right": null,
      "top": null,
      "visibility": null,
      "width": null
     }
    },
    "212b11204ea8441ba617e4b262239a6a": {
     "model_module": "@jupyter-widgets/controls",
     "model_module_version": "1.5.0",
     "model_name": "DescriptionStyleModel",
     "state": {
      "_model_module": "@jupyter-widgets/controls",
      "_model_module_version": "1.5.0",
      "_model_name": "DescriptionStyleModel",
      "_view_count": null,
      "_view_module": "@jupyter-widgets/base",
      "_view_module_version": "1.2.0",
      "_view_name": "StyleView",
      "description_width": ""
     }
    },
    "21fbf522fd9a43ada4e33283d223b5d1": {
     "model_module": "@jupyter-widgets/controls",
     "model_module_version": "1.5.0",
     "model_name": "DescriptionStyleModel",
     "state": {
      "_model_module": "@jupyter-widgets/controls",
      "_model_module_version": "1.5.0",
      "_model_name": "DescriptionStyleModel",
      "_view_count": null,
      "_view_module": "@jupyter-widgets/base",
      "_view_module_version": "1.2.0",
      "_view_name": "StyleView",
      "description_width": ""
     }
    },
    "22055c67e0654aa2be5126d0f97f5531": {
     "model_module": "@jupyter-widgets/controls",
     "model_module_version": "1.5.0",
     "model_name": "HTMLModel",
     "state": {
      "_dom_classes": [],
      "_model_module": "@jupyter-widgets/controls",
      "_model_module_version": "1.5.0",
      "_model_name": "HTMLModel",
      "_view_count": null,
      "_view_module": "@jupyter-widgets/controls",
      "_view_module_version": "1.5.0",
      "_view_name": "HTMLView",
      "description": "",
      "description_tooltip": null,
      "layout": "IPY_MODEL_c5f62627cb8b401289ee81755e4f7a32",
      "placeholder": "​",
      "style": "IPY_MODEL_24ab8acc5ccc42b9a651a7c93d591673",
      "value": "Downloading (…)/main/tokenizer.json: 100%"
     }
    },
    "24ab8acc5ccc42b9a651a7c93d591673": {
     "model_module": "@jupyter-widgets/controls",
     "model_module_version": "1.5.0",
     "model_name": "DescriptionStyleModel",
     "state": {
      "_model_module": "@jupyter-widgets/controls",
      "_model_module_version": "1.5.0",
      "_model_name": "DescriptionStyleModel",
      "_view_count": null,
      "_view_module": "@jupyter-widgets/base",
      "_view_module_version": "1.2.0",
      "_view_name": "StyleView",
      "description_width": ""
     }
    },
    "25ef9cfaab304df2b69c1510df8e325f": {
     "model_module": "@jupyter-widgets/controls",
     "model_module_version": "1.5.0",
     "model_name": "FloatProgressModel",
     "state": {
      "_dom_classes": [],
      "_model_module": "@jupyter-widgets/controls",
      "_model_module_version": "1.5.0",
      "_model_name": "FloatProgressModel",
      "_view_count": null,
      "_view_module": "@jupyter-widgets/controls",
      "_view_module_version": "1.5.0",
      "_view_name": "ProgressView",
      "bar_style": "success",
      "description": "",
      "description_tooltip": null,
      "layout": "IPY_MODEL_4d5b3303c5bd419a9925b7bf37a53242",
      "max": 43,
      "min": 0,
      "orientation": "horizontal",
      "style": "IPY_MODEL_a82daabdfbbe4ede8fc6fc32e072997b",
      "value": 43
     }
    },
    "272775fb3e1b4eafa9bfb974165b827f": {
     "model_module": "@jupyter-widgets/controls",
     "model_module_version": "1.5.0",
     "model_name": "HBoxModel",
     "state": {
      "_dom_classes": [],
      "_model_module": "@jupyter-widgets/controls",
      "_model_module_version": "1.5.0",
      "_model_name": "HBoxModel",
      "_view_count": null,
      "_view_module": "@jupyter-widgets/controls",
      "_view_module_version": "1.5.0",
      "_view_name": "HBoxView",
      "box_style": "",
      "children": [
       "IPY_MODEL_143bd9cd6990432ca2d668f8054ea2e2",
       "IPY_MODEL_56ea7547905f44749457685c11399e57",
       "IPY_MODEL_10418a182a1c40188a996e80642f378f"
      ],
      "layout": "IPY_MODEL_9cfcb4be0bca41229ca77f6ef79ab591"
     }
    },
    "28ec45d45c994f2e810d63d45f72a3cc": {
     "model_module": "@jupyter-widgets/controls",
     "model_module_version": "1.5.0",
     "model_name": "FloatProgressModel",
     "state": {
      "_dom_classes": [],
      "_model_module": "@jupyter-widgets/controls",
      "_model_module_version": "1.5.0",
      "_model_name": "FloatProgressModel",
      "_view_count": null,
      "_view_module": "@jupyter-widgets/controls",
      "_view_module_version": "1.5.0",
      "_view_name": "ProgressView",
      "bar_style": "success",
      "description": "",
      "description_tooltip": null,
      "layout": "IPY_MODEL_17546e369c3e4004ad141710b9c148c0",
      "max": 760289,
      "min": 0,
      "orientation": "horizontal",
      "style": "IPY_MODEL_6d6071e55fe3402ca422fc0b57194226",
      "value": 760289
     }
    },
    "2e3e6f7e1b974553a01e6a277ea17a26": {
     "model_module": "@jupyter-widgets/controls",
     "model_module_version": "1.5.0",
     "model_name": "ProgressStyleModel",
     "state": {
      "_model_module": "@jupyter-widgets/controls",
      "_model_module_version": "1.5.0",
      "_model_name": "ProgressStyleModel",
      "_view_count": null,
      "_view_module": "@jupyter-widgets/base",
      "_view_module_version": "1.2.0",
      "_view_name": "StyleView",
      "bar_color": null,
      "description_width": ""
     }
    },
    "308c1e4f6c2646979bf69926ea4d7363": {
     "model_module": "@jupyter-widgets/controls",
     "model_module_version": "1.5.0",
     "model_name": "ProgressStyleModel",
     "state": {
      "_model_module": "@jupyter-widgets/controls",
      "_model_module_version": "1.5.0",
      "_model_name": "ProgressStyleModel",
      "_view_count": null,
      "_view_module": "@jupyter-widgets/base",
      "_view_module_version": "1.2.0",
      "_view_name": "StyleView",
      "bar_color": null,
      "description_width": ""
     }
    },
    "361c1d6e88d34840865938090db25ab4": {
     "model_module": "@jupyter-widgets/base",
     "model_module_version": "1.2.0",
     "model_name": "LayoutModel",
     "state": {
      "_model_module": "@jupyter-widgets/base",
      "_model_module_version": "1.2.0",
      "_model_name": "LayoutModel",
      "_view_count": null,
      "_view_module": "@jupyter-widgets/base",
      "_view_module_version": "1.2.0",
      "_view_name": "LayoutView",
      "align_content": null,
      "align_items": null,
      "align_self": null,
      "border": null,
      "bottom": null,
      "display": null,
      "flex": null,
      "flex_flow": null,
      "grid_area": null,
      "grid_auto_columns": null,
      "grid_auto_flow": null,
      "grid_auto_rows": null,
      "grid_column": null,
      "grid_gap": null,
      "grid_row": null,
      "grid_template_areas": null,
      "grid_template_columns": null,
      "grid_template_rows": null,
      "height": null,
      "justify_content": null,
      "justify_items": null,
      "left": null,
      "margin": null,
      "max_height": null,
      "max_width": null,
      "min_height": null,
      "min_width": null,
      "object_fit": null,
      "object_position": null,
      "order": null,
      "overflow": null,
      "overflow_x": null,
      "overflow_y": null,
      "padding": null,
      "right": null,
      "top": null,
      "visibility": null,
      "width": null
     }
    },
    "37d4442e5e8f4cb39c55434d19f4fd56": {
     "model_module": "@jupyter-widgets/base",
     "model_module_version": "1.2.0",
     "model_name": "LayoutModel",
     "state": {
      "_model_module": "@jupyter-widgets/base",
      "_model_module_version": "1.2.0",
      "_model_name": "LayoutModel",
      "_view_count": null,
      "_view_module": "@jupyter-widgets/base",
      "_view_module_version": "1.2.0",
      "_view_name": "LayoutView",
      "align_content": null,
      "align_items": null,
      "align_self": null,
      "border": null,
      "bottom": null,
      "display": null,
      "flex": null,
      "flex_flow": null,
      "grid_area": null,
      "grid_auto_columns": null,
      "grid_auto_flow": null,
      "grid_auto_rows": null,
      "grid_column": null,
      "grid_gap": null,
      "grid_row": null,
      "grid_template_areas": null,
      "grid_template_columns": null,
      "grid_template_rows": null,
      "height": null,
      "justify_content": null,
      "justify_items": null,
      "left": null,
      "margin": null,
      "max_height": null,
      "max_width": null,
      "min_height": null,
      "min_width": null,
      "object_fit": null,
      "object_position": null,
      "order": null,
      "overflow": null,
      "overflow_x": null,
      "overflow_y": null,
      "padding": null,
      "right": null,
      "top": null,
      "visibility": null,
      "width": null
     }
    },
    "3a14af5f7a2944188f5d3d3db323a3ae": {
     "model_module": "@jupyter-widgets/controls",
     "model_module_version": "1.5.0",
     "model_name": "HBoxModel",
     "state": {
      "_dom_classes": [],
      "_model_module": "@jupyter-widgets/controls",
      "_model_module_version": "1.5.0",
      "_model_name": "HBoxModel",
      "_view_count": null,
      "_view_module": "@jupyter-widgets/controls",
      "_view_module_version": "1.5.0",
      "_view_name": "HBoxView",
      "box_style": "",
      "children": [
       "IPY_MODEL_de57c2cccbd34b20af5a2bbe660b4d27",
       "IPY_MODEL_43b004bbe6804ef5871c7d77e0693986",
       "IPY_MODEL_117c49ebe8f64f35bba236f6aab5eac3"
      ],
      "layout": "IPY_MODEL_a83a0289475747dc9036b11c5d1565e9"
     }
    },
    "3a71cb07b41f43588fb9b50f550103a4": {
     "model_module": "@jupyter-widgets/base",
     "model_module_version": "1.2.0",
     "model_name": "LayoutModel",
     "state": {
      "_model_module": "@jupyter-widgets/base",
      "_model_module_version": "1.2.0",
      "_model_name": "LayoutModel",
      "_view_count": null,
      "_view_module": "@jupyter-widgets/base",
      "_view_module_version": "1.2.0",
      "_view_name": "LayoutView",
      "align_content": null,
      "align_items": null,
      "align_self": null,
      "border": null,
      "bottom": null,
      "display": null,
      "flex": null,
      "flex_flow": null,
      "grid_area": null,
      "grid_auto_columns": null,
      "grid_auto_flow": null,
      "grid_auto_rows": null,
      "grid_column": null,
      "grid_gap": null,
      "grid_row": null,
      "grid_template_areas": null,
      "grid_template_columns": null,
      "grid_template_rows": null,
      "height": null,
      "justify_content": null,
      "justify_items": null,
      "left": null,
      "margin": null,
      "max_height": null,
      "max_width": null,
      "min_height": null,
      "min_width": null,
      "object_fit": null,
      "object_position": null,
      "order": null,
      "overflow": null,
      "overflow_x": null,
      "overflow_y": null,
      "padding": null,
      "right": null,
      "top": null,
      "visibility": null,
      "width": null
     }
    },
    "3abde4238f0d4faaad9a51f7694a2d92": {
     "model_module": "@jupyter-widgets/controls",
     "model_module_version": "1.5.0",
     "model_name": "FloatProgressModel",
     "state": {
      "_dom_classes": [],
      "_model_module": "@jupyter-widgets/controls",
      "_model_module_version": "1.5.0",
      "_model_name": "FloatProgressModel",
      "_view_count": null,
      "_view_module": "@jupyter-widgets/controls",
      "_view_module_version": "1.5.0",
      "_view_name": "ProgressView",
      "bar_style": "success",
      "description": "",
      "description_tooltip": null,
      "layout": "IPY_MODEL_111b51b9b2e04bf69f16702a52f322f7",
      "max": 1416762,
      "min": 0,
      "orientation": "horizontal",
      "style": "IPY_MODEL_308c1e4f6c2646979bf69926ea4d7363",
      "value": 1416762
     }
    },
    "3d9b5101b6694b6f9544a2e26caaa790": {
     "model_module": "@jupyter-widgets/controls",
     "model_module_version": "1.5.0",
     "model_name": "HTMLModel",
     "state": {
      "_dom_classes": [],
      "_model_module": "@jupyter-widgets/controls",
      "_model_module_version": "1.5.0",
      "_model_name": "HTMLModel",
      "_view_count": null,
      "_view_module": "@jupyter-widgets/controls",
      "_view_module_version": "1.5.0",
      "_view_name": "HTMLView",
      "description": "",
      "description_tooltip": null,
      "layout": "IPY_MODEL_3ff9ae7241994d5d8f14707aa8e85104",
      "placeholder": "​",
      "style": "IPY_MODEL_42c7b6f18b9542c684869b1917228578",
      "value": "Downloading (…)ve/main/spiece.model: 100%"
     }
    },
    "3ff9ae7241994d5d8f14707aa8e85104": {
     "model_module": "@jupyter-widgets/base",
     "model_module_version": "1.2.0",
     "model_name": "LayoutModel",
     "state": {
      "_model_module": "@jupyter-widgets/base",
      "_model_module_version": "1.2.0",
      "_model_name": "LayoutModel",
      "_view_count": null,
      "_view_module": "@jupyter-widgets/base",
      "_view_module_version": "1.2.0",
      "_view_name": "LayoutView",
      "align_content": null,
      "align_items": null,
      "align_self": null,
      "border": null,
      "bottom": null,
      "display": null,
      "flex": null,
      "flex_flow": null,
      "grid_area": null,
      "grid_auto_columns": null,
      "grid_auto_flow": null,
      "grid_auto_rows": null,
      "grid_column": null,
      "grid_gap": null,
      "grid_row": null,
      "grid_template_areas": null,
      "grid_template_columns": null,
      "grid_template_rows": null,
      "height": null,
      "justify_content": null,
      "justify_items": null,
      "left": null,
      "margin": null,
      "max_height": null,
      "max_width": null,
      "min_height": null,
      "min_width": null,
      "object_fit": null,
      "object_position": null,
      "order": null,
      "overflow": null,
      "overflow_x": null,
      "overflow_y": null,
      "padding": null,
      "right": null,
      "top": null,
      "visibility": null,
      "width": null
     }
    },
    "42c7b6f18b9542c684869b1917228578": {
     "model_module": "@jupyter-widgets/controls",
     "model_module_version": "1.5.0",
     "model_name": "DescriptionStyleModel",
     "state": {
      "_model_module": "@jupyter-widgets/controls",
      "_model_module_version": "1.5.0",
      "_model_name": "DescriptionStyleModel",
      "_view_count": null,
      "_view_module": "@jupyter-widgets/base",
      "_view_module_version": "1.2.0",
      "_view_name": "StyleView",
      "description_width": ""
     }
    },
    "433723554d85449e800e315722f0958d": {
     "model_module": "@jupyter-widgets/base",
     "model_module_version": "1.2.0",
     "model_name": "LayoutModel",
     "state": {
      "_model_module": "@jupyter-widgets/base",
      "_model_module_version": "1.2.0",
      "_model_name": "LayoutModel",
      "_view_count": null,
      "_view_module": "@jupyter-widgets/base",
      "_view_module_version": "1.2.0",
      "_view_name": "LayoutView",
      "align_content": null,
      "align_items": null,
      "align_self": null,
      "border": null,
      "bottom": null,
      "display": null,
      "flex": null,
      "flex_flow": null,
      "grid_area": null,
      "grid_auto_columns": null,
      "grid_auto_flow": null,
      "grid_auto_rows": null,
      "grid_column": null,
      "grid_gap": null,
      "grid_row": null,
      "grid_template_areas": null,
      "grid_template_columns": null,
      "grid_template_rows": null,
      "height": null,
      "justify_content": null,
      "justify_items": null,
      "left": null,
      "margin": null,
      "max_height": null,
      "max_width": null,
      "min_height": null,
      "min_width": null,
      "object_fit": null,
      "object_position": null,
      "order": null,
      "overflow": null,
      "overflow_x": null,
      "overflow_y": null,
      "padding": null,
      "right": null,
      "top": null,
      "visibility": null,
      "width": null
     }
    },
    "43b004bbe6804ef5871c7d77e0693986": {
     "model_module": "@jupyter-widgets/controls",
     "model_module_version": "1.5.0",
     "model_name": "FloatProgressModel",
     "state": {
      "_dom_classes": [],
      "_model_module": "@jupyter-widgets/controls",
      "_model_module_version": "1.5.0",
      "_model_name": "FloatProgressModel",
      "_view_count": null,
      "_view_module": "@jupyter-widgets/controls",
      "_view_module_version": "1.5.0",
      "_view_name": "ProgressView",
      "bar_style": "success",
      "description": "",
      "description_tooltip": null,
      "layout": "IPY_MODEL_7640f56ff48f4768bceff82351121475",
      "max": 685,
      "min": 0,
      "orientation": "horizontal",
      "style": "IPY_MODEL_5044856cb39344b582f765c8725341fc",
      "value": 685
     }
    },
    "442bd795e70940c48ef700d034b2936c": {
     "model_module": "@jupyter-widgets/controls",
     "model_module_version": "1.5.0",
     "model_name": "HTMLModel",
     "state": {
      "_dom_classes": [],
      "_model_module": "@jupyter-widgets/controls",
      "_model_module_version": "1.5.0",
      "_model_name": "HTMLModel",
      "_view_count": null,
      "_view_module": "@jupyter-widgets/controls",
      "_view_module_version": "1.5.0",
      "_view_name": "HTMLView",
      "description": "",
      "description_tooltip": null,
      "layout": "IPY_MODEL_8d941a53874349f084dd6321cdfb27f4",
      "placeholder": "​",
      "style": "IPY_MODEL_212b11204ea8441ba617e4b262239a6a",
      "value": " 760k/760k [00:00&lt;00:00, 9.94MB/s]"
     }
    },
    "4455897594f045138fab5fc1ce70c137": {
     "model_module": "@jupyter-widgets/controls",
     "model_module_version": "1.5.0",
     "model_name": "DescriptionStyleModel",
     "state": {
      "_model_module": "@jupyter-widgets/controls",
      "_model_module_version": "1.5.0",
      "_model_name": "DescriptionStyleModel",
      "_view_count": null,
      "_view_module": "@jupyter-widgets/base",
      "_view_module_version": "1.2.0",
      "_view_name": "StyleView",
      "description_width": ""
     }
    },
    "4504ceecfa6a4a418de3c60b8a9f700b": {
     "model_module": "@jupyter-widgets/controls",
     "model_module_version": "1.5.0",
     "model_name": "DescriptionStyleModel",
     "state": {
      "_model_module": "@jupyter-widgets/controls",
      "_model_module_version": "1.5.0",
      "_model_name": "DescriptionStyleModel",
      "_view_count": null,
      "_view_module": "@jupyter-widgets/base",
      "_view_module_version": "1.2.0",
      "_view_name": "StyleView",
      "description_width": ""
     }
    },
    "457370d233c84f0eb97922f8fe4d6848": {
     "model_module": "@jupyter-widgets/controls",
     "model_module_version": "1.5.0",
     "model_name": "DescriptionStyleModel",
     "state": {
      "_model_module": "@jupyter-widgets/controls",
      "_model_module_version": "1.5.0",
      "_model_name": "DescriptionStyleModel",
      "_view_count": null,
      "_view_module": "@jupyter-widgets/base",
      "_view_module_version": "1.2.0",
      "_view_name": "StyleView",
      "description_width": ""
     }
    },
    "4af7e76583074d038a0a7cc15a1de2e0": {
     "model_module": "@jupyter-widgets/base",
     "model_module_version": "1.2.0",
     "model_name": "LayoutModel",
     "state": {
      "_model_module": "@jupyter-widgets/base",
      "_model_module_version": "1.2.0",
      "_model_name": "LayoutModel",
      "_view_count": null,
      "_view_module": "@jupyter-widgets/base",
      "_view_module_version": "1.2.0",
      "_view_name": "LayoutView",
      "align_content": null,
      "align_items": null,
      "align_self": null,
      "border": null,
      "bottom": null,
      "display": null,
      "flex": null,
      "flex_flow": null,
      "grid_area": null,
      "grid_auto_columns": null,
      "grid_auto_flow": null,
      "grid_auto_rows": null,
      "grid_column": null,
      "grid_gap": null,
      "grid_row": null,
      "grid_template_areas": null,
      "grid_template_columns": null,
      "grid_template_rows": null,
      "height": null,
      "justify_content": null,
      "justify_items": null,
      "left": null,
      "margin": null,
      "max_height": null,
      "max_width": null,
      "min_height": null,
      "min_width": null,
      "object_fit": null,
      "object_position": null,
      "order": null,
      "overflow": null,
      "overflow_x": null,
      "overflow_y": null,
      "padding": null,
      "right": null,
      "top": null,
      "visibility": null,
      "width": null
     }
    },
    "4c67e6761dad42718951f9ba69170654": {
     "model_module": "@jupyter-widgets/controls",
     "model_module_version": "1.5.0",
     "model_name": "FloatProgressModel",
     "state": {
      "_dom_classes": [],
      "_model_module": "@jupyter-widgets/controls",
      "_model_module_version": "1.5.0",
      "_model_name": "FloatProgressModel",
      "_view_count": null,
      "_view_module": "@jupyter-widgets/controls",
      "_view_module_version": "1.5.0",
      "_view_name": "ProgressView",
      "bar_style": "success",
      "description": "",
      "description_tooltip": null,
      "layout": "IPY_MODEL_433723554d85449e800e315722f0958d",
      "max": 760,
      "min": 0,
      "orientation": "horizontal",
      "style": "IPY_MODEL_2e3e6f7e1b974553a01e6a277ea17a26",
      "value": 760
     }
    },
    "4d5b3303c5bd419a9925b7bf37a53242": {
     "model_module": "@jupyter-widgets/base",
     "model_module_version": "1.2.0",
     "model_name": "LayoutModel",
     "state": {
      "_model_module": "@jupyter-widgets/base",
      "_model_module_version": "1.2.0",
      "_model_name": "LayoutModel",
      "_view_count": null,
      "_view_module": "@jupyter-widgets/base",
      "_view_module_version": "1.2.0",
      "_view_name": "LayoutView",
      "align_content": null,
      "align_items": null,
      "align_self": null,
      "border": null,
      "bottom": null,
      "display": null,
      "flex": null,
      "flex_flow": null,
      "grid_area": null,
      "grid_auto_columns": null,
      "grid_auto_flow": null,
      "grid_auto_rows": null,
      "grid_column": null,
      "grid_gap": null,
      "grid_row": null,
      "grid_template_areas": null,
      "grid_template_columns": null,
      "grid_template_rows": null,
      "height": null,
      "justify_content": null,
      "justify_items": null,
      "left": null,
      "margin": null,
      "max_height": null,
      "max_width": null,
      "min_height": null,
      "min_width": null,
      "object_fit": null,
      "object_position": null,
      "order": null,
      "overflow": null,
      "overflow_x": null,
      "overflow_y": null,
      "padding": null,
      "right": null,
      "top": null,
      "visibility": null,
      "width": null
     }
    },
    "4dbfe9144c2542a69184c5d8b26ad395": {
     "model_module": "@jupyter-widgets/controls",
     "model_module_version": "1.5.0",
     "model_name": "HBoxModel",
     "state": {
      "_dom_classes": [],
      "_model_module": "@jupyter-widgets/controls",
      "_model_module_version": "1.5.0",
      "_model_name": "HBoxModel",
      "_view_count": null,
      "_view_module": "@jupyter-widgets/controls",
      "_view_module_version": "1.5.0",
      "_view_name": "HBoxView",
      "box_style": "",
      "children": [
       "IPY_MODEL_22055c67e0654aa2be5126d0f97f5531",
       "IPY_MODEL_3abde4238f0d4faaad9a51f7694a2d92",
       "IPY_MODEL_6d8f6d73c769484fa3d1e714e4879707"
      ],
      "layout": "IPY_MODEL_137091a4be06419aad255f17030305ef"
     }
    },
    "4e04cde4fcfd4318b76eb2d504ebbd39": {
     "model_module": "@jupyter-widgets/controls",
     "model_module_version": "1.5.0",
     "model_name": "HTMLModel",
     "state": {
      "_dom_classes": [],
      "_model_module": "@jupyter-widgets/controls",
      "_model_module_version": "1.5.0",
      "_model_name": "HTMLModel",
      "_view_count": null,
      "_view_module": "@jupyter-widgets/controls",
      "_view_module_version": "1.5.0",
      "_view_name": "HTMLView",
      "description": "",
      "description_tooltip": null,
      "layout": "IPY_MODEL_ef18442cac994ffda285017ed1e26c89",
      "placeholder": "​",
      "style": "IPY_MODEL_b5bc36408cf643a691716e36807f7060",
      "value": "Downloading (…)lve/main/config.json: 100%"
     }
    },
    "5044856cb39344b582f765c8725341fc": {
     "model_module": "@jupyter-widgets/controls",
     "model_module_version": "1.5.0",
     "model_name": "ProgressStyleModel",
     "state": {
      "_model_module": "@jupyter-widgets/controls",
      "_model_module_version": "1.5.0",
      "_model_name": "ProgressStyleModel",
      "_view_count": null,
      "_view_module": "@jupyter-widgets/base",
      "_view_module_version": "1.2.0",
      "_view_name": "StyleView",
      "bar_color": null,
      "description_width": ""
     }
    },
    "534d6ac48d1540b198ee9978025996d0": {
     "model_module": "@jupyter-widgets/base",
     "model_module_version": "1.2.0",
     "model_name": "LayoutModel",
     "state": {
      "_model_module": "@jupyter-widgets/base",
      "_model_module_version": "1.2.0",
      "_model_name": "LayoutModel",
      "_view_count": null,
      "_view_module": "@jupyter-widgets/base",
      "_view_module_version": "1.2.0",
      "_view_name": "LayoutView",
      "align_content": null,
      "align_items": null,
      "align_self": null,
      "border": null,
      "bottom": null,
      "display": null,
      "flex": null,
      "flex_flow": null,
      "grid_area": null,
      "grid_auto_columns": null,
      "grid_auto_flow": null,
      "grid_auto_rows": null,
      "grid_column": null,
      "grid_gap": null,
      "grid_row": null,
      "grid_template_areas": null,
      "grid_template_columns": null,
      "grid_template_rows": null,
      "height": null,
      "justify_content": null,
      "justify_items": null,
      "left": null,
      "margin": null,
      "max_height": null,
      "max_width": null,
      "min_height": null,
      "min_width": null,
      "object_fit": null,
      "object_position": null,
      "order": null,
      "overflow": null,
      "overflow_x": null,
      "overflow_y": null,
      "padding": null,
      "right": null,
      "top": null,
      "visibility": null,
      "width": null
     }
    },
    "56ea7547905f44749457685c11399e57": {
     "model_module": "@jupyter-widgets/controls",
     "model_module_version": "1.5.0",
     "model_name": "FloatProgressModel",
     "state": {
      "_dom_classes": [],
      "_model_module": "@jupyter-widgets/controls",
      "_model_module_version": "1.5.0",
      "_model_name": "FloatProgressModel",
      "_view_count": null,
      "_view_module": "@jupyter-widgets/controls",
      "_view_module_version": "1.5.0",
      "_view_name": "ProgressView",
      "bar_style": "success",
      "description": "",
      "description_tooltip": null,
      "layout": "IPY_MODEL_37d4442e5e8f4cb39c55434d19f4fd56",
      "max": 1382015,
      "min": 0,
      "orientation": "horizontal",
      "style": "IPY_MODEL_d685f2635bc84ca4adb7c482bdd05c4c",
      "value": 1382015
     }
    },
    "5d6221bc224a496b86c50e5803caf346": {
     "model_module": "@jupyter-widgets/controls",
     "model_module_version": "1.5.0",
     "model_name": "HTMLModel",
     "state": {
      "_dom_classes": [],
      "_model_module": "@jupyter-widgets/controls",
      "_model_module_version": "1.5.0",
      "_model_name": "HTMLModel",
      "_view_count": null,
      "_view_module": "@jupyter-widgets/controls",
      "_view_module_version": "1.5.0",
      "_view_name": "HTMLView",
      "description": "",
      "description_tooltip": null,
      "layout": "IPY_MODEL_8a7d115132984d54aafc10f116fe8501",
      "placeholder": "​",
      "style": "IPY_MODEL_9dc9fee8ec094894b5a63ab99e8d7666",
      "value": "Downloading (…)okenizer_config.json: 100%"
     }
    },
    "5f5dea8822f84844a52ad0add5d0f72f": {
     "model_module": "@jupyter-widgets/controls",
     "model_module_version": "1.5.0",
     "model_name": "DescriptionStyleModel",
     "state": {
      "_model_module": "@jupyter-widgets/controls",
      "_model_module_version": "1.5.0",
      "_model_name": "DescriptionStyleModel",
      "_view_count": null,
      "_view_module": "@jupyter-widgets/base",
      "_view_module_version": "1.2.0",
      "_view_name": "StyleView",
      "description_width": ""
     }
    },
    "64dbfe6a4b27433c9ec39bf267c5b6a3": {
     "model_module": "@jupyter-widgets/controls",
     "model_module_version": "1.5.0",
     "model_name": "HTMLModel",
     "state": {
      "_dom_classes": [],
      "_model_module": "@jupyter-widgets/controls",
      "_model_module_version": "1.5.0",
      "_model_name": "HTMLModel",
      "_view_count": null,
      "_view_module": "@jupyter-widgets/controls",
      "_view_module_version": "1.5.0",
      "_view_name": "HTMLView",
      "description": "",
      "description_tooltip": null,
      "layout": "IPY_MODEL_a6b888ab688b4374b72489120e69af76",
      "placeholder": "​",
      "style": "IPY_MODEL_4504ceecfa6a4a418de3c60b8a9f700b",
      "value": " 798k/798k [00:00&lt;00:00, 3.31MB/s]"
     }
    },
    "6ac25032053745ed85299fa6e3e669c2": {
     "model_module": "@jupyter-widgets/controls",
     "model_module_version": "1.5.0",
     "model_name": "FloatProgressModel",
     "state": {
      "_dom_classes": [],
      "_model_module": "@jupyter-widgets/controls",
      "_model_module_version": "1.5.0",
      "_model_name": "FloatProgressModel",
      "_view_count": null,
      "_view_module": "@jupyter-widgets/controls",
      "_view_module_version": "1.5.0",
      "_view_name": "ProgressView",
      "bar_style": "success",
      "description": "",
      "description_tooltip": null,
      "layout": "IPY_MODEL_ef017799af19450985ae4487b4d979c1",
      "max": 798011,
      "min": 0,
      "orientation": "horizontal",
      "style": "IPY_MODEL_ec826e27c60d40339fea9c4a25edebbe",
      "value": 798011
     }
    },
    "6d6071e55fe3402ca422fc0b57194226": {
     "model_module": "@jupyter-widgets/controls",
     "model_module_version": "1.5.0",
     "model_name": "ProgressStyleModel",
     "state": {
      "_model_module": "@jupyter-widgets/controls",
      "_model_module_version": "1.5.0",
      "_model_name": "ProgressStyleModel",
      "_view_count": null,
      "_view_module": "@jupyter-widgets/base",
      "_view_module_version": "1.2.0",
      "_view_name": "StyleView",
      "bar_color": null,
      "description_width": ""
     }
    },
    "6d8f6d73c769484fa3d1e714e4879707": {
     "model_module": "@jupyter-widgets/controls",
     "model_module_version": "1.5.0",
     "model_name": "HTMLModel",
     "state": {
      "_dom_classes": [],
      "_model_module": "@jupyter-widgets/controls",
      "_model_module_version": "1.5.0",
      "_model_name": "HTMLModel",
      "_view_count": null,
      "_view_module": "@jupyter-widgets/controls",
      "_view_module_version": "1.5.0",
      "_view_name": "HTMLView",
      "description": "",
      "description_tooltip": null,
      "layout": "IPY_MODEL_8c5517aa266046f993b9c3dc0f65e23d",
      "placeholder": "​",
      "style": "IPY_MODEL_199616ac47724f02948bc16bae127809",
      "value": " 1.42M/1.42M [00:00&lt;00:00, 8.80MB/s]"
     }
    },
    "70e9aea62e9f486d907a43ff66ce8f5b": {
     "model_module": "@jupyter-widgets/base",
     "model_module_version": "1.2.0",
     "model_name": "LayoutModel",
     "state": {
      "_model_module": "@jupyter-widgets/base",
      "_model_module_version": "1.2.0",
      "_model_name": "LayoutModel",
      "_view_count": null,
      "_view_module": "@jupyter-widgets/base",
      "_view_module_version": "1.2.0",
      "_view_name": "LayoutView",
      "align_content": null,
      "align_items": null,
      "align_self": null,
      "border": null,
      "bottom": null,
      "display": null,
      "flex": null,
      "flex_flow": null,
      "grid_area": null,
      "grid_auto_columns": null,
      "grid_auto_flow": null,
      "grid_auto_rows": null,
      "grid_column": null,
      "grid_gap": null,
      "grid_row": null,
      "grid_template_areas": null,
      "grid_template_columns": null,
      "grid_template_rows": null,
      "height": null,
      "justify_content": null,
      "justify_items": null,
      "left": null,
      "margin": null,
      "max_height": null,
      "max_width": null,
      "min_height": null,
      "min_width": null,
      "object_fit": null,
      "object_position": null,
      "order": null,
      "overflow": null,
      "overflow_x": null,
      "overflow_y": null,
      "padding": null,
      "right": null,
      "top": null,
      "visibility": null,
      "width": null
     }
    },
    "7640f56ff48f4768bceff82351121475": {
     "model_module": "@jupyter-widgets/base",
     "model_module_version": "1.2.0",
     "model_name": "LayoutModel",
     "state": {
      "_model_module": "@jupyter-widgets/base",
      "_model_module_version": "1.2.0",
      "_model_name": "LayoutModel",
      "_view_count": null,
      "_view_module": "@jupyter-widgets/base",
      "_view_module_version": "1.2.0",
      "_view_name": "LayoutView",
      "align_content": null,
      "align_items": null,
      "align_self": null,
      "border": null,
      "bottom": null,
      "display": null,
      "flex": null,
      "flex_flow": null,
      "grid_area": null,
      "grid_auto_columns": null,
      "grid_auto_flow": null,
      "grid_auto_rows": null,
      "grid_column": null,
      "grid_gap": null,
      "grid_row": null,
      "grid_template_areas": null,
      "grid_template_columns": null,
      "grid_template_rows": null,
      "height": null,
      "justify_content": null,
      "justify_items": null,
      "left": null,
      "margin": null,
      "max_height": null,
      "max_width": null,
      "min_height": null,
      "min_width": null,
      "object_fit": null,
      "object_position": null,
      "order": null,
      "overflow": null,
      "overflow_x": null,
      "overflow_y": null,
      "padding": null,
      "right": null,
      "top": null,
      "visibility": null,
      "width": null
     }
    },
    "7757044d639b40b78dd99971d62c6225": {
     "model_module": "@jupyter-widgets/controls",
     "model_module_version": "1.5.0",
     "model_name": "HBoxModel",
     "state": {
      "_dom_classes": [],
      "_model_module": "@jupyter-widgets/controls",
      "_model_module_version": "1.5.0",
      "_model_name": "HBoxModel",
      "_view_count": null,
      "_view_module": "@jupyter-widgets/controls",
      "_view_module_version": "1.5.0",
      "_view_name": "HBoxView",
      "box_style": "",
      "children": [
       "IPY_MODEL_4e04cde4fcfd4318b76eb2d504ebbd39",
       "IPY_MODEL_4c67e6761dad42718951f9ba69170654",
       "IPY_MODEL_ab27ed7caeba4b59a34e57555812f401"
      ],
      "layout": "IPY_MODEL_4af7e76583074d038a0a7cc15a1de2e0"
     }
    },
    "786736d601cf49c7b1dbcecc44aa6938": {
     "model_module": "@jupyter-widgets/base",
     "model_module_version": "1.2.0",
     "model_name": "LayoutModel",
     "state": {
      "_model_module": "@jupyter-widgets/base",
      "_model_module_version": "1.2.0",
      "_model_name": "LayoutModel",
      "_view_count": null,
      "_view_module": "@jupyter-widgets/base",
      "_view_module_version": "1.2.0",
      "_view_name": "LayoutView",
      "align_content": null,
      "align_items": null,
      "align_self": null,
      "border": null,
      "bottom": null,
      "display": null,
      "flex": null,
      "flex_flow": null,
      "grid_area": null,
      "grid_auto_columns": null,
      "grid_auto_flow": null,
      "grid_auto_rows": null,
      "grid_column": null,
      "grid_gap": null,
      "grid_row": null,
      "grid_template_areas": null,
      "grid_template_columns": null,
      "grid_template_rows": null,
      "height": null,
      "justify_content": null,
      "justify_items": null,
      "left": null,
      "margin": null,
      "max_height": null,
      "max_width": null,
      "min_height": null,
      "min_width": null,
      "object_fit": null,
      "object_position": null,
      "order": null,
      "overflow": null,
      "overflow_x": null,
      "overflow_y": null,
      "padding": null,
      "right": null,
      "top": null,
      "visibility": null,
      "width": null
     }
    },
    "79162b831cda4631a6213149b61470c4": {
     "model_module": "@jupyter-widgets/controls",
     "model_module_version": "1.5.0",
     "model_name": "HBoxModel",
     "state": {
      "_dom_classes": [],
      "_model_module": "@jupyter-widgets/controls",
      "_model_module_version": "1.5.0",
      "_model_name": "HBoxModel",
      "_view_count": null,
      "_view_module": "@jupyter-widgets/controls",
      "_view_module_version": "1.5.0",
      "_view_name": "HBoxView",
      "box_style": "",
      "children": [
       "IPY_MODEL_e9356268f592457798613eed0481811b",
       "IPY_MODEL_6ac25032053745ed85299fa6e3e669c2",
       "IPY_MODEL_64dbfe6a4b27433c9ec39bf267c5b6a3"
      ],
      "layout": "IPY_MODEL_361c1d6e88d34840865938090db25ab4"
     }
    },
    "7f22daa35eec41ce8e35a38f58cac51b": {
     "model_module": "@jupyter-widgets/base",
     "model_module_version": "1.2.0",
     "model_name": "LayoutModel",
     "state": {
      "_model_module": "@jupyter-widgets/base",
      "_model_module_version": "1.2.0",
      "_model_name": "LayoutModel",
      "_view_count": null,
      "_view_module": "@jupyter-widgets/base",
      "_view_module_version": "1.2.0",
      "_view_name": "LayoutView",
      "align_content": null,
      "align_items": null,
      "align_self": null,
      "border": null,
      "bottom": null,
      "display": null,
      "flex": null,
      "flex_flow": null,
      "grid_area": null,
      "grid_auto_columns": null,
      "grid_auto_flow": null,
      "grid_auto_rows": null,
      "grid_column": null,
      "grid_gap": null,
      "grid_row": null,
      "grid_template_areas": null,
      "grid_template_columns": null,
      "grid_template_rows": null,
      "height": null,
      "justify_content": null,
      "justify_items": null,
      "left": null,
      "margin": null,
      "max_height": null,
      "max_width": null,
      "min_height": null,
      "min_width": null,
      "object_fit": null,
      "object_position": null,
      "order": null,
      "overflow": null,
      "overflow_x": null,
      "overflow_y": null,
      "padding": null,
      "right": null,
      "top": null,
      "visibility": null,
      "width": null
     }
    },
    "7fec9fcccc984706a4b0a2a6cb4e428d": {
     "model_module": "@jupyter-widgets/base",
     "model_module_version": "1.2.0",
     "model_name": "LayoutModel",
     "state": {
      "_model_module": "@jupyter-widgets/base",
      "_model_module_version": "1.2.0",
      "_model_name": "LayoutModel",
      "_view_count": null,
      "_view_module": "@jupyter-widgets/base",
      "_view_module_version": "1.2.0",
      "_view_name": "LayoutView",
      "align_content": null,
      "align_items": null,
      "align_self": null,
      "border": null,
      "bottom": null,
      "display": null,
      "flex": null,
      "flex_flow": null,
      "grid_area": null,
      "grid_auto_columns": null,
      "grid_auto_flow": null,
      "grid_auto_rows": null,
      "grid_column": null,
      "grid_gap": null,
      "grid_row": null,
      "grid_template_areas": null,
      "grid_template_columns": null,
      "grid_template_rows": null,
      "height": null,
      "justify_content": null,
      "justify_items": null,
      "left": null,
      "margin": null,
      "max_height": null,
      "max_width": null,
      "min_height": null,
      "min_width": null,
      "object_fit": null,
      "object_position": null,
      "order": null,
      "overflow": null,
      "overflow_x": null,
      "overflow_y": null,
      "padding": null,
      "right": null,
      "top": null,
      "visibility": null,
      "width": null
     }
    },
    "8a7d115132984d54aafc10f116fe8501": {
     "model_module": "@jupyter-widgets/base",
     "model_module_version": "1.2.0",
     "model_name": "LayoutModel",
     "state": {
      "_model_module": "@jupyter-widgets/base",
      "_model_module_version": "1.2.0",
      "_model_name": "LayoutModel",
      "_view_count": null,
      "_view_module": "@jupyter-widgets/base",
      "_view_module_version": "1.2.0",
      "_view_name": "LayoutView",
      "align_content": null,
      "align_items": null,
      "align_self": null,
      "border": null,
      "bottom": null,
      "display": null,
      "flex": null,
      "flex_flow": null,
      "grid_area": null,
      "grid_auto_columns": null,
      "grid_auto_flow": null,
      "grid_auto_rows": null,
      "grid_column": null,
      "grid_gap": null,
      "grid_row": null,
      "grid_template_areas": null,
      "grid_template_columns": null,
      "grid_template_rows": null,
      "height": null,
      "justify_content": null,
      "justify_items": null,
      "left": null,
      "margin": null,
      "max_height": null,
      "max_width": null,
      "min_height": null,
      "min_width": null,
      "object_fit": null,
      "object_position": null,
      "order": null,
      "overflow": null,
      "overflow_x": null,
      "overflow_y": null,
      "padding": null,
      "right": null,
      "top": null,
      "visibility": null,
      "width": null
     }
    },
    "8bcceca86aff4e3484b8c3fc228ed65b": {
     "model_module": "@jupyter-widgets/controls",
     "model_module_version": "1.5.0",
     "model_name": "ProgressStyleModel",
     "state": {
      "_model_module": "@jupyter-widgets/controls",
      "_model_module_version": "1.5.0",
      "_model_name": "ProgressStyleModel",
      "_view_count": null,
      "_view_module": "@jupyter-widgets/base",
      "_view_module_version": "1.2.0",
      "_view_name": "StyleView",
      "bar_color": null,
      "description_width": ""
     }
    },
    "8c5517aa266046f993b9c3dc0f65e23d": {
     "model_module": "@jupyter-widgets/base",
     "model_module_version": "1.2.0",
     "model_name": "LayoutModel",
     "state": {
      "_model_module": "@jupyter-widgets/base",
      "_model_module_version": "1.2.0",
      "_model_name": "LayoutModel",
      "_view_count": null,
      "_view_module": "@jupyter-widgets/base",
      "_view_module_version": "1.2.0",
      "_view_name": "LayoutView",
      "align_content": null,
      "align_items": null,
      "align_self": null,
      "border": null,
      "bottom": null,
      "display": null,
      "flex": null,
      "flex_flow": null,
      "grid_area": null,
      "grid_auto_columns": null,
      "grid_auto_flow": null,
      "grid_auto_rows": null,
      "grid_column": null,
      "grid_gap": null,
      "grid_row": null,
      "grid_template_areas": null,
      "grid_template_columns": null,
      "grid_template_rows": null,
      "height": null,
      "justify_content": null,
      "justify_items": null,
      "left": null,
      "margin": null,
      "max_height": null,
      "max_width": null,
      "min_height": null,
      "min_width": null,
      "object_fit": null,
      "object_position": null,
      "order": null,
      "overflow": null,
      "overflow_x": null,
      "overflow_y": null,
      "padding": null,
      "right": null,
      "top": null,
      "visibility": null,
      "width": null
     }
    },
    "8d941a53874349f084dd6321cdfb27f4": {
     "model_module": "@jupyter-widgets/base",
     "model_module_version": "1.2.0",
     "model_name": "LayoutModel",
     "state": {
      "_model_module": "@jupyter-widgets/base",
      "_model_module_version": "1.2.0",
      "_model_name": "LayoutModel",
      "_view_count": null,
      "_view_module": "@jupyter-widgets/base",
      "_view_module_version": "1.2.0",
      "_view_name": "LayoutView",
      "align_content": null,
      "align_items": null,
      "align_self": null,
      "border": null,
      "bottom": null,
      "display": null,
      "flex": null,
      "flex_flow": null,
      "grid_area": null,
      "grid_auto_columns": null,
      "grid_auto_flow": null,
      "grid_auto_rows": null,
      "grid_column": null,
      "grid_gap": null,
      "grid_row": null,
      "grid_template_areas": null,
      "grid_template_columns": null,
      "grid_template_rows": null,
      "height": null,
      "justify_content": null,
      "justify_items": null,
      "left": null,
      "margin": null,
      "max_height": null,
      "max_width": null,
      "min_height": null,
      "min_width": null,
      "object_fit": null,
      "object_position": null,
      "order": null,
      "overflow": null,
      "overflow_x": null,
      "overflow_y": null,
      "padding": null,
      "right": null,
      "top": null,
      "visibility": null,
      "width": null
     }
    },
    "8dc2d514431449dfac25d20e0e48e9ae": {
     "model_module": "@jupyter-widgets/controls",
     "model_module_version": "1.5.0",
     "model_name": "HTMLModel",
     "state": {
      "_dom_classes": [],
      "_model_module": "@jupyter-widgets/controls",
      "_model_module_version": "1.5.0",
      "_model_name": "HTMLModel",
      "_view_count": null,
      "_view_module": "@jupyter-widgets/controls",
      "_view_module_version": "1.5.0",
      "_view_name": "HTMLView",
      "description": "",
      "description_tooltip": null,
      "layout": "IPY_MODEL_ae632eaecce341b8a295de0db8edfaf8",
      "placeholder": "​",
      "style": "IPY_MODEL_ae71f7cd385f450587d2062f86a513f2",
      "value": " 43.0/43.0 [00:00&lt;00:00, 1.91kB/s]"
     }
    },
    "95536809435f4ce3a94140960051fb7a": {
     "model_module": "@jupyter-widgets/controls",
     "model_module_version": "1.5.0",
     "model_name": "HTMLModel",
     "state": {
      "_dom_classes": [],
      "_model_module": "@jupyter-widgets/controls",
      "_model_module_version": "1.5.0",
      "_model_name": "HTMLModel",
      "_view_count": null,
      "_view_module": "@jupyter-widgets/controls",
      "_view_module_version": "1.5.0",
      "_view_name": "HTMLView",
      "description": "",
      "description_tooltip": null,
      "layout": "IPY_MODEL_1ecc97cf470a40f2a3c00bb70d78e268",
      "placeholder": "​",
      "style": "IPY_MODEL_457370d233c84f0eb97922f8fe4d6848",
      "value": " 1.31M/1.31M [00:00&lt;00:00, 10.3MB/s]"
     }
    },
    "959fee11ac3149bea4a63fc2c9e99d86": {
     "model_module": "@jupyter-widgets/controls",
     "model_module_version": "1.5.0",
     "model_name": "FloatProgressModel",
     "state": {
      "_dom_classes": [],
      "_model_module": "@jupyter-widgets/controls",
      "_model_module_version": "1.5.0",
      "_model_name": "FloatProgressModel",
      "_view_count": null,
      "_view_module": "@jupyter-widgets/controls",
      "_view_module_version": "1.5.0",
      "_view_name": "ProgressView",
      "bar_style": "success",
      "description": "",
      "description_tooltip": null,
      "layout": "IPY_MODEL_bae6b9331c6042f59c44109eee896e46",
      "max": 1312669,
      "min": 0,
      "orientation": "horizontal",
      "style": "IPY_MODEL_8bcceca86aff4e3484b8c3fc228ed65b",
      "value": 1312669
     }
    },
    "9bcca4e6cb9f4937934fb959163269e6": {
     "model_module": "@jupyter-widgets/controls",
     "model_module_version": "1.5.0",
     "model_name": "HTMLModel",
     "state": {
      "_dom_classes": [],
      "_model_module": "@jupyter-widgets/controls",
      "_model_module_version": "1.5.0",
      "_model_name": "HTMLModel",
      "_view_count": null,
      "_view_module": "@jupyter-widgets/controls",
      "_view_module_version": "1.5.0",
      "_view_name": "HTMLView",
      "description": "",
      "description_tooltip": null,
      "layout": "IPY_MODEL_534d6ac48d1540b198ee9978025996d0",
      "placeholder": "​",
      "style": "IPY_MODEL_21fbf522fd9a43ada4e33283d223b5d1",
      "value": "Downloading (…)/main/tokenizer.json: 100%"
     }
    },
    "9c93514274014754b64ff5da7184b8c1": {
     "model_module": "@jupyter-widgets/base",
     "model_module_version": "1.2.0",
     "model_name": "LayoutModel",
     "state": {
      "_model_module": "@jupyter-widgets/base",
      "_model_module_version": "1.2.0",
      "_model_name": "LayoutModel",
      "_view_count": null,
      "_view_module": "@jupyter-widgets/base",
      "_view_module_version": "1.2.0",
      "_view_name": "LayoutView",
      "align_content": null,
      "align_items": null,
      "align_self": null,
      "border": null,
      "bottom": null,
      "display": null,
      "flex": null,
      "flex_flow": null,
      "grid_area": null,
      "grid_auto_columns": null,
      "grid_auto_flow": null,
      "grid_auto_rows": null,
      "grid_column": null,
      "grid_gap": null,
      "grid_row": null,
      "grid_template_areas": null,
      "grid_template_columns": null,
      "grid_template_rows": null,
      "height": null,
      "justify_content": null,
      "justify_items": null,
      "left": null,
      "margin": null,
      "max_height": null,
      "max_width": null,
      "min_height": null,
      "min_width": null,
      "object_fit": null,
      "object_position": null,
      "order": null,
      "overflow": null,
      "overflow_x": null,
      "overflow_y": null,
      "padding": null,
      "right": null,
      "top": null,
      "visibility": null,
      "width": null
     }
    },
    "9cfcb4be0bca41229ca77f6ef79ab591": {
     "model_module": "@jupyter-widgets/base",
     "model_module_version": "1.2.0",
     "model_name": "LayoutModel",
     "state": {
      "_model_module": "@jupyter-widgets/base",
      "_model_module_version": "1.2.0",
      "_model_name": "LayoutModel",
      "_view_count": null,
      "_view_module": "@jupyter-widgets/base",
      "_view_module_version": "1.2.0",
      "_view_name": "LayoutView",
      "align_content": null,
      "align_items": null,
      "align_self": null,
      "border": null,
      "bottom": null,
      "display": null,
      "flex": null,
      "flex_flow": null,
      "grid_area": null,
      "grid_auto_columns": null,
      "grid_auto_flow": null,
      "grid_auto_rows": null,
      "grid_column": null,
      "grid_gap": null,
      "grid_row": null,
      "grid_template_areas": null,
      "grid_template_columns": null,
      "grid_template_rows": null,
      "height": null,
      "justify_content": null,
      "justify_items": null,
      "left": null,
      "margin": null,
      "max_height": null,
      "max_width": null,
      "min_height": null,
      "min_width": null,
      "object_fit": null,
      "object_position": null,
      "order": null,
      "overflow": null,
      "overflow_x": null,
      "overflow_y": null,
      "padding": null,
      "right": null,
      "top": null,
      "visibility": null,
      "width": null
     }
    },
    "9dc9fee8ec094894b5a63ab99e8d7666": {
     "model_module": "@jupyter-widgets/controls",
     "model_module_version": "1.5.0",
     "model_name": "DescriptionStyleModel",
     "state": {
      "_model_module": "@jupyter-widgets/controls",
      "_model_module_version": "1.5.0",
      "_model_name": "DescriptionStyleModel",
      "_view_count": null,
      "_view_module": "@jupyter-widgets/base",
      "_view_module_version": "1.2.0",
      "_view_name": "StyleView",
      "description_width": ""
     }
    },
    "a6b888ab688b4374b72489120e69af76": {
     "model_module": "@jupyter-widgets/base",
     "model_module_version": "1.2.0",
     "model_name": "LayoutModel",
     "state": {
      "_model_module": "@jupyter-widgets/base",
      "_model_module_version": "1.2.0",
      "_model_name": "LayoutModel",
      "_view_count": null,
      "_view_module": "@jupyter-widgets/base",
      "_view_module_version": "1.2.0",
      "_view_name": "LayoutView",
      "align_content": null,
      "align_items": null,
      "align_self": null,
      "border": null,
      "bottom": null,
      "display": null,
      "flex": null,
      "flex_flow": null,
      "grid_area": null,
      "grid_auto_columns": null,
      "grid_auto_flow": null,
      "grid_auto_rows": null,
      "grid_column": null,
      "grid_gap": null,
      "grid_row": null,
      "grid_template_areas": null,
      "grid_template_columns": null,
      "grid_template_rows": null,
      "height": null,
      "justify_content": null,
      "justify_items": null,
      "left": null,
      "margin": null,
      "max_height": null,
      "max_width": null,
      "min_height": null,
      "min_width": null,
      "object_fit": null,
      "object_position": null,
      "order": null,
      "overflow": null,
      "overflow_x": null,
      "overflow_y": null,
      "padding": null,
      "right": null,
      "top": null,
      "visibility": null,
      "width": null
     }
    },
    "a82daabdfbbe4ede8fc6fc32e072997b": {
     "model_module": "@jupyter-widgets/controls",
     "model_module_version": "1.5.0",
     "model_name": "ProgressStyleModel",
     "state": {
      "_model_module": "@jupyter-widgets/controls",
      "_model_module_version": "1.5.0",
      "_model_name": "ProgressStyleModel",
      "_view_count": null,
      "_view_module": "@jupyter-widgets/base",
      "_view_module_version": "1.2.0",
      "_view_name": "StyleView",
      "bar_color": null,
      "description_width": ""
     }
    },
    "a83a0289475747dc9036b11c5d1565e9": {
     "model_module": "@jupyter-widgets/base",
     "model_module_version": "1.2.0",
     "model_name": "LayoutModel",
     "state": {
      "_model_module": "@jupyter-widgets/base",
      "_model_module_version": "1.2.0",
      "_model_name": "LayoutModel",
      "_view_count": null,
      "_view_module": "@jupyter-widgets/base",
      "_view_module_version": "1.2.0",
      "_view_name": "LayoutView",
      "align_content": null,
      "align_items": null,
      "align_self": null,
      "border": null,
      "bottom": null,
      "display": null,
      "flex": null,
      "flex_flow": null,
      "grid_area": null,
      "grid_auto_columns": null,
      "grid_auto_flow": null,
      "grid_auto_rows": null,
      "grid_column": null,
      "grid_gap": null,
      "grid_row": null,
      "grid_template_areas": null,
      "grid_template_columns": null,
      "grid_template_rows": null,
      "height": null,
      "justify_content": null,
      "justify_items": null,
      "left": null,
      "margin": null,
      "max_height": null,
      "max_width": null,
      "min_height": null,
      "min_width": null,
      "object_fit": null,
      "object_position": null,
      "order": null,
      "overflow": null,
      "overflow_x": null,
      "overflow_y": null,
      "padding": null,
      "right": null,
      "top": null,
      "visibility": null,
      "width": null
     }
    },
    "ab27ed7caeba4b59a34e57555812f401": {
     "model_module": "@jupyter-widgets/controls",
     "model_module_version": "1.5.0",
     "model_name": "HTMLModel",
     "state": {
      "_dom_classes": [],
      "_model_module": "@jupyter-widgets/controls",
      "_model_module_version": "1.5.0",
      "_model_name": "HTMLModel",
      "_view_count": null,
      "_view_module": "@jupyter-widgets/controls",
      "_view_module_version": "1.5.0",
      "_view_name": "HTMLView",
      "description": "",
      "description_tooltip": null,
      "layout": "IPY_MODEL_70e9aea62e9f486d907a43ff66ce8f5b",
      "placeholder": "​",
      "style": "IPY_MODEL_4455897594f045138fab5fc1ce70c137",
      "value": " 760/760 [00:00&lt;00:00, 26.1kB/s]"
     }
    },
    "ae632eaecce341b8a295de0db8edfaf8": {
     "model_module": "@jupyter-widgets/base",
     "model_module_version": "1.2.0",
     "model_name": "LayoutModel",
     "state": {
      "_model_module": "@jupyter-widgets/base",
      "_model_module_version": "1.2.0",
      "_model_name": "LayoutModel",
      "_view_count": null,
      "_view_module": "@jupyter-widgets/base",
      "_view_module_version": "1.2.0",
      "_view_name": "LayoutView",
      "align_content": null,
      "align_items": null,
      "align_self": null,
      "border": null,
      "bottom": null,
      "display": null,
      "flex": null,
      "flex_flow": null,
      "grid_area": null,
      "grid_auto_columns": null,
      "grid_auto_flow": null,
      "grid_auto_rows": null,
      "grid_column": null,
      "grid_gap": null,
      "grid_row": null,
      "grid_template_areas": null,
      "grid_template_columns": null,
      "grid_template_rows": null,
      "height": null,
      "justify_content": null,
      "justify_items": null,
      "left": null,
      "margin": null,
      "max_height": null,
      "max_width": null,
      "min_height": null,
      "min_width": null,
      "object_fit": null,
      "object_position": null,
      "order": null,
      "overflow": null,
      "overflow_x": null,
      "overflow_y": null,
      "padding": null,
      "right": null,
      "top": null,
      "visibility": null,
      "width": null
     }
    },
    "ae71f7cd385f450587d2062f86a513f2": {
     "model_module": "@jupyter-widgets/controls",
     "model_module_version": "1.5.0",
     "model_name": "DescriptionStyleModel",
     "state": {
      "_model_module": "@jupyter-widgets/controls",
      "_model_module_version": "1.5.0",
      "_model_name": "DescriptionStyleModel",
      "_view_count": null,
      "_view_module": "@jupyter-widgets/base",
      "_view_module_version": "1.2.0",
      "_view_name": "StyleView",
      "description_width": ""
     }
    },
    "b251ce4bc1874c909379cdbb511216de": {
     "model_module": "@jupyter-widgets/controls",
     "model_module_version": "1.5.0",
     "model_name": "HBoxModel",
     "state": {
      "_dom_classes": [],
      "_model_module": "@jupyter-widgets/controls",
      "_model_module_version": "1.5.0",
      "_model_name": "HBoxModel",
      "_view_count": null,
      "_view_module": "@jupyter-widgets/controls",
      "_view_module_version": "1.5.0",
      "_view_name": "HBoxView",
      "box_style": "",
      "children": [
       "IPY_MODEL_3d9b5101b6694b6f9544a2e26caaa790",
       "IPY_MODEL_28ec45d45c994f2e810d63d45f72a3cc",
       "IPY_MODEL_442bd795e70940c48ef700d034b2936c"
      ],
      "layout": "IPY_MODEL_786736d601cf49c7b1dbcecc44aa6938"
     }
    },
    "b5bc36408cf643a691716e36807f7060": {
     "model_module": "@jupyter-widgets/controls",
     "model_module_version": "1.5.0",
     "model_name": "DescriptionStyleModel",
     "state": {
      "_model_module": "@jupyter-widgets/controls",
      "_model_module_version": "1.5.0",
      "_model_name": "DescriptionStyleModel",
      "_view_count": null,
      "_view_module": "@jupyter-widgets/base",
      "_view_module_version": "1.2.0",
      "_view_name": "StyleView",
      "description_width": ""
     }
    },
    "bae6b9331c6042f59c44109eee896e46": {
     "model_module": "@jupyter-widgets/base",
     "model_module_version": "1.2.0",
     "model_name": "LayoutModel",
     "state": {
      "_model_module": "@jupyter-widgets/base",
      "_model_module_version": "1.2.0",
      "_model_name": "LayoutModel",
      "_view_count": null,
      "_view_module": "@jupyter-widgets/base",
      "_view_module_version": "1.2.0",
      "_view_name": "LayoutView",
      "align_content": null,
      "align_items": null,
      "align_self": null,
      "border": null,
      "bottom": null,
      "display": null,
      "flex": null,
      "flex_flow": null,
      "grid_area": null,
      "grid_auto_columns": null,
      "grid_auto_flow": null,
      "grid_auto_rows": null,
      "grid_column": null,
      "grid_gap": null,
      "grid_row": null,
      "grid_template_areas": null,
      "grid_template_columns": null,
      "grid_template_rows": null,
      "height": null,
      "justify_content": null,
      "justify_items": null,
      "left": null,
      "margin": null,
      "max_height": null,
      "max_width": null,
      "min_height": null,
      "min_width": null,
      "object_fit": null,
      "object_position": null,
      "order": null,
      "overflow": null,
      "overflow_x": null,
      "overflow_y": null,
      "padding": null,
      "right": null,
      "top": null,
      "visibility": null,
      "width": null
     }
    },
    "c402cd96d2f1427aa547eab16e8fd9a2": {
     "model_module": "@jupyter-widgets/controls",
     "model_module_version": "1.5.0",
     "model_name": "DescriptionStyleModel",
     "state": {
      "_model_module": "@jupyter-widgets/controls",
      "_model_module_version": "1.5.0",
      "_model_name": "DescriptionStyleModel",
      "_view_count": null,
      "_view_module": "@jupyter-widgets/base",
      "_view_module_version": "1.2.0",
      "_view_name": "StyleView",
      "description_width": ""
     }
    },
    "c5f62627cb8b401289ee81755e4f7a32": {
     "model_module": "@jupyter-widgets/base",
     "model_module_version": "1.2.0",
     "model_name": "LayoutModel",
     "state": {
      "_model_module": "@jupyter-widgets/base",
      "_model_module_version": "1.2.0",
      "_model_name": "LayoutModel",
      "_view_count": null,
      "_view_module": "@jupyter-widgets/base",
      "_view_module_version": "1.2.0",
      "_view_name": "LayoutView",
      "align_content": null,
      "align_items": null,
      "align_self": null,
      "border": null,
      "bottom": null,
      "display": null,
      "flex": null,
      "flex_flow": null,
      "grid_area": null,
      "grid_auto_columns": null,
      "grid_auto_flow": null,
      "grid_auto_rows": null,
      "grid_column": null,
      "grid_gap": null,
      "grid_row": null,
      "grid_template_areas": null,
      "grid_template_columns": null,
      "grid_template_rows": null,
      "height": null,
      "justify_content": null,
      "justify_items": null,
      "left": null,
      "margin": null,
      "max_height": null,
      "max_width": null,
      "min_height": null,
      "min_width": null,
      "object_fit": null,
      "object_position": null,
      "order": null,
      "overflow": null,
      "overflow_x": null,
      "overflow_y": null,
      "padding": null,
      "right": null,
      "top": null,
      "visibility": null,
      "width": null
     }
    },
    "c9b6ecf2896140768af9e7d0c754ac36": {
     "model_module": "@jupyter-widgets/controls",
     "model_module_version": "1.5.0",
     "model_name": "HBoxModel",
     "state": {
      "_dom_classes": [],
      "_model_module": "@jupyter-widgets/controls",
      "_model_module_version": "1.5.0",
      "_model_name": "HBoxModel",
      "_view_count": null,
      "_view_module": "@jupyter-widgets/controls",
      "_view_module_version": "1.5.0",
      "_view_name": "HBoxView",
      "box_style": "",
      "children": [
       "IPY_MODEL_9bcca4e6cb9f4937934fb959163269e6",
       "IPY_MODEL_959fee11ac3149bea4a63fc2c9e99d86",
       "IPY_MODEL_95536809435f4ce3a94140960051fb7a"
      ],
      "layout": "IPY_MODEL_9c93514274014754b64ff5da7184b8c1"
     }
    },
    "cc54cb3f9b034407943c41309f6f8b6a": {
     "model_module": "@jupyter-widgets/controls",
     "model_module_version": "1.5.0",
     "model_name": "DescriptionStyleModel",
     "state": {
      "_model_module": "@jupyter-widgets/controls",
      "_model_module_version": "1.5.0",
      "_model_name": "DescriptionStyleModel",
      "_view_count": null,
      "_view_module": "@jupyter-widgets/base",
      "_view_module_version": "1.2.0",
      "_view_name": "StyleView",
      "description_width": ""
     }
    },
    "cc7f7b64537f40ecb4681dbc3bbd02c0": {
     "model_module": "@jupyter-widgets/base",
     "model_module_version": "1.2.0",
     "model_name": "LayoutModel",
     "state": {
      "_model_module": "@jupyter-widgets/base",
      "_model_module_version": "1.2.0",
      "_model_name": "LayoutModel",
      "_view_count": null,
      "_view_module": "@jupyter-widgets/base",
      "_view_module_version": "1.2.0",
      "_view_name": "LayoutView",
      "align_content": null,
      "align_items": null,
      "align_self": null,
      "border": null,
      "bottom": null,
      "display": null,
      "flex": null,
      "flex_flow": null,
      "grid_area": null,
      "grid_auto_columns": null,
      "grid_auto_flow": null,
      "grid_auto_rows": null,
      "grid_column": null,
      "grid_gap": null,
      "grid_row": null,
      "grid_template_areas": null,
      "grid_template_columns": null,
      "grid_template_rows": null,
      "height": null,
      "justify_content": null,
      "justify_items": null,
      "left": null,
      "margin": null,
      "max_height": null,
      "max_width": null,
      "min_height": null,
      "min_width": null,
      "object_fit": null,
      "object_position": null,
      "order": null,
      "overflow": null,
      "overflow_x": null,
      "overflow_y": null,
      "padding": null,
      "right": null,
      "top": null,
      "visibility": null,
      "width": null
     }
    },
    "cf9c14180be04157a44685590a4972e6": {
     "model_module": "@jupyter-widgets/base",
     "model_module_version": "1.2.0",
     "model_name": "LayoutModel",
     "state": {
      "_model_module": "@jupyter-widgets/base",
      "_model_module_version": "1.2.0",
      "_model_name": "LayoutModel",
      "_view_count": null,
      "_view_module": "@jupyter-widgets/base",
      "_view_module_version": "1.2.0",
      "_view_name": "LayoutView",
      "align_content": null,
      "align_items": null,
      "align_self": null,
      "border": null,
      "bottom": null,
      "display": null,
      "flex": null,
      "flex_flow": null,
      "grid_area": null,
      "grid_auto_columns": null,
      "grid_auto_flow": null,
      "grid_auto_rows": null,
      "grid_column": null,
      "grid_gap": null,
      "grid_row": null,
      "grid_template_areas": null,
      "grid_template_columns": null,
      "grid_template_rows": null,
      "height": null,
      "justify_content": null,
      "justify_items": null,
      "left": null,
      "margin": null,
      "max_height": null,
      "max_width": null,
      "min_height": null,
      "min_width": null,
      "object_fit": null,
      "object_position": null,
      "order": null,
      "overflow": null,
      "overflow_x": null,
      "overflow_y": null,
      "padding": null,
      "right": null,
      "top": null,
      "visibility": null,
      "width": null
     }
    },
    "d0a1b8e69c494c31a207e44040ddfff8": {
     "model_module": "@jupyter-widgets/base",
     "model_module_version": "1.2.0",
     "model_name": "LayoutModel",
     "state": {
      "_model_module": "@jupyter-widgets/base",
      "_model_module_version": "1.2.0",
      "_model_name": "LayoutModel",
      "_view_count": null,
      "_view_module": "@jupyter-widgets/base",
      "_view_module_version": "1.2.0",
      "_view_name": "LayoutView",
      "align_content": null,
      "align_items": null,
      "align_self": null,
      "border": null,
      "bottom": null,
      "display": null,
      "flex": null,
      "flex_flow": null,
      "grid_area": null,
      "grid_auto_columns": null,
      "grid_auto_flow": null,
      "grid_auto_rows": null,
      "grid_column": null,
      "grid_gap": null,
      "grid_row": null,
      "grid_template_areas": null,
      "grid_template_columns": null,
      "grid_template_rows": null,
      "height": null,
      "justify_content": null,
      "justify_items": null,
      "left": null,
      "margin": null,
      "max_height": null,
      "max_width": null,
      "min_height": null,
      "min_width": null,
      "object_fit": null,
      "object_position": null,
      "order": null,
      "overflow": null,
      "overflow_x": null,
      "overflow_y": null,
      "padding": null,
      "right": null,
      "top": null,
      "visibility": null,
      "width": null
     }
    },
    "d685f2635bc84ca4adb7c482bdd05c4c": {
     "model_module": "@jupyter-widgets/controls",
     "model_module_version": "1.5.0",
     "model_name": "ProgressStyleModel",
     "state": {
      "_model_module": "@jupyter-widgets/controls",
      "_model_module_version": "1.5.0",
      "_model_name": "ProgressStyleModel",
      "_view_count": null,
      "_view_module": "@jupyter-widgets/base",
      "_view_module_version": "1.2.0",
      "_view_name": "StyleView",
      "bar_color": null,
      "description_width": ""
     }
    },
    "de57c2cccbd34b20af5a2bbe660b4d27": {
     "model_module": "@jupyter-widgets/controls",
     "model_module_version": "1.5.0",
     "model_name": "HTMLModel",
     "state": {
      "_dom_classes": [],
      "_model_module": "@jupyter-widgets/controls",
      "_model_module_version": "1.5.0",
      "_model_name": "HTMLModel",
      "_view_count": null,
      "_view_module": "@jupyter-widgets/controls",
      "_view_module_version": "1.5.0",
      "_view_name": "HTMLView",
      "description": "",
      "description_tooltip": null,
      "layout": "IPY_MODEL_3a71cb07b41f43588fb9b50f550103a4",
      "placeholder": "​",
      "style": "IPY_MODEL_5f5dea8822f84844a52ad0add5d0f72f",
      "value": "Downloading (…)lve/main/config.json: 100%"
     }
    },
    "df6b8a992b9f4e0dae69b8918275819d": {
     "model_module": "@jupyter-widgets/controls",
     "model_module_version": "1.5.0",
     "model_name": "DescriptionStyleModel",
     "state": {
      "_model_module": "@jupyter-widgets/controls",
      "_model_module_version": "1.5.0",
      "_model_name": "DescriptionStyleModel",
      "_view_count": null,
      "_view_module": "@jupyter-widgets/base",
      "_view_module_version": "1.2.0",
      "_view_name": "StyleView",
      "description_width": ""
     }
    },
    "e9356268f592457798613eed0481811b": {
     "model_module": "@jupyter-widgets/controls",
     "model_module_version": "1.5.0",
     "model_name": "HTMLModel",
     "state": {
      "_dom_classes": [],
      "_model_module": "@jupyter-widgets/controls",
      "_model_module_version": "1.5.0",
      "_model_name": "HTMLModel",
      "_view_count": null,
      "_view_module": "@jupyter-widgets/controls",
      "_view_module_version": "1.5.0",
      "_view_name": "HTMLView",
      "description": "",
      "description_tooltip": null,
      "layout": "IPY_MODEL_cc7f7b64537f40ecb4681dbc3bbd02c0",
      "placeholder": "​",
      "style": "IPY_MODEL_cc54cb3f9b034407943c41309f6f8b6a",
      "value": "Downloading (…)ve/main/spiece.model: 100%"
     }
    },
    "ec826e27c60d40339fea9c4a25edebbe": {
     "model_module": "@jupyter-widgets/controls",
     "model_module_version": "1.5.0",
     "model_name": "ProgressStyleModel",
     "state": {
      "_model_module": "@jupyter-widgets/controls",
      "_model_module_version": "1.5.0",
      "_model_name": "ProgressStyleModel",
      "_view_count": null,
      "_view_module": "@jupyter-widgets/base",
      "_view_module_version": "1.2.0",
      "_view_name": "StyleView",
      "bar_color": null,
      "description_width": ""
     }
    },
    "ef017799af19450985ae4487b4d979c1": {
     "model_module": "@jupyter-widgets/base",
     "model_module_version": "1.2.0",
     "model_name": "LayoutModel",
     "state": {
      "_model_module": "@jupyter-widgets/base",
      "_model_module_version": "1.2.0",
      "_model_name": "LayoutModel",
      "_view_count": null,
      "_view_module": "@jupyter-widgets/base",
      "_view_module_version": "1.2.0",
      "_view_name": "LayoutView",
      "align_content": null,
      "align_items": null,
      "align_self": null,
      "border": null,
      "bottom": null,
      "display": null,
      "flex": null,
      "flex_flow": null,
      "grid_area": null,
      "grid_auto_columns": null,
      "grid_auto_flow": null,
      "grid_auto_rows": null,
      "grid_column": null,
      "grid_gap": null,
      "grid_row": null,
      "grid_template_areas": null,
      "grid_template_columns": null,
      "grid_template_rows": null,
      "height": null,
      "justify_content": null,
      "justify_items": null,
      "left": null,
      "margin": null,
      "max_height": null,
      "max_width": null,
      "min_height": null,
      "min_width": null,
      "object_fit": null,
      "object_position": null,
      "order": null,
      "overflow": null,
      "overflow_x": null,
      "overflow_y": null,
      "padding": null,
      "right": null,
      "top": null,
      "visibility": null,
      "width": null
     }
    },
    "ef18442cac994ffda285017ed1e26c89": {
     "model_module": "@jupyter-widgets/base",
     "model_module_version": "1.2.0",
     "model_name": "LayoutModel",
     "state": {
      "_model_module": "@jupyter-widgets/base",
      "_model_module_version": "1.2.0",
      "_model_name": "LayoutModel",
      "_view_count": null,
      "_view_module": "@jupyter-widgets/base",
      "_view_module_version": "1.2.0",
      "_view_name": "LayoutView",
      "align_content": null,
      "align_items": null,
      "align_self": null,
      "border": null,
      "bottom": null,
      "display": null,
      "flex": null,
      "flex_flow": null,
      "grid_area": null,
      "grid_auto_columns": null,
      "grid_auto_flow": null,
      "grid_auto_rows": null,
      "grid_column": null,
      "grid_gap": null,
      "grid_row": null,
      "grid_template_areas": null,
      "grid_template_columns": null,
      "grid_template_rows": null,
      "height": null,
      "justify_content": null,
      "justify_items": null,
      "left": null,
      "margin": null,
      "max_height": null,
      "max_width": null,
      "min_height": null,
      "min_width": null,
      "object_fit": null,
      "object_position": null,
      "order": null,
      "overflow": null,
      "overflow_x": null,
      "overflow_y": null,
      "padding": null,
      "right": null,
      "top": null,
      "visibility": null,
      "width": null
     }
    },
    "f2930bbcd73e4d66a83b07141d1c1ba4": {
     "model_module": "@jupyter-widgets/controls",
     "model_module_version": "1.5.0",
     "model_name": "DescriptionStyleModel",
     "state": {
      "_model_module": "@jupyter-widgets/controls",
      "_model_module_version": "1.5.0",
      "_model_name": "DescriptionStyleModel",
      "_view_count": null,
      "_view_module": "@jupyter-widgets/base",
      "_view_module_version": "1.2.0",
      "_view_name": "StyleView",
      "description_width": ""
     }
    },
    "fb12e1ecafa840638ea24dd751097bdd": {
     "model_module": "@jupyter-widgets/controls",
     "model_module_version": "1.5.0",
     "model_name": "HBoxModel",
     "state": {
      "_dom_classes": [],
      "_model_module": "@jupyter-widgets/controls",
      "_model_module_version": "1.5.0",
      "_model_name": "HBoxModel",
      "_view_count": null,
      "_view_module": "@jupyter-widgets/controls",
      "_view_module_version": "1.5.0",
      "_view_name": "HBoxView",
      "box_style": "",
      "children": [
       "IPY_MODEL_5d6221bc224a496b86c50e5803caf346",
       "IPY_MODEL_25ef9cfaab304df2b69c1510df8e325f",
       "IPY_MODEL_8dc2d514431449dfac25d20e0e48e9ae"
      ],
      "layout": "IPY_MODEL_cf9c14180be04157a44685590a4972e6"
     }
    }
   }
  }
 },
 "nbformat": 4,
 "nbformat_minor": 4
}
