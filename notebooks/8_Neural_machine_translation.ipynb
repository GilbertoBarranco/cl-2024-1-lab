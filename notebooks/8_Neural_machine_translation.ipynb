{
  "nbformat": 4,
  "nbformat_minor": 0,
  "metadata": {
    "colab": {
      "provenance": []
    },
    "kernelspec": {
      "name": "python3",
      "display_name": "Python 3"
    },
    "language_info": {
      "name": "python"
    }
  },
  "cells": [
    {
      "cell_type": "markdown",
      "source": [
        "# 8. Neural Machine Translation (NMT)"
      ],
      "metadata": {
        "id": "iESCn2anRr39"
      }
    },
    {
      "cell_type": "markdown",
      "source": [
        "![](https://summalinguae.com/wp-content/uploads/2019/12/automated-translation-bot-smartphone_EN.jpg)"
      ],
      "metadata": {
        "id": "lMv7yTzD9mPv"
      }
    },
    {
      "cell_type": "markdown",
      "source": [
        "## Objetivos"
      ],
      "metadata": {
        "id": "xyDJarYSRxRl"
      }
    },
    {
      "cell_type": "markdown",
      "source": [
        "- Mostrar un pipeline completo para crear modelos de traducción automática neuronales\n",
        "- Entrenar modelos pequeños\n",
        "- Evaluación de modelos\n",
        "    - BLEU\n",
        "    - WER\n",
        "- Deploy de modelos\n",
        "    - GUI translations (streamlit)"
      ],
      "metadata": {
        "id": "xe_52qTXRyW0"
      }
    },
    {
      "cell_type": "markdown",
      "source": [
        "La traducción automática ha tenido varios enfoques a lo largo de la historia\n",
        "\n",
        "- Basado en reglas\n",
        "- Basado en frecuencias y estadística\n",
        "- Basados en redes neuronales"
      ],
      "metadata": {
        "id": "mjZzD1cuSD3T"
      }
    },
    {
      "cell_type": "markdown",
      "source": [
        "## Pipeline"
      ],
      "metadata": {
        "id": "e6P5VMHCSNBB"
      }
    },
    {
      "cell_type": "markdown",
      "source": [
        "### 0. Obtención de datos y preprocesamiento\n",
        "\n"
      ],
      "metadata": {
        "id": "XMk-V8nT9IpU"
      }
    },
    {
      "cell_type": "markdown",
      "source": [
        "- Para poder crear modelos de traducción automática necesitamos textos paralelos. Es decir textos en una lengua con su traducción\n",
        "- Sin embargo, los métodos neuronales para crear modelos de traducción automática requieren muchisimos datos para funcionar\n",
        "  - Se pueden usar corpus bilingües públicos como los que se pueden encontrar en OPUS: https://opus.nlpl.eu/\n",
        "  - Con la herramienta de busqueda se pueden encontrar datos en varias lenguas\n",
        "- En NMT es común usar el formato \"Moses\"\n",
        "    - Dos archivos con lang code como extensión\n",
        "    - Una sentencia por línea con concordancia con su traducción en la misma líena del otro archivo\n",
        "- Es importante verificar como es el corpus que estamos utilizando\n",
        "    - No todos los datasets tienen la misma calidad\n",
        "    - Dependiendo de esta calidad se requerira más o menos preprocesamiento\n"
      ],
      "metadata": {
        "id": "xarEZU8UHESI"
      }
    },
    {
      "cell_type": "markdown",
      "metadata": {
        "id": "G903Vcm7u08U"
      },
      "source": [
        "#### Datasets de ejemplo\n",
        "\n",
        "* EN-AR: https://object.pouta.csc.fi/OPUS-UN/v20090831/moses/ar-en.txt.zip\n",
        "* EN-ES: https://object.pouta.csc.fi/OPUS-UN/v20090831/moses/en-es.txt.zip\n",
        "* EN-FR: https://object.pouta.csc.fi/OPUS-UN/v20090831/moses/en-fr.txt.zip\n",
        "* EN-RU: https://object.pouta.csc.fi/OPUS-UN/v20090831/moses/en-ru.txt.zip\n",
        "* EN-ZH: https://object.pouta.csc.fi/OPUS-UN/v20090831/moses/en-zh.txt.zip"
      ]
    },
    {
      "cell_type": "code",
      "source": [
        "from google.colab import drive\n",
        "drive.mount('/content/drive')"
      ],
      "metadata": {
        "id": "w0GS57mmPY9x",
        "colab": {
          "base_uri": "https://localhost:8080/"
        },
        "outputId": "d0bfa845-d806-4100-b821-6ed5a07171f4"
      },
      "execution_count": 5,
      "outputs": [
        {
          "output_type": "stream",
          "name": "stdout",
          "text": [
            "Mounted at /content/drive\n"
          ]
        }
      ]
    },
    {
      "cell_type": "code",
      "source": [
        "# Creamos el directorio para nuestros archivos\n",
        "%cd /content/drive/MyDrive/nmt/"
      ],
      "metadata": {
        "colab": {
          "base_uri": "https://localhost:8080/"
        },
        "id": "dp9GPsYGlmeZ",
        "outputId": "265932bc-9380-4b10-d840-83ecdf6caa6b"
      },
      "execution_count": 6,
      "outputs": [
        {
          "output_type": "stream",
          "name": "stdout",
          "text": [
            "/content/drive/MyDrive/nmt\n"
          ]
        }
      ]
    },
    {
      "cell_type": "code",
      "metadata": {
        "id": "bLRpsedwqLg4",
        "colab": {
          "base_uri": "https://localhost:8080/"
        },
        "outputId": "94dc1f7c-2bd1-4f99-a8c0-524b1e1ab0aa"
      },
      "source": [
        "# Clonamos el repositorio para herramientas de preprocesamiento\n",
        "!git clone https://github.com/ymoslem/MT-Preparation.git"
      ],
      "execution_count": 3,
      "outputs": [
        {
          "output_type": "stream",
          "name": "stdout",
          "text": [
            "Cloning into 'MT-Preparation'...\n",
            "remote: Enumerating objects: 268, done.\u001b[K\n",
            "remote: Counting objects: 100% (268/268), done.\u001b[K\n",
            "remote: Compressing objects: 100% (159/159), done.\u001b[K\n",
            "remote: Total 268 (delta 133), reused 189 (delta 97), pack-reused 0\u001b[K\n",
            "Receiving objects: 100% (268/268), 69.06 KiB | 1.77 MiB/s, done.\n",
            "Resolving deltas: 100% (133/133), done.\n"
          ]
        }
      ]
    },
    {
      "cell_type": "code",
      "metadata": {
        "id": "H8d13pqsp3Ii",
        "colab": {
          "base_uri": "https://localhost:8080/"
        },
        "outputId": "6e5f4b8f-cba3-46fe-ed53-fdee35fcd3aa"
      },
      "source": [
        "# Install the requirements\n",
        "!pip3 install -r MT-Preparation/requirements.txt"
      ],
      "execution_count": 4,
      "outputs": [
        {
          "output_type": "stream",
          "name": "stdout",
          "text": [
            "Requirement already satisfied: numpy in /usr/local/lib/python3.10/dist-packages (from -r MT-Preparation/requirements.txt (line 1)) (1.23.5)\n",
            "Requirement already satisfied: pandas in /usr/local/lib/python3.10/dist-packages (from -r MT-Preparation/requirements.txt (line 2)) (1.5.3)\n",
            "Collecting sentencepiece (from -r MT-Preparation/requirements.txt (line 3))\n",
            "  Downloading sentencepiece-0.1.99-cp310-cp310-manylinux_2_17_x86_64.manylinux2014_x86_64.whl (1.3 MB)\n",
            "\u001b[2K     \u001b[90m━━━━━━━━━━━━━━━━━━━━━━━━━━━━━━━━━━━━━━━━\u001b[0m \u001b[32m1.3/1.3 MB\u001b[0m \u001b[31m9.0 MB/s\u001b[0m eta \u001b[36m0:00:00\u001b[0m\n",
            "\u001b[?25hRequirement already satisfied: python-dateutil>=2.8.1 in /usr/local/lib/python3.10/dist-packages (from pandas->-r MT-Preparation/requirements.txt (line 2)) (2.8.2)\n",
            "Requirement already satisfied: pytz>=2020.1 in /usr/local/lib/python3.10/dist-packages (from pandas->-r MT-Preparation/requirements.txt (line 2)) (2023.3.post1)\n",
            "Requirement already satisfied: six>=1.5 in /usr/local/lib/python3.10/dist-packages (from python-dateutil>=2.8.1->pandas->-r MT-Preparation/requirements.txt (line 2)) (1.16.0)\n",
            "Installing collected packages: sentencepiece\n",
            "Successfully installed sentencepiece-0.1.99\n"
          ]
        }
      ]
    },
    {
      "cell_type": "code",
      "metadata": {
        "id": "6WmiX_xTqqdr",
        "colab": {
          "base_uri": "https://localhost:8080/"
        },
        "outputId": "756ff383-9fae-46bd-eb24-d9009162968e"
      },
      "source": [
        "# Descarga del dataset y lo descomprimimos\n",
        "!wget  https://object.pouta.csc.fi/OPUS-UN/v20090831/moses/en-es.txt.zip\n",
        "!unzip en-es.txt.zip"
      ],
      "execution_count": 5,
      "outputs": [
        {
          "output_type": "stream",
          "name": "stdout",
          "text": [
            "--2023-11-13 22:27:52--  https://object.pouta.csc.fi/OPUS-UN/v20090831/moses/en-es.txt.zip\n",
            "Resolving object.pouta.csc.fi (object.pouta.csc.fi)... 86.50.254.18, 86.50.254.19\n",
            "Connecting to object.pouta.csc.fi (object.pouta.csc.fi)|86.50.254.18|:443... connected.\n",
            "HTTP request sent, awaiting response... 200 OK\n",
            "Length: 9850684 (9.4M) [application/zip]\n",
            "Saving to: ‘en-es.txt.zip’\n",
            "\n",
            "en-es.txt.zip       100%[===================>]   9.39M  5.02MB/s    in 1.9s    \n",
            "\n",
            "2023-11-13 22:27:55 (5.02 MB/s) - ‘en-es.txt.zip’ saved [9850684/9850684]\n",
            "\n",
            "Archive:  en-es.txt.zip\n",
            "  inflating: UN.en-es.en             \n",
            "  inflating: UN.en-es.es             \n",
            "  inflating: README                  \n"
          ]
        }
      ]
    },
    {
      "cell_type": "code",
      "source": [
        "!tail UN.en-es.en"
      ],
      "metadata": {
        "id": "Dt_KOzLbHmmH",
        "outputId": "a7c29b19-1923-4aae-9a28-15ebbc9ad8e8",
        "colab": {
          "base_uri": "https://localhost:8080/"
        }
      },
      "execution_count": 6,
      "outputs": [
        {
          "output_type": "stream",
          "name": "stdout",
          "text": [
            "8. Notes with satisfaction the realization of the Cooperation for Rehabilitation Programme in Belarus and the Chernobyl Recovery and Development Programme in Ukraine, aimed at promoting better living conditions in and the sustainable development of the affected territories;\n",
            "9. Also notes with satisfaction assistance rendered by the International Atomic Energy Agency to Belarus, the Russian Federation and Ukraine on remediation of agricultural and urban environments, cost-effective agricultural countermeasures and the monitoring of human exposure in areas affected by the Chernobyl disaster;\n",
            "10. Takes note with satisfaction of the progress made by the Governments of the affected countries in implementing national strategies to mitigate the consequences of the Chernobyl disaster, and calls upon United Nations agencies and multilateral and bilateral donors to continue to align their assistance with the priorities of the national strategies of the affected States, and stresses the importance of working together on their implementation in a common effort in the spirit of cooperation;\n",
            "11. Notes the necessity of further measures to ensure the integration of the assessment by the Chernobyl Forum of the environmental, health and socio-economic consequences of the Chernobyl nuclear accident into the International Chernobyl Research and Information Network process through dissemination of the findings of the Forum, including by providing accurate information on the impact of radiation in accessible, non-technical language in the form of practical messages on healthy and productive lifestyles, to the populations affected by the accident in order to empower them to maximize social and economic recovery and sustainable development in all its aspects;\n",
            "12. Proclaims the third decade after the Chernobyl disaster, 2006-2016, the Decade of Recovery and Sustainable Development of the Affected Regions, to be focused on achieving the goal of a return to normal life for the affected communities as far as is possible within that time frame;\n",
            "13. Welcomes, in this regard, the proposal by the United Nations Development Programme to coordinate the drafting of a United Nations action plan for Chernobyl recovery up to 2016 in order to implement the Decade, in support of national strategies of the affected countries, with the aim of maximizing limited resources, avoiding duplication of effort and building on recognized agency mandates and competencies, and requests the United Nations Development Programme to present a draft plan for review by the Inter-Agency Task Force on Chernobyl by 26 April 2008, the twenty-second anniversary of the Chernobyl disaster;\n",
            "14. Requests the United Nations Development Programme to coordinate, within existing resources, the efforts of the United Nations system and with other relevant actors on the implementation of the Decade;\n",
            "15. Requests the Secretary-General to continue his efforts in the implementation of the relevant General Assembly resolutions and, through existing coordination mechanisms, in particular the United Nations Coordinator of International Cooperation on Chernobyl, to continue to maintain close cooperation with the agencies of the United Nations system, as well as with regional and other relevant organizations, while implementing specific Chernobyl-related programmes and projects;\n",
            "16. Requests the United Nations Coordinator of International Cooperation on Chernobyl to continue his work in organizing, in collaboration with the Governments of Belarus, the Russian Federation and Ukraine, a further study of the health, environmental and socio-economic consequences of the Chernobyl disaster, consistent with the recommendations of the Chernobyl Forum, and to improve the provision of information to local populations;\n",
            "17. Requests the Secretary-General to submit to the General Assembly at its sixty-fifth session, under a separate sub-item, a report containing a comprehensive assessment of the implementation of all aspects of the present resolution.\n"
          ]
        }
      ]
    },
    {
      "cell_type": "code",
      "source": [
        "!tail UN.en-es.es"
      ],
      "metadata": {
        "id": "4pHEhKlgHw0g",
        "outputId": "f07fcc58-9b68-4e62-cc99-744553aad9d8",
        "colab": {
          "base_uri": "https://localhost:8080/"
        }
      },
      "execution_count": 7,
      "outputs": [
        {
          "output_type": "stream",
          "name": "stdout",
          "text": [
            "8. Observa con satisfacción la ejecución del Programa de Cooperación para la Rehabilitación en Belarús y del Programa de Recuperación y Desarrollo de Chernobyl en Ucrania, destinados a promover unas mejores condiciones de vida y el desarrollo sostenible en los territorios afectados;\n",
            "9. Observa con satisfacción también la asistencia prestada por el Organismo Internacional de Energía Atómica a Belarús, la Federación de Rusia y Ucrania para mejorar el entorno agrícola y urbano, adoptar medidas agrícolas eficaces en función de su costo para contrarrestar los efectos del desastre de Chernobyl y vigilar la exposición de los seres humanos en las zonas afectadas;\n",
            "10. Toma nota con satisfacción de los progresos realizados por los gobiernos de los países afectados en la aplicación de estrategias nacionales destinadas a mitigar las consecuencias del desastre de Chernobyl, hace un llamamiento a los organismos de las Naciones Unidas y a los donantes multilaterales y bilaterales para que sigan adaptando su asistencia a las prioridades de las estrategias nacionales de los respectivos Estados, y destaca la importancia de trabajar juntos para darles aplicación, en un esfuerzo común y con espíritu de cooperación;\n",
            "11. Señala la necesidad de tomar nuevas medidas para integrar la evaluación hecha por el Foro sobre Chernobyl de las consecuencias medioambientales, sanitarias y socioeconómicas del accidente nuclear de Chernobyl en la Red Internacional de Investigación e Información sobre Chernobyl mediante la difusión de las conclusiones del Foro, incluso proporcionando información precisa sobre los efectos de la radiación en un lenguaje accesible y llano en forma de mensajes prácticos sobre estilos de vida sana y productivos, entre la población afectada por el accidente, con el fin de empoderarla para obtener los resultados máximos en la recuperación social y económica y el desarrollo sostenible en todos sus aspectos;\n",
            "12. Proclama el tercer decenio posterior al desastre de Chernobyl, de 2006 a 2016, \"Decenio de la recuperación y el desarrollo sostenible de las regiones afectadas\", con el objetivo principal de que las comunidades afectadas reanuden la vida normal en la mayor medida posible en ese lapso de tiempo;\n",
            "13. Acoge con beneplácito a este respecto la propuesta del Programa de las Naciones Unidas para el Desarrollo de coordinar la preparación de un plan de acción de las Naciones Unidas para la recuperación de Chernobyl hasta el año 2016 encaminado a llevar a la práctica el Decenio, en apoyo de las estrategias nacionales de los países afectados, con el objetivo de lograr un máximo rendimiento de los limitados recursos, evitar la duplicación de esfuerzos y aprovechar los mandatos y las competencias reconocidos de los organismos, y pide al Programa de las Naciones Unidas para el Desarrollo que presente un proyecto de plan de acción para que lo examine el Grupo de Trabajo Interinstitucional sobre Chernobyl a más tardar el 26 de abril de 2008, 22° aniversario del desastre de Chernobyl;\n",
            "14. Pide al Programa de las Naciones Unidas para el Desarrollo que, dentro de los límites de los recursos existentes, coordine la labor del sistema de las Naciones Unidas y otros agentes pertinentes para llevar a la práctica el Decenio;\n",
            "15. Pide al Secretario General que prosiga sus esfuerzos por promover la aplicación de las resoluciones pertinentes de la Asamblea General y que, por conducto de los mecanismos de coordinación existentes, en particular el Coordinador de las Naciones Unidas de la Cooperación Internacional para Chernobyl, siga manteniendo una cooperación estrecha con los organismos del sistema de las Naciones Unidas y con las organizaciones regionales y de otro tipo competentes en la ejecución de los programas y proyectos relacionados particularmente con Chernobyl;\n",
            "16. Pide al Coordinador de las Naciones Unidas de la Cooperación Internacional para Chernobyl que, en colaboración con los Gobiernos de Belarús, la Federación de Rusia y Ucrania, continúe la labor de organización de un nuevo estudio de las consecuencias sanitarias, medioambientales y socioeconómicas del desastre de Chernobyl, de conformidad con las recomendaciones del Foro sobre Chernobyl, y mejore el suministro de información a la población local;\n",
            "17. Pide al Secretario General que le presente, en su sexagésimo quinto período de sesiones, en relación con un subtema separado, un informe que incluya una evaluación amplia de la aplicación de todos los aspectos de la presente resolución.\n"
          ]
        }
      ]
    },
    {
      "cell_type": "markdown",
      "source": [
        "#### Filtrado de datos\n"
      ],
      "metadata": {
        "id": "5G6GTlXa86Qb"
      }
    },
    {
      "cell_type": "markdown",
      "source": [
        "- La herramienta filtra segmentos que pueden afectar la calidad de las traducciones\n",
        "    - Segmentos vacios, segmentos duplicados entre otros"
      ],
      "metadata": {
        "id": "6UgH-YZ7-nSb"
      }
    },
    {
      "cell_type": "code",
      "metadata": {
        "id": "b-9jDIWarB-9",
        "colab": {
          "base_uri": "https://localhost:8080/"
        },
        "outputId": "faf10c4b-e39e-4f80-912e-39da8c3b155c"
      },
      "source": [
        "# Filter the dataset\n",
        "# Arguments: source file, target file, source language, target language\n",
        "!python3 MT-Preparation/filtering/filter.py UN.en-es.en UN.en-es.es en es"
      ],
      "execution_count": 8,
      "outputs": [
        {
          "output_type": "stream",
          "name": "stdout",
          "text": [
            "Dataframe shape (rows, columns): (74067, 2)\n",
            "--- Rows with Empty Cells Deleted\t--> Rows: 74067\n",
            "--- Duplicates Deleted\t\t\t--> Rows: 61123\n",
            "--- Source-Copied Rows Deleted\t\t--> Rows: 61046\n",
            "--- Too Long Source/Target Deleted\t--> Rows: 60332\n",
            "--- HTML Removed\t\t\t--> Rows: 60332\n",
            "--- Rows will remain in true-cased\t--> Rows: 60332\n",
            "--- Rows with Empty Cells Deleted\t--> Rows: 60332\n",
            "--- Rows Shuffled\t\t\t--> Rows: 60332\n",
            "--- Source Saved: UN.en-es.en-filtered.en\n",
            "--- Target Saved: UN.en-es.es-filtered.es\n"
          ]
        }
      ]
    },
    {
      "cell_type": "code",
      "source": [
        "!wc -l UN.en-es.en-filtered.en"
      ],
      "metadata": {
        "colab": {
          "base_uri": "https://localhost:8080/"
        },
        "id": "cXyiqd8qI58z",
        "outputId": "c2a605ba-5048-4a0a-a9da-03da8e00569e"
      },
      "execution_count": 9,
      "outputs": [
        {
          "output_type": "stream",
          "name": "stdout",
          "text": [
            "60332 UN.en-es.en-filtered.en\n"
          ]
        }
      ]
    },
    {
      "cell_type": "code",
      "source": [
        "!wc -l UN.en-es.es-filtered.es"
      ],
      "metadata": {
        "colab": {
          "base_uri": "https://localhost:8080/"
        },
        "id": "0QTES0Y7JLtm",
        "outputId": "0087c7e7-9c9b-415e-dc31-9821daf2ad13"
      },
      "execution_count": 10,
      "outputs": [
        {
          "output_type": "stream",
          "name": "stdout",
          "text": [
            "60332 UN.en-es.es-filtered.es\n"
          ]
        }
      ]
    },
    {
      "cell_type": "markdown",
      "source": [
        "#### Tokenization / Sub-wording\n"
      ],
      "metadata": {
        "id": "IbRpxXjC78c0"
      }
    },
    {
      "cell_type": "markdown",
      "source": [
        "- Recordemos que para aplicaciones robustaz de NLP necesitamos aplicar sub-word tokenization\n",
        "  - En este caso dadas las limitaciones de memoria/computo el modelo esta limitado en la cantidad de tokens que puede aprender\n",
        "  - Para resolver este problema se usan sub-words en lugar de palabras completas\n",
        "- Hay que considerar que al trabajar con sub-words cuando querramos realizar traducciones necesitaremos aplicar un proceso de \"desubword\" para tener el texto plano"
      ],
      "metadata": {
        "id": "-0GaCCG04nzX"
      }
    },
    {
      "cell_type": "code",
      "metadata": {
        "id": "n9c1pqhuru3j",
        "colab": {
          "base_uri": "https://localhost:8080/"
        },
        "outputId": "91b2f8af-91a0-43e1-8812-83ca5aeeea6a"
      },
      "source": [
        "!ls MT-Preparation/subwording/"
      ],
      "execution_count": 11,
      "outputs": [
        {
          "output_type": "stream",
          "name": "stdout",
          "text": [
            "1-train_bpe.py\t1-train_unigram.py  2-subword.py  3-desubword.py\n"
          ]
        }
      ]
    },
    {
      "cell_type": "code",
      "metadata": {
        "id": "weSS6QDPsOUJ",
        "colab": {
          "base_uri": "https://localhost:8080/"
        },
        "outputId": "fae4b228-f57b-4bcf-dee4-46876b3f9939"
      },
      "source": [
        "# Train a SentencePiece model for subword tokenization\n",
        "!python3 MT-Preparation/subwording/1-train_unigram.py UN.en-es.en-filtered.en UN.en-es.es-filtered.es"
      ],
      "execution_count": 12,
      "outputs": [
        {
          "output_type": "stream",
          "name": "stdout",
          "text": [
            "sentencepiece_trainer.cc(177) LOG(INFO) Running command: --input=UN.en-es.en-filtered.en --model_prefix=source --vocab_size=50000 --hard_vocab_limit=false --split_digits=true\n",
            "sentencepiece_trainer.cc(77) LOG(INFO) Starts training with : \n",
            "trainer_spec {\n",
            "  input: UN.en-es.en-filtered.en\n",
            "  input_format: \n",
            "  model_prefix: source\n",
            "  model_type: UNIGRAM\n",
            "  vocab_size: 50000\n",
            "  self_test_sample_size: 0\n",
            "  character_coverage: 0.9995\n",
            "  input_sentence_size: 0\n",
            "  shuffle_input_sentence: 1\n",
            "  seed_sentencepiece_size: 1000000\n",
            "  shrinking_factor: 0.75\n",
            "  max_sentence_length: 4192\n",
            "  num_threads: 16\n",
            "  num_sub_iterations: 2\n",
            "  max_sentencepiece_length: 16\n",
            "  split_by_unicode_script: 1\n",
            "  split_by_number: 1\n",
            "  split_by_whitespace: 1\n",
            "  split_digits: 1\n",
            "  pretokenization_delimiter: \n",
            "  treat_whitespace_as_suffix: 0\n",
            "  allow_whitespace_only_pieces: 0\n",
            "  required_chars: \n",
            "  byte_fallback: 0\n",
            "  vocabulary_output_piece_score: 1\n",
            "  train_extremely_large_corpus: 0\n",
            "  hard_vocab_limit: 0\n",
            "  use_all_vocab: 0\n",
            "  unk_id: 0\n",
            "  bos_id: 1\n",
            "  eos_id: 2\n",
            "  pad_id: -1\n",
            "  unk_piece: <unk>\n",
            "  bos_piece: <s>\n",
            "  eos_piece: </s>\n",
            "  pad_piece: <pad>\n",
            "  unk_surface:  ⁇ \n",
            "  enable_differential_privacy: 0\n",
            "  differential_privacy_noise_level: 0\n",
            "  differential_privacy_clipping_threshold: 0\n",
            "}\n",
            "normalizer_spec {\n",
            "  name: nmt_nfkc\n",
            "  add_dummy_prefix: 1\n",
            "  remove_extra_whitespaces: 1\n",
            "  escape_whitespaces: 1\n",
            "  normalization_rule_tsv: \n",
            "}\n",
            "denormalizer_spec {}\n",
            "trainer_interface.cc(351) LOG(INFO) SentenceIterator is not specified. Using MultiFileSentenceIterator.\n",
            "trainer_interface.cc(183) LOG(INFO) Loading corpus: UN.en-es.en-filtered.en\n",
            "trainer_interface.cc(407) LOG(INFO) Loaded all 60332 sentences\n",
            "trainer_interface.cc(423) LOG(INFO) Adding meta_piece: <unk>\n",
            "trainer_interface.cc(423) LOG(INFO) Adding meta_piece: <s>\n",
            "trainer_interface.cc(423) LOG(INFO) Adding meta_piece: </s>\n",
            "trainer_interface.cc(428) LOG(INFO) Normalizing sentences...\n",
            "trainer_interface.cc(537) LOG(INFO) all chars count=17858662\n",
            "trainer_interface.cc(548) LOG(INFO) Done: 99.9633% characters are covered.\n",
            "trainer_interface.cc(558) LOG(INFO) Alphabet size=70\n",
            "trainer_interface.cc(559) LOG(INFO) Final character coverage=0.999633\n",
            "trainer_interface.cc(591) LOG(INFO) Done! preprocessed 60332 sentences.\n",
            "unigram_model_trainer.cc(222) LOG(INFO) Making suffix array...\n",
            "unigram_model_trainer.cc(226) LOG(INFO) Extracting frequent sub strings... node_num=11811614\n",
            "unigram_model_trainer.cc(274) LOG(INFO) Initialized 46509 seed sentencepieces\n",
            "trainer_interface.cc(597) LOG(INFO) Tokenizing input sentences with whitespace: 60332\n",
            "trainer_interface.cc(608) LOG(INFO) Done! 44886\n",
            "unigram_model_trainer.cc(564) LOG(INFO) Using 44886 sentences for EM training\n",
            "unigram_model_trainer.cc(580) LOG(INFO) EM sub_iter=0 size=19545 obj=11.8325 num_tokens=206698 num_tokens/piece=10.5755\n",
            "unigram_model_trainer.cc(580) LOG(INFO) EM sub_iter=1 size=13754 obj=8.59067 num_tokens=207138 num_tokens/piece=15.0602\n",
            "trainer_interface.cc(686) LOG(INFO) Saving model: source.model\n",
            "trainer_interface.cc(698) LOG(INFO) Saving vocabs: source.vocab\n",
            "Done, training a SentencepPiece model for the Source finished successfully!\n",
            "sentencepiece_trainer.cc(177) LOG(INFO) Running command: --input=UN.en-es.es-filtered.es --model_prefix=target --vocab_size=50000 --hard_vocab_limit=false --split_digits=true\n",
            "sentencepiece_trainer.cc(77) LOG(INFO) Starts training with : \n",
            "trainer_spec {\n",
            "  input: UN.en-es.es-filtered.es\n",
            "  input_format: \n",
            "  model_prefix: target\n",
            "  model_type: UNIGRAM\n",
            "  vocab_size: 50000\n",
            "  self_test_sample_size: 0\n",
            "  character_coverage: 0.9995\n",
            "  input_sentence_size: 0\n",
            "  shuffle_input_sentence: 1\n",
            "  seed_sentencepiece_size: 1000000\n",
            "  shrinking_factor: 0.75\n",
            "  max_sentence_length: 4192\n",
            "  num_threads: 16\n",
            "  num_sub_iterations: 2\n",
            "  max_sentencepiece_length: 16\n",
            "  split_by_unicode_script: 1\n",
            "  split_by_number: 1\n",
            "  split_by_whitespace: 1\n",
            "  split_digits: 1\n",
            "  pretokenization_delimiter: \n",
            "  treat_whitespace_as_suffix: 0\n",
            "  allow_whitespace_only_pieces: 0\n",
            "  required_chars: \n",
            "  byte_fallback: 0\n",
            "  vocabulary_output_piece_score: 1\n",
            "  train_extremely_large_corpus: 0\n",
            "  hard_vocab_limit: 0\n",
            "  use_all_vocab: 0\n",
            "  unk_id: 0\n",
            "  bos_id: 1\n",
            "  eos_id: 2\n",
            "  pad_id: -1\n",
            "  unk_piece: <unk>\n",
            "  bos_piece: <s>\n",
            "  eos_piece: </s>\n",
            "  pad_piece: <pad>\n",
            "  unk_surface:  ⁇ \n",
            "  enable_differential_privacy: 0\n",
            "  differential_privacy_noise_level: 0\n",
            "  differential_privacy_clipping_threshold: 0\n",
            "}\n",
            "normalizer_spec {\n",
            "  name: nmt_nfkc\n",
            "  add_dummy_prefix: 1\n",
            "  remove_extra_whitespaces: 1\n",
            "  escape_whitespaces: 1\n",
            "  normalization_rule_tsv: \n",
            "}\n",
            "denormalizer_spec {}\n",
            "trainer_interface.cc(351) LOG(INFO) SentenceIterator is not specified. Using MultiFileSentenceIterator.\n",
            "trainer_interface.cc(183) LOG(INFO) Loading corpus: UN.en-es.es-filtered.es\n",
            "trainer_interface.cc(407) LOG(INFO) Loaded all 60332 sentences\n",
            "trainer_interface.cc(423) LOG(INFO) Adding meta_piece: <unk>\n",
            "trainer_interface.cc(423) LOG(INFO) Adding meta_piece: <s>\n",
            "trainer_interface.cc(423) LOG(INFO) Adding meta_piece: </s>\n",
            "trainer_interface.cc(428) LOG(INFO) Normalizing sentences...\n",
            "trainer_interface.cc(537) LOG(INFO) all chars count=19824883\n",
            "trainer_interface.cc(548) LOG(INFO) Done: 99.959% characters are covered.\n",
            "trainer_interface.cc(558) LOG(INFO) Alphabet size=77\n",
            "trainer_interface.cc(559) LOG(INFO) Final character coverage=0.99959\n",
            "trainer_interface.cc(591) LOG(INFO) Done! preprocessed 60332 sentences.\n",
            "unigram_model_trainer.cc(222) LOG(INFO) Making suffix array...\n",
            "unigram_model_trainer.cc(226) LOG(INFO) Extracting frequent sub strings... node_num=13613530\n",
            "unigram_model_trainer.cc(274) LOG(INFO) Initialized 72944 seed sentencepieces\n",
            "trainer_interface.cc(597) LOG(INFO) Tokenizing input sentences with whitespace: 60332\n",
            "trainer_interface.cc(608) LOG(INFO) Done! 54005\n",
            "unigram_model_trainer.cc(564) LOG(INFO) Using 54005 sentences for EM training\n",
            "unigram_model_trainer.cc(580) LOG(INFO) EM sub_iter=0 size=25473 obj=11.111 num_tokens=222540 num_tokens/piece=8.73631\n",
            "unigram_model_trainer.cc(580) LOG(INFO) EM sub_iter=1 size=18327 obj=7.97391 num_tokens=222709 num_tokens/piece=12.152\n",
            "trainer_interface.cc(686) LOG(INFO) Saving model: target.model\n",
            "trainer_interface.cc(698) LOG(INFO) Saving vocabs: target.vocab\n",
            "Done, training a SentencepPiece model for the Target finished successfully!\n"
          ]
        }
      ]
    },
    {
      "cell_type": "code",
      "metadata": {
        "id": "T89THXeRslKu",
        "colab": {
          "base_uri": "https://localhost:8080/"
        },
        "outputId": "b37917a5-d646-4e66-823c-132dbe55ef3e"
      },
      "source": [
        "!ls"
      ],
      "execution_count": 13,
      "outputs": [
        {
          "output_type": "stream",
          "name": "stdout",
          "text": [
            "en-es.txt.zip\tREADME\t      target.model  UN.en-es.en-filtered.en  UN.en-es.es-filtered.es\n",
            "MT-Preparation\tsource.model  UN.en-es.en   UN.en-es.es\n"
          ]
        }
      ]
    },
    {
      "cell_type": "code",
      "metadata": {
        "id": "hBWQoCfBsqlT",
        "colab": {
          "base_uri": "https://localhost:8080/"
        },
        "outputId": "5b3de3ee-5f08-4ec3-b2df-56a6f76911ac"
      },
      "source": [
        "# Subword the dataset\n",
        "!python3 MT-Preparation/subwording/2-subword.py source.model target.model UN.en-es.en-filtered.en UN.en-es.es-filtered.es"
      ],
      "execution_count": 14,
      "outputs": [
        {
          "output_type": "stream",
          "name": "stdout",
          "text": [
            "Source Model: source.model\n",
            "Target Model: target.model\n",
            "Source Dataset: UN.en-es.en-filtered.en\n",
            "Target Dataset: UN.en-es.es-filtered.es\n",
            "Done subwording the source file! Output: UN.en-es.en-filtered.en.subword\n",
            "Done subwording the target file! Output: UN.en-es.es-filtered.es.subword\n"
          ]
        }
      ]
    },
    {
      "cell_type": "code",
      "metadata": {
        "id": "CnfMRckbvNfZ",
        "colab": {
          "base_uri": "https://localhost:8080/"
        },
        "outputId": "8947567d-c095-47d6-a5ae-74af839d5a2f"
      },
      "source": [
        "# Primeras 2 lineas sin subwordZ}|\n",
        "!head -n 3 UN.en-es.en-filtered.en && echo \"-----\" && head -n 3 UN.en-es.es-filtered.es"
      ],
      "execution_count": 15,
      "outputs": [
        {
          "output_type": "stream",
          "name": "stdout",
          "text": [
            "11. Welcomes the cooperation between the United Nations and the Organization for the Prohibition of Chemical Weapons within the framework of the Relationship Agreement between the United Nations and the Organization, in accordance with the provisions of the Convention;\n",
            "Noting further the work of the Intergovernmental Panel on Climate Change and the need to build and enhance scientific and technological capabilities, inter alia, through continuing support to the Panel for the exchange of scientific data and information, especially in developing countries, and noting the pending release of the fourth assessment report,\n",
            "23. Reasons shall be given for any refusal of mutual legal assistance.\n",
            "-----\n",
            "11. Celebra la cooperación entre las Naciones Unidas y la Organización para la Prohibición de las Armas Químicas en el marco del acuerdo en que se definen las relaciones entre las Naciones Unidas y dicha organización, de conformidad con las disposiciones de la Convención;\n",
            "Observando además la labor del Grupo Intergubernamental de Expertos sobre el Cambio Climático y la necesidad de desarrollar e incrementar las capacidades científicas y tecnológicas, entre otras cosas, mediante el apoyo constante al Grupo en lo que respecta al intercambio de datos e información científicos, especialmente en los países en desarrollo, y observando que está pendiente la publicación del cuarto informe de evaluación,\n",
            "23. Toda denegación de asistencia judicial recíproca deberá fundamentarse debidamente.\n"
          ]
        }
      ]
    },
    {
      "cell_type": "code",
      "metadata": {
        "id": "hs_xxKK_vf1Z",
        "colab": {
          "base_uri": "https://localhost:8080/"
        },
        "outputId": "025e5ef6-b677-43db-c072-b253bb6766e8"
      },
      "source": [
        "# First 3 lines after subwording\n",
        "!head -n 10 UN.en-es.en-filtered.en.subword && echo \"---\" && tail -n 10 UN.en-es.es-filtered.es.subword"
      ],
      "execution_count": 16,
      "outputs": [
        {
          "output_type": "stream",
          "name": "stdout",
          "text": [
            "▁ 1 1 . ▁Welcomes ▁the ▁cooperation ▁between ▁the ▁Unit ed ▁Nations ▁and ▁the ▁Organization ▁for ▁the ▁Prohibition ▁of ▁Chemical ▁Weapons ▁within ▁the ▁framework ▁of ▁the ▁Relationship ▁Agreement ▁between ▁the ▁Unit ed ▁Nations ▁and ▁the ▁Organization , ▁in ▁accord ance ▁with ▁the ▁provisions ▁of ▁the ▁Convention ;\n",
            "▁Noting ▁further ▁the ▁work ▁of ▁the ▁In tergovernmental ▁Panel ▁on ▁C limate ▁Change ▁and ▁the ▁need ▁to ▁build ▁and ▁enhance ▁scientific ▁and ▁technological ▁capabilities , ▁inter ▁alia , ▁through ▁continuing ▁support ▁to ▁the ▁Panel ▁for ▁the ▁exchange ▁of ▁scientific ▁data ▁and ▁information , ▁ espec ially ▁in ▁developing ▁countries , ▁and ▁noting ▁the ▁ pending ▁release ▁of ▁the ▁fourth ▁assessment ▁report ,\n",
            "▁ 2 3 . ▁Reason s ▁shall ▁be ▁given ▁for ▁any ▁refusal ▁of ▁mutual ▁legal ▁assistance .\n",
            "▁ 6 1 / 1 8 1 . ▁Strengthen ing ▁the ▁Unit ed ▁Nations ▁Crime ▁Prevention ▁and ▁Criminal ▁Justice ▁Programme , ▁in ▁particular ▁its ▁technical ▁cooperation ▁capacity\n",
            "▁Recalling ▁its ▁resolution ▁ 5 5 / 7 7 ▁of ▁ 4 ▁December ▁ 2 0 0 0 ,\n",
            "▁ 4 . ▁Notes ▁the ▁decision ▁of ▁the ▁Meeting ▁of ▁the ▁States ▁Parties ▁that ▁the ▁Work ing ▁Group ▁on ▁Explosive ▁Rem nants ▁of ▁War ▁would ▁continue ▁its ▁work ▁in ▁ 2 0 0 4 ▁with ▁the ▁mandate ▁to ▁continue ▁to ▁consider ▁the ▁implementation ▁of ▁exist ing ▁principles ▁of ▁international ▁humanitarian ▁law ▁and ▁to ▁further ▁study , ▁on ▁an ▁open - ended ▁basis , ▁and ▁initially ▁with ▁particular ▁emphasis ▁on ▁meetings ▁of ▁military ▁and ▁technical ▁experts , ▁possible ▁preventive ▁measures ▁aimed ▁at ▁improving ▁the ▁design ▁of ▁certain ▁specific ▁types ▁of ▁munitions , ▁including ▁sub - munitions , ▁with ▁a ▁view ▁to ▁minimiz ing ▁the ▁humanitarian ▁risk ▁of ▁the se ▁munitions ▁becom ing ▁explosive ▁rem nants ▁of ▁war ; I bid . , ▁para . ▁ 2 6 ▁and ▁appendix ▁III .\n",
            "▁Noting ▁that ▁the ▁Convention , ▁which ▁enter ed ▁into ▁force ▁on ▁ 1 5 ▁January ▁ 1 9 9 9 , ▁has ▁been ▁ratified ▁or ▁acced ed ▁to ▁by ▁seventy - nine ▁States ▁as ▁at ▁the ▁date ▁of ▁the ▁present ▁resolution ,\n",
            "▁ 1 . ▁Welcomes ▁the ▁resolution ▁adopted ▁by ▁the ▁Council ▁of ▁the ▁International ▁T elecommunication ▁Union ▁at ▁its ▁ 2 0 0 1 ▁session , ▁in ▁which ▁the ▁Council ▁endors ed ▁the ▁proposal ▁of ▁the ▁Secretary - General ▁of ▁the ▁International ▁T elecommunication ▁Union ▁to ▁hold ▁the ▁World ▁Summit ▁on ▁the ▁Information ▁Society ▁at ▁the ▁high est ▁possible ▁level ▁in ▁two ▁phases , ▁the ▁first ▁in ▁Geneva ▁from ▁ 1 0 ▁to ▁ 1 2 ▁December ▁ 2 0 0 3 ▁and ▁the ▁second ▁in ▁Tunis ▁in ▁ 2 0 0 5 , ▁pursuan t ▁to ▁resolution ▁ 7 3 ▁adopted ▁by ▁the ▁Plenipotentiar y ▁Conference ▁of ▁the ▁International ▁T elecommunication ▁Union ▁at ▁its ▁ 1 9 9 8 ▁session , ▁held ▁in ▁Min ne apolis , ▁Unit ed ▁States ▁of ▁America ;\n",
            "▁ 1 4 . ▁Requests ▁the ▁Special ▁Committee ▁on ▁the ▁Situation ▁with ▁regard ▁to ▁the ▁Implementation ▁of ▁the ▁Declaration ▁on ▁the ▁Grant ing ▁of ▁I ndependence ▁to ▁Colonial ▁Countries ▁and ▁Peoples ▁to ▁continue ▁to ▁examine ▁this ▁question ▁and ▁to ▁report ▁thereon ▁to ▁the ▁General ▁Assembly ▁at ▁its ▁fifty - seventh ▁session .\n",
            "▁ 5 . ▁Decides ▁to ▁include ▁in ▁the ▁provisional ▁agenda ▁of ▁its ▁fifty - sixth ▁session ▁the ▁item ▁entitled ▁\" C onsolidation ▁of ▁peace ▁through ▁practical ▁disarmament ▁measures \".\n",
            "---\n",
            "▁ 2 . ▁Recuerda ▁el ▁informe ▁de ▁ 2 0 0 2 ▁de ▁la ▁Comisión ▁de ▁Examen ▁de ▁la ▁Constitución , ▁en ▁que ▁figuraba ▁una ▁serie ▁de ▁recomendaciones ▁sobre ▁el ▁adelanto ▁constitucional , ▁incluido ▁el ▁traspaso ▁de ▁competencias ▁del ▁Gobernador ▁designado ▁al ▁Gobierno ▁elegido , ▁y ▁un ▁llamamiento ▁en ▁favor ▁de ▁un ▁acuerdo ▁de ▁libre ▁asociación ;\n",
            "▁Hab iendo ▁examinado ▁el ▁informe ▁del ▁Secretario ▁General ▁titulado ▁\" Renova ción ▁de ▁la ▁residencia ▁del ▁Secretario ▁General : ▁estimaciones ▁revisadas ▁del ▁presupuesto ▁por ▁programas ▁para ▁el ▁bienio ▁ 2 0 0 6 - 2 0 0 7 A / 6 1 / 3 7 7 . ▁y ▁el ▁informe ▁conexo ▁de ▁la ▁Comisión ▁Consultiva ▁en ▁A suntos ▁Administrativos ▁y ▁de ▁Presupuesto A / 6 1 / 5 2 3 .,\n",
            "▁ 3 . ▁Invita ▁al ▁Centro ▁Regional ▁a ▁que , ▁ten iendo ▁en ▁cuenta ▁la ▁disponibilidad ▁de ▁recursos ▁financieros , ▁centre ▁sus ▁acciones ▁en ▁las ▁prioridades ▁ enunciadas ▁en ▁las ▁recomendaciones ▁del ▁Mecanismo ▁Consultivo ;\n",
            "▁Señalando ▁que ▁en ▁el ▁párrafo ▁ 1 4 6 ▁del ▁Documento ▁Final ▁de ▁la ▁D uodécim a ▁Conferencia ▁de ▁Jefe s ▁de ▁Estado ▁o ▁de ▁Gobierno ▁de ▁los ▁País es ▁No ▁Alineados , ▁que ▁se ▁celebró ▁en ▁Durban ▁( Sudáfrica ) ▁del ▁ 2 9 ▁de ▁agosto ▁al ▁ 3 ▁de ▁septiembre ▁de ▁ 1 9 9 8 , ▁los ▁Jefe s ▁de ▁Estado ▁o ▁de ▁Gobierno ▁acog ieron ▁con ▁beneplácito ▁la ▁decisión ▁que ▁había ▁adoptado ▁la ▁Asamblea ▁General ▁de ▁mantener ▁y ▁revitalizar ▁los ▁tres ▁centros ▁regionales ▁para ▁la ▁paz ▁y ▁el ▁desarme ▁en ▁Nepal , ▁el ▁Perú ▁y ▁el ▁Togo A / 5 3 / 6 6 7 - S / 1 9 9 8 / 1 0 7 1 , ▁anexo ▁I .,\n",
            "▁ 4 . ▁Destaca ▁la ▁importancia ▁de ▁los ▁principios ▁básicos ▁enunciados ▁en ▁las ▁conclusiones ▁del ▁tercer ▁período ▁de ▁sesiones ▁del ▁Grupo ▁de ▁Trabajo E / CN . 4 / 2 0 0 2 / 2 8 / Rev . 1 , ▁secc . ▁VIII . A ., ▁que ▁concuerda n ▁con ▁los ▁propósitos ▁de ▁los ▁instrumentos ▁internacionales ▁de ▁derechos ▁humanos , ▁como ▁la ▁igualdad , ▁la ▁no ▁discriminación , ▁la ▁obligación ▁de ▁rendir ▁cuentas , ▁la ▁participación ▁y ▁la ▁cooperación ▁internacional , ▁pues ▁son ▁esenciales ▁para ▁incorporar ▁el ▁derecho ▁al ▁desarrollo ▁en ▁la ▁labor ▁realizada ▁a ▁nivel ▁nacional ▁e ▁internacional , ▁y ▁subraya ▁la ▁importancia ▁de ▁los ▁principios ▁de ▁equidad ▁y ▁transparencia ;\n",
            "▁Convención ▁de ▁las ▁Naciones ▁Unidas ▁sobre ▁los ▁Contrat os ▁de ▁C ompraventa ▁Internacional ▁de ▁Mercaderías ▁( Viena , ▁ 1 1 ▁de ▁abril ▁de ▁ 1 9 8 0 );\n",
            "▁Declara ndo ▁que ▁toda ▁presun ción ▁de ▁posesión ▁in definida ▁de ▁armas ▁nucleares ▁por ▁parte ▁de ▁los ▁Estados ▁poseedores ▁de ▁armas ▁nucleares ▁es ▁incompatible ▁con ▁la ▁integridad ▁y ▁sostenibilidad ▁del ▁régimen ▁de ▁no ▁proliferación ▁nuclear ▁y ▁con ▁el ▁objetivo ▁más ▁amplio ▁del ▁mantenimiento ▁de ▁la ▁paz ▁y ▁la ▁seguridad ▁internacionales ,\n",
            "▁ 1 6 . ▁Pide ▁al ▁Secretario ▁General ▁que ▁le ▁presente , ▁en ▁su ▁quincuagésimo ▁sexto ▁período ▁de ▁sesiones , ▁un ▁informe ▁sobre ▁el ▁período ▁extraordinario ▁de ▁sesiones ;\n",
            "▁ 1 3 . ▁Pide ▁al ▁Secretario ▁General ▁que ▁contemple ▁la ▁posibilidad ▁de ▁revisar ▁los ▁alquiler es ▁y ▁gastos ▁de ▁mantenimiento ▁cobrado s ▁al ▁Instituto ▁con ▁miras ▁a ▁aliviar ▁sus ▁dificultades ▁financieras ▁actuales , ▁que ▁se ▁ven ▁agravadas ▁por ▁la ▁práctica ▁actual ▁de ▁cobrar ▁alquiler es ▁de ▁mercado , ▁ten iendo ▁en ▁cuenta ▁que ▁otras ▁organizaciones ▁afiliadas ▁de ▁las ▁Naciones ▁Unidas ▁disponen ▁de ▁ esas ▁prerrogativas ;\n",
            "▁ 3 . ▁Reafirma ▁que ▁el ▁diálogo ▁entre ▁culturas ▁y ▁civilizaciones ▁facilita ▁la ▁promoción ▁de ▁una ▁cultura ▁de ▁tolerancia ▁y ▁respeto ▁de ▁la ▁diversidad , ▁y ▁acoge ▁con ▁beneplácito , ▁a ▁ese ▁respecto , ▁la ▁celebración ▁de ▁conferencias ▁y ▁reuniones ▁a ▁nivel ▁nacional , ▁regional ▁e ▁internacional ▁sobre ▁el ▁diálogo ▁entre ▁civilizaciones ;\n"
          ]
        }
      ]
    },
    {
      "cell_type": "markdown",
      "source": [
        "#### Data Splitting"
      ],
      "metadata": {
        "id": "YgTZ-m718neI"
      }
    },
    {
      "cell_type": "markdown",
      "source": [
        "El corpus se particionará en 3 porciones:\n",
        "\n",
        "1. `train`: Parte usada para entrenar el modelo\n",
        "2. `dev`: Parte usada para validaciones durante el entrenamiento del modelo\n",
        "3. `test`: Parte utilizada para evaluar que tan bueno es el modelo\n"
      ],
      "metadata": {
        "id": "e1nBlBGnrm2t"
      }
    },
    {
      "cell_type": "code",
      "metadata": {
        "id": "KfQRMGRixBAL",
        "colab": {
          "base_uri": "https://localhost:8080/"
        },
        "outputId": "7e354a1d-2c2c-4b50-fdb6-c96c92d2748d"
      },
      "source": [
        "# Split the dataset into training set, development set, and test set\n",
        "# Development and test sets should be between 1000 and 5000 segments (here we chose 2000)\n",
        "!python3 MT-Preparation/train_dev_split/train_dev_test_split.py 2000 2000 UN.en-es.en-filtered.en.subword UN.en-es.es-filtered.es.subword"
      ],
      "execution_count": 17,
      "outputs": [
        {
          "output_type": "stream",
          "name": "stdout",
          "text": [
            "Dataframe shape: (60332, 2)\n",
            "--- Empty Cells Deleted --> Rows: 60332\n",
            "--- Wrote Files\n",
            "Done!\n",
            "Output files\n",
            "UN.en-es.en-filtered.en.subword.train\n",
            "UN.en-es.es-filtered.es.subword.train\n",
            "UN.en-es.en-filtered.en.subword.dev\n",
            "UN.en-es.es-filtered.es.subword.dev\n",
            "UN.en-es.en-filtered.en.subword.test\n",
            "UN.en-es.es-filtered.es.subword.test\n"
          ]
        }
      ]
    },
    {
      "cell_type": "code",
      "metadata": {
        "id": "6y3HQr4nxYib",
        "colab": {
          "base_uri": "https://localhost:8080/"
        },
        "outputId": "97480fc2-4a71-4a49-f882-13130b62c8a7"
      },
      "source": [
        "# Line count for the subworded train, dev, test datatest\n",
        "!wc -l *.subword.*"
      ],
      "execution_count": 18,
      "outputs": [
        {
          "output_type": "stream",
          "name": "stdout",
          "text": [
            "    2000 UN.en-es.en-filtered.en.subword.dev\n",
            "    2000 UN.en-es.en-filtered.en.subword.test\n",
            "   56332 UN.en-es.en-filtered.en.subword.train\n",
            "    2000 UN.en-es.es-filtered.es.subword.dev\n",
            "    2000 UN.en-es.es-filtered.es.subword.test\n",
            "   56332 UN.en-es.es-filtered.es.subword.train\n",
            "  120664 total\n"
          ]
        }
      ]
    },
    {
      "cell_type": "code",
      "metadata": {
        "id": "0duUCLP93GKE",
        "colab": {
          "base_uri": "https://localhost:8080/"
        },
        "outputId": "dacb7bcf-c5a5-426c-b267-577c8fef85b1"
      },
      "source": [
        "# Check the first and last line from each dataset\n",
        "!echo \"---First line---\"\n",
        "!head -n 1 *.{train,dev,test}\n",
        "\n",
        "!echo -e \"\\n---Last line---\"\n",
        "!tail -n 1 *.{train,dev,test}"
      ],
      "execution_count": 19,
      "outputs": [
        {
          "output_type": "stream",
          "name": "stdout",
          "text": [
            "---First line---\n",
            "==> UN.en-es.en-filtered.en.subword.train <==\n",
            "▁ 1 1 . ▁Welcomes ▁the ▁cooperation ▁between ▁the ▁Unit ed ▁Nations ▁and ▁the ▁Organization ▁for ▁the ▁Prohibition ▁of ▁Chemical ▁Weapons ▁within ▁the ▁framework ▁of ▁the ▁Relationship ▁Agreement ▁between ▁the ▁Unit ed ▁Nations ▁and ▁the ▁Organization , ▁in ▁accord ance ▁with ▁the ▁provisions ▁of ▁the ▁Convention ;\n",
            "\n",
            "==> UN.en-es.es-filtered.es.subword.train <==\n",
            "▁ 1 1 . ▁Celebra ▁la ▁cooperación ▁entre ▁las ▁Naciones ▁Unidas ▁y ▁la ▁Organización ▁para ▁la ▁Prohibi ción ▁de ▁las ▁Armas ▁ Q uímicas ▁en ▁el ▁marco ▁del ▁acuerdo ▁en ▁que ▁se ▁define n ▁las ▁ relaciones ▁entre ▁las ▁Naciones ▁Unidas ▁y ▁dicha ▁organización , ▁de ▁conformidad ▁con ▁las ▁disposiciones ▁de ▁la ▁Convención ;\n",
            "\n",
            "==> UN.en-es.en-filtered.en.subword.dev <==\n",
            "▁Recalling ▁Economic ▁and ▁Social ▁Council ▁resolution ▁ 2 0 0 6 / 4 9 ▁of ▁ 2 8 ▁July ▁ 2 0 0 6 , ▁in ▁which ▁the ▁Council ▁requested ▁the ▁Unit ed ▁Nations ▁Forum ▁on ▁Forests ▁to ▁conclude ▁and ▁adopt ▁at ▁its ▁ seventh ▁session ▁a ▁non - legal ly ▁binding ▁instrument ▁on ▁all ▁types ▁of ▁forests ,\n",
            "\n",
            "==> UN.en-es.es-filtered.es.subword.dev <==\n",
            "▁Recordando ▁la ▁resolución ▁ 2 0 0 6 / 4 9 ▁del ▁Consejo ▁Económico ▁y ▁Social , ▁de ▁ 2 8 ▁de ▁julio ▁de ▁ 2 0 0 6 , ▁en ▁la ▁que ▁el ▁Consejo ▁pidi ó ▁al ▁Foro ▁de ▁las ▁Naciones ▁Unidas ▁sobre ▁los ▁Bosques ▁que ▁concluyer a ▁y ▁aprobara ▁en ▁su ▁séptimo ▁período ▁de ▁sesiones ▁un ▁instrumento ▁jurídica mente ▁no ▁vinculante ▁sobre ▁todos ▁los ▁tipos ▁de ▁bosques ,\n",
            "\n",
            "==> UN.en-es.en-filtered.en.subword.test <==\n",
            "▁( c ) ▁A dditional ▁resource ▁requirements ▁of ▁ 3 2 4 , 7 0 0 ▁dollars ▁under ▁section ▁ 3 5 , ▁Staff ▁assessment , ▁to ▁be ▁offset ▁by ▁an ▁equivalent ▁amount ▁under ▁income ▁section ▁ 1 , ▁I ncome ▁from ▁staff ▁assessment ;\n",
            "\n",
            "==> UN.en-es.es-filtered.es.subword.test <==\n",
            "▁c ) ▁Recursos ▁adicionales ▁necesarios ▁por ▁un ▁monto ▁de ▁ 3 2 4 . 7 0 0 ▁dólares ▁en ▁relación ▁con ▁la ▁sección ▁ 3 5 ▁( Contribuciones ▁del ▁personal ) ▁que ▁se ▁compensará ▁con ▁una ▁suma ▁equivalente ▁en ▁la ▁sección ▁ 1 ▁de ▁ingresos ▁( I ngresos ▁por ▁concepto ▁de ▁contribuciones ▁del ▁personal );\n",
            "\n",
            "---Last line---\n",
            "==> UN.en-es.en-filtered.en.subword.train <==\n",
            "▁ 3 . ▁Reaffirms ▁that ▁dialogue ▁among ▁cultures ▁and ▁civilizations ▁facilitate s ▁the ▁promotion ▁of ▁a ▁culture ▁of ▁tolerance ▁and ▁respect ▁for ▁diversity , ▁and ▁welcomes ▁in ▁this ▁regard ▁the ▁holding ▁of ▁conferences ▁and ▁meetings ▁at ▁the ▁national , ▁regional ▁and ▁international ▁levels ▁on ▁dialogue ▁among ▁civilizations ;\n",
            "\n",
            "==> UN.en-es.es-filtered.es.subword.train <==\n",
            "▁ 3 . ▁Reafirma ▁que ▁el ▁diálogo ▁entre ▁culturas ▁y ▁civilizaciones ▁facilita ▁la ▁promoción ▁de ▁una ▁cultura ▁de ▁tolerancia ▁y ▁respeto ▁de ▁la ▁diversidad , ▁y ▁acoge ▁con ▁beneplácito , ▁a ▁ese ▁respecto , ▁la ▁celebración ▁de ▁conferencias ▁y ▁reuniones ▁a ▁nivel ▁nacional , ▁regional ▁e ▁internacional ▁sobre ▁el ▁diálogo ▁entre ▁civilizaciones ;\n",
            "\n",
            "==> UN.en-es.en-filtered.en.subword.dev <==\n",
            "▁ 1 6 . ▁Urges ▁Member ▁States ▁to ▁encourage ▁women ▁entrepreneurs , ▁including ▁through ▁education ▁and ▁training ▁of ▁women ▁in ▁business , ▁administration ▁and ▁information ▁and ▁communications ▁technologies , ▁and ▁invites ▁business ▁associations ▁to ▁assist ▁national ▁efforts ▁in ▁this ▁regard ;\n",
            "\n",
            "==> UN.en-es.es-filtered.es.subword.dev <==\n",
            "▁ 1 6 . ▁Insta ▁a ▁los ▁Estados ▁Miembros ▁a ▁que ▁estimule n ▁a ▁las ▁mujeres ▁empresarias , ▁entre ▁otras ▁cosas , ▁facilitando ▁su ▁educación ▁y ▁capacitación ▁en ▁las ▁esferas ▁de ▁los ▁negocios , ▁la ▁administración ▁y ▁las ▁tecnologías ▁de ▁la ▁información ▁y ▁las ▁comunicaciones , ▁e ▁invita ▁a ▁las ▁asociaciones ▁de ▁empresarios ▁a ▁prestar ▁asistencia ▁a ▁las ▁iniciativas ▁de ▁los ▁países ▁a ▁ese ▁respecto ;\n",
            "\n",
            "==> UN.en-es.en-filtered.en.subword.test <==\n",
            "▁( k ) ▁The ▁numer ous ▁and ▁repeated ▁difficulties ▁encountered ▁by ▁Unit ed ▁Nations ▁and ▁humanitarian ▁staff ▁in ▁carry ing ▁out ▁their ▁mandate ▁in ▁the ▁Sudan ▁and ▁the ▁conditions ▁imposed ▁on ▁humanitarian ▁organizations , ▁in ▁contraven tion ▁of ▁humanitarian ▁principles , ▁in ▁particular ▁the ▁denial ▁of ▁access ▁to ▁them , ▁which ▁has ▁had ▁grave ▁consequences ▁for ▁the ▁civilian ▁population ▁affected ▁by ▁the ▁ armed ▁conflict ▁and ▁ led ▁to ▁the ▁withdrawal ▁of ▁ many ▁such ▁organizations ▁prior ▁to ▁the ▁agreement ▁on ▁procedures ▁for ▁un imped ed ▁access ▁of ▁humanitarian ▁aid ;\n",
            "\n",
            "==> UN.en-es.es-filtered.es.subword.test <==\n",
            "▁k ) ▁Las ▁numeros as ▁y ▁repetida s ▁dificultades ▁con ▁que ▁tropieza ▁el ▁personal ▁de ▁las ▁Naciones ▁Unidas ▁y ▁el ▁de ▁asistencia ▁humanitaria ▁en ▁el ▁cumplimiento ▁de ▁su ▁mandato ▁en ▁el ▁Sudán ▁y ▁las ▁condiciones ▁impuestas ▁a ▁las ▁organizaciones ▁humanitarias , ▁en ▁contra vención ▁de ▁los ▁principios ▁humanitarios , ▁especialmente ▁la ▁de negación ▁de ▁acceso , ▁que ▁ha ▁tenido ▁graves ▁consecuencias ▁para ▁la ▁población ▁civil ▁afectada ▁por ▁el ▁conflicto ▁armado , ▁y ▁que ▁ha ▁dado ▁lugar ▁a ▁la ▁retirada ▁de ▁mucha s ▁de ▁ esas ▁organizaciones ▁con ▁anterior idad ▁al ▁acuerdo ▁sobre ▁los ▁procedimientos ▁para ▁el ▁libre ▁acceso ▁de ▁la ▁ayuda ▁humanitaria ;\n"
          ]
        }
      ]
    },
    {
      "cell_type": "code",
      "source": [
        "!pip install OpenNMT-py"
      ],
      "metadata": {
        "colab": {
          "base_uri": "https://localhost:8080/"
        },
        "id": "JFFeL5uxlC-4",
        "outputId": "166f3e2a-6182-45f6-80a5-46bbf63e4fea"
      },
      "execution_count": 9,
      "outputs": [
        {
          "output_type": "stream",
          "name": "stdout",
          "text": [
            "Collecting OpenNMT-py\n",
            "  Downloading OpenNMT_py-3.4.3-py3-none-any.whl (257 kB)\n",
            "\u001b[2K     \u001b[90m━━━━━━━━━━━━━━━━━━━━━━━━━━━━━━━━━━━━━━━━\u001b[0m \u001b[32m257.3/257.3 kB\u001b[0m \u001b[31m5.4 MB/s\u001b[0m eta \u001b[36m0:00:00\u001b[0m\n",
            "\u001b[?25hRequirement already satisfied: torch<2.2,>=2.0.1 in /usr/local/lib/python3.10/dist-packages (from OpenNMT-py) (2.1.0+cu118)\n",
            "Collecting configargparse (from OpenNMT-py)\n",
            "  Downloading ConfigArgParse-1.7-py3-none-any.whl (25 kB)\n",
            "Collecting ctranslate2<4,>=3.17 (from OpenNMT-py)\n",
            "  Downloading ctranslate2-3.21.0-cp310-cp310-manylinux_2_17_x86_64.manylinux2014_x86_64.whl (36.8 MB)\n",
            "\u001b[2K     \u001b[90m━━━━━━━━━━━━━━━━━━━━━━━━━━━━━━━━━━━━━━━━\u001b[0m \u001b[32m36.8/36.8 MB\u001b[0m \u001b[31m43.5 MB/s\u001b[0m eta \u001b[36m0:00:00\u001b[0m\n",
            "\u001b[?25hRequirement already satisfied: tensorboard>=2.3 in /usr/local/lib/python3.10/dist-packages (from OpenNMT-py) (2.14.1)\n",
            "Requirement already satisfied: flask in /usr/local/lib/python3.10/dist-packages (from OpenNMT-py) (2.2.5)\n",
            "Collecting waitress (from OpenNMT-py)\n",
            "  Downloading waitress-2.1.2-py3-none-any.whl (57 kB)\n",
            "\u001b[2K     \u001b[90m━━━━━━━━━━━━━━━━━━━━━━━━━━━━━━━━━━━━━━━━\u001b[0m \u001b[32m57.7/57.7 kB\u001b[0m \u001b[31m7.7 MB/s\u001b[0m eta \u001b[36m0:00:00\u001b[0m\n",
            "\u001b[?25hCollecting pyonmttok<2,>=1.35 (from OpenNMT-py)\n",
            "  Downloading pyonmttok-1.37.1-cp310-cp310-manylinux_2_17_x86_64.manylinux2014_x86_64.whl (17.0 MB)\n",
            "\u001b[2K     \u001b[90m━━━━━━━━━━━━━━━━━━━━━━━━━━━━━━━━━━━━━━━━\u001b[0m \u001b[32m17.0/17.0 MB\u001b[0m \u001b[31m77.8 MB/s\u001b[0m eta \u001b[36m0:00:00\u001b[0m\n",
            "\u001b[?25hRequirement already satisfied: pyyaml in /usr/local/lib/python3.10/dist-packages (from OpenNMT-py) (6.0.1)\n",
            "Collecting sacrebleu (from OpenNMT-py)\n",
            "  Downloading sacrebleu-2.3.2-py3-none-any.whl (119 kB)\n",
            "\u001b[2K     \u001b[90m━━━━━━━━━━━━━━━━━━━━━━━━━━━━━━━━━━━━━━━━\u001b[0m \u001b[32m119.7/119.7 kB\u001b[0m \u001b[31m16.0 MB/s\u001b[0m eta \u001b[36m0:00:00\u001b[0m\n",
            "\u001b[?25hCollecting rapidfuzz (from OpenNMT-py)\n",
            "  Downloading rapidfuzz-3.5.2-cp310-cp310-manylinux_2_17_x86_64.manylinux2014_x86_64.whl (3.3 MB)\n",
            "\u001b[2K     \u001b[90m━━━━━━━━━━━━━━━━━━━━━━━━━━━━━━━━━━━━━━━━\u001b[0m \u001b[32m3.3/3.3 MB\u001b[0m \u001b[31m69.1 MB/s\u001b[0m eta \u001b[36m0:00:00\u001b[0m\n",
            "\u001b[?25hCollecting pyahocorasick (from OpenNMT-py)\n",
            "  Downloading pyahocorasick-2.0.0-cp310-cp310-manylinux_2_5_x86_64.manylinux1_x86_64.manylinux_2_12_x86_64.manylinux2010_x86_64.whl (110 kB)\n",
            "\u001b[2K     \u001b[90m━━━━━━━━━━━━━━━━━━━━━━━━━━━━━━━━━━━━━━━━\u001b[0m \u001b[32m110.8/110.8 kB\u001b[0m \u001b[31m8.3 MB/s\u001b[0m eta \u001b[36m0:00:00\u001b[0m\n",
            "\u001b[?25hCollecting fasttext-wheel (from OpenNMT-py)\n",
            "  Downloading fasttext_wheel-0.9.2-cp310-cp310-manylinux_2_17_x86_64.manylinux2014_x86_64.whl (4.4 MB)\n",
            "\u001b[2K     \u001b[90m━━━━━━━━━━━━━━━━━━━━━━━━━━━━━━━━━━━━━━━━\u001b[0m \u001b[32m4.4/4.4 MB\u001b[0m \u001b[31m53.7 MB/s\u001b[0m eta \u001b[36m0:00:00\u001b[0m\n",
            "\u001b[?25hRequirement already satisfied: spacy in /usr/local/lib/python3.10/dist-packages (from OpenNMT-py) (3.6.1)\n",
            "Requirement already satisfied: six in /usr/local/lib/python3.10/dist-packages (from OpenNMT-py) (1.16.0)\n",
            "Requirement already satisfied: numpy in /usr/local/lib/python3.10/dist-packages (from ctranslate2<4,>=3.17->OpenNMT-py) (1.23.5)\n",
            "Requirement already satisfied: absl-py>=0.4 in /usr/local/lib/python3.10/dist-packages (from tensorboard>=2.3->OpenNMT-py) (1.4.0)\n",
            "Requirement already satisfied: grpcio>=1.48.2 in /usr/local/lib/python3.10/dist-packages (from tensorboard>=2.3->OpenNMT-py) (1.59.2)\n",
            "Requirement already satisfied: google-auth<3,>=1.6.3 in /usr/local/lib/python3.10/dist-packages (from tensorboard>=2.3->OpenNMT-py) (2.17.3)\n",
            "Requirement already satisfied: google-auth-oauthlib<1.1,>=0.5 in /usr/local/lib/python3.10/dist-packages (from tensorboard>=2.3->OpenNMT-py) (1.0.0)\n",
            "Requirement already satisfied: markdown>=2.6.8 in /usr/local/lib/python3.10/dist-packages (from tensorboard>=2.3->OpenNMT-py) (3.5.1)\n",
            "Requirement already satisfied: protobuf>=3.19.6 in /usr/local/lib/python3.10/dist-packages (from tensorboard>=2.3->OpenNMT-py) (3.20.3)\n",
            "Requirement already satisfied: requests<3,>=2.21.0 in /usr/local/lib/python3.10/dist-packages (from tensorboard>=2.3->OpenNMT-py) (2.31.0)\n",
            "Requirement already satisfied: setuptools>=41.0.0 in /usr/local/lib/python3.10/dist-packages (from tensorboard>=2.3->OpenNMT-py) (67.7.2)\n",
            "Requirement already satisfied: tensorboard-data-server<0.8.0,>=0.7.0 in /usr/local/lib/python3.10/dist-packages (from tensorboard>=2.3->OpenNMT-py) (0.7.2)\n",
            "Requirement already satisfied: werkzeug>=1.0.1 in /usr/local/lib/python3.10/dist-packages (from tensorboard>=2.3->OpenNMT-py) (3.0.1)\n",
            "Requirement already satisfied: filelock in /usr/local/lib/python3.10/dist-packages (from torch<2.2,>=2.0.1->OpenNMT-py) (3.13.1)\n",
            "Requirement already satisfied: typing-extensions in /usr/local/lib/python3.10/dist-packages (from torch<2.2,>=2.0.1->OpenNMT-py) (4.5.0)\n",
            "Requirement already satisfied: sympy in /usr/local/lib/python3.10/dist-packages (from torch<2.2,>=2.0.1->OpenNMT-py) (1.12)\n",
            "Requirement already satisfied: networkx in /usr/local/lib/python3.10/dist-packages (from torch<2.2,>=2.0.1->OpenNMT-py) (3.2.1)\n",
            "Requirement already satisfied: jinja2 in /usr/local/lib/python3.10/dist-packages (from torch<2.2,>=2.0.1->OpenNMT-py) (3.1.2)\n",
            "Requirement already satisfied: fsspec in /usr/local/lib/python3.10/dist-packages (from torch<2.2,>=2.0.1->OpenNMT-py) (2023.6.0)\n",
            "Requirement already satisfied: triton==2.1.0 in /usr/local/lib/python3.10/dist-packages (from torch<2.2,>=2.0.1->OpenNMT-py) (2.1.0)\n",
            "Collecting pybind11>=2.2 (from fasttext-wheel->OpenNMT-py)\n",
            "  Downloading pybind11-2.11.1-py3-none-any.whl (227 kB)\n",
            "\u001b[2K     \u001b[90m━━━━━━━━━━━━━━━━━━━━━━━━━━━━━━━━━━━━━━━━\u001b[0m \u001b[32m227.7/227.7 kB\u001b[0m \u001b[31m22.8 MB/s\u001b[0m eta \u001b[36m0:00:00\u001b[0m\n",
            "\u001b[?25hRequirement already satisfied: itsdangerous>=2.0 in /usr/local/lib/python3.10/dist-packages (from flask->OpenNMT-py) (2.1.2)\n",
            "Requirement already satisfied: click>=8.0 in /usr/local/lib/python3.10/dist-packages (from flask->OpenNMT-py) (8.1.7)\n",
            "Collecting portalocker (from sacrebleu->OpenNMT-py)\n",
            "  Downloading portalocker-2.8.2-py3-none-any.whl (17 kB)\n",
            "Requirement already satisfied: regex in /usr/local/lib/python3.10/dist-packages (from sacrebleu->OpenNMT-py) (2023.6.3)\n",
            "Requirement already satisfied: tabulate>=0.8.9 in /usr/local/lib/python3.10/dist-packages (from sacrebleu->OpenNMT-py) (0.9.0)\n",
            "Collecting colorama (from sacrebleu->OpenNMT-py)\n",
            "  Downloading colorama-0.4.6-py2.py3-none-any.whl (25 kB)\n",
            "Requirement already satisfied: lxml in /usr/local/lib/python3.10/dist-packages (from sacrebleu->OpenNMT-py) (4.9.3)\n",
            "Requirement already satisfied: spacy-legacy<3.1.0,>=3.0.11 in /usr/local/lib/python3.10/dist-packages (from spacy->OpenNMT-py) (3.0.12)\n",
            "Requirement already satisfied: spacy-loggers<2.0.0,>=1.0.0 in /usr/local/lib/python3.10/dist-packages (from spacy->OpenNMT-py) (1.0.5)\n",
            "Requirement already satisfied: murmurhash<1.1.0,>=0.28.0 in /usr/local/lib/python3.10/dist-packages (from spacy->OpenNMT-py) (1.0.10)\n",
            "Requirement already satisfied: cymem<2.1.0,>=2.0.2 in /usr/local/lib/python3.10/dist-packages (from spacy->OpenNMT-py) (2.0.8)\n",
            "Requirement already satisfied: preshed<3.1.0,>=3.0.2 in /usr/local/lib/python3.10/dist-packages (from spacy->OpenNMT-py) (3.0.9)\n",
            "Requirement already satisfied: thinc<8.2.0,>=8.1.8 in /usr/local/lib/python3.10/dist-packages (from spacy->OpenNMT-py) (8.1.12)\n",
            "Requirement already satisfied: wasabi<1.2.0,>=0.9.1 in /usr/local/lib/python3.10/dist-packages (from spacy->OpenNMT-py) (1.1.2)\n",
            "Requirement already satisfied: srsly<3.0.0,>=2.4.3 in /usr/local/lib/python3.10/dist-packages (from spacy->OpenNMT-py) (2.4.8)\n",
            "Requirement already satisfied: catalogue<2.1.0,>=2.0.6 in /usr/local/lib/python3.10/dist-packages (from spacy->OpenNMT-py) (2.0.10)\n",
            "Requirement already satisfied: typer<0.10.0,>=0.3.0 in /usr/local/lib/python3.10/dist-packages (from spacy->OpenNMT-py) (0.9.0)\n",
            "Requirement already satisfied: pathy>=0.10.0 in /usr/local/lib/python3.10/dist-packages (from spacy->OpenNMT-py) (0.10.3)\n",
            "Requirement already satisfied: smart-open<7.0.0,>=5.2.1 in /usr/local/lib/python3.10/dist-packages (from spacy->OpenNMT-py) (6.4.0)\n",
            "Requirement already satisfied: tqdm<5.0.0,>=4.38.0 in /usr/local/lib/python3.10/dist-packages (from spacy->OpenNMT-py) (4.66.1)\n",
            "Requirement already satisfied: pydantic!=1.8,!=1.8.1,<3.0.0,>=1.7.4 in /usr/local/lib/python3.10/dist-packages (from spacy->OpenNMT-py) (1.10.13)\n",
            "Requirement already satisfied: packaging>=20.0 in /usr/local/lib/python3.10/dist-packages (from spacy->OpenNMT-py) (23.2)\n",
            "Requirement already satisfied: langcodes<4.0.0,>=3.2.0 in /usr/local/lib/python3.10/dist-packages (from spacy->OpenNMT-py) (3.3.0)\n",
            "Requirement already satisfied: cachetools<6.0,>=2.0.0 in /usr/local/lib/python3.10/dist-packages (from google-auth<3,>=1.6.3->tensorboard>=2.3->OpenNMT-py) (5.3.2)\n",
            "Requirement already satisfied: pyasn1-modules>=0.2.1 in /usr/local/lib/python3.10/dist-packages (from google-auth<3,>=1.6.3->tensorboard>=2.3->OpenNMT-py) (0.3.0)\n",
            "Requirement already satisfied: rsa<5,>=3.1.4 in /usr/local/lib/python3.10/dist-packages (from google-auth<3,>=1.6.3->tensorboard>=2.3->OpenNMT-py) (4.9)\n",
            "Requirement already satisfied: requests-oauthlib>=0.7.0 in /usr/local/lib/python3.10/dist-packages (from google-auth-oauthlib<1.1,>=0.5->tensorboard>=2.3->OpenNMT-py) (1.3.1)\n",
            "Requirement already satisfied: MarkupSafe>=2.0 in /usr/local/lib/python3.10/dist-packages (from jinja2->torch<2.2,>=2.0.1->OpenNMT-py) (2.1.3)\n",
            "Requirement already satisfied: charset-normalizer<4,>=2 in /usr/local/lib/python3.10/dist-packages (from requests<3,>=2.21.0->tensorboard>=2.3->OpenNMT-py) (3.3.2)\n",
            "Requirement already satisfied: idna<4,>=2.5 in /usr/local/lib/python3.10/dist-packages (from requests<3,>=2.21.0->tensorboard>=2.3->OpenNMT-py) (3.4)\n",
            "Requirement already satisfied: urllib3<3,>=1.21.1 in /usr/local/lib/python3.10/dist-packages (from requests<3,>=2.21.0->tensorboard>=2.3->OpenNMT-py) (2.0.7)\n",
            "Requirement already satisfied: certifi>=2017.4.17 in /usr/local/lib/python3.10/dist-packages (from requests<3,>=2.21.0->tensorboard>=2.3->OpenNMT-py) (2023.7.22)\n",
            "Requirement already satisfied: blis<0.8.0,>=0.7.8 in /usr/local/lib/python3.10/dist-packages (from thinc<8.2.0,>=8.1.8->spacy->OpenNMT-py) (0.7.11)\n",
            "Requirement already satisfied: confection<1.0.0,>=0.0.1 in /usr/local/lib/python3.10/dist-packages (from thinc<8.2.0,>=8.1.8->spacy->OpenNMT-py) (0.1.3)\n",
            "Requirement already satisfied: mpmath>=0.19 in /usr/local/lib/python3.10/dist-packages (from sympy->torch<2.2,>=2.0.1->OpenNMT-py) (1.3.0)\n",
            "Requirement already satisfied: pyasn1<0.6.0,>=0.4.6 in /usr/local/lib/python3.10/dist-packages (from pyasn1-modules>=0.2.1->google-auth<3,>=1.6.3->tensorboard>=2.3->OpenNMT-py) (0.5.0)\n",
            "Requirement already satisfied: oauthlib>=3.0.0 in /usr/local/lib/python3.10/dist-packages (from requests-oauthlib>=0.7.0->google-auth-oauthlib<1.1,>=0.5->tensorboard>=2.3->OpenNMT-py) (3.2.2)\n",
            "Installing collected packages: waitress, rapidfuzz, pyonmttok, pybind11, pyahocorasick, portalocker, ctranslate2, configargparse, colorama, sacrebleu, fasttext-wheel, OpenNMT-py\n",
            "Successfully installed OpenNMT-py-3.4.3 colorama-0.4.6 configargparse-1.7 ctranslate2-3.21.0 fasttext-wheel-0.9.2 portalocker-2.8.2 pyahocorasick-2.0.0 pybind11-2.11.1 pyonmttok-1.37.1 rapidfuzz-3.5.2 sacrebleu-2.3.2 waitress-2.1.2\n"
          ]
        }
      ]
    },
    {
      "cell_type": "markdown",
      "source": [
        "### 1. Configuraciones del modelo"
      ],
      "metadata": {
        "id": "TlsgUaSxMdFN"
      }
    },
    {
      "cell_type": "markdown",
      "source": [
        "- El modelo que vamos a entrenar es un transformer (ver [Vaswani et al., 2017](https://arxiv.org/abs/1706.03762))\n",
        "    - Parametros recomendados para modelos entrenados con millones de sentencias:\n",
        "        - `train_steps`: valores entre `100,000` y `200,000` o más\n",
        "            - Habilitar `early_stopping`\n",
        "        - `valid_steps`: `10,000` si `train_steps` es suficientemente grande\n",
        "        - `warmup_steps`: entre `4000` y `8000`\n",
        "            - Debe ser menor o igual que `train_steps`\n",
        "- Consideremos que tenemos un dataset pequeño por lo que debemos ajustar los parametros a esta realidad\n",
        "    - `train_steps=3000`\n",
        "    - `valid_steps=1000`\n",
        "    - `warmup_steps=1000`\n",
        "- Más información de los parametros válidos en la [documentación de entrenamiento](https://opennmt.net/OpenNMT-py/options/train.html)\n"
      ],
      "metadata": {
        "id": "SnmlLh4qeFZ1"
      }
    },
    {
      "cell_type": "code",
      "source": [
        "# Creación del archivo de configuración\n",
        "# Usando valores pequeños en vista de que tenemos un corpus limitado\n",
        "# Para datasets grandes deberian aumentar los valores:\n",
        "# train_steps, valid_steps, warmup_steps, save_checkpoint_steps, keep_checkpoint\n",
        "SRC_DATA_NAME = \"UN.en-es.en-filtered.en.subword\"\n",
        "TARGET_DATA_NAME = \"UN.en-es.es-filtered.es.subword\"\n",
        "\n",
        "config = f'''# config.yaml\n",
        "\n",
        "## Where the samples will be written\n",
        "save_data: run\n",
        "\n",
        "# Rutas de archivos de entrenamiento\n",
        "#(previamente aplicado subword tokenization)\n",
        "data:\n",
        "    corpus_1:\n",
        "        path_src: {SRC_DATA_NAME}.train\n",
        "        path_tgt: {TARGET_DATA_NAME}.train\n",
        "        transforms: [filtertoolong]\n",
        "    valid:\n",
        "        path_src: {SRC_DATA_NAME}.dev\n",
        "        path_tgt: {TARGET_DATA_NAME}.dev\n",
        "        transforms: [filtertoolong]\n",
        "\n",
        "# Vocabularios (serán generados por `onmt_build_vocab`)\n",
        "src_vocab: source.vocab\n",
        "tgt_vocab: target.vocab\n",
        "\n",
        "# Tamaño del vocabulario\n",
        "#(debe concordar con el parametro usado en el algoritmo de subword tokenization)\n",
        "src_vocab_size: 50000\n",
        "tgt_vocab_size: 50000\n",
        "\n",
        "# Filtrado sentencias de longitud mayor a n\n",
        "# actuara si [filtertoolong] está presente\n",
        "src_seq_length: 150\n",
        "src_seq_length: 150\n",
        "\n",
        "# Tokenizadores\n",
        "src_subword_model: source.model\n",
        "tgt_subword_model: target.model\n",
        "\n",
        "# Archivos donde se guardaran los logs y los checkpoints de modelos\n",
        "log_file: train.log\n",
        "save_model: models/model.enes\n",
        "\n",
        "# Condición de paro si no se obtienen mejoras significativas\n",
        "# despues de n validaciones\n",
        "early_stopping: 4\n",
        "\n",
        "# Guarda un checkpoint del modelo cada n steps\n",
        "save_checkpoint_steps: 1000\n",
        "\n",
        "# Mantiene los n ultimos checkpoints\n",
        "keep_checkpoint: 3\n",
        "\n",
        "# Reproductibilidad\n",
        "seed: 3435\n",
        "\n",
        "# Entrena el modelo maximo n steps\n",
        "# Default: 100,000\n",
        "train_steps: 3000\n",
        "\n",
        "# Corre el set de validaciones (*.dev) despues de n steps\n",
        "# Defatul: 10,000\n",
        "valid_steps: 1000\n",
        "\n",
        "warmup_steps: 1000\n",
        "report_every: 100\n",
        "\n",
        "# Numero de GPUs y sus ids\n",
        "world_size: 1\n",
        "gpu_ranks: [0]\n",
        "\n",
        "# Batching\n",
        "bucket_size: 262144\n",
        "num_workers: 0\n",
        "batch_type: \"tokens\"\n",
        "batch_size: 4096\n",
        "valid_batch_size: 2048\n",
        "max_generator_batches: 2\n",
        "accum_count: [4]\n",
        "accum_steps: [0]\n",
        "\n",
        "# Configuración del optimizador\n",
        "model_dtype: \"fp16\"\n",
        "optim: \"adam\"\n",
        "learning_rate: 2\n",
        "# warmup_steps: 8000\n",
        "decay_method: \"noam\"\n",
        "adam_beta2: 0.998\n",
        "max_grad_norm: 0\n",
        "label_smoothing: 0.1\n",
        "param_init: 0\n",
        "param_init_glorot: true\n",
        "normalization: \"tokens\"\n",
        "\n",
        "# Configuración del Modelo\n",
        "encoder_type: transformer\n",
        "decoder_type: transformer\n",
        "position_encoding: true\n",
        "enc_layers: 6\n",
        "dec_layers: 6\n",
        "heads: 8\n",
        "hidden_size: 512\n",
        "word_vec_size: 512\n",
        "transformer_ff: 2048\n",
        "dropout_steps: [0]\n",
        "dropout: [0.1]\n",
        "attention_dropout: [0.1]\n",
        "'''\n",
        "\n",
        "with open(\"/content/drive/MyDrive/nmt/practica/config.yaml\", \"w+\") as config_yaml:\n",
        "  config_yaml.write(config)"
      ],
      "metadata": {
        "id": "Eol-YLD2g6WV"
      },
      "execution_count": 21,
      "outputs": []
    },
    {
      "cell_type": "code",
      "source": [
        "!cat /content/drive/MyDrive/nmt/practica/config.yaml"
      ],
      "metadata": {
        "id": "soOCnma-kUiZ",
        "colab": {
          "base_uri": "https://localhost:8080/"
        },
        "outputId": "b4793935-3911-4623-cec9-cf6f5bb8888b"
      },
      "execution_count": 24,
      "outputs": [
        {
          "output_type": "stream",
          "name": "stdout",
          "text": [
            "# config.yaml\n",
            "\n",
            "## Where the samples will be written\n",
            "save_data: run\n",
            "\n",
            "# Rutas de archivos de entrenamiento\n",
            "#(previamente aplicado subword tokenization)\n",
            "data:\n",
            "    corpus_1:\n",
            "        path_src: UN.en-es.en-filtered.en.subword.train\n",
            "        path_tgt: UN.en-es.es-filtered.es.subword.train\n",
            "        transforms: [filtertoolong]\n",
            "    valid:\n",
            "        path_src: UN.en-es.en-filtered.en.subword.dev\n",
            "        path_tgt: UN.en-es.es-filtered.es.subword.dev\n",
            "        transforms: [filtertoolong]\n",
            "\n",
            "# Vocabularios (serán generados por `onmt_build_vocab`)\n",
            "src_vocab: source.vocab\n",
            "tgt_vocab: target.vocab\n",
            "\n",
            "# Tamaño del vocabulario\n",
            "#(debe concordar con el parametro usado en el algoritmo de subword tokenization)\n",
            "src_vocab_size: 50000\n",
            "tgt_vocab_size: 50000\n",
            "\n",
            "# Filtrado sentencias de longitud mayor a n\n",
            "# actuara si [filtertoolong] está presente\n",
            "src_seq_length: 150\n",
            "src_seq_length: 150\n",
            "\n",
            "# Tokenizadores\n",
            "src_subword_model: source.model\n",
            "tgt_subword_model: target.model\n",
            "\n",
            "# Archivos donde se guardaran los logs y los checkpoints de modelos\n",
            "log_file: train.log\n",
            "save_model: models/model.enes\n",
            "\n",
            "# Condición de paro si no se obtienen mejoras significativas\n",
            "# despues de n validaciones\n",
            "early_stopping: 4\n",
            "\n",
            "# Guarda un checkpoint del modelo cada n steps\n",
            "save_checkpoint_steps: 1000\n",
            "\n",
            "# Mantiene los n ultimos checkpoints\n",
            "keep_checkpoint: 3\n",
            "\n",
            "# Reproductibilidad\n",
            "seed: 3435\n",
            "\n",
            "# Entrena el modelo maximo n steps\n",
            "# Default: 100,000\n",
            "train_steps: 3000\n",
            "\n",
            "# Corre el set de validaciones (*.dev) despues de n steps\n",
            "# Defatul: 10,000\n",
            "valid_steps: 1000\n",
            "\n",
            "warmup_steps: 1000\n",
            "report_every: 100\n",
            "\n",
            "# Numero de GPUs y sus ids\n",
            "world_size: 1\n",
            "gpu_ranks: [0]\n",
            "\n",
            "# Batching\n",
            "bucket_size: 262144\n",
            "num_workers: 0\n",
            "batch_type: \"tokens\"\n",
            "batch_size: 4096\n",
            "valid_batch_size: 2048\n",
            "max_generator_batches: 2\n",
            "accum_count: [4]\n",
            "accum_steps: [0]\n",
            "\n",
            "# Configuración del optimizador\n",
            "model_dtype: \"fp16\"\n",
            "optim: \"adam\"\n",
            "learning_rate: 2\n",
            "# warmup_steps: 8000\n",
            "decay_method: \"noam\"\n",
            "adam_beta2: 0.998\n",
            "max_grad_norm: 0\n",
            "label_smoothing: 0.1\n",
            "param_init: 0\n",
            "param_init_glorot: true\n",
            "normalization: \"tokens\"\n",
            "\n",
            "# Configuración del Modelo\n",
            "encoder_type: transformer\n",
            "decoder_type: transformer\n",
            "position_encoding: true\n",
            "enc_layers: 6\n",
            "dec_layers: 6\n",
            "heads: 8\n",
            "hidden_size: 512\n",
            "word_vec_size: 512\n",
            "transformer_ff: 2048\n",
            "dropout_steps: [0]\n",
            "dropout: [0.1]\n",
            "attention_dropout: [0.1]\n"
          ]
        }
      ]
    },
    {
      "cell_type": "markdown",
      "source": [
        "#### Contruyendo el vocabulario"
      ],
      "metadata": {
        "id": "oHCOC19Zk5S1"
      }
    },
    {
      "cell_type": "code",
      "source": [
        "%%time\n",
        "!onmt_build_vocab -config config.yaml -n_sample -1 -num_threads 2"
      ],
      "metadata": {
        "colab": {
          "base_uri": "https://localhost:8080/"
        },
        "id": "ISHYurFjk7Hc",
        "outputId": "6d2b03b5-0bd6-444f-b33e-c5f191ca7780"
      },
      "execution_count": 23,
      "outputs": [
        {
          "output_type": "stream",
          "name": "stdout",
          "text": [
            "2023-11-13 22:54:17.928330: E tensorflow/compiler/xla/stream_executor/cuda/cuda_dnn.cc:9342] Unable to register cuDNN factory: Attempting to register factory for plugin cuDNN when one has already been registered\n",
            "2023-11-13 22:54:17.928402: E tensorflow/compiler/xla/stream_executor/cuda/cuda_fft.cc:609] Unable to register cuFFT factory: Attempting to register factory for plugin cuFFT when one has already been registered\n",
            "2023-11-13 22:54:17.928443: E tensorflow/compiler/xla/stream_executor/cuda/cuda_blas.cc:1518] Unable to register cuBLAS factory: Attempting to register factory for plugin cuBLAS when one has already been registered\n",
            "2023-11-13 22:54:17.937760: I tensorflow/core/platform/cpu_feature_guard.cc:182] This TensorFlow binary is optimized to use available CPU instructions in performance-critical operations.\n",
            "To enable the following instructions: AVX2 FMA, in other operations, rebuild TensorFlow with the appropriate compiler flags.\n",
            "2023-11-13 22:54:19.351699: W tensorflow/compiler/tf2tensorrt/utils/py_utils.cc:38] TF-TRT Warning: Could not find TensorRT\n",
            "Corpus corpus_1's weight should be given. We default it to 1 for you.\n",
            "[2023-11-13 22:54:22,814 INFO] Counter vocab from -1 samples.\n",
            "[2023-11-13 22:54:22,814 INFO] n_sample=-1: Build vocab on full datasets.\n",
            "[2023-11-13 22:54:32,510 INFO] * Transform statistics for corpus_1(50.00%):\n",
            "\t\t\t* FilterTooLongStats(filtered=1436)\n",
            "\n",
            "[2023-11-13 22:54:32,683 INFO] * Transform statistics for corpus_1(50.00%):\n",
            "\t\t\t* FilterTooLongStats(filtered=1437)\n",
            "\n",
            "[2023-11-13 22:54:32,738 INFO] Counters src: 12028\n",
            "[2023-11-13 22:54:32,738 INFO] Counters tgt: 16074\n",
            "CPU times: user 212 ms, sys: 17.5 ms, total: 230 ms\n",
            "Wall time: 24.6 s\n"
          ]
        }
      ]
    },
    {
      "cell_type": "markdown",
      "source": [
        "- Debemos cambiar el tipo de entorno a uno con GPU"
      ],
      "metadata": {
        "id": "GgcurQTGlRsv"
      }
    },
    {
      "cell_type": "code",
      "source": [
        "# Check if the GPU is active\n",
        "!nvidia-smi -L"
      ],
      "metadata": {
        "colab": {
          "base_uri": "https://localhost:8080/"
        },
        "id": "6kaEjlholUdJ",
        "outputId": "2a57bf73-d7b3-446c-f8d9-edbae96fef8e"
      },
      "execution_count": 1,
      "outputs": [
        {
          "output_type": "stream",
          "name": "stdout",
          "text": [
            "GPU 0: Tesla T4 (UUID: GPU-7d1cd0a3-efe2-7bc0-63b9-7d0f274b7070)\n"
          ]
        }
      ]
    },
    {
      "cell_type": "code",
      "source": [
        "# Check if the GPU is visable to PyTorch\n",
        "\n",
        "import torch\n",
        "\n",
        "print(torch.cuda.is_available())\n",
        "print(torch.cuda.get_device_name(0))\n",
        "\n",
        "gpu_memory = torch.cuda.mem_get_info(0)\n",
        "print(\"Free GPU memory:\", gpu_memory[0]/1024**2, \"out of:\", gpu_memory[1]/1024**2)"
      ],
      "metadata": {
        "id": "kytov5FrlXYX",
        "colab": {
          "base_uri": "https://localhost:8080/"
        },
        "outputId": "ad2945d2-8b23-433e-be1f-00233a4dd964"
      },
      "execution_count": 2,
      "outputs": [
        {
          "output_type": "stream",
          "name": "stdout",
          "text": [
            "True\n",
            "Tesla T4\n",
            "Free GPU memory: 14998.8125 out of: 15101.8125\n"
          ]
        }
      ]
    },
    {
      "cell_type": "markdown",
      "source": [
        "### 2. Entrenamiento"
      ],
      "metadata": {
        "id": "tFxOgHQtldLp"
      }
    },
    {
      "cell_type": "code",
      "source": [
        "!ls"
      ],
      "metadata": {
        "colab": {
          "base_uri": "https://localhost:8080/"
        },
        "id": "BANWqrZLmTUu",
        "outputId": "07c57937-2c1a-4080-a663-537c95fbcf85"
      },
      "execution_count": 4,
      "outputs": [
        {
          "output_type": "stream",
          "name": "stdout",
          "text": [
            "sample_data\n"
          ]
        }
      ]
    },
    {
      "cell_type": "code",
      "source": [
        "%%time\n",
        "!onmt_train -config config.yaml"
      ],
      "metadata": {
        "colab": {
          "base_uri": "https://localhost:8080/"
        },
        "id": "lRJ_v9fvmxXa",
        "outputId": "09fd3839-61b4-4197-c62f-e41ea2b3a99d"
      },
      "execution_count": null,
      "outputs": [
        {
          "output_type": "stream",
          "name": "stdout",
          "text": [
            "2023-11-11 05:19:21.447202: E tensorflow/compiler/xla/stream_executor/cuda/cuda_dnn.cc:9342] Unable to register cuDNN factory: Attempting to register factory for plugin cuDNN when one has already been registered\n",
            "2023-11-11 05:19:21.447249: E tensorflow/compiler/xla/stream_executor/cuda/cuda_fft.cc:609] Unable to register cuFFT factory: Attempting to register factory for plugin cuFFT when one has already been registered\n",
            "2023-11-11 05:19:21.447286: E tensorflow/compiler/xla/stream_executor/cuda/cuda_blas.cc:1518] Unable to register cuBLAS factory: Attempting to register factory for plugin cuBLAS when one has already been registered\n",
            "2023-11-11 05:19:21.455494: I tensorflow/core/platform/cpu_feature_guard.cc:182] This TensorFlow binary is optimized to use available CPU instructions in performance-critical operations.\n",
            "To enable the following instructions: AVX2 FMA, in other operations, rebuild TensorFlow with the appropriate compiler flags.\n",
            "2023-11-11 05:19:22.760486: W tensorflow/compiler/tf2tensorrt/utils/py_utils.cc:38] TF-TRT Warning: Could not find TensorRT\n",
            "2023-11-11 05:19:24.358505: I tensorflow/compiler/xla/stream_executor/cuda/cuda_gpu_executor.cc:894] successful NUMA node read from SysFS had negative value (-1), but there must be at least one NUMA node, so returning NUMA node zero. See more at https://github.com/torvalds/linux/blob/v6.0/Documentation/ABI/testing/sysfs-bus-pci#L344-L355\n",
            "2023-11-11 05:19:24.359051: I tensorflow/compiler/xla/stream_executor/cuda/cuda_gpu_executor.cc:894] successful NUMA node read from SysFS had negative value (-1), but there must be at least one NUMA node, so returning NUMA node zero. See more at https://github.com/torvalds/linux/blob/v6.0/Documentation/ABI/testing/sysfs-bus-pci#L344-L355\n",
            "2023-11-11 05:19:24.359262: I tensorflow/compiler/xla/stream_executor/cuda/cuda_gpu_executor.cc:894] successful NUMA node read from SysFS had negative value (-1), but there must be at least one NUMA node, so returning NUMA node zero. See more at https://github.com/torvalds/linux/blob/v6.0/Documentation/ABI/testing/sysfs-bus-pci#L344-L355\n",
            "[2023-11-11 05:19:25,154 WARNING] Corpus corpus_1's weight should be given. We default it to 1 for you.\n",
            "[2023-11-11 05:19:25,401 INFO] Parsed 2 corpora from -data.\n",
            "[2023-11-11 05:19:25,402 INFO] Get special vocabs from Transforms: {'src': [], 'tgt': []}.\n",
            "[2023-11-11 05:19:25,514 INFO] The first 10 tokens of the vocabs are:['<unk>', '<blank>', '<s>', '</s>', '▁the', ',', '▁of', '▁and', '▁', '▁to']\n",
            "[2023-11-11 05:19:25,514 INFO] The decoder start token is: <s>\n",
            "[2023-11-11 05:19:25,514 INFO] Building model...\n",
            "[2023-11-11 05:19:26,876 INFO] Switching model to float32 for amp/apex_amp\n",
            "[2023-11-11 05:19:26,876 INFO] Non quantized layer compute is fp16\n",
            "[2023-11-11 05:19:27,216 INFO] NMTModel(\n",
            "  (encoder): TransformerEncoder(\n",
            "    (embeddings): Embeddings(\n",
            "      (make_embedding): Sequential(\n",
            "        (emb_luts): Elementwise(\n",
            "          (0): Embedding(12064, 512, padding_idx=1)\n",
            "        )\n",
            "        (pe): PositionalEncoding()\n",
            "      )\n",
            "      (dropout): Dropout(p=0.1, inplace=False)\n",
            "    )\n",
            "    (transformer): ModuleList(\n",
            "      (0-5): 6 x TransformerEncoderLayer(\n",
            "        (self_attn): MultiHeadedAttention(\n",
            "          (linear_keys): Linear(in_features=512, out_features=512, bias=False)\n",
            "          (linear_values): Linear(in_features=512, out_features=512, bias=False)\n",
            "          (linear_query): Linear(in_features=512, out_features=512, bias=False)\n",
            "          (softmax): Softmax(dim=-1)\n",
            "          (dropout): Dropout(p=0.1, inplace=False)\n",
            "          (final_linear): Linear(in_features=512, out_features=512, bias=False)\n",
            "        )\n",
            "        (feed_forward): PositionwiseFeedForward(\n",
            "          (w_1): Linear(in_features=512, out_features=2048, bias=False)\n",
            "          (w_2): Linear(in_features=2048, out_features=512, bias=False)\n",
            "          (layer_norm): LayerNorm((512,), eps=1e-06, elementwise_affine=True)\n",
            "          (dropout_1): Dropout(p=0.1, inplace=False)\n",
            "          (dropout_2): Dropout(p=0.1, inplace=False)\n",
            "        )\n",
            "        (layer_norm): LayerNorm((512,), eps=1e-06, elementwise_affine=True)\n",
            "        (dropout): Dropout(p=0.1, inplace=False)\n",
            "      )\n",
            "    )\n",
            "    (layer_norm): LayerNorm((512,), eps=1e-06, elementwise_affine=True)\n",
            "  )\n",
            "  (decoder): TransformerDecoder(\n",
            "    (embeddings): Embeddings(\n",
            "      (make_embedding): Sequential(\n",
            "        (emb_luts): Elementwise(\n",
            "          (0): Embedding(16096, 512, padding_idx=1)\n",
            "        )\n",
            "        (pe): PositionalEncoding()\n",
            "      )\n",
            "      (dropout): Dropout(p=0.1, inplace=False)\n",
            "    )\n",
            "    (layer_norm): LayerNorm((512,), eps=1e-06, elementwise_affine=True)\n",
            "    (transformer_layers): ModuleList(\n",
            "      (0-5): 6 x TransformerDecoderLayer(\n",
            "        (self_attn): MultiHeadedAttention(\n",
            "          (linear_keys): Linear(in_features=512, out_features=512, bias=False)\n",
            "          (linear_values): Linear(in_features=512, out_features=512, bias=False)\n",
            "          (linear_query): Linear(in_features=512, out_features=512, bias=False)\n",
            "          (softmax): Softmax(dim=-1)\n",
            "          (dropout): Dropout(p=0.1, inplace=False)\n",
            "          (final_linear): Linear(in_features=512, out_features=512, bias=False)\n",
            "        )\n",
            "        (feed_forward): PositionwiseFeedForward(\n",
            "          (w_1): Linear(in_features=512, out_features=2048, bias=False)\n",
            "          (w_2): Linear(in_features=2048, out_features=512, bias=False)\n",
            "          (layer_norm): LayerNorm((512,), eps=1e-06, elementwise_affine=True)\n",
            "          (dropout_1): Dropout(p=0.1, inplace=False)\n",
            "          (dropout_2): Dropout(p=0.1, inplace=False)\n",
            "        )\n",
            "        (layer_norm_1): LayerNorm((512,), eps=1e-06, elementwise_affine=True)\n",
            "        (dropout): Dropout(p=0.1, inplace=False)\n",
            "        (context_attn): MultiHeadedAttention(\n",
            "          (linear_keys): Linear(in_features=512, out_features=512, bias=False)\n",
            "          (linear_values): Linear(in_features=512, out_features=512, bias=False)\n",
            "          (linear_query): Linear(in_features=512, out_features=512, bias=False)\n",
            "          (softmax): Softmax(dim=-1)\n",
            "          (dropout): Dropout(p=0.1, inplace=False)\n",
            "          (final_linear): Linear(in_features=512, out_features=512, bias=False)\n",
            "        )\n",
            "        (layer_norm_2): LayerNorm((512,), eps=1e-06, elementwise_affine=True)\n",
            "      )\n",
            "    )\n",
            "  )\n",
            "  (generator): Linear(in_features=512, out_features=16096, bias=True)\n",
            ")\n",
            "[2023-11-11 05:19:27,221 INFO] encoder: 25064448\n",
            "[2023-11-11 05:19:27,221 INFO] decoder: 41683680\n",
            "[2023-11-11 05:19:27,221 INFO] * number of parameters: 66748128\n",
            "[2023-11-11 05:19:27,222 INFO] Trainable parameters = {'torch.float32': 66748128, 'torch.float16': 0, 'torch.uint8': 0, 'torch.int8': 0}\n",
            "[2023-11-11 05:19:27,222 INFO] Non trainable parameters = {'torch.float32': 0, 'torch.float16': 0, 'torch.uint8': 0, 'torch.int8': 0}\n",
            "[2023-11-11 05:19:27,223 INFO]  * src vocab size = 12064\n",
            "[2023-11-11 05:19:27,223 INFO]  * tgt vocab size = 16096\n",
            "[2023-11-11 05:19:27,750 INFO] Weighted corpora loaded so far:\n",
            "\t\t\t* corpus_1: 1\n",
            "[2023-11-11 05:19:27,751 INFO] Starting training on GPU: [0]\n",
            "[2023-11-11 05:19:27,751 INFO] Start training loop and validate every 1000 steps...\n",
            "[2023-11-11 05:19:27,751 INFO] Scoring with: TransformPipe(FilterTooLongTransform(src_seq_length=150, tgt_seq_length=192))\n",
            "[2023-11-11 05:19:33,057 INFO] Weighted corpora loaded so far:\n",
            "\t\t\t* corpus_1: 2\n",
            "[2023-11-11 05:19:39,179 INFO] Weighted corpora loaded so far:\n",
            "\t\t\t* corpus_1: 3\n",
            "[2023-11-11 05:19:48,096 INFO] Weighted corpora loaded so far:\n",
            "\t\t\t* corpus_1: 4\n",
            "[2023-11-11 05:19:56,727 INFO] Weighted corpora loaded so far:\n",
            "\t\t\t* corpus_1: 5\n",
            "[2023-11-11 05:21:18,069 INFO] Step 100/ 3000; acc: 8.2; ppl: 2066.4; xent: 7.6; lr: 0.00028; sents:   27378; bsz: 3340/3758/68; 12112/13625 tok/s;    110 sec;\n",
            "[2023-11-11 05:22:12,717 INFO] Step 200/ 3000; acc: 25.1; ppl: 181.4; xent: 5.2; lr: 0.00056; sents:   27505; bsz: 3366/3766/69; 24641/27563 tok/s;    165 sec;\n",
            "[2023-11-11 05:22:44,632 INFO] * Transform statistics for corpus_1(100.00%):\n",
            "\t\t\t* FilterTooLongStats(filtered=13370)\n",
            "\n",
            "[2023-11-11 05:22:44,632 INFO] Weighted corpora loaded so far:\n",
            "\t\t\t* corpus_1: 6\n",
            "[2023-11-11 05:22:48,832 INFO] Weighted corpora loaded so far:\n",
            "\t\t\t* corpus_1: 7\n",
            "[2023-11-11 05:22:59,620 INFO] Weighted corpora loaded so far:\n",
            "\t\t\t* corpus_1: 8\n",
            "[2023-11-11 05:23:07,837 INFO] Weighted corpora loaded so far:\n",
            "\t\t\t* corpus_1: 9\n",
            "[2023-11-11 05:23:18,239 INFO] Weighted corpora loaded so far:\n",
            "\t\t\t* corpus_1: 10\n",
            "[2023-11-11 05:24:12,543 INFO] Step 300/ 3000; acc: 37.1; ppl:  68.0; xent: 4.2; lr: 0.00084; sents:   27238; bsz: 3370/3776/68; 11250/12607 tok/s;    285 sec;\n",
            "[2023-11-11 05:25:07,333 INFO] Step 400/ 3000; acc: 43.2; ppl:  44.3; xent: 3.8; lr: 0.00112; sents:   26296; bsz: 3355/3770/66; 24491/27523 tok/s;    340 sec;\n",
            "[2023-11-11 05:26:02,456 INFO] Step 500/ 3000; acc: 51.0; ppl:  30.1; xent: 3.4; lr: 0.00140; sents:   28936; bsz: 3364/3771/72; 24412/27364 tok/s;    395 sec;\n",
            "[2023-11-11 05:26:15,474 INFO] * Transform statistics for corpus_1(100.00%):\n",
            "\t\t\t* FilterTooLongStats(filtered=13416)\n",
            "\n",
            "[2023-11-11 05:26:15,475 INFO] Weighted corpora loaded so far:\n",
            "\t\t\t* corpus_1: 11\n",
            "[2023-11-11 05:26:22,510 INFO] Weighted corpora loaded so far:\n",
            "\t\t\t* corpus_1: 12\n",
            "[2023-11-11 05:26:31,616 INFO] Weighted corpora loaded so far:\n",
            "\t\t\t* corpus_1: 13\n",
            "[2023-11-11 05:26:39,044 INFO] Weighted corpora loaded so far:\n",
            "\t\t\t* corpus_1: 14\n",
            "[2023-11-11 05:28:09,330 INFO] Step 600/ 3000; acc: 59.4; ppl:  20.5; xent: 3.0; lr: 0.00168; sents:   28097; bsz: 3364/3768/70; 10607/11881 tok/s;    522 sec;\n",
            "[2023-11-11 05:29:03,675 INFO] Step 700/ 3000; acc: 63.9; ppl:  16.9; xent: 2.8; lr: 0.00196; sents:   27295; bsz: 3356/3774/68; 24704/27775 tok/s;    576 sec;\n",
            "[2023-11-11 05:29:40,652 INFO] * Transform statistics for corpus_1(100.00%):\n",
            "\t\t\t* FilterTooLongStats(filtered=13391)\n",
            "\n",
            "[2023-11-11 05:29:40,652 INFO] Weighted corpora loaded so far:\n",
            "\t\t\t* corpus_1: 15\n",
            "[2023-11-11 05:29:45,481 INFO] Weighted corpora loaded so far:\n",
            "\t\t\t* corpus_1: 16\n",
            "[2023-11-11 05:29:55,701 INFO] Weighted corpora loaded so far:\n",
            "\t\t\t* corpus_1: 17\n",
            "[2023-11-11 05:30:01,084 INFO] Weighted corpora loaded so far:\n",
            "\t\t\t* corpus_1: 18\n",
            "[2023-11-11 05:30:13,077 INFO] Weighted corpora loaded so far:\n",
            "\t\t\t* corpus_1: 19\n",
            "[2023-11-11 05:31:03,321 INFO] Step 800/ 3000; acc: 66.4; ppl:  14.8; xent: 2.7; lr: 0.00224; sents:   28099; bsz: 3359/3773/70; 11231/12614 tok/s;    696 sec;\n",
            "[2023-11-11 05:31:58,261 INFO] Step 900/ 3000; acc: 67.5; ppl:  14.0; xent: 2.6; lr: 0.00252; sents:   27528; bsz: 3330/3744/69; 24247/27263 tok/s;    751 sec;\n",
            "[2023-11-11 05:32:53,147 INFO] Step 1000/ 3000; acc: 67.9; ppl:  13.7; xent: 2.6; lr: 0.00279; sents:   26547; bsz: 3382/3791/66; 24646/27631 tok/s;    805 sec;\n",
            "[2023-11-11 05:32:55,486 INFO] valid stats calculation\n",
            "                           took: 2.3367221355438232 s.\n",
            "[2023-11-11 05:32:55,489 INFO] Train perplexity: 44.8645\n",
            "[2023-11-11 05:32:55,489 INFO] Train accuracy: 48.9959\n",
            "[2023-11-11 05:32:55,489 INFO] Sentences processed: 274919\n",
            "[2023-11-11 05:32:55,489 INFO] Average bsz: 3359/3769/69\n",
            "[2023-11-11 05:32:55,489 INFO] Validation perplexity: 14.4485\n",
            "[2023-11-11 05:32:55,489 INFO] Validation accuracy: 66.981\n",
            "[2023-11-11 05:32:55,489 INFO] Model is improving ppl: inf --> 14.4485.\n",
            "[2023-11-11 05:32:55,489 INFO] Model is improving acc: -inf --> 66.981.\n",
            "[2023-11-11 05:32:55,500 INFO] Saving checkpoint models/model.fren_step_1000.pt\n",
            "[2023-11-11 05:34:22,208 INFO] * Transform statistics for corpus_1(100.00%):\n",
            "\t\t\t* FilterTooLongStats(filtered=13379)\n",
            "\n",
            "[2023-11-11 05:34:22,209 INFO] Weighted corpora loaded so far:\n",
            "\t\t\t* corpus_1: 20\n",
            "[2023-11-11 05:34:34,619 INFO] Weighted corpora loaded so far:\n",
            "\t\t\t* corpus_1: 21\n",
            "[2023-11-11 05:34:38,887 INFO] Weighted corpora loaded so far:\n",
            "\t\t\t* corpus_1: 22\n",
            "[2023-11-11 05:34:49,627 INFO] Weighted corpora loaded so far:\n",
            "\t\t\t* corpus_1: 23\n",
            "[2023-11-11 05:34:53,867 INFO] Weighted corpora loaded so far:\n",
            "\t\t\t* corpus_1: 24\n",
            "[2023-11-11 05:36:11,886 INFO] Step 1100/ 3000; acc: 69.3; ppl:  12.6; xent: 2.5; lr: 0.00266; sents:   25848; bsz: 3391/3780/65; 6825/7607 tok/s;   1004 sec;\n",
            "[2023-11-11 05:37:06,262 INFO] Step 1200/ 3000; acc: 70.6; ppl:  12.0; xent: 2.5; lr: 0.00255; sents:   29269; bsz: 3355/3765/73; 24682/27700 tok/s;   1059 sec;\n",
            "[2023-11-11 05:37:52,878 INFO] * Transform statistics for corpus_1(100.00%):\n",
            "\t\t\t* FilterTooLongStats(filtered=13397)\n",
            "\n",
            "[2023-11-11 05:37:52,879 INFO] Weighted corpora loaded so far:\n",
            "\t\t\t* corpus_1: 25\n",
            "[2023-11-11 05:38:08,323 INFO] Weighted corpora loaded so far:\n",
            "\t\t\t* corpus_1: 26\n",
            "[2023-11-11 05:38:13,114 INFO] Weighted corpora loaded so far:\n",
            "\t\t\t* corpus_1: 27\n",
            "[2023-11-11 05:38:18,838 INFO] Weighted corpora loaded so far:\n",
            "\t\t\t* corpus_1: 28\n",
            "[2023-11-11 05:39:13,633 INFO] Step 1300/ 3000; acc: 73.3; ppl:  10.6; xent: 2.4; lr: 0.00245; sents:   28315; bsz: 3360/3764/71; 10553/11820 tok/s;   1186 sec;\n",
            "[2023-11-11 05:40:08,987 INFO] Step 1400/ 3000; acc: 75.1; ppl:   9.6; xent: 2.3; lr: 0.00236; sents:   25922; bsz: 3358/3772/65; 24266/27255 tok/s;   1241 sec;\n",
            "[2023-11-11 05:41:04,160 INFO] Step 1500/ 3000; acc: 76.3; ppl:   9.2; xent: 2.2; lr: 0.00228; sents:   28128; bsz: 3347/3763/70; 24267/27284 tok/s;   1296 sec;\n",
            "[2023-11-11 05:41:23,053 INFO] * Transform statistics for corpus_1(100.00%):\n",
            "\t\t\t* FilterTooLongStats(filtered=13396)\n",
            "\n",
            "[2023-11-11 05:41:23,053 INFO] Weighted corpora loaded so far:\n",
            "\t\t\t* corpus_1: 29\n",
            "[2023-11-11 05:41:32,008 INFO] Weighted corpora loaded so far:\n",
            "\t\t\t* corpus_1: 30\n",
            "[2023-11-11 05:41:40,403 INFO] Weighted corpora loaded so far:\n",
            "\t\t\t* corpus_1: 31\n",
            "[2023-11-11 05:41:46,573 INFO] Weighted corpora loaded so far:\n",
            "\t\t\t* corpus_1: 32\n",
            "[2023-11-11 05:41:58,494 INFO] Weighted corpora loaded so far:\n",
            "\t\t\t* corpus_1: 33\n",
            "[2023-11-11 05:43:11,083 INFO] Step 1600/ 3000; acc: 78.7; ppl:   8.3; xent: 2.1; lr: 0.00221; sents:   28684; bsz: 3348/3764/72; 10551/11864 tok/s;   1423 sec;\n",
            "[2023-11-11 05:44:05,394 INFO] Step 1700/ 3000; acc: 79.6; ppl:   8.0; xent: 2.1; lr: 0.00214; sents:   26504; bsz: 3354/3767/66; 24704/27741 tok/s;   1478 sec;\n",
            "[2023-11-11 05:44:57,317 INFO] * Transform statistics for corpus_1(100.00%):\n",
            "\t\t\t* FilterTooLongStats(filtered=13381)\n",
            "\n",
            "[2023-11-11 05:44:57,317 INFO] Weighted corpora loaded so far:\n",
            "\t\t\t* corpus_1: 34\n",
            "[2023-11-11 05:45:04,734 INFO] Weighted corpora loaded so far:\n",
            "\t\t\t* corpus_1: 35\n",
            "[2023-11-11 05:45:16,764 INFO] Weighted corpora loaded so far:\n",
            "\t\t\t* corpus_1: 36\n",
            "[2023-11-11 05:45:23,466 INFO] Weighted corpora loaded so far:\n",
            "\t\t\t* corpus_1: 37\n",
            "[2023-11-11 05:45:27,795 INFO] Weighted corpora loaded so far:\n",
            "\t\t\t* corpus_1: 38\n",
            "[2023-11-11 05:46:09,825 INFO] Step 1800/ 3000; acc: 80.5; ppl:   7.8; xent: 2.0; lr: 0.00208; sents:   28110; bsz: 3369/3776/70; 10830/12139 tok/s;   1602 sec;\n",
            "[2023-11-11 05:47:04,734 INFO] Step 1900/ 3000; acc: 82.8; ppl:   7.0; xent: 2.0; lr: 0.00203; sents:   28218; bsz: 3355/3763/71; 24440/27410 tok/s;   1657 sec;\n",
            "[2023-11-11 05:47:59,233 INFO] Step 2000/ 3000; acc: 82.0; ppl:   7.3; xent: 2.0; lr: 0.00198; sents:   26316; bsz: 3353/3768/66; 24614/27660 tok/s;   1711 sec;\n",
            "[2023-11-11 05:47:59,581 INFO] * Transform statistics for valid(100.00%):\n",
            "\t\t\t* FilterTooLongStats(filtered=100)\n",
            "\n",
            "[2023-11-11 05:48:01,801 INFO] valid stats calculation\n",
            "                           took: 2.566058397293091 s.\n",
            "[2023-11-11 05:48:01,805 INFO] Train perplexity: 20.1707\n",
            "[2023-11-11 05:48:01,805 INFO] Train accuracy: 62.9065\n",
            "[2023-11-11 05:48:01,805 INFO] Sentences processed: 550233\n",
            "[2023-11-11 05:48:01,805 INFO] Average bsz: 3359/3769/69\n",
            "[2023-11-11 05:48:01,805 INFO] Validation perplexity: 8.41952\n",
            "[2023-11-11 05:48:01,805 INFO] Validation accuracy: 80.1834\n",
            "[2023-11-11 05:48:01,805 INFO] Model is improving ppl: 14.4485 --> 8.41952.\n",
            "[2023-11-11 05:48:01,805 INFO] Model is improving acc: 66.981 --> 80.1834.\n",
            "[2023-11-11 05:48:01,816 INFO] Saving checkpoint models/model.fren_step_2000.pt\n",
            "[2023-11-11 05:49:55,943 INFO] * Transform statistics for corpus_1(100.00%):\n",
            "\t\t\t* FilterTooLongStats(filtered=13406)\n",
            "\n",
            "[2023-11-11 05:49:55,944 INFO] Weighted corpora loaded so far:\n",
            "\t\t\t* corpus_1: 39\n",
            "[2023-11-11 05:50:07,132 INFO] Weighted corpora loaded so far:\n",
            "\t\t\t* corpus_1: 40\n",
            "[2023-11-11 05:50:14,062 INFO] Weighted corpora loaded so far:\n",
            "\t\t\t* corpus_1: 41\n",
            "[2023-11-11 05:50:19,128 INFO] Weighted corpora loaded so far:\n",
            "\t\t\t* corpus_1: 42\n",
            "[2023-11-11 05:51:28,983 INFO] Step 2100/ 3000; acc: 83.3; ppl:   6.9; xent: 1.9; lr: 0.00193; sents:   26535; bsz: 3349/3769/66; 6386/7189 tok/s;   1921 sec;\n",
            "[2023-11-11 05:52:23,706 INFO] Step 2200/ 3000; acc: 84.1; ppl:   6.7; xent: 1.9; lr: 0.00188; sents:   27702; bsz: 3381/3774/69; 24712/27587 tok/s;   1976 sec;\n",
            "[2023-11-11 05:53:18,827 INFO] * Transform statistics for corpus_1(100.00%):\n",
            "\t\t\t* FilterTooLongStats(filtered=13373)\n",
            "\n",
            "[2023-11-11 05:53:18,828 INFO] Weighted corpora loaded so far:\n",
            "\t\t\t* corpus_1: 43\n",
            "[2023-11-11 05:53:28,784 INFO] Weighted corpora loaded so far:\n",
            "\t\t\t* corpus_1: 44\n",
            "[2023-11-11 05:53:34,741 INFO] Weighted corpora loaded so far:\n",
            "\t\t\t* corpus_1: 45\n",
            "[2023-11-11 05:53:45,525 INFO] Weighted corpora loaded so far:\n",
            "\t\t\t* corpus_1: 46\n",
            "[2023-11-11 05:53:51,182 INFO] Weighted corpora loaded so far:\n",
            "\t\t\t* corpus_1: 47\n",
            "[2023-11-11 05:54:26,575 INFO] Step 2300/ 3000; acc: 84.8; ppl:   6.5; xent: 1.9; lr: 0.00184; sents:   28083; bsz: 3377/3773/70; 10993/12283 tok/s;   2099 sec;\n",
            "[2023-11-11 05:55:21,708 INFO] Step 2400/ 3000; acc: 86.2; ppl:   6.2; xent: 1.8; lr: 0.00180; sents:   28020; bsz: 3359/3770/70; 24370/27351 tok/s;   2154 sec;\n",
            "[2023-11-11 05:56:16,506 INFO] Step 2500/ 3000; acc: 86.1; ppl:   6.2; xent: 1.8; lr: 0.00177; sents:   25848; bsz: 3370/3773/65; 24600/27543 tok/s;   2209 sec;\n",
            "[2023-11-11 05:56:48,959 INFO] * Transform statistics for corpus_1(100.00%):\n",
            "\t\t\t* FilterTooLongStats(filtered=13397)\n",
            "\n",
            "[2023-11-11 05:56:48,959 INFO] Weighted corpora loaded so far:\n",
            "\t\t\t* corpus_1: 48\n",
            "[2023-11-11 05:56:53,526 INFO] Weighted corpora loaded so far:\n",
            "\t\t\t* corpus_1: 49\n",
            "[2023-11-11 05:57:05,450 INFO] Weighted corpora loaded so far:\n",
            "\t\t\t* corpus_1: 50\n",
            "[2023-11-11 05:57:10,326 INFO] Weighted corpora loaded so far:\n",
            "\t\t\t* corpus_1: 51\n",
            "[2023-11-11 05:57:21,668 INFO] Weighted corpora loaded so far:\n",
            "\t\t\t* corpus_1: 52\n",
            "[2023-11-11 05:58:15,049 INFO] Step 2600/ 3000; acc: 87.5; ppl:   5.9; xent: 1.8; lr: 0.00173; sents:   29402; bsz: 3313/3734/74; 11180/12601 tok/s;   2327 sec;\n",
            "[2023-11-11 05:59:09,868 INFO] Step 2700/ 3000; acc: 88.3; ppl:   5.7; xent: 1.7; lr: 0.00170; sents:   28115; bsz: 3377/3794/70; 24642/27687 tok/s;   2382 sec;\n",
            "[2023-11-11 06:00:04,710 INFO] Step 2800/ 3000; acc: 87.9; ppl:   5.8; xent: 1.8; lr: 0.00167; sents:   26150; bsz: 3378/3775/65; 24638/27535 tok/s;   2437 sec;\n",
            "[2023-11-11 06:00:20,920 INFO] * Transform statistics for corpus_1(100.00%):\n",
            "\t\t\t* FilterTooLongStats(filtered=13408)\n",
            "\n",
            "[2023-11-11 06:00:20,921 INFO] Weighted corpora loaded so far:\n",
            "\t\t\t* corpus_1: 53\n",
            "[2023-11-11 06:00:25,351 INFO] Weighted corpora loaded so far:\n",
            "\t\t\t* corpus_1: 54\n",
            "[2023-11-11 06:00:36,572 INFO] Weighted corpora loaded so far:\n",
            "\t\t\t* corpus_1: 55\n",
            "[2023-11-11 06:00:40,925 INFO] Weighted corpora loaded so far:\n",
            "\t\t\t* corpus_1: 56\n",
            "[2023-11-11 06:02:10,050 INFO] Step 2900/ 3000; acc: 89.7; ppl:   5.4; xent: 1.7; lr: 0.00164; sents:   26691; bsz: 3354/3756/67; 10702/11987 tok/s;   2562 sec;\n",
            "[2023-11-11 06:03:04,487 INFO] Step 3000/ 3000; acc: 89.3; ppl:   5.5; xent: 1.7; lr: 0.00161; sents:   28374; bsz: 3371/3797/71; 24767/27904 tok/s;   2617 sec;\n",
            "[2023-11-11 06:03:04,704 INFO] * Transform statistics for valid(100.00%):\n",
            "\t\t\t* FilterTooLongStats(filtered=100)\n",
            "\n",
            "[2023-11-11 06:03:06,687 INFO] valid stats calculation\n",
            "                           took: 2.197957992553711 s.\n",
            "[2023-11-11 06:03:06,690 INFO] Train perplexity: 13.5102\n",
            "[2023-11-11 06:03:06,690 INFO] Train accuracy: 70.8463\n",
            "[2023-11-11 06:03:06,690 INFO] Sentences processed: 825153\n",
            "[2023-11-11 06:03:06,690 INFO] Average bsz: 3360/3770/69\n",
            "[2023-11-11 06:03:06,691 INFO] Validation perplexity: 7.33405\n",
            "[2023-11-11 06:03:06,691 INFO] Validation accuracy: 84.3072\n",
            "[2023-11-11 06:03:06,691 INFO] Model is improving ppl: 8.41952 --> 7.33405.\n",
            "[2023-11-11 06:03:06,691 INFO] Model is improving acc: 80.1834 --> 84.3072.\n",
            "[2023-11-11 06:03:06,698 INFO] Saving checkpoint models/model.fren_step_3000.pt\n",
            "CPU times: user 15 s, sys: 2.53 s, total: 17.5 s\n",
            "Wall time: 45min 22s\n"
          ]
        }
      ]
    },
    {
      "cell_type": "markdown",
      "source": [
        "### 3. Traducción ⚛"
      ],
      "metadata": {
        "id": "_-zS0vGCRqYR"
      }
    },
    {
      "cell_type": "markdown",
      "source": [
        "Opciones para el modelo de traducción:\n",
        "- `-model`: especifica el modelo con el checkpoint a usar\n",
        "- `-src`: Dataset de test (tokenizado)\n",
        "- `-output`: Archivo donde se guardarán las traducciones\n",
        "- `-gpu`: Id de la GPU (usualmente 0), de otro modo la traducción se realiza en CPU\n",
        "- `-min_length`: Para evitar traducciones vacias (opcional)\n",
        "- `-verbose`: Si se quiere imprimir en pantalla las traducciones (opcional)"
      ],
      "metadata": {
        "id": "iBxR19qYRsUf"
      }
    },
    {
      "cell_type": "code",
      "source": [
        "!head UN.en-es.en-filtered.en.subword.test"
      ],
      "metadata": {
        "colab": {
          "base_uri": "https://localhost:8080/"
        },
        "id": "9EKJM4aWTqjG",
        "outputId": "a54cf32c-f605-4b15-ab3d-3dd4b58e6297"
      },
      "execution_count": 7,
      "outputs": [
        {
          "output_type": "stream",
          "name": "stdout",
          "text": [
            "▁ 2 . ▁Requests ▁the ▁Secretary - General ▁to ▁take ▁the ▁appropriate ▁steps ▁to ▁establish ▁cooperation ▁between ▁the ▁Unit ed ▁Nations ▁and ▁the ▁Economic ▁Community ▁of ▁Central ▁African ▁States ;\n",
            "▁Recalling ▁its ▁resolution ▁ 5 3 / 1 4 4 ▁of ▁ 9 ▁December ▁ 1 9 9 8 , ▁by ▁which ▁it ▁adopted ▁by ▁consensus ▁the ▁Declaration ▁on ▁the ▁Right ▁and ▁Responsibility ▁of ▁Individuals , ▁Groups ▁and ▁Organs ▁of ▁Society ▁to ▁Promot e ▁and ▁Protect ▁Universal ly ▁Recogniz ed ▁Human ▁Rights ▁and ▁F undamental ▁Freedoms , ▁annex ed ▁to ▁that ▁resolution ,\n",
            "▁Noting ▁with ▁concern ▁the ▁problem ▁of ▁unemployment ▁on ▁the ▁island ▁and ▁the ▁joint ▁action ▁of ▁the ▁administer ing ▁Power ▁and ▁the ▁territorial ▁Government ▁to ▁deal ▁with ▁it ,\n",
            "▁ 3 . ▁Encourages ▁the ▁Unit ed ▁Nations ▁Education al , ▁Scientific ▁and ▁Cultur al ▁Organization ▁to ▁continue ▁its ▁work ▁to ▁promote ▁a ▁greater ▁awareness ▁of ▁the ▁crucial ▁relationship ▁between ▁culture ▁and ▁development ;\n",
            "▁ 1 . ▁Take s ▁note ▁of ▁the ▁report ▁of ▁the ▁Panel ▁of ▁Government ▁Experts ▁on ▁verification ▁in ▁all ▁its ▁aspects , ▁including ▁the ▁role ▁of ▁the ▁Unit ed ▁Nations ▁in ▁the ▁field ▁of ▁verification , A / 6 1 / 1 0 2 8 . ▁transmitt ed ▁by ▁the ▁Secretary - General ▁on ▁ 1 5 ▁August ▁ 2 0 0 7 , ▁acknowledges ▁that ▁the ▁report ▁was ▁unanimous ly ▁approved ▁by ▁the ▁Panel ▁of ▁Government ▁Experts , ▁and ▁ commends ▁the ▁report ▁to ▁the ▁attention ▁of ▁Member ▁States ;\n",
            "▁ 8 3 . ▁Requests ▁the ▁Secretary - General ▁to ▁report ▁to ▁the ▁Committee ▁on ▁Information ▁at ▁its ▁twenty - ninth ▁session ▁on ▁the ▁activities ▁of ▁the ▁S teering ▁Committee ▁and ▁the ▁work ▁of ▁the ▁D ag ▁Hammar s kj ö ld ▁Library , ▁including ▁on ▁the ▁application ▁of ▁measures ▁to ▁enhance ▁the ▁effectiveness ▁of ▁the ▁libraries ▁within ▁exist ing ▁legislative ▁mandates ;\n",
            "▁ 5 . ▁Welcomes :\n",
            "▁Article ▁ 2 3\n",
            "▁Adopt ed ▁at ▁the ▁ 7 5 th ▁plenary ▁meeting , ▁on ▁ 1 7 ▁December ▁ 2 0 0 7 , ▁on ▁the ▁recommendation ▁of ▁the ▁Committee ▁( A / 6 2 / 4 0 5 , ▁para . ▁ 1 6 ), The ▁draft ▁resolution ▁recommended ▁in ▁the ▁report ▁was ▁ sponsored ▁in ▁the ▁Committee ▁by : ▁Algeria , ▁Bahra in , ▁Bangladesh , ▁Bru nei ▁Darussalam , ▁Comoros , ▁Cuba , ▁Djibouti , ▁Egypt , ▁Guinea , ▁Indonesia , ▁Iraq , ▁Jordan , ▁Kuwait , ▁Lebanon , ▁Malaysia , ▁Mali , ▁Mauritania , ▁Morocco , ▁O man , ▁ Q atar , ▁S audi ▁Arabia , ▁Senegal , ▁Somalia , ▁South ▁Africa , ▁Sudan , ▁Tunisia , ▁Unit ed ▁Arab ▁Emirates , ▁Venezuela ▁( Boliv arian ▁Republic ▁of ), ▁Yemen ▁and ▁Palestine . ▁by ▁a ▁recorded ▁vote ▁of ▁ 1 6 9 ▁to ▁ 6 , ▁with ▁ 3 ▁a bstentions , ▁as ▁follows :\n",
            "▁Adopt ed ▁at ▁the ▁ 6 1 st ▁plenary ▁meeting , ▁on ▁ 8 ▁December ▁ 2 0 0 5 , ▁on ▁the ▁recommendation ▁of ▁the ▁Committee ▁( A / 6 0 / 4 6 3 , ▁para . ▁ 9 4 ), The ▁draft ▁resolution ▁recommended ▁in ▁the ▁report ▁was ▁ sponsored ▁in ▁the ▁Committee ▁by ▁the ▁Russian ▁Federation . ▁by ▁a ▁recorded ▁vote ▁of ▁ 1 7 8 ▁to ▁ 1 , ▁with ▁ 1 ▁abstention , ▁as ▁follows :\n"
          ]
        }
      ]
    },
    {
      "cell_type": "code",
      "source": [
        "%%time\n",
        "!onmt_translate -model models/model.enes_step_3000.pt -src UN.en-es.en-filtered.en.subword.test -output UN.es-practice.translated -gpu 0 -min_length 1"
      ],
      "metadata": {
        "colab": {
          "base_uri": "https://localhost:8080/"
        },
        "id": "VLHnTbyITAPe",
        "outputId": "fd1e7ecc-4387-4946-ee59-6c4989967204"
      },
      "execution_count": 10,
      "outputs": [
        {
          "output_type": "stream",
          "name": "stdout",
          "text": [
            "2023-11-13 23:04:24.669524: E tensorflow/compiler/xla/stream_executor/cuda/cuda_dnn.cc:9342] Unable to register cuDNN factory: Attempting to register factory for plugin cuDNN when one has already been registered\n",
            "2023-11-13 23:04:24.669595: E tensorflow/compiler/xla/stream_executor/cuda/cuda_fft.cc:609] Unable to register cuFFT factory: Attempting to register factory for plugin cuFFT when one has already been registered\n",
            "2023-11-13 23:04:24.669646: E tensorflow/compiler/xla/stream_executor/cuda/cuda_blas.cc:1518] Unable to register cuBLAS factory: Attempting to register factory for plugin cuBLAS when one has already been registered\n",
            "2023-11-13 23:04:24.682089: I tensorflow/core/platform/cpu_feature_guard.cc:182] This TensorFlow binary is optimized to use available CPU instructions in performance-critical operations.\n",
            "To enable the following instructions: AVX2 FMA, in other operations, rebuild TensorFlow with the appropriate compiler flags.\n",
            "2023-11-13 23:04:26.434905: W tensorflow/compiler/tf2tensorrt/utils/py_utils.cc:38] TF-TRT Warning: Could not find TensorRT\n",
            "2023-11-13 23:04:28.065902: I tensorflow/compiler/xla/stream_executor/cuda/cuda_gpu_executor.cc:894] successful NUMA node read from SysFS had negative value (-1), but there must be at least one NUMA node, so returning NUMA node zero. See more at https://github.com/torvalds/linux/blob/v6.0/Documentation/ABI/testing/sysfs-bus-pci#L344-L355\n",
            "2023-11-13 23:04:28.066489: I tensorflow/compiler/xla/stream_executor/cuda/cuda_gpu_executor.cc:894] successful NUMA node read from SysFS had negative value (-1), but there must be at least one NUMA node, so returning NUMA node zero. See more at https://github.com/torvalds/linux/blob/v6.0/Documentation/ABI/testing/sysfs-bus-pci#L344-L355\n",
            "2023-11-13 23:04:28.066690: I tensorflow/compiler/xla/stream_executor/cuda/cuda_gpu_executor.cc:894] successful NUMA node read from SysFS had negative value (-1), but there must be at least one NUMA node, so returning NUMA node zero. See more at https://github.com/torvalds/linux/blob/v6.0/Documentation/ABI/testing/sysfs-bus-pci#L344-L355\n",
            "[2023-11-13 23:04:29,220 INFO] Loading checkpoint from models/model.enes_step_3000.pt\n",
            "[2023-11-13 23:04:37,767 INFO] Loading data into the model\n",
            "[2023-11-13 23:06:21,507 INFO] PRED SCORE: -0.2250, PRED PPL: 1.25 NB SENTENCES: 2000\n",
            "Time w/o python interpreter load/terminate:  112.31752395629883\n",
            "CPU times: user 730 ms, sys: 123 ms, total: 853 ms\n",
            "Wall time: 2min 3s\n"
          ]
        }
      ]
    },
    {
      "cell_type": "code",
      "source": [
        "!tail -n 40 UN.en-es.en-filtered.en.subword.test"
      ],
      "metadata": {
        "colab": {
          "base_uri": "https://localhost:8080/"
        },
        "id": "KvO2l-lDCMHc",
        "outputId": "8cce7683-307a-4aa6-e1e5-c2776a69b0d8"
      },
      "execution_count": 20,
      "outputs": [
        {
          "output_type": "stream",
          "name": "stdout",
          "text": [
            "▁ 5 . ▁A lso ▁welcomes ▁the ▁on going ▁efforts ▁of ▁UN - Habitat ▁to ▁develop ▁a ▁results - based ▁and ▁less ▁fragment ed ▁budget ▁structure ▁with ▁a ▁view ▁to ▁secur ing ▁maxim um ▁efficiency , ▁accountability ▁and ▁transparency ▁in ▁programme ▁delivery ▁regard less ▁of ▁funding ▁source ;\n",
            "▁Hav ing ▁further ▁considered ▁the ▁report ▁of ▁the ▁Joint ▁Inspection ▁Unit ▁on ▁the ▁experience ▁of ▁Unit ed ▁Nations ▁system ▁organizations ▁with ▁results - based ▁budgeting ▁techniques , See ▁A / 5 4 / 2 8 7 . ▁as ▁well ▁as ▁the ▁comments ▁of ▁the ▁Secretary - General ▁thereon , See ▁A / 5 4 / 2 8 7 / Add . 1 .\n",
            "▁ 1 0 . ▁Requests ▁the ▁Commissioner - General ▁to ▁proceed ▁with ▁the ▁issuance ▁of ▁identification ▁ cards ▁for ▁Palestine ▁refugees ▁and ▁their ▁descendants ▁in ▁the ▁O ccupied ▁Palestinian ▁Territory ;\n",
            "▁ 3 . ▁Expresses ▁its ▁appreciation ▁to ▁th ose ▁Member ▁States ▁that ▁have ▁paid ▁their ▁assessed ▁contributions ▁in ▁full , ▁and ▁urges ▁all ▁other ▁Member ▁States ▁to ▁make ▁every ▁possible ▁effort ▁to ▁ensure ▁payment ▁of ▁their ▁assessed ▁contributions ▁to ▁the ▁Force ▁in ▁full ;\n",
            "▁Express ing ▁its ▁profound ▁gra titude ▁to ▁the ▁Governments ▁and ▁the ▁peoples ▁of ▁Indonesia ▁and ▁South ▁Africa ▁for ▁hosting , ▁respectively , ▁the ▁fourth ▁Preparat ory ▁Committee ▁meeting ▁and ▁the ▁Summit , ▁for ▁the ▁excellen t ▁arrangements , ▁for ▁the ▁hospital ity ▁extended ▁to ▁participants ▁and ▁for ▁the ▁facilities , ▁staff ▁and ▁services ▁placed ▁at ▁their ▁disposal ,\n",
            "▁Adopt ed ▁at ▁the ▁ 7 5 th ▁plenary ▁meeting , ▁on ▁ 1 6 ▁December ▁ 2 0 0 2 , ▁with out ▁a ▁vote , ▁on ▁the ▁basis ▁of ▁draft ▁resolution ▁A / 5 7 / L . 6 1 , ▁submitted ▁by ▁the ▁President ▁of ▁the ▁General ▁Assembly\n",
            "▁ 8 0 . ▁Encourages ▁relevant ▁coast al ▁States ▁and ▁States ▁fishing ▁on ▁the ▁high ▁seas ▁for ▁a ▁stra ddl ing ▁fish ▁stock ▁or ▁a ▁high ly ▁migrat ory ▁fish ▁stock , ▁where ▁there ▁is ▁no ▁subregional ▁or ▁regional ▁fisheries ▁management ▁organization ▁or ▁arrangement ▁to ▁establish ▁conservation ▁and ▁management ▁measures ▁for ▁such ▁stocks , ▁to ▁cooperate ▁to ▁establish ▁such ▁an ▁organization ▁or ▁enter ▁into ▁another ▁appropriate ▁arrangement ▁to ▁ensure ▁the ▁conservation ▁and ▁management ▁of ▁such ▁stocks , ▁and ▁to ▁participate ▁in ▁the ▁work ▁of ▁the ▁organization ▁or ▁arrangement ;\n",
            "▁ 1 8 . ▁Calls ▁upon ▁all ▁States ▁to ▁protect ▁and ▁promote ▁all ▁human ▁rights ▁of ▁migrant ▁children , ▁in ▁particular ▁unaccompanied ▁migrant ▁children , ▁ensuring ▁that ▁the ▁best ▁interests ▁of ▁the ▁children ▁are ▁a ▁primary ▁consideration , ▁underline s ▁the ▁importance ▁of ▁reunit ing ▁them ▁with ▁their ▁parents , ▁when ▁possible , ▁and ▁encourages ▁the ▁relevant ▁Unit ed ▁Nations ▁bodies , ▁within ▁the ▁framework ▁of ▁their ▁respective ▁mandates , ▁to ▁pay ▁special ▁attention ▁to ▁the ▁conditions ▁of ▁migrant ▁children ▁in ▁all ▁States ▁and , ▁where ▁necessary , ▁to ▁put ▁forward ▁recommendations ▁for ▁strengthening ▁their ▁protection ;\n",
            "▁Welcoming ▁also ▁the ▁efforts ▁and ▁the ▁consisten cy ▁in ▁the ▁work ▁of ▁the ▁Work ing ▁Group ▁on ▁the ▁Future ▁Operation ▁of ▁the ▁International ▁Research ▁and ▁Training ▁Institute ▁for ▁the ▁A dvancement ▁of ▁Women ▁in ▁promoting ▁a ▁comprehensive ▁approach ▁to ▁the ▁revitalization ▁and ▁strengthening ▁of ▁the ▁Institute , ▁which ▁has ▁ led ▁to ▁the ▁adoption ▁of ▁important ▁institutional ▁and ▁political ▁changes ▁that ▁are ▁contributing ▁to ▁the ▁strengthening ▁of ▁the ▁Institute ,\n",
            "▁ 1 . ▁Condemns ▁all ▁forms ▁of ▁torture ▁and ▁other ▁cruel , ▁inhuman ▁or ▁degrading ▁treatment ▁or ▁punishment , ▁including ▁through ▁intimidation , ▁which ▁are ▁and ▁shall ▁remain ▁prohibited ▁at ▁any ▁time ▁and ▁in ▁any ▁place ▁whatsoever ▁and ▁can ▁thus ▁never ▁be ▁justified , ▁and ▁calls ▁upon ▁all ▁States ▁to ▁implement ▁fully ▁the ▁absolute ▁prohibition ▁of ▁torture ▁and ▁other ▁cruel , ▁inhuman ▁or ▁degrading ▁treatment ▁or ▁punishment ;\n",
            "▁ 4 . ▁Invites ▁Member ▁States ▁to ▁participate ▁in ▁the ▁plenary ▁meeting ( s ) ▁at ▁the ▁ministerial ▁level ▁or ▁at ▁the ▁high est ▁level ▁possible .\n",
            "▁ 1 . ▁Reaffirms ▁the ▁role ▁of ▁the ▁Conference ▁on ▁Disarmament ▁as ▁the ▁single ▁multilateral ▁disarmament ▁negotiat ing ▁forum ▁of ▁the ▁international ▁community ;\n",
            "▁ 5 . ▁Reaffirms ▁its ▁full ▁support ▁for ▁the ▁implementation ▁of ▁the ▁Declaration ▁of ▁Commitment ▁on ▁HIV / AIDS , ▁adopted ▁at ▁the ▁twenty - sixth ▁special ▁session ▁of ▁the ▁General ▁Assembly ▁on ▁ 2 7 ▁June ▁ 2 0 0 1 , Resolution ▁S - 2 6 / 2 , ▁annex . ▁and ▁the ▁Political ▁Declaration ▁on ▁HIV / AIDS , ▁adopted ▁by ▁the ▁Assembly ▁on ▁ 2 ▁June ▁ 2 0 0 6 ; Resolution ▁ 6 0 / 2 6 2 , ▁annex .\n",
            "▁ 5 . ▁A lso ▁recommends ▁that ▁the ▁Conference ▁on ▁Disarmament ▁actively ▁continue ▁intensive ▁negotiations ▁with ▁a ▁view ▁to ▁reach ing ▁early ▁agreement ▁and ▁concluding ▁effective ▁international ▁arrangements ▁to ▁assure ▁the ▁non - nuclear - weapon ▁States ▁against ▁the ▁use ▁or ▁threat ▁of ▁use ▁of ▁nuclear ▁weapons , ▁taking ▁into ▁account ▁the ▁w idespread ▁support ▁for ▁the ▁conclusion ▁of ▁an ▁international ▁convention ▁and ▁giving ▁consideration ▁to ▁any ▁other ▁proposals ▁designed ▁to ▁secure ▁the ▁same ▁objective ;\n",
            "▁ 3 0 . ▁Take s ▁note ▁of ▁the ▁report ▁of ▁the ▁Secretary - General ▁entitled ▁\" I ntegration ▁of ▁Unit ed ▁Nations ▁information ▁centres ▁with ▁field ▁offices ▁of ▁the ▁Unit ed ▁Nations ▁Development ▁Programme : ▁implementation ▁of ▁the ▁views ▁of ▁host ▁Governments \", A / AC . 1 9 8 / 2 0 0 1 / 4 . ▁welcomes ▁the ▁action ▁taken ▁by ▁the ▁Department ▁of ▁Public ▁Information ▁to ▁implement ▁the ▁views ▁of ▁th ose ▁host ▁Governments ▁as ▁expressed ▁in ▁their ▁replie s ▁to ▁the ▁questionnaire ▁provided ▁by ▁the ▁Secretariat , ▁and ▁requests ▁the ▁Secretary - General ▁to ▁take ▁the ▁necessary ▁steps ▁for ▁the ▁continued ▁implementation ▁of ▁th ose ▁views ▁and ▁to ▁report ▁thereon ▁to ▁the ▁Committee ▁on ▁Information ▁at ▁its ▁twenty - fourth ▁session ;\n",
            "▁Providing ▁training ▁to ▁facilitate ▁use ▁of ▁information ▁and ▁communications ▁technology\n",
            "▁ 5 5 / 2 0 9 . ▁P ermanent ▁sovereignty ▁of ▁the ▁Palestinian ▁people ▁in ▁the ▁O ccupied ▁Palestinian ▁Territory , ▁including ▁Jerusalem , ▁and ▁of ▁the ▁Arab ▁population ▁in ▁the ▁occupied ▁S yrian ▁Golan ▁over ▁their ▁natural ▁resources\n",
            "▁RESOLUTION ▁ 5 8 / 8 7\n",
            "▁Investigations\n",
            "▁RESOLUTION ▁ 6 2 / 1 4 8\n",
            "▁Welcoming ▁the ▁rapid ly ▁grow ing ▁interest ▁through out ▁the ▁world ▁in ▁the ▁creation ▁and ▁strengthening ▁of ▁independent , ▁pluralis tic ▁national ▁institutions ▁for ▁the ▁promotion ▁and ▁protection ▁of ▁human ▁rights ,\n",
            "▁Rais ing ▁awareness ▁ about ▁HIV / AIDS ▁prevention , ▁care ▁and ▁treatment ▁for ▁youth\n",
            "▁ 4 . ▁Urges ▁relevant ▁Unit ed ▁Nations ▁organizations , ▁as ▁well ▁as ▁other ▁relevant ▁international ▁organizations , ▁to ▁further ▁support ▁national ▁efforts ▁for ▁implementation ▁of ▁the ▁Declaration ▁of ▁Commitment ▁and ▁address ▁the ▁issue ▁of ▁the ▁cost , ▁availability ▁and ▁afford ability ▁of ▁drugs ▁and ▁related ▁technology ;\n",
            "▁Conscious ▁also ▁that ▁the ▁problems ▁of ▁ocean ▁space ▁are ▁close ly ▁interrelated ▁and ▁need ▁to ▁be ▁considered ▁as ▁a ▁whole ,\n",
            "▁ 1 . ▁Take s ▁note ▁with ▁appreciation ▁of ▁the ▁report ▁of ▁the ▁Secretary - General ▁on ▁the ▁progress ▁made ▁in ▁the ▁implementation ▁of ▁General ▁Assembly ▁resolution ▁ 5 5 / 6 4 ▁of ▁ 4 ▁December ▁ 2 0 0 0 ; A / 5 6 / 1 5 5 .\n",
            "▁RESOLUTION ▁ 5 9 / 9 0\n",
            "▁ 1 5 . ▁Urges ▁States ▁to ▁formulate ▁comprehensive , ▁multi disciplinary ▁and ▁coordinated ▁national ▁plans , ▁programmes ▁or ▁strategies ▁to ▁eliminate ▁all ▁forms ▁of ▁violence ▁against ▁women ▁and ▁girls , ▁which ▁should ▁be ▁widely ▁disseminated ▁and ▁should ▁provide ▁targets ▁and ▁timetables ▁for ▁implementation , ▁as ▁well ▁as ▁effective ▁domestic ▁enforcement ▁procedures ▁through ▁the ▁establishment ▁of ▁monitoring ▁mechanisms ▁involving ▁all ▁parties ▁concerned , ▁including ▁consultations ▁with ▁women ' s ▁organizations , ▁giving ▁attention ▁to ▁the ▁recommendations ▁relating ▁to ▁the ▁girl ▁child ▁of ▁the ▁Special ▁Rapporteur ▁of ▁the ▁Commission ▁on ▁Human ▁Rights ▁on ▁violence ▁against ▁women , ▁its ▁causes ▁and ▁consequences ;\n",
            "▁ 1 0 . ▁Reaffirms ▁that ▁the ▁Commission ▁on ▁the ▁Status ▁of ▁Women ▁has ▁a ▁central ▁role ▁in ▁assisting ▁the ▁Council ▁in ▁monitoring , ▁assessing ▁progress ▁made ▁in ▁and ▁accelerating , ▁within ▁the ▁Unit ed ▁Nations ▁system , ▁the ▁implementation ▁of ▁the ▁Beijing ▁Platform ▁for ▁Action ▁and ▁the ▁outcome ▁of ▁the ▁twenty - third ▁special ▁session , ▁and ▁in ▁advis ing ▁the ▁Council ▁thereon ;\n",
            "▁ 2 1 . ▁A lso ▁welcomes ▁the ▁leadership ▁role ▁of ▁the ▁Pacific ▁Islands ▁Forum ▁in ▁further ing ▁the ▁implementation ▁of ▁the ▁ 1 9 9 5 ▁Agreement ▁for ▁the ▁Implementation ▁of ▁the ▁Provisions ▁of ▁the ▁Unit ed ▁Nations ▁Convention ▁on ▁the ▁Law ▁of ▁the ▁Sea ▁of ▁ 1 0 ▁December ▁ 1 9 8 2 ▁relating ▁to ▁the ▁C onservation ▁and ▁Management ▁of ▁Stra ddl ing ▁Fish ▁Stocks ▁and ▁High ly ▁Migrat ory ▁Fish ▁Stocks , Unit ed ▁Nations , ▁Treaty ▁Series , ▁vol . ▁ 2 1 6 7 , ▁No . ▁ 3 7 9 2 4 . ▁particularly ▁in ▁the ▁convening ▁of ▁the ▁negotiations ▁for , ▁and ▁the ▁adoption ▁of , ▁the ▁Convention ▁on ▁the ▁C onservation ▁and ▁Management ▁of ▁High ly ▁Migrat ory ▁Fish ▁Stocks ▁in ▁the ▁West ern ▁and ▁Central ▁Pacific ▁Ocean ;\n",
            "▁Adopt ed ▁at ▁the ▁ 8 1 st ▁plenary ▁meeting , ▁on ▁ 4 ▁December ▁ 2 0 0 0 , ▁on ▁the ▁recommendation ▁of ▁the ▁Committee ▁( A / 5 5 / 6 0 2 / Add . 3 , ▁para . ▁ 4 9 ), The ▁draft ▁resolution ▁recommended ▁in ▁the ▁report ▁was ▁ sponsored ▁in ▁the ▁Committee ▁by : ▁A ndor ra , ▁Australia , ▁Austria , ▁Belgium , ▁Bulgaria , ▁Canada , ▁Cost a ▁Rica , ▁Denmark , ▁Estonia , ▁Finland , ▁France , ▁Germany , ▁Greece , ▁Hungary , ▁Iceland , ▁Ireland , ▁Israel , ▁Italy , ▁Latvia , ▁Liechtenstein , ▁Lithuania , ▁Luxembourg , ▁Malta , ▁Monaco , ▁Netherlands , ▁Norway , ▁Poland , ▁Portugal , ▁San ▁Marin o , ▁Spain , ▁Sweden , ▁Unit ed ▁Kingdom ▁of ▁Great ▁Brit ain ▁and ▁North ern ▁Ireland ▁and ▁Unit ed ▁States ▁of ▁America . ▁by ▁a ▁recorded ▁vote ▁of ▁ 6 7 ▁to ▁ 5 4 , ▁with ▁ 4 6 ▁a bstentions , ▁as ▁follows :\n",
            "▁Adopt ed ▁at ▁the ▁ 6 2 nd ▁plenary ▁meeting , ▁on ▁ 8 ▁December ▁ 2 0 0 5 , ▁on ▁the ▁recommendation ▁of ▁the ▁Committee ▁( A / 6 0 / 4 7 6 , ▁para . ▁ 2 2 ), The ▁draft ▁resolution ▁recommended ▁in ▁the ▁report ▁was ▁ sponsored ▁in ▁the ▁Committee ▁by : ▁Algeria , ▁Austria , ▁Bahra in , ▁Bangladesh , ▁Belgium , ▁Bru nei ▁Darussalam , ▁Bulgaria , ▁Comoros , ▁Cuba , ▁Cyprus , ▁C ze ch ▁Republic , ▁Denmark , ▁Djibouti , ▁Egypt , ▁Estonia , ▁Finland , ▁France , ▁Germany , ▁Greece , ▁Guinea , ▁Hungary , ▁Indonesia , ▁Iraq , ▁Ireland , ▁Italy , ▁Jordan , ▁Kuwait , ▁Latvia , ▁Lebanon , ▁Lithuania , ▁Luxembourg , ▁Malaysia , ▁Mali , ▁Malta , ▁Mauritania , ▁Morocco , ▁Namibia , ▁Netherlands , ▁O man , ▁Poland , ▁Portugal , ▁ Q atar , ▁Romania , ▁S audi ▁Arabia , ▁Senegal , ▁Slovakia , ▁Slovenia , ▁Somalia , ▁South ▁Africa , ▁Spain , ▁Sudan , ▁Sweden , ▁Tunisia , ▁Unit ed ▁Arab ▁Emirates , ▁Unit ed ▁Kingdom ▁of ▁Great ▁Brit ain ▁and ▁North ern ▁Ireland , ▁Yemen ▁and ▁Palestine . ▁by ▁a ▁recorded ▁vote ▁of ▁ 1 6 0 ▁to ▁ 6 , ▁with ▁ 3 ▁a bstentions , ▁as ▁follows :\n",
            "▁Adopt ed ▁at ▁the ▁ 5 2 nd ▁plenary ▁meeting , ▁on ▁ 1 9 ▁November ▁ 2 0 0 2 , ▁with out ▁a ▁vote , ▁on ▁the ▁recommendation ▁of ▁the ▁Committee ▁( A / 5 7 / 5 7 3 , ▁para . ▁ 7 ) The ▁draft ▁resolution ▁recommended ▁in ▁the ▁report ▁was ▁ sponsored ▁in ▁the ▁Committee ▁by : ▁Australia , ▁Austria , ▁Denmark , ▁Finland , ▁Hungary , ▁Netherlands , ▁Norway , ▁Poland , ▁Slovakia , ▁Slovenia , ▁Spain , ▁Sweden , ▁Switzerland ▁and ▁ Z ambia .\n",
            "▁Adopt ed ▁at ▁the ▁ 7 7 th ▁plenary ▁meeting , ▁on ▁ 2 2 ▁December ▁ 2 0 0 3 , ▁on ▁the ▁recommendation ▁of ▁the ▁Committee ▁( A / 5 8 / 5 0 8 / Add . 2 , ▁para . ▁ 1 3 1 ), The ▁draft ▁resolution ▁recommended ▁in ▁the ▁report ▁was ▁ sponsored ▁in ▁the ▁Committee ▁by : ▁Algeria , ▁Angola , ▁Belarus , ▁Bur kina ▁Fa so , ▁Cambodia , ▁Cameroon , ▁China , ▁Congo , ▁Cuba , ▁Democrati c ▁People ' s ▁Republic ▁of ▁Korea , ▁Democrati c ▁Republic ▁of ▁the ▁Congo , ▁Eritrea , ▁Ethiopia , ▁Ghana , ▁Haiti , ▁Iran ▁( Islam ic ▁Republic ▁of ), ▁Jamaica , ▁Kenya , ▁La o ▁People ' s ▁Democrati c ▁Republic , ▁Lesotho , ▁Lib yan ▁Arab ▁Jamahiriya , ▁Malawi , ▁Mozambique , ▁Myanmar , ▁Namibia , ▁Nigeria , ▁Pakistan , ▁S aint ▁Lucia , ▁Sudan , ▁Suriname , ▁Swaziland , ▁Unit ed ▁Republic ▁of ▁Tanzania , ▁Viet ▁Nam ▁and ▁ Z imbabwe . ▁by ▁a ▁recorded ▁vote ▁of ▁ 1 0 6 ▁to ▁ 5 5 , ▁with ▁ 1 9 ▁a bstentions , ▁as ▁follows :\n",
            "▁ 8 . ▁Requests ▁the ▁Secretary - General ▁to ▁convene ▁the ▁fourteen th ▁Meeting ▁of ▁States ▁Parties ▁to ▁the ▁Convention ▁in ▁New ▁York ▁from ▁ 1 4 ▁to ▁ 1 8 ▁June ▁ 2 0 0 4 ▁and ▁to ▁provide ▁the ▁services ▁required ;\n",
            "▁ 1 0 . ▁Decides ▁to ▁include ▁in ▁the ▁provisional ▁agenda ▁of ▁its ▁fifty - sixth ▁session ▁the ▁item ▁entitled ▁\" T ransparency ▁in ▁armaments \".\n",
            "▁ 1 0 . ▁A lso ▁welcomes ▁the ▁importance ▁attached ▁by ▁the ▁parties ▁to ▁the ▁Mat ign on ▁and ▁No um é a ▁Accords ▁to ▁greater ▁progress ▁in ▁housing , ▁employment , ▁training , ▁education ▁and ▁health ▁care ▁in ▁New ▁Caledonia ;\n",
            "▁Recalling ▁also ▁that ▁the ▁Security ▁Council , ▁in ▁resolution ▁ 9 2 2 ▁( 1 9 9 4 ) ▁of ▁ 3 1 ▁May ▁ 1 9 9 4 ▁and ▁in ▁subsequent ▁resolutions ▁adopted ▁as ▁from ▁ 2 0 0 1 , ▁the ▁President ▁of ▁the ▁Security ▁Council , ▁in ▁statements ▁on ▁Angola , ▁and ▁the ▁General ▁Assembly , ▁in ▁all ▁of ▁its ▁resolutions ▁on ▁international ▁assistance ▁for ▁the ▁economic ▁rehabilitation ▁of ▁Angola , ▁have , ▁inter ▁alia , ▁call ed ▁upon ▁the ▁international ▁community ▁to ▁provide ▁economic ▁assistance ▁to ▁Angola ,\n",
            "▁( c ) ▁The ▁use ▁of ▁religion ▁or ▁belief ▁for ▁ends ▁in consistent ▁with ▁the ▁Charter ▁of ▁the ▁Unit ed ▁Nations ▁and ▁other ▁relevant ▁instruments ▁of ▁the ▁Unit ed ▁Nations ;\n",
            "▁Stressing ▁that ▁an ▁international ▁convention ▁on ▁the ▁prohibition ▁of ▁the ▁use ▁of ▁nuclear ▁weapons ▁would ▁be ▁an ▁important ▁step ▁in ▁a ▁phase d ▁programme ▁towards ▁the ▁complete ▁elimination ▁of ▁nuclear ▁weapons , ▁with ▁a ▁specified ▁framework ▁of ▁time ,\n",
            "▁ 1 . ▁Invites ▁Governments , ▁the ▁Unit ed ▁Nations , ▁its ▁funds ▁and ▁programmes , ▁the ▁specialized ▁agencies , ▁where ▁appropriate , ▁and ▁sport - related ▁institutions :\n"
          ]
        }
      ]
    },
    {
      "cell_type": "code",
      "source": [
        "!tail UN.es-practice.translated"
      ],
      "metadata": {
        "colab": {
          "base_uri": "https://localhost:8080/"
        },
        "id": "fF4McYLhUMW0",
        "outputId": "dab17f06-53f2-492d-b2e4-ee4690aa3084"
      },
      "execution_count": 14,
      "outputs": [
        {
          "output_type": "stream",
          "name": "stdout",
          "text": [
            "▁Aprobada ▁en ▁la ▁ 6 2 a ▁sesión ▁plenaria , ▁celebrada ▁el ▁ 8 ▁de ▁diciembre ▁de ▁ 2 0 0 5 , ▁por ▁recomendación ▁de ▁la ▁Comisión ▁( A / 6 0 / 4 7 6 , ▁párr . ▁ 2 2 ) El ▁proyecto ▁de ▁resolución ▁recomendado ▁en ▁el ▁informe ▁fue ▁patrocinado ▁en ▁la ▁Comisión ▁por ▁los ▁países ▁siguientes : ▁Alemania , ▁Arab ia ▁Saudita , ▁Argelia , ▁Bahr ein , ▁Bangladesh , ▁Bru nei ▁Darussalam , ▁Comoras , ▁Cuba , ▁Djibouti , ▁Egipto , ▁Emi ratos ▁Árabes ▁Unidos , ▁Guinea , ▁Indonesia , ▁Irán ▁( República ▁Islámica ▁del ), ▁Iraq , ▁Jordania , ▁Kuwait , ▁Líbano , ▁Malasia , ▁Malta , ▁Marruecos , ▁Namibia , ▁O mán , ▁ Q atar , ▁Senegal , ▁Somalia , ▁Sudáfrica , ▁Sudán , ▁Túnez , ▁Yemen ▁y ▁Palestina .\n",
            "▁Aprobada ▁en ▁la ▁ 5 2 a ▁sesión ▁plenaria , ▁celebrada ▁el ▁ 1 9 ▁de ▁noviembre ▁de ▁ 2 0 0 2 , ▁sin ▁votación , ▁por ▁recomendación ▁de ▁la ▁Comisión ▁( A / 5 7 / 5 3 3 , ▁párr . ▁ 7 ) El ▁proyecto ▁de ▁resolución ▁recomendado ▁en ▁el ▁informe ▁fue ▁patrocinado ▁en ▁la ▁Comisión ▁por ▁los ▁países ▁siguientes : ▁Australia , ▁Austria , ▁Bélgica , ▁Dinamarca , ▁Eslovaquia , ▁Eslovenia , ▁España , ▁Finlandia , ▁Finlandia , ▁Grecia , ▁Hungría , ▁Irlanda , ▁Islandia , ▁Italia , ▁Liechtenstein , ▁Lituania , ▁Luxemburgo , ▁Noruega , ▁País es ▁Bajos ▁y ▁Polonia .\n",
            "▁Aprobada ▁en ▁la ▁ 7 7 a ▁sesión ▁plenaria , ▁celebrada ▁el ▁ 2 2 ▁de ▁diciembre ▁de ▁ 2 0 0 3 , ▁por ▁recomendación ▁de ▁la ▁Comisión ▁( A / 5 8 / 5 0 8 / Add . 2 , ▁párr . ▁ 1 3 ) El ▁proyecto ▁de ▁resolución ▁recomendado ▁en ▁el ▁informe ▁fue ▁patrocinado ▁en ▁la ▁Comisión ▁por ▁los ▁países ▁siguientes : ▁Argelia , ▁Belarús , ▁Benin , ▁Bur kina ▁Fas o , ▁Camboya , ▁Camerún , ▁China , ▁Cuba , ▁Ecuador , ▁Filipinas , ▁Ghana , ▁Haití , ▁Irán ▁( República ▁Islámica ▁del ), ▁Jama hiri ya ▁Árabe ▁Libia , ▁Jordania , ▁Kenya , ▁Kuwait , ▁Malasia , ▁Marruecos , ▁Namibia , ▁O mán , ▁Pakistán , ▁ Z ambia ▁y ▁ 1 6 9 ., ▁en ▁votación ▁registrada ▁de ▁ 1 6 9 ▁votos ▁contra ▁ 6 ▁y ▁ 9 ▁abstenciones , ▁como ▁sigue :\n",
            "▁ 8 . ▁Pide ▁al ▁Secretario ▁General ▁que ▁convoque ▁la ▁ 1 4 a ▁reunión ▁de ▁los ▁Estados ▁Partes ▁en ▁la ▁Convención ▁en ▁Nueva ▁York ▁del ▁ 1 4 ▁al ▁ 1 8 ▁de ▁junio ▁de ▁ 2 0 0 4 ▁y ▁que ▁le ▁proporcione ▁los ▁servicios ▁necesarios ;\n",
            "▁ 1 0 . ▁Decide ▁incluir ▁en ▁el ▁programa ▁provisional ▁de ▁su ▁quincuagésimo ▁sexto ▁período ▁de ▁sesiones ▁el ▁tema ▁titulado ▁\" Transparencia ▁en ▁materia ▁de ▁armamentos \".\n",
            "▁ 1 0 . ▁Acoge ▁con ▁beneplácito ▁también ▁la ▁importancia ▁que ▁asignan ▁las ▁partes ▁en ▁los ▁Acuerdo s ▁de ▁Mat igno n ▁y ▁de ▁Numea ▁al ▁logro ▁de ▁mayores ▁progresos ▁en ▁materia ▁de ▁vivienda , ▁empleo , ▁formación ▁profesional , ▁educación ▁y ▁atención ▁de ▁la ▁salud ▁en ▁Nueva ▁Caledonia ;\n",
            "▁Recordando ▁también ▁que ▁el ▁Consejo ▁de ▁Seguridad , ▁en ▁su ▁resolución ▁ 9 2 2 ▁( 1 9 9 4 ), ▁de ▁ 3 1 ▁de ▁mayo ▁de ▁ 1 9 9 4 , ▁y ▁en ▁las ▁resoluciones ▁posteriores ▁sobre ▁la ▁cuestión , ▁aprobadas ▁por ▁el ▁Presidente ▁del ▁Consejo ▁de ▁Seguridad , ▁en ▁sus ▁declaraciones ▁sobre ▁Angola , ▁y ▁la ▁Asamblea ▁General , ▁en ▁toda s ▁sus ▁resoluciones ▁relativas ▁a ▁la ▁asistencia ▁internacional ▁para ▁la ▁rehabilitación ▁económica ▁de ▁Angola , ▁hicieron , ▁entre ▁otras ▁cosas , ▁un ▁llamamiento ▁a ▁la ▁comunidad ▁internacional ▁para ▁que ▁prestara ▁asistencia ▁económica ▁a ▁Angola ,\n",
            "▁c ) ▁El ▁uso ▁de ▁la ▁religión ▁o ▁las ▁convicciones ▁para ▁fines ▁incompatible s ▁con ▁la ▁Carta ▁de ▁las ▁Naciones ▁Unidas ▁y ▁otros ▁instrumentos ▁pertinentes ▁de ▁las ▁Naciones ▁Unidas ;\n",
            "▁Subrayando ▁que ▁una ▁convención ▁internacional ▁sobre ▁la ▁prohibición ▁del ▁empleo ▁de ▁armas ▁nucleares ▁sería ▁un ▁paso ▁importante ▁en ▁un ▁programa ▁escalonado ▁para ▁lograr ▁la ▁eliminación ▁completa ▁de ▁las ▁armas ▁nucleares ▁de ntro ▁de ▁un ▁plazo ▁determinado ,\n",
            "▁ 1 . ▁Invita ▁a ▁los ▁gobiernos , ▁las ▁Naciones ▁Unidas , ▁sus ▁fondos ▁y ▁programas , ▁los ▁organismos ▁especializados , ▁cuando ▁corresponda , ▁y ▁las ▁instituciones ▁relacionadas ▁con ▁el ▁deporte ▁a :\n"
          ]
        }
      ]
    },
    {
      "cell_type": "code",
      "source": [
        "!pip install -U -q sentencepiece"
      ],
      "metadata": {
        "id": "H_jP_ZGGCkYY",
        "colab": {
          "base_uri": "https://localhost:8080/"
        },
        "outputId": "dbaad136-232b-4f3c-b3dc-b7b1db0a28ea"
      },
      "execution_count": 11,
      "outputs": [
        {
          "output_type": "stream",
          "name": "stdout",
          "text": [
            "\u001b[?25l     \u001b[90m━━━━━━━━━━━━━━━━━━━━━━━━━━━━━━━━━━━━━━━━\u001b[0m \u001b[32m0.0/1.3 MB\u001b[0m \u001b[31m?\u001b[0m eta \u001b[36m-:--:--\u001b[0m\r\u001b[2K     \u001b[91m━━━━\u001b[0m\u001b[90m╺\u001b[0m\u001b[90m━━━━━━━━━━━━━━━━━━━━━━━━━━━━━━━━━━━\u001b[0m \u001b[32m0.1/1.3 MB\u001b[0m \u001b[31m4.3 MB/s\u001b[0m eta \u001b[36m0:00:01\u001b[0m\r\u001b[2K     \u001b[91m━━━━━━━━━━━━━━━━━━━━━━━━━━━━━━━━━━━━━━━\u001b[0m\u001b[91m╸\u001b[0m \u001b[32m1.3/1.3 MB\u001b[0m \u001b[31m20.7 MB/s\u001b[0m eta \u001b[36m0:00:01\u001b[0m\r\u001b[2K     \u001b[90m━━━━━━━━━━━━━━━━━━━━━━━━━━━━━━━━━━━━━━━━\u001b[0m \u001b[32m1.3/1.3 MB\u001b[0m \u001b[31m17.1 MB/s\u001b[0m eta \u001b[36m0:00:00\u001b[0m\n",
            "\u001b[?25h"
          ]
        }
      ]
    },
    {
      "cell_type": "code",
      "source": [
        "!python MT-Preparation/subwording/3-desubword.py target.model UN.es-practice.translated"
      ],
      "metadata": {
        "colab": {
          "base_uri": "https://localhost:8080/"
        },
        "id": "2vvLCrJtCtoX",
        "outputId": "8e29aae0-7f12-4043-a1d2-f9617ea9981c"
      },
      "execution_count": 16,
      "outputs": [
        {
          "output_type": "stream",
          "name": "stdout",
          "text": [
            "Done desubwording! Output: UN.es-practice.translated.desubword\n"
          ]
        }
      ]
    },
    {
      "cell_type": "code",
      "source": [
        "!tail -n 40 UN.es-practice.translated.desubword"
      ],
      "metadata": {
        "colab": {
          "base_uri": "https://localhost:8080/"
        },
        "id": "gjfHzeStDHQ5",
        "outputId": "28285b22-dfe3-4569-fedf-ea7ed81de620"
      },
      "execution_count": 19,
      "outputs": [
        {
          "output_type": "stream",
          "name": "stdout",
          "text": [
            "5. Acoge también con beneplácito los esfuerzos que está realizando el ONU-Hábitat para desarrollar una estructura de presupuesto basada en los resultados menos fragmentada y con miras a asegurar un máximo de eficiencia, responsabilidad y transparencia en la ejecución de los programas, con independencia de la fuente de financiación;\n",
            "Habiendo examinado además el informe de la Dependencia Común de Inspección sobre la experiencia del sistema de las Naciones Unidas con los resultados de la planificación de la presupuestación basada en las técnicasVéase A/54/287., así como las observaciones del Secretario General al respectoVéase A/54/287/Add.1.,\n",
            "10. Pide al Comisionado General que siga expidiendo documentos de identidad a los refugiados palestinos y a sus descendientes en el territorio palestino ocupado;\n",
            "3. Expresa su reconocimiento a los Estados Miembros que han pagado sus cuotas íntegramente, e insta a todos los demás Estados Miembros a que hagan todo lo posible por pagar íntegramente sus cuotas para la Fuerza;\n",
            "Expresando su profundo agradecimiento a los gobiernos y a los pueblos de África y por haber acogido la cuarta reunión del Comité Preparatorio y la Cumbre, así como por los arreglos en que se han ofrecido a otros participantes, y por sus instalaciones para el personal y los servicios,\n",
            "Aprobada en la 75a sesión plenaria, celebrada el 16 de diciembre de 2002, sin votación, sobre la base del proyecto de resolución A/57/L.61, presentado por el Presidente de la Asamblea General\n",
            "80. Alienta a los Estados ribereños y a los Estados que pescan poblaciones de peces transzonales y las poblaciones de peces altamente migratorios en alta mar a que, cuando no existan organizaciones ni arreglos subregionales o regionales de ordenación pesquera, establezcan medidas de conservación y ordenación de esas poblaciones, cooperen para establecer organizaciones o arreglos adecuados a fin de asegurar la conservación y ordenación adecuadas de esas poblaciones y participen en la labor de tales organizaciones o arreglos;\n",
            "18. Exhorta a todos los Estados a que protejan y promuevan todos los derechos humanos de los niños migrantes, en particular los niños migrantes no acompañados, asegurando que el interés superior del niño sea la consideración principal, subraya la importancia de reunirlos con sus padres, cuando sea posible, y alienta a los órganos competentes de las Naciones Unidas a que, en el marco de sus respectivos mandatos, presten especial atención a la situación de los niños migrantes en todos los Estados y, cuando sea necesario, formulen recomendaciones para protegerlos mejor;\n",
            "Acogiendo con beneplácito también los esfuerzos y las iniciativas de la Presidencia del Grupo de Trabajo sobre el futuro funcionamiento del Instituto Internacional de Investigaciones y Capacitación para la Promoción de la Mujer para promover un enfoque amplio y la revitalización del Instituto, lo cual ha recibido la aprobación de la importante aprobación del Instituto y se han comprometido a potenciar los cambios institucionales que se han beneficiado con el Instituto,\n",
            "1. Condena todas las formas de tortura y otros tratos o penas crueles, inhumanos o degradantes, incluso mediante intimidación de intimidación, que han sido o siguen siendo motivo y, en consecuencia, puede justificarse nunca, y exhorta a todos los Estados a que la prohibición completa de la tortura y otros tratos o penas crueles, inhumanos o degradantes;\n",
            "4. Invita a los Estados Miembros a que participen en la reunión ministerial del nivel ministerial o al nivel más alto posible.\n",
            "1. Reafirma la función de la Conferencia de Desarme como único foro multilateral de negociación sobre desarme;\n",
            "5. Reafirma su pleno apoyo a la aplicación de la Declaración de compromiso en la lucha contra el VIH/SIDA, aprobada en su vigésimo sexto período extraordinario de sesiones de la Asamblea General el 27 de junio de 2001Resolución S-26/2, anexo. y la Declaración Política sobre el VIH/SIDA, aprobada por la Asamblea General el 2 de junio de 2006Resolución S-26/2, anexo.;\n",
            "5. Recomienda también que la Conferencia de Desarme continúe celebrando activamente intensas negociaciones con miras a llegar a un pronto acuerdo y a concertar arreglos internacionales eficaces para dar garantías a los Estados que no poseen armas nucleares contra el empleo o la amenaza del empleo de armas nucleares, teniendo en cuenta el amplio apoyo que existe en favor de la concertación de una convención internacional y teniendo presentes cualesquiera otras propuestas encaminadas a conseguir el mismo objetivo;\n",
            "30. Toma nota del informe del Secretario General titulado \"Hacia la integración de los centros de información de las Naciones Unidas sobre el terreno que se examina la aplicación del Programa de las Naciones Unidas para el Desarrollo: opiniones de los gobiernos anfitriones\"A/AC.198/2004/14., acoge con beneplácito las medidas adoptadas por el Departamento de Información Pública para aplicar esos las opiniones expresadas por los gobiernos anfitriones en las respuestas recibidas de la Secretaría, y pide al Secretario General que adopte las medidas necesarias para seguir aplicando esas medidas al respecto;\n",
            "Ofrecer capacitación para facilitar el uso de la tecnología de la información y las comunicaciones\n",
            "55/209. Soberanía permanente del pueblo palestino en el territorio palestino ocupado, incluida Jerusalén, y de la población árabe en el Golán sirio ocupado sobre sus recursos naturales\n",
            "RESOLUCIÓN 58/87\n",
            "Investigaciones\n",
            "RESOLUCIÓN 62/148\n",
            "Acogiendo con beneplácito el creciente interés manifestado en todo el mundo en la creación y el fortalecimiento de instituciones nacionales independientes y pluralistas de promoción y protección de los derechos humanos,\n",
            "concienciación sobre el VIH/SIDA, la prevención, el tratamiento y el tratamiento de los jóvenes\n",
            "4. Insta a las organizaciones competentes de las Naciones Unidas, así como a otras organizaciones internacionales pertinentes, a que sigan prestando apoyo a las iniciativas nacionales para la aplicación de la Declaración de compromiso y hacer frente a la cuestión de los costos de la tecnología de la ciencia y la tecnología conexa;\n",
            "Consciente también de que los problemas del espacio oceánico están estrechamente relacionados entre sí y han de examinarse en conjunto,\n",
            "1. Toma nota con reconocimiento del informe del Secretario General sobre los progresos realizados en la aplicación de la resolución 55/64 de la Asamblea General, de 4 de diciembre de 2000A/56/155.;\n",
            "RESOLUCIÓN 59/90\n",
            "15. Insta a los Estados a que formulen planes, programas o estrategias nacionales completos, multidisciplinarios y coordinados para eliminar todas las formas de violencia contra las mujeres y las niñas, a los que deberán dar amplia difusión y en los que habrán de fijar objetivos y calendarios de aplicación, así como procedimientos nacionales eficaces para la aplicación efectiva de los procedimientos nacionales de vigilancia, mediante mecanismos de supervisión en que intervengan todas las partes interesadas, incluidas consultas con las organizaciones de mujeres, y a que tengan en cuenta las recomendaciones relativas a la niña formuladas por la Relatora Especial de la Comisión de Derechos Humanos sobre la violencia contra la mujer, sus causas y consecuencias;\n",
            "10. Reafirma que la Comisión de la Condición Jurídica y Social de la Mujer tiene un papel central en la prestación de asistencia al Consejo para el seguimiento, la supervisión y el estado dentro del sistema de las Naciones Unidas, la aplicación de la Plataforma de Acción de Beijing y los resultados del vigésimo tercer período extraordinario de sesiones, e insta al Consejo a que informe a ese respecto;\n",
            "21. Acoge con beneplácito también la función de liderazgo del Foro de las Islas del Pacífico en la aplicación ulterior del Acuerdo de 1995 sobre la aplicación de las disposiciones de la Convención de las Naciones Unidas sobre el Derecho del Mar de 10 de diciembre de 1982 relativas a la conservación y ordenación de las poblaciones de peces transzonales y las poblaciones de peces altamente migratoriosNaciones Unidas, Treaty Series, vol. 1226, No. 37492., en particular la aprobación de la Convención sobre la conservación y ordenación de las poblaciones de peces transzonales y las poblaciones de peces altamente migratorios, así como la aprobación de la Convención sobre la conservación y ordenación de las poblaciones de peces altamente migratorios del Pacífico;\n",
            "Aprobada en la 81a sesión plenaria, celebrada el 4 de diciembre de 2000, por recomendación de la Comisión (A/55/602/Add.3, párr. 49)El proyecto de resolución recomendado en el informe fue patrocinado en la Comisión por los países siguientes: Alemania, Andorra, Australia, Austria, Bélgica, Bulgaria, Canadá, Costa Rica, Dinamarca, Eslovaquia, Eslovenia, España, Estados Unidos de América, Estonia, ex República Yugoslava de Macedonia, Finlandia, Francia, Grecia, Grecia, Hungría, Irlanda, Islandia, Israel, Italia, Letonia, Liechtenstein, Lituania, Luxemburgo, Malta, Noruega, Países Bajos, Polonia, Portugal, Reino Unido de Gran Bretaña e Irlanda del Norte, San Marino, Suecia y Ucrania.\n",
            "Aprobada en la 62a sesión plenaria, celebrada el 8 de diciembre de 2005, por recomendación de la Comisión (A/60/476, párr. 22)El proyecto de resolución recomendado en el informe fue patrocinado en la Comisión por los países siguientes: Alemania, Arabia Saudita, Argelia, Bahrein, Bangladesh, Brunei Darussalam, Comoras, Cuba, Djibouti, Egipto, Emiratos Árabes Unidos, Guinea, Indonesia, Irán (República Islámica del), Iraq, Jordania, Kuwait, Líbano, Malasia, Malta, Marruecos, Namibia, Omán, Qatar, Senegal, Somalia, Sudáfrica, Sudán, Túnez, Yemen y Palestina.\n",
            "Aprobada en la 52a sesión plenaria, celebrada el 19 de noviembre de 2002, sin votación, por recomendación de la Comisión (A/57/533, párr. 7)El proyecto de resolución recomendado en el informe fue patrocinado en la Comisión por los países siguientes: Australia, Austria, Bélgica, Dinamarca, Eslovaquia, Eslovenia, España, Finlandia, Finlandia, Grecia, Hungría, Irlanda, Islandia, Italia, Liechtenstein, Lituania, Luxemburgo, Noruega, Países Bajos y Polonia.\n",
            "Aprobada en la 77a sesión plenaria, celebrada el 22 de diciembre de 2003, por recomendación de la Comisión (A/58/508/Add.2, párr. 13)El proyecto de resolución recomendado en el informe fue patrocinado en la Comisión por los países siguientes: Argelia, Belarús, Benin, Burkina Faso, Camboya, Camerún, China, Cuba, Ecuador, Filipinas, Ghana, Haití, Irán (República Islámica del), Jamahiriya Árabe Libia, Jordania, Kenya, Kuwait, Malasia, Marruecos, Namibia, Omán, Pakistán, Zambia y 169., en votación registrada de 169 votos contra 6 y 9 abstenciones, como sigue:\n",
            "8. Pide al Secretario General que convoque la 14a reunión de los Estados Partes en la Convención en Nueva York del 14 al 18 de junio de 2004 y que le proporcione los servicios necesarios;\n",
            "10. Decide incluir en el programa provisional de su quincuagésimo sexto período de sesiones el tema titulado \"Transparencia en materia de armamentos\".\n",
            "10. Acoge con beneplácito también la importancia que asignan las partes en los Acuerdos de Matignon y de Numea al logro de mayores progresos en materia de vivienda, empleo, formación profesional, educación y atención de la salud en Nueva Caledonia;\n",
            "Recordando también que el Consejo de Seguridad, en su resolución 922 (1994), de 31 de mayo de 1994, y en las resoluciones posteriores sobre la cuestión, aprobadas por el Presidente del Consejo de Seguridad, en sus declaraciones sobre Angola, y la Asamblea General, en todas sus resoluciones relativas a la asistencia internacional para la rehabilitación económica de Angola, hicieron, entre otras cosas, un llamamiento a la comunidad internacional para que prestara asistencia económica a Angola,\n",
            "c) El uso de la religión o las convicciones para fines incompatibles con la Carta de las Naciones Unidas y otros instrumentos pertinentes de las Naciones Unidas;\n",
            "Subrayando que una convención internacional sobre la prohibición del empleo de armas nucleares sería un paso importante en un programa escalonado para lograr la eliminación completa de las armas nucleares dentro de un plazo determinado,\n",
            "1. Invita a los gobiernos, las Naciones Unidas, sus fondos y programas, los organismos especializados, cuando corresponda, y las instituciones relacionadas con el deporte a:\n"
          ]
        }
      ]
    },
    {
      "cell_type": "markdown",
      "source": [
        "### Evaluación del modelo"
      ],
      "metadata": {
        "id": "FAoPA2zdCbej"
      }
    },
    {
      "cell_type": "markdown",
      "source": [
        "- Hay muchas  métricas de evaluación y dependiendo del idioma puede que sea mejor usar unas u otras:\n",
        "    - [BLEU](https://www.youtube.com/watch?v=M05L1DhFqcw)\n",
        "    - METEOR\n",
        "    - WER\n",
        "    - Otras más"
      ],
      "metadata": {
        "id": "Jpu_m8heR01K"
      }
    },
    {
      "cell_type": "code",
      "source": [
        "!git clone https://github.com/ymoslem/MT-Evaluation.git"
      ],
      "metadata": {
        "colab": {
          "base_uri": "https://localhost:8080/"
        },
        "id": "DHnLQTBGVpGw",
        "outputId": "a191a7fd-4701-4aa9-9cd0-2921360f60e3"
      },
      "execution_count": 21,
      "outputs": [
        {
          "output_type": "stream",
          "name": "stdout",
          "text": [
            "fatal: destination path 'MT-Evaluation' already exists and is not an empty directory.\n"
          ]
        }
      ]
    },
    {
      "cell_type": "code",
      "source": [
        "!pip install -r MT-Evaluation/requirements.txt"
      ],
      "metadata": {
        "colab": {
          "base_uri": "https://localhost:8080/"
        },
        "id": "aGuDF9hQVvPf",
        "outputId": "7b22d1fd-9e50-4f95-9180-0632daeab1d7"
      },
      "execution_count": 22,
      "outputs": [
        {
          "output_type": "stream",
          "name": "stdout",
          "text": [
            "Collecting jiwer (from -r MT-Evaluation/requirements.txt (line 1))\n",
            "  Downloading jiwer-3.0.3-py3-none-any.whl (21 kB)\n",
            "Requirement already satisfied: nltk in /usr/local/lib/python3.10/dist-packages (from -r MT-Evaluation/requirements.txt (line 2)) (3.8.1)\n",
            "Requirement already satisfied: sacrebleu in /usr/local/lib/python3.10/dist-packages (from -r MT-Evaluation/requirements.txt (line 3)) (2.3.2)\n",
            "Collecting sacremoses (from -r MT-Evaluation/requirements.txt (line 4))\n",
            "  Downloading sacremoses-0.1.1-py3-none-any.whl (897 kB)\n",
            "\u001b[2K     \u001b[90m━━━━━━━━━━━━━━━━━━━━━━━━━━━━━━━━━━━━━━━━\u001b[0m \u001b[32m897.5/897.5 kB\u001b[0m \u001b[31m7.7 MB/s\u001b[0m eta \u001b[36m0:00:00\u001b[0m\n",
            "\u001b[?25hRequirement already satisfied: click<9.0.0,>=8.1.3 in /usr/local/lib/python3.10/dist-packages (from jiwer->-r MT-Evaluation/requirements.txt (line 1)) (8.1.7)\n",
            "Requirement already satisfied: rapidfuzz<4,>=3 in /usr/local/lib/python3.10/dist-packages (from jiwer->-r MT-Evaluation/requirements.txt (line 1)) (3.5.2)\n",
            "Requirement already satisfied: joblib in /usr/local/lib/python3.10/dist-packages (from nltk->-r MT-Evaluation/requirements.txt (line 2)) (1.3.2)\n",
            "Requirement already satisfied: regex>=2021.8.3 in /usr/local/lib/python3.10/dist-packages (from nltk->-r MT-Evaluation/requirements.txt (line 2)) (2023.6.3)\n",
            "Requirement already satisfied: tqdm in /usr/local/lib/python3.10/dist-packages (from nltk->-r MT-Evaluation/requirements.txt (line 2)) (4.66.1)\n",
            "Requirement already satisfied: portalocker in /usr/local/lib/python3.10/dist-packages (from sacrebleu->-r MT-Evaluation/requirements.txt (line 3)) (2.8.2)\n",
            "Requirement already satisfied: tabulate>=0.8.9 in /usr/local/lib/python3.10/dist-packages (from sacrebleu->-r MT-Evaluation/requirements.txt (line 3)) (0.9.0)\n",
            "Requirement already satisfied: numpy>=1.17 in /usr/local/lib/python3.10/dist-packages (from sacrebleu->-r MT-Evaluation/requirements.txt (line 3)) (1.23.5)\n",
            "Requirement already satisfied: colorama in /usr/local/lib/python3.10/dist-packages (from sacrebleu->-r MT-Evaluation/requirements.txt (line 3)) (0.4.6)\n",
            "Requirement already satisfied: lxml in /usr/local/lib/python3.10/dist-packages (from sacrebleu->-r MT-Evaluation/requirements.txt (line 3)) (4.9.3)\n",
            "Installing collected packages: sacremoses, jiwer\n",
            "Successfully installed jiwer-3.0.3 sacremoses-0.1.1\n"
          ]
        }
      ]
    },
    {
      "cell_type": "code",
      "source": [
        "# Aplicando desubword para tener la traducción de referencia\n",
        "!python MT-Preparation/subwording/3-desubword.py target.model UN.en-es.es-filtered.es.subword.test"
      ],
      "metadata": {
        "colab": {
          "base_uri": "https://localhost:8080/"
        },
        "id": "J7cTG51LWxXR",
        "outputId": "ec40a027-6f15-46f2-8c4a-6fffd095ed29"
      },
      "execution_count": null,
      "outputs": [
        {
          "output_type": "stream",
          "name": "stdout",
          "text": [
            "Done desubwording! Output: UN.en-es.es-filtered.es.subword.test.desubword\n"
          ]
        }
      ]
    },
    {
      "cell_type": "markdown",
      "source": [
        "#### BLEU"
      ],
      "metadata": {
        "id": "PySVRaQ2XD5j"
      }
    },
    {
      "cell_type": "code",
      "source": [
        "!python MT-Evaluation/BLEU/compute-bleu.py UN.en-es.es-filtered.es.subword.test.desubword UN.es.translated.desubword"
      ],
      "metadata": {
        "colab": {
          "base_uri": "https://localhost:8080/"
        },
        "id": "3jgFJvY0V22D",
        "outputId": "40f0eb17-ae11-4b03-9c7b-0d111b826f05"
      },
      "execution_count": 23,
      "outputs": [
        {
          "output_type": "stream",
          "name": "stdout",
          "text": [
            "Reference 1st sentence: 2. Pide al Secretario General que adopte medidas adecuadas con el objeto de establecer la cooperación entre las Naciones Unidas y la Comunidad Económica de los Estados del África Central;\n",
            "MTed 1st sentence: 2. Pide al Secretario General que adopte las medidas necesarias para establecer la cooperación entre las Naciones Unidas y la Comunidad Económica de los Estados del África Central;\n",
            "BLEU:  63.86775552788015\n"
          ]
        }
      ]
    },
    {
      "cell_type": "markdown",
      "source": [
        "#### METEOR"
      ],
      "metadata": {
        "id": "UAjq0XdqXeil"
      }
    },
    {
      "cell_type": "code",
      "source": [
        "!python MT-Evaluation/WER/corpus-wer.py UN.en-es.es-filtered.es.subword.test.desubword UN.es.translated.desubword"
      ],
      "metadata": {
        "colab": {
          "base_uri": "https://localhost:8080/"
        },
        "id": "JhBtZKTvXgkc",
        "outputId": "589b6e0a-5923-4c2b-c04d-eafacb17eeb0"
      },
      "execution_count": 24,
      "outputs": [
        {
          "output_type": "stream",
          "name": "stdout",
          "text": [
            "WER Score: 0.3477828241529807\n"
          ]
        }
      ]
    },
    {
      "cell_type": "markdown",
      "source": [
        "### Comparando con modelos averaged"
      ],
      "metadata": {
        "id": "uqFVgQlJaoAZ"
      }
    },
    {
      "cell_type": "markdown",
      "source": [
        "- OpenNMT nos permite realizar el avg de modelos con el script [average_models.py](https://github.com/OpenNMT/OpenNMT-py/blob/master/onmt/bin/average_models.py)\n",
        "- Compararemos si es mejor o pero el desempeño del nuevo modelo"
      ],
      "metadata": {
        "id": "25U4LcHkcBXB"
      }
    },
    {
      "cell_type": "code",
      "source": [
        "!wget https://raw.githubusercontent.com/OpenNMT/OpenNMT-py/master/onmt/bin/average_models.py"
      ],
      "metadata": {
        "colab": {
          "base_uri": "https://localhost:8080/"
        },
        "id": "2fiEQkD5cR_y",
        "outputId": "c190b723-6625-4424-c66c-90ffa75f45f2"
      },
      "execution_count": 25,
      "outputs": [
        {
          "output_type": "stream",
          "name": "stdout",
          "text": [
            "--2023-11-13 23:15:09--  https://raw.githubusercontent.com/OpenNMT/OpenNMT-py/master/onmt/bin/average_models.py\n",
            "Resolving raw.githubusercontent.com (raw.githubusercontent.com)... 185.199.108.133, 185.199.109.133, 185.199.110.133, ...\n",
            "Connecting to raw.githubusercontent.com (raw.githubusercontent.com)|185.199.108.133|:443... connected.\n",
            "HTTP request sent, awaiting response... 200 OK\n",
            "Length: 1651 (1.6K) [text/plain]\n",
            "Saving to: ‘average_models.py.1’\n",
            "\n",
            "\raverage_models.py.1   0%[                    ]       0  --.-KB/s               \raverage_models.py.1 100%[===================>]   1.61K  --.-KB/s    in 0.001s  \n",
            "\n",
            "2023-11-13 23:15:10 (1.87 MB/s) - ‘average_models.py.1’ saved [1651/1651]\n",
            "\n"
          ]
        }
      ]
    },
    {
      "cell_type": "code",
      "source": [
        "!python average_models.py -models models/model.fren_step_1000.pt models/model.fren_step_2000.pt models/model.fren_step_3000.pt -output models/model_avg.pt"
      ],
      "metadata": {
        "id": "YvbiMbQlamxx"
      },
      "execution_count": null,
      "outputs": []
    },
    {
      "cell_type": "code",
      "source": [
        "%%time\n",
        "!onmt_translate -model models/model_avg.pt -src UN.en-es.en-filtered.en.subword.test -output UN.es-averaged.translated -min_length 1"
      ],
      "metadata": {
        "colab": {
          "base_uri": "https://localhost:8080/"
        },
        "id": "rT9K9HuZdlYX",
        "outputId": "7a1693b3-2ba6-47c1-dd7a-52383e7e4e7a"
      },
      "execution_count": null,
      "outputs": [
        {
          "output_type": "stream",
          "name": "stdout",
          "text": [
            "2023-11-11 18:54:42.732628: E tensorflow/compiler/xla/stream_executor/cuda/cuda_dnn.cc:9342] Unable to register cuDNN factory: Attempting to register factory for plugin cuDNN when one has already been registered\n",
            "2023-11-11 18:54:42.732709: E tensorflow/compiler/xla/stream_executor/cuda/cuda_fft.cc:609] Unable to register cuFFT factory: Attempting to register factory for plugin cuFFT when one has already been registered\n",
            "2023-11-11 18:54:42.732755: E tensorflow/compiler/xla/stream_executor/cuda/cuda_blas.cc:1518] Unable to register cuBLAS factory: Attempting to register factory for plugin cuBLAS when one has already been registered\n",
            "2023-11-11 18:54:42.745558: I tensorflow/core/platform/cpu_feature_guard.cc:182] This TensorFlow binary is optimized to use available CPU instructions in performance-critical operations.\n",
            "To enable the following instructions: AVX2 FMA, in other operations, rebuild TensorFlow with the appropriate compiler flags.\n",
            "2023-11-11 18:54:44.542953: W tensorflow/compiler/tf2tensorrt/utils/py_utils.cc:38] TF-TRT Warning: Could not find TensorRT\n",
            "[2023-11-11 18:54:47,130 INFO] Loading checkpoint from models/model_avg.pt\n",
            "[2023-11-11 18:54:47,934 INFO] Loading data into the model\n",
            "[2023-11-11 19:48:10,691 INFO] PRED SCORE: -0.2376, PRED PPL: 1.27 NB SENTENCES: 2000\n",
            "Time w/o python interpreter load/terminate:  3203.667207479477\n",
            "CPU times: user 23.3 s, sys: 3.27 s, total: 26.6 s\n",
            "Wall time: 53min 32s\n"
          ]
        }
      ]
    },
    {
      "cell_type": "code",
      "source": [
        "!head -n 10 UN.es-averaged.translated"
      ],
      "metadata": {
        "id": "ijvdiRE6fmsf",
        "colab": {
          "base_uri": "https://localhost:8080/"
        },
        "outputId": "949294cf-f87a-4e03-ce88-40f30b1340e8"
      },
      "execution_count": 26,
      "outputs": [
        {
          "output_type": "stream",
          "name": "stdout",
          "text": [
            "▁ 2 . ▁Pide ▁al ▁Secretario ▁General ▁que ▁adopte ▁las ▁medidas ▁necesarias ▁para ▁establecer ▁la ▁cooperación ▁entre ▁las ▁Naciones ▁Unidas ▁y ▁la ▁Comunidad ▁Económica ▁de ▁los ▁Estados ▁del ▁África ▁Central ;\n",
            "▁Recordando ▁su ▁resolución ▁ 5 3 / 1 4 1 , ▁de ▁ 9 ▁de ▁diciembre ▁de ▁ 1 9 9 8 , ▁en ▁la ▁que ▁aprobó ▁la ▁Declaración ▁sobre ▁el ▁derecho ▁y ▁el ▁deber ▁de ▁los ▁individuos , ▁los ▁grupos ▁y ▁las ▁instituciones ▁de ▁promover ▁y ▁proteger ▁los ▁derechos ▁humanos ▁y ▁las ▁libertades ▁fundamentales ▁universalmente ▁reconocidos , ▁que ▁figura ▁en ▁el ▁anexo ▁de ▁la ▁resolución ,\n",
            "▁Observando ▁con ▁preocupación ▁el ▁problema ▁del ▁desempleo ▁en ▁la ▁isla ▁y ▁las ▁medidas ▁conjuntas ▁adoptadas ▁por ▁la ▁Potencia ▁administradora ▁y ▁el ▁Gobierno ▁del ▁Territorio ▁para ▁resolverlo ,\n",
            "▁ 3 . ▁Alienta ▁a ▁la ▁Organización ▁de ▁las ▁Naciones ▁Unidas ▁para ▁la ▁Educación , ▁la ▁Ciencia ▁y ▁la ▁Cultura ▁a ▁que ▁prosiga ▁su ▁labor ▁para ▁promover ▁una ▁mayor ▁conciencia ▁de ▁la ▁relación ▁fundamental ▁entre ▁el ▁desarrollo ▁y ▁la ▁cultura ▁de ▁desarrollo ;\n",
            "▁ 1 . ▁Toma ▁nota ▁del ▁informe ▁del ▁Grupo ▁de ▁Expertos ▁Gubernamentales ▁sobre ▁la ▁verificación ▁en ▁todos ▁sus ▁aspectos , ▁incluida ▁la ▁función ▁de ▁las ▁Naciones ▁Unidas ▁en ▁la ▁esfera ▁de ▁la ▁verificación A / 6 1 / 2 8 0 ., ▁que ▁el ▁Secretario ▁General ▁transmiti ó ▁el ▁Secretario ▁General ▁el ▁ 1 5 ▁de ▁agosto ▁de ▁ 2 0 0 7 , ▁y ▁reconoce ▁que ▁el ▁informe ▁fue ▁aprobado ▁por ▁el ▁Grupo ▁de ▁Expertos ▁Gubernamentales , ▁y ▁encomia ▁a ▁los ▁Estados ▁Miembros ▁a ▁que ▁siga n ▁prestando ▁especial ▁atención ▁a ▁los ▁Estados ▁Miembros ;\n",
            "▁ 8 3 . ▁Pide ▁al ▁Secretario ▁General ▁que ▁informe ▁al ▁Comité ▁de ▁Información , ▁en ▁su ▁ 2 9 ° ▁período ▁de ▁sesiones , ▁sobre ▁las ▁actividades ▁del ▁Comité ▁Directivo ▁y ▁la ▁labor ▁de ▁la ▁Biblioteca ▁D ag ▁Hammar s kj ö ld , ▁incluida ▁la ▁aplicación ▁de ▁las ▁medidas ▁adoptadas ▁para ▁aumentar ▁la ▁eficacia ▁de ▁las ▁bibliotecas ▁en ▁el ▁marco ▁de ▁los ▁mandatos ▁legislativos ▁existentes ;\n",
            "▁ 5 . ▁Acoge ▁con ▁beneplácito :\n",
            "▁Artículo ▁ 2 3\n",
            "▁Aprobada ▁en ▁la ▁ 7 5 a ▁sesión ▁plenaria , ▁celebrada ▁el ▁ 1 7 ▁de ▁diciembre ▁de ▁ 2 0 0 7 , ▁por ▁recomendación ▁de ▁la ▁Comisión ▁( A / 6 2 / 4 0 5 , ▁párr . ▁ 1 6 ) El ▁proyecto ▁de ▁resolución ▁recomendado ▁en ▁el ▁informe ▁fue ▁patrocinado ▁en ▁la ▁Comisión ▁por ▁los ▁países ▁siguientes : ▁Arab ia ▁Saudita , ▁Argelia , ▁Bahr ein , ▁Bangladesh , ▁Bru nei ▁Darussalam , ▁Comoras , ▁Cuba , ▁Djibouti , ▁Egipto , ▁Emi ratos ▁Árabes ▁Unidos , ▁Guinea , ▁Indonesia , ▁Iraq , ▁Jordania , ▁Kuwait , ▁Líbano , ▁Líbano , ▁Malasia , ▁Marruecos , ▁Mauritania , ▁O mán , ▁ Q atar , ▁República ▁Árabe ▁Siria , ▁Somalia , ▁Sudáfrica , ▁Sudán , ▁Túnez , ▁Yemen ▁y ▁Palestina ., ▁en ▁votación ▁registrada ▁de ▁ 1 6 3 ▁votos ▁contra ▁ 3 ▁y ▁ 6 9 ▁abstenciones , ▁como ▁sigue :\n",
            "▁Aprobada ▁en ▁la ▁ 6 1 a ▁sesión ▁plenaria , ▁celebrada ▁el ▁ 8 ▁de ▁diciembre ▁de ▁ 2 0 0 5 , ▁por ▁recomendación ▁de ▁la ▁Comisión ▁( A / 6 0 / 4 3 6 , ▁párr . ▁ 9 4 ) El ▁proyecto ▁de ▁resolución ▁recomendado ▁en ▁el ▁informe ▁fue ▁patrocinado ▁en ▁la ▁Comisión ▁por ▁la ▁Federación ▁de ▁Rusia ., ▁en ▁votación ▁registrada ▁de ▁ 1 7 8 ▁votos ▁contra ▁ 1 ▁y ▁una ▁abstención , ▁como ▁sigue :\n"
          ]
        }
      ]
    },
    {
      "cell_type": "code",
      "source": [
        "!python MT-Preparation/subwording/3-desubword.py target.model UN.es-averaged.translated"
      ],
      "metadata": {
        "colab": {
          "base_uri": "https://localhost:8080/"
        },
        "id": "iGWZcDJDNBIv",
        "outputId": "d3c6788c-062f-4132-de4f-ed585e0383d5"
      },
      "execution_count": 27,
      "outputs": [
        {
          "output_type": "stream",
          "name": "stdout",
          "text": [
            "Done desubwording! Output: UN.es-averaged.translated.desubword\n"
          ]
        }
      ]
    },
    {
      "cell_type": "code",
      "source": [
        "!head -n 10 UN.es-averaged.translated.desubword"
      ],
      "metadata": {
        "colab": {
          "base_uri": "https://localhost:8080/"
        },
        "id": "p-tn9sEjNQJg",
        "outputId": "e1981a2e-ae97-490e-a25a-74eccb25fe48"
      },
      "execution_count": 28,
      "outputs": [
        {
          "output_type": "stream",
          "name": "stdout",
          "text": [
            "2. Pide al Secretario General que adopte las medidas necesarias para establecer la cooperación entre las Naciones Unidas y la Comunidad Económica de los Estados del África Central;\n",
            "Recordando su resolución 53/141, de 9 de diciembre de 1998, en la que aprobó la Declaración sobre el derecho y el deber de los individuos, los grupos y las instituciones de promover y proteger los derechos humanos y las libertades fundamentales universalmente reconocidos, que figura en el anexo de la resolución,\n",
            "Observando con preocupación el problema del desempleo en la isla y las medidas conjuntas adoptadas por la Potencia administradora y el Gobierno del Territorio para resolverlo,\n",
            "3. Alienta a la Organización de las Naciones Unidas para la Educación, la Ciencia y la Cultura a que prosiga su labor para promover una mayor conciencia de la relación fundamental entre el desarrollo y la cultura de desarrollo;\n",
            "1. Toma nota del informe del Grupo de Expertos Gubernamentales sobre la verificación en todos sus aspectos, incluida la función de las Naciones Unidas en la esfera de la verificaciónA/61/280., que el Secretario General transmitió el Secretario General el 15 de agosto de 2007, y reconoce que el informe fue aprobado por el Grupo de Expertos Gubernamentales, y encomia a los Estados Miembros a que sigan prestando especial atención a los Estados Miembros;\n",
            "83. Pide al Secretario General que informe al Comité de Información, en su 29° período de sesiones, sobre las actividades del Comité Directivo y la labor de la Biblioteca Dag Hammarskjöld, incluida la aplicación de las medidas adoptadas para aumentar la eficacia de las bibliotecas en el marco de los mandatos legislativos existentes;\n",
            "5. Acoge con beneplácito:\n",
            "Artículo 23\n",
            "Aprobada en la 75a sesión plenaria, celebrada el 17 de diciembre de 2007, por recomendación de la Comisión (A/62/405, párr. 16)El proyecto de resolución recomendado en el informe fue patrocinado en la Comisión por los países siguientes: Arabia Saudita, Argelia, Bahrein, Bangladesh, Brunei Darussalam, Comoras, Cuba, Djibouti, Egipto, Emiratos Árabes Unidos, Guinea, Indonesia, Iraq, Jordania, Kuwait, Líbano, Líbano, Malasia, Marruecos, Mauritania, Omán, Qatar, República Árabe Siria, Somalia, Sudáfrica, Sudán, Túnez, Yemen y Palestina., en votación registrada de 163 votos contra 3 y 69 abstenciones, como sigue:\n",
            "Aprobada en la 61a sesión plenaria, celebrada el 8 de diciembre de 2005, por recomendación de la Comisión (A/60/436, párr. 94)El proyecto de resolución recomendado en el informe fue patrocinado en la Comisión por la Federación de Rusia., en votación registrada de 178 votos contra 1 y una abstención, como sigue:\n"
          ]
        }
      ]
    },
    {
      "cell_type": "code",
      "source": [
        "# BLEU\n",
        "!python MT-Evaluation/BLEU/compute-bleu.py UN.en-es.es-filtered.es.subword.test.desubword UN.es-averaged.translated.desubword"
      ],
      "metadata": {
        "colab": {
          "base_uri": "https://localhost:8080/"
        },
        "id": "acMljAb3NUf_",
        "outputId": "f68cdc73-cb75-4cf2-e676-f4f39e48ecd0"
      },
      "execution_count": 29,
      "outputs": [
        {
          "output_type": "stream",
          "name": "stdout",
          "text": [
            "Reference 1st sentence: 2. Pide al Secretario General que adopte medidas adecuadas con el objeto de establecer la cooperación entre las Naciones Unidas y la Comunidad Económica de los Estados del África Central;\n",
            "MTed 1st sentence: 2. Pide al Secretario General que adopte las medidas necesarias para establecer la cooperación entre las Naciones Unidas y la Comunidad Económica de los Estados del África Central;\n",
            "BLEU:  56.4866183328863\n"
          ]
        }
      ]
    },
    {
      "cell_type": "code",
      "source": [
        "# WER\n",
        "!python MT-Evaluation/WER/corpus-wer.py UN.en-es.es-filtered.es.subword.test.desubword UN.es-averaged.translated.desubword"
      ],
      "metadata": {
        "colab": {
          "base_uri": "https://localhost:8080/"
        },
        "id": "40QIf1qcNhhI",
        "outputId": "9a7d62e8-329c-4685-c566-5dd392989681"
      },
      "execution_count": 30,
      "outputs": [
        {
          "output_type": "stream",
          "name": "stdout",
          "text": [
            "WER Score: 0.4183226111543501\n"
          ]
        }
      ]
    },
    {
      "cell_type": "markdown",
      "source": [
        "### Optimizaciones y deploy a producción"
      ],
      "metadata": {
        "id": "9pTVPUhasDoY"
      }
    },
    {
      "cell_type": "markdown",
      "source": [
        "Reducción del tamaño del modelo"
      ],
      "metadata": {
        "id": "a1Mz8wrisMUU"
      }
    },
    {
      "cell_type": "code",
      "source": [
        "%%time\n",
        "!onmt_release_model --model models/model.fren_step_3000.pt --output models/model_rc_v1.pt"
      ],
      "metadata": {
        "colab": {
          "base_uri": "https://localhost:8080/"
        },
        "id": "XFtMW45SQOun",
        "outputId": "f27e59b7-c33d-45fd-fd74-e4b21a11cc4e"
      },
      "execution_count": null,
      "outputs": [
        {
          "output_type": "stream",
          "name": "stdout",
          "text": [
            "2023-11-12 02:02:05.259174: E tensorflow/compiler/xla/stream_executor/cuda/cuda_dnn.cc:9342] Unable to register cuDNN factory: Attempting to register factory for plugin cuDNN when one has already been registered\n",
            "2023-11-12 02:02:05.259249: E tensorflow/compiler/xla/stream_executor/cuda/cuda_fft.cc:609] Unable to register cuFFT factory: Attempting to register factory for plugin cuFFT when one has already been registered\n",
            "2023-11-12 02:02:05.259288: E tensorflow/compiler/xla/stream_executor/cuda/cuda_blas.cc:1518] Unable to register cuBLAS factory: Attempting to register factory for plugin cuBLAS when one has already been registered\n",
            "2023-11-12 02:02:05.264781: I tensorflow/core/platform/cpu_feature_guard.cc:182] This TensorFlow binary is optimized to use available CPU instructions in performance-critical operations.\n",
            "To enable the following instructions: AVX2 FMA, in other operations, rebuild TensorFlow with the appropriate compiler flags.\n",
            "2023-11-12 02:02:06.163149: W tensorflow/compiler/tf2tensorrt/utils/py_utils.cc:38] TF-TRT Warning: Could not find TensorRT\n",
            "CPU times: user 45.7 ms, sys: 8.54 ms, total: 54.2 ms\n",
            "Wall time: 7.04 s\n"
          ]
        }
      ]
    },
    {
      "cell_type": "markdown",
      "source": [
        "Para obtener un modelo optimizado para traducciones on demand"
      ],
      "metadata": {
        "id": "CI8cZVg1sIir"
      }
    },
    {
      "cell_type": "code",
      "source": [
        "!ct2-opennmt-py-converter --model_path models/model_rc_v1.pt --output_dir models/model_ct2_v3 --quantization int8"
      ],
      "metadata": {
        "id": "xHOpMUaCRyPM"
      },
      "execution_count": 31,
      "outputs": []
    },
    {
      "cell_type": "markdown",
      "source": [
        "### DEMO time: streamlit\n",
        "\n",
        "On my local machine because doesn't works on colab :p\n",
        "\n",
        "![image.png](data:image/png;base64,iVBORw0KGgoAAAANSUhEUgAABTMAAAMDCAYAAAB+ZIFYAAAABHNCSVQICAgIfAhkiAAAABl0RVh0U29mdHdhcmUAZ25vbWUtc2NyZWVuc2hvdO8Dvz4AAAAtdEVYdENyZWF0aW9uIFRpbWUAU2F0IDExIE5vdiAyMDIzIDEwOjAyOjM5IFBNIENTVBV52iYAACAASURBVHic7N13fBRV28bxa3azKUASkgAJvffee6/Si4qACoJUQcSGDRt2xUdFBFREUIr0JkWaUhWU3nuHUBJ6+s77h4/vowLJTthNsuH3/ROSnZPZs7OfueY+9zGCQsJNAQAAAAAAAEAGZ0vvAQAAAAAAAACAKwgzAQAAAAAAAHgFwkwAAAAAAAAAXoEwEwAAAAAAAIBXIMwEAAAAAAAA4BUIMwEAAAAAAAB4BcJMAAAAAAAAAF6BMBMAAAAAAACAVyDMBAAAAAAAAOAVCDMBAAAAAAAAeAXCTAAAAAAAAABegTATAAAAAAAAgFcgzAQAAAAAAADgFQgzAQAAAAAAAHgFwkwAAAAAAAAAXoEwEwAAAAAAAIBXIMwEAAAAAAAA4BUIMwEAAAAAAAB4BcJMAAAAAAAAAF6BMBMAAAAAAACAVyDMBAAAAAAAAOAVCDMBAAAAAAAAeAXCTAAAAAAAAABegTATAAAAAAAAgFcgzAQAAAAAAADgFQgzAQAAAAAAAHgFwkwAAAAAAAAAXoEwEwAAAAAAAIBXIMwEAAAAAAAA4BUIMwEAAAAAAAB4BcJMAAAAAAAAAF6BMBMAAAAAAACAVyDMBAAAAAAAAOAVCDMBAAAAAAAAeAXCTAAAAAAAAABegTATAAAAAAAAgFcgzAQAAAAAAADgFQgzAQAAAAAAAHgFwkwAAAAAAAAAXoEwEwAAAAAAAIBXIMwEAAAAAAAA4BUIMwEAAAAAAAB4BcJMAAAAAAAAAF6BMBMAAAAAAACAVyDMBAAAAAAAAOAVCDMBAAAAAAAAeAXCTAAAAAAAAABegTATAAAAAAAAgFcgzAQAAAAAAADgFQgzAQAAAAAAAHgFn/QeACBJRlg9DRzWSgXtrvy0qditUzRyxj4lenpgAAAAAAAAyDAIM5Eh2ILKqn2vnqrmcOWnTV2btUZvz9jn6WEBAAAAAAAgA2GZOQAAAAAAAACv4MHKTEM2u102w3NHuDumnElJcprpPQ4AAAAAAAAArvBcmOnbWl8dGqcOfh47wl1K0I53W6r5JweVlN5DAQAAAAAAAJAilpkDAAAAAAAA8ApsAATAIkNhtbrrsfrhyT8NMeO1Z/5YLTpI7TMAAAAAAHAPwkwAFvmodMen9PxjESmEmdc1e/eXhJkAAAAAAMBtWGYOwBojq/LnC1GG3dsLAAAAAABkWoSZAKyx51XBfHbCTAAAAAAAkOYIMwFYY8+jAnns6T0KAAAAAABwDyLMBGCJLWd+5Q+gLhPISAz/bMrKMwYAAAAA9wDCTACW2PMVUF5CEyBDcdR5Tes3zdHY4Q+oToGstIEAAAAAkGkRZgKwJCBvfuXiygFkMIYC8lTXA09/rPm/btZvM97X0A6VFOGX3uMCAAAAAPfy8dgrx/+oPgXyq4/lX8yqLt9u1/j7XLwDS9ild5u11ah9SZaPhIzDjItVnJneo0DK7MpbII/slH0BGZZhD1SRht01omE3vRC1XytnTdf3U+dq5d4oJaT34AAAAADgLlFfhQzBeTlKUU7SzIzP9meYmd7DAOACQ47QUmrV73V9v3qTti4doxGP1FeRIL76AQAAAHgvz1Vmeh1DdodDPrbkS85MZ6ISEpJ059jNX3lrtNaDnZqpYa1KKpkvp0Ky+Sgp9oYunz+lQzt/1+qFUzRxwV5dcTm7syswX1lVr15JlStVUJmiBZQ/f17lyRmsrFkCFOBrKDEuVjevRunc6ZM6un+3tvz+m35ZtVbbz8YmM1b3M/zzqHrL1mpev4ZqVimtQuFhCg0OkJEQo2uXzujowb36Y+PPWjx3iTaevPm/sSVcVvRVU/Kn5C81fMNKqE7j+qpeobTKlC6lEgVyKiQ4UIHZAuTjjNPNa5cVeeqEjuzfqU2/rtfKZWu1+1IqarSMUOXPny0DPgUx5J+7gho3q6caFcupfLmSKhyeXcHBwcrmSNLNa1d1+fJFnT64Rzt27tTvG1Zr5W/HdNXNBd2Gj0MOuy35foVmkhLiE+VM5m/JVqiuOnVtp+Z1q6tisQjlCM4iW1KsrkVF6sSBndq4cq4mTl6pIzHuHb/rDAXkqaymLeqpZpVKqlyuuPLlyq6Q4GzyV6Jibl7VpcgzOn7kgHZt/UMbfl6lX3acU4xbLkY2OXwdSv5SbcpMSlB8YnIH9FFoiTpq3aaZ6lUtpzIlCyo8JEhBAXYlxd5QdORJHT24R79v+EVLFy7X5jNpey11O8NPEZXba2jldhryxin9unCGvp86Uws3nXbT++JJ6Tnfkuebo5RqN6yvejUqqFypoiqUL0K5QoIU4O8jIyFWN29c1+ULp3XsyBHt37VFG9ev17o/jiiaElkAAAAg1YygkPAMdhuTTsvM7UU0ZNEKvVbFkeyPJR4YrZaNP9D2xH//j4/Caz6sF98Yqq6VcsiRzI12wh9vqU678Tqa7JB9FFKygTre315tWzZSrRJh8rOY85lJ13V8/Rx9NWa8Jv98Qp7MPWzZy+n+IcM0pEdjlQpxpLj5hJkYrR0zR+nFt6Zo08VEyae8Xl69QMNKuJKvm7o2q49KPrFc8cmPSoUGztGG16vK15U/wryu2Y9VVP8lyb/q/1icq/G/aFjlR/TdRTd95HwjVKPzI+r9UHs1r15QwT6uTxAz/pJ2/TRVYz//RnO3Xrx16aktn1oMeVwti+RQWFiowsJCFRoaqhyhocoe6Cu74b7QOWHXKDVt8Yn2pOYj7MihSu17aWCvzmpZNZ+yubz+3VTs+d1aPW+qxo+bqXWnY1Nx8H/zUfXXVmvRoELJV67Gb9LLdR7Q+JO3xpn+BRqp/8sv68l2JRWczN9ixq7QkIq9Nf1yGl++bdlUomUvDe7bVe1qFVSgq+fbTNLVI+s04+sv9PmUDToVl/ohGNkf0NSdH6t5sh9qU9E/9Fa5J1fo1kP5KV+97hr27EB1rZXbpecnZmKUdsz5XK++PVHrz91y8c8QfJt8pJ1TuirMypMGM1GXD63V3GnT9f2M5dp+IYMlbBlgvt2ev/LXe1ADB/bSAw2LKSS5L/xbB6fY8zv108xp+uabWVp3yh3XHgAAAODekvEKrDI4e3geRfz7rDnyqsWrM7Rm7pt6uHLyQabk1OW9e3X6TsGNb7iqPfCMvlz6q3b+MkkfPtlFDUtaDzIlybBnU6EGj+rt6Su09vuhahThgUJcI1Dlu7+rJRsWaszgFirtQpApSYZPiCp2G6mF6+bro85F5W9G61J0BsvVMyr//Gr6xCgt2bxeP376pO6vXchSkClJhm+YyrcdojGL1+iXCUPULP+/All7btV/uJd6PtRBbZvXV+0qZVWyUG6FBfm5NchMNVuwyncdoRnr1mv5F0PVpUZ+C0GmJBnyz1VO9/V7R3N/XafFHz+mWuFpVKhuj1DeWy4iASp+/wdaumqSRnQslWyQKUlJJ/Zq7/W0/Lw4lKdeP41Zuk5rJg5X97qFXA+WJMmwK6hoQz3+7nRtWD1eg2vn8HCrAkNZixRR7n+dZp9ctTRo/BKtm/mmetZ2LciUJMMnVBUfHKHZP03WsBrBmWencMNH2Ys31mOvjteKLb9p9cQR6tOsuLKnex+JjDvffAs00wtTVmnjrLfVr1lxi0Gm9Oe1p4LaP/Gu5m5cryUf91G9PC49bgMAAADwX4SZFhkBEcr799IX/5LqM3GBvhtUXWEu3Wwlad+uA7qltscvn+o//p4WbdqgJZ8/pc6Vw9234toIUKHmz2jasm81uHKg+27Es5TQw18s0pKPH1bVMJ9UvK4he0gF9RwzRzOHl5f96p0X3kKSfBRR9wlNWr1S0199UNUjfO/6vTRsgSrR9nlNXbVQn3UvpaxekNL45m+uEbNW6adP+6lJoSx3fw58w1Wjxxuav2aePuhcTFncMspk2HIob+6/VYAbgar+zBQtGd1N5QJduSSbit23R4fSqkAwSzE98OF8rZ35irpWDJPF3PxfDGUp2lqvzfhR3/WvqCAPzjefwsVU5P8TLIcKtHhRc1ZN0xsdiytbqr75DPmE19eL33+jIeX93TfQDMLwzanyrfvp/SkrtWvzXI17oavqFcya9sFthp1vdkU0fUULlk/QM83yu+X72fDNpeo9Xtfc9Ss0eVgj5SfTBAAAAFxCmGmVLVx5w/972nwKqNvY7/VOs1yu7+6cdE6791z8X788I1ClO72sWRt+1py3e6hW7rsPqG7PkCOioV6dPlFPVrz7uMbIVlFPfjdDH3cuctc3dYYtVLWfHKOXGzq8uyedJ9lyqN6z32nljOFqUyTA7XPEFlRa3d77UI8XT/eSrGTYFFbnac1c+pWerJsrhQpoqwzZs1dU7zHzNX9kM+XxZJGm4VBE7pz/vfj6q+yArzXl2erK7vLVOFGHd+1TWixOteduqjfnzteYR8srOIV+wlYYvnnU4vWpmv5sdQV7KC2zBRVRsVw2yZ5LjV6cqp++Hag6OVPz0OVfrxtcXcPHPKNaHk+904sh/7zVdP+wjzR342ZtmvWBhnWqotwudtO4Gxl3vtmVu837mj+xn6plT6EnbmrGl6WwWr8wSWuWfqhupbNlnspfAAAAwEMIM62yhytvhF2SvyoOGa337otwPciUZCbs1679f60xN5S97Xua98UANcrnlyY3MLbsNfTCV2+oRdhdHM1RVI+Mm6hX6oW5bwIZDvn6uv8mMVNwFFCnT2Zp+rP1FH53ZUp3Zt7Uts9e0vgDbt4Rx21sCm/+puZOeUp1c9g9N09sQarcd7zmf9pBBTwWaNoUkS9cdhnKXv9FfflSbYVa+SA5r2vPnpPy9Dtlz9tGn8wer4GVgjzzRWELUo2nv9T4R4sq+U7FqeRTSCXKlFKPL+ZqytBaymGpDUFyDPmVeEwj+5bMUDvoOc9u1/p9lxTnxidChj1Qhet308vj5mnL9hWa+nZftS4b5pH3KyPPN/8KgzTxswdVNDX9XlxmU2CZdurZoqBnPg8AAABAJkKYaZXhr9x5wxRQaYg+e7qy5WW5SSf2aM//97ozdXnZl5p8ICENKxINOQo+oPdeaqjsqbovy6qaz3+hd5rlZPKkBXtutRs1RWMeLOrBjd6durrxIw3+dGeaVPtZZyiwxjOaMv5RlcmSBnG34avCXUZp2psNFeqRw9mUK3eE/IIbaMTHPVXC1+JBEg9q117PbtRiZK+r1777jx4q6uGHLLYcavr6JxpawQNlf7Zc6vHNIn3SoUCqeg4ny/BTxT791cyT6+QtStz7nXo3rqay9bvpyfenaMVedwabhhwhJdXi8Vc1eeVv2rZsrF7r2VDFgtzzLZCh55ujrIZ8NFRVs3n6vXYq6ue3NWjM7hQ2tgMAAABAHmWZodyF6qn/yMdVxmoIIVOxe/fo8N973cXv0NgPFul8mraLtCv/g8+pt0s7h/9TtjrP6pOBpT0YrOF/sqjysPEa/WAhWZ5qFjijVuu1od9ofwbbyPgvtoi2GjX+CVVMy4aehp9KPvapxnQv6IHqO0M+eYqpzbBX1S2/9SpT58W92h3pwQuGLa8e+PgzDSjr/nYGt2Nkqaih7z2u0m4vRzPk8HXIU/tV2XK10sOtwjJYNXmiLh9cp6kfv6CHGv0ZbA55f4qW77novmDT8FN4pbYa8sF32rB9nRaOHqautfIp1c8ZMvR8M5Sj/VD1K+/5lRNJZxdp+FNTdCSteuECAAAAXoww0zIfFek3Sq/USM3GI4k6tHv/v6rfTEUt/Y8+33QzTftFGr5l1atvHQVY+SXf8ho88lEVc2+zQtyWoeCGL2ncU5Xk0YKgpEjNf2G4ppzIoMvLbXnV9YOR6pjHg0vL73jsMDV7/QP1Lur+ONNR9WmNGVgiFSG1qfj9u7XPY4GHXQV7vKe378uVhl8OhgIq99PzbXNksGAwBUY21W/XSCEZdtB/BpvTPn5B3RpX/zPYfM+dwaYhW5b8qv3g0xozb512rvteHw1uq0q5rOxik8Hnmy2POvRobKGfrSTTVMK1SB09sFe7D5zU+StxSkrhfJvxh/XtUy9r3jk2wQMAAABckZFafmV+zmvau/s2ve6Sjurb96bqsVl9VOSOPRFNmXGXtP/3zdpx9KwiIy/o4jWnAkLCVahMNTWsX165LZVL2hVxX0c1eG2Nlt1w5edtynP/s+pbNnUbFJmxF3R43yGdiEpUQGi4ChYrotzZ7n4zjkwrsK5efL+HiqQyODaTruvMvt3ac+SMomLtCgovrPJVyyhv1r+Fgmaijk8fruELIpUxb6EN5Wz3kkY0t96b1TRjdWH/Nm3bd1qX4n0UFFFEFauUUd5s1kJRI6iWnn/zAS1+ZJpOZYiTlKTTu/fpsoeefNgiOujNFxsoxMIJN2NO6pdpkzT1x7XacvicomNsCsxZQGVqNtH9PR9R+/KhKe9IbQtRy0HdVHLBaO3LoLn6rQxlqdFAtQJmafHN9B5LSv4bbP5nnab95xVlL1ZL97Vrq/btW6pB6Rx3vwzfsCu4WEP1GtFQPYdf0u6VczRlyg+avXq/opIJ3jP6fDNC6qhZFVerMp26vPV7vfbaF5q7+bRu/m+XP/lHlFPj++5T+y4PqH21iH+ebzNGOz4fpjd+vswGeAAAAICLCDPdzYxT5M51WrFumw6ejlas4afAsNwqXKaSalaK0c59t1/LG/PrWH34UxeNaR3yj+DGjL+oXT/N1HczFuundTt06sbtExWfHNXU5/1P9Wob1/vD2UIbqVUNPy1bHZfyDzvKq8+gBpZ3gjXjT2vl6Df0xlfLtTf6b3e1PkEqWKWJuvburz5tyyqMas+/8VHZvi/pkUJWw15Tziv7NO+LTzX6+5+08+I/55oRkFd1uj6hl55+SDXCfRR/8BsNeW2Vom53B524X5Of7KmfA/4+ApvC24zQxw8Xc+3CYcZo3cdPaPTvya9fd147quO3m9Z+lTXoudbKaakqKkGnfxmrEa+O16L9V/8R0hoBBdS4z0t699nWKhrg6pm1KXvjJ/VU/YV69pfrFgZyF0ynbp7eptWrNmr74UhdSbQrIDBM+YqVVdUaZXR81yF5pjAzi2oNHqZWYS6ecDNJl37/WkMHfqClJ//Z5e/K5Ys6dXCLfpo+WdNf/kYTBlRUYLIva8i3bFd1rzpOr27yZL8DUwkXdmjhlB+0cM1W7Tt5SdeT/JWjcEU1fbCvBt1fXqEWNgoyspVX1RI+WrzNm9YGJ+ryoX8Gm607dlKXTi1Vt2hwykFgCgzfMJW7r6/eve8xPfxRGzX9cM8d5mvGn28+JcurtIvl087zCzSs+ytaeMsF1VTsuZ1aMnGnlkwcrfeaPKLnXhisByqEyG44dWXDBxr08VZl+DwcAAAAyEAIM93FTNC5jZP1zsgxmrXlwh0a+BvSnWovzPOa98FX6t/0OVXyM2TGntLa77/Qx2Nnat2plLdlSbz4u8YP6C2fmXP1eu1A10IwW4hq1i4hn9U7UwxHstTvoa4Wl9ua13doTM9H9Oa6qFsr/xKv6vimefpg03x9VbWvPv/yBbXI56BSU5KRvYWe7FPWYrWUU9d2TNbgPiP144nbzz4z5rTWf/uS2i2YqwHv9JHf2I+04dqd5uNVHdz4iw7+4x9tKlTySQtVnEmK3PmLVq5KzXYWhkLv66eHi1oIdM0EHZ89VB2GLtSp20xoM+aEVn0+UK13jNDsyY+rnKuBpj2vHhjYQR+vnaIzHq3ONBV7YrXGvvWevli0V9F3qBjz1GfECG+nIQ8VlN2ln3bq0i8j1annBO1J7vKUeF6r3uqvl4st1ictQpOvsLXnU9t2lfXWpk2e2QDFvK69M0dq0MvTtPPqP+f92dNHtXPdYv245SstereJXM3XZM+vUsWzSNuuun+8aeLPYHPqR+s09aOXFF6xiTp16ajO7ZuoUoS/bHc52ez2O59Ib5hvfhF5lMOlAZqK++0nrbztk6G/i9HxVV9q8NqFmjXkPY3qEacPhkzMsP2KAQAAgIyKnpluYCZe0C/vPaQGXV7X1DsGmdIdg8z/Stj3rd6dvkdbf3hTnWs3UueXv3MpyPzfC+zX129Ps7CBgF0FypVRyhvyZlX9Ti2Uy8pSwMST+mFwr9sHmf/8SUX/8aV6Pfq5dnNDJ8mm3B0eVmuX0xTpz42lJqpX11fvGGT+nTNqs74YMED/2R6T+mF6mi1C7Xs0sdCrzlTCoYl64vnbB5l//7lLa97RgA9/1w2X13QaylK3q7oUdi12SRUzXscXvaJWjXvp7fl3DjKllK4iqWVX4S7d1MDFBq3OyEUaPuSb5IOlvySd1oy3J2hXfEojtytP48Yq44FHbGbcMc15uoNaDpl6S5D5P/E6+P1Ijd2R4Po5NuzKVyhfJnkqGKfI7Us07tX+alG1imrd/7Ten7pGBy9bOB8u84b5Zsg/wN/1hwcOh1zewyrhrH7+uJfq1B2iH057TV8FAAAAIMMgzLxbzita/1YPdf9kk6LutmrLvKaVw+9Tiye/0tozLiz9vo24rQu06KiraaYhR9ESSrHg0q+KWjYMsTBZnDo/f6ReXXrB5So+580bshDbZl62PGrXqaal3eLNmK36aNA7+iXFqiDvYYtorg41LQQJzmgt/ugL/eZS/9dE7fvmfX1/zPUQwfAtp/ZtCrlYRWaRmaRzS15Q5/6Ttet6Or2H9kJq276CaxsSmXHa/MVHWnje9bEmHpij6X+kHIr5FKyhmrnd+7XkvLpDYx/rooFTD6S8lDfxqBYv3mthGb9NYTlTqAD0RknXdGTdTH04rIdql6+ppr1e0xcLtuh0jNM9waZXzDdTcXFxLv69hvzrdVePElY2PzIVF5u673kAAADgXpfp7sHSllOR819Uv3F75bZbEtO8u5vFxAPatjvW5dew5cqt3CkkND4la6mGlUrBxEOaMm757XsxIllGzgZqVtnKcvtEHZ38tsbv8cjC3HRiKLhOQ1WxsNV30tkfNWnpJdc/OzG/a9K03Upw+Rd8VKZhXYW7/YppKvHodxo0dJaOp2PbRVt4PTUp69qSfvPGGk2eeezWjcyS4zynDRuPpPw7jlKqVMZKIJSy+F8natTK8y6ON0nHduzWFZcfTBkKDg5M9di8QvwF7Vg2QxO//V4zfnXPZmHeMt9iz5zRJRcPbGSroREzvtVLbYql0K8TAAAAwN3KHKvj0okzepXefvNHWSgYcTOb/EPzqViJYipWpJAKF8yv/Pnyq3R1lxe7yfAJU85Qm+7cDNBQcLkKKmShJC3x8FIt2uNNG2JkHP6VaqiShWaZZvw2fTvxd2XgBeOp4KNy1SvK5T165NSl1cv0m6XS3iQdXrpUe5+roAoufVwM+Zarpop+k3XGnSc76axmvDZKa++49Dlt+FeuoQoubcJlKm7zCq22/KQiUccOHFOiWSr5DWaMABUpnkf2ZS4EUR6SdOqkTidJOVwKpAwZvr5ySJ7p85mufJWrYhN16vxnD83KuQPuuofmX7xlviXu+UPbYnoqr0vL4Q05ctfX0xNWqM+hnzV94iRNnPmLDl31aKNdAAAA4J5EmJlaZqIOTv6PZnl2R5B/MPxyqFS12qpdq6qqV6mkiuVLqUiurHe3+6yRVdmyJvcCdhUrVVSubzbuVNTm37SPLDMVfFSkQhkFWng/E7Yv0eLbbgXuxWzhKlvawtJdM05bf91mOUxKOrJZv51PUoW8riX1RtaSKlfIriV73RWzmYr9/Wv9Z+VlD/XBdJWPipYvqSwuzbskHf5ja6qqruOvXNYNUym0ULApd94I2ZR+YaZ546osrfb38Un+i9SvqJp2rqE8bqnWMxV7ZI1mbzzjlgrJW9kVVLS22nbqqM6dWqmeG3Y3v5X3zDfzyhrN//mq7msb7Pr1yLAruHhT9X+nifq+fEq/LpyhKdNnaeGvp3ST1QoAAACAWxBmppIZ96smfLvL49U49uAiqte6vTq0aakW9cooPMDm3t2MDV/5Jbuc11958+e00I8gSYf2HrLQcw7/46NCRfNZ6MuYpFObNutUJssyZS+gwvktlAInndbeAzesB4KJh7TnYJLkYpgpn3wqnN9HcleY6bysJV/PlIXWnR7iUKFCeV2cdz4q++xPOvesp8ZiU/bQ7Ona/8SMjbVY6Zz8FdkIrKH+H3ygJm5ZPW8qevpjmr/xjBu/ewz5RVRQiw4d1aVzOzWrmEv+htsTzL/xovlmRunHMd/rQItBKmWh7cWfDNmy5ledh55Rna5P6d3DazXru+816YeV2h3NNyQAAABwNwgzU8mMOaMTFzyVItkUXKqFeg3oq8c6VlNedweY/+Ajn+TuKm3ZlSvM7vrxzVidOXXRQ1VDmZwtVLlzWdj0xkzUoX2HM19w7JtD4aEWZrzzrE6eTUUiaF7R6dNX5VQO18Izw1+5wgNlyNVNQVLgjNapk9fTuSpTki1EEeF+HrzGWGHInjWrshhSXHqdGKebNrnJ4HxzllWj1m3UoUNbtapZSMFuLME0k67q8Jr5+mbF6VsrHr1svsVt+VxPj22kOU+WtbQx2z8PY1dQsUbq/UYjPTb8hFZ9+4ne/Xyutl3KdFdvAAAAIE0QZmYwjojaenzEa3q6UxmF2NPmdi/ZIhxbkIKsrHt2XlU0PcJSxwhSSHYLP29e1bnIzNUtU5JsQdkVbKE5n5l0WdGp6jlpKvrSFdfDTBkKDgmWTRfTbQm0RxjByh6cMaIlSZKPj2d2jcefAWabNurQvo1a1Szs1gBTplM3T23WwunT9d30xfrt1M3bh8JeN9+ua9OHA/V8sR/0cevcd73s3shSQE0HjVLjhwdo/icjNOLLDTqXcHevCQAAANxrCDMzDIcKtByucZ88ruqhFiohPc4hP9f3E5KUoHi3be1+jzH85G9lKaN5U9czYxM2h58srciNi1NsqvJzU3GxsRaq8Az5+vlmoM+mmxi+8nfvBuJ3JzFRiZlwWqeXvwLMju3bqqWbKzAlGlSyugAAIABJREFUyYw7r23LZun7KT9o7pojSvFZljfOt4Sjmjqou4xPJur9joVSX6H5/wzZgkqo04ipatBirAb2H6VV56jSBAAAAFxFmJkhZFHZPmM0/c2myu3+3Rbukml5yaVH260h87M8f+4m+WKyZiymEq9ft9izEv/mm7OsGrdpqw7t23gkwJSZoEv7ftbsqdM1ZdYq7Y7y1iDOwnyLPaQpgzro4Ja39NmLbVXMtR2MkmfYFVbrCX03J5cGPTBc809763kEAAAA0hZhZrqzK3+XjzV9ZFPlTuWyctMZp6hje7Vz9z7tO3RCtuqP6/F6FnaDTvbFExRnaacJP/n5uePA96J4xVo510YWZXPHDXUGY8bFWtvcxM9f/qma7Ib8Aqz07jMVHxefCfspWpx3HuVU1MUoeu6mghFUTE07d1FnTwWYMpV07ZjWzZ+h76fM1OItkUpdEb4XzzdnlDZ9OUgNF09X35df0VMdSin7XbeDMeRX9AF9/u15nev0gX67nvmuMAAAAIC7EWamM3uRR/XZ+60tBpmmkq4d18bFC7Rg6c/6ecM2Hbn8V9MtH9Ua2U196oW6Z4BmjG7GWLi5sgUqJNguZb5taTzPeU1XrPR+NIIUEZFFhq5kqoDNvHpFV5ymXK2aNOzZFRpsSLGWa4gVGmZl52xTl6OvZL6gzXnV2rzzKKfOnT6XuXqSphFHtQEa825Xhbl5K3jTGaPTvy/R9KnTNW3Brzp+4y7nSiaYb3Gn1ujzga01bVx79RvcX4+1Lq3QuwqPDQWUH6DPX16vJi+u07W7eCUAAADgXkCYmZ6MULV/4SnVtbDBjnnziBaPfltvfbVCB6+lQazijNKFKAvHMfwUnjtMNp3xwtDHlr5L5J1ROn8xQaYcrsV4ho+Kly4mH/2hTLV/RMIFnbvklPK6uA2MLY8K5LZLkRYDdCO78uYNdD3MNGN0PvJqpgqOJUnOaEVeiHdx3pmKvXhcxy55qLTOvKHfdp3zwmtHZmMq7sIu/TRzuqZMna/VB6+4L2DONPMtUZe2z9G7fefqs8L11bXnI3r0waYqG+bi9fvfDB8V6j5MPcZv0LhjfAIAAACA5BBmpiNboS56vFWIi2GKqaRzq/Xao09o/PbraRioxOjC+atyKqeL47SrSPHC8tEZa0uFPcZKpaNd/v6+UrqNPF4njp1Vkoq6+MG0K1/NGipg/0OHM1MpW9JJHT1pIcy051XpUoEytkVb+1z4lFC5EhYugYkndfREZjrRf4nX8aNnlaRiLsw7UzGr31Tzwcvpa+ki8+I0PZh/WnoPwyVm4mXtXz1fU6dN14yfdumiR56SZLb5ZurG0TX65vU1+uadcFVr1029e3VX++q5LW8UZPhXVud2hfXV6MNUJwMAAADJcPOCNLjOpvzNW6myi7tXm/H7NbbvExqXpkGmJCXp6KETFhaN25SjciUVdDGH8jRnopUKF5sCg7Ol44ciUYf2HFS8hTfYp1xrtS2SdifbNK3MPiN1la7Oc9q156LrN/OGryrXrCyrrVp9itdQjZyuv9vOG/u081hmjBgSdXj3AcW59NbaFFS3sarTFzfzMJ26fmy9prz3pNpUr676D7+iL370VJApZer5Fh+p32d/okHt6qryfcM0euVxWenSIvmoTM0qCs58rZABAAAAtyLMTDf+qlitjBwu3bSYurJstD7dfN3Tg7oNp84cPCwrK9p9yjRRk7wZYWqZiouPsxD+2pSvYF65HA36hCtPLvf+nTe2b9E+C6ulDd/yerR3LWV16yjuLDHBQsJh+ChLFt9UHCVJuzZtsxAC2BTauKXqBFg5hl3FW7VUSZcLM03F7/hD21O340mGd2P7H9rt4ltrj7hP3ZoGsQ+8lzNjz2rz3NEa9kADlav9kIb+Z642nYlNk4dlmX++JejC1ll6o3tzNer/nXa6vKmPIZ9CRTPMw0AAAAAgo8oIidO9yZ5HRQq6upNyovb+ukVX0qlZX8KOLdqR4PrBDUdldX+ojBxWDuIfIH/LI0uJqWuXr8n1YkKb8lSsoAhXPhVGNlV/9jM9W8XSX5mipOMbtPaYld6PdhXo8bIGVXD/2buVqRvXb1gKh/MWzOd6OPy341zd+Is2W9jQxxbeWj1b53A98MhSS726lXJ9jpqJ2rl6nS5kuoaZf3KeWq81h12cd7YwtX+qj8qlJqdG+jITdHHXMo19+THVr1hH9w34QN+tPa7radyi8d6ZbzE6PP8V9XhlpS67eI5t2bNTmQkAAACkgDAzvRjZFGxh4x+Xez/6FlDZEu6tYjEvbdbG/VbKBR0q/fiLeriQi2VvfiXV763HVca9uaAkKfHSRUW7HEAZ8q3STm1TLIsJUJneYzTpyQrK6u6bzsTdWrzMyrJ+yfArp6e+eF0tI6zFho6Iaqpd3EoIaurmxUsWgg8fFa9dXeGpuMqYkcu1YGOM68GpLVgtnx6sOtlc+WGHyjz+vLrnd/18mQnbtGDxiczbxy5xvxYtOeTivDPkV2GgPnm2mixdwpBOTCVeOaSVk95R75Y1VaHp4xrx9Qrtu2xxwyx38rb5ZuRU21Ez9M3g2gq33GncqbPLlukPV0+3pVYeAAAAwL2JMDPdmBbuWewqWa2iAlP4KSOwvAZOnKG3Gwa7941NOqJlyw9bCthswfX1+pfD1SA0hZFkLa1e4ybptbpuHvN/JZ46rpNWclj/qnryja4qcqdg1SeXGj7/rWaPbKxcdk/cWSdq28zZ2muhElYy5Fe8u77+4S21K+BCczlboEp1HKG5K2dq5mhrIXLSiWM66XozS/nVekSPpaZq1LygRVOXK8rl4NSQT9FHNfrD9sqf7N9jU45Gr2jcM5UV4PLbZ+r6L9M153hm3mE4UXtnzNAfrjUylIwAVRwyQd8/XVNhqfrgGgos3lxdG+XjS8hDTOcNndgwU+8P7qJqFZuo6/NjtWD7hQyyMZs3zTeb8t7/tj7oXlvtX5mqNfPeUJeS2Sw9MDSyBbrcCsR59Uq6rcIAAAAAvAX3kenFvKool+9YbApp85xGNM91hyW7NoVU6qnxS2frzWbh8nF7xpaofQt/tBywZa3YX1OXTtDzbUsp5N/VLI5QlW0zRBOWztEHrfN6YMx/cp45oANXrW0ClLPFO1qyaJSGdqqjcoVzKyJ3PhUtX1vt+7ykiStWacbTdZTTI0Hmn5IO/KAvV1+TtejMUECphzVh1WJ9Obi5yobdmugZAblVtf0T+nzxGq0e10+1cvjIv9IgvdmjgMtLwZNO7tM+C2tSDUcpPTF+lLqXuFNDS5vst70KmYpe9pW+O5jgenWm4VCBTp/ox6nPq33JoFsubkZAATUZMk6LJz2mMla2GU46qR/GLlJkJg8Yko7N0rgfL7o+72yhqvvcNK2dN1I9KoW5uGTfTxGV2mropwu0efUEjf7sebUOobzTfUzFntumeZ+9oAfqVlO1Tk/rw5mbdcraLjRpwlvmm0+h7vp4ZEvlskkyfBRWvbfGrVyrZZ/2U5OCrjTqzaLKD98v1zqSmEo8dkTHM20JOAAAAOAelhdMwU2Szuno8RiZVR0uVXgYvsXU89ufVGXRdE1fukm7T0Ur1siqXIXLqnaLTuraqozCPJUISkraP0OTNgzQhw2zWqhIMeRfsJmen9BUT0Wf0J49R3X+hlN+2XOrWOniyhPo4/lNHRJ264+d8erR2N/1Yxl2hVV6UCPGPagRnhzbnTgjNfujbzWg0RCVdXG3+7/YAkuo84hv1Gl4tI7s2qMjp88rOjGrcubJpxJlSypPNvs/z4MRqAbPvqj2iwdp7nkXAo+4bfpta7y6NnH1fBryLdReny6vqm7zZmvB+j06eUUKjsijAsXKq07jqjr9dnMNXnLz1l+N36Ev3luohyZ0dq2PqSQZDuVpMEQTfu6r8/u2auv+04qOtyswvKgqVC2r/IF2i3POqagVn+izjbcZX2ZjRmvxx+O0qdUrqpXFxbNkOJSrZi99urSbXty+QvN+XKPf/tihvScuKvraTTl9A5U9JEz5ipdXterVVLdpM9Urlv1/Dy9ytdWLT3yrFW9tUazH/rB7Q9KJpXqz59dasnqfojy2E7kbecN8cxRT349fUpOQf16ADEcOVXlohH7oPEDbl83RD3OXacX6bTp2+e8PX2wKyFNZ7fq9qDf6lZZrl/JE7duUfv2xAQAAAG9BmJlu4rRt8y7Fd6ojP1fv43zCVKHjE6rQ8QnPDu12nGc0e+w8PVWvh/JZ3tHFkG9IQVWqW9ATI0ueeUnr1uxWQuOq8qb9I+J3jNOrU9rrh16FUlW1aviGqGiVuipaJeWfteW8TyOeb6hVz/2c8k20GaXVK7cqrnFtWSluNPzzqvZDT6r2Q//+n0QdrFxMPkt23KaNgamope/pjaUNNKZ1Dktl5IbNX+FlaqtVGQu/dBvOK+v13mtzdCYzrzD/m6SDk/TyFx314zPlLb2/MvwUUamNBlRqowFWDmg4VKL3cD38fTd9feweOckeknRohaYcSu9RWJOx55ufyj0xSi/WCbzjAxDDN6cqteuvSu366x0zQdfPn9HZS9cU63QoMEce5QsPlMPC32XG79HCxUczb29eAAAAwE1YZp5unDq74idtifeeEoxrv3ymD1ddsbj8Ob05dWLpEm33ovMsSTKvac07L2jCIQvLrFPNrvwPjdDQqq70tnTqzI/ztOGmu0ZlV4HKFRR2pxt+51nNfuEVzTmdlAbn4d/Hvqjlrw3XpKP3UrQQp+2fPqsPNl1Ls/NtZK2lYc+1UCirze9BGXe+Zak6VKOfriyXi0YNhwLDC6pEmXKqUK6kCkdYCzIlp6JXfKNph+6l6w0AAACQOoSZ6ch5cr4mrfSicNB5Rj+88p5WR3vNiCVJScfma8ra6x65WTbjT2j1z67uymvxta+u18j+72vjZc+fb8NRXH3f7KPSLvR1c55dqK/mR7qpesiQo2xllU+mbNYZuVjP9R+jbdfTMM4047Tvm6EaMv3kvVclFb9HYwYM1+yTaRGkS5JNuTo8r8FVUrFRFLxfBpxvRmBtvfTpAJVzddmEG5g3/tBn7y2QK90+AAAAgHsdYWZ6Mi9q/kdfaUesu+9eTMXHxirRAzdFicematjwhTrliRf3FOc5zR79g466ecxm0gWtGNFTj326TpEeSrxid3+pXo9/qe0eD/IMBVQepDe7ubLb7zWt/GS01l9zz5hsweVUuWhyHS9MXds8Sg8PmKw9bqsITe5w8To2+xl1f22NorxomrtT0pmFGtrtFS0+nTYBk+Eopt4vP6RCfCPdkzLWfDOUvXYXtSmUBj2d/+KM0uqRz2v8fk88FgMAAAAyH24d01nC7vF6+j9bdcNdd3Bmgs4sH6n2Ld/Wrx7ZBMKpM/Of06PvbFSUGwsGzaQL+nnkw3p+6Q2P3MzG/Dpar88557YqOzMpUitefVh9vj2km0cPynMrkU1FrX1H93f/SGsvJHr0Rt804+XInlOu7M/rPD5Vw9/fqCvumAP2IqpSISiF4MCpyOWvqtPDn2njJQ8uOXde0/avB6jD0Pk6cY/nCnEHp6pvpyc1efe1NKke9ytSSzVy85V0r8o4881U9E/D1bLrh1p+Ms7z4ap5TdvGDtKAbw/JG/ZtAgAAADIC7hzTXZx2jB6kobNP6G7bOpoJkfplVE+16PWVfj+8W7s8VS6oGO0Y01tdRizX6YS7v9VzXt2lSQO7qMfn67Tm94MeWbItM0pLXnlK4/fG3PXNqXl9r74b9IB6fb1HNyU5Lx7RYY8uvTcV/dtn6tqqrz5bf15uOOW3vH5C5K/6/LF2evCzrbrh0u8k6uCEIRo87bDuurDY8FX5KmWU8gp3py6t/0hdWvXTmI0X3Fx5bMp5eacmPdlR7V5ZrtP3eJD5l/jji/Rsu44aPGm7opM8E+uY8ee0ccJzatVokGac9q4WFnCvjDPfknR+/Wh1b9hK/cas1Um3r57471gSIrX63Z56cOT6e7YKHAAAAEgNwsyMIOm05j3VVf0m7tTV1NzLm0m6vGumXujQQg9+uFbnEiUlHtCOvfEerCq5oZ1f91XzBz/QTydSWb1iJujsurHq3aKTnp1/VHFK0ontu9xa8fmPw13ZoDceGqhx267ImZoBm05d3j5VT7brrGfmHVXcX/+edEwH0mCTmPhTKzTy/qZqNWyCfjl596GsJJnxZ7Vx4gtq07Cr3lh2SvFWftl5Xkuee1CPfvabLtxVsmhTWMWKKmh37afjT/yk17s01X1PT9TaU24Ip+MvaMv0kercqL2emXlAN+/y9TIb88YBzXi+o+p0fFnfrD+lGDddVMyYk1o3+U11a9BQ7V76QdvToDcsMr6MNN/MG4c0983uqlWnm174dr2O33C65zvVdOragQV67cHW6vbpZoJMAAAAwKLkGtWlk3jtnfuZPtjt4tCSzmvDxUxwE5xwSote7KxdqwfqjVf7qlWxQNlTathlJunq4V/0/Zj/6NMZ23Tp79Vk5g3t2XVcSS1KefBNTtL5DZ+re4OFatZnqJ7u007V8/in3GfMTNClPcs0YdQofbH4kP7eDjJh93btSuihcA9tvJB0bqVGtG+ttUNe0ev9W6p4kM2Fvmim4s5u1rTRH2rU5F919t9rAZ2ROnTkqpy1wjz/dMB5Wdunva4usz5X5Q691P+RTmpRLb+CfCycL9OpmDNbtWTWDE2aPEfrT8WmfjxJ57Xqna6qv6yrhj0/SA83KKCsNivvnSnnzUjtPX1Tlt7ypGhtnfqqOs0crWpdeqv/o53UsnIeZXH52KbiLu7TmnnT9OWX07X6eIyFg9+LEnVh03d6vvN0fVSlvXr36aYuzauqULC1voJm4jWd2LJaC+bM0Yx5v2hvNCWwuJ2MNd/iTq/X18PXa+K7xdXk/ofUtWNrNa+SV1lT/JL+13icN3Ry0zJNn/S1JizY+c/vbAAAAAAuM4JCwqkJyGjsgSpat7U6tmqg2lXLqHjB3ArL5i8fM043rlzSqcP7tWvrr1q9fJmWbTyma3fKcm0+8nXYk7/5M51KSkhwz5JdR6hK1W2q5o3rqFb5kipWJJ9yhWRTFoep2GtROnN4n7ZtXqufflyspZvdV3GTWrZsBVW3TVu1aFBTVcsWVaE8ORSc1U/2pBhdu3pZkccOaPeOLVq3YpkWr92nS8k0NDN8HHLYUwhGzSQlxCe6vR+cb84yatCknqpVKK1yZUqpWP4cyh4YqGzZAuTjjNXNq1E6d/q0jh3cq+3bt2rT+nXauOf83S8Pv4VN2QpUVfOWjVSneiWVK15A+fPkUHAWf/k5bHImxOrG1cu6eO6MThw9qN07tmnzpk3auOWQoiyVhN6OoSx5Kqlxs3qqUamcypctoULhIQoODlJWR5Jirl/TlegLOnlor3bt3Kk/NvysFb8e1mXChNRzhKl03YZqUK2cypYprdLFCyhX9kAFBWZTFl8p/uZ1Xbl4TidPHNOBPTu1bevvWr/2dx2IojMgUiFDzTdD/uGlVbNODdWsXlkVShZR4UL5FB6STVkDfGUkxisu5rouX7qgc2dO6tC+fdq1bZPWrdus3WdvpklPUAAAACAzI8wEAAAAAAAA4BXomQkAAAAAAADAKxBmAgAAAAAAAPAKhJkAAAAAAAAAvAJhJgAAAAAAAACvQJgJAAAAAAAAwCsQZgIAAAAAAADwCoSZAAAAAAAAALwCYSYAAAAAAAAAr0CYCQAAAAAAAMArEGYCAAAAAAAA8AqEmQAAAAAAAAC8AmEmAAAAAAAAAK9AmAkAAAAAAADAKxBmAgAAAAAAAPAKhJkAAAAAAAAAvAJhJgAAAAAAAACvQJgJAAAAAAAAwCsQZgIAAAAAAADwCoSZAAAAAAAAALwCYSYAAAAAAAAAr0CYCQAAAAAAAMArEGYCAAAAAAAA8AqEmQAAAAAAAAC8AmEmAAAAAAAAAK9AmAkAAAAAAADAKxBmAgAAAAAAAPAKhJkAAAAAAAAAvAJhJgAAAAAAAACvQJgJAAAAAAAAwCsQZgIAAAAAAADwCoSZAAAAAAAAALwCYSYAAAAAAAAAr0CYCQAAAAAAAMArEGYCAAAAAAAA8AqEmQAAAAAAAAC8AmEmAAAAAAAAAK9AmAkAAAAAAADAKxBmAgAAAAAAAPAKhJkAAAAAAAAAvAJhJgAAAAAAAACvQJgJAAAAAAAAwCsQZgIAAAAAAADwCoSZAAAAAAAAALwCYSYAAAAAAAAAr0CYCQAAAAAAAMArEGYCAAAAAAAA8AqEmQAAAAAAAAC8gk96HdjhcCgoKEhZs2ZRgL+/HL6+stlsMoz0GhEAAAAAAABw7zBNyel0KiE+XjGxsbpx46auXr2qhISE9B7aHRlBIeFmWh3MZrPJz89POXKEKUtAgG7cvKnr128oJiZGCQkJcjqdaTUUAAAAAAAA4J5ns9nkcDgUEBCgbNmyKmuWLLoZE6OLFy8pLi4uw+V1aRZmOhwOhYWGKjAoUNHRl3XlypUMnfICAAAAAAAA9xqHw6Hg4GCFhGTXtavXdCkqKkNleGkSZvr5+SlXzpySpPMXLiguLs7ThwQAAAAAAACQShk1z/N4mOnn56eI8FyKiY3V+fMXPHkoAAAAAAAAAG6UK1dOBfj761zk+QwRaHp0N3OHw6FcOXMSZAIAAAAAAABe6Pz5C4qJjVWunDnlcDjSezieCzNtNpvCQkMliSATAAAAAAAA8FJ/ZXthoaGy2TxaG5kijx3dz89PgUGBOn+BIBMAAAAAAADwZucvXFBgUKD8/PzSdRweCzNz5AhTdPTlDLGWHgAAAAAAAEDqxcXFKTr6snLkCEvXcXgkzHQ4HMoSEKArV6544uUBAAAAAAAApLErV64oS0BAuvbO9EiYGRQUpBs3byohIcETLw8AAAAAAAAgjSUkJOjGzZsKCgpKtzF4JMzMmjWLrl+/4YmXBgAAAAAAAJBOrl+/oaxZs6Tb8T0SZgb4+ysmJsYTLw0AAAAAAAAgncTExCjA3z/dju+Znpm+viwxBwAAAAAAADKZhIQEOXx90+34HgkzbTabnE6nJ14aAAAAAAAAQDpxOp2y2TwSKbrEI0c2DE+8KgAAAAAAAID0lp7ZX/rFqAAAAAAAAABgAWEmAAAAAAAAAK9AmAkAAAAAAADAKxBmAgAAAAAAAPAKhJkAAAAAAAAAvAJhJgAAAAAAAACvQJgJAAAAAAAAwCsQZgIAAAAAAADwCoSZAAAAAAAAALwCYSYAAAAAAAAAr0CYCQAAAAAAAMArEGYCAAAAAAAA8AqEmQAAAAAAAAC8AmEmAAAAAAAAAK9AmAkAAAAAAADAKxBmAgAAAAAAAPAKhJkAAAAAAAAAvAJhJgAAAAAAAACvQJgJAAAAAAAAwCsQZgIAAAAAAADwCoSZAAAAAAAAALwCYSYAAAAAAAAAr0CYCQAAAAAAAMArEGYCAAAAAAAA8AqEmQAAAAAAAAC8AmEmAAAAAAAAAK9AmAkAAAAAAADAK/ik9wDczghU6TY99fhDrdWociGFBxq6fv6Edq1bppnffac5f1xQQnqPMQPxbfKRdk7pqjAXY23nhanqWnm4VnvwJNryNFTfbpWlrTP11arTcnruUAAAAAAAAPAimSvM9Mmvzp9O0WddCsvfMOWMv6krN6WgvKXVqFsZNezaW/0mv6A+ryzSMRJNSZJ545wO7j+gC38LM40suVQkX3b5JETrxNELivnbzzujInXDw2PyKdlGw559UDe/Xq9vCDMBAAAAAADwX5kozLSpQI/3NapLYfle3aavXnxRoxbs0sUEyZY1n6q27Kannu+rxo0bq2zIYh07T0QmSQm/faS2jT76x7/51n1bf8x6VLnOzdKgpm/qtzQOfn2CsyubId1M28MCAAAAAAAgg8s8YaYtt1p2rKVAxWvjhwP18uxT/1/R57xxSpvnfKiHV85TuZAT2kmQmYHZFBwSJJuR3uMAAAAAAABARpN5NgCyZVdYiCEpRsePnb/t0mTzykHtPBZ3+9/3zaM6PUdo0pI12n3ooI7v2aCff3hfQ+4rpsDbBGsBHcbrVORJnZnXW/luOYs+qvvOb4qMPKp1L5T7W2JsKNejU3X63EF92zGL5MinZs+O06pte3X27C6NbRXwv5ewh6li56f0+ezl2rpnv86c3K1tyyfozW7lFWq/ZTQq1KSvRv3wk7btP6BTh7dq06IxeqlTyduO3V3sYRXU9aWxWrJxi46dOKBDW5bphw8fV73cf8vIfYpr8KL9unDugBY/Uexf6bmPSg9dpFPnjmvf1x1Vqsd3Oh15XDvfqytf2VWg3xydjTypi5EnFbn5VdV0eO5vAQAAAAAAQMaXecLMpNM6dCxWppFNDe+/T3lvCfzuzAipo5fnLtO89/updflQxZ04oCOXA1SsYXe9NnGJln/WQf/H3n2G2VXWbR++9p7ZU5JJZlIhEjqETujSBEFEBVQsKCoiiAr2XhFFrA92LDyPBRtWwAYiNmw0Cx0pgZAECIHUSTK97P1+SIAQEiC+SYY1c56fODJrrf3fM4svv+Ne695yfYa0Ul3aJu6UF5/zs/zgPUdl1wml9HXPyM23rwitpbF75m0//kN+9/V35/iDtklL5z25fcaSjNrx2XnTF3+Rn711p0eiYHlyjvjEz/PnH34kJx44JQOzr8tVNz6Qpl2OyTu//otc9L590rIeR39I8y4n5ft//GW++rbnZedRi3PLNf/OjO4pOeTVH8kFl5yT4zZf+QcYuDPf/PC3cmt/U/Z56wfz0imP3HKlCc/Lu96wWxo7/5EvfPLizJ3zz/zmkt/myru7UkstXXdfnUsuuTQXX3JpLvnTbVlkQS0AAADAiDZ8YmatPb899we5rbecKS/8Yi674GM58cDN0vRE55U3yyvO+Xrevk9rOm/8dl5z0N7Z6/Cjc9iB+2b68z+RPzxYybbHfS7vEl+wAAAgAElEQVTnvWP3NK63YcvZ7sTP5jPP7c5F735Bdtpmx2y5w/H51uxqUt4kx37uW/nwoRMzOPvifPD5B2SXfZ+dw591cHY94KSc/eNv5DPn356BJEl9tnvtOfm/U3ZJ6dYf5o3P2j/7Puf4vOzFz8veB52S8+6oZM+3fCZvm75+3yZQaj0kZ337Izly8sL86VOvyH57H5FjXvbKHHXwgXn2GX/OkqcdnU9+7AWZtHJVaO8N5+aM8+ek2vasvP89h6S1lCQN2ePUt+eYCYP5zzc/ke/OGszyK76SN5zypnz6j4tSTTUL//jZvP6UU3PyKafmlA9ckLsG1+vXAAAAAKBghk/MTNL5j7Nzwmnn5d+LS9n0oNfmCz//e274w7n58CuenqlrqZrNB70p733WhGTp3/LR152VS+c89Bj6QBb96xs59e0/zj3Vpux+6rvy0k3X1zPbddl0+4m59oyT8o4f3pBF/Un6+9KXpGn/N+XDx0xOqfu6nH3S2/PNf81P38qz+u67PGe/8+z8cWEtSVJqOzLvfdcBGdvx95x58um5cEZnaiuP7b//jznzoxfk/rrtcvzx+6VhPU2e1GXH134gr9qqlFnfeXted87VeXBg5Y9qHbnl26fni9f0ZdwRL8/zH16F2ZG/f/aT+cUDydSXfSCn7lpJ+WkvyvtO2j7l+36as75+88PfEQAAAADWZljFzGQg91x6Zo464Hl5wxcuyU2Lkgm7H5N3fOmC/PPfl+Rrpx2YTR/1uHgl+xxzZDarq2bRb7+TC+9d/TnmWpb9/Xv5yW39KbUcmGMOm5D1lTMH7vhBPv3TezPwqH+tZO/nPzdT66pZctk38p3bH38b8ZZnHJ0jxpey9E8/zEX3PHbZYve/r86/e8qZtMf0bL4Oj90/rrrtc8wxO6Zh4Pb89Px/pmP1n1cfyFVXzcpgw67Ze5dHVoTWFv8+H//M5VlSv3NO+/BJedlb3pLDxyzJbz/9xfx5WW31qwAAAADAYwyf3cxXUV16e37xP2/ML778tOx/7Al5w6mvzlE7Tc/Lz/xhDjn4I3npa3+QO/qSlCdlx2kTUs5Abr3u5nSv6WKDM3PdTctS3bUt03baOvVZmMdPjE/OwF23Z8bqFypPyk47TEpdBnLL1ddm+eNeoT5b7jwto0u1LJlyeN714el5TBKsm5ptSkl5/MSMLycz18dj2k3bZ+dt61NLU3Y//n35yMDqB5QyZnprSqXmjJ84OqX0rZyrmvsv/EQ+//ID8olDz8g5hybd15yVj/9y/mPnBgAAAIA1GJYx82E99+ean5yda372v9n15R/N/376uOx4xBn5wilX5QXnzsxgaXRaRidJLcval68lqj30s3FpGTN6va3MXKPS6IxpWfGZS9uXPmHka2kZnVLKmbT/y/PW/dd+3GC1ut6CYWnUmLTUlVKqbJej37jd4xzZl1p1tZWuA3Nz7fUPZPDA7VJf68wVP/pF7vYeTAAAAACepOEdMx9SXZZbfvz+vGHKzvnT+3fNnkcekin/NzP31brS0ZkkpYwZOzqldK8h+pUyprUlpdTS0dG5YVcR1rrT2bXiM8e2jU0pPY/7eV2d3allMLPPfUkOOPPa9bJi9IlH7EjnYC3p+0vetvtr8qMlT/43Ur/9ifnoSduk+uADWTRxkxz2ptdnr19/Jtf2bMCBAQAAABg2htk7Mx/PQO6+a3YGaklp7NiMKSWpzs8ddy5ONfXZea/d07ym0+q2zp67t6Zc68udt816+B2XgwMDqdaSUnNzmtbXcs3q/Nx5V3uqqc+u++6R0U/wfWbffle6a+U8bZ+9stnG+kv2zMztsweT+l3z9L2ecK/4R5Sflpd99G15etN9+cFbjssHLlmY+h1fm0+fuuN63JwIAAAAgOFs+MTMUbvmTed+OaftMXYtj4KPyt777ZaGUi09s2bl/sEk6c+/Lvl97h8sZ+JRJ+UlU1f/dZQy9uCT8sqdK6l1XJ2LL1/88ErJ2qIFWVhN6rbYPts1Pvqsus2OzmueO/m/+OX25V+XXZ751XLGH3VqXr394y+cXf63S/OXpbU07PWavOWQ1g37CPxDBu7IpZfNzEBpYl7w5ldk28oTn5KUMv45780HDx+b5Zefky9dMTu//vRXc3VnU/Z868fymq0fvTtRZ2dXaill9JgxG+c7AQAAAFAIwyRm1mXrV38sH3zRi/Pxi/+UX37qNXn2LhPTuLKEVdq2y5Hv/Hq+dtIWKQ/cmwu+f3mWrjyz+4qv5+w/LUranpmPf/ujOXqrh1Yb1mfSfqfm/855ZbYo9+Sm//t8LnzgkXdADtx+ba7vqKU87si89U17Z1x5xTmT9zkp/3vhZ/Os0Wt6ZP2Jdfzl6/nyVctTG71vTv/eF3Pi9HF5KPVVJkzPCZ/9Uf7vlVNTTlJbfGk++9Xr0lHeIq/+2jfzgWdNzaprJZs3PzinvPnobL2+djJPkgzk5m+enQvvr6blwA/m/C+9Mru3rfIBdeOy27Fvymv2XyVEjn563n3Gsdl08PZ84+yfZ141GZz1w3z0G7emr2X/vPesl6yysnQgc267M121ctqecVSeOW7lVcp1w+VmBQAAAOC/VBo7bpP1/hrI6dN3y4033ry+L/v46ifn0Ld/Ll98+zOzRWMpSS3Vvo60d5YyunV0Gsul1Abm5y+ffG1OPvfGdKzyrUvjD8zpP/hG3rZ3a0qDyzP3rjlpb5yS7baakKb0ZOaF78nL3vmrzHnUSylHZf8zf5Ofn7ZdGlJLz9IHs3hwbCaPr2TBHz+RU37z9Fz0xSMz50vPzzM/c8vKx9NLmXziD3P9Z5+R2sVvynavuzhrel1kedNn59M/Oiev3aUlpVpvFs2emft7xmTqtlMzrjKQub9+V4467ZeZW01SNyXP++R3c+5JO6cl/Vl6z+259d5lKbVtmV123CwtmZ1zjz0iH/lX35P+VTYc9Mlce+GJmXzfN/OCA8/KP9bwMs7Ru78u3/r+h3LElPrUehbmzlvuzIO9ozJlh52y3YSGdP7pvXn6CT/Ng7VKdn33r3LZe3fO4p+8Loe8849pf+h333JQPvPH83PKlovzi1Ofk1N/vTC1JKWxh+eLfzkvJ2xWTt/iu3PLrJ5M2HRmPv7MN+eXy5701wAAAABgAxiS9rfS8FnsNjA/f/38iTno4FfkHZ//aS6/aU7md1UyZkx9uufdkb9feE7ecvSRecXXHx0yk6S2+Kp84kVH5kXv/0YuvWlRGqZun21auzPzbz/OWScflSPeunrITJKuXPPJE/PaL1+Wm+Z1pDSqJfWLr8+PP3pCnn3SebnhvkVZ9l9m4uoDf8j7j35uXnb6t/PbG+ZlYMK2mbZ5UxZdf3G+9NYX5rA3rgyZSTI4L7/9wAtz6MtOz9d/e3MWNm6ZPffbOztN6MyNv/pa3nHsS/OJdQiZT1bnTd/KCYe9IG/4zAW54u6eTNxpnzx9j81Tufdv+e5Zp+TZp/0sD9aSuq1PyMffuGsaO67KFz5/+SMhM0k6rspnP/7rPJjJeeFH3pPDW1eswqwt+3POOOn0fP/K2Vk+aovsvP3E9N6zNKXW4XO7AgAAALDuhs/KTAAAAABgg7MyEwAAAADgCYiZAAAAAEAhiJkAAAAAQCGImQAAAABAIYiZAAAAAEAhiJkAAAAAQCGImQAAAABAIYiZAAAAAEAhiJkAAAAAQCGImQAAAABAIYiZAAAAAEAhiJkAAAAAQCGImQAAAABAIYiZAAAAAEAhiJkAAAAAQCGImQAAAABAIYiZAAAAAEAhiJkAAAAAQCHUD/UAG0ulUsnoUS2pVCopl+tSGuqBAAAAAGANakmq1cH09/ens6sj/f39Qz3SU8awjpmlUilNDU1paRmTurq6JKWsuB0AAAAA4KmplKSuXJe6xvo0NTZlcHAwHR3L09PXk1ptZLetYRsz68p1aWtrS6WuIaXSQwlzZP+xAQAAACiSFS2rvq4urWPbMmqwL+3t7RmsDg7xXENnWL4zs1KpZPz4ianUNyQlCRMAAACA4qolSSmp1DesaF6VylCPNGSGXcysVCoZ3zY+deVh99UAAAAAGOHqyuWMbxs/YoPmsCp+deW6tLWOT6k0rL4WAAAAADysVCqnrXV86sp1Qz3KRjdsql+pVEpbW5sVmQAAAAAMe3Xlctra2lIqlYZ6lI1q2JS/poamVOoahnoMAAAAANgoKnUNaWpoGuoxNqphEzNbWsZkhIVoAAAAAEawUmlFExtJhkXMrFQqqaurs2s5AAAAACNGLUldXd2I2gxoWMTM0aNakliWCQAAAMBIU1rZxkaGYREzV9Rn6zIBAAAAGGlqVmYWTXkEbkMPAAAAAMnIamPDImZ6wBwAAACAkWoktbFhETMBAAAAgOFPzAQAAAAACkHMBAAAAAAKQcwEAAAAAApBzAQAAAAACkHMBAAAAAAKQcwEAAAAAApBzAQAAAAACkHMBAAAAAAKQcwEAAAAAApBzAQAAAAACkHMBAAAAAAKQcwEAAAAAApBzAQAAAAACkHMBAAAAAAKQcwEAAAAAApBzAQAAAAACkHMBAAAAAAKQcwEAAAAAApBzAQAAAAACkHMBAAAAAAKQcwEAAAAAApBzAQAAAAACkHMBAAAAAAKQcwEAAAAAApBzAQAAAAACkHMBAAAAAAKQcwEAAAAAApBzAQAAAAACkHMBAAAAAAKQcwEAAAAAApBzAQAAAAACkHMBAAAAAAKQcwEAAAAAApBzAQAAAAACkHMBAAAAAAKQcwEAAAAAApBzAQAAAAACkHMBAAAAAAKQcwEAAAAAApBzAQAAAAACkHMBAAAAAAKQcwEAAAAAApBzAQAAAAACkHMBAAAAAAKQcwEAAAAAApBzAQAAAAACkHMBAAAAAAKQcwEAAAAAApBzAQAAAAACkHMBAAAAAAKQcwEAAAAAApBzAQAAAAACkHMBAAAAAAKQcwEAAAAAApBzAQAAAAACkHMBAAAAAAKQcwEAAAAAApBzAQAAAAACkHMBAAAAAAKQcwEAAAAAApBzAQAAAAACkHMBAAAAAAKQcwEAAAAAApBzAQAAAAACkHMBAAAAAAKQcwEAAAAAApBzAQAAAAACkHMBAAAAAAKQcwEAAAAAApBzAQAAAAACkHMBAAAAAAKQcwEAAAAAApBzAQAAAAACkHMBAAAAAAKQcwEAAAAAApBzAQAAAAACkHMBAAAAAAKQcwEAAAAAApBzAQAAAAACkHMBAAAAAAKQcwEAAAAAApBzAQAAAAACkHMBAAAAAAKQcwEAAAAAApBzAQAAAAACkHMBAAAAAAKQcwEAAAAAApBzAQAAAAACkHMBAAAAAAKQcwEAAAAAApBzAQAAAAACkHMBAAAAAAKQcwEAAAAAApBzAQAAAAACkHMBAAAAAAKQcwEAAAAAApBzAQAAAAACkHMBAAAAAAKQcwEAAAAAApBzAQAAAAACkHMBAAAAAAKQcwEAAAAAApBzAQAAAAACkHMBAAAAAAKQcwEAAAAAApBzAQAAAAACkHMBAAAAAAKQcwEAAAAAApBzAQAAAAACkHMBAAAAAAKQcwEAAAAAApBzAQAAAAACkHMBAAAAAAKQcwEAAAAAApBzAQAAAAACkHMBAAAAAAKQcwEAAAAAApBzAQAAAAACkHMBAAAAAAKQcwEAAAAAApBzAQAAAAACkHMBAAAAAAKQcwEAAAAAApBzAQAAAAACkHMBAAAAAAKQcwEAAAAAApBzAQAAAAACkHMBAAAAAAKQcwEAAAAAApBzAQAAAAACkHMBAAAAAAKQcwEAAAAAApBzAQAAAAACkHMBAAAAAAKQcwEAAAAAApBzAQAAAAACkHMBAAAAAAKQcwEAAAAAApBzAQAAAAACkHMBAAAAAAKQcwEAAAAAApBzAQAAAAACkHMBAAAAGDEa97tJfnAu56XbeuHehIejz8PAAAAAMNHqTmb73dYnrXv9nna2Lr0LLo3N11xef7yn0UZWOtJjdl62hYZvPuS3LvyoFLTJtn9kEOy/86bZ1JLXfo7FmbOf/6Zy//6n8zvW/38csZuu3+e/czp2XaTlpQ6F2Tm9X/P76+YmWXV/59jWZ2VmQAAAAAMEw3Z/PBX5NXP2SVtS2fk6itvyOzqZjnwxa/KS6a3rj2ENWyRaVsns2bck74kdeN3zbGvOzEv3HeT9N9zU66+6rrcsaQ52x7w/Jx8/L6ZVPfo00dPe25e84pDMq1pYW666prc8EAl2z3zpTnp6O0yOv/9sTyWlZkAAAAADAvlSfvkuftPTt8dl+Y7P7spS2tJrro9S05+VZ5xxCGZdsfFub3nsefVb759tq27J7+f1ZuklNatds7W9bPzu/N+nX/O600tSXJ1bn3BSTl+j4NyyLSb8/Pbelb8e/3mOfjI3TNu+c35yXd+kxldSfLvzDz6pLxiryNy8I2z87t7Bh76oCd/LGtkZSYAAAAAw0A5m+6+WzYtL8kNV9yyImQmSf/9+cfVd6dv9A7ZY1pzSo85ry5Tp22dhnvvyt3dSVLL4ut+kXP/9xf5x8MhM0m6cte//pNFtaZssdXkh69Tv9Vu2W18NXP/eVXu7Hro2O7MvPLfua/all2nb/HwasJ1OZY1EzMBAAAAKL5Sa7bcsjWlrnsz64FHv3yy+545eaBan823nPLYGFaekh22b87cGXfn4b6Y/nT3PHaFZK2rM521UhobG1fGzHI22WrzNNfaM3vO0lXCZ1Jbdk9mL65l1BZbZHJ5XY9lbfx6AAAAACi+clsmjCuntnRJ2lfbSKfW0Z4lfaU0jh+X0astzSxvul22a3kgd9zV8ajAuMaPGD8h40rVLFu2fOWx9Rk3fkzK1fYsXv1Dq0uzuL2W8tjxGVe/rseyNmImAAAAAMVXakpzYym1nu70rF4laz3p6aml1NSc5kf9oJxJ07ZN2/y7ctfSJ0qZjdl292kZk6W5c8aCVJOk1JjmpnJS7U137+rH96enZyCpa0pz4zoey1qJmQAAAAAUX31d6ktJBqupPuaH1QwO1pL6+tStujKzNC7bbz8+C2fMzJInaJn1m+2fw3cdnb7Z/8y/5g4+9K+pr08yOJjBNZwzOFhNLXWpry+t47GsjZgJAAAAQPENDGSglqSuvIbgVU5dXemRY1YqtW2baZPac+edi9YQQFc5rnFqDnv+fplcnZcrfn9j2h++xkAGBpLU1aVuDefV1ZVTqg1kYKC2jseyNmImAAAAAMVX605Xdy2l5uY0r764sdSc5uZSat1d6X64FZYydvvts+nymZnx4OOkzNKY7HTUC7L/5IHMvvySXP3gKusqa73p6q4m5aaMalr9xIY0N9cn1e509azjsayVmAkAAABA8VWXZOGSakptEzJutaWPpTHjMr5SS/eixavsWD46206bkq4778q8tbbMxkw99MV54W5jsvTG3+Tn/1y02iPiA1m8cGmq5XGZ0LZaZiu3ZcK4Uqrti7N4cF2PZW3ETAAAAACKr9aRObMXp9a0ebae8uiaOWqrLbNJuS/3zJ73cIwsjdo6O0ztzV0z7l/jOyyTukzc+wV5+TOmpDrnr/nZpTPS8ZgnwKuZP/uedJZas9XW4x4V2sptW2arcaV0zJmTBdV1PZa1GRYx05sEAAAAAEa6aubffHPmDrZmj4N3y8OLHxum5oD9t05l+e25/q5HthFv3Ga7bDEwKzPuHVjDtUoZu9Pz8ornbZemRdfnoguvyQP9a/7UwXtuzk0Lkyn7HJhpox/61+Zsd/Be2ay0ODfdeN/DsXRdjl0XI6mN1Q/1AOtDtTqYuvKaXp0KAAAAwEhRXXRdfnfVTnnNIUfmpBOm5MY5PRm/w/TsMqkrt/3yisx8uGU2ZKtpW6Y267eZs4ZIOWqbw/PKY3fL+HJ37r23O5vvf3i2qV91Y6FqHrzpr7l+3mAyeH+u/N0N2fEVe+bFJzflulvmpbbJztlrh5Ys/veFuWruKnlyXY59Erq6OjJ+3IR0dnc98cHDxLCImf39/alrrM/I6tAAAAAAPFp/5v7lp/l+12E5Yr8dcsDBdelZeE+uvPCP+ettyx4pR5UtssPW5cz+/T3pe8w16rLZbrtnk4Ykac7mex2UzR9zzEDuuP+KFTEzSffMP+R7P1qWIw/bM9MP3CrpWpA7/3xBfnflrHSvdua6HPt4ujqXZ8eddswDDyxMf/9alo0OQ6Wx4zZZ7wVw+vTdcuONN6/vy65VpVLJhHETN9rnAQAAAFBc9ds8N2972dhc/pWf5YbOoZ5m3T0UMpct60h7+9IsWrJxg+bGbn+rGhbvzOzv78/g4GBKQz0IAAAAAE9xddls2jZpmntnZhbw6eyHQmZ7+7I8+MC8DA4OjqiVmcMiZiZJR8fy1DxlDgAAAMDjKW+aaduNyv0z7l7D7uRPbauGzLlz782oUS3p6Fg+1GNtVMPinZlJ0tPXk1GDfanUNwz1KAAAAAA8VVXn5g9f/dxQT7HOHhUy77snm07ZLO1L29PT1zPUo21Uw2ZlZq1WS3t7ewar1aEeBQAAAADWm9VD5uZbbJllyzvS3t6e2gh7VHnYxMwkGawOpn3p4tRqgiYAAAAAxbemkLlkSXvaly7OYHVwqMfb6IZVzExWbAa0uH2xFZoAAAAAFNrq78jcdMpmWbS4PYvbF4+oTX9WNexiZrIyaC5emP6BvqQWu5wDAAAAUChdXR3Zcacds2xZRxbMfzBtrePTvrR9RfMaoSEzGUYbAK1usDqYxUsWp6mhKS0tY1JXV5cVWXNkvUcAAAAAgOIZP25CHnhgYfr6elNfacziJYvT09cz4t6RubphGzOTFZsCdfd2p7u3O5VKJaNHtaRSqaRcrrNaEwAAAICnpFqSzu6u9Pf3p7OrY0SvxFzdsI6Zq+rv70/70iVDPQYAAAAA8F8alu/MBAAAAACGHzETAAAAACgEMRMAAAAAKAQxEwAAAAAoBDETAAAAACgEMRMAAAAAKAQxEwAAAAAoBDETAAAAACgEMRMAAAAAKAQxEwAAAAAoBDETAAAAACgEMRMAAAAAKAQxEwAAAAAoBDETAAAAACgEMRMAAAAAKAQxEwAAAAAoBDETAAAAACgEMRMAAAAAKAQxEwAAAAAoBDETAAAAACgEMRMAAAAAKAQxEwAAAAAoBDETAAAAACgEMRMAAAAAKAQxEwAAAAAoBDETAAAAACgEMRMAAAAAKAQxEwAAAAAohPqhHmBjqTQ0pK2tLWNaxqSpuSkNDY0pl8sppTTUozGEaqmlWq2mr683Pd09Wd6xPO3t7env6xvq0QAAAABYzbCOmeVyOU1Nzdlk8uSMGt2Srq6uLO/ozPwFi9Lf359qtTrUI/IUUC6XU6lU0tzclJbRYzJ50ibp6uzIg/Pnp6en230CAAAA8BQxbGNmpVLJpMmT09ralvb2pXlwwZz09/cP9Vg8BVWr1fT29qa3tzft7UtTqVTS2jo2W261VZYubc+C+fPdOwAAAABPAcMyZjY2NWXKlKelVCrn3nvnpre3d6hHokD6+/uzcOGiLF/ekUmTJmazqZtn3rz709vTM9SjAQAAAIxow24DoMampmy22dT09/XnvvuETP57vb29ue++uenv689mm01NY1PTUI8EAAAAMKINq5hZqVQyZcrT0tvTm/kLFg71OAwT8xcsTG9Pb6ZMeVoqlcpQjwMAAAAwYg2bmFkulzNp8uSUSmUhk/Vu/oKFKZVW3GPl8rD53wYAAACgUIZNlWlqak5ra1sWCJlsIAsWLExra1uampqHehQAAACAEWnYxMxNJk9Oe/tS78hkg3lot/NNJk8e6lEAAAAARqRhETMrDQ0ZNbolS5cuG+pRGOaWLl2WUaNbUmloGOpRAAAAAEacYREz29ra0tXVlf7+/qEehWGuv78/XV1daWtrG+pRAAAAAEacYREzx7SMSUdn51CPwQjR0dmZMS1jhnoMAAAAgBFnWMTMpuamdHf3DPUYjBDd3T1pam4a6jEAAAAARpxhETMbGho9Ys5G09/fn4aGxqEeAwAAAGDEGRYxs1wup1qtDvUYjBDVajXl8rD4XwcAAACgUIZFkSmlNNQjMMK45wAAAAA2vmERMwEAAACA4U/MBAAAAAAKQcwEAAAAAApBzAQAAAAACkHMBAAAAAAKQcwEAAAAAApBzAQAAAAACkHMBAAAAAAKQcxknZQ3Pym/untG5s25Mp99RmWoxwEAAABgBKkf6gGe6up3e1f+9OvTMm0df1N9//p0DnnpdzKnumHmAgAAAICRxspMniIqOfiTf8/ce/+Ti9+whRsTAAAAgMewMvMJDNz2jbz0gB+lvrTqv5ayyUu/mF+9b6809P0tH3z2h/O77kefV+tblgVWZa6Dclrbxqb0xAcCAAAAMEKJmU9koCMLHuhY7R/LybK+Ff9Z60n7Aw9kXtdGn2x4KY1JW1udmAkAAADAWnmal6eG8tiMb3U7AgAAALB26tEG1vKir2f2vXdkxpeflYYklSkH5I1f/EmuuvGmzL3nhnzz+aMfPraudfscefJ787WfXJx/XHdtZt/9n9x57aW56Iun5YgtGtd4/Yd2F7/v6tPz9Pok5bbs/pJ35f9++fvccOvNmXXr33P5D8/MSXuNW+sfu3nrw/O2z56XP1z9r8yceUtm3vSX/OH8T+WdL9g54+r+iy9dPzHTjzklZ537o/z1mmty58zbMufWv+VP55+V1x8w+VHLgUttL875M2dk3uzL8qHp9Ukq2eeMP2buvTMy79617ZrenM0PfmXO+vaFufLf12X2ndfmxr/+JN88/bjsOeG/GRgAAACAIvCY+UZRSmPr2Izd6oX55I8+nedvXr/icer+W3LL7T1J/ZQ8840fyJmnHZlpYx/9qHXj5O1y4Evfmacfunve88K35if3Dq7xE8pt4zNh3PScevaX8qFnbZaGhy+ySXY65JX51F67pPW4V+XLtx/NjbUAABYsSURBVPQ96ryWvd6SH/3gLdl3bDmpDaanoycZMyW7HPrS7HrIi3LKCZ/L8Sd8O6udthbN2eaoN+WsD52Yw7dsfvQj4w2bZudDj8/HDjwwO5368rz7D4tSS5JaX5Yvac+ShvqMbh2dhnLS37UsHb21FedVl6Wzv/bIdSqb59hPnZvPvXxaRpeSWm0w/QOlTNpmrxxz2p55zjHPyPte9e785O7+JzMwAAAAAAViZebGMn7PvP3zH80xkx7MX/73Izn5+Ffl+Df9T349azCpNWXHw56Zac2Lc/1FX8k7XnVs9t97v+y455F50Qcuym1dSd2kw/PB9xyW1rW8VLLUvHfe97Pz8pFDG3LD+Z/Ia19ybA57zitz2pf+lnkDtZRads8b3/acjF/1/LppOeUTp2WfsaUsv+E7OemQvbPtzntm62kH5NmnnpPLZi3J3X+/Jnc9qZCZJLWMm354DtmilPuv/kk+8ZZX5/ADDsxOux2cZ57wmfzmnv6kskVe9tFTs+/Khaa1pZfkjfvsl533fmd+vrSWZCA3fv4l2XX3/bLz7vtl5z2elzOvGVj5JVtzyBnfyJdfPi2jOu/IBR85KQftsmu23Hb37HbkW/LlKxamvNlz8umvvD67rL6YEwAAAIDCszJzI2nY8/ic0nN7vnHSifnYle2pPeqns/LdD70ts6rX5vczOlb5WXuu+eEZeeP4HfL79+6aSc8+NoeP/VN+sbS2+uWTuqdl+01uybde98Z8/PIHszL/5fZb35nOp/0233vZ5Iw96NDs13RxLlu583p506fn0B0bUhqcmws+9fn8bvbKatm/OP+59Ks5+Q/fTONgb3qf9LfsyXVf/2Bef9WS/PWv96ZnlZ+0//W8vPVdU7LzT1+TrTc/Oi/d73P559+fdCVNkjTt86Z8+tXbpNI/I9885YScedXSlb+rwSy67ff5zOvbM+o338vrdz0xpx32/bz196tv3AQAAABAkVmZubHUBnLneWfk048JmSv03P7X/O5RIfMhA5n5579l1mBSGrVz9pi2lndC1pbmsg+9LmeuEjJXWJ4r//jPdNaSUvOW2XbKKufX1a+s2fVpqKzhuv296a0+2S/40Bg35XerhcyHdF/3l1yxqJqUx2W33admnd5uWRqbI09+cbaur2X+r76Qzz8cMlfRcW1+eNHt6S+35ZDD94jFmQAAAADDi5i5sQxcm+997+Z1WOWYlJsnZOtd980zd5+84v2T5XGZOH4tf7JaXxYvWr7GUDrw4INZWE1SGp0xj+w3lOr9/8jf7+pPrW5yXv7Zr+Q9R26dMRvijqgfnU232y0HHbZDxg/UkpQyYdL4dbv5Knvk0APHpFRbnisuuzrL1njQYGbfcXd6auW0bbt1Jru7AQAAAIYVj5lvLNWlWdz+RMsc6zNx18PyohcemWcd8vTsPW2TtNSXHvXzxoZ136271t+fFXvo1KV+1dMHbs1X3/6p7PKdD+XIzQ7Ju791UF5/95W54Hvfz3kXXJG7O9ZxWeYqGqfsmaOOPSrPPezA7L/HNpnUvOrGRtU0NKzbusnypC2z9dhyksYc9L4f5DdvWVO2TUpjpqYpSUa3pGUt7xcFAAAAoJjEzKeI+imH5J2fOTNvPGxqmjOYZffcmL//7Fe59uY7cueiHfO2r70he2+A56a7b/thXnvkv3L0ya/PG1/zvOyx7SE55axn5KT33J0/fOdzOfMrf8qcdVlO2rhVnv+BT+asE/fJpg1J35JZ+fcff5If3XBrbpvZn4M//Om8ertSknUrjaXmURmVJKWmbLrD7tn0CY7v6+tL35p7JwAAAAAFJWY+BZTGHZJP/vTcvHrr+nTe/suc/pEv5kfXzEvPyhhXmtickzdgmKsum5GLv/zeXPy/n8++x7wsJ5308hwzfds8921fzd67fSwvOuUnmTnwxNdJeUpe/OUf5JyjJqfUfmPO+8An8qVf3pQF/St/Xrdttn73isfM11WtpzvdSVJ9MN975eH5wJX9T3QKAAAAAMOMtwoOubpsf8I7cvxWlVTn/SpvPf79Oe/qR0LmRtX7QP510Tl58wuemxd8/G+ZX6vLpGe+K+961ugnPjdJZe+T877nbpLy4N355utOzukXrBIy/z9VF8zJnI5qUp6QXXZ9mhsXAAAAYATShIbc6Oy+x/aplKpZ/vdLc/mip8Cz0bXlufE7X8qPZw4m5ZZM23GzJ7HzeDlP22P3TKlLqvf+ORdf17mOHzqQ/oEkKaW+Uv/YtZt9N+Zv/+xKLXWZ/uIXZmdrigEAAABGHDFzyA2mWkuSUhonjM+Y1Ste/eQccspLMn1DxLvmHXP0cftm0zVdu9Ka8S1JUsvyZR2P7JL+OK21Wl2xYVBp7ISMb1j9pw3Z6nmvyfO3WUsWrS3MgwtqScrZYrutV2zi86ift+f337s4cwdLqez02vzPO/bM2DU+rV5KXZ3bGgAAAGA4Un2GXE9uuu6O9NdKaTrkLfns6w/KNq0NqTRNyLRDT8jZF/065795esZU1/OKzdLYPOODX8rXP/+D/PnXn8mpR+yQiQ0r6mBl3E457qwP5bhN61LrvDaX/OmBPLSvea2nM121JKUx2XaXbdLW+FCcrOaBG2/K/YNJefxz86FPHJ/9prakUj8qm+56RN785Yvyu6+9LDs01tbcQwdm55/XLshgyhn3vDfnfc/ZJuNGtWSTaXtll01W3KYdV3wlH77o3vRnVPZ667fyiy+/Ls/dddO01JdT19iWrfY5Ou/46s9z9XdfnqnubAAAAIBhR/IZcoOZ+aMv5Ycz+5LK1DzvjO/kyptvzpwZV+Wv55+RV25zf374jjfks9c/mR141kGtJ/dedXn+PX8wrbu9OGd+5+LcdOctuevW63PXDb/MOcdvn8aBB3LZxz6aH9xTfeS09ptz7cyB1EpNOeD0X+YPH9orD22y3n/dd3P2bx7IQJqz43Fn5VdXX5d7Zt2Q63/79Zz+/PG55dy35A3fmpXBNQ7Um6u/e36u76qlNHrXvOFbl+XWO67LDX86P2e/aIsVj7nXFuZ3H3pd3nXBXeksjcnOL3pfvvPbv2XG3bfl3jv/mat/8cW8/4U7Z5Pt98k+k9zaAAAAAMON4vMUUGu/Imcc95p8+Pwrc8eCrvT1d2Xh7Ovzq6+dnmMPOy4f+Pm/M3v+wOM94f1f6Mvsy87OSw89Oid8+Fv5+VUzcn97fyrNDelbNDv/vvS8vPe4F+cNP56VR+3hM3BHvnn6l/OHu5amb2AwDeMmpPmhx72rD+QX7zg+r/6fX+aauxenu783Sx+8K1decE7edMxROe4zl+eG+xamuoZpkmRgxrfzulM+n4v+NSdLegbT17k49/znH7ltceWRd2j2zsqF735xDnvlx/KN31ybu+Z3pH9gIF3t83L71b/JuaefkkMPf09++eDaPgUAAACAoiqNHbfJet9xZvr03XLjjTev78uu1d5775ubbr5lo30e7L7brrn22n8N9RgAAAAAG93Gbn+rsjITAAAAACgEMRMAAAAAKAQxEwAAAAAoBDETAAAAACgEMRMAAAAAKAQxEwAAAAAoBDETAAAAACgEMRMAAAAAKIRhETNrqQ31CIww7jkAAACAjW9YxMxqtZpyeVh8FQqgXC6nWq0O9RgAAAAAI86wKIB9fb2pVCpDPQYjRKVSSV9f71CPAQAAADDiDIuY2dPdk+bmpqEegxGiubkpPd09Qz0GAAAAwIgzLGLm8o7laRk9eqjHYIRoGT06yzuWD/UYAAAAACPOsIiZ7e3tGTVqlEfN2eAqlUpGjRqV9vb2oR4FAAAAYMQZFjGzv68vXZ0daW0dO9SjMMy1to5NV2dH+vv6hnoUAAAAgBFnWMTMJHlw/vy0tbWmsbFxqEdhmGpsbExbW2senD9/qEcBAAAAGJGGTczs6enO0qXtmTRp4lCPwjA1adLELF3anp6e7qEeBQAAAGBEGjYxs1qtZsH8+anVqpksaLKeTZ40MbXainusWq0O9TgAAAAAI9KwiZlJ0t/fn3nz7k9jU6OgyXozedLENDY1Zt68+9Pf3z/U4wAAAACMWMMqZiZJb09P5s69L5WGSqZO3cw7NPmvNTY2ZurUzVJpqGTu3PvS29Mz1CMBAAAAjGjDLmYmK4Pmffemt7c7m2++WSZOnJBKpTLUY1EQlUolEydOyOabb5be3u4V95KQCQAAADDk6od6gA2lv78/D8ybl/Yl7dlk8uSM32rLdHV1paOzM93dPenv7/fuQ5Ik5XI5lUolzc1NaRk9OqNGjUpXZ0fmzJ6dnp5u9wkAAADAU8SwjZnJik2Buro6M2v2rFQaGtLW1pYxLWMyadKENDQ0plwup5TSUI/JEKqllmq1mr6+3vR092R5x/LcN/fe9Pf1DfVoAAAAAKxmWMfMVfX39WXB/PlZMH/+UI8CAAAAAPwXhuU7MwEAAACA4UfMBAAAAAAKQcwEAAAAAApBzAQAAAAACkHMBAAAAAAKQcwEAAAAAApBzAQAAAAACkHMBAAAAAAKQcwEAAAAAApBzAQAAAAACkHMBAAAAAAKQcwEAAAAAApBzAQAAAAACmGDxMxabUNcFQAAAAAYakPZ/jZIzKxWqymXLfoEAAAAgOGkXC6nWq0O3edviIv29/WlUqlsiEsDAAAAAEOkUqmkv69vyD5/g8TM7p6eNDc3b4hLAwAAAABDpLm5Od09PUP2+RskZnZ2dqWlZfSGuDQAAAAAMERaWkans7NryD5/g8TMZcuWZfSoUR41BwAAAIBholKpZPSoUVm2bNmQzbBh3pnZ35+u7u60trZuiMsDAAAAABtZa2trurq709/fP2QzbLAtxxcuXJRx49rS2Ni4oT4CAAAAANgIGhsbM25cWxYuXDSkc2ywmNnb25vly5Zn8qRJG+ojAAAAAICNYPKkSVm+bHl6e3uHdI4NFjOr1WoWLV6cJJk8WdAEAAAAgCJ6qO0tWrw41Wp1SGfZYDEzWfHuzPkLFqS5qUnQBAAAAICCmTx5UpqbmjJ/wYIhfVfmQ0pjx21S29Af0tjY+PDj5vMXLBjy5agAAAAAwNo9VXveRomZyYqt2yeMH58xY8dkyZL2LF269ClRcwEAAACAFSqVSlpbWzNuXFuWL1ueRYsXP6Ua3kaLmUlSLpfT2NiYiRMnZFRzczq7utLR0ZnulVu6D/Uz9wAAAAAwkpTL5VQqlTQ3N6elZXRGjxqVru7uLFy4KL29vU+5XrdRY+aqKpVKxo4dm9GjR6W5qSmVhoaUy+WUSkMxDQAAAACMLLXaik28+/v60t3Tk87OrixbtuwptRJzdUMWMwEAAAAA1sUG3c0cAAAAAGB9ETMBAAAAgEIQMwEAAACAQhAzAQAAAIBCEDMBAAAAgEIQMwEAAACAQhAzAQAAAIBCEDMBAAAAgEIQMwEAAACAQhAzAQAAAIBCEDMBAAAAgEIQMwEAAACAQhAzAQAAAIBCEDMBAAAAgEIQMwEAAACAQhAzAQAAAIBCEDMBAAAAgEIQMwEAAACAQhAzAQAAAIBCEDPh/7VjByQAAAAAgv6/bkegMwQAAABgQWYCAAAAAAsyEwAAAABYkJkAAAAAwILMBAAAAAAWZCYAAAAAsCAzAQAAAIAFmQkAAAAALMhMAAAAAGBBZgIAAAAACzITAAAAAFiQmQAAAADAgswEAAAAABZkJgAAAACwIDMBAAAAgAWZCQAAAAAsyEwAAAAAYEFmAgAAAAALMhMAAAAAWJCZAAAAAMCCzAQAAAAAFmQmAAAAALAgMwEAAACABZkJAAAAACzITAAAAABgQWYCAAAAAAsyEwAAAABYkJkAAAAAwILMBAAAAAAWZCYAAAAAsCAzAQAAAIAFmQkAAAAALMhMAAAAAGBBZgIAAAAACzITAAAAAFiQmQAAAADAgswEAAAAABZkJgAAAACwIDMBAAAAgAWZCQAAAAAsyEwAAAAAYEFmAgAAAAALMhMAAAAAWJCZAAAAAMCCzAQAAAAAFmQmAAAAALAgMwEAAACABZkJAAAAACzITAAAAABgQWYCAAAAAAsyEwAAAABYkJkAAAAAwILMBAAAAAAWZCYAAAAAsCAzAQAAAIAFmQkAAAAALMhMAAAAAGBBZgIAAAAACzITAAAAAFiQmQAAAADAgswEAAAAABZkJgAAAACwIDMBAAAAgAWZCQAAAAAsyEwAAAAAYEFmAgAAAAALMhMAAAAAWJCZAAAAAMCCzAQAAAAAFmQmAAAAALAgMwEAAACABZkJAAAAACzITAAAAABgQWYCAAAAAAsyEwAAAABYkJkAAAAAwILMBAAAAAAWZCYAAAAAsCAzAQAAAIAFmQkAAAAALMhMAAAAAGBBZgIAAAAACzITAAAAAFiQmQAAAADAgswEAAAAABZkJgAAAACwIDMBAAAAgAWZCQAAAAAsyEwAAAAAYEFmAgAAAAALMhMAAAAAWJCZAAAAAMCCzAQAAAAAFmQmAAAAALAgMwEAAACABZkJAAAAACzITAAAAABgQWYCAAAAAAsyEwAAAABYkJkAAAAAwILMBAAAAAAWZCYAAAAAsCAzAQAAAIAFmQkAAAAALMhMAAAAAGBBZgIAAAAACzITAAAAAFiQmQAAAADAgswEAAAAABZkJgAAAACwIDMBAAAAgAWZCQAAAAAsyEwAAAAAYEFmAgAAAAALMhMAAAAAWJCZAAAAAMCCzAQAAAAAFmQmAAAAALAgMwEAAACABZkJAAAAACzITAAAAABgQWYCAAAAAAsyEwAAAABYkJkAAAAAwILMBAAAAAAWZCYAAAAAsCAzAQAAAIAFmQkAAAAALMhMAAAAAGBBZgIAAAAACzITAAAAAFiQmQAAAADAgswEAAAAABZkJgAAAACwIDMBAAAAgAWZCQAAAAAsyEwAAAAAYEFmAgAAAAALMhMAAAAAWJCZAAAAAMCCzAQAAAAAFmQmAAAAALAgMwEAAACABZkJAAAAACzITAAAAABgQWYCAAAAAAsyEwAAAABYkJkAAAAAwILMBAAAAAAWZCYAAAAAsCAzAQAAAIAFmQkAAAAALMhMAAAAAGBBZgIAAAAACzITAAAAAFiQmQAAAADAgswEAAAAABZkJgAAAACwIDMBAAAAgAWZCQAAAAAsyEwAAAAAYEFmAgAAAAALMhMAAAAAWJCZAAAAAMCCzAQAAAAAFmQmAAAAALAgMwEAAACABZkJAAAAACzITAAAAABgQWYCAAAAAAsyEwAAAABYkJkAAAAAwILMBAAAAAAWZCYAAAAAsCAzAQAAAIAFmQkAAAAALMhMAAAAAGBBZgIAAAAACzITAAAAAFiQmQAAAADAgswEAAAAABZkJgAAAACwIDMBAAAAgAWZCQAAAAAsyEwAAAAAYEFmAgAAAAALMhMAAAAAWJCZAAAAAMCCzAQAAAAAFmQmAAAAALAgMwEAAACABZkJAAAAACzITAAAAABgQWYCAAAAAAsyEwAAAABYkJkAAAAAwILMBAAAAAAWZCYAAAAAsCAzAQAAAIAFmQkAAAAALMhMAAAAAGBBZgIAAAAACzITAAAAAFiQmQAAAADAgswEAAAAABYCy3ZsjkWv0cAAAAAASUVORK5CYII=)"
      ],
      "metadata": {
        "id": "72CD7OsIsVg1"
      }
    },
    {
      "cell_type": "markdown",
      "source": [
        "## Práctica 8: Modelos neuronales de traducción automática\n",
        "\n",
        "**Fecha de entrega: 26 de noviembre 2023**"
      ],
      "metadata": {
        "id": "vJ96liHQ1MDU"
      }
    },
    {
      "cell_type": "markdown",
      "source": [
        "- Explorar los datasets disponibles en el *Shared Task de Open Machine Translation de AmericasNLP 2021*\n",
        "    - [Datasets](https://github.com/AmericasNLP/americasnlp2021/tree/main/data)\n",
        "    - [Readme](https://github.com/AmericasNLP/americasnlp2021/tree/main#readme)\n",
        "- Crear un modelo de traducción neuronal usando OpenNMT-py y siguiendo el pipeline visto en clase\n",
        "    - 0. Obtención de datos y preprocesamiento\n",
        "        - Considerar que tiene que entrenar su modelo de tokenization\n",
        "    - 1. Configuración y entrenamiento del modelo\n",
        "    - 2. Traducción\n",
        "    - 3. Evaluación\n",
        "        - Reportar BLEU\n",
        "        - Reportar ChrF (medida propuesta para el shared task)\n",
        "        - Más info: [evaluate.py](https://github.com/AmericasNLP/americasnlp2021/blob/main/evaluate.py)        \n",
        "- Comparar resultados con [baseline](https://github.com/AmericasNLP/americasnlp2021/tree/main/baseline_system#baseline-results)\n",
        "- Incluir el archivo `*.translated`\n",
        "\n",
        "### Extra\n",
        "\n",
        "- Investigar porque se propuso la medida ChrF en el Shared Task\n",
        "    - ¿Como se diferencia de BLEU?\n",
        "    - ¿Porqué es reelevante utilizar otras medidas de evaluación además de BLEU?"
      ],
      "metadata": {
        "id": "GON61tvw6ggR"
      }
    },
    {
      "cell_type": "markdown",
      "source": [
        "## Referencias\n",
        "\n",
        "- Esta práctica es una adaptación de una serie de notebooks públicos parte del proyecto Open NMT\n",
        "    - [Data Processing](https://github.com/ymoslem/OpenNMT-Tutorial/blob/main/1-NMT-Data-Processing.ipynb)\n",
        "    - [Model Training](https://github.com/ymoslem/OpenNMT-Tutorial/blob/main/2-NMT-Training.ipynb)\n",
        "- Se usaron herramientas de ymoslem\n",
        "    - https://github.com/ymoslem/MT-Preparation\n",
        "    - https://github.com/ymoslem/MT-Evaluation\n",
        "- [Transformers ilustrados](https://jalammar.github.io/illustrated-transformer/)"
      ],
      "metadata": {
        "id": "0i9MivBnd8Yt"
      }
    },
    {
      "cell_type": "markdown",
      "source": [
        "## Un update más"
      ],
      "metadata": {
        "id": "pkD4QFPx9KD8"
      }
    },
    {
      "cell_type": "markdown",
      "source": [
        "#### 3 de diciembre fecha maxima para entrega de practicas\n",
        "#### Las practicas atrasadas sobre 6"
      ],
      "metadata": {
        "id": "klKDHT3i9Pbx"
      }
    },
    {
      "cell_type": "markdown",
      "source": [
        "![](https://cdn.suwalls.com/wallpapers/cartoons/thats-all-folks-7172-1920x1200.jpg)"
      ],
      "metadata": {
        "id": "8vUCtGUy9dfP"
      }
    }
  ]
}