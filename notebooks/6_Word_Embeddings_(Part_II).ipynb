{
 "cells": [
  {
   "cell_type": "markdown",
   "metadata": {
    "id": "3eBMvr4xqlZO"
   },
   "source": [
    "# Práctica 6: Word Embedding II: ahora es personal"
   ]
  },
  {
   "cell_type": "markdown",
   "metadata": {
    "id": "eQVjQR_5oQR7"
   },
   "source": [
    "![we](https://miro.medium.com/v2/resize:fit:2000/1*SYiW1MUZul1NvL1kc1RxwQ.png)"
   ]
  },
  {
   "cell_type": "markdown",
   "metadata": {
    "id": "kpZ3lEeKqw7Z"
   },
   "source": [
    "## Objetivos"
   ]
  },
  {
   "cell_type": "markdown",
   "metadata": {
    "id": "QhnQ1O-WqyDi"
   },
   "source": [
    "- Extraer gran cantidad de datos\n",
    "    - Dumps de wikipedia\n",
    "- Entrenar representaciones vectoriales usando la biblioteca `gensim`\n",
    "- Explorar métodos de los modelos\n",
    "    - Operaciones con vectores\n",
    "    - Extraer las probabilidades del modelo\n",
    "- Entrenar representaciones vectoriales con pytorch (?)"
   ]
  },
  {
   "cell_type": "markdown",
   "metadata": {
    "id": "T03hFeg-rnn1"
   },
   "source": [
    "## Recapitulación"
   ]
  },
  {
   "cell_type": "markdown",
   "metadata": {
    "id": "CEVYjtAWrqUf"
   },
   "source": [
    "Hasta ahora hemos visto dos enfoques para la representación de palabras como vectores:\n",
    "\n",
    "1. Count-based\n",
    "2. Prediction-based\n",
    "\n",
    "Dentro de lás representaciones obtenidas con el enfoque *prediction* vimos que varios métodos populared como:\n",
    "\n",
    "- CBOW\n",
    "- Skipgram\n",
    "- GloVe\n",
    "- fastText\n",
    "\n",
    "Tambien mencionamos que hay **hiperparametros** con los cuales podemos jugar para obtener resultados distintos.\n",
    "\n",
    "Algunos son:\n",
    "\n",
    "- El tamaño de la ventana de contexto\n",
    "- El tamaño de los vectores\n",
    "\n"
   ]
  },
  {
   "cell_type": "markdown",
   "metadata": {
    "id": "QUuEd7CfvRDO"
   },
   "source": [
    "## Obteniendo los datos"
   ]
  },
  {
   "cell_type": "markdown",
   "metadata": {
    "id": "y1dnplgxoxhY"
   },
   "source": [
    "![](https://data-and-the-world.onrender.com/posts/read-wikipedia-dump/dump_file_list.png)"
   ]
  },
  {
   "cell_type": "markdown",
   "metadata": {
    "id": "akr7RvSTHaVm"
   },
   "source": [
    "Trabajaremos con una parte de la wikipedia en español. Usaremos la herramienta [wikiextractor](https://github.com/attardi/wikiextractor) y obtendremos los datos de la página: https://dumps.wikimedia.org/eswiki/"
   ]
  },
  {
   "cell_type": "code",
   "execution_count": 1,
   "metadata": {
    "colab": {
     "base_uri": "https://localhost:8080/"
    },
    "id": "VglXmTCwJps3",
    "outputId": "3bb109b8-e484-4d7d-a768-f4f206f97367"
   },
   "outputs": [
    {
     "name": "stdout",
     "output_type": "stream",
     "text": [
      "Requirement already satisfied: numpy==1.24.4 in /usr/local/lib/python3.10/dist-packages (1.24.4)\n",
      "Requirement already satisfied: wikiextractor in /usr/local/lib/python3.10/dist-packages (3.0.6)\n"
     ]
    }
   ],
   "source": [
    "!pip install numpy==1.24.4\n",
    "!pip install wikiextractor"
   ]
  },
  {
   "cell_type": "code",
   "execution_count": 2,
   "metadata": {
    "colab": {
     "base_uri": "https://localhost:8080/"
    },
    "id": "obV68MAhBVzS",
    "outputId": "30be1792-e141-4319-f00f-27ce4c279dfa"
   },
   "outputs": [
    {
     "name": "stderr",
     "output_type": "stream",
     "text": [
      "eswiki-articles3.bz2: 498MB [02:01, 4.30MB/s]\n"
     ]
    }
   ],
   "source": [
    "import urllib.request\n",
    "from tqdm import tqdm\n",
    "\n",
    "# url = \"https://dumps.wikimedia.org/eswiki/latest/eswiki-latest-pages-articles1.xml-p1p159400.bz2\"\n",
    "url = \"https://dumps.wikimedia.org/eswiki/latest/eswiki-latest-pages-articles2.xml-p159401p693323.bz2\"\n",
    "url = \"https://dumps.wikimedia.org/eswiki/latest/eswiki-latest-pages-articles3.xml-p693324p1897740.bz2\"\n",
    "filename = \"eswiki-articles3.bz2\"\n",
    "\n",
    "with tqdm(unit='B', unit_scale=True, unit_divisor=1024, miniters=1, desc=filename) as t:\n",
    "    urllib.request.urlretrieve(url, filename, reporthook=lambda block_num, block_size, total_size: t.update(block_size))"
   ]
  },
  {
   "cell_type": "code",
   "execution_count": 3,
   "metadata": {
    "colab": {
     "base_uri": "https://localhost:8080/"
    },
    "id": "diLbver0MCaa",
    "outputId": "098ae997-f5ff-448f-fc36-abe108c5cb44"
   },
   "outputs": [
    {
     "name": "stdout",
     "output_type": "stream",
     "text": [
      "INFO: Starting page extraction from eswiki-articles3.bz2.\n",
      "INFO: Using 1 extract processes.\n",
      "INFO: Extracted 100000 articles (651.3 art/s)\n",
      "INFO: Extracted 200000 articles (650.1 art/s)\n",
      "INFO: Extracted 300000 articles (738.5 art/s)\n",
      "INFO: Finished 1-process extraction of 375709 articles in 543.3s (691.5 art/s)\n",
      "CPU times: user 3.41 s, sys: 494 ms, total: 3.91 s\n",
      "Wall time: 9min 3s\n"
     ]
    }
   ],
   "source": [
    "%%time\n",
    "!python -m wikiextractor.WikiExtractor \"eswiki-articles3.bz2\" --no-templates"
   ]
  },
  {
   "cell_type": "code",
   "execution_count": 4,
   "metadata": {
    "id": "8IVWfOzuCgvA"
   },
   "outputs": [],
   "source": [
    "import os\n",
    "\n",
    "class WikiSentencesExtractor(object):\n",
    "\n",
    "    def __init__(self, directory, max_lines):\n",
    "        self.directory = directory\n",
    "        self.max_lines = max_lines\n",
    "        self.total_sentences = 0\n",
    "\n",
    "    def get_sentences(self):\n",
    "        for subdir_letter in os.listdir(self.directory):\n",
    "            file_path = os.path.join(self.directory, subdir_letter)\n",
    "            for file_name in os.listdir(file_path):\n",
    "                with open(os.path.join(file_path, file_name)) as file:\n",
    "                    for line in file:\n",
    "                        if self.max_lines == self.total_sentences:\n",
    "                            return\n",
    "                        words = line.split()\n",
    "                        if len(words) <= 3 or words[0].startswith(\"<\"):\n",
    "                            continue\n",
    "                        yield [word.lower().strip(\",.\\\"'()[]{}:;!?\") for word in words]\n",
    "                        self.total_sentences += 1\n",
    "\n",
    "    def __iter__(self):\n",
    "        return self.get_sentences()\n",
    "\n",
    "    def __len__(self):\n",
    "        return self.total_sentences"
   ]
  },
  {
   "cell_type": "code",
   "execution_count": 6,
   "metadata": {
    "colab": {
     "base_uri": "https://localhost:8080/"
    },
    "id": "IkTTztly4cla",
    "outputId": "555cd7d4-41d9-48d0-8a68-25790be4177f"
   },
   "outputs": [
    {
     "data": {
      "text/plain": [
       "['AA', 'AB', 'AC', 'AD', 'AE', 'AF']"
      ]
     },
     "execution_count": 6,
     "metadata": {},
     "output_type": "execute_result"
    }
   ],
   "source": [
    "directory = \"drive/MyDrive/corpora/eswiki-dump-2\"\n",
    "os.listdir(directory)"
   ]
  },
  {
   "cell_type": "code",
   "execution_count": 14,
   "metadata": {
    "colab": {
     "base_uri": "https://localhost:8080/"
    },
    "id": "9w4RLfKHX9DB",
    "outputId": "9bebefb7-c9ad-47a0-b1b8-89b577b1fa73"
   },
   "outputs": [
    {
     "name": "stdout",
     "output_type": "stream",
     "text": [
      "CPU times: user 8 µs, sys: 0 ns, total: 8 µs\n",
      "Wall time: 11.9 µs\n"
     ]
    }
   ],
   "source": [
    "%%time\n",
    "sentences = WikiSentencesExtractor(directory, 3)"
   ]
  },
  {
   "cell_type": "code",
   "execution_count": 15,
   "metadata": {
    "colab": {
     "base_uri": "https://localhost:8080/"
    },
    "id": "WEx7V6CV0Jku",
    "outputId": "2590c631-3423-4f53-9daf-bf88392ad732"
   },
   "outputs": [
    {
     "name": "stdout",
     "output_type": "stream",
     "text": [
      "['el', 'comercio', 'transahariano', 'se', 'refiere', 'al', 'tráfico', 'de', 'mercancías', 'a', 'través', 'del', 'sahara', 'hasta', 'alcanzar', 'áfrica', 'subsahariana', 'desde', 'la', 'costa', 'del', 'norte', 'de', 'áfrica', 'europa', 'o', 'el', 'levante', 'si', 'bien', 'ha', 'existido', 'desde', 'tiempos', 'prehistóricos', 'el', 'apogeo', 'de', 'esta', 'ruta', 'comercial', 'se', 'produjo', 'entre', 'los', 'siglos', 'viii', 'hasta', 'el', 'xvi']\n",
      "['desertificación', 'creciente', 'e', 'incentivo', 'económico']\n",
      "['el', 'sahara', 'tuvo', 'una', 'vez', 'un', 'medio', 'ambiente', 'muy', 'diferente', 'en', 'las', 'actuales', 'libia', 'y', 'argelia', 'desde', 'al', 'menos', 'el', '7000', 'a.c', 'ya', 'existía', 'pastoreo', 'cuidado', 'de', 'ovejas', 'y', 'cabras', 'e', 'importantes', 'asentamientos', 'donde', 'se', 'trabajaba', 'la', 'cerámica', 'el', 'ganado', 'fue', 'introducido', 'en', 'el', 'sáhara', 'central', 'ahaggar', 'entre', 'los', 'años', '4000', 'y', '3500', 'a.c', 'pinturas', 'rupestres', 'significativas', 'fechadas', 'entre', 'el', '3500', 'y', 'el', '2500', 'a.c', 'en', 'lugares', 'actualmente', 'extremadamente', 'secos', 'muestran', 'vegetación', 'y', 'presencia', 'animal', 'en', 'lugares', 'donde', 'no', 'se', 'esperaría', 'en', 'la', 'actualidad']\n"
     ]
    }
   ],
   "source": [
    "for sentence in sentences:\n",
    "    print(sentence)"
   ]
  },
  {
   "cell_type": "code",
   "execution_count": 16,
   "metadata": {
    "colab": {
     "base_uri": "https://localhost:8080/"
    },
    "id": "f9ZeHySk7rIy",
    "outputId": "2982f986-75e1-46dc-abe7-f71451b5e83e"
   },
   "outputs": [
    {
     "data": {
      "text/plain": [
       "3"
      ]
     },
     "execution_count": 16,
     "metadata": {},
     "output_type": "execute_result"
    }
   ],
   "source": [
    "len(sentences)"
   ]
  },
  {
   "cell_type": "code",
   "execution_count": 17,
   "metadata": {
    "id": "-uCzHEBKEQse"
   },
   "outputs": [],
   "source": [
    "from gensim.models import word2vec, FastText\n",
    "import multiprocessing"
   ]
  },
  {
   "cell_type": "code",
   "execution_count": 21,
   "metadata": {
    "colab": {
     "base_uri": "https://localhost:8080/"
    },
    "id": "4TyyedP6x52p",
    "outputId": "58e48912-6e6f-465f-ac55-42301d05ad4e"
   },
   "outputs": [
    {
     "data": {
      "text/plain": [
       "2"
      ]
     },
     "execution_count": 21,
     "metadata": {},
     "output_type": "execute_result"
    }
   ],
   "source": [
    "multiprocessing.cpu_count()"
   ]
  },
  {
   "cell_type": "code",
   "execution_count": 22,
   "metadata": {
    "colab": {
     "base_uri": "https://localhost:8080/"
    },
    "id": "6D3qT1G4x-l0",
    "outputId": "448970fe-9bd3-4184-e6d1-241a05b48e6e"
   },
   "outputs": [
    {
     "name": "stdout",
     "output_type": "stream",
     "text": [
      "processor\t: 0\n",
      "vendor_id\t: GenuineIntel\n",
      "cpu family\t: 6\n",
      "model\t\t: 79\n",
      "model name\t: Intel(R) Xeon(R) CPU @ 2.20GHz\n",
      "stepping\t: 0\n",
      "microcode\t: 0xffffffff\n",
      "cpu MHz\t\t: 2199.998\n",
      "cache size\t: 56320 KB\n",
      "physical id\t: 0\n",
      "siblings\t: 2\n",
      "core id\t\t: 0\n",
      "cpu cores\t: 1\n",
      "apicid\t\t: 0\n",
      "initial apicid\t: 0\n",
      "fpu\t\t: yes\n",
      "fpu_exception\t: yes\n",
      "cpuid level\t: 13\n",
      "wp\t\t: yes\n",
      "flags\t\t: fpu vme de pse tsc msr pae mce cx8 apic sep mtrr pge mca cmov pat pse36 clflush mmx fxsr sse sse2 ss ht syscall nx pdpe1gb rdtscp lm constant_tsc rep_good nopl xtopology nonstop_tsc cpuid tsc_known_freq pni pclmulqdq ssse3 fma cx16 pcid sse4_1 sse4_2 x2apic movbe popcnt aes xsave avx f16c rdrand hypervisor lahf_lm abm 3dnowprefetch invpcid_single ssbd ibrs ibpb stibp fsgsbase tsc_adjust bmi1 hle avx2 smep bmi2 erms invpcid rtm rdseed adx smap xsaveopt arat md_clear arch_capabilities\n",
      "bugs\t\t: cpu_meltdown spectre_v1 spectre_v2 spec_store_bypass l1tf mds swapgs taa mmio_stale_data retbleed\n",
      "bogomips\t: 4399.99\n",
      "clflush size\t: 64\n",
      "cache_alignment\t: 64\n",
      "address sizes\t: 46 bits physical, 48 bits virtual\n",
      "power management:\n",
      "\n",
      "processor\t: 1\n",
      "vendor_id\t: GenuineIntel\n",
      "cpu family\t: 6\n",
      "model\t\t: 79\n",
      "model name\t: Intel(R) Xeon(R) CPU @ 2.20GHz\n",
      "stepping\t: 0\n",
      "microcode\t: 0xffffffff\n",
      "cpu MHz\t\t: 2199.998\n",
      "cache size\t: 56320 KB\n",
      "physical id\t: 0\n",
      "siblings\t: 2\n",
      "core id\t\t: 0\n",
      "cpu cores\t: 1\n",
      "apicid\t\t: 1\n",
      "initial apicid\t: 1\n",
      "fpu\t\t: yes\n",
      "fpu_exception\t: yes\n",
      "cpuid level\t: 13\n",
      "wp\t\t: yes\n",
      "flags\t\t: fpu vme de pse tsc msr pae mce cx8 apic sep mtrr pge mca cmov pat pse36 clflush mmx fxsr sse sse2 ss ht syscall nx pdpe1gb rdtscp lm constant_tsc rep_good nopl xtopology nonstop_tsc cpuid tsc_known_freq pni pclmulqdq ssse3 fma cx16 pcid sse4_1 sse4_2 x2apic movbe popcnt aes xsave avx f16c rdrand hypervisor lahf_lm abm 3dnowprefetch invpcid_single ssbd ibrs ibpb stibp fsgsbase tsc_adjust bmi1 hle avx2 smep bmi2 erms invpcid rtm rdseed adx smap xsaveopt arat md_clear arch_capabilities\n",
      "bugs\t\t: cpu_meltdown spectre_v1 spectre_v2 spec_store_bypass l1tf mds swapgs taa mmio_stale_data retbleed\n",
      "bogomips\t: 4399.99\n",
      "clflush size\t: 64\n",
      "cache_alignment\t: 64\n",
      "address sizes\t: 46 bits physical, 48 bits virtual\n",
      "power management:\n",
      "\n"
     ]
    }
   ],
   "source": [
    "!cat /proc/cpuinfo"
   ]
  },
  {
   "cell_type": "code",
   "execution_count": 23,
   "metadata": {
    "colab": {
     "base_uri": "https://localhost:8080/"
    },
    "id": "q0S7bc7I5QBJ",
    "outputId": "601bbcb1-d599-4e2f-9aef-c31a78379462"
   },
   "outputs": [
    {
     "name": "stdout",
     "output_type": "stream",
     "text": [
      "Searching for model drive/MyDrive/models/eswiki-pico.model\n",
      "Modelo drive/MyDrive/models/eswiki-pico.model not found. Train a new one\n"
     ]
    }
   ],
   "source": [
    "model_name = \"drive/MyDrive/models/eswiki-pico.model\"\n",
    "try:\n",
    "    print(f\"Searching for model {model_name}\")\n",
    "    model = word2vec.Word2Vec.load(model_name)\n",
    "    print(\"Model found!!!\")\n",
    "except Exception as e:\n",
    "    print(f\"Modelo {model_name} not found. Train a new one\")\n",
    "    sentences = WikiSentencesExtractor(directory, max_lines=5000)\n",
    "    model = word2vec.Word2Vec(\n",
    "        list(sentences),\n",
    "        vector_size=300,\n",
    "        window=5,\n",
    "        workers=multiprocessing.cpu_count()\n",
    "        )\n",
    "model.save(model_name)"
   ]
  },
  {
   "cell_type": "code",
   "execution_count": 25,
   "metadata": {
    "id": "jFarUmsQ3w-o"
   },
   "outputs": [],
   "source": [
    "from enum import Enum\n",
    "\n",
    "class Algorithms(Enum):\n",
    "    CBOW = \"CBOW\"\n",
    "    SKIP_GRAM = \"SKIP_GRAM\"\n",
    "    FAST_TEXT = \"FAST_TEXT\""
   ]
  },
  {
   "cell_type": "code",
   "execution_count": 26,
   "metadata": {
    "id": "I3mQmAQuBVzf"
   },
   "outputs": [],
   "source": [
    "def load_model(model_path):\n",
    "    try:\n",
    "        return word2vec.Word2Vec.load(model_path)\n",
    "    except:\n",
    "        print(f\"[WARN] Model not found in path {model_path}\")\n",
    "        return None"
   ]
  },
  {
   "cell_type": "code",
   "execution_count": 28,
   "metadata": {
    "id": "nKNeVb-BAx8k"
   },
   "outputs": [],
   "source": [
    "def train_model(sentences, model_name, vector_size: int, window=5, workers=2, algorithm = Algorithms.CBOW):\n",
    "    model_name_params = f\"{model_name}-vs{vector_size}-w{window}-{algorithm.value}.model\"\n",
    "    model_path = f\"drive/MyDrive/models/{model_name_params}\"\n",
    "    if load_model(model_path) is not None:\n",
    "        print(f\"Already exists the model {model_path}\")\n",
    "        return load_model(model_path)\n",
    "    print(f\"TRAINING: {model_path}\")\n",
    "    if algorithm in [Algorithms.CBOW, Algorithms.SKIP_GRAM]:\n",
    "        algorithm_number = 1 if algorithm == Algorithms.SKIP_GRAM else 0\n",
    "        model = word2vec.Word2Vec(\n",
    "            sentences,\n",
    "            vector_size=vector_size,\n",
    "            window=window,\n",
    "            workers=workers,\n",
    "            sg = algorithm_number,\n",
    "            seed=42,\n",
    "            )\n",
    "    elif algorithm == Algorithms.FAST_TEXT:\n",
    "        model = FastText(sentences=sentences, vector_size=vector_size, window=window, workers=workers, seed=42, epochs=100)\n",
    "    else:\n",
    "        print(\"[ERROR] algorithm not implemented yet :p\")\n",
    "        return\n",
    "    model.save(model_path)\n",
    "    return model"
   ]
  },
  {
   "cell_type": "code",
   "execution_count": 29,
   "metadata": {
    "id": "eYU-ydsAuu8o"
   },
   "outputs": [],
   "source": [
    "def report_stats(model):\n",
    "    print(\"Number of words in the corpus used for training the model: \", model.corpus_count)\n",
    "    print(\"Number of words in the model: \", len(model.wv.index_to_key))\n",
    "    print(\"Time [s], required for training the model: \", model.total_train_time)\n",
    "    print(\"Count of trainings performed to generate this model: \", model.train_count)\n",
    "    print(\"Length of the word2vec vectors: \", model.vector_size)\n",
    "    print(\"Applied context length for generating the model: \", model.window)"
   ]
  },
  {
   "cell_type": "code",
   "execution_count": 30,
   "metadata": {
    "colab": {
     "base_uri": "https://localhost:8080/"
    },
    "id": "OnED0jkeuzm-",
    "outputId": "baaccd1b-3023-45a6-c3f9-733849f49255"
   },
   "outputs": [
    {
     "name": "stdout",
     "output_type": "stream",
     "text": [
      "Already exists the model drive/MyDrive/models/eswiki-large-vs100-w2-CBOW.model\n",
      "CPU times: user 5.02 s, sys: 298 ms, total: 5.32 s\n",
      "Wall time: 9.82 s\n"
     ]
    }
   ],
   "source": [
    "%%time\n",
    "cbow_100 = train_model(\n",
    "    WikiSentencesExtractor(directory, -1),\n",
    "    \"eswiki-large\",\n",
    "    100,\n",
    "    2,\n",
    "    workers=24,\n",
    "    algorithm=Algorithms.CBOW\n",
    "    )"
   ]
  },
  {
   "cell_type": "code",
   "execution_count": 31,
   "metadata": {
    "colab": {
     "base_uri": "https://localhost:8080/"
    },
    "id": "ldk-St_xT2nA",
    "outputId": "37617d2f-5217-4c78-a3a2-5463a3884675"
   },
   "outputs": [
    {
     "name": "stdout",
     "output_type": "stream",
     "text": [
      "Number of words in the corpus used for training the model:  1072961\n",
      "Number of words in the model:  211340\n",
      "Time [s], required for training the model:  160.76787760099887\n",
      "Count of trainings performed to generate this model:  1\n",
      "Length of the word2vec vectors:  100\n",
      "Applied context length for generating the model:  2\n"
     ]
    }
   ],
   "source": [
    "report_stats(cbow_100)"
   ]
  },
  {
   "cell_type": "code",
   "execution_count": 107,
   "metadata": {
    "colab": {
     "base_uri": "https://localhost:8080/"
    },
    "id": "Cjx7lkID4Rcn",
    "outputId": "a5cd7c48-dbe6-44a9-ff11-e12451a40fbc"
   },
   "outputs": [
    {
     "name": "stdout",
     "output_type": "stream",
     "text": [
      "Already exists the model drive/MyDrive/models/eswiki-large-vs500-w6-CBOW.model\n",
      "CPU times: user 4.85 s, sys: 2.42 s, total: 7.27 s\n",
      "Wall time: 26.2 s\n"
     ]
    }
   ],
   "source": [
    "%%time\n",
    "cbow_500 = train_model(WikiSentencesExtractor(directory, -1), \"eswiki-large\", 500, 6, workers=24, algorithm=Algorithms.CBOW)"
   ]
  },
  {
   "cell_type": "code",
   "execution_count": null,
   "metadata": {
    "id": "EI_m0yXgT7sm"
   },
   "outputs": [],
   "source": [
    "report_stats(cbow_500)"
   ]
  },
  {
   "cell_type": "code",
   "execution_count": 42,
   "metadata": {
    "colab": {
     "base_uri": "https://localhost:8080/"
    },
    "id": "YIu3E8S243eh",
    "outputId": "316d6ece-c60a-427d-fddc-b36fd5f84160"
   },
   "outputs": [
    {
     "name": "stdout",
     "output_type": "stream",
     "text": [
      "Already exists the model drive/MyDrive/models/eswiki-large-vs500-w6-SKIP_GRAM.model\n",
      "CPU times: user 6.96 s, sys: 2.91 s, total: 9.87 s\n",
      "Wall time: 29.2 s\n"
     ]
    }
   ],
   "source": [
    "%%time\n",
    "skip_gram_500 = train_model(WikiSentencesExtractor(directory, -1), \"eswiki-large\", 500, 6, workers=24, algorithm=Algorithms.SKIP_GRAM)"
   ]
  },
  {
   "cell_type": "code",
   "execution_count": 43,
   "metadata": {
    "colab": {
     "base_uri": "https://localhost:8080/"
    },
    "id": "ilrOqGTvUC_t",
    "outputId": "a696ea6e-ba4e-4081-a951-66bc7800bced"
   },
   "outputs": [
    {
     "name": "stdout",
     "output_type": "stream",
     "text": [
      "Number of words in the corpus used for training the model:  1072961\n",
      "Number of words in the model:  211340\n",
      "Time [s], required for training the model:  383.3038097620006\n",
      "Count of trainings performed to generate this model:  1\n",
      "Length of the word2vec vectors:  500\n",
      "Applied context length for generating the model:  6\n"
     ]
    }
   ],
   "source": [
    "report_stats(skip_gram_500)"
   ]
  },
  {
   "cell_type": "markdown",
   "metadata": {
    "id": "6NpECERd4fyz"
   },
   "source": [
    "fastText toma en cuenta la estructura morfologica de las palabras. Esta estructura no es tomada en cuenta en los modelos tradicionales de Word2Vec.\n",
    "\n",
    "Para hacerlo con fastText se toma la palabra como un agregado de sub-tokens que generalmente y por simplicidad se calculan como los n-gramas de la palabra.\n",
    "\n",
    "Sauce- https://radimrehurek.com/gensim/auto_examples/tutorials/run_fasttext.html#fasttext-model"
   ]
  },
  {
   "cell_type": "code",
   "execution_count": 74,
   "metadata": {
    "colab": {
     "base_uri": "https://localhost:8080/"
    },
    "id": "iiFsl-i35vOw",
    "outputId": "c169a0c3-4ffc-4ca0-be02-19639ea4ea71"
   },
   "outputs": [
    {
     "name": "stdout",
     "output_type": "stream",
     "text": [
      "Already exists the model drive/MyDrive/models/eswiki-medium-vs600-w6-FAST_TEXT.model\n",
      "CPU times: user 28.7 s, sys: 18 s, total: 46.7 s\n",
      "Wall time: 2min 51s\n"
     ]
    }
   ],
   "source": [
    "%%time\n",
    "fastext_600 = train_model(\n",
    "    WikiSentencesExtractor(directory, -1),\n",
    "    \"eswiki-medium\",\n",
    "    600,\n",
    "    6,\n",
    "    workers=24,\n",
    "    algorithm=Algorithms.FAST_TEXT\n",
    "    )"
   ]
  },
  {
   "cell_type": "code",
   "execution_count": 75,
   "metadata": {
    "colab": {
     "base_uri": "https://localhost:8080/"
    },
    "id": "FInGcq17UGgc",
    "outputId": "cdbc5abe-d5e7-4b2c-92c0-e373eff9c4e3"
   },
   "outputs": [
    {
     "name": "stdout",
     "output_type": "stream",
     "text": [
      "Number of words in the corpus used for training the model:  500000\n",
      "Number of words in the model:  135919\n",
      "Time [s], required for training the model:  1.130548065979383\n",
      "Count of trainings performed to generate this model:  1\n",
      "Length of the word2vec vectors:  600\n",
      "Applied context length for generating the model:  6\n"
     ]
    }
   ],
   "source": [
    "report_stats(fastext_600)"
   ]
  },
  {
   "cell_type": "markdown",
   "metadata": {
    "id": "B4h13MzYqTn6"
   },
   "source": [
    "## Operaciones con los vectores entrenados\n",
    "\n",
    "Veremos operaciones comunes sobre vectores. Estos resultados dependeran del modelo que hayamos cargado en memoria"
   ]
  },
  {
   "cell_type": "code",
   "execution_count": 76,
   "metadata": {
    "id": "eE0r8Z7fPs6p"
   },
   "outputs": [],
   "source": [
    "model = fastext_600"
   ]
  },
  {
   "cell_type": "code",
   "execution_count": 77,
   "metadata": {
    "colab": {
     "base_uri": "https://localhost:8080/"
    },
    "id": "CJwGqBVNPvhH",
    "outputId": "94e13d3a-753f-4470-95bc-301fb31b2605"
   },
   "outputs": [
    {
     "name": "stdout",
     "output_type": "stream",
     "text": [
      "word #0/135919 is de\n",
      "word #1/135919 is la\n",
      "word #2/135919 is en\n",
      "word #3/135919 is el\n",
      "word #4/135919 is y\n",
      "word #5/135919 is que\n",
      "word #6/135919 is a\n",
      "word #7/135919 is los\n",
      "word #8/135919 is del\n",
      "word #9/135919 is se\n",
      "word #10/135919 is las\n",
      "word #11/135919 is por\n",
      "word #12/135919 is un\n",
      "word #13/135919 is con\n",
      "word #14/135919 is una\n",
      "word #15/135919 is su\n",
      "word #16/135919 is como\n",
      "word #17/135919 is para\n",
      "word #18/135919 is es\n",
      "word #19/135919 is al\n",
      "word #20/135919 is más\n",
      "word #21/135919 is no\n",
      "word #22/135919 is o\n",
      "word #23/135919 is fue\n",
      "word #24/135919 is lo\n",
      "word #25/135919 is sus\n",
      "word #26/135919 is entre\n",
      "word #27/135919 is también\n",
      "word #28/135919 is este\n",
      "word #29/135919 is son\n",
      "word #30/135919 is esta\n",
      "word #31/135919 is pero\n",
      "word #32/135919 is años\n",
      "word #33/135919 is dos\n",
      "word #34/135919 is desde\n",
      "word #35/135919 is durante\n",
      "word #36/135919 is sobre\n",
      "word #37/135919 is parte\n",
      "word #38/135919 is hasta\n",
      "word #39/135919 is sin\n",
      "word #40/135919 is ser\n",
      "word #41/135919 is ha\n",
      "word #42/135919 is le\n",
      "word #43/135919 is ciudad\n",
      "word #44/135919 is era\n",
      "word #45/135919 is \n",
      "word #46/135919 is año\n",
      "word #47/135919 is donde\n",
      "word #48/135919 is gran\n",
      "word #49/135919 is cuando\n",
      "word #50/135919 is ya\n",
      "word #51/135919 is otros\n",
      "word #52/135919 is después\n",
      "word #53/135919 is está\n",
      "word #54/135919 is puede\n",
      "word #55/135919 is así\n",
      "word #56/135919 is forma\n",
      "word #57/135919 is primera\n",
      "word #58/135919 is había\n",
      "word #59/135919 is e\n",
      "word #60/135919 is aunque\n",
      "word #61/135919 is muy\n",
      "word #62/135919 is fueron\n",
      "word #63/135919 is uno\n",
      "word #64/135919 is tiene\n",
      "word #65/135919 is mayor\n",
      "word #66/135919 is mismo\n",
      "word #67/135919 is además\n",
      "word #68/135919 is gobierno\n",
      "word #69/135919 is han\n",
      "word #70/135919 is vez\n",
      "word #71/135919 is si\n",
      "word #72/135919 is país\n",
      "word #73/135919 is tres\n",
      "word #74/135919 is tras\n",
      "word #75/135919 is primer\n",
      "word #76/135919 is estado\n",
      "word #77/135919 is todo\n",
      "word #78/135919 is solo\n",
      "word #79/135919 is guerra\n",
      "word #80/135919 is embargo\n",
      "word #81/135919 is cual\n",
      "word #82/135919 is nombre\n",
      "word #83/135919 is cada\n",
      "word #84/135919 is san\n",
      "word #85/135919 is estos\n",
      "word #86/135919 is otras\n",
      "word #87/135919 is algunos\n",
      "word #88/135919 is según\n",
      "word #89/135919 is nacional\n",
      "word #90/135919 is general\n",
      "word #91/135919 is tiempo\n",
      "word #92/135919 is lugar\n",
      "word #93/135919 is tanto\n",
      "word #94/135919 is sistema\n",
      "word #95/135919 is sido\n",
      "word #96/135919 is pueden\n",
      "word #97/135919 is mientras\n",
      "word #98/135919 is todos\n",
      "word #99/135919 is estados\n"
     ]
    }
   ],
   "source": [
    "for index, word in enumerate(model.wv.index_to_key):\n",
    "    if index == 100:\n",
    "        break\n",
    "    print(f\"word #{index}/{len(model.wv.index_to_key)} is {word}\")"
   ]
  },
  {
   "cell_type": "code",
   "execution_count": 78,
   "metadata": {
    "colab": {
     "base_uri": "https://localhost:8080/"
    },
    "id": "USTedcpAXLjZ",
    "outputId": "a26a5276-a3b6-4442-b8e4-ac5916cca1d0"
   },
   "outputs": [
    {
     "name": "stdout",
     "output_type": "stream",
     "text": [
      "[-2.2363242e-04  2.7691919e-04 -3.4900822e-04  8.6492975e-05\n",
      "  2.4339599e-04  2.1716925e-04 -2.4556002e-04  2.2704665e-04\n",
      " -3.5443565e-05 -4.0150961e-05]\n",
      "600\n"
     ]
    }
   ],
   "source": [
    "gato_vec = model.wv[\"gato\"]\n",
    "print(gato_vec[:10])\n",
    "print(len(gato_vec))"
   ]
  },
  {
   "cell_type": "code",
   "execution_count": 79,
   "metadata": {
    "id": "7iwhkXvJQIEP"
   },
   "outputs": [],
   "source": [
    "try:\n",
    "    agustisidad_vec = model.wv[\"agusticidad\"]\n",
    "except KeyError:\n",
    "    print(\"OOV founded!\")\n"
   ]
  },
  {
   "cell_type": "code",
   "execution_count": 82,
   "metadata": {
    "colab": {
     "base_uri": "https://localhost:8080/"
    },
    "id": "oC_ckjyg6Vgw",
    "outputId": "e310face-6295-4627-c116-b2b3fcbc96e0"
   },
   "outputs": [
    {
     "data": {
      "text/plain": [
       "600"
      ]
     },
     "execution_count": 82,
     "metadata": {},
     "output_type": "execute_result"
    }
   ],
   "source": [
    "agustisidad_vec[:10]\n",
    "len(agustisidad_vec)"
   ]
  },
  {
   "cell_type": "markdown",
   "metadata": {
    "id": "n170PD_8RGnT"
   },
   "source": [
    "Podemos ver como la similitud entre palabras decrece"
   ]
  },
  {
   "cell_type": "code",
   "execution_count": 83,
   "metadata": {
    "colab": {
     "base_uri": "https://localhost:8080/"
    },
    "id": "i9wBETdgQaNS",
    "outputId": "63d686dd-a623-432d-c804-333150142b3a"
   },
   "outputs": [
    {
     "name": "stdout",
     "output_type": "stream",
     "text": [
      "automóvil - camión -0.014398100785911083\n",
      "automóvil - bicicleta -0.03809265047311783\n",
      "automóvil - cereal -0.03065969981253147\n",
      "automóvil - conde -0.02661689557135105\n"
     ]
    }
   ],
   "source": [
    "word_pairs = [\n",
    "    (\"automóvil\", \"camión\"),\n",
    "    (\"automóvil\", \"bicicleta\"),\n",
    "    (\"automóvil\", \"cereal\"),\n",
    "    (\"automóvil\", \"conde\"),\n",
    "]\n",
    "\n",
    "for w1, w2 in word_pairs:\n",
    "    print(f\"{w1} - {w2} {model.wv.similarity(w1, w2)}\")"
   ]
  },
  {
   "cell_type": "code",
   "execution_count": 84,
   "metadata": {
    "colab": {
     "base_uri": "https://localhost:8080/"
    },
    "id": "wukj9jTlSOCc",
    "outputId": "e60d4e5d-4030-4f15-efe0-eef917608d03"
   },
   "outputs": [
    {
     "data": {
      "text/plain": [
       "[('«enfermedad', 0.4606187641620636),\n",
       " ('enfermedad»', 0.42763596773147583),\n",
       " ('enfermedades', 0.3955746293067932),\n",
       " ('vida»', 0.36319515109062195),\n",
       " ('vida’', 0.34369346499443054),\n",
       " ('ávida', 0.3128056824207306),\n",
       " ('vivida', 0.30903947353363037),\n",
       " ('vidas»', 0.30570918321609497),\n",
       " ('vida—', 0.3042830228805542),\n",
       " ('vida”', 0.3009272515773773)]"
      ]
     },
     "execution_count": 84,
     "metadata": {},
     "output_type": "execute_result"
    }
   ],
   "source": [
    "# rey es a hombre como ___ a mujer\n",
    "# londres es a inglaterra como ____ a vino\n",
    "model.wv.most_similar(positive=['vida', 'enfermedad'], negative=['salud'])"
   ]
  },
  {
   "cell_type": "code",
   "execution_count": 86,
   "metadata": {
    "colab": {
     "base_uri": "https://localhost:8080/",
     "height": 34
    },
    "id": "WHZ25Le-6hSN",
    "outputId": "a2074156-ae9a-4900-f094-fe862db618bf"
   },
   "outputs": [
    {
     "data": {
      "application/vnd.google.colaboratory.intrinsic+json": {
       "type": "string"
      },
      "text/plain": [
       "'disco'"
      ]
     },
     "execution_count": 86,
     "metadata": {},
     "output_type": "execute_result"
    }
   ],
   "source": [
    "model.wv.doesnt_match([\"disco\", \"música\", \"mantequilla\", \"cantante\"])"
   ]
  },
  {
   "cell_type": "code",
   "execution_count": 90,
   "metadata": {
    "colab": {
     "base_uri": "https://localhost:8080/"
    },
    "id": "cRkFqZXM9jBQ",
    "outputId": "022135f1-93fd-4a23-98e3-c37be740f797"
   },
   "outputs": [
    {
     "data": {
      "text/plain": [
       "0.6047445"
      ]
     },
     "execution_count": 90,
     "metadata": {},
     "output_type": "execute_result"
    }
   ],
   "source": [
    "model.wv.similarity(\"noche\", \"noches\")"
   ]
  },
  {
   "cell_type": "code",
   "execution_count": 91,
   "metadata": {
    "colab": {
     "base_uri": "https://localhost:8080/"
    },
    "id": "5nUpUc8t4LDl",
    "outputId": "4b7955b3-cb43-4f02-94c8-bf79c19d685b"
   },
   "outputs": [
    {
     "data": {
      "text/plain": [
       "[('noche', 0.4461252689361572),\n",
       " ('noches', 0.4133933484554291),\n",
       " ('citas', 0.41027557849884033),\n",
       " ('noche»', 0.3886655271053314),\n",
       " ('cabecitas', 0.38327473402023315),\n",
       " ('piedrecitas', 0.3609331548213959),\n",
       " ('escitas', 0.3572961688041687),\n",
       " ('noches»', 0.35429543256759644),\n",
       " ('ilícitas', 0.3270627558231354),\n",
       " ('lícitas', 0.3112875819206238)]"
      ]
     },
     "execution_count": 91,
     "metadata": {},
     "output_type": "execute_result"
    }
   ],
   "source": [
    "model.wv.most_similar(\"nochecitas\", topn=10)"
   ]
  },
  {
   "cell_type": "markdown",
   "metadata": {
    "id": "xaPKO-PTfeXg"
   },
   "source": [
    "## Explorando probabilidades de modelos"
   ]
  },
  {
   "cell_type": "code",
   "execution_count": 92,
   "metadata": {
    "id": "dll5hNDbGvX8"
   },
   "outputs": [],
   "source": [
    "directory = \"drive/MyDrive/corpora/eswiki-dump\"\n",
    "sentences = WikiSentencesExtractor(directory, 10000)\n",
    "model = word2vec.Word2Vec(\n",
    "            list(sentences),\n",
    "            vector_size=100,\n",
    "            window=5,\n",
    "            workers=2,\n",
    "            sg = 1, # Skip-gram\n",
    "            seed=42,\n",
    "            hs=1, # Hierarchical softmax scheme\n",
    "            negative=0 # Disabling negative samples\n",
    "        )"
   ]
  },
  {
   "cell_type": "markdown",
   "metadata": {
    "id": "k339CMx7MbLQ"
   },
   "source": [
    "Usando `score()` obtiene la probabilidad log de una oración. Solo está implementada para modelos entrenados con el esquema *Hierarchival softmax* y deshabilitando *negative sampling*\n",
    "\n",
    "Sauce - https://radimrehurek.com/gensim/models/word2vec.html#gensim.models.word2vec.Word2Vec.score"
   ]
  },
  {
   "cell_type": "code",
   "execution_count": 94,
   "metadata": {
    "id": "RFuBUNZvE19j"
   },
   "outputs": [],
   "source": [
    "directory = \"drive/MyDrive/corpora/eswiki-dump-2\"\n",
    "test_sentences = list(WikiSentencesExtractor(directory, 1000))\n",
    "scores = model.score(test_sentences, total_sentences=1000, chunksize=100, queue_factor=2, report_delay=1)"
   ]
  },
  {
   "cell_type": "code",
   "execution_count": 96,
   "metadata": {
    "colab": {
     "base_uri": "https://localhost:8080/"
    },
    "id": "rA27uZF6z-Jj",
    "outputId": "0a9cebb6-4c7c-4bed-f735-03a0c88e8105"
   },
   "outputs": [
    {
     "data": {
      "text/plain": [
       "1000"
      ]
     },
     "execution_count": 96,
     "metadata": {},
     "output_type": "execute_result"
    }
   ],
   "source": [
    "len(scores)"
   ]
  },
  {
   "cell_type": "code",
   "execution_count": 99,
   "metadata": {
    "colab": {
     "base_uri": "https://localhost:8080/"
    },
    "id": "DEC8ATMb0ApG",
    "outputId": "fc9b64e3-e48f-43a6-903f-a6640a2d91bf"
   },
   "outputs": [
    {
     "data": {
      "text/plain": [
       "array([5.395258], dtype=float32)"
      ]
     },
     "execution_count": 99,
     "metadata": {},
     "output_type": "execute_result"
    }
   ],
   "source": [
    "#sent = \"esta es la primera vez que te vi\".split()\n",
    "sent = \"this is my new book that can be used for corruption\".split()\n",
    "\n",
    "out_sent_score = model.score([sent], total_sentences=1)\n",
    "(-1)*(out_sent_score / len(sent))"
   ]
  },
  {
   "cell_type": "code",
   "execution_count": 100,
   "metadata": {
    "colab": {
     "base_uri": "https://localhost:8080/"
    },
    "id": "N1GJ-DdPJNcD",
    "outputId": "8a39d7a1-f9d8-4728-89f6-a9b3397c0736"
   },
   "outputs": [
    {
     "data": {
      "text/plain": [
       "1000"
      ]
     },
     "execution_count": 100,
     "metadata": {},
     "output_type": "execute_result"
    }
   ],
   "source": [
    "len(scores)"
   ]
  },
  {
   "cell_type": "code",
   "execution_count": 101,
   "metadata": {
    "id": "EpdSraSnKINf"
   },
   "outputs": [],
   "source": [
    "# Obtenemos la (log) perplejidad por sentencia\n",
    "# y dividimos por la longitud de la sentencia (numero de tokens)\n",
    "# todo multiplicado por menos 1\n",
    "ppl_per_sent = [(-1)*(score/len(sent)) for score, sent in zip(scores, test_sentences)]"
   ]
  },
  {
   "cell_type": "code",
   "execution_count": 102,
   "metadata": {
    "colab": {
     "base_uri": "https://localhost:8080/"
    },
    "id": "mX1pad-8LD1a",
    "outputId": "0607801a-76de-49e1-db67-e887c8b797c3"
   },
   "outputs": [
    {
     "name": "stdout",
     "output_type": "stream",
     "text": [
      "Average (log) perplexity of the test set: 49.08702824289504\n"
     ]
    }
   ],
   "source": [
    "# Obtenemos la perplejidad promedio considerando las sentencias de test\n",
    "avg_ppl = sum(ppl_per_sent) / len(ppl_per_sent)\n",
    "print(\"Average (log) perplexity of the test set:\", avg_ppl)"
   ]
  },
  {
   "cell_type": "code",
   "execution_count": 103,
   "metadata": {
    "colab": {
     "base_uri": "https://localhost:8080/"
    },
    "id": "tb619CC2LhtG",
    "outputId": "63711f0e-2055-45f6-bd23-48aaf9019c71"
   },
   "outputs": [
    {
     "name": "stdout",
     "output_type": "stream",
     "text": [
      "#0 len=50 | score=-2985.95703125 | Log ppl=59.719140625 | Sentence: ['el', 'comercio', 'transahariano', 'se', 'refiere', 'al', 'tráfico', 'de', 'mercancías', 'a', 'través', 'del', 'sahara', 'hasta', 'alcanzar', 'áfrica', 'subsahariana', 'desde', 'la', 'costa', 'del', 'norte', 'de', 'áfrica', 'europa', 'o', 'el', 'levante', 'si', 'bien', 'ha', 'existido', 'desde', 'tiempos', 'prehistóricos', 'el', 'apogeo', 'de', 'esta', 'ruta', 'comercial', 'se', 'produjo', 'entre', 'los', 'siglos', 'viii', 'hasta', 'el', 'xvi'] \n",
      "#1 len=5 | score=-46.414710998535156 | Log ppl=9.282942199707032 | Sentence: ['desertificación', 'creciente', 'e', 'incentivo', 'económico'] \n",
      "#2 len=84 | score=-5536.42041015625 | Log ppl=65.9097667875744 | Sentence: ['el', 'sahara', 'tuvo', 'una', 'vez', 'un', 'medio', 'ambiente', 'muy', 'diferente', 'en', 'las', 'actuales', 'libia', 'y', 'argelia', 'desde', 'al', 'menos', 'el', '7000', 'a.c', 'ya', 'existía', 'pastoreo', 'cuidado', 'de', 'ovejas', 'y', 'cabras', 'e', 'importantes', 'asentamientos', 'donde', 'se', 'trabajaba', 'la', 'cerámica', 'el', 'ganado', 'fue', 'introducido', 'en', 'el', 'sáhara', 'central', 'ahaggar', 'entre', 'los', 'años', '4000', 'y', '3500', 'a.c', 'pinturas', 'rupestres', 'significativas', 'fechadas', 'entre', 'el', '3500', 'y', 'el', '2500', 'a.c', 'en', 'lugares', 'actualmente', 'extremadamente', 'secos', 'muestran', 'vegetación', 'y', 'presencia', 'animal', 'en', 'lugares', 'donde', 'no', 'se', 'esperaría', 'en', 'la', 'actualidad'] \n",
      "#3 len=77 | score=-4585.4052734375 | Log ppl=59.55071783685065 | Sentence: ['como', 'desierto', 'el', 'sahara', 'es', 'hoy', 'una', 'extensión', 'hostil', 'que', 'separa', 'la', 'economía', 'del', 'mediterráneo', 'de', 'la', 'economía', 'de', 'la', 'cuenca', 'del', 'níger', 'como', 'indica', 'fernand', 'braudel', 'cruzar', 'esta', 'zona', 'especialmente', 'sin', 'transporte', 'mecanizado', 'vale', 'la', 'pena', 'solo', 'cuando', 'unas', 'circunstancias', 'excepcionales', 'aseguran', 'la', 'expectativa', 'de', 'lograr', 'una', 'ganancia', 'extraordinaria', 'que', 'compense', 'el', 'coste', 'y', 'el', 'peligro', 'de', 'tal', 'travesía', 'el', 'sáhara', 'siempre', 'ha', 'sido', 'hogar', 'de', 'pueblos', 'que', 'practicaban', 'el', 'comercio', 'pero', 'en', 'un', 'entorno', 'local'] \n",
      "#4 len=151 | score=-7816.51171875 | Log ppl=51.76497826986755 | Sentence: ['el', 'comercio', 'en', 'la', 'época', 'pre', 'colonial', 'fue', 'liderado', 'por', 'las', 'caravanas', 'de', 'camellos', 'estos', 'camellos', 'eran', 'engordados', 'durante', 'varios', 'meses', 'en', 'las', 'planicies', 'del', 'magreb', 'o', 'del', 'sahel', 'antes', 'de', 'unirse', 'a', 'una', 'caravana', 'de', 'acuerdo', 'a', 'ibn', 'battuta', 'explorador', 'que', 'acompañó', 'una', 'de', 'estas', 'caravanas', 'el', 'tamaño', 'medio', 'por', 'caravana', 'era', 'de', '1000', 'camellos', 'algunas', 'caravanas', 'podían', 'llegar', 'a', 'una', 'extensión', 'de', 'hasta', '12', '000', 'camellos', 'la', 'caravana', 'era', 'guiada', 'por', 'un', 'bereber', 'muy', 'bien', 'pagado', 'quien', 'conocía', 'el', 'desierto', 'y', 'podía', 'asegurar', 'una', 'travesía', 'segura', 'a', 'través', 'de', 'su', 'bien', 'conocido', 'desierto', 'la', 'supervivencia', 'de', 'una', 'caravana', 'era', 'precaria', 'y', 'dependía', 'de', 'una', 'muy', 'cuidada', 'coordinación', 'se', 'enviaban', 'corredores', 'adelantados', 'hasta', 'los', 'oasis', 'de', 'modo', 'que', 'el', 'agua', 'pudiera', 'ser', 'enviada', 'a', 'la', 'caravana', 'cuando', 'esta', 'estaba', 'todavía', 'a', 'varios', 'días', 'de', 'llegar', 'al', 'manantial', 'dado', 'que', 'las', 'caravanas', 'no', 'podían', 'transportar', 'suficiente', 'agua', 'para', 'toda', 'la', 'travesía'] \n",
      "#5 len=4 | score=-44.24290466308594 | Log ppl=11.060726165771484 | Sentence: ['inicios', 'del', 'comercio', 'transahariano'] \n",
      "#6 len=65 | score=-3345.218017578125 | Log ppl=51.464892578125 | Sentence: ['el', 'comercio', 'prehistórico', 'se', 'expandió', 'por', 'la', 'esquina', 'noreste', 'del', 'sáhara', 'en', 'la', 'era', 'naqada', 'los', 'egipcios', 'del', 'período', 'predinástico', 'del', 'período', 'naqada', 'i', 'comerciaron', 'con', 'nubia', 'en', 'el', 'sur', 'de', 'su', 'territorio', 'con', 'los', 'oasis', 'del', 'desierto', 'occidental', 'hacia', 'el', 'oeste', 'y', 'con', 'las', 'culturas', 'del', 'mediterráneo', 'oriental', 'hacia', 'el', 'oeste', 'también', 'importaban', 'obsidiana', 'de', 'etiopía', 'para', 'dar', 'forma', 'a', 'cuchillas', 'y', 'otros', 'objetos'] \n",
      "#7 len=130 | score=-7693.7861328125 | Log ppl=59.18297025240385 | Sentence: ['la', 'ruta', 'a', 'través', 'del', 'uadi', 'hammamat', 'desde', 'el', 'nilo', 'hasta', 'el', 'mar', 'rojo', 'fue', 'conocida', 'en', 'períodos', 'tan', 'tempranos', 'como', 'la', 'era', 'predinástica', 'existen', 'pinturas', 'describiendo', 'barcos', 'de', 'mimbre', 'egipcios', 'siguiendo', 'esta', 'ruta', 'con', 'fechas', 'anteriores', 'al', '4000', 'a.c', 'antiguas', 'ciudades', 'de', 'la', 'dinastía', 'i', 'de', 'egipto', 'surgieron', 'en', 'las', 'desembocaduras', 'tanto', 'del', 'nilo', 'como', 'del', 'mar', 'rojo', 'atestiguando', 'la', 'popularidad', 'de', 'esta', 'antigua', 'ruta', 'pronto', 'se', 'convirtió', 'en', 'una', 'ruta', 'principal', 'desde', 'tebas', 'hasta', 'el', 'puerto', 'del', 'mar', 'rojo', 'de', 'elim', 'desde', 'donde', 'los', 'viajeros', 'se', 'dirigían', 'o', 'bien', 'hacia', 'asia', 'o', 'arabia', 'o', 'hacia', 'el', 'cuerno', 'de', 'áfrica', 'existen', 'registros', 'documentando', 'el', 'conocimiento', 'de', 'esta', 'ruta', 'por', 'parte', 'de', 'sesostris', 'i', 'seti', 'ramsés', 'iv', 'y', 'también', 'posteriormente', 'el', 'imperio', 'romano', 'especialmente', 'para', 'productos', 'derivados', 'de', 'la', 'minería'] \n",
      "#8 len=154 | score=-8859.8837890625 | Log ppl=57.53171291599026 | Sentence: ['la', 'ruta', 'comercial', 'de', 'darb', 'el-arbain', 'pasando', 'por', 'kharga', 'en', 'el', 'sur', 'y', 'asiut', 'en', 'el', 'norte', 'comenzó', 'a', 'ser', 'utilizada', 'en', 'épocas', 'tan', 'tempranas', 'como', 'el', 'imperio', 'antiguo', 'de', 'egipto', 'para', 'el', 'transporte', 'y', 'comercio', 'de', 'oro', 'marfil', 'especias', 'trigo', 'animales', 'y', 'plantas', 'posteriormente', 'los', 'antiguos', 'romanos', 'protegerían', 'esta', 'ruta', 'rodeándola', 'de', 'varios', 'fuertes', 'y', 'pequeños', 'puestos', 'algunos', 'de', 'los', 'cuales', 'protegían', 'importantes', 'asentamientos', 'y', 'zonas', 'de', 'cultivos', 'descrita', 'por', 'heródoto', 'como', 'una', 'carretera', 'que', 'se', 'atraviesa', 'en', 'cuarenta', 'días', 'se', 'convirtió', 'en', 'su', 'tiempo', 'en', 'una', 'importante', 'ruta', 'terrestre', 'de', 'comercio', 'entre', 'nubia', 'y', 'egipto', 'pasando', 'a', 'conocerse', 'posteriormente', 'como', 'la', 'carretera', 'de', 'los', 'cuarenta', 'días', 'desde', 'kobbei', '25', 'millas', 'al', 'norte', 'de', 'al-fashir', 'la', 'ruta', 'pasaba', 'a', 'través', 'del', 'desierto', 'por', 'bir', 'natrum', 'otro', 'oasis', 'y', 'mina', 'de', 'sal', 'hasta', 'wadi', 'howar', 'antes', 'de', 'entrar', 'en', 'egipto', 'la', 'ruta', 'de', 'darb', 'el-arbain', 'era', 'la', 'más', 'oriental', 'de', 'todas', 'las', 'rutas', 'centrales'] \n",
      "#9 len=160 | score=-8673.2001953125 | Log ppl=54.20750122070312 | Sentence: ['la', 'más', 'occidental', 'de', 'las', 'tres', 'rutas', 'centrales', 'era', 'la', 'carretera', 'de', 'ghadames', 'que', 'discurría', 'desde', 'el', 'río', 'níger', 'en', 'gao', 'hacia', 'el', 'norte', 'hasta', 'ghat', 'y', 'ghadames', 'antes', 'de', 'alcanzar', 'trípoli', 'próxima', 'a', 'esta', 'estaba', 'las', 'más', 'accesible', 'de', 'las', 'tres', 'rutas', 'conocida', 'como', 'carretera', 'de', 'garamanteana', 'denominada', 'así', 'por', 'los', 'antiguos', 'gobernantes', 'de', 'la', 'tierra', 'por', 'la', 'que', 'discurría', 'y', 'también', 'llamada', 'la', 'travesía', 'de', 'bilma', 'esta', 'ruta', 'transcurría', 'hacia', 'el', 'sur', 'por', 'el', 'desierto', 'cercano', 'a', 'murzuk', 'antes', 'de', 'girar', 'hacia', 'el', 'norte', 'para', 'pasar', 'entre', 'las', 'montañas', 'de', 'alhaggar', 'y', 'tibesti', 'alcanzando', 'finalmente', 'el', 'oasis', 'de', 'kawar', 'desde', 'kawar', 'las', 'caravanas', 'pasaban', 'por', 'las', 'grandes', 'dunas', 'de', 'arena', 'de', 'bilma', 'donde', 'sal', 'de', 'roca', 'se', 'extraía', 'en', 'grandes', 'cantidades', 'de', 'diferentes', 'minas', 'para', 'su', 'comercio', 'finalmente', 'se', 'alcanzaba', 'la', 'sabana', 'norte', 'del', 'lago', 'chad', 'esta', 'era', 'la', 'ruta', 'más', 'meridional', 'y', 'su', 'principal', 'objeto', 'de', 'comercio', 'eran', 'esclavos', 'y', 'marfil', 'del', 'sur', 'a', 'cambio', 'de', 'sal'] \n"
     ]
    }
   ],
   "source": [
    "i = 0\n",
    "for sent, score, ppl in zip(test_sentences, scores, ppl_per_sent):\n",
    "    print(f\"#{i} len={len(sent)} | score={score} | Log ppl={ppl} | Sentence: {sent} \")\n",
    "    i += 1\n",
    "    if i == 10: break\n"
   ]
  },
  {
   "cell_type": "markdown",
   "metadata": {
    "id": "_KVhv0MWMfU-"
   },
   "source": [
    "### Obteniendo la probabilidad de un contexto"
   ]
  },
  {
   "cell_type": "code",
   "execution_count": 104,
   "metadata": {
    "id": "vXUGTAF8SWcg"
   },
   "outputs": [],
   "source": [
    "import numpy as np"
   ]
  },
  {
   "cell_type": "code",
   "execution_count": 105,
   "metadata": {
    "id": "l7DW0gXvTrQ-"
   },
   "outputs": [],
   "source": [
    "directory = \"drive/MyDrive/corpora/eswiki-dump\"\n",
    "sentences = WikiSentencesExtractor(directory, 10000)\n",
    "model_context = word2vec.Word2Vec(\n",
    "            list(sentences),\n",
    "            vector_size=100,\n",
    "            window=5,\n",
    "            workers=2,\n",
    "            sg = 1, # Skip-gram\n",
    "            seed=42,\n",
    "            hs=0, # Hierarchical softmax scheme\n",
    "        )"
   ]
  },
  {
   "cell_type": "code",
   "execution_count": 119,
   "metadata": {
    "colab": {
     "base_uri": "https://localhost:8080/"
    },
    "id": "TGFFhVfGyUKR",
    "outputId": "a99150f5-e78a-4ba7-f83d-d0960a7f33b3"
   },
   "outputs": [
    {
     "data": {
      "text/plain": [
       "[('color', 0.000556874),\n",
       " ('sabor', 0.00040580358),\n",
       " ('pelaje', 0.00030448183),\n",
       " ('característico', 0.00024318612),\n",
       " ('cabello', 0.00023327101)]"
      ]
     },
     "execution_count": 119,
     "metadata": {},
     "output_type": "execute_result"
    }
   ],
   "source": [
    "sent = \"el brocoli es de un sabor rico y es de color\".split()\n",
    "cbow_100.predict_output_word(sent, topn=5)"
   ]
  },
  {
   "cell_type": "code",
   "execution_count": 120,
   "metadata": {
    "colab": {
     "base_uri": "https://localhost:8080/"
    },
    "id": "gkKYDaUZMnTt",
    "outputId": "581a3e7c-2184-4395-a183-96b061f298d5"
   },
   "outputs": [
    {
     "name": "stdout",
     "output_type": "stream",
     "text": [
      "Central word=transahariano, context=['el', 'comercio', 'se', 'refiere']\n",
      "Central word=e, context=['desertificación', 'creciente', 'incentivo', 'económico']\n",
      "Central word=tuvo, context=['el', 'sahara', 'una', 'vez']\n",
      "Central word=el, context=['como', 'desierto', 'sahara', 'es']\n",
      "Central word=en, context=['el', 'comercio', 'la', 'época']\n",
      "Central word=prehistórico, context=['el', 'comercio', 'se', 'expandió']\n",
      "Central word=a, context=['la', 'ruta', 'través', 'del']\n",
      "Central word=comercial, context=['la', 'ruta', 'de', 'darb']\n",
      "Central word=occidental, context=['la', 'más', 'de', 'las']\n",
      "Central word=occidentales, context=['las', 'rutas', 'eran', 'la']\n",
      "Central word=este, context=['hacia', 'el', 'las', 'tres']\n",
      "Central word=como, context=['heródoto', 'mencionó', 'los', 'garamantes']\n",
      "Central word=más, context=['la', 'evidencia', 'temprana', 'de']\n",
      "Central word=en, context=['comercio', 'transahariano', 'la', 'edad']\n",
      "Central word=del, context=['el', 'ascenso', 'imperio', 'de']\n",
      "Central word=de, context=['a', 'diferencia', 'ghana', 'malí']\n",
      "Central word=de, context=['el', 'desarrollo', 'la', 'ruta']\n",
      "Central word=del, context=['a', 'partir', 'el', 'comercio']\n",
      "Central word=establecimiento, context=['con', 'el', 'del', 'imperio']\n",
      "Central word=ocasionó, context=['este', 'traslado', 'el', 'auge']\n",
      "Central word=ruta, context=['aunque', 'la', 'principal', 'del']\n",
      "Central word=del, context=['el', 'futuro', 'comercio', 'transaharaniano']\n",
      "Central word=africana, context=['la', 'unión', 'y', 'el']\n",
      "Central word=nacional, context=['el', 'movimiento', 'imbokodvo', 'o']\n",
      "Central word=de, context=['al', 'principio', 'la', 'década']\n",
      "Central word=la, context=['respondiendo', 'a', 'presión', 'de']\n",
      "Central word=después, context=['un', 'año', 'de', 'las']\n",
      "Central word=santiago, context=['cástor', 'lata', 'de', 'compostela']\n",
      "Central word=completo, context=['su', 'nombre', 'era', 'cástor']\n",
      "Central word=espontánea, context=['la', 'prosa', 'consiste', 'en']\n",
      "Central word=principios, context=['entre', 'esos', 'los', 'más']\n",
      "Central word=un, context=['1', 'tener', 'estado', 'mental']\n",
      "Central word=las, context=['2', 'evitar', 'ideas', 'preconcebidas']\n",
      "Central word=las, context=['3', 'evitar', 'comas', 'tímidas']\n",
      "Central word=fútbol, context=['selección', 'de', 'de', 'canadá']\n",
      "Central word=de, context=['la', 'selección', 'fútbol', 'de']\n",
      "Central word=participación, context=['la', 'primera', 'de', 'la']\n",
      "Central word=bruce, context=['futbolistas', 'como', 'wilson', 'bob']\n",
      "Central word=partido, context=['el', 'primer', 'internacional', 'en']\n",
      "Central word=como, context=['en', '1924', 'parte', 'de']\n",
      "Central word=y, context=['en', '1925', 'en', '1926']\n",
      "Central word=jugó, context=['en', '1927', 'cuatro', 'partidos']\n",
      "Central word=al, context=['en', '1928', 'igual', 'que']\n",
      "Central word=muchos, context=['después', 'de', 'años', 'de']\n",
      "Central word=pasar, context=['con', 'el', 'los', 'años']\n",
      "Central word=proceso, context=['parte', 'del', 'clasificatorio', 'para']\n",
      "Central word=siguiente, context=['al', 'año', 'la', 'selección']\n",
      "Central word=canadá, context=['en', '1990', 'participó', 'por']\n",
      "Central word=clasificatorias, context=['en', 'las', 'para', 'el']\n",
      "Central word=copa, context=['en', 'la', 'de', 'oro']\n",
      "Central word=hecho, context=['por', 'el', 'de', 'haber']\n",
      "Central word=título, context=['después', 'del', 'logrado', 'en']\n",
      "Central word=en, context=['mientras', 'que', 'las', 'recientes']\n",
      "Central word=acción, context=['la', 'primera', 'competitiva', 'de']\n",
      "Central word=una, context=['después', 'de', 'serie', 'de']\n",
      "Central word=en, context=['canadá', 'entró', 'la', 'segunda']\n",
      "Central word=copa, context=['en', 'la', 'oro', '2015']\n",
      "Central word=avanzó, context=['luego', 'canadá', 'a', 'la']\n",
      "Central word=de, context=['el', '25', 'marzo', 'de']\n",
      "Central word=a, context=['canadá', 'anunció', 'octavio', 'zambrano']\n",
      "Central word=nuevo, context=['tras', 'un', 'fracaso', 'en']\n",
      "Central word=de, context=['la', 'velocidad', 'ascenso', 'fue']\n",
      "Central word=cita, context=['en', 'la', 'mundialista', 'canadá']\n",
      "Central word=23, context=['lista', 'de', 'jugadores', 'que']\n",
      "Central word=i, context=['josep', 'coll', 'coll', 'barcelona']\n",
      "Central word=procedía, context=['josep', 'coll', 'de', 'una']\n",
      "Central word=en, context=['se', 'inició', 'el', 'tebeo']\n",
      "Central word=páginas, context=['en', 'las', 'de', 'tbo']\n",
      "Central word=para, context=['además', 'de', 'tbo', 'trabajó']\n",
      "Central word=y, context=['entre', '1964', '1981', 'abandonó']\n",
      "Central word=años, context=['en', 'los', '80', 'gracias']\n",
      "Central word=o, context=['los', 'gregüescos', 'greguescos', 'son']\n",
      "Central word=–en, context=['aparecen', 'descritos', 'su', 'variada']\n",
      "Central word=mencionados, context=['así', 'aparecen', 'por', 'primera']\n",
      "Central word=al, context=['en', 'cuanto', 'origen', 'de']\n",
      "Central word=avisa, context=['sousa', 'congosto', 'de', 'la']\n",
      "Central word=corte, context=['en', 'la', 'de', 'carlos']\n",
      "Central word=definición, context=['una', 'escueta', 'de', 'la']\n",
      "Central word=del, context=['más', 'allá', 'efecto', 'abullonado']\n",
      "Central word=exterior, context=['la', 'descripción', 'que', 'de']\n",
      "Central word=veces, context=['mencionados', 'varias', 'por', 'lope']\n",
      "Central word=góngora, context=['luis', 'de', 'parece', 'contestar']\n",
      "Central word=la, context=['pueden', 'completarse', 'citas', 'con']\n",
      "Central word=de, context=['en', 'contra', 'lo', 'que']\n",
      "Central word=que, context=['“los', 'hay', 'parecen', 'alforjas']\n",
      "Central word=futbol, context=['el', 'terrassa', 'club', 'con']\n",
      "Central word=juega, context=['el', 'club', 'en', 'la']\n",
      "Central word=se, context=['en', '1902', 'juega', 'el']\n",
      "Central word=de, context=['primeros', 'años', 'vida', 'del']\n",
      "Central word=primera, context=['en', 'su', 'década', 'el']\n",
      "Central word=el, context=['en', '1917', 'terrassa', 'se']\n",
      "Central word=años, context=['los', 'brillantes', 'de', 'la']\n",
      "Central word=civil, context=['la', 'guerra', 'provocó', 'que']\n",
      "Central word=vuelve, context=['el', 'terrassa', 'a', 'renacer']\n",
      "Central word=los, context=['ya', 'en', 'años', 'setenta']\n",
      "Central word=deja, context=['josep', 'masdefiol', 'el', 'cargo']\n",
      "Central word=de, context=['el', '16', 'abril', 'de']\n",
      "Central word=parece, context=['el', 'equipo', 'salir', 'de']\n",
      "Central word=de, context=['el', '14', 'julio', 'de']\n",
      "Central word=el, context=['en', '1997', 'ayuntamiento', 'y']\n",
      "Central word=segunda, context=['ascenso', 'a', 'años', 'memorables']\n",
      "Central word=temporada, context=['en', 'la', '2001-2002', 'de']\n",
      "Central word=temporada, context=['en', 'la', '2002-2003', 'se']\n",
      "Central word=año, context=['durante', 'el', '2006', 'ya']\n",
      "Central word=y, context=['por', 'desgracia', 'tras', 'una']\n",
      "Central word=2020, context=['2009', '-', 'nuevo', 'cambio']\n",
      "Central word=f.c, context=['el', 'terrassa', 'desde', 'algunos']\n",
      "Central word=por, context=['la', 'adquisición', 'parte', 'de']\n",
      "Central word=club, context=['el', 'nuevo', 'denominado', 'terrassa']\n",
      "Central word=temporada, context=['en', 'la', '2010-2011', 'tras']\n",
      "Central word=temporada, context=['en', 'la', '2011-2012', 'el']\n",
      "Central word=temporada, context=['en', 'la', '2013-2014', 'el']\n",
      "Central word=temporada, context=['en', 'la', '2014-2015', 'el']\n",
      "Central word=temporada, context=['en', 'la', '2016-2017', 'el']\n",
      "Central word=temporada, context=['en', 'la', '2017-2018', 'se']\n",
      "Central word=temporada, context=['en', 'la', '2018-2019', 'el']\n",
      "Central word=campaña, context=['en', 'la', '2019-20', 'el']\n",
      "Central word=temporada, context=['en', 'la', '2020-21', 'el']\n",
      "Central word=nueva, context=['2021', '-', 'reestructuración', 'de']\n",
      "Central word=empezaría, context=['el', 'terrassa', 'la', 'temporada']\n",
      "Central word=dicha, context=['al', 'finalizar', 'fase', 'de']\n",
      "Central word=filial, context=['y', 'el', 'fundació', 'terrassa']\n",
      "Central word=la, context=['debido', 'a', 'copa', 'mundial']\n",
      "Central word=temporada, context=['la', 'primera', 'en', 'can’anglada']\n",
      "Central word=temporada, context=['la', 'siguiente', 'el', 'club']\n",
      "Central word=el, context=['cabe', 'destacar', 'gran', 'e']\n",
      "Central word=recientes, context=['secciones', 'más', 'son', 'como']\n",
      "Central word=es, context=['la', 'etilendiamina', 'un', 'líquido']\n",
      "Central word=se, context=['la', 'etilendiamina', 'utiliza', 'como']\n",
      "Central word=es, context=['la', 'etilendiamina', 'irritante', 'en']\n",
      "Central word=descriptiva, context=['la', 'suficiencia', 'también', 'denominada']\n",
      "Central word=requisito, context=['es', 'un', 'mixto', 'entre']\n",
      "Central word=la, context=['relacionada', 'con', 'suficiencia', 'descriptiva']\n",
      "Central word=en, context=['en', 'o', 'puede', 'referirse']\n",
      "Central word=club, context=['el', 'pontevedra', 'de', 'fútbol']\n",
      "Central word=tercer, context=['es', 'el', 'equipo', 'gallego']\n",
      "Central word=de, context=['el', '16', 'octubre', 'de']\n",
      "Central word=pasos, context=['sus', 'primeros', 'oficiales', 'los']\n",
      "Central word=la, context=['se', 'inició', 'temporada', '1960-61']\n",
      "Central word=siguiente, context=['al', 'año', 'con', 'cuqui']\n",
      "Central word=la, context=['llegamos', 'a', 'temporada', 'en']\n",
      "Central word=vigués, context=['el', 'equipo', 'no', 'se']\n",
      "Central word=continuó, context=['rafa', 'yuste', 'al', 'frente']\n",
      "Central word=empezó, context=['la', 'liga', 'el', '15']\n",
      "Central word=acabaron, context=['los', 'granates', 'la', 'primera']\n",
      "Central word=de, context=['la', 'pérdida', 'la', 'categoría']\n",
      "Central word=y, context=['3.000', 'socios', '12.000', 'espectadores']\n",
      "Central word=anécdotas, context=['entre', 'otras', 'destaca', 'que']\n",
      "Central word=años, context=['durante', 'esos', 'pasarón', 'se']\n",
      "Central word=campaña, context=['en', 'la', '1969-70', 'debido']\n",
      "Central word=no, context=['los', 'granates', 'regresaron', 'nunca']\n",
      "Central word=y, context=['entre', '1981', '1984', 'militaron']\n",
      "Central word=ascendía, context=['así', 'se', 'a', 'la']\n",
      "Central word=llegó, context=['nino', 'mirón', 'a', 'la']\n",
      "Central word=siguiente, context=['al', 'año', 'se', 'volvió']\n",
      "Central word=dos, context=['habían', 'sido', 'años', 'de']\n",
      "Central word=en, context=['la', 'temporada', 'segunda', 'no']\n",
      "Central word=2005-06, context=['en', 'la', 'se', 'da']\n",
      "Central word=temporada, context=['en', 'la', '2007-08', 'con']\n",
      "Central word=económicos, context=['los', 'problemas', 'acosan', 'al']\n",
      "Central word=temporada, context=['en', 'la', '2009-10', 'la']\n",
      "Central word=rival, context=['el', 'primer', 'al', 'que']\n",
      "Central word=segunda, context=['en', 'la', 'eliminatoria', 'del']\n",
      "Central word=2010/2011, context=['la', 'temporada', 'es', 'problemática']\n",
      "Central word=la, context=['finalmente', 'a', 'conclusión', 'de']\n",
      "Central word=la, context=['vuelta', 'a', 'tercera', 'división']\n",
      "Central word=de, context=['el', '16', 'junio', 'de']\n",
      "Central word=temporada, context=['para', 'la', '2011/2012', 'la']\n",
      "Central word=siguiente, context=['en', 'la', 'temporada', 'la']\n",
      "Central word=2013/14, context=['la', 'temporada', 'comienza', 'como']\n",
      "Central word=enorme, context=['tras', 'la', 'decepción', 'se']\n",
      "Central word=la, context=['así', 'comienza', 'temporada', '2014-15']\n",
      "Central word=de, context=['a', 'partir', 'aquí', 'el']\n",
      "Central word=empareja, context=['el', 'sorteo', 'al', 'pontevedra']\n",
      "Central word=el, context=['así', 'pues', 'rival', 'sería']\n",
      "Central word=sería, context=['el', 'rival', 'el', 'deseado']\n",
      "Central word=de, context=['sábado', '27', 'junio', '20:30']\n",
      "Central word=de, context=['el', '11', 'entrada', 'lo']\n",
      "Central word=pontevedra, context=['así', 'el', 'cf', 'volvía']\n",
      "Central word=de, context=['al', 'comienzo', 'esta', 'nueva']\n",
      "Central word=llegar, context=['después', 'de', 'a', 'ser']\n",
      "Central word=temporada, context=['a', 'la', 'siguiente', 'consiguió']\n",
      "Central word=oficial, context=['el', 'escudo', 'del', 'club']\n",
      "Central word=actual, context=['el', 'uniforme', 'del', 'pontevedra']\n",
      "Central word=marca, context=['actualmente', 'su', 'es', 'hummel']\n",
      "Central word=juega, context=['el', 'pontevedra', 'en', 'el']\n",
      "Central word=estadio, context=['el', 'vetusto', 'fue', 'inaugurado']\n",
      "Central word=municipal, context=['el', 'estadio', 'de', 'pasarón']\n",
      "Central word=histórico, context=['el', 'himno', 'del', 'pontevedra']\n",
      "Central word=distintas, context=['existen', 'también', 'versión', 'rock']\n",
      "Central word=granate, context=['el', 'equipo', 'cuenta', 'con']\n",
      "Central word=actual, context=['la', 'mascota', 'es', 'roelio']\n",
      "Central word=del, context=['el', 'filial', 'pontevedra', 'es']\n",
      "Central word=stock, context=['el', 'american', 'exchange', 'es']\n",
      "Central word=stock, context=['el', 'american', 'exchange', 'es']\n",
      "Central word=stock, context=['el', 'american', 'exchange', 'se']\n",
      "Central word=industry, context=['la', 'financial', 'regulatory', 'authority']\n",
      "Central word=del, context=['la', 'creación', 'finra', 'es']\n",
      "Central word=association, context=['el', 'national', 'of', 'securities']\n",
      "Central word=industrial, context=['la', 'propiedad', 'es', 'la']\n",
      "Central word=de, context=['los', 'objetos', 'propiedad', 'industrial']\n",
      "Central word=internacional, context=['a', 'nivel', 'el', 'convenio']\n",
      "Central word=que, context=['se', 'considera', 'las', 'patentes']\n",
      "Central word=considera, context=['maximilian', 'frumkin', 'que', 'la']\n",
      "Central word=principios, context=['venecia', 'desde', 'del', '']\n",
      "Central word=más, context=['el', 'avance', 'importante', 'en']\n",
      "Central word=desde, context=['en', 'inglaterra', '1326', 'la']\n",
      "Central word=sistema, context=['diseminación', 'del', 'de', 'patentes']\n",
      "Central word=veneciano, context=['el', 'modelo', 'parece', 'haber']\n",
      "Central word=caso, context=['en', 'el', 'de', 'inglaterra']\n",
      "Central word=esta, context=['junto', 'con', 'reflexión', 'pedía']\n",
      "Central word=de, context=['el', 'derecho', 'prohibir', 'ius']\n",
      "Central word=al, context=['otros', 'límites', 'derecho', 'de']\n",
      "Central word=a, context=['una', 'patente', 'veces', 'referida']\n",
      "Central word=una, context=['para', 'que', 'invención', 'sea']\n",
      "Central word=común, context=['lo', 'más', 'es', 'que']\n",
      "Central word=de, context=['los', 'modelos', 'utilidad', 'son']\n",
      "Central word=los, context=['de', 'ordinario', 'requisitos', 'de']\n",
      "Central word=de, context=['los', 'modelos', 'utilidad', 'se']\n",
      "Central word=industrial, context=['el', 'diseño', 'de', 'un']\n",
      "Central word=deportivo, context=['el', 'club', 'alcoyano', 's.a.d']\n",
      "Central word=28, context=['inaugurado', 'el', 'de', 'agosto']\n",
      "Central word=como, context=['es', 'conocido', 'el', 'equipo']\n",
      "Central word=en, context=['ha', 'militado', 'todas', 'las']\n",
      "Central word=de, context=['el', '1', 'agosto', 'de']\n",
      "Central word=28, context=['inauguración', 'el', 'de', 'agosto']\n",
      "Central word=de, context=['el', '13', 'septiembre', 'de']\n",
      "Central word=cambio, context=['1928-1936', 'fundación', 'de', 'federación']\n",
      "Central word=alcoyano, context=['el', 'cd', 'se', 'inscribió']\n",
      "Central word=andadura, context=['inició', 'su', 'en', 'el']\n",
      "Central word=temporada, context=['la', 'siguiente', '1930/31', 'disputó']\n",
      "Central word=siguiente, context=['en', 'la', 'temporada', '1931/32']\n",
      "Central word=temporada, context=['en', 'la', '1932/33', 'el']\n",
      "Central word=de, context=['1940-1960', 'después', 'la', 'guerra']\n",
      "Central word=la, context=['después', 'de', 'guerra', 'civil']\n",
      "Central word=temporada, context=['en', 'la', '1939/40', 'queda']\n",
      "Central word=temporada, context=['en', 'la', '1940/41', 'el']\n",
      "Central word=llega, context=['hasta', 'que', 'la', 'temporada']\n",
      "Central word=temporada,1942/43, context=['la', 'siguiente', 'debuta', 'en']\n",
      "Central word=siguiente, context=['la', 'temporada', '1943/44', 'quedará']\n",
      "Central word=plantilla, context=['renueva', 'la', 'y', 'en']\n",
      "Central word=una, context=['como', 'tiene', 'plantilla', 'muy']\n",
      "Central word=temporada, context=['en', 'esta', '1945/46', 'el']\n",
      "Central word=las, context=['sin', 'perder', 'ganas', 'de']\n",
      "Central word=fue, context=['el', 'alcoyano', 'unos', 'de']\n",
      "Central word=temporada, context=['en', 'la', '1947/48', 'vuelve']\n",
      "Central word=una, context=['sin', 'embargo', 'temporada', 'después']\n",
      "Central word=después, context=['una', 'temporada', '1949/50', 'quedará']\n",
      "Central word=década, context=['empieza', 'la', 'de', 'los']\n",
      "Central word=acabaría, context=['esa', 'temporada', 'en', 'decimoquinta']\n",
      "Central word=en, context=['años', 'después', 'la', 'temporada']\n",
      "Central word=después, context=['dos', 'años', 'en', 'la']\n",
      "Central word=temporada, context=['la', 'siguiente', '1957-58', 'en']\n",
      "Central word=travesía, context=['1960-1970', 'una', 'en', 'el']\n",
      "Central word=de, context=['la', 'llegada', 'los', 'años']\n",
      "Central word=fase, context=['en', 'esta', 'de', 'ascenso']\n",
      "Central word=siguiente, context=['en', 'la', 'temporada', '1962/63']\n",
      "Central word=después, context=['nueve', 'temporadas', 'del', 'último']\n",
      "Central word=regreso, context=['en', 'el', 'a', 'la']\n",
      "Central word=en, context=['1970-1977', 'estancia', 'tercera', 'división']\n",
      "Central word=de, context=['la', 'década', 'los', 'setenta']\n",
      "Central word=preferente, context=['en', 'regional', 'el', 'equipo']\n",
      "Central word=segunda, context=['en', 'la', 'temporada', 'en']\n",
      "Central word=más, context=['una', 'temporada', 'tarde', '1976/77']\n",
      "Central word=a, context=['1977-1996', 'retorno', 'tercera', 'debut']\n",
      "Central word=ascender, context=['después', 'de', 'de', 'regional']\n",
      "Central word=llega, context=['hasta', 'que', 'la', 'temporada']\n",
      "Central word=fase, context=['en', 'la', 'de', 'ascenso']\n",
      "Central word=nueva, context=['en', 'la', 'segunda', 'división']\n",
      "Central word=temporada, context=['en', 'la', '1990/91', 'el']\n",
      "Central word=una, context=['1996-', '2004', 'nueva', 'travesía']\n",
      "Central word=una, context=['después', 'de', 'muy', 'buena']\n",
      "Central word=primera, context=['en', 'su', 'temporada', 'en']\n",
      "Central word=después, context=['varios', 'años', '1998/99', 'quedaría']\n",
      "Central word=se, context=['los', 'noventa', 'han', 'consumido']\n",
      "Central word=el, context=['ya', 'en', 'nuevo', 'siglo']\n",
      "Central word=después, context=['un', 'año', 'de', 'quedar']\n",
      "Central word=a, context=['2004-2011', 'retorno', 'la', 'segunda']\n",
      "Central word=andadura, context=['su', 'nueva', 'en', 'segunda']\n",
      "Central word=después, context=['una', 'temporada', '2005/06', 'queda']\n",
      "Central word=muy, context=['en', 'una', 'meritoria', 'copa']\n",
      "Central word=siguiente, context=['en', 'la', 'temporada', '2006/07']\n",
      "Central word=siguiente, context=['en', 'la', 'temporada', '2007-2008']\n",
      "Central word=la, context=['pero', 'a', 'siguiente', 'temporada']\n",
      "Central word=retorno, context=['2011-2019', 'el', 'a', 'segunda']\n",
      "Central word=quedar, context=['después', 'de', 'campeón', 'y']\n",
      "Central word=temporada, context=['en', 'la', '2010/11', 'queda']\n",
      "Central word=temporada, context=['en', 'la', '2011/12', 'el']\n",
      "Central word=temporada, context=['la', 'siguiente', '2012/13', 'quedaría']\n",
      "Central word=de, context=['el', '1', 'agosto', 'del']\n",
      "Central word=temporada, context=['hasta', 'la', '2016-2017', 'no']\n",
      "Central word=temporada, context=['en', 'la', '2018/2019', 'quedaría']\n",
      "Central word=la, context=['2019-2020', 'llega', 'pandemia', 'de']\n",
      "Central word=2019-2020, context=['la', 'temporada', 'se', 'suspende']\n",
      "Central word=copa, context=['2020-2021', 'una', 'del', 'rey']\n",
      "Central word=a, context=['tras', 'ascender', 'segunda', 'b']\n",
      "Central word=ronda, context=['la', 'primera', 'de', 'la']\n",
      "Central word=de, context=['el', '20', 'enero', 'de']\n",
      "Central word=eliminar, context=['finalmente', 'tras', 'al', 'real']\n",
      "Central word=nueva, context=['2021-2022', 'una', 'categoría', 'la']\n",
      "Central word=alcoyano, context=['el', 'cd', 'continúa', 'haciendo']\n",
      "Central word=de, context=['la', 'sede', 'local', 'es']\n",
      "Central word=relaciones, context=['las', 'buenas', 'entre', 'el']\n",
      "Central word=campo, context=['el', 'municipal', 'de', 'el']\n",
      "Central word=grupo, context=['primera', 'rfef', 'ii', '2022-2023']\n",
      "Central word=temporadas, context=['partidos', 'goles', 'y', 'títulos']\n",
      "Central word=oficial, context=['el', 'himno', 'del', 'club']\n",
      "Central word=el, context=['para', 'consultar', 'artículo', 'sobre']\n",
      "Central word=escritor, context=['juan', 'díaz', 'castellano', 'de']\n",
      "Central word=una, context=['barbie', 'es', 'marca', 'de']\n",
      "Central word=sido, context=['barbie', 'ha', 'un', 'personaje']\n",
      "Central word=de, context=['a', 'pesar', 'que', 'barbie']\n",
      "Central word=hizo, context=['también', 'se', 'muy', 'popular']\n",
      "Central word=años, context=['en', 'los', 'cincuenta', 'ruth']\n",
      "Central word=durante, context=['ruth', 'handler', 'un', 'viaje']\n",
      "Central word=sucedió, context=['cuando', 'esto', 'mattel', 'tras']\n",
      "Central word=debut, context=['en', 'su', 'barbie', 'lució']\n",
      "Central word=que, context=['handler', 'creía', 'era', 'importante']\n",
      "Central word=uno, context=['barbie', 'fue', 'de', 'los']\n",
      "Central word=estándar, context=['la', 'gama', 'de', 'las']\n",
      "Central word=de, context=['a', 'través', 'los', 'años']\n",
      "Central word=barbie, context=['en', '2023', 'lanzó', 'su']\n",
      "Central word=completo, context=['el', 'nombre', 'de', 'barbie']\n",
      "Central word=relación, context=['tiene', 'una', 'romántica', 'intermitente']\n",
      "Central word=creado, context=['mattel', 'ha', 'una', 'gama']\n",
      "Central word=conoció, context=['a', 'quien', 'durante', 'su']\n",
      "Central word=tenido, context=['barbie', 'ha', 'más', 'de']\n",
      "Central word=ha, context=['indirectamente', 'barbie', 'participado', 'también']\n",
      "Central word=de, context=['la', 'popularidad', 'barbie', 'asegura']\n",
      "Central word=boecia, context=['policisne', 'de', 'es', 'un']\n",
      "Central word=que, context=['el', 'libro', 'está', 'inspirado']\n",
      "Central word=de, context=['silva', 'y', 'toledo', 'juan']\n",
      "Central word=espiral, context=['una', 'galaxia', 'es', 'un']\n",
      "Central word=espirales, context=['las', 'galaxias', 'deben', 'su']\n",
      "Central word=de, context=['el', 'disco', 'las', 'galaxias']\n",
      "Central word=láctea, context=['la', 'vía', 'es', 'espiral']\n",
      "Central word=estudios, context=['los', 'primeros', 'sobre', 'la']\n",
      "Central word=teoría, context=['la', 'primera', 'admisible', 'fue']\n",
      "Central word=propuesto, context=['se', 'han', 'hipótesis', 'alternativas']\n",
      "Central word=espirales, context=['las', 'galaxias', 'son', 'colecciones']\n",
      "Central word=observado, context=['se', 'ha', 'que', 'aproximadamente']\n",
      "Central word=láctea, context=['la', 'vía', 'es', 'una']\n",
      "Central word=galaxias, context=['junto', 'con', 'irregulares', 'las']\n",
      "Central word=espirales, context=['las', 'galaxias', 'pueden', 'estar']\n",
      "Central word=relativa, context=['la', 'importancia', 'en', 'términos']\n",
      "Central word=espirales, context=['los', 'brazos', 'son', 'regiones']\n",
      "Central word=es, context=['una', 'protuberancia', 'un', 'grupo']\n",
      "Central word=clasificación, context=['según', 'la', 'de', 'hubble']\n",
      "Central word=que, context=['se', 'cree', 'muchos', 'bultos']\n",
      "Central word=de, context=['las', 'elongaciones', 'estrellas', 'en']\n",
      "Central word=parte, context=['la', 'mayor', 'de', 'las']\n",
      "Central word=algunas, context=['sin', 'embargo', 'estrellas', 'habitan']\n",
      "Central word=del, context=['a', 'diferencia', 'disco', 'galáctico']\n",
      "Central word=de, context=['el', 'movimiento', 'las', 'estrellas']\n",
      "Central word=rotación, context=['curva', 'de', 'y', 'materia']\n",
      "Central word=espirales, context=['las', 'galaxias', 'presentan', 'una']\n",
      "Central word=generales, context=['las', 'características', 'de', 'las']\n",
      "Central word=de, context=['el', 'estudio', 'estas', 'curvas']\n",
      "Central word=mediante, context=['además', 'de', 'la', 'secuencia']\n",
      "Central word=es, context=['otro', 'sistema', 'mediante', 'la']\n",
      "Central word=cúmulos, context=['investigaciones', 'de', 'de', 'galaxias']\n",
      "Central word=de, context=['garci', 'rodríguez', 'montalvo', 'medina']\n",
      "Central word=medina, context=['nació', 'en', 'del', 'campo']\n",
      "Central word=en, context=['probablemente', 'participó', 'la', 'guerra']\n",
      "Central word=de, context=['fue', 'regidor', 'medina', 'del']\n",
      "Central word=de, context=['el', '30', 'junio', 'de']\n",
      "Central word=que, context=['es', 'posible', 'alguna', 'aldea']\n",
      "Central word=que, context=['pese', 'a', 'se', 'ha']\n",
      "Central word=renovó, context=['adaptó', 'y', 'desde', 'los']\n",
      "Central word=constituye, context=['el', 'libro', 'una', 'obra']\n",
      "Central word=perfecto, context=['como', 'caballero', 'amadís', 'representa']\n",
      "Central word=de, context=['garci', 'rodríguez', 'montalvo', 'tiene']\n",
      "Central word=zona, context=['se', 'denomina', 'de', 'fresnel']\n",
      "Central word=de, context=['las', 'zonas', 'fresnel', 'se']\n",
      "Central word=palabras, context=['en', 'pocas', 'consiste', 'en']\n",
      "Central word=foco, context=['en', 'el', 'de', 'recepción']\n",
      "Central word=de, context=['el', 'principio', 'huygens', 'nos']\n",
      "Central word=las, context=['geometría', 'de', 'zonas', 'de']\n",
      "Central word=de, context=['la', 'geometría', 'las', 'zonas']\n",
      "Central word=altura, context=['formula_9', '=', 'efectiva', 'de']\n",
      "Central word=de, context=['formula_10=', 'distancia', 'la', 'pantalla']\n",
      "Central word=de, context=['formula_11=', 'distancia', 'la', 'pantalla']\n",
      "Central word=longitud, context=['formula_7', '=', 'de', 'la']\n",
      "Central word=entre, context=['el', 'desfase', 'las', 'dos']\n",
      "Central word=la, context=['remplazando', 'formula_7', 'ecuación', 'queda']\n",
      "Central word=estas, context=['debido', 'a', 'ecuaciones', 'se']\n",
      "Central word=de, context=['las', 'zonas', 'fresnel', 'explican']\n",
      "Central word=de, context=['el', 'radio', 'los', 'círculos']\n",
      "Central word=sistemas, context=['en', 'los', 'de', 'comunicación']\n",
      "Central word=esto, context=['para', 'expresar', 'de', 'manera']\n",
      "Central word=intensidad, context=['formula_27', '=', 'del', 'campo']\n",
      "Central word=fuerza, context=['formula_28', '=', 'de', 'campo']\n",
      "Central word=integral, context=['formula_29', '=', 'compleja', 'de']\n",
      "Central word=parámetro, context=['formula_30', '=', 'de', 'difracción']\n",
      "Central word=de, context=['el', 'parámetro', 'difracción', 'por']\n",
      "Central word=es, context=['formula_4', '=', 'la', 'altura']\n",
      "Central word=son, context=['formula_34', '=', 'las', 'distancias']\n",
      "Central word=longitud, context=['formula_25', '=', 'de', 'onda']\n",
      "Central word=que, context=['se', 'observa', 'si', 'la']\n",
      "Central word=filo, context=['modelo', 'difracción', 'de', 'cuchillo']\n",
      "Central word=de, context=['el', 'efecto', 'filo', 'de']\n",
      "Central word=propagación, context=['en', 'la', 'electromagnética', 'se']\n",
      "Central word=difracción, context=['cuando', 'la', 'es', 'causada']\n",
      "Central word=receptor, context=['considere', 'un', 'en', 'el']\n",
      "Central word=de, context=['la', 'ganancia', 'difracción', 'debido']\n",
      "Central word=4, context=['la', 'figura', 'nos', 'muestra']\n",
      "Central word=determinar, context=['pasos', 'para', 'las', 'pérdidas']\n",
      "Central word=el, context=['formula_40', 'calcular', 'parámetro', 'geométrico']\n",
      "Central word=el, context=['formula_41', 'calcular', 'factor', 'de']\n",
      "Central word=la, context=['formula_43', 'calcular', 'pérdida', 'por']\n",
      "Central word=la, context=['formula_45', 'calcular', 'pérdida', 'por']\n",
      "Central word=zona, context=['ejemplos', 'de', 'de', 'fresnel']\n",
      "Central word=de, context=['la', 'identificación', 'las', 'zonas']\n",
      "Central word=fresnel, context=['el', 'peor', 'representa', 'el']\n",
      "Central word=varios, context=['para', 'dar', 'ejemplos', 'de']\n",
      "Central word=dato, context=['cuando', 'este', 'se', 'presenta']\n",
      "Central word=térmico, context=['un', 'puente', 'es', 'una']\n",
      "Central word=un, context=['así', 'pues', 'puente', 'térmico']\n",
      "Central word=que, context=['antes', 'de', 'se', 'generalizase']\n",
      "Central word=sencillo, context=['un', 'ejemplo', 'de', 'un']\n",
      "Central word=térmicos, context=['los', 'puentes', 'pueden', 'estar']\n",
      "Central word=común, context=['un', 'caso', 'es', 'el']\n",
      "Central word=esta, context=['para', 'evitar', 'transmisión', 'de']\n",
      "Central word=caso, context=['para', 'el', 'de', 'ventanas']\n",
      "Central word=de, context=['el', 'sistema', 'rotura', 'más']\n",
      "Central word=del, context=['las', 'ventajas', 'uso', 'de']\n",
      "Central word=problema, context=['existe', 'el', 'también', 'en']\n",
      "Central word=usual, context=['un', 'modo', 'de', 'resolver']\n",
      "Central word=zorra, context=['el', 'término', 'puede', 'referirse']\n",
      "Central word=más, context=['el', 'dioxano', 'correctamente', 'el']\n",
      "Central word=se, context=['el', 'dioxano', 'sintetiza', 'a']\n",
      "Central word=es, context=['el', 'dioxano', 'un', 'subproducto']\n",
      "Central word=puede, context=['el', 'dioxano', 'sintetizarse', 'también']\n",
      "Central word=se, context=['el', 'dioxano', 'utiliza', 'sobre']\n",
      "Central word=del, context=['los', 'vapores', 'dioxano', 'forman']\n",
      "Central word=puede, context=['el', 'dioxano', 'reaccionar', 'violentamente']\n",
      "Central word=es, context=['el', 'lepolemo', 'un', 'libro']\n",
      "Central word=con, context=['de', 'conformidad', 'el', 'tópico']\n",
      "Central word=una, context=['lepolemo', 'fue', 'obra', 'bastante']\n",
      "Central word=gayangos, context=['pascual', 'de', 'y', 'arce']\n",
      "Central word=gayangos, context=['pascual', 'de', 'y', 'arce']\n",
      "Central word=una, context=['descendía', 'de', 'familia', 'de']\n",
      "Central word=gayangos, context=['en', 'inglaterra', 'entró', 'en']\n",
      "Central word=regresó, context=['en', '1843', 'a', 'españa']\n",
      "Central word=fue, context=['en', '1857', 'nombrado', 'archivero']\n",
      "Central word=relaciones, context=['dadas', 'sus', 'familiares', 'gayangos']\n",
      "Central word=fue, context=['en', '1881', 'nombrado', 'director']\n",
      "Central word=londres, context=['falleció', 'en', 'el', '4']\n",
      "Central word=un, context=['gayangos', 'fue', 'prolífico', 'autor']\n",
      "Central word=rusas, context=['las', 'montañas', 'invertidas', 'son']\n",
      "Central word=suelen, context=['sus', 'coches', 'ser', 'muy']\n",
      "Central word=más, context=['los', 'elementos', 'comunes', 'en']\n",
      "Central word=se, context=['algunas', 'veces', 'las', 'denomina']\n",
      "Central word=estas, context=['muchas', 'de', 'montañas', 'rusas']\n",
      "Central word=vekoma, context=['construida', 'por', 'tiene', 'las']\n",
      "Central word=consiste, context=['su', 'recorrido', 'en', 'una']\n",
      "Central word=extendidos, context=['modelos', 'slc', 'de', 'vekoma']\n",
      "Central word=variante, context=['es', 'una', 'del', 'modelo']\n",
      "Central word=bolliger, context=['batman', 'de', '&amp', 'mabillard']\n",
      "Central word=modelo, context=['es', 'un', 'estándar', 'de']\n",
      "Central word=de, context=['las', 'pruebas', 'software', 'en']\n",
      "Central word=son, context=['las', 'pruebas', 'básicamente', 'un']\n",
      "Central word=de, context=['un', 'caso', 'pruebas', 'es']\n",
      "Central word=de, context=['el', 'objetivo', 'las', 'pruebas']\n",
      "Central word=afirmación, context=['teniendo', 'esta', 'en', 'mente']\n",
      "Central word=ideal, context=['el', 'ambiente', 'de', 'las']\n",
      "Central word=de, context=['a', 'pesar', 'lo', 'que']\n",
      "Central word=las, context=['por', 'esto', 'actividades', 'técnicas']\n",
      "Central word=desarrollo, context=['proceso', 'de', 'de', 'software']\n",
      "Central word=proceso, context=['tenemos', 'el', 'de', 'desarrollo']\n",
      "Central word=el, context=['también', 'tenemos', 'desarrollo', 'iterativo']\n",
      "Central word=de, context=['otro', 'proceso', 'desarrollo', 'que']\n",
      "Central word=último, context=['y', 'por', 'tenemos', 'el']\n",
      "Central word=tipo, context=['son', 'el', 'de', 'pruebas']\n",
      "Central word=a, context=['puede', 'referirse', 'la', 'revisión']\n",
      "Central word=pruebas, context=['todas', 'aquellas', 'que', 'para']\n",
      "Central word=dinámicas, context=['las', 'pruebas', 'permiten', 'el']\n",
      "Central word=entender, context=['antes', 'de', 'para', 'que']\n",
      "Central word=de, context=['las', 'especificaciones', 'requerimientos', 'son']\n",
      "Central word=beta, context=['los', 'probadores', 'se', 'guían']\n",
      "Central word=las, context=['clasificación', 'de', 'pruebas', 'según']\n",
      "Central word=funcional, context=['una', 'prueba', 'es', 'una']\n",
      "Central word=el, context=['podemos', 'considerar', 'proceso', 'de']\n",
      "Central word=de, context=['las', 'pruebas', 'regresión', 'se']\n",
      "Central word=no, context=['una', 'prueba', 'funcional', 'es']\n",
      "Central word=probando, context=['se', 'está', 'otro', 'aspecto']\n",
      "Central word=realizar, context=['herramientas', 'para', 'pruebas', 'de']\n",
      "Central word=de, context=['el', 'control', 'la', 'calidad']\n",
      "Central word=herramientas, context=['podemos', 'encontrar', 'escritas', 'en']\n",
      "Central word=beta, context=['las', 'pruebas', 'del', 'inglés']\n",
      "Central word=que, context=['a', 'los', 'realizan', 'las']\n",
      "Central word=que, context=['debido', 'a', 'realizar', 'este']\n",
      "Central word=yétiks, context=['jetix', 'pronunciado', 'en', 'fonética']\n",
      "Central word=el, context=['fue', 'considerado', 'canal', 'sucesor']\n",
      "Central word=de, context=['en', 'julio', '2001', 'haim']\n",
      "Central word=se, context=['en', '2004', 'empieza', 'a']\n",
      "Central word=de, context=['en', 'diciembre', '2008', 'the']\n",
      "Central word=de, context=['el', '16', 'febrero', 'de']\n",
      "Central word=de, context=['el', '15', 'mayo', 'de']\n",
      "Central word=de, context=['el', '18', 'septiembre', 'de']\n",
      "Central word=versión, context=['la', 'última', 'de', 'jetix']\n",
      "Central word=transmitió, context=['jetix', 'se', 'en', 'estados']\n",
      "Central word=la, context=['jetix', 'tomó', 'mayor', 'parte']\n",
      "Central word=unido, context=['en', 'reino', 'y', 'en']\n",
      "Central word=group, context=['disney-abc', 'television', 'había', 'anunciado']\n",
      "Central word=era, context=['en', 'latinoamérica', 'un', 'canal']\n",
      "Central word=de, context=['a', 'finales', '2008', 'disney-abc']\n",
      "Central word=jetix, context=['en', 'canadá', 'era', 'un']\n",
      "Central word=jetix, context=['en', 'japón', 'era', 'un']\n",
      "Central word=jetix, context=['en', 'españa', 'se', 'estrenó']\n",
      "Central word=varias, context=['jetix', 'emitió', 'series', 'para']\n",
      "Central word=de, context=['series', 'heredadas', 'fox', 'kids']\n",
      "Central word=fox, context=['anteriormente', 'copa', 'kids', 'sección']\n",
      "Central word=de, context=['los', 'cortitos', 'tito', 'cortito']\n",
      "Central word=de, context=['los', 'cortitos', 'tito', 'cortito']\n",
      "Central word=es, context=['tito', 'cortito', 'el', 'conductor']\n",
      "Central word=neovolcánico, context=['el', 'eje', '—también', 'llamado']\n",
      "Central word=neovolcánico, context=['el', 'eje', 'forma', 'parte']\n",
      "Central word=por, context=['inicialmente', 'llamada', 'los', 'geólogos']\n",
      "Central word=cordillera, context=['en', 'la', 'neo-volcánica', 'se']\n",
      "Central word=dos, context=['aquí', 'nacen', 'de', 'los']\n",
      "Central word=es, context=['su', 'flora', 'característica', 'de']\n",
      "Central word=es, context=['la', 'cordillera', 'una', 'barrera']\n",
      "Central word=generales, context=['en', 'líneas', 'la', 'cordillera']\n",
      "Central word=neovolcánica, context=['la', 'cordillena', 'es', 'una']\n",
      "Central word=de, context=['las', 'montañas', 'la', 'cordillera']\n",
      "Central word=cordillera, context=['como', 'toda', 'importante', 'este']\n",
      "Central word=modos, context=['de', 'todos', 'merced', 'a']\n",
      "Central word=en, context=['principales', 'volcanes', 'el', 'eje']\n",
      "Central word=las, context=['volcanes', 'de', 'islas', 'revillagigedo']\n",
      "Central word=menos, context=['por', 'lo', 'existen', 'dos']\n",
      "Central word=se, context=['en', 'querétaro', 'encuentra', 'el']\n",
      "Central word=se, context=['el', 'sangangüey', 'localiza', 'en']\n",
      "Central word=colima, context=['volcán', 'de', 'y', 'nevado']\n",
      "Central word=de, context=['el', 'volcán', 'fuego', '']\n",
      "Central word=de, context=['el', 'nevado', 'colima', 'es']\n",
      "Central word=es, context=['el', 'paricutín', 'célebre', 'por']\n",
      "Central word=alrededores, context=['en', 'los', 'del', 'volcán']\n",
      "Central word=valle, context=['todo', 'el', 'se', 'recuperó']\n",
      "Central word=de, context=['el', 'nevado', 'toluca', 'es']\n",
      "Central word=parque, context=['pertenece', 'al', 'nacional', 'de']\n",
      "Central word=anual, context=['temperatura', 'media', 'de', '-2']\n",
      "Central word=meridional, context=['su', 'vertiente', 'desciende', 'hacia']\n",
      "Central word=tiene, context=['el', 'cráter', 'forma', 'elíptica']\n",
      "Central word=de, context=['a', 'los', 'altitud', 'se']\n",
      "Central word=la, context=['el', 'volcán', 'malinche', 'también']\n",
      "Central word=se, context=['la', 'malinche', 'encuentra', 'mayormente']\n",
      "Central word=ha, context=['aunque', 'se', 'determinado', 'que']\n",
      "Central word=y, context=['el', 'popocatépetl', 'el', 'iztaccíhuatl']\n",
      "Central word=están, context=['estas', 'montañas', 'unidas', 'mediante']\n",
      "Central word=volcanes, context=['esos', 'dos', 'engalanan', 'al']\n",
      "Central word=de, context=['el', 'pico', 'orizaba', 'o']\n",
      "Central word=forma, context=['el', 'volcán', 'parte', 'de']\n",
      "Central word=es, context=['un', 'lienzo', 'un', 'tejido']\n",
      "Central word=se, context=['sobre', 'tela', 'pintó', 'ya']\n",
      "Central word=los, context=['uno', 'de', 'óleos', 'sobre']\n",
      "Central word=el, context=['se', 'generalizó', 'uso', 'de']\n",
      "Central word=las, context=['dependiendo', 'de', 'características', 'de']\n",
      "Central word=por, context=['el', 'algodón', 'su', 'parte']\n",
      "Central word=puede, context=['la', 'tela', 'estar', 'fijada']\n",
      "Central word=se, context=['el', 'lienzo', 'prepara', 'mediante']\n",
      "Central word=el, context=['existen', 'en', 'mercado', 'pequeños']\n",
      "Central word=las, context=['una', 'de', 'diferencias', 'más']\n",
      "Central word=lienzo, context=['con', 'un', 'adecuadamente', 'preparado']\n",
      "Central word=las, context=['para', 'eliminar', 'arrugas', 'del']\n",
      "Central word=preocupación, context=['ignorando', 'toda', 'por', 'el']\n",
      "Central word=estos, context=['muchos', 'de', 'pintores', 'del']\n",
      "Central word=dioses, context=['los', 'propios', 'es', 'una']\n",
      "Central word=de, context=['el', 'título', 'la', 'novela']\n",
      "Central word=publicada, context=['originalmente', 'fue', 'en', 'revistas']\n",
      "Central word=se, context=['esta', 'novela', 'divide', 'en']\n",
      "Central word=que, context=['asimov', 'declaró', 'la', 'novela']\n",
      "Central word=contra, context=['primera', 'parte', 'la', 'estupidez']\n",
      "Central word=parte, context=['la', 'primera', 'se', 'desarrolla']\n",
      "Central word=los, context=['segunda', 'parte', 'propios', 'dioses']\n",
      "Central word=parte, context=['la', 'segunda', 'toma', 'lugar']\n",
      "Central word=de, context=['al', 'ser', 'forma', 'etérea']\n",
      "Central word=segunda, context=['existe', 'una', 'forma', 'de']\n",
      "Central word=¿luchan, context=['tercera', 'parte', 'en', 'vano']\n",
      "Central word=parte, context=['la', 'tercera', 'transcurre', 'en']\n",
      "Central word=son, context=['los', 'mustangs', 'los', 'caballos']\n",
      "Central word=llanuras, context=['las', 'inmensas', 'estadounidenses', 'y']\n",
      "Central word=muy, context=['han', 'sido', 'apreciados', 'por']\n",
      "Central word=mustang, context=['la', 'palabra', 'proviene', 'de']\n",
      "Central word=del, context=['a', 'comienzos', 'los', 'mustangos']\n",
      "Central word=cardíaco, context=['el', 'plexo', 'es', 'una']\n",
      "Central word=en, context=['se', 'divide', 'porción', 'superficial']\n",
      "Central word=simpática, context=['la', 'parte', 'se', 'encarga']\n",
      "Central word=laúd, context=['la', 'tortuga', 'dermochelys', 'coriacea']\n",
      "Central word=es, context=['dermochelys', 'coriacea', 'la', 'mayor']\n",
      "Central word=delanteras, context=['las', 'aletas', 'de', 'esta']\n",
      "Central word=ha, context=['el', 'pico', 'desarrollado', 'una']\n",
      "Central word=subsiste, context=['dermochelys', 'coriacea', 'gracias', 'a']\n",
      "Central word=posee, context=['esta', 'especie', 'un', 'gran']\n",
      "Central word=hace, context=['esta', 'especie', 'viajes', 'de']\n",
      "Central word=la, context=['si', 'bien', 'medusa', 'es']\n",
      "Central word=se, context=['esta', 'tortuga', 'aparea', 'en']\n",
      "Central word=encontrar, context=['después', 'de', 'una', 'hembra']\n",
      "Central word=de, context=['la', 'división', 'la', 'célula']\n",
      "Central word=de, context=['las', 'playas', 'anidación', 'deben']\n",
      "Central word=se, context=['los', 'huevos', 'incuban', 'durante']\n",
      "Central word=atlánticos, context=['los', 'ejemplares', 'anidan', 'entre']\n",
      "Central word=pacífico, context=['en', 'el', 'americano', 'el']\n",
      "Central word=viven, context=['dermochelys', 'coriacea', 'en', 'casi']\n",
      "Central word=meses, context=['en', 'los', 'de', 'verano']\n",
      "Central word=prefieren, context=['las', 'tortugas', 'aguas', 'profundas']\n",
      "Central word=unidos, context=['en', 'estados', 'dermochelys', 'coriacea']\n",
      "Central word=de, context=['los', 'ejemplares', 'dermochelys', 'coriacea']\n",
      "Central word=humana, context=['la', 'actividad', 'amenaza', 'a']\n",
      "Central word=adultos, context=['mientras', 'los', 'están', 'en']\n",
      "Central word=son, context=['las', 'redes', 'puestas', 'deliberadamente']\n",
      "Central word=comúnmente, context=['mirounga', 'llamado', 'elefante', 'marino']\n",
      "Central word=marino, context=['el', 'elefante', 'del', 'norte']\n",
      "Central word=más, context=['el', 'rasgo', 'notable', 'de']\n",
      "Central word=casi, context=['tras', 'pasar', 'todo', 'el']\n",
      "Central word=estos, context=['fruto', 'de', 'enfrentamientos', 'son']\n",
      "Central word=batalla, context=['tras', 'la', 'vuelven', 'al']\n",
      "Central word=llegan, context=['las', 'hembras', 'en', 'diciembre']\n",
      "Central word=un, context=['durante', 'aproximadamente', 'mes', 'las']\n",
      "Central word=de, context=['se', 'alimentan', 'toda', 'clase']\n",
      "Central word=de, context=['a', 'consecuencia', 'la', 'dieta']\n",
      "Central word=tamaño, context=['por', 'su', 'los', 'elefantes']\n",
      "Central word=el, context=['sin', 'embargo', 'mayor', 'peligro']\n",
      "Central word=y, context=['juan', 'gemmir', 'lleonart', 'en']\n",
      "Central word=mataró, context=['nació', 'en', 'el', '16']\n",
      "Central word=de, context=['el', '16', 'octubre', 'de']\n",
      "Central word=se, context=['en', '1741', 'construyó', 'el']\n",
      "Central word=de, context=['el', '28', 'febrero', 'de']\n",
      "Central word=de, context=['el', '13', 'agosto', 'de']\n",
      "Central word=y, context=['juan', 'gemmir', 'lleonart', 'murió']\n",
      "Central word=molina, context=['felipe', 'francisco', 'y', 'bedoya']\n",
      "Central word=molina, context=['felipe', 'francisco', 'y', 'bedoya']\n",
      "Central word=en, context=['cursó', 'estudios', 'filadelfia', 'estados']\n",
      "Central word=–en, context=['nikólaos', 'kaklamanakis', 'griego', 'νικόλαος']\n",
      "Central word=cinco, context=['participó', 'en', 'juegos', 'olímpicos']\n",
      "Central word=medallas, context=['ganó', 'cinco', 'en', 'el']\n",
      "Central word=es, context=['la', 'riqueza', 'la', 'abundancia']\n",
      "Central word=de, context=['la', 'riqueza', 'las', 'naciones']\n",
      "Central word=de, context=['la', 'enciclopedia', 'economía', 'define']\n",
      "Central word=de, context=['el', 'reparto', 'la', 'riqueza']\n",
      "Central word=edad, context=['en', 'la', 'media', 'santo']\n",
      "Central word=hasta, context=['desde', 'el', 'mediados', 'del']\n",
      "Central word=producción, context=['después', 'la', 'de', 'riqueza']\n",
      "Central word=desde, context=['la', 'riqueza', 'el', 'punto']\n",
      "Central word=puede, context=['la', 'riqueza', 'estudiarse', 'desde']\n",
      "Central word=mercantilismo, context=['para', 'el', 'doctrina', 'que']\n",
      "Central word=bullionismo, context=['para', 'el', 'del', 'inglés']\n",
      "Central word=fisiocracia, context=['para', 'la', 'doctrina', 'que']\n",
      "Central word=económico, context=['el', 'liberalismo', 'que', 'aplica']\n",
      "Central word=del, context=['otros', 'teóricos', 'liberalismo', 'son']\n",
      "Central word=autores, context=['son', 'los', 'clásicos', 'del']\n",
      "Central word=marxismo, context=['para', 'el', 'o', 'materialismo']\n",
      "Central word=corresponde, context=['estadio', 'olímpico', 'a', 'la']\n",
      "Central word=escenarios, context=['entre', 'los', 'principales', 'de']\n",
      "Central word=aunque, context=['sin', 'embargo', 'el', 'título']\n",
      "Central word=vez, context=['a', 'su', 'algunos', 'de']\n",
      "Central word=común, context=['también', 'es', 'que', 'estos']\n",
      "Central word=de, context=['otros', 'estadios', 'ciudades', 'que']\n",
      "Central word=4-hidroxi-n,n-dimetiltriptamina, context=['la', 'psilocina', 'es', 'un']\n",
      "Central word=suizo, context=['el', 'químico', 'albert', 'hofmann']\n",
      "Central word=de, context=['la', 'cascada', 'tamul', 'es']\n",
      "Central word=caudal, context=['nace', 'del', 'del', 'río']\n",
      "Central word=con, context=['se', 'forma', 'la', 'caída']\n",
      "Central word=encuentra, context=['tamúl', 'se', 'en', 'una']\n",
      "Central word=también, context=['la', 'psilocibina', 'conocida', 'como']\n",
      "Central word=que, context=['algunos', 'hongos', 'poseen', 'psilocibina']\n",
      "Central word=es, context=['la', 'psilocibina', 'producida', 'naturalmente']\n",
      "Central word=proponen, context=['aquellos', 'que', 'su', 'uso']\n",
      "Central word=estadounidense, context=['el', 'banquero', 'y', 'micólogo']\n",
      "Central word=dietilo, context=['dos', 'análogos', 'dos', 'grupos']\n",
      "Central word=de, context=['a', 'principios', 'los', 'años']\n",
      "Central word=es, context=['la', 'psilocibina', 'un', 'compuesto']\n",
      "Central word=el, context=['en', 'general', 'contenido', 'de']\n",
      "Central word=es, context=['la', 'psilocibina', 'un', 'profármaco']\n",
      "Central word=es, context=['la', 'psilocibina', 'una', 'triptamina']\n",
      "Central word=analíticas, context=['muchas', 'técnicas', 'son', 'usadas']\n",
      "Central word=desarrollado, context=['se', 'han', 'varios', 'métodos']\n",
      "Central word=líquida, context=['y', 'cromatografía', 'acoplada', 'con']\n",
      "Central word=se, context=['la', 'psilobicina', 'defosforila', 'a']\n",
      "Central word=ha, context=['la', 'psilocibina', 'sido', 'investigada']\n",
      "Central word=piloto, context=['un', 'estudio', 'conducido', 'por']\n",
      "Central word=de, context=['el', 'tratamiento', 'depresión', 'mediante']\n",
      "Central word=estudios, context=['otros', 'dos', 'investigan', 'la']\n",
      "Central word=psilocibina, context=['además', 'la', 'se', 'ha']\n",
      "Central word=tiene, context=['la', 'psilocibina', 'según', 'un']\n",
      "Central word=de, context=['la', 'toxicidad', 'la', 'psilocibina']\n",
      "Central word=es, context=['la', 'psilocibina', 'absorbida', 'a']\n",
      "Central word=parte, context=['la', 'mayor', 'de', 'la']\n",
      "Central word=física, context=['la', 'tolerancia', 'y', 'mental']\n",
      "Central word=repetido, context=['el', 'uso', 'de', 'la']\n",
      "Central word=de, context=['los', 'efectos', 'la', 'psilocibina']\n",
      "Central word=de, context=['a', 'principios', 'los', 'años']\n",
      "Central word=consumo, context=['luego', 'del', 'de', 'psilocibina']\n",
      "Central word=en, context=['la', 'modulación', 'la', 'percepción']\n",
      "Central word=de, context=['esta', 'modulación', 'la', 'percepción']\n",
      "Central word=pueden, context=['factores', 'que', 'causar', 'una']\n",
      "Central word=mal, context=['el', 'término', 'viaje', 'describe']\n",
      "Central word=abre, context=['la', 'psilocibina', 'la', 'mente']\n",
      "Central word=puede, context=['la', 'psilocibina', 'inducir', 'experiencias']\n",
      "Central word=año, context=['en', 'el', '2006', 'un']\n",
      "Central word=de, context=['estudios', 'posteriores', 'este', 'mismo']\n",
      "Central word=un, context=['solo', 'hubo', 'caso', 'reportado']\n",
      "Central word=de, context=['las', 'reacciones', 'pánico', 'pueden']\n",
      "Central word=agly, context=['el', 'río', 'en', 'catalán']\n",
      "Central word=afluentes, context=['los', 'principales', 'del', 'río']\n",
      "Central word=un, context=['primaleón', 'es', 'libro', 'de']\n",
      "Central word=indica, context=['según', 'se', 'en', 'su']\n",
      "Central word=relata, context=['la', 'obra', 'la', 'vida']\n",
      "Central word=de, context=['algunos', 'episodios', 'este', 'libro']\n",
      "Central word=el, context=['de', 'que', 'nombre', 'patagón']\n",
      "Central word=fue, context=['el', 'primaleón', 'objeto', 'de']\n",
      "Central word=têt, context=['el', 'río', 'es', 'un']\n",
      "Central word=têt, context=['el', 'río', 'nace', 'en']\n",
      "Central word=es, context=['su', 'cuenca', 'de', '1550']\n",
      "Central word=del, context=['las', 'correrías', 'huáscar', 'fueron']\n",
      "Central word=inicio, context=['aunque', 'al', 'de', 'la']\n",
      "Central word=el, context=['desde', '1878', 'comandante', 'del']\n",
      "Central word=de, context=['el', '10', 'mayo', 'de']\n",
      "Central word=callao, context=['salida', 'del', 'del', '16']\n",
      "Central word=de, context=['el', '16', 'mayo', 'de']\n",
      "Central word=del, context=['por', 'órdenes', 'presidente', 'prado']\n",
      "Central word=regresó, context=['el', 'huáscar', 'a', 'iquique']\n",
      "Central word=continuó, context=['el', 'huáscar', 'a', 'pacocha']\n",
      "Central word=madrugada, context=['en', 'la', 'del', 'día']\n",
      "Central word=entró, context=['el', 'huáscar', 'al', 'callao']\n",
      "Central word=zarpó, context=['el', 'huáscar', 'del', 'callao']\n",
      "Central word=prado, context=['el', 'presidente', 'recibió', 'en']\n",
      "Central word=madrugada, context=['en', 'la', 'del', '18']\n",
      "Central word=de, context=['el', '19', 'julio', 'a']\n",
      "Central word=de, context=['el', '20', 'julio', 'a']\n",
      "Central word=de, context=['el', '21', 'julio', 'el']\n",
      "Central word=peruanos, context=['los', 'buques', 'regresan', 'a']\n",
      "Central word=de, context=['el', '23', 'julio', 'el']\n",
      "Central word=se, context=['al', 'huáscar', 'le', 'asignó']\n",
      "Central word=mar, context=['en', 'alta', 'se', 'desató']\n",
      "Central word=de, context=['el', '4', 'agosto', 'el']\n",
      "Central word=incursionar, context=['grau', 'decidió', 'más', 'al']\n",
      "Central word=del, context=['a', 'la', 'día', '7']\n",
      "Central word=de, context=['el', '8', 'agosto', 'a']\n",
      "Central word=prado, context=['el', 'presidente', 'le', 'dio']\n",
      "Central word=del, context=['a', 'las', '24', 'de']\n",
      "Central word=y, context=['el', 'huáscar', 'la', 'oroya']\n",
      "Central word=última, context=['cuarta', 'y', 'salida', 'del']\n",
      "Central word=estuvo, context=['el', 'huáscar', 'anclado', 'en']\n",
      "Central word=zarpó, context=['el', '29', 'el', 'chalaco']\n",
      "Central word=de, context=['el', '30', 'septiembre', 'a']\n",
      "Central word=correrías, context=['durante', 'sus', 'el', 'huáscar']\n",
      "Central word=flotas, context=['aunque', 'las', 'hicieron', 'lo']\n",
      "Central word=los, context=['inicialmente', 'tras', 'ataques', 'chilenos']\n",
      "Central word=escribe, context=['jorge', 'basadre', 'sobre', 'el']\n",
      "Central word=chilenas, context=['las', 'incursiones', 'no', 'tuvieron']\n",
      "Central word=naval, context=['el', 'estratega', 'estadounidense', 'alfred']\n",
      "Central word=un, context=['abilene', 'fue', 'distrito', 'romano']\n",
      "Central word=la, context=['mencionado', 'en', 'biblia', 'en']\n",
      "Central word=capítulo, context=['en', 'el', '3', 'del']\n",
      "Central word=y, context=['felipe', 'gutiérrez', 'toledo', 'madrid']\n",
      "Central word=diego, context=['era', 'hermano', 'gutiérrez', 'y']\n",
      "Central word=y, context=['felipe', 'gutiérrez', 'toledo', 'había']\n",
      "Central word=por, context=['fue', 'nombrado', 'real', 'cédula']\n",
      "Central word=españa, context=['salió', 'de', 'en', 'julio']\n",
      "Central word=estos, context=['tanto', 'entre', 'como', 'entre']\n",
      "Central word=tiempo, context=['al', 'poco', 'cundió', 'en']\n",
      "Central word=enviado, context=['le', 'fue', 'un', 'navío']\n",
      "Central word=participó, context=['en', '1543', 'en', 'una']\n",
      "Central word=gonzalo, context=['en', 'consecuencia', 'pizarro', 'emitió']\n",
      "Central word=tec, context=['el', 'río', 'tech', 'en']\n",
      "Central word=tec, context=['el', 'río', 'nace', 'a']\n",
      "Central word=es, context=['su', 'régimen', 'pluvio-nival', 'presentando']\n",
      "Central word=en, context=['chōji', 'akimichi', 'japonés', '秋道チョウジ']\n",
      "Central word=el, context=['chōji', 'es', 'amigo', 'de']\n",
      "Central word=caracteriza, context=['chōji', 'se', 'por', 'su']\n",
      "Central word=de, context=['el', 'vestuario', 'chōji', 'en']\n",
      "Central word=del, context=['como', 'integrante', 'equipo', '10']\n",
      "Central word=la, context=['participa', 'en', 'misión', 'de']\n",
      "Central word=segunda, context=['en', 'la', 'parte', 'de']\n",
      "Central word=de, context=['la', 'muerte', 'asuma', 'y']\n",
      "Central word=tarde, context=['tiempo', 'más', 'formaría', 'un']\n",
      "Central word=chōji, context=['más', 'tarde', 'ino', 'y']\n",
      "Central word=de, context=['la', 'invasión', 'pain', 'y']\n",
      "Central word=invasión, context=['en', 'la', 'de', 'konoha']\n",
      "Central word=él, context=['más', 'tarde', 'y', 'su']\n",
      "Central word=la, context=['chōji', 'lamenta', 'muerte', 'de']\n",
      "Central word=chōji, context=['más', 'tarde', 'llega', 'a']\n",
      "Central word=creadas, context=['son', 'píldoras', 'en', 'secreto']\n",
      "Central word=de, context=['la', 'rambla', 'nogalte', 'es']\n",
      "Central word=una, context=['no', 'existe', 'conexión', 'directa']\n",
      "Central word=nogalte, context=['rambla', 'de', 'junto', 'al']\n",
      "Central word=natural, context=['la', 'vegetación', 'presenta', 'grandes']\n",
      "Central word=cultivada, context=['el', 'área', 'se', 'concentra']\n",
      "Central word=sirve, context=['la', 'rambla', 'de', 'cobijo']\n",
      "Central word=parte, context=['la', 'mayor', 'del', 'territorio']\n",
      "Central word=el, context=['sin', 'embargo', 'dato', 'característico']\n",
      "Central word=19, context=['riada', 'de', 'de', 'octubre']\n",
      "Central word=más, context=['la', 'riada', 'destructora', 'de']\n",
      "Central word=28, context=['riada', 'de', 'de', 'septiembre']\n",
      "Central word=inundación, context=['tras', 'la', 'de', '1973']\n",
      "Central word=agua, context=['aprovechamiento', 'del', 'el', 'sistema']\n",
      "Central word=rambla, context=['bajo', 'la', 'discurre', 'un']\n",
      "Central word=se, context=['este', 'sistema', 'puso', 'en']\n",
      "Central word=prehistoria, context=['desde', 'la', 'la', 'rambla']\n",
      "Central word=encuentra, context=['aquí', 'se', 'el', 'yacimiento']\n",
      "Central word=edad, context=['durante', 'la', 'media', 'se']\n",
      "Central word=comienzos, context=['en', 'sus', 'la', 'tradicional']\n",
      "Central word=paso, context=['con', 'el', 'del', 'tiempo']\n",
      "Central word=barrionuevo, context=['francisco', 'de', 'soria', 'corona']\n",
      "Central word=barrionuevo, context=['francisco', 'de', 'había', 'nacido']\n",
      "Central word=en, context=['estuvo', 'inicialmente', 'puerto', 'rico']\n",
      "Central word=de, context=['nombrado', 'gobernador', 'castilla', 'del']\n",
      "Central word=cargo, context=['ejerció', 'el', 'de', 'gobernador']\n",
      "Central word=capitán, context=['posteriormente', 'el', 'francisco', 'de']\n",
      "Central word=el, context=['', 'con', 'título', 'de']\n",
      "Central word=solo, context=['cuando', 'era', 'un', 'niño']\n",
      "Central word=lo, context=['según', 'quienes', 'conocían', 'minato']\n",
      "Central word=posteriores, context=['en', 'años', 'minato', 'fue']\n",
      "Central word=a, context=['mientras', 'ayudaba', 'sus', 'compañeros']\n",
      "Central word=momento, context=['en', 'algún', 'de', 'la']\n",
      "Central word=de, context=['poco', 'después', 'finalizada', 'la']\n",
      "Central word=kushina, context=['más', 'tarde', 'quedaría', 'embarazada']\n",
      "Central word=en, context=['el', 'día', 'que', 'naruto']\n",
      "Central word=del, context=['inmediatamente', 'después', 'parto', 'obito']\n",
      "Central word=dirige, context=['minato', 'se', 'a', 'las']\n",
      "Central word=ver, context=['minato', 'al', 'la', 'decisión']\n",
      "Central word=deseo, context=['el', 'último', 'de', 'minato']\n",
      "Central word=muerte, context=['con', 'la', 'de', 'minato']\n",
      "Central word=una, context=['minato', 'dejó', 'clave', 'para']\n",
      "Central word=pelea, context=['en', 'la', 'de', 'naruto']\n",
      "Central word=revela, context=['luego', 'le', 'a', 'naruto']\n",
      "Central word=liberado, context=['minato', 'es', 'del', 'estómago']\n",
      "Central word=luego, context=['más', 'tarde', 'de', 'que']\n",
      "Central word=junto, context=['luego', 'minato', 'con', 'los']\n",
      "Central word=decide, context=['luego', 'orochimaru', 'soltar', 'a']\n",
      "Central word=pregunta, context=['sakura', 'sorprendida', 'por', 'quien']\n",
      "Central word=los, context=['luego', 'cuando', 'otros', 'tres']\n",
      "Central word=naruto, context=['después', 'cuando', 'salva', 'a']\n",
      "Central word=la, context=['minato', 'entiende', 'situación', 'al']\n",
      "Central word=ser, context=['luego', 'de', 'rescatados', 'minato']\n",
      "Central word=obito, context=['sin', 'embargo', 'es', 'capaz']\n",
      "Central word=pensado, context=['minato', 'tenía', 'saltar', 'para']\n",
      "Central word=defensivas, context=['las', 'esferas', 'que', 'minato']\n",
      "Central word=yin, context=['la', 'parte', 'de', 'kurama']\n",
      "Central word=decir, context=['al', 'obito', 'que', 'el']\n",
      "Central word=sus, context=['al', 'chocar', 'puños', 'el']\n",
      "Central word=le, context=['entonces', 'minato', 'dice', 'a']\n",
      "Central word=el, context=['luego', 'apareció', 'diez', 'colas']\n",
      "Central word=que, context=['después', 'de', 'las', 'bestias']\n",
      "Central word=de, context=['el', 'regreso', 'madara', 'uchiha']\n",
      "Central word=que, context=['luego', 'de', 'obito', 'fue']\n",
      "Central word=obito, context=['izquierdo', 'de', 'pero', 'este']\n",
      "Central word=y, context=['cuando', 'minato', 'kakashi', 'se']\n",
      "Central word=que, context=['obito', 'proclamó', 'él', 'ha']\n",
      "Central word=que, context=['minato', 'señaló', 'en', 'su']\n",
      "Central word=de, context=['el', 'retorno', 'la', 'princesa']\n",
      "Central word=minato, context=['más', 'tarde', 'gracias', 'a']\n",
      "Central word=los, context=['más', 'tarde', 'hokages', 'se']\n",
      "Central word=les, context=['seguidamente', 'hagoromo', 'contó', 'lo']\n",
      "Central word=naruto, context=['posteriormente', 'cuando', 'y', 'sasuke']\n",
      "Central word=bastante, context=['minato', 'era', 'alto', 'de']\n",
      "Central word=convertirse, context=['después', 'de', 'en', 'hokage']\n",
      "Central word=con, context=['de', 'acuerdo', 'masashi', 'kishimoto']\n",
      "Central word=senju, context=['como', 'tobirama', 'minato', 'demostró']\n",
      "Central word=que, context=['debido', 'a', 'selló', 'la']\n",
      "Central word=etapa, context=['activar', 'esta', 'como', 'naruto']\n",
      "Central word=demostrado, context=['minato', 'ha', 'que', 'al']\n",
      "Central word=los, context=['uno', 'de', 'atributos', 'más']\n",
      "Central word=juventud, context=['en', 'su', 'jiraiya', 'le']\n",
      "Central word=tres, context=['minato', 'pasó', 'años', 'creando']\n",
      "Central word=famoso, context=['minato', 'fue', 'por', 'su']\n",
      "Central word=uso, context=['para', 'el', 'defensivo', 'fue']\n",
      "Central word=de, context=['una', 'muestra', 'la', 'aplicación']\n",
      "Central word=muy, context=['minato', 'era', 'conocedor', 'de']\n",
      "Central word=vida, context=['durante', 'su', 'minato', 'aprendió']\n",
      "Central word=demostrado, context=['minato', 'ha', 'ser', 'inteligente']\n",
      "Central word=nueva, context=['alvin', 'toffler', 'york', '4']\n",
      "Central word=«la, context=['toffler', 'explicaba', 'sociedad', 'necesita']\n",
      "Central word=suele, context=['se', 'le', 'atribuir', 'la']\n",
      "Central word=best-seller, context=['en', 'su', 'de', '1975']\n",
      "Central word=libro, context=['en', 'su', 'la', 'tercera']\n",
      "Central word=estas, context=['dentro', 'de', 'civilizaciones', 'describe']\n",
      "Central word=simplificación, context=['en', 'una', 'de', 'la']\n",
      "Central word=será, context=['“\"un', 'analfabeto', 'aquel', 'que']\n",
      "Central word=de, context=['la', 'revolución', 'la', 'riqueza']\n",
      "Central word=trabajo, context=['en', 'este', 'elaborado', 'conjuntamente']\n",
      "Central word=de, context=['a', 'través', 'él', 'nos']\n",
      "Central word=alvin, context=['títulos', 'de', 'toffler', 'coescritos']\n",
      "Central word=de, context=['pero', 'afán', 'ribera', 'y']\n",
      "Central word=de, context=['pero', 'afán', 'ribera', 'y']\n",
      "Central word=de, context=['pero', 'afán', 'ribera', 'y']\n",
      "Central word=petronila, context=['casó', 'con', 'de', 'paz']\n",
      "Central word=gobernador, context=['fue', 'nombrado', 'de', 'costa']\n",
      "Central word=a, context=['al', 'llegar', 'cartago', 'capital']\n",
      "Central word=de, context=['en', 'enero', '1569', 'presionado']\n",
      "Central word=a, context=['la', 'expedición', 'la', 'tierra']\n",
      "Central word=de, context=['en', 'enero', '1570', 'inició']\n",
      "Central word=de, context=['el', '28', 'julio', 'de']\n",
      "Central word=audiencia, context=['la', 'real', 'con', 'el']\n",
      "Central word=regreso, context=['a', 'su', 'a', 'cartago']\n",
      "Central word=de, context=['en', 'mayo', '1573', 'salió']\n",
      "Central word=méxico, context=['murió', 'en', 'alrededor', 'de']\n",
      "Central word=pero, context=['su', 'hijo', 'afán', 'de']\n",
      "Central word=costarricense, context=['el', 'historiador', 'ricardo', 'fernández']\n",
      "Central word=y, context=['la', 'cultural', 'deportiva', 'leonesa']\n",
      "Central word=leonés, context=['el', 'balompié', 'y', 'la']\n",
      "Central word=de, context=['a', 'principios', '1922', 'la']\n",
      "Central word=acalorados, context=['entre', 'aquellos', 'debates', 'sociales']\n",
      "Central word=que, context=['pero', 'lo', 'empezaba', 'a']\n",
      "Central word=que, context=['aquel', 'equipo', 'empezó', 'vistiendo']\n",
      "Central word=1928, context=['cuando', 'en', 'se', 'formó']\n",
      "Central word=la, context=['en', '1931', 'cultural', 'dejó']\n",
      "Central word=finalización, context=['a', 'la', 'de', 'la']\n",
      "Central word=sus, context=['tras', 'disputar', 'primeros', 'partidos']\n",
      "Central word=de, context=['la', 'resurrección', 'los', 'años']\n",
      "Central word=del, context=['la', 'españa', 'nuevo', 'tiempo']\n",
      "Central word=recuperada, context=['la', 'recién', 'cultural', 'y']\n",
      "Central word=el, context=['sin', 'embargo', 'presunto', 'amaño']\n",
      "Central word=de, context=['la', 'gloria', 'los', 'años']\n",
      "Central word=del, context=['costó', 'salir', 'bache', 'de']\n",
      "Central word=así, context=['tanto', 'fue', 'que', 'mejorando']\n",
      "Central word=de, context=['la', 'cota', 'mayor', 'éxito']\n",
      "Central word=que, context=['la', 'huella', 'dejó', 'la']\n",
      "Central word=de, context=['la', 'supervivencia', 'los', 'años']\n",
      "Central word=se, context=['nuestro', 'equipo', 'mantuvo', 'en']\n",
      "Central word=económica, context=['la', 'crisis', 'en', 'muchos']\n",
      "Central word=años, context=['tras', 'cinco', 'en', 'que']\n",
      "Central word=de, context=['la', 'supremacía', 'los', 'años']\n",
      "Central word=división, context=['la', 'segunda', 'a', 'la']\n",
      "Central word=firmó, context=['la', 'cultural', 'tan', 'buenas']\n",
      "Central word=de, context=['el', 'descenso', '1975', 'supuso']\n",
      "Central word=de, context=['la', 'caída', 'los', 'años']\n",
      "Central word=que, context=['aquella', 'década', 'significó', 'el']\n",
      "Central word=debatía, context=['león', 'se', 'entonces', 'entre']\n",
      "Central word=la, context=['en', '1987', 'cultural', 'volvía']\n",
      "Central word=de, context=['las', 'turbulencias', 'los', 'años']\n",
      "Central word=90, context=['los', 'años', 'se', 'iniciaron']\n",
      "Central word=a, context=['la', 'vuelta', 'segunda', 'b']\n",
      "Central word=vez, context=['a', 'la', 'los', 'cambios']\n",
      "Central word=del, context=['la', 'esperanza', 'nuevo', 'siglo']\n",
      "Central word=llegada, context=['con', 'la', 'del', 'la']\n",
      "Central word=las, context=['sin', 'embargo', 'fuerzas', 'se']\n",
      "Central word=de, context=['el', 'final', 'la', 'etapa']\n",
      "Central word=año, context=['en', 'el', '2015', 'se']\n",
      "Central word=se, context=['el', 'proyecto', 'ha', 'ido']\n",
      "Central word=tiempo, context=['al', 'mismo', 'se', 'sentaron']\n",
      "Central word=practica, context=['el', 'equipo', 'durante', 'toda']\n",
      "Central word=de, context=['el', '28', 'mayo', 'de']\n",
      "Central word=se, context=['°', 'no', 'participa', 'desde']\n",
      "Central word=se, context=['°', 'no', 'participa', 'desde']\n",
      "Central word=se, context=['°', 'no', 'participa', 'desde']\n",
      "Central word=contabilizan, context=['°', 'se', 'las', 'temporadas']\n",
      "Central word=y, context=['la', 'cultural', 'deportiva', 'leonesa']\n",
      "Central word=deportiva, context=['cultural', 'y', 'leonesa', 'c']\n",
      "Central word=la, context=['fundado', 'en', 'temporada', '2021-2022']\n",
      "Central word=deportiva, context=['cultural', 'y', 'leonesa', 'd']\n",
      "Central word=la, context=['fundado', 'en', 'temporada', '2022/2023']\n",
      "Central word=deportiva, context=['cultural', 'y', 'leonesa', 'femenina']\n",
      "Central word=primer, context=['tras', 'un', 'intento', 'de']\n",
      "Central word=femenino, context=['el', 'equipo', 'seguirá', 'jugando']\n",
      "Central word=nuevos, context=['para', 'promover', 'jugadores', 'procedentes']\n",
      "Central word=desarrolla, context=['el', 'club', 'y', 'promueve']\n",
      "Central word=categoría, context=['equipos', 'en', 'de', 'cadete']\n",
      "Central word=categoría, context=['equipos', 'en', 'de', 'infantil']\n"
     ]
    }
   ],
   "source": [
    "# Forma no estandar de calcular la preplejidad\n",
    "STEP = 1000\n",
    "vocab_len = len(model.wv)\n",
    "oovs_contexts = []\n",
    "oovs_central_words = []\n",
    "ppl_per_sentence = []\n",
    "for sent in test_sentences:\n",
    "    sent_len = len(sent)\n",
    "    # To small sent to be consider\n",
    "    if sent_len < 5:\n",
    "        continue\n",
    "    i = 0\n",
    "    log_probs = []\n",
    "    while i < (sent_len - 4):\n",
    "        # Center word starts from 2 in sent\n",
    "        pos = i + 2\n",
    "        central_word = sent[pos]\n",
    "        left_context = sent[pos-2:pos]\n",
    "        right_context = sent[pos+1:pos+3]\n",
    "        i += STEP\n",
    "        full_context = left_context + right_context\n",
    "        print(f\"Central word={central_word}, context={full_context}\")\n",
    "        # Extracting probability of center word given the context\n",
    "        # The output will be like ('pepito', 7.0062583e-07), ('juanito', 6.9261466e-07)\n",
    "        prob_context = model_context.predict_output_word(full_context, topn=vocab_len)\n",
    "        if prob_context is None:\n",
    "            oovs_contexts.append(full_context)\n",
    "        else:\n",
    "            prob_context = {word: prob for word, prob in prob_context}\n",
    "            if central_word in prob_context:\n",
    "                # Calculate log probability of each central word in sentence\n",
    "                # given its sorrounding context\n",
    "                log_probs.append(np.log(prob_context[central_word]))\n",
    "            else:\n",
    "                oovs_central_words.append(central_word)\n",
    "        if len(log_probs) > 0:\n",
    "            ppl = (-1) * (sum(log_probs) / len(log_probs))\n",
    "            ppl_per_sentence.append(ppl)"
   ]
  },
  {
   "cell_type": "code",
   "execution_count": 121,
   "metadata": {
    "colab": {
     "base_uri": "https://localhost:8080/"
    },
    "id": "rsqJPaY8UdsJ",
    "outputId": "b3c656e5-2a11-4972-da59-c768eaf8c04a"
   },
   "outputs": [
    {
     "name": "stdout",
     "output_type": "stream",
     "text": [
      "Average (log) perplexity of the test sentences: 49.08702824289504\n"
     ]
    }
   ],
   "source": [
    "avg_log_ppl = sum(ppl_per_sentence) / len(ppl_per_sentence)\n",
    "print(\"Average (log) perplexity of the test sentences:\", avg_ppl)"
   ]
  },
  {
   "cell_type": "code",
   "execution_count": 122,
   "metadata": {
    "colab": {
     "base_uri": "https://localhost:8080/"
    },
    "id": "eFWNx0cQUupI",
    "outputId": "467680bf-c745-4105-bad8-bd32dc337b16"
   },
   "outputs": [
    {
     "data": {
      "text/plain": [
       "126"
      ]
     },
     "execution_count": 122,
     "metadata": {},
     "output_type": "execute_result"
    }
   ],
   "source": [
    "len(oovs_central_words)"
   ]
  },
  {
   "cell_type": "code",
   "execution_count": 123,
   "metadata": {
    "colab": {
     "base_uri": "https://localhost:8080/"
    },
    "id": "wQIMDlH4UyY4",
    "outputId": "b282f0a0-ed4a-4997-dad8-b59b53320035"
   },
   "outputs": [
    {
     "data": {
      "text/plain": [
       "Counter({'transahariano': 1,\n",
       "         'prehistórico': 1,\n",
       "         'ocasionó': 1,\n",
       "         'bruce': 1,\n",
       "         'clasificatorias': 1,\n",
       "         'avanzó': 1,\n",
       "         'procedía': 1,\n",
       "         '–en': 2,\n",
       "         'avisa': 1,\n",
       "         'góngora': 1,\n",
       "         'futbol': 1,\n",
       "         'f.c': 1,\n",
       "         'empezaría': 1,\n",
       "         'descriptiva': 1,\n",
       "         'vigués': 1,\n",
       "         'anécdotas': 1,\n",
       "         'ascendía': 1,\n",
       "         '2005-06': 1,\n",
       "         '2010/2011': 1,\n",
       "         '2013/14': 1,\n",
       "         'empareja': 1,\n",
       "         'pontevedra': 1,\n",
       "         'granate': 1,\n",
       "         'industry': 1,\n",
       "         'veneciano': 1,\n",
       "         'alcoyano': 2,\n",
       "         'andadura': 2,\n",
       "         'temporada,1942/43': 1,\n",
       "         'acabaría': 1,\n",
       "         'travesía': 1,\n",
       "         'preferente': 1,\n",
       "         'ascender': 1,\n",
       "         '2019-2020': 1,\n",
       "         'debut': 1,\n",
       "         'barbie': 1,\n",
       "         'boecia': 1,\n",
       "         'cúmulos': 1,\n",
       "         'renovó': 1,\n",
       "         'difracción': 1,\n",
       "         'fresnel': 1,\n",
       "         'térmico': 1,\n",
       "         'térmicos': 1,\n",
       "         'zorra': 1,\n",
       "         'gayangos': 3,\n",
       "         'rusas': 1,\n",
       "         'vekoma': 1,\n",
       "         'bolliger': 1,\n",
       "         'probando': 1,\n",
       "         'yétiks': 1,\n",
       "         'transmitió': 1,\n",
       "         'jetix': 3,\n",
       "         'fox': 1,\n",
       "         'neovolcánico': 2,\n",
       "         'neovolcánica': 1,\n",
       "         'colima': 1,\n",
       "         'volcanes': 1,\n",
       "         'lienzo': 1,\n",
       "         '¿luchan': 1,\n",
       "         'mustang': 1,\n",
       "         'cardíaco': 1,\n",
       "         'simpática': 1,\n",
       "         'laúd': 1,\n",
       "         'delanteras': 1,\n",
       "         'subsiste': 1,\n",
       "         'atlánticos': 1,\n",
       "         'mataró': 1,\n",
       "         'mercantilismo': 1,\n",
       "         'bullionismo': 1,\n",
       "         'fisiocracia': 1,\n",
       "         '4-hidroxi-n,n-dimetiltriptamina': 1,\n",
       "         'suizo': 1,\n",
       "         'proponen': 1,\n",
       "         'dietilo': 1,\n",
       "         'analíticas': 1,\n",
       "         'líquida': 1,\n",
       "         'psilocibina': 1,\n",
       "         'repetido': 1,\n",
       "         'agly': 1,\n",
       "         'têt': 2,\n",
       "         'callao': 1,\n",
       "         'madrugada': 2,\n",
       "         'zarpó': 2,\n",
       "         'prado': 2,\n",
       "         'peruanos': 1,\n",
       "         'incursionar': 1,\n",
       "         'correrías': 1,\n",
       "         'flotas': 1,\n",
       "         'chilenas': 1,\n",
       "         'tec': 2,\n",
       "         'chōji': 2,\n",
       "         'nogalte': 1,\n",
       "         'inundación': 1,\n",
       "         'barrionuevo': 2,\n",
       "         'kushina': 1,\n",
       "         'naruto': 2,\n",
       "         'obito': 2,\n",
       "         'defensivas': 1,\n",
       "         'yin': 1,\n",
       "         'minato': 1,\n",
       "         'senju': 1,\n",
       "         'best-seller': 1,\n",
       "         'simplificación': 1,\n",
       "         'alvin': 1,\n",
       "         'petronila': 1,\n",
       "         'costarricense': 1,\n",
       "         'acalorados': 1,\n",
       "         'recuperada': 1,\n",
       "         'debatía': 1,\n",
       "         'contabilizan': 1})"
      ]
     },
     "execution_count": 123,
     "metadata": {},
     "output_type": "execute_result"
    }
   ],
   "source": [
    "from collections import Counter\n",
    "Counter(oovs_central_words)"
   ]
  },
  {
   "cell_type": "markdown",
   "metadata": {
    "id": "au6uhbWcY018"
   },
   "source": [
    "## Entrenando modelos con pytorch"
   ]
  },
  {
   "cell_type": "code",
   "execution_count": 126,
   "metadata": {
    "id": "vQB-FX3SY3-p"
   },
   "outputs": [],
   "source": [
    "from collections import defaultdict\n",
    "from itertools import chain\n",
    "\n",
    "def vocabulary_factory():\n",
    "    \"\"\"Function that create a vocabulary\n",
    "\n",
    "    Default method when a key is not in the dictionary changed to be the\n",
    "    current lenght of the dictionary to provide a unique index for each\n",
    "    new key.\n",
    "\n",
    "    Example:\n",
    "    >> vocab['test']\n",
    "    0\n",
    "    >> vocab['other']\n",
    "    1\n",
    "    >> vocab['test']\n",
    "    0\n",
    "    \"\"\"\n",
    "    vocab = defaultdict()\n",
    "    vocab.default_factory = lambda: len(vocab)\n",
    "    return vocab\n",
    "\n",
    "def word_to_index(corpus: list[list[str]], vocab: defaultdict) -> list[int]:\n",
    "    \"\"\"Function that maps each word in a corpus to a unique index\"\"\"\n",
    "    for sent in corpus:\n",
    "        yield [vocab[word] for word in sent]\n",
    "\n",
    "def get_n_grams(indexed_sents: list[list[str]], n=2) -> chain:\n",
    "    return chain(*[zip(*[sent[i:] for i in range(n)]) for sent in indexed_sents])"
   ]
  },
  {
   "cell_type": "code",
   "execution_count": 128,
   "metadata": {
    "id": "O9Bnil6gaviV"
   },
   "outputs": [],
   "source": [
    "vocab = vocabulary_factory()\n",
    "sentences = list(WikiSentencesExtractor(directory, 5000))\n",
    "indexed_sents = list(word_to_index(sentences, vocab))"
   ]
  },
  {
   "cell_type": "code",
   "execution_count": 129,
   "metadata": {
    "colab": {
     "base_uri": "https://localhost:8080/"
    },
    "id": "E8TGZJeFbDzg",
    "outputId": "8521343f-0b7a-466d-924b-7233adbbbcd8"
   },
   "outputs": [
    {
     "name": "stdout",
     "output_type": "stream",
     "text": [
      "['andorra', 'oficialmente', 'principado', 'de', 'andorra', '', 'es', 'un', 'micro-estado', 'soberano', 'sin', 'litoral', 'ubicado', 'en', 'el', 'suroeste', 'de', 'europa', 'entre', 'españa', 'y', 'francia', 'en', 'el', 'límite', 'de', 'la', 'península', 'ibérica', 'se', 'constituye', 'en', 'estado', 'independiente', 'de', 'derecho', 'democrático', 'y', 'social', 'cuya', 'forma', 'de', 'gobierno', 'es', 'el', 'coprincipado', 'parlamentario', 'su', 'territorio', 'está', 'organizado', 'en', 'siete', 'parroquias', 'con', 'una', 'población', 'total', 'de', '79', '877', 'habitantes', 'a', '28', 'de', 'febrero', 'de', '2022', 'su', 'capital', 'es', 'andorra', 'la', 'vieja']\n",
      "[0, 1, 2, 3, 0, 4, 5, 6, 7, 8, 9, 10, 11, 12, 13, 14, 3, 15, 16, 17, 18, 19, 12, 13, 20, 3, 21, 22, 23, 24, 25, 12, 26, 27, 3, 28, 29, 18, 30, 31, 32, 3, 33, 5, 13, 34, 35, 36, 37, 38, 39, 12, 40, 41, 42, 43, 44, 45, 3, 46, 47, 48, 49, 50, 3, 51, 3, 52, 36, 53, 5, 0, 21, 54]\n",
      "0\n"
     ]
    }
   ],
   "source": [
    "print(sentences[0])\n",
    "print(indexed_sents[0])\n",
    "print(vocab[\"andorra\"])"
   ]
  },
  {
   "cell_type": "code",
   "execution_count": 130,
   "metadata": {
    "id": "Dt8GWR3FdKls"
   },
   "outputs": [],
   "source": [
    "bigrams = get_n_grams(indexed_sents, n=2)"
   ]
  },
  {
   "cell_type": "code",
   "execution_count": 131,
   "metadata": {
    "id": "adovhPuHbxHm"
   },
   "outputs": [],
   "source": [
    "import torch\n",
    "import torch.nn as nn"
   ]
  },
  {
   "cell_type": "code",
   "execution_count": 132,
   "metadata": {
    "id": "4cMNWLuobyl_"
   },
   "outputs": [],
   "source": [
    "# Precisamos el tamaño del vocabulario\n",
    "N = len(vocab)"
   ]
  },
  {
   "cell_type": "code",
   "execution_count": null,
   "metadata": {
    "id": "gK7SM-LZBwUl"
   },
   "outputs": [],
   "source": [
    "N"
   ]
  },
  {
   "cell_type": "markdown",
   "metadata": {
    "id": "_DmvK1frcJfO"
   },
   "source": [
    "`Pytorch` ya cuenta con capas de embeddings, por lo que únicamente bastará señalar que queremos una capa de este tipo"
   ]
  },
  {
   "cell_type": "code",
   "execution_count": 133,
   "metadata": {
    "id": "6XRBP6KtcE_Y"
   },
   "outputs": [],
   "source": [
    "# Definición de la red\n",
    "network = nn.Sequential(nn.Embedding(N, 2), nn.Linear(2, N, bias=False), nn.Softmax(dim=1))"
   ]
  },
  {
   "cell_type": "code",
   "execution_count": 134,
   "metadata": {
    "id": "KDrx6J5icgJK"
   },
   "outputs": [],
   "source": [
    "# Definición de la función de riesgo y optimizador\n",
    "risk = nn.CrossEntropyLoss()\n",
    "optimizer = torch.optim.Adagrad(network.parameters(), lr=0.1)"
   ]
  },
  {
   "cell_type": "code",
   "execution_count": null,
   "metadata": {
    "colab": {
     "base_uri": "https://localhost:8080/"
    },
    "id": "yy3Ua1v4coDx",
    "outputId": "cb134fe9-3b9b-46ab-ebc2-377f6b76b07b"
   },
   "outputs": [],
   "source": [
    "%%time\n",
    "total_risk = []\n",
    "epochs = 10\n",
    "for i in range(0, epochs):\n",
    "    print(f\"Inicia iteración #{i}\")\n",
    "    # Riesgo de la iteración\n",
    "    risk_iter = 0\n",
    "    for bigram in bigrams:\n",
    "        optimizer.zero_grad()\n",
    "\n",
    "        # Predicciones y obtencion de la perdida\n",
    "        probs = network(torch.tensor([bigram[0]]))\n",
    "        loss = risk(probs, torch.LongTensor([bigram[1]]))\n",
    "\n",
    "        # Backpropagation\n",
    "        loss.backward()\n",
    "        optimizer.step()\n",
    "\n",
    "        # Guardando el riesgo\n",
    "        risk_iter += loss.detach()\n",
    "\n",
    "    #Guarda el riesgo en la época\n",
    "    total_risk.append(risk_iter)\n",
    "    #Imprime información de época\n",
    "    print(f\"fin iteración #{i}. Riesgo: {risk_iter}\")"
   ]
  },
  {
   "cell_type": "markdown",
   "metadata": {
    "id": "R5SuObMJqXPG"
   },
   "source": [
    "## Práctica 6.2: Reducción de la dimensionalidad\n",
    "\n",
    "**Fecha de entrega: 12 de noviembre 11:59pm**\n",
    "\n"
   ]
  },
  {
   "cell_type": "markdown",
   "metadata": {
    "id": "rijyWzZX64wI"
   },
   "source": [
    "Hay varios métodos que podemos aplicar para reduccir la dimensionalidad de nuestros vectores y asi poder visualizar en un espacio de menor dimensionalidad como estan siendo representados los vectores.\n",
    "\n",
    "- PCA\n",
    "- T-SNE\n",
    "- SVD"
   ]
  },
  {
   "cell_type": "markdown",
   "metadata": {
    "id": "zCfK_WZ5XAjO"
   },
   "source": [
    "- Escoger un modelo pre-entrenado visto en clase o entrenar uno propio y cargarlo en memoria\n",
    "  - [Carpeta con los modelos 📕](https://drive.google.com/drive/folders/1reor2FGsfOB6m3AvfCE16NOHltAFjuvz?usp=sharing)\n",
    "- Aplicar los 3 algoritmos de reduccion de dimensionalidad\n",
    "    - Reducir a 2d\n",
    "    - Plotear 100 vectores al azar\n",
    "        - Se deben plotear los mismos 100 en los tres casos\n",
    "    - Analizar y comparar las topologías que se generan con cada algoritmo\n",
    "\n",
    "**NOTA:** Se requiere usar la misma version de Numpy (`1.24.4`) para utilizar los modelos visto en clase"
   ]
  },
  {
   "cell_type": "markdown",
   "metadata": {
    "id": "8OBtpNJoHZ6t"
   },
   "source": [
    "### Referencias\n",
    "\n",
    "- Partes del código utilizado para este notebook fueron tomados de trabajos de la [Dr. Ximena Gutierrez-Vasques](https://github.com/ximenina/) y el [Dr. Victor Mijangos](https://github.com/VMijangos/LinguisticaComputacional/blob/main/Notebooks/19%20Word2Vec.ipynb)\n",
    "- [Corpus streaming on gensim](https://radimrehurek.com/gensim/auto_examples/core/run_corpora_and_vector_spaces.html#corpus-streaming-one-document-at-a-time)\n",
    "- [Gensim docs](https://radimrehurek.com/gensim/auto_examples/index.html)"
   ]
  }
 ],
 "metadata": {
  "colab": {
   "collapsed_sections": [
    "au6uhbWcY018",
    "R5SuObMJqXPG"
   ],
   "provenance": []
  },
  "kernelspec": {
   "display_name": "Python 3 (ipykernel)",
   "language": "python",
   "name": "python3"
  },
  "language_info": {
   "codemirror_mode": {
    "name": "ipython",
    "version": 3
   },
   "file_extension": ".py",
   "mimetype": "text/x-python",
   "name": "python",
   "nbconvert_exporter": "python",
   "pygments_lexer": "ipython3",
   "version": "3.8.16"
  }
 },
 "nbformat": 4,
 "nbformat_minor": 4
}
