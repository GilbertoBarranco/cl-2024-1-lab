{
  "nbformat": 4,
  "nbformat_minor": 0,
  "metadata": {
    "colab": {
      "provenance": [],
      "collapsed_sections": [
        "BBx7ZEhlg7ZF",
        "lcBOgIieIQUN"
      ]
    },
    "kernelspec": {
      "name": "python3",
      "display_name": "Python 3"
    },
    "language_info": {
      "name": "python"
    }
  },
  "cells": [
    {
      "cell_type": "markdown",
      "source": [
        "# Práctica 6: Word embeddings fundamentals"
      ],
      "metadata": {
        "id": "BBx7ZEhlg7ZF"
      }
    },
    {
      "cell_type": "markdown",
      "source": [
        "<img src=\"http://ruder.io/content/images/2016/04/word_embeddings_colah.png\" width=\"300\" heitgh=\"300\">"
      ],
      "metadata": {
        "id": "zrSf6OaCdBTG"
      }
    },
    {
      "cell_type": "markdown",
      "source": [
        "## Objetivo"
      ],
      "metadata": {
        "id": "ZoMC0KktNlBd"
      }
    },
    {
      "cell_type": "markdown",
      "source": [
        "- Explorar representaciones vectoriales de palabras (BoW)\n",
        "    - Basados en Frecuencias\n",
        "    - Usando TF-IDF\n",
        "- Medir la similitud entre dos vectores\n",
        "- Manipulación de representaciones vectoriales previamente entrenadas"
      ],
      "metadata": {
        "id": "sTM0AzHGNmu3"
      }
    },
    {
      "cell_type": "markdown",
      "source": [
        " ## Representaciones vectoriales\n"
      ],
      "metadata": {
        "id": "tjukJoODdbez"
      }
    },
    {
      "cell_type": "markdown",
      "source": [
        "- Sabemos que las computadoras son buenas computando numero no textos crudo\n",
        "  - Especialemente metodos de ML que son los que utilizamos para resolver tareas\n",
        "  - Clasificacion de documentos\n",
        "  - Rankear documentos por reelevancia dada una query\n",
        "- Buscamos una forma de mapear textos -> espacio vectorial\n",
        " - Un enfoque muy utilizado es la Bolsa de Palabras (Bag of Words)\n",
        "   - Matriz de documentos-terminos\n",
        "   - Cada fila es un vector con $N$ features donde las features serán el vocabulario del corpus"
      ],
      "metadata": {
        "id": "afUdI9q46hJN"
      }
    },
    {
      "cell_type": "markdown",
      "source": [
        "<img src=\"https%3A%2F%2Fmiro.medium.com%2Fmax%2F600%2F0%2AJpqZhCNsQ_OGaRkB.jpg&sp=1697483747T42078c323ffee8cc60b2ab106bb8c31e070378b6c0d18de0d990385ea2eef91f\">"
      ],
      "metadata": {
        "id": "5JBqJNfV6iox"
      }
    },
    {
      "cell_type": "code",
      "source": [
        "import gensim"
      ],
      "metadata": {
        "id": "HJ2xVdsqeUEe"
      },
      "execution_count": 192,
      "outputs": []
    },
    {
      "cell_type": "code",
      "source": [
        "doc_1 = \"Augusta Ada King, condesa de Lovelace (Londres, 10 de diciembre de 1815-íd., 27 de noviembre de 1852), registrada al nacer como Augusta Ada Byron y conocida habitualmente como Ada Lovelace, fue una matemática y escritora británica, célebre sobre todo por su trabajo acerca de la computadora mecánica de uso general de Charles Babbage, la denominada máquina analítica. Fue la primera en reconocer que la máquina tenía aplicaciones más allá del cálculo puro y en haber publicado lo que se reconoce hoy como el primer algoritmo destinado a ser procesado por una máquina, por lo que se le considera como la primera programadora de ordenadores.\"\n",
        "doc_2 = \"Brassica oleracea var. italica, el brócoli,1​ brécol2​ o bróquil3​ del italiano broccoli (brote), es una planta de la familia de las brasicáceas. Existen otras variedades de la misma especie, tales como: repollo (B. o. capitata), la coliflor (B. o. botrytis), el colinabo (B. o. gongylodes) y la col de Bruselas (B. o. gemmifera). El llamado brócoli chino o kai-lan (B. o. alboglabra) es también una variedad de Brassica oleracea.\"\n",
        "doc_3 = \"La bicicleta de piñón fijo, fixie o fixed es una bicicleta monomarcha, que no tiene piñón libre, lo que significa que no tiene punto muerto; es decir, los pedales están siempre en movimiento cuando la bicicleta está en marcha. Esto significa que no se puede dejar de pedalear, ya que, mientras la rueda trasera gire, la cadena y los pedales girarán siempre solidariamente. Por este motivo, se puede frenar haciendo una fuerza inversa al sentido de la marcha, y también ir marcha atrás.\"\n",
        "sample_doc = \"Las bicicletas fixie, también denominadas bicicletas de piñón fijo, son bicis de una sola marcha, de piñón fijo, y sin punto muerto, por lo que se debe avanzar, frenar y dar marcha atrás con el uso de los pedales. La rueda de atrás gira cuando giran los pedales. Si pedaleas hacia delante, avanzas; si paras los pedales, frenas y si pedaleas hacia atrás, irás marcha atrás. Esto requiere de un entrenamiento añadido que la bicicleta con piñón libre no lo necesita. No obstante, las bicicletas fixie tienen muchísimas ventajas.\"\n",
        "#sample_doc = \"El brócoli o brécol es una planta de la familia de las brasicáceas, como otras hortalizas que conocemos como coles. Está por tanto emparentado con verduras como la coliflor, el repollo y las diferentes coles lisas o rizadas, incluyendo el kale o las coles de Bruselas.\""
      ],
      "metadata": {
        "id": "9kEUUJzBhqyH"
      },
      "execution_count": 218,
      "outputs": []
    },
    {
      "cell_type": "code",
      "source": [
        "corpora_simple = [doc_1, doc_2, doc_3, sample_doc]"
      ],
      "metadata": {
        "id": "4GMdxLmueGoZ"
      },
      "execution_count": 219,
      "outputs": []
    },
    {
      "cell_type": "code",
      "source": [
        "from gensim.utils import simple_preprocess\n",
        "\n",
        "def sent_to_words(sentences: list) -> list:\n",
        "    \"\"\"Function convert sentences to words\n",
        "\n",
        "    Use the tokenizer provided by gensim using\n",
        "    `simple_process()` which remove punctuation and converte\n",
        "    to lowercase (`deacc=True`)\n",
        "    \"\"\"\n",
        "    return [simple_preprocess(sent, deacc=True) for sent in sentences]\n"
      ],
      "metadata": {
        "id": "121CNkZ9eNBc"
      },
      "execution_count": 220,
      "outputs": []
    },
    {
      "cell_type": "code",
      "source": [
        "docs_tokenized = sent_to_words(corpora_simple)\n",
        "docs_tokenized[2][:10]"
      ],
      "metadata": {
        "colab": {
          "base_uri": "https://localhost:8080/"
        },
        "id": "fq6yZ-KlfM9s",
        "outputId": "b42cdedf-76f6-4bc9-8664-b4d987d4e881"
      },
      "execution_count": 221,
      "outputs": [
        {
          "output_type": "execute_result",
          "data": {
            "text/plain": [
              "['la',\n",
              " 'bicicleta',\n",
              " 'de',\n",
              " 'pinon',\n",
              " 'fijo',\n",
              " 'fixie',\n",
              " 'fixed',\n",
              " 'es',\n",
              " 'una',\n",
              " 'bicicleta']"
            ]
          },
          "metadata": {},
          "execution_count": 221
        }
      ]
    },
    {
      "cell_type": "code",
      "source": [
        "from gensim.corpora import Dictionary\n",
        "\n",
        "gensim_dic = Dictionary()\n",
        "bag_of_words_corpus = [gensim_dic.doc2bow(doc, allow_update=True) for doc in docs_tokenized]"
      ],
      "metadata": {
        "id": "6I37u6r5fYpc"
      },
      "execution_count": 222,
      "outputs": []
    },
    {
      "cell_type": "code",
      "source": [
        "for k, v in gensim_dic.iteritems():\n",
        "    print(k, v)"
      ],
      "metadata": {
        "colab": {
          "base_uri": "https://localhost:8080/"
        },
        "id": "duD7ekPjyurT",
        "outputId": "d829344a-22aa-4afe-e28e-da7fdabe616c"
      },
      "execution_count": 223,
      "outputs": [
        {
          "output_type": "stream",
          "name": "stdout",
          "text": [
            "0 acerca\n",
            "1 ada\n",
            "2 al\n",
            "3 algoritmo\n",
            "4 alla\n",
            "5 analitica\n",
            "6 aplicaciones\n",
            "7 augusta\n",
            "8 babbage\n",
            "9 britanica\n",
            "10 byron\n",
            "11 calculo\n",
            "12 celebre\n",
            "13 charles\n",
            "14 como\n",
            "15 computadora\n",
            "16 condesa\n",
            "17 conocida\n",
            "18 considera\n",
            "19 de\n",
            "20 del\n",
            "21 denominada\n",
            "22 destinado\n",
            "23 diciembre\n",
            "24 el\n",
            "25 en\n",
            "26 escritora\n",
            "27 fue\n",
            "28 general\n",
            "29 haber\n",
            "30 habitualmente\n",
            "31 hoy\n",
            "32 id\n",
            "33 king\n",
            "34 la\n",
            "35 le\n",
            "36 lo\n",
            "37 londres\n",
            "38 lovelace\n",
            "39 maquina\n",
            "40 mas\n",
            "41 matematica\n",
            "42 mecanica\n",
            "43 nacer\n",
            "44 noviembre\n",
            "45 ordenadores\n",
            "46 por\n",
            "47 primer\n",
            "48 primera\n",
            "49 procesado\n",
            "50 programadora\n",
            "51 publicado\n",
            "52 puro\n",
            "53 que\n",
            "54 reconoce\n",
            "55 reconocer\n",
            "56 registrada\n",
            "57 se\n",
            "58 ser\n",
            "59 sobre\n",
            "60 su\n",
            "61 tenia\n",
            "62 todo\n",
            "63 trabajo\n",
            "64 una\n",
            "65 uso\n",
            "66 alboglabra\n",
            "67 botrytis\n",
            "68 brasicaceas\n",
            "69 brassica\n",
            "70 brecol\n",
            "71 broccoli\n",
            "72 brocoli\n",
            "73 broquil\n",
            "74 brote\n",
            "75 bruselas\n",
            "76 capitata\n",
            "77 chino\n",
            "78 col\n",
            "79 coliflor\n",
            "80 colinabo\n",
            "81 es\n",
            "82 especie\n",
            "83 existen\n",
            "84 familia\n",
            "85 gemmifera\n",
            "86 gongylodes\n",
            "87 italiano\n",
            "88 italica\n",
            "89 kai\n",
            "90 lan\n",
            "91 las\n",
            "92 llamado\n",
            "93 misma\n",
            "94 oleracea\n",
            "95 otras\n",
            "96 planta\n",
            "97 repollo\n",
            "98 tales\n",
            "99 tambien\n",
            "100 var\n",
            "101 variedad\n",
            "102 variedades\n",
            "103 atras\n",
            "104 bicicleta\n",
            "105 cadena\n",
            "106 cuando\n",
            "107 decir\n",
            "108 dejar\n",
            "109 esta\n",
            "110 estan\n",
            "111 este\n",
            "112 esto\n",
            "113 fijo\n",
            "114 fixed\n",
            "115 fixie\n",
            "116 frenar\n",
            "117 fuerza\n",
            "118 giraran\n",
            "119 gire\n",
            "120 haciendo\n",
            "121 inversa\n",
            "122 ir\n",
            "123 libre\n",
            "124 los\n",
            "125 marcha\n",
            "126 mientras\n",
            "127 monomarcha\n",
            "128 motivo\n",
            "129 movimiento\n",
            "130 muerto\n",
            "131 no\n",
            "132 pedalear\n",
            "133 pedales\n",
            "134 pinon\n",
            "135 puede\n",
            "136 punto\n",
            "137 rueda\n",
            "138 sentido\n",
            "139 siempre\n",
            "140 significa\n",
            "141 solidariamente\n",
            "142 tiene\n",
            "143 trasera\n",
            "144 ya\n",
            "145 anadido\n",
            "146 avanzar\n",
            "147 avanzas\n",
            "148 bicicletas\n",
            "149 bicis\n",
            "150 con\n",
            "151 dar\n",
            "152 debe\n",
            "153 delante\n",
            "154 denominadas\n",
            "155 entrenamiento\n",
            "156 frenas\n",
            "157 gira\n",
            "158 giran\n",
            "159 hacia\n",
            "160 iras\n",
            "161 muchisimas\n",
            "162 necesita\n",
            "163 obstante\n",
            "164 paras\n",
            "165 pedaleas\n",
            "166 requiere\n",
            "167 si\n",
            "168 sin\n",
            "169 sola\n",
            "170 son\n",
            "171 tienen\n",
            "172 un\n",
            "173 ventajas\n"
          ]
        }
      ]
    },
    {
      "cell_type": "code",
      "source": [
        "bag_of_words_corpus[1]"
      ],
      "metadata": {
        "colab": {
          "base_uri": "https://localhost:8080/"
        },
        "id": "qgWTeVYJyMOD",
        "outputId": "a01ec455-623c-4047-c886-49c2b965cecc"
      },
      "execution_count": 224,
      "outputs": [
        {
          "output_type": "execute_result",
          "data": {
            "text/plain": [
              "[(14, 1),\n",
              " (19, 5),\n",
              " (20, 1),\n",
              " (24, 3),\n",
              " (34, 4),\n",
              " (64, 2),\n",
              " (66, 1),\n",
              " (67, 1),\n",
              " (68, 1),\n",
              " (69, 2),\n",
              " (70, 1),\n",
              " (71, 1),\n",
              " (72, 2),\n",
              " (73, 1),\n",
              " (74, 1),\n",
              " (75, 1),\n",
              " (76, 1),\n",
              " (77, 1),\n",
              " (78, 1),\n",
              " (79, 1),\n",
              " (80, 1),\n",
              " (81, 2),\n",
              " (82, 1),\n",
              " (83, 1),\n",
              " (84, 1),\n",
              " (85, 1),\n",
              " (86, 1),\n",
              " (87, 1),\n",
              " (88, 1),\n",
              " (89, 1),\n",
              " (90, 1),\n",
              " (91, 1),\n",
              " (92, 1),\n",
              " (93, 1),\n",
              " (94, 2),\n",
              " (95, 1),\n",
              " (96, 1),\n",
              " (97, 1),\n",
              " (98, 1),\n",
              " (99, 1),\n",
              " (100, 1),\n",
              " (101, 1),\n",
              " (102, 1)]"
            ]
          },
          "metadata": {},
          "execution_count": 224
        }
      ]
    },
    {
      "cell_type": "code",
      "source": [
        "data = {}\n",
        "doc_titles = [\"ADA\", \"BROCOLI\", \"FIXED\", \"SAMPLE\"]\n",
        "for doc, doc_title in zip(bag_of_words_corpus, doc_titles):\n",
        "    data[doc_title] = dict([(gensim_dic[id], freq) for id, freq in doc])"
      ],
      "metadata": {
        "id": "rqfk-85UyPb9"
      },
      "execution_count": 225,
      "outputs": []
    },
    {
      "cell_type": "code",
      "source": [
        "data"
      ],
      "metadata": {
        "colab": {
          "base_uri": "https://localhost:8080/"
        },
        "id": "Oj2Lh0gJlA_W",
        "outputId": "62e3d60d-5b1a-4d06-e1d4-854ea7c7e6e0"
      },
      "execution_count": 226,
      "outputs": [
        {
          "output_type": "execute_result",
          "data": {
            "text/plain": [
              "{'ADA': {'acerca': 1,\n",
              "  'ada': 3,\n",
              "  'al': 1,\n",
              "  'algoritmo': 1,\n",
              "  'alla': 1,\n",
              "  'analitica': 1,\n",
              "  'aplicaciones': 1,\n",
              "  'augusta': 2,\n",
              "  'babbage': 1,\n",
              "  'britanica': 1,\n",
              "  'byron': 1,\n",
              "  'calculo': 1,\n",
              "  'celebre': 1,\n",
              "  'charles': 1,\n",
              "  'como': 4,\n",
              "  'computadora': 1,\n",
              "  'condesa': 1,\n",
              "  'conocida': 1,\n",
              "  'considera': 1,\n",
              "  'de': 9,\n",
              "  'del': 1,\n",
              "  'denominada': 1,\n",
              "  'destinado': 1,\n",
              "  'diciembre': 1,\n",
              "  'el': 1,\n",
              "  'en': 2,\n",
              "  'escritora': 1,\n",
              "  'fue': 2,\n",
              "  'general': 1,\n",
              "  'haber': 1,\n",
              "  'habitualmente': 1,\n",
              "  'hoy': 1,\n",
              "  'id': 1,\n",
              "  'king': 1,\n",
              "  'la': 5,\n",
              "  'le': 1,\n",
              "  'lo': 2,\n",
              "  'londres': 1,\n",
              "  'lovelace': 2,\n",
              "  'maquina': 3,\n",
              "  'mas': 1,\n",
              "  'matematica': 1,\n",
              "  'mecanica': 1,\n",
              "  'nacer': 1,\n",
              "  'noviembre': 1,\n",
              "  'ordenadores': 1,\n",
              "  'por': 3,\n",
              "  'primer': 1,\n",
              "  'primera': 2,\n",
              "  'procesado': 1,\n",
              "  'programadora': 1,\n",
              "  'publicado': 1,\n",
              "  'puro': 1,\n",
              "  'que': 3,\n",
              "  'reconoce': 1,\n",
              "  'reconocer': 1,\n",
              "  'registrada': 1,\n",
              "  'se': 2,\n",
              "  'ser': 1,\n",
              "  'sobre': 1,\n",
              "  'su': 1,\n",
              "  'tenia': 1,\n",
              "  'todo': 1,\n",
              "  'trabajo': 1,\n",
              "  'una': 2,\n",
              "  'uso': 1},\n",
              " 'BROCOLI': {'como': 1,\n",
              "  'de': 5,\n",
              "  'del': 1,\n",
              "  'el': 3,\n",
              "  'la': 4,\n",
              "  'una': 2,\n",
              "  'alboglabra': 1,\n",
              "  'botrytis': 1,\n",
              "  'brasicaceas': 1,\n",
              "  'brassica': 2,\n",
              "  'brecol': 1,\n",
              "  'broccoli': 1,\n",
              "  'brocoli': 2,\n",
              "  'broquil': 1,\n",
              "  'brote': 1,\n",
              "  'bruselas': 1,\n",
              "  'capitata': 1,\n",
              "  'chino': 1,\n",
              "  'col': 1,\n",
              "  'coliflor': 1,\n",
              "  'colinabo': 1,\n",
              "  'es': 2,\n",
              "  'especie': 1,\n",
              "  'existen': 1,\n",
              "  'familia': 1,\n",
              "  'gemmifera': 1,\n",
              "  'gongylodes': 1,\n",
              "  'italiano': 1,\n",
              "  'italica': 1,\n",
              "  'kai': 1,\n",
              "  'lan': 1,\n",
              "  'las': 1,\n",
              "  'llamado': 1,\n",
              "  'misma': 1,\n",
              "  'oleracea': 2,\n",
              "  'otras': 1,\n",
              "  'planta': 1,\n",
              "  'repollo': 1,\n",
              "  'tales': 1,\n",
              "  'tambien': 1,\n",
              "  'var': 1,\n",
              "  'variedad': 1,\n",
              "  'variedades': 1},\n",
              " 'FIXED': {'al': 1,\n",
              "  'de': 3,\n",
              "  'en': 2,\n",
              "  'la': 5,\n",
              "  'lo': 1,\n",
              "  'por': 1,\n",
              "  'que': 5,\n",
              "  'se': 2,\n",
              "  'una': 2,\n",
              "  'es': 2,\n",
              "  'tambien': 1,\n",
              "  'atras': 1,\n",
              "  'bicicleta': 3,\n",
              "  'cadena': 1,\n",
              "  'cuando': 1,\n",
              "  'decir': 1,\n",
              "  'dejar': 1,\n",
              "  'esta': 1,\n",
              "  'estan': 1,\n",
              "  'este': 1,\n",
              "  'esto': 1,\n",
              "  'fijo': 1,\n",
              "  'fixed': 1,\n",
              "  'fixie': 1,\n",
              "  'frenar': 1,\n",
              "  'fuerza': 1,\n",
              "  'giraran': 1,\n",
              "  'gire': 1,\n",
              "  'haciendo': 1,\n",
              "  'inversa': 1,\n",
              "  'ir': 1,\n",
              "  'libre': 1,\n",
              "  'los': 2,\n",
              "  'marcha': 3,\n",
              "  'mientras': 1,\n",
              "  'monomarcha': 1,\n",
              "  'motivo': 1,\n",
              "  'movimiento': 1,\n",
              "  'muerto': 1,\n",
              "  'no': 3,\n",
              "  'pedalear': 1,\n",
              "  'pedales': 2,\n",
              "  'pinon': 2,\n",
              "  'puede': 2,\n",
              "  'punto': 1,\n",
              "  'rueda': 1,\n",
              "  'sentido': 1,\n",
              "  'siempre': 2,\n",
              "  'significa': 2,\n",
              "  'solidariamente': 1,\n",
              "  'tiene': 2,\n",
              "  'trasera': 1,\n",
              "  'ya': 1},\n",
              " 'SAMPLE': {'de': 6,\n",
              "  'el': 1,\n",
              "  'la': 2,\n",
              "  'lo': 2,\n",
              "  'por': 1,\n",
              "  'que': 2,\n",
              "  'se': 1,\n",
              "  'una': 1,\n",
              "  'uso': 1,\n",
              "  'las': 2,\n",
              "  'tambien': 1,\n",
              "  'atras': 4,\n",
              "  'bicicleta': 1,\n",
              "  'cuando': 1,\n",
              "  'esto': 1,\n",
              "  'fijo': 2,\n",
              "  'fixie': 2,\n",
              "  'frenar': 1,\n",
              "  'libre': 1,\n",
              "  'los': 3,\n",
              "  'marcha': 3,\n",
              "  'muerto': 1,\n",
              "  'no': 2,\n",
              "  'pedales': 3,\n",
              "  'pinon': 3,\n",
              "  'punto': 1,\n",
              "  'rueda': 1,\n",
              "  'anadido': 1,\n",
              "  'avanzar': 1,\n",
              "  'avanzas': 1,\n",
              "  'bicicletas': 3,\n",
              "  'bicis': 1,\n",
              "  'con': 2,\n",
              "  'dar': 1,\n",
              "  'debe': 1,\n",
              "  'delante': 1,\n",
              "  'denominadas': 1,\n",
              "  'entrenamiento': 1,\n",
              "  'frenas': 1,\n",
              "  'gira': 1,\n",
              "  'giran': 1,\n",
              "  'hacia': 2,\n",
              "  'iras': 1,\n",
              "  'muchisimas': 1,\n",
              "  'necesita': 1,\n",
              "  'obstante': 1,\n",
              "  'paras': 1,\n",
              "  'pedaleas': 2,\n",
              "  'requiere': 1,\n",
              "  'si': 3,\n",
              "  'sin': 1,\n",
              "  'sola': 1,\n",
              "  'son': 1,\n",
              "  'tienen': 1,\n",
              "  'un': 1,\n",
              "  'ventajas': 1}}"
            ]
          },
          "metadata": {},
          "execution_count": 226
        }
      ]
    },
    {
      "cell_type": "code",
      "source": [
        "import pandas as pd\n",
        "\n",
        "doc_matrix_simple = pd.DataFrame(data).fillna(0).astype(int).T"
      ],
      "metadata": {
        "id": "8XF444cA2U5r"
      },
      "execution_count": 227,
      "outputs": []
    },
    {
      "cell_type": "code",
      "source": [
        "doc_matrix_simple"
      ],
      "metadata": {
        "colab": {
          "base_uri": "https://localhost:8080/",
          "height": 224
        },
        "id": "kInN4KlWleRR",
        "outputId": "c9bed40c-2aa4-423f-9176-bc8c496f9d83"
      },
      "execution_count": 228,
      "outputs": [
        {
          "output_type": "execute_result",
          "data": {
            "text/plain": [
              "         acerca  ada  al  algoritmo  alla  analitica  aplicaciones  augusta  \\\n",
              "ADA           1    3   1          1     1          1             1        2   \n",
              "BROCOLI       0    0   0          0     0          0             0        0   \n",
              "FIXED         0    0   1          0     0          0             0        0   \n",
              "SAMPLE        0    0   0          0     0          0             0        0   \n",
              "\n",
              "         babbage  britanica  ...  paras  pedaleas  requiere  si  sin  sola  \\\n",
              "ADA            1          1  ...      0         0         0   0    0     0   \n",
              "BROCOLI        0          0  ...      0         0         0   0    0     0   \n",
              "FIXED          0          0  ...      0         0         0   0    0     0   \n",
              "SAMPLE         0          0  ...      1         2         1   3    1     1   \n",
              "\n",
              "         son  tienen  un  ventajas  \n",
              "ADA        0       0   0         0  \n",
              "BROCOLI    0       0   0         0  \n",
              "FIXED      0       0   0         0  \n",
              "SAMPLE     1       1   1         1  \n",
              "\n",
              "[4 rows x 174 columns]"
            ],
            "text/html": [
              "\n",
              "  <div id=\"df-a4f81e3c-965c-4af3-b30a-8abc1108c12c\" class=\"colab-df-container\">\n",
              "    <div>\n",
              "<style scoped>\n",
              "    .dataframe tbody tr th:only-of-type {\n",
              "        vertical-align: middle;\n",
              "    }\n",
              "\n",
              "    .dataframe tbody tr th {\n",
              "        vertical-align: top;\n",
              "    }\n",
              "\n",
              "    .dataframe thead th {\n",
              "        text-align: right;\n",
              "    }\n",
              "</style>\n",
              "<table border=\"1\" class=\"dataframe\">\n",
              "  <thead>\n",
              "    <tr style=\"text-align: right;\">\n",
              "      <th></th>\n",
              "      <th>acerca</th>\n",
              "      <th>ada</th>\n",
              "      <th>al</th>\n",
              "      <th>algoritmo</th>\n",
              "      <th>alla</th>\n",
              "      <th>analitica</th>\n",
              "      <th>aplicaciones</th>\n",
              "      <th>augusta</th>\n",
              "      <th>babbage</th>\n",
              "      <th>britanica</th>\n",
              "      <th>...</th>\n",
              "      <th>paras</th>\n",
              "      <th>pedaleas</th>\n",
              "      <th>requiere</th>\n",
              "      <th>si</th>\n",
              "      <th>sin</th>\n",
              "      <th>sola</th>\n",
              "      <th>son</th>\n",
              "      <th>tienen</th>\n",
              "      <th>un</th>\n",
              "      <th>ventajas</th>\n",
              "    </tr>\n",
              "  </thead>\n",
              "  <tbody>\n",
              "    <tr>\n",
              "      <th>ADA</th>\n",
              "      <td>1</td>\n",
              "      <td>3</td>\n",
              "      <td>1</td>\n",
              "      <td>1</td>\n",
              "      <td>1</td>\n",
              "      <td>1</td>\n",
              "      <td>1</td>\n",
              "      <td>2</td>\n",
              "      <td>1</td>\n",
              "      <td>1</td>\n",
              "      <td>...</td>\n",
              "      <td>0</td>\n",
              "      <td>0</td>\n",
              "      <td>0</td>\n",
              "      <td>0</td>\n",
              "      <td>0</td>\n",
              "      <td>0</td>\n",
              "      <td>0</td>\n",
              "      <td>0</td>\n",
              "      <td>0</td>\n",
              "      <td>0</td>\n",
              "    </tr>\n",
              "    <tr>\n",
              "      <th>BROCOLI</th>\n",
              "      <td>0</td>\n",
              "      <td>0</td>\n",
              "      <td>0</td>\n",
              "      <td>0</td>\n",
              "      <td>0</td>\n",
              "      <td>0</td>\n",
              "      <td>0</td>\n",
              "      <td>0</td>\n",
              "      <td>0</td>\n",
              "      <td>0</td>\n",
              "      <td>...</td>\n",
              "      <td>0</td>\n",
              "      <td>0</td>\n",
              "      <td>0</td>\n",
              "      <td>0</td>\n",
              "      <td>0</td>\n",
              "      <td>0</td>\n",
              "      <td>0</td>\n",
              "      <td>0</td>\n",
              "      <td>0</td>\n",
              "      <td>0</td>\n",
              "    </tr>\n",
              "    <tr>\n",
              "      <th>FIXED</th>\n",
              "      <td>0</td>\n",
              "      <td>0</td>\n",
              "      <td>1</td>\n",
              "      <td>0</td>\n",
              "      <td>0</td>\n",
              "      <td>0</td>\n",
              "      <td>0</td>\n",
              "      <td>0</td>\n",
              "      <td>0</td>\n",
              "      <td>0</td>\n",
              "      <td>...</td>\n",
              "      <td>0</td>\n",
              "      <td>0</td>\n",
              "      <td>0</td>\n",
              "      <td>0</td>\n",
              "      <td>0</td>\n",
              "      <td>0</td>\n",
              "      <td>0</td>\n",
              "      <td>0</td>\n",
              "      <td>0</td>\n",
              "      <td>0</td>\n",
              "    </tr>\n",
              "    <tr>\n",
              "      <th>SAMPLE</th>\n",
              "      <td>0</td>\n",
              "      <td>0</td>\n",
              "      <td>0</td>\n",
              "      <td>0</td>\n",
              "      <td>0</td>\n",
              "      <td>0</td>\n",
              "      <td>0</td>\n",
              "      <td>0</td>\n",
              "      <td>0</td>\n",
              "      <td>0</td>\n",
              "      <td>...</td>\n",
              "      <td>1</td>\n",
              "      <td>2</td>\n",
              "      <td>1</td>\n",
              "      <td>3</td>\n",
              "      <td>1</td>\n",
              "      <td>1</td>\n",
              "      <td>1</td>\n",
              "      <td>1</td>\n",
              "      <td>1</td>\n",
              "      <td>1</td>\n",
              "    </tr>\n",
              "  </tbody>\n",
              "</table>\n",
              "<p>4 rows × 174 columns</p>\n",
              "</div>\n",
              "    <div class=\"colab-df-buttons\">\n",
              "\n",
              "  <div class=\"colab-df-container\">\n",
              "    <button class=\"colab-df-convert\" onclick=\"convertToInteractive('df-a4f81e3c-965c-4af3-b30a-8abc1108c12c')\"\n",
              "            title=\"Convert this dataframe to an interactive table.\"\n",
              "            style=\"display:none;\">\n",
              "\n",
              "  <svg xmlns=\"http://www.w3.org/2000/svg\" height=\"24px\" viewBox=\"0 -960 960 960\">\n",
              "    <path d=\"M120-120v-720h720v720H120Zm60-500h600v-160H180v160Zm220 220h160v-160H400v160Zm0 220h160v-160H400v160ZM180-400h160v-160H180v160Zm440 0h160v-160H620v160ZM180-180h160v-160H180v160Zm440 0h160v-160H620v160Z\"/>\n",
              "  </svg>\n",
              "    </button>\n",
              "\n",
              "  <style>\n",
              "    .colab-df-container {\n",
              "      display:flex;\n",
              "      gap: 12px;\n",
              "    }\n",
              "\n",
              "    .colab-df-convert {\n",
              "      background-color: #E8F0FE;\n",
              "      border: none;\n",
              "      border-radius: 50%;\n",
              "      cursor: pointer;\n",
              "      display: none;\n",
              "      fill: #1967D2;\n",
              "      height: 32px;\n",
              "      padding: 0 0 0 0;\n",
              "      width: 32px;\n",
              "    }\n",
              "\n",
              "    .colab-df-convert:hover {\n",
              "      background-color: #E2EBFA;\n",
              "      box-shadow: 0px 1px 2px rgba(60, 64, 67, 0.3), 0px 1px 3px 1px rgba(60, 64, 67, 0.15);\n",
              "      fill: #174EA6;\n",
              "    }\n",
              "\n",
              "    .colab-df-buttons div {\n",
              "      margin-bottom: 4px;\n",
              "    }\n",
              "\n",
              "    [theme=dark] .colab-df-convert {\n",
              "      background-color: #3B4455;\n",
              "      fill: #D2E3FC;\n",
              "    }\n",
              "\n",
              "    [theme=dark] .colab-df-convert:hover {\n",
              "      background-color: #434B5C;\n",
              "      box-shadow: 0px 1px 3px 1px rgba(0, 0, 0, 0.15);\n",
              "      filter: drop-shadow(0px 1px 2px rgba(0, 0, 0, 0.3));\n",
              "      fill: #FFFFFF;\n",
              "    }\n",
              "  </style>\n",
              "\n",
              "    <script>\n",
              "      const buttonEl =\n",
              "        document.querySelector('#df-a4f81e3c-965c-4af3-b30a-8abc1108c12c button.colab-df-convert');\n",
              "      buttonEl.style.display =\n",
              "        google.colab.kernel.accessAllowed ? 'block' : 'none';\n",
              "\n",
              "      async function convertToInteractive(key) {\n",
              "        const element = document.querySelector('#df-a4f81e3c-965c-4af3-b30a-8abc1108c12c');\n",
              "        const dataTable =\n",
              "          await google.colab.kernel.invokeFunction('convertToInteractive',\n",
              "                                                    [key], {});\n",
              "        if (!dataTable) return;\n",
              "\n",
              "        const docLinkHtml = 'Like what you see? Visit the ' +\n",
              "          '<a target=\"_blank\" href=https://colab.research.google.com/notebooks/data_table.ipynb>data table notebook</a>'\n",
              "          + ' to learn more about interactive tables.';\n",
              "        element.innerHTML = '';\n",
              "        dataTable['output_type'] = 'display_data';\n",
              "        await google.colab.output.renderOutput(dataTable, element);\n",
              "        const docLink = document.createElement('div');\n",
              "        docLink.innerHTML = docLinkHtml;\n",
              "        element.appendChild(docLink);\n",
              "      }\n",
              "    </script>\n",
              "  </div>\n",
              "\n",
              "\n",
              "<div id=\"df-9bdc0e57-d72d-4a39-b750-2a15ad7d5fd1\">\n",
              "  <button class=\"colab-df-quickchart\" onclick=\"quickchart('df-9bdc0e57-d72d-4a39-b750-2a15ad7d5fd1')\"\n",
              "            title=\"Suggest charts.\"\n",
              "            style=\"display:none;\">\n",
              "\n",
              "<svg xmlns=\"http://www.w3.org/2000/svg\" height=\"24px\"viewBox=\"0 0 24 24\"\n",
              "     width=\"24px\">\n",
              "    <g>\n",
              "        <path d=\"M19 3H5c-1.1 0-2 .9-2 2v14c0 1.1.9 2 2 2h14c1.1 0 2-.9 2-2V5c0-1.1-.9-2-2-2zM9 17H7v-7h2v7zm4 0h-2V7h2v10zm4 0h-2v-4h2v4z\"/>\n",
              "    </g>\n",
              "</svg>\n",
              "  </button>\n",
              "\n",
              "<style>\n",
              "  .colab-df-quickchart {\n",
              "      --bg-color: #E8F0FE;\n",
              "      --fill-color: #1967D2;\n",
              "      --hover-bg-color: #E2EBFA;\n",
              "      --hover-fill-color: #174EA6;\n",
              "      --disabled-fill-color: #AAA;\n",
              "      --disabled-bg-color: #DDD;\n",
              "  }\n",
              "\n",
              "  [theme=dark] .colab-df-quickchart {\n",
              "      --bg-color: #3B4455;\n",
              "      --fill-color: #D2E3FC;\n",
              "      --hover-bg-color: #434B5C;\n",
              "      --hover-fill-color: #FFFFFF;\n",
              "      --disabled-bg-color: #3B4455;\n",
              "      --disabled-fill-color: #666;\n",
              "  }\n",
              "\n",
              "  .colab-df-quickchart {\n",
              "    background-color: var(--bg-color);\n",
              "    border: none;\n",
              "    border-radius: 50%;\n",
              "    cursor: pointer;\n",
              "    display: none;\n",
              "    fill: var(--fill-color);\n",
              "    height: 32px;\n",
              "    padding: 0;\n",
              "    width: 32px;\n",
              "  }\n",
              "\n",
              "  .colab-df-quickchart:hover {\n",
              "    background-color: var(--hover-bg-color);\n",
              "    box-shadow: 0 1px 2px rgba(60, 64, 67, 0.3), 0 1px 3px 1px rgba(60, 64, 67, 0.15);\n",
              "    fill: var(--button-hover-fill-color);\n",
              "  }\n",
              "\n",
              "  .colab-df-quickchart-complete:disabled,\n",
              "  .colab-df-quickchart-complete:disabled:hover {\n",
              "    background-color: var(--disabled-bg-color);\n",
              "    fill: var(--disabled-fill-color);\n",
              "    box-shadow: none;\n",
              "  }\n",
              "\n",
              "  .colab-df-spinner {\n",
              "    border: 2px solid var(--fill-color);\n",
              "    border-color: transparent;\n",
              "    border-bottom-color: var(--fill-color);\n",
              "    animation:\n",
              "      spin 1s steps(1) infinite;\n",
              "  }\n",
              "\n",
              "  @keyframes spin {\n",
              "    0% {\n",
              "      border-color: transparent;\n",
              "      border-bottom-color: var(--fill-color);\n",
              "      border-left-color: var(--fill-color);\n",
              "    }\n",
              "    20% {\n",
              "      border-color: transparent;\n",
              "      border-left-color: var(--fill-color);\n",
              "      border-top-color: var(--fill-color);\n",
              "    }\n",
              "    30% {\n",
              "      border-color: transparent;\n",
              "      border-left-color: var(--fill-color);\n",
              "      border-top-color: var(--fill-color);\n",
              "      border-right-color: var(--fill-color);\n",
              "    }\n",
              "    40% {\n",
              "      border-color: transparent;\n",
              "      border-right-color: var(--fill-color);\n",
              "      border-top-color: var(--fill-color);\n",
              "    }\n",
              "    60% {\n",
              "      border-color: transparent;\n",
              "      border-right-color: var(--fill-color);\n",
              "    }\n",
              "    80% {\n",
              "      border-color: transparent;\n",
              "      border-right-color: var(--fill-color);\n",
              "      border-bottom-color: var(--fill-color);\n",
              "    }\n",
              "    90% {\n",
              "      border-color: transparent;\n",
              "      border-bottom-color: var(--fill-color);\n",
              "    }\n",
              "  }\n",
              "</style>\n",
              "\n",
              "  <script>\n",
              "    async function quickchart(key) {\n",
              "      const quickchartButtonEl =\n",
              "        document.querySelector('#' + key + ' button');\n",
              "      quickchartButtonEl.disabled = true;  // To prevent multiple clicks.\n",
              "      quickchartButtonEl.classList.add('colab-df-spinner');\n",
              "      try {\n",
              "        const charts = await google.colab.kernel.invokeFunction(\n",
              "            'suggestCharts', [key], {});\n",
              "      } catch (error) {\n",
              "        console.error('Error during call to suggestCharts:', error);\n",
              "      }\n",
              "      quickchartButtonEl.classList.remove('colab-df-spinner');\n",
              "      quickchartButtonEl.classList.add('colab-df-quickchart-complete');\n",
              "    }\n",
              "    (() => {\n",
              "      let quickchartButtonEl =\n",
              "        document.querySelector('#df-9bdc0e57-d72d-4a39-b750-2a15ad7d5fd1 button');\n",
              "      quickchartButtonEl.style.display =\n",
              "        google.colab.kernel.accessAllowed ? 'block' : 'none';\n",
              "    })();\n",
              "  </script>\n",
              "</div>\n",
              "    </div>\n",
              "  </div>\n"
            ]
          },
          "metadata": {},
          "execution_count": 228
        }
      ]
    },
    {
      "cell_type": "markdown",
      "source": [
        "## Ven algun problema?"
      ],
      "metadata": {
        "id": "mjQxKiYSriBb"
      }
    },
    {
      "cell_type": "markdown",
      "source": [
        "- Palabras muy frecuentes que no aportan signifiancia\n",
        "- Estas palabras opacan las menos frecuentes y con mayor significado en nuestros documentos\n",
        "- Las palabras frecuentes no nos ayudarian a discriminar por ejemplo entre documentos"
      ],
      "metadata": {
        "id": "uX5SRzqKrj-v"
      }
    },
    {
      "cell_type": "markdown",
      "source": [
        "## *Term frequency-Inverse Document Frequiency* (TF-IDF) al rescate"
      ],
      "metadata": {
        "id": "HSUz5DC2tpsG"
      }
    },
    {
      "cell_type": "markdown",
      "source": [
        "- Metodo de ponderación creado para algoritmos de Information Retrieval\n",
        "- Bueno para clasificación de documentos y clustering\n",
        "- Se calcula con la multiplicacion $tf_{d,t} \\cdot idf_t$\n",
        "  - Donde:\n",
        "  - $tf_{d,t}$ es la frecuencia del termino en un documento $d$\n",
        "  - $idf_t$ es la frecuencia inversa del termino en toda la colección de documentos. Se calcula del a siguiente forma:\n",
        "\n",
        "$$idf_t = log_2\\frac{N}{df_t}$$"
      ],
      "metadata": {
        "id": "vv323MYjtsaq"
      }
    },
    {
      "cell_type": "markdown",
      "source": [
        "### Codificando TF-IDF con gensim"
      ],
      "metadata": {
        "id": "eeHYU9zwwlPD"
      }
    },
    {
      "cell_type": "code",
      "source": [
        "from gensim.models import TfidfModel\n",
        "\n",
        "tfidf = TfidfModel(bag_of_words_corpus, smartirs=\"ntc\")"
      ],
      "metadata": {
        "id": "UNlrSu6Fwn7_"
      },
      "execution_count": 229,
      "outputs": []
    },
    {
      "cell_type": "code",
      "source": [
        "bag_of_words_corpus[0]"
      ],
      "metadata": {
        "id": "DUbkhdDHxb4J"
      },
      "execution_count": null,
      "outputs": []
    },
    {
      "cell_type": "code",
      "source": [
        "tfidf[bag_of_words_corpus[0]]"
      ],
      "metadata": {
        "id": "BiIzl4G0wi6O",
        "colab": {
          "base_uri": "https://localhost:8080/"
        },
        "outputId": "36175215-711c-4e98-c8b2-beecb2736e8f"
      },
      "execution_count": 231,
      "outputs": [
        {
          "output_type": "execute_result",
          "data": {
            "text/plain": [
              "[(0, 0.10353417934127022),\n",
              " (1, 0.3106025380238107),\n",
              " (2, 0.05894443533961858),\n",
              " (3, 0.10353417934127022),\n",
              " (4, 0.10353417934127022),\n",
              " (5, 0.10353417934127022),\n",
              " (6, 0.10353417934127022),\n",
              " (7, 0.20706835868254045),\n",
              " (8, 0.10353417934127022),\n",
              " (9, 0.10353417934127022),\n",
              " (10, 0.10353417934127022),\n",
              " (11, 0.10353417934127022),\n",
              " (12, 0.10353417934127022),\n",
              " (13, 0.10353417934127022),\n",
              " (14, 0.23577774135847432),\n",
              " (15, 0.10353417934127022),\n",
              " (16, 0.10353417934127022),\n",
              " (17, 0.10353417934127022),\n",
              " (18, 0.10353417934127022),\n",
              " (19, 0.1291922220417022),\n",
              " (20, 0.05894443533961858),\n",
              " (21, 0.10353417934127022),\n",
              " (22, 0.10353417934127022),\n",
              " (23, 0.10353417934127022),\n",
              " (24, 0.03286110718189625),\n",
              " (25, 0.11788887067923716),\n",
              " (26, 0.10353417934127022),\n",
              " (27, 0.20706835868254045),\n",
              " (28, 0.10353417934127022),\n",
              " (29, 0.10353417934127022),\n",
              " (30, 0.10353417934127022),\n",
              " (31, 0.10353417934127022),\n",
              " (32, 0.10353417934127022),\n",
              " (33, 0.10353417934127022),\n",
              " (34, 0.07177345668983456),\n",
              " (35, 0.10353417934127022),\n",
              " (36, 0.0657222143637925),\n",
              " (37, 0.10353417934127022),\n",
              " (38, 0.20706835868254045),\n",
              " (39, 0.3106025380238107),\n",
              " (40, 0.10353417934127022),\n",
              " (41, 0.10353417934127022),\n",
              " (42, 0.10353417934127022),\n",
              " (43, 0.10353417934127022),\n",
              " (44, 0.10353417934127022),\n",
              " (45, 0.10353417934127022),\n",
              " (46, 0.09858332154568875),\n",
              " (47, 0.10353417934127022),\n",
              " (48, 0.20706835868254045),\n",
              " (49, 0.10353417934127022),\n",
              " (50, 0.10353417934127022),\n",
              " (51, 0.10353417934127022),\n",
              " (52, 0.10353417934127022),\n",
              " (53, 0.09858332154568875),\n",
              " (54, 0.10353417934127022),\n",
              " (55, 0.10353417934127022),\n",
              " (56, 0.10353417934127022),\n",
              " (57, 0.0657222143637925),\n",
              " (58, 0.10353417934127022),\n",
              " (59, 0.10353417934127022),\n",
              " (60, 0.10353417934127022),\n",
              " (61, 0.10353417934127022),\n",
              " (62, 0.10353417934127022),\n",
              " (63, 0.10353417934127022),\n",
              " (64, 0.028709382675933825),\n",
              " (65, 0.05894443533961858)]"
            ]
          },
          "metadata": {},
          "execution_count": 231
        }
      ]
    },
    {
      "cell_type": "code",
      "source": [
        "data = {}\n",
        "doc_titles = [\"ADA\", \"BROCOLI\", \"FIXED\", \"SAMPLE\"]\n",
        "for doc, doc_title in zip(tfidf[bag_of_words_corpus], doc_titles):\n",
        "    data[doc_title] = dict([(gensim_dic[id], freq) for id, freq in doc])"
      ],
      "metadata": {
        "id": "bNwm-tvpx-F9"
      },
      "execution_count": 232,
      "outputs": []
    },
    {
      "cell_type": "code",
      "source": [
        "data"
      ],
      "metadata": {
        "id": "iLui4A_SyKl9",
        "colab": {
          "base_uri": "https://localhost:8080/"
        },
        "outputId": "f8bb9f5d-9185-4b2f-90db-09a52c786c06"
      },
      "execution_count": 233,
      "outputs": [
        {
          "output_type": "execute_result",
          "data": {
            "text/plain": [
              "{'ADA': {'acerca': 0.10353417934127022,\n",
              "  'ada': 0.3106025380238107,\n",
              "  'al': 0.05894443533961858,\n",
              "  'algoritmo': 0.10353417934127022,\n",
              "  'alla': 0.10353417934127022,\n",
              "  'analitica': 0.10353417934127022,\n",
              "  'aplicaciones': 0.10353417934127022,\n",
              "  'augusta': 0.20706835868254045,\n",
              "  'babbage': 0.10353417934127022,\n",
              "  'britanica': 0.10353417934127022,\n",
              "  'byron': 0.10353417934127022,\n",
              "  'calculo': 0.10353417934127022,\n",
              "  'celebre': 0.10353417934127022,\n",
              "  'charles': 0.10353417934127022,\n",
              "  'como': 0.23577774135847432,\n",
              "  'computadora': 0.10353417934127022,\n",
              "  'condesa': 0.10353417934127022,\n",
              "  'conocida': 0.10353417934127022,\n",
              "  'considera': 0.10353417934127022,\n",
              "  'de': 0.1291922220417022,\n",
              "  'del': 0.05894443533961858,\n",
              "  'denominada': 0.10353417934127022,\n",
              "  'destinado': 0.10353417934127022,\n",
              "  'diciembre': 0.10353417934127022,\n",
              "  'el': 0.03286110718189625,\n",
              "  'en': 0.11788887067923716,\n",
              "  'escritora': 0.10353417934127022,\n",
              "  'fue': 0.20706835868254045,\n",
              "  'general': 0.10353417934127022,\n",
              "  'haber': 0.10353417934127022,\n",
              "  'habitualmente': 0.10353417934127022,\n",
              "  'hoy': 0.10353417934127022,\n",
              "  'id': 0.10353417934127022,\n",
              "  'king': 0.10353417934127022,\n",
              "  'la': 0.07177345668983456,\n",
              "  'le': 0.10353417934127022,\n",
              "  'lo': 0.0657222143637925,\n",
              "  'londres': 0.10353417934127022,\n",
              "  'lovelace': 0.20706835868254045,\n",
              "  'maquina': 0.3106025380238107,\n",
              "  'mas': 0.10353417934127022,\n",
              "  'matematica': 0.10353417934127022,\n",
              "  'mecanica': 0.10353417934127022,\n",
              "  'nacer': 0.10353417934127022,\n",
              "  'noviembre': 0.10353417934127022,\n",
              "  'ordenadores': 0.10353417934127022,\n",
              "  'por': 0.09858332154568875,\n",
              "  'primer': 0.10353417934127022,\n",
              "  'primera': 0.20706835868254045,\n",
              "  'procesado': 0.10353417934127022,\n",
              "  'programadora': 0.10353417934127022,\n",
              "  'publicado': 0.10353417934127022,\n",
              "  'puro': 0.10353417934127022,\n",
              "  'que': 0.09858332154568875,\n",
              "  'reconoce': 0.10353417934127022,\n",
              "  'reconocer': 0.10353417934127022,\n",
              "  'registrada': 0.10353417934127022,\n",
              "  'se': 0.0657222143637925,\n",
              "  'ser': 0.10353417934127022,\n",
              "  'sobre': 0.10353417934127022,\n",
              "  'su': 0.10353417934127022,\n",
              "  'tenia': 0.10353417934127022,\n",
              "  'todo': 0.10353417934127022,\n",
              "  'trabajo': 0.10353417934127022,\n",
              "  'una': 0.028709382675933825,\n",
              "  'uso': 0.05894443533961858},\n",
              " 'BROCOLI': {'como': 0.082919785625718,\n",
              "  'de': 0.10096694638005414,\n",
              "  'del': 0.082919785625718,\n",
              "  'el': 0.13868158786730067,\n",
              "  'la': 0.08077355710404331,\n",
              "  'una': 0.040386778552021656,\n",
              "  'alboglabra': 0.14564618197542514,\n",
              "  'botrytis': 0.14564618197542514,\n",
              "  'brasicaceas': 0.14564618197542514,\n",
              "  'brassica': 0.2912923639508503,\n",
              "  'brecol': 0.14564618197542514,\n",
              "  'broccoli': 0.14564618197542514,\n",
              "  'brocoli': 0.2912923639508503,\n",
              "  'broquil': 0.14564618197542514,\n",
              "  'brote': 0.14564618197542514,\n",
              "  'bruselas': 0.14564618197542514,\n",
              "  'capitata': 0.14564618197542514,\n",
              "  'chino': 0.14564618197542514,\n",
              "  'col': 0.14564618197542514,\n",
              "  'coliflor': 0.14564618197542514,\n",
              "  'colinabo': 0.14564618197542514,\n",
              "  'es': 0.165839571251436,\n",
              "  'especie': 0.14564618197542514,\n",
              "  'existen': 0.14564618197542514,\n",
              "  'familia': 0.14564618197542514,\n",
              "  'gemmifera': 0.14564618197542514,\n",
              "  'gongylodes': 0.14564618197542514,\n",
              "  'italiano': 0.14564618197542514,\n",
              "  'italica': 0.14564618197542514,\n",
              "  'kai': 0.14564618197542514,\n",
              "  'lan': 0.14564618197542514,\n",
              "  'las': 0.082919785625718,\n",
              "  'llamado': 0.14564618197542514,\n",
              "  'misma': 0.14564618197542514,\n",
              "  'oleracea': 0.2912923639508503,\n",
              "  'otras': 0.14564618197542514,\n",
              "  'planta': 0.14564618197542514,\n",
              "  'repollo': 0.14564618197542514,\n",
              "  'tales': 0.14564618197542514,\n",
              "  'tambien': 0.04622719595576689,\n",
              "  'var': 0.14564618197542514,\n",
              "  'variedad': 0.14564618197542514,\n",
              "  'variedades': 0.14564618197542514},\n",
              " 'FIXED': {'al': 0.07304206300822304,\n",
              "  'de': 0.05336362608939825,\n",
              "  'en': 0.14608412601644608,\n",
              "  'la': 0.08893937681566376,\n",
              "  'lo': 0.040720435228035014,\n",
              "  'por': 0.040720435228035014,\n",
              "  'que': 0.20360217614017506,\n",
              "  'se': 0.08144087045607003,\n",
              "  'una': 0.0355757507262655,\n",
              "  'es': 0.14608412601644608,\n",
              "  'tambien': 0.040720435228035014,\n",
              "  'atras': 0.07304206300822304,\n",
              "  'bicicleta': 0.21912618902466913,\n",
              "  'cadena': 0.12829625065331332,\n",
              "  'cuando': 0.07304206300822304,\n",
              "  'decir': 0.12829625065331332,\n",
              "  'dejar': 0.12829625065331332,\n",
              "  'esta': 0.12829625065331332,\n",
              "  'estan': 0.12829625065331332,\n",
              "  'este': 0.12829625065331332,\n",
              "  'esto': 0.07304206300822304,\n",
              "  'fijo': 0.07304206300822304,\n",
              "  'fixed': 0.12829625065331332,\n",
              "  'fixie': 0.07304206300822304,\n",
              "  'frenar': 0.07304206300822304,\n",
              "  'fuerza': 0.12829625065331332,\n",
              "  'giraran': 0.12829625065331332,\n",
              "  'gire': 0.12829625065331332,\n",
              "  'haciendo': 0.12829625065331332,\n",
              "  'inversa': 0.12829625065331332,\n",
              "  'ir': 0.12829625065331332,\n",
              "  'libre': 0.07304206300822304,\n",
              "  'los': 0.14608412601644608,\n",
              "  'marcha': 0.21912618902466913,\n",
              "  'mientras': 0.12829625065331332,\n",
              "  'monomarcha': 0.12829625065331332,\n",
              "  'motivo': 0.12829625065331332,\n",
              "  'movimiento': 0.12829625065331332,\n",
              "  'muerto': 0.07304206300822304,\n",
              "  'no': 0.21912618902466913,\n",
              "  'pedalear': 0.12829625065331332,\n",
              "  'pedales': 0.14608412601644608,\n",
              "  'pinon': 0.14608412601644608,\n",
              "  'puede': 0.25659250130662664,\n",
              "  'punto': 0.07304206300822304,\n",
              "  'rueda': 0.07304206300822304,\n",
              "  'sentido': 0.12829625065331332,\n",
              "  'siempre': 0.25659250130662664,\n",
              "  'significa': 0.25659250130662664,\n",
              "  'solidariamente': 0.12829625065331332,\n",
              "  'tiene': 0.25659250130662664,\n",
              "  'trasera': 0.12829625065331332,\n",
              "  'ya': 0.12829625065331332},\n",
              " 'SAMPLE': {'de': 0.09245696810452544,\n",
              "  'el': 0.035275788556550114,\n",
              "  'la': 0.03081898936817515,\n",
              "  'lo': 0.07055157711310023,\n",
              "  'por': 0.035275788556550114,\n",
              "  'que': 0.07055157711310023,\n",
              "  'se': 0.035275788556550114,\n",
              "  'una': 0.015409494684087576,\n",
              "  'uso': 0.06327575714707366,\n",
              "  'las': 0.12655151429414732,\n",
              "  'tambien': 0.035275788556550114,\n",
              "  'atras': 0.25310302858829464,\n",
              "  'bicicleta': 0.06327575714707366,\n",
              "  'cuando': 0.06327575714707366,\n",
              "  'esto': 0.06327575714707366,\n",
              "  'fijo': 0.12655151429414732,\n",
              "  'fixie': 0.12655151429414732,\n",
              "  'frenar': 0.06327575714707366,\n",
              "  'libre': 0.06327575714707366,\n",
              "  'los': 0.18982727144122097,\n",
              "  'marcha': 0.18982727144122097,\n",
              "  'muerto': 0.06327575714707366,\n",
              "  'no': 0.12655151429414732,\n",
              "  'pedales': 0.18982727144122097,\n",
              "  'pinon': 0.18982727144122097,\n",
              "  'punto': 0.06327575714707366,\n",
              "  'rueda': 0.06327575714707366,\n",
              "  'anadido': 0.11114201961005973,\n",
              "  'avanzar': 0.11114201961005973,\n",
              "  'avanzas': 0.11114201961005973,\n",
              "  'bicicletas': 0.33342605883017923,\n",
              "  'bicis': 0.11114201961005973,\n",
              "  'con': 0.22228403922011947,\n",
              "  'dar': 0.11114201961005973,\n",
              "  'debe': 0.11114201961005973,\n",
              "  'delante': 0.11114201961005973,\n",
              "  'denominadas': 0.11114201961005973,\n",
              "  'entrenamiento': 0.11114201961005973,\n",
              "  'frenas': 0.11114201961005973,\n",
              "  'gira': 0.11114201961005973,\n",
              "  'giran': 0.11114201961005973,\n",
              "  'hacia': 0.22228403922011947,\n",
              "  'iras': 0.11114201961005973,\n",
              "  'muchisimas': 0.11114201961005973,\n",
              "  'necesita': 0.11114201961005973,\n",
              "  'obstante': 0.11114201961005973,\n",
              "  'paras': 0.11114201961005973,\n",
              "  'pedaleas': 0.22228403922011947,\n",
              "  'requiere': 0.11114201961005973,\n",
              "  'si': 0.33342605883017923,\n",
              "  'sin': 0.11114201961005973,\n",
              "  'sola': 0.11114201961005973,\n",
              "  'son': 0.11114201961005973,\n",
              "  'tienen': 0.11114201961005973,\n",
              "  'un': 0.11114201961005973,\n",
              "  'ventajas': 0.11114201961005973}}"
            ]
          },
          "metadata": {},
          "execution_count": 233
        }
      ]
    },
    {
      "cell_type": "code",
      "source": [
        "doc_matrix_tfidf = pd.DataFrame(data).fillna(0).T"
      ],
      "metadata": {
        "id": "BsefTIbWyM6w"
      },
      "execution_count": 234,
      "outputs": []
    },
    {
      "cell_type": "code",
      "source": [
        "doc_matrix_tfidf"
      ],
      "metadata": {
        "colab": {
          "base_uri": "https://localhost:8080/",
          "height": 224
        },
        "id": "zEe3-FmOyYAO",
        "outputId": "45ea7a6e-51e6-462f-a697-385ffcb5240f"
      },
      "execution_count": 235,
      "outputs": [
        {
          "output_type": "execute_result",
          "data": {
            "text/plain": [
              "           acerca       ada        al  algoritmo      alla  analitica  \\\n",
              "ADA      0.103534  0.310603  0.058944   0.103534  0.103534   0.103534   \n",
              "BROCOLI  0.000000  0.000000  0.000000   0.000000  0.000000   0.000000   \n",
              "FIXED    0.000000  0.000000  0.073042   0.000000  0.000000   0.000000   \n",
              "SAMPLE   0.000000  0.000000  0.000000   0.000000  0.000000   0.000000   \n",
              "\n",
              "         aplicaciones   augusta   babbage  britanica  ...     paras  pedaleas  \\\n",
              "ADA          0.103534  0.207068  0.103534   0.103534  ...  0.000000  0.000000   \n",
              "BROCOLI      0.000000  0.000000  0.000000   0.000000  ...  0.000000  0.000000   \n",
              "FIXED        0.000000  0.000000  0.000000   0.000000  ...  0.000000  0.000000   \n",
              "SAMPLE       0.000000  0.000000  0.000000   0.000000  ...  0.111142  0.222284   \n",
              "\n",
              "         requiere        si       sin      sola       son    tienen        un  \\\n",
              "ADA      0.000000  0.000000  0.000000  0.000000  0.000000  0.000000  0.000000   \n",
              "BROCOLI  0.000000  0.000000  0.000000  0.000000  0.000000  0.000000  0.000000   \n",
              "FIXED    0.000000  0.000000  0.000000  0.000000  0.000000  0.000000  0.000000   \n",
              "SAMPLE   0.111142  0.333426  0.111142  0.111142  0.111142  0.111142  0.111142   \n",
              "\n",
              "         ventajas  \n",
              "ADA      0.000000  \n",
              "BROCOLI  0.000000  \n",
              "FIXED    0.000000  \n",
              "SAMPLE   0.111142  \n",
              "\n",
              "[4 rows x 174 columns]"
            ],
            "text/html": [
              "\n",
              "  <div id=\"df-88e87261-878d-4352-8678-d100ebf78fbf\" class=\"colab-df-container\">\n",
              "    <div>\n",
              "<style scoped>\n",
              "    .dataframe tbody tr th:only-of-type {\n",
              "        vertical-align: middle;\n",
              "    }\n",
              "\n",
              "    .dataframe tbody tr th {\n",
              "        vertical-align: top;\n",
              "    }\n",
              "\n",
              "    .dataframe thead th {\n",
              "        text-align: right;\n",
              "    }\n",
              "</style>\n",
              "<table border=\"1\" class=\"dataframe\">\n",
              "  <thead>\n",
              "    <tr style=\"text-align: right;\">\n",
              "      <th></th>\n",
              "      <th>acerca</th>\n",
              "      <th>ada</th>\n",
              "      <th>al</th>\n",
              "      <th>algoritmo</th>\n",
              "      <th>alla</th>\n",
              "      <th>analitica</th>\n",
              "      <th>aplicaciones</th>\n",
              "      <th>augusta</th>\n",
              "      <th>babbage</th>\n",
              "      <th>britanica</th>\n",
              "      <th>...</th>\n",
              "      <th>paras</th>\n",
              "      <th>pedaleas</th>\n",
              "      <th>requiere</th>\n",
              "      <th>si</th>\n",
              "      <th>sin</th>\n",
              "      <th>sola</th>\n",
              "      <th>son</th>\n",
              "      <th>tienen</th>\n",
              "      <th>un</th>\n",
              "      <th>ventajas</th>\n",
              "    </tr>\n",
              "  </thead>\n",
              "  <tbody>\n",
              "    <tr>\n",
              "      <th>ADA</th>\n",
              "      <td>0.103534</td>\n",
              "      <td>0.310603</td>\n",
              "      <td>0.058944</td>\n",
              "      <td>0.103534</td>\n",
              "      <td>0.103534</td>\n",
              "      <td>0.103534</td>\n",
              "      <td>0.103534</td>\n",
              "      <td>0.207068</td>\n",
              "      <td>0.103534</td>\n",
              "      <td>0.103534</td>\n",
              "      <td>...</td>\n",
              "      <td>0.000000</td>\n",
              "      <td>0.000000</td>\n",
              "      <td>0.000000</td>\n",
              "      <td>0.000000</td>\n",
              "      <td>0.000000</td>\n",
              "      <td>0.000000</td>\n",
              "      <td>0.000000</td>\n",
              "      <td>0.000000</td>\n",
              "      <td>0.000000</td>\n",
              "      <td>0.000000</td>\n",
              "    </tr>\n",
              "    <tr>\n",
              "      <th>BROCOLI</th>\n",
              "      <td>0.000000</td>\n",
              "      <td>0.000000</td>\n",
              "      <td>0.000000</td>\n",
              "      <td>0.000000</td>\n",
              "      <td>0.000000</td>\n",
              "      <td>0.000000</td>\n",
              "      <td>0.000000</td>\n",
              "      <td>0.000000</td>\n",
              "      <td>0.000000</td>\n",
              "      <td>0.000000</td>\n",
              "      <td>...</td>\n",
              "      <td>0.000000</td>\n",
              "      <td>0.000000</td>\n",
              "      <td>0.000000</td>\n",
              "      <td>0.000000</td>\n",
              "      <td>0.000000</td>\n",
              "      <td>0.000000</td>\n",
              "      <td>0.000000</td>\n",
              "      <td>0.000000</td>\n",
              "      <td>0.000000</td>\n",
              "      <td>0.000000</td>\n",
              "    </tr>\n",
              "    <tr>\n",
              "      <th>FIXED</th>\n",
              "      <td>0.000000</td>\n",
              "      <td>0.000000</td>\n",
              "      <td>0.073042</td>\n",
              "      <td>0.000000</td>\n",
              "      <td>0.000000</td>\n",
              "      <td>0.000000</td>\n",
              "      <td>0.000000</td>\n",
              "      <td>0.000000</td>\n",
              "      <td>0.000000</td>\n",
              "      <td>0.000000</td>\n",
              "      <td>...</td>\n",
              "      <td>0.000000</td>\n",
              "      <td>0.000000</td>\n",
              "      <td>0.000000</td>\n",
              "      <td>0.000000</td>\n",
              "      <td>0.000000</td>\n",
              "      <td>0.000000</td>\n",
              "      <td>0.000000</td>\n",
              "      <td>0.000000</td>\n",
              "      <td>0.000000</td>\n",
              "      <td>0.000000</td>\n",
              "    </tr>\n",
              "    <tr>\n",
              "      <th>SAMPLE</th>\n",
              "      <td>0.000000</td>\n",
              "      <td>0.000000</td>\n",
              "      <td>0.000000</td>\n",
              "      <td>0.000000</td>\n",
              "      <td>0.000000</td>\n",
              "      <td>0.000000</td>\n",
              "      <td>0.000000</td>\n",
              "      <td>0.000000</td>\n",
              "      <td>0.000000</td>\n",
              "      <td>0.000000</td>\n",
              "      <td>...</td>\n",
              "      <td>0.111142</td>\n",
              "      <td>0.222284</td>\n",
              "      <td>0.111142</td>\n",
              "      <td>0.333426</td>\n",
              "      <td>0.111142</td>\n",
              "      <td>0.111142</td>\n",
              "      <td>0.111142</td>\n",
              "      <td>0.111142</td>\n",
              "      <td>0.111142</td>\n",
              "      <td>0.111142</td>\n",
              "    </tr>\n",
              "  </tbody>\n",
              "</table>\n",
              "<p>4 rows × 174 columns</p>\n",
              "</div>\n",
              "    <div class=\"colab-df-buttons\">\n",
              "\n",
              "  <div class=\"colab-df-container\">\n",
              "    <button class=\"colab-df-convert\" onclick=\"convertToInteractive('df-88e87261-878d-4352-8678-d100ebf78fbf')\"\n",
              "            title=\"Convert this dataframe to an interactive table.\"\n",
              "            style=\"display:none;\">\n",
              "\n",
              "  <svg xmlns=\"http://www.w3.org/2000/svg\" height=\"24px\" viewBox=\"0 -960 960 960\">\n",
              "    <path d=\"M120-120v-720h720v720H120Zm60-500h600v-160H180v160Zm220 220h160v-160H400v160Zm0 220h160v-160H400v160ZM180-400h160v-160H180v160Zm440 0h160v-160H620v160ZM180-180h160v-160H180v160Zm440 0h160v-160H620v160Z\"/>\n",
              "  </svg>\n",
              "    </button>\n",
              "\n",
              "  <style>\n",
              "    .colab-df-container {\n",
              "      display:flex;\n",
              "      gap: 12px;\n",
              "    }\n",
              "\n",
              "    .colab-df-convert {\n",
              "      background-color: #E8F0FE;\n",
              "      border: none;\n",
              "      border-radius: 50%;\n",
              "      cursor: pointer;\n",
              "      display: none;\n",
              "      fill: #1967D2;\n",
              "      height: 32px;\n",
              "      padding: 0 0 0 0;\n",
              "      width: 32px;\n",
              "    }\n",
              "\n",
              "    .colab-df-convert:hover {\n",
              "      background-color: #E2EBFA;\n",
              "      box-shadow: 0px 1px 2px rgba(60, 64, 67, 0.3), 0px 1px 3px 1px rgba(60, 64, 67, 0.15);\n",
              "      fill: #174EA6;\n",
              "    }\n",
              "\n",
              "    .colab-df-buttons div {\n",
              "      margin-bottom: 4px;\n",
              "    }\n",
              "\n",
              "    [theme=dark] .colab-df-convert {\n",
              "      background-color: #3B4455;\n",
              "      fill: #D2E3FC;\n",
              "    }\n",
              "\n",
              "    [theme=dark] .colab-df-convert:hover {\n",
              "      background-color: #434B5C;\n",
              "      box-shadow: 0px 1px 3px 1px rgba(0, 0, 0, 0.15);\n",
              "      filter: drop-shadow(0px 1px 2px rgba(0, 0, 0, 0.3));\n",
              "      fill: #FFFFFF;\n",
              "    }\n",
              "  </style>\n",
              "\n",
              "    <script>\n",
              "      const buttonEl =\n",
              "        document.querySelector('#df-88e87261-878d-4352-8678-d100ebf78fbf button.colab-df-convert');\n",
              "      buttonEl.style.display =\n",
              "        google.colab.kernel.accessAllowed ? 'block' : 'none';\n",
              "\n",
              "      async function convertToInteractive(key) {\n",
              "        const element = document.querySelector('#df-88e87261-878d-4352-8678-d100ebf78fbf');\n",
              "        const dataTable =\n",
              "          await google.colab.kernel.invokeFunction('convertToInteractive',\n",
              "                                                    [key], {});\n",
              "        if (!dataTable) return;\n",
              "\n",
              "        const docLinkHtml = 'Like what you see? Visit the ' +\n",
              "          '<a target=\"_blank\" href=https://colab.research.google.com/notebooks/data_table.ipynb>data table notebook</a>'\n",
              "          + ' to learn more about interactive tables.';\n",
              "        element.innerHTML = '';\n",
              "        dataTable['output_type'] = 'display_data';\n",
              "        await google.colab.output.renderOutput(dataTable, element);\n",
              "        const docLink = document.createElement('div');\n",
              "        docLink.innerHTML = docLinkHtml;\n",
              "        element.appendChild(docLink);\n",
              "      }\n",
              "    </script>\n",
              "  </div>\n",
              "\n",
              "\n",
              "<div id=\"df-345116b8-66e8-4c9d-8c40-1610d6b69997\">\n",
              "  <button class=\"colab-df-quickchart\" onclick=\"quickchart('df-345116b8-66e8-4c9d-8c40-1610d6b69997')\"\n",
              "            title=\"Suggest charts.\"\n",
              "            style=\"display:none;\">\n",
              "\n",
              "<svg xmlns=\"http://www.w3.org/2000/svg\" height=\"24px\"viewBox=\"0 0 24 24\"\n",
              "     width=\"24px\">\n",
              "    <g>\n",
              "        <path d=\"M19 3H5c-1.1 0-2 .9-2 2v14c0 1.1.9 2 2 2h14c1.1 0 2-.9 2-2V5c0-1.1-.9-2-2-2zM9 17H7v-7h2v7zm4 0h-2V7h2v10zm4 0h-2v-4h2v4z\"/>\n",
              "    </g>\n",
              "</svg>\n",
              "  </button>\n",
              "\n",
              "<style>\n",
              "  .colab-df-quickchart {\n",
              "      --bg-color: #E8F0FE;\n",
              "      --fill-color: #1967D2;\n",
              "      --hover-bg-color: #E2EBFA;\n",
              "      --hover-fill-color: #174EA6;\n",
              "      --disabled-fill-color: #AAA;\n",
              "      --disabled-bg-color: #DDD;\n",
              "  }\n",
              "\n",
              "  [theme=dark] .colab-df-quickchart {\n",
              "      --bg-color: #3B4455;\n",
              "      --fill-color: #D2E3FC;\n",
              "      --hover-bg-color: #434B5C;\n",
              "      --hover-fill-color: #FFFFFF;\n",
              "      --disabled-bg-color: #3B4455;\n",
              "      --disabled-fill-color: #666;\n",
              "  }\n",
              "\n",
              "  .colab-df-quickchart {\n",
              "    background-color: var(--bg-color);\n",
              "    border: none;\n",
              "    border-radius: 50%;\n",
              "    cursor: pointer;\n",
              "    display: none;\n",
              "    fill: var(--fill-color);\n",
              "    height: 32px;\n",
              "    padding: 0;\n",
              "    width: 32px;\n",
              "  }\n",
              "\n",
              "  .colab-df-quickchart:hover {\n",
              "    background-color: var(--hover-bg-color);\n",
              "    box-shadow: 0 1px 2px rgba(60, 64, 67, 0.3), 0 1px 3px 1px rgba(60, 64, 67, 0.15);\n",
              "    fill: var(--button-hover-fill-color);\n",
              "  }\n",
              "\n",
              "  .colab-df-quickchart-complete:disabled,\n",
              "  .colab-df-quickchart-complete:disabled:hover {\n",
              "    background-color: var(--disabled-bg-color);\n",
              "    fill: var(--disabled-fill-color);\n",
              "    box-shadow: none;\n",
              "  }\n",
              "\n",
              "  .colab-df-spinner {\n",
              "    border: 2px solid var(--fill-color);\n",
              "    border-color: transparent;\n",
              "    border-bottom-color: var(--fill-color);\n",
              "    animation:\n",
              "      spin 1s steps(1) infinite;\n",
              "  }\n",
              "\n",
              "  @keyframes spin {\n",
              "    0% {\n",
              "      border-color: transparent;\n",
              "      border-bottom-color: var(--fill-color);\n",
              "      border-left-color: var(--fill-color);\n",
              "    }\n",
              "    20% {\n",
              "      border-color: transparent;\n",
              "      border-left-color: var(--fill-color);\n",
              "      border-top-color: var(--fill-color);\n",
              "    }\n",
              "    30% {\n",
              "      border-color: transparent;\n",
              "      border-left-color: var(--fill-color);\n",
              "      border-top-color: var(--fill-color);\n",
              "      border-right-color: var(--fill-color);\n",
              "    }\n",
              "    40% {\n",
              "      border-color: transparent;\n",
              "      border-right-color: var(--fill-color);\n",
              "      border-top-color: var(--fill-color);\n",
              "    }\n",
              "    60% {\n",
              "      border-color: transparent;\n",
              "      border-right-color: var(--fill-color);\n",
              "    }\n",
              "    80% {\n",
              "      border-color: transparent;\n",
              "      border-right-color: var(--fill-color);\n",
              "      border-bottom-color: var(--fill-color);\n",
              "    }\n",
              "    90% {\n",
              "      border-color: transparent;\n",
              "      border-bottom-color: var(--fill-color);\n",
              "    }\n",
              "  }\n",
              "</style>\n",
              "\n",
              "  <script>\n",
              "    async function quickchart(key) {\n",
              "      const quickchartButtonEl =\n",
              "        document.querySelector('#' + key + ' button');\n",
              "      quickchartButtonEl.disabled = true;  // To prevent multiple clicks.\n",
              "      quickchartButtonEl.classList.add('colab-df-spinner');\n",
              "      try {\n",
              "        const charts = await google.colab.kernel.invokeFunction(\n",
              "            'suggestCharts', [key], {});\n",
              "      } catch (error) {\n",
              "        console.error('Error during call to suggestCharts:', error);\n",
              "      }\n",
              "      quickchartButtonEl.classList.remove('colab-df-spinner');\n",
              "      quickchartButtonEl.classList.add('colab-df-quickchart-complete');\n",
              "    }\n",
              "    (() => {\n",
              "      let quickchartButtonEl =\n",
              "        document.querySelector('#df-345116b8-66e8-4c9d-8c40-1610d6b69997 button');\n",
              "      quickchartButtonEl.style.display =\n",
              "        google.colab.kernel.accessAllowed ? 'block' : 'none';\n",
              "    })();\n",
              "  </script>\n",
              "</div>\n",
              "    </div>\n",
              "  </div>\n"
            ]
          },
          "metadata": {},
          "execution_count": 235
        }
      ]
    },
    {
      "cell_type": "markdown",
      "source": [
        "### Calculando similitud entre vectores"
      ],
      "metadata": {
        "id": "_NqR5YUF8l0C"
      }
    },
    {
      "cell_type": "markdown",
      "source": [
        "- Una forma de obtener la similitud entre vectores es con la distancia coseno entre ellos\n",
        "\n",
        "$$cos(\\overrightarrow{v},\\overrightarrow{w}) = \\frac{\\overrightarrow{v} \\cdot\\overrightarrow{w}}{|\\overrightarrow{v}||\\overrightarrow{w}|}$$"
      ],
      "metadata": {
        "id": "fsRiWh4E8oNf"
      }
    },
    {
      "cell_type": "markdown",
      "source": [
        "<img src=\"https://www.startpage.com/av/proxy-image?piurl=https%3A%2F%2Fmiro.medium.com%2Fmax%2F1400%2F1%2AtJ12OM8W4WX2J5Lu1J2EMg.png&sp=1697484617T112fe1aff13c82a37363c0f3aa11f8d728a0d55c21a5964c5c096855b94bc1ba\">"
      ],
      "metadata": {
        "id": "Eu0NF2oG-G9S"
      }
    },
    {
      "cell_type": "code",
      "source": [
        "from sklearn.metrics.pairwise import cosine_similarity\n",
        "\n",
        "doc_sample_values = doc_matrix_tfidf.iloc[-1].values.reshape(1, -1)\n",
        "doc_ada_values = doc_matrix_tfidf.iloc[0].values.reshape(1, -1)"
      ],
      "metadata": {
        "id": "W0xYcctSsN3x"
      },
      "execution_count": 236,
      "outputs": []
    },
    {
      "cell_type": "code",
      "source": [
        "# Distancia entre vectores\n",
        "cosine_similarity(doc_sample_values, doc_ada_values)"
      ],
      "metadata": {
        "id": "UR3j1Cyg0d8e",
        "colab": {
          "base_uri": "https://localhost:8080/"
        },
        "outputId": "7c028902-58b3-46df-c354-e853914de886"
      },
      "execution_count": 237,
      "outputs": [
        {
          "output_type": "execute_result",
          "data": {
            "text/plain": [
              "array([[0.03687608]])"
            ]
          },
          "metadata": {},
          "execution_count": 237
        }
      ]
    },
    {
      "cell_type": "code",
      "source": [
        "for i, doc_title in enumerate(doc_titles[:-1]):\n",
        "    print(f\"Similarity beetwen SAMPLE/{doc_title}= {cosine_similarity(doc_matrix_tfidf.iloc[i].values.reshape(1, -1), doc_sample_values)}\")"
      ],
      "metadata": {
        "colab": {
          "base_uri": "https://localhost:8080/"
        },
        "id": "Tyc4vY1E1Nn1",
        "outputId": "7edd62e4-3ab8-41ab-8e88-c57b688b0c84"
      },
      "execution_count": 238,
      "outputs": [
        {
          "output_type": "stream",
          "name": "stdout",
          "text": [
            "Similarity beetwen SAMPLE/ADA= [[0.03687608]]\n",
            "Similarity beetwen SAMPLE/BROCOLI= [[0.02946322]]\n",
            "Similarity beetwen SAMPLE/FIXED= [[0.26691758]]\n"
          ]
        }
      ]
    },
    {
      "cell_type": "markdown",
      "source": [
        "### Desventajas de las BoW"
      ],
      "metadata": {
        "id": "MFMSl17Z4glM"
      }
    },
    {
      "cell_type": "markdown",
      "source": [
        "- Vectores de enorme dimensionalidad\n",
        "- La relación semántica entre palabras no es modelada\n",
        "- El orden de las palabras es ignorado"
      ],
      "metadata": {
        "id": "6riRrRAR4i5V"
      }
    },
    {
      "cell_type": "markdown",
      "source": [
        "## Distributional Semantic Models (DSM) al rescate"
      ],
      "metadata": {
        "id": "lCzLekpMGh_1"
      }
    },
    {
      "cell_type": "markdown",
      "source": [
        "<img src=\"https://www.startpage.com/av/proxy-image?piurl=https%3A%2F%2Fi.pinimg.com%2Foriginals%2Fcf%2Fa4%2F99%2Fcfa49912d881dd5fab5f15f8b73de69e.jpg&sp=1697486909T07578fe08f0dde3780288cf42ce27e7497216ad886e3f4be27a917f6b8e09811\">"
      ],
      "metadata": {
        "id": "iVpHMcvKG0cQ"
      }
    },
    {
      "cell_type": "markdown",
      "source": [
        "- Teoria linguistica que se basa en el hecho que dice que, palabras que ocurren en contextos similares tienen significados similares\n",
        "> You shall know a word by the company it keeps - J.R. Firth\n",
        "\n",
        "- Las palabras son representadas por vectores que capturan el patrón de co-ocurrencia de una palabra con muchas otras en el corpus\n",
        "- Cada palabra sera un vector, tal que palabras que aparecen en contextos similares, seran representados por vectores similares\n",
        "\n",
        "```json\n",
        "¿Me regalas un 'caxitl' de agua?\n",
        "El 'caxitl' de vidrio se rompió\n",
        "Sirve la leche en el 'caxitl'\n",
        "```"
      ],
      "metadata": {
        "id": "OVAJ92hlHWlq"
      }
    },
    {
      "cell_type": "markdown",
      "source": [
        "### ¿Qué significa *caxitl*?"
      ],
      "metadata": {
        "id": "lcBOgIieIQUN"
      }
    },
    {
      "cell_type": "markdown",
      "source": [
        "<img src=\"https://www.startpage.com/av/proxy-image?piurl=https%3A%2F%2Fc1.staticflickr.com%2F9%2F8063%2F8173046162_683d799a48_b.jpg&sp=1697491870T1a97551e80d52be4998d57ba162fcaf3be82fcde18221830f8b75cd7415ce6c1\">"
      ],
      "metadata": {
        "id": "E-8IGzyWIV27"
      }
    },
    {
      "cell_type": "markdown",
      "source": [
        "## Sabores de DSM\n",
        "\n",
        "- Tenemos dos sabores grandes de DSM:\n",
        "  - Count-based DSM\n",
        "  - Prediction-based DSM"
      ],
      "metadata": {
        "id": "NSE0bl9DJ-8m"
      }
    },
    {
      "cell_type": "markdown",
      "source": [
        "### Count-based"
      ],
      "metadata": {
        "id": "hDysL147LBHg"
      }
    },
    {
      "cell_type": "markdown",
      "source": [
        "- Matriz con el patron de co-ocurrenca con otras palabras\n",
        "  - Esto tiene la mejora de modelar las relaciones semanticas entre palabras\n",
        "  - Aun tenemos vectores enormes (¿Cómo podriamos solucionar esto?)\n",
        "- Se define una ventana $L$ para el contexto\n"
      ],
      "metadata": {
        "id": "bxRtiRKFLL9s"
      }
    },
    {
      "cell_type": "markdown",
      "source": [
        "<img src=\"https://maucher.home.hdm-stuttgart.de/Pics/cooccurenceMatrixExample.png\">"
      ],
      "metadata": {
        "id": "8Hhm-VBiLCxP"
      }
    },
    {
      "cell_type": "markdown",
      "source": [
        "### Predicted-based"
      ],
      "metadata": {
        "id": "oi0Y5LIbNFzh"
      }
    },
    {
      "cell_type": "markdown",
      "source": [
        "- En 2013 Mikolov et al. publican el paper: [Efficient Estimation of Word Representations in Vector Space](https://proceedings.neurips.cc/paper_files/paper/2013/file/9aa42b31882ec039965f3c4923ce901b-Paper.pdf)\n",
        "- Muestran una forma eficiente de obtener DSM word-embeddings (Word2Vec):\n",
        "    - CBOW\n",
        "    - Skipgram\n",
        "- De ahí surgieron variaciones\n",
        "    - GloVe\n",
        "    - fastText\n",
        "    - ELMo"
      ],
      "metadata": {
        "id": "I3j1qC6zNHmi"
      }
    },
    {
      "cell_type": "markdown",
      "source": [
        " ## Aplicando Pre-trained Word Embbedings"
      ],
      "metadata": {
        "id": "mqX0VpqiRE7d"
      }
    },
    {
      "cell_type": "code",
      "source": [
        "import gensim.downloader as gensim_api"
      ],
      "metadata": {
        "id": "mXOtfdNSK_Wb"
      },
      "execution_count": 239,
      "outputs": []
    },
    {
      "cell_type": "code",
      "source": [
        "gensim_api.info(name_only=True)"
      ],
      "metadata": {
        "colab": {
          "base_uri": "https://localhost:8080/"
        },
        "id": "CDNn8WLZK-gF",
        "outputId": "9d4df301-2030-442b-b16c-f3a4922cedb5"
      },
      "execution_count": 240,
      "outputs": [
        {
          "output_type": "execute_result",
          "data": {
            "text/plain": [
              "{'corpora': ['semeval-2016-2017-task3-subtaskBC',\n",
              "  'semeval-2016-2017-task3-subtaskA-unannotated',\n",
              "  'patent-2017',\n",
              "  'quora-duplicate-questions',\n",
              "  'wiki-english-20171001',\n",
              "  'text8',\n",
              "  'fake-news',\n",
              "  '20-newsgroups',\n",
              "  '__testing_matrix-synopsis',\n",
              "  '__testing_multipart-matrix-synopsis'],\n",
              " 'models': ['fasttext-wiki-news-subwords-300',\n",
              "  'conceptnet-numberbatch-17-06-300',\n",
              "  'word2vec-ruscorpora-300',\n",
              "  'word2vec-google-news-300',\n",
              "  'glove-wiki-gigaword-50',\n",
              "  'glove-wiki-gigaword-100',\n",
              "  'glove-wiki-gigaword-200',\n",
              "  'glove-wiki-gigaword-300',\n",
              "  'glove-twitter-25',\n",
              "  'glove-twitter-50',\n",
              "  'glove-twitter-100',\n",
              "  'glove-twitter-200',\n",
              "  '__testing_word2vec-matrix-synopsis']}"
            ]
          },
          "metadata": {},
          "execution_count": 240
        }
      ]
    },
    {
      "cell_type": "code",
      "source": [
        "word_vectors = gensim_api.load(\"glove-twitter-100\")"
      ],
      "metadata": {
        "id": "2boe8G0RR7vK"
      },
      "execution_count": 191,
      "outputs": []
    },
    {
      "cell_type": "code",
      "source": [
        "print(\"Information about vectors\")\n",
        "print(f\"Tokens={word_vectors.vectors.shape[0]}\")\n",
        "print(f\"Dimension de vectores={word_vectors.vectors.shape[1]}\")"
      ],
      "metadata": {
        "colab": {
          "base_uri": "https://localhost:8080/"
        },
        "id": "h2XujnHASFX3",
        "outputId": "cf3df15d-080d-455c-ada8-e92f55e2fa1d"
      },
      "execution_count": 241,
      "outputs": [
        {
          "output_type": "stream",
          "name": "stdout",
          "text": [
            "Information about vectors\n",
            "Tokens=1193514\n",
            "Dimension de vectores=100\n"
          ]
        }
      ]
    },
    {
      "cell_type": "code",
      "source": [
        "word_vectors.index_to_key[10:20]"
      ],
      "metadata": {
        "colab": {
          "base_uri": "https://localhost:8080/"
        },
        "id": "SGreQPKEUgza",
        "outputId": "96299c0c-3bc5-4f84-9cfe-e99023b22323"
      },
      "execution_count": 243,
      "outputs": [
        {
          "output_type": "execute_result",
          "data": {
            "text/plain": [
              "['i', 'a', '\"', 'the', '?', 'you', 'to', '(', '<allcaps>', '<elong>']"
            ]
          },
          "metadata": {},
          "execution_count": 243
        }
      ]
    },
    {
      "cell_type": "code",
      "source": [
        "word_vectors[\"sun\"][:10]"
      ],
      "metadata": {
        "colab": {
          "base_uri": "https://localhost:8080/"
        },
        "id": "ZthtlQdtStks",
        "outputId": "84e5ec1f-3678-4eac-b7bf-0b5b2fc6048b"
      },
      "execution_count": 245,
      "outputs": [
        {
          "output_type": "execute_result",
          "data": {
            "text/plain": [
              "array([-0.38867 , -0.30447 , -0.46292 ,  0.10976 ,  0.49473 ,  0.36372 ,\n",
              "       -0.17162 , -0.45717 ,  0.043838,  0.066616], dtype=float32)"
            ]
          },
          "metadata": {},
          "execution_count": 245
        }
      ]
    },
    {
      "cell_type": "code",
      "source": [
        "word_vectors[\"moon\"][:10]"
      ],
      "metadata": {
        "colab": {
          "base_uri": "https://localhost:8080/"
        },
        "id": "5GGZYrNfSyi1",
        "outputId": "a5e420a4-af42-4de6-d25e-750016a8aaf3"
      },
      "execution_count": 246,
      "outputs": [
        {
          "output_type": "execute_result",
          "data": {
            "text/plain": [
              "array([-0.20452 ,  0.084335, -0.6049  ,  0.060999,  0.30615 ,  0.23636 ,\n",
              "       -0.049574, -0.96095 , -0.44005 ,  0.08217 ], dtype=float32)"
            ]
          },
          "metadata": {},
          "execution_count": 246
        }
      ]
    },
    {
      "cell_type": "code",
      "source": [
        "word_vectors.similarity(\"son\", \"moon\")"
      ],
      "metadata": {
        "colab": {
          "base_uri": "https://localhost:8080/"
        },
        "id": "FjV_qyx8S5DK",
        "outputId": "f0695780-e9e7-40d1-cffd-41fb08a3ac4c"
      },
      "execution_count": 251,
      "outputs": [
        {
          "output_type": "execute_result",
          "data": {
            "text/plain": [
              "0.23334953"
            ]
          },
          "metadata": {},
          "execution_count": 251
        }
      ]
    },
    {
      "cell_type": "code",
      "source": [
        "word_vectors.most_similar(\"meme\", topn=10)"
      ],
      "metadata": {
        "colab": {
          "base_uri": "https://localhost:8080/"
        },
        "id": "jYC3q-rJTCmS",
        "outputId": "57f77d20-71dd-4c29-f799-5f61e97eb3a6"
      },
      "execution_count": 256,
      "outputs": [
        {
          "output_type": "execute_result",
          "data": {
            "text/plain": [
              "[('même', 0.7849530577659607),\n",
              " ('sais', 0.7765998840332031),\n",
              " ('vu', 0.775844931602478),\n",
              " ('cest', 0.7729000449180603),\n",
              " ('mdr', 0.764784574508667),\n",
              " ('genre', 0.758070170879364),\n",
              " ('moi', 0.7576004862785339),\n",
              " ('vrai', 0.7575893402099609),\n",
              " ('mdrr', 0.75288325548172),\n",
              " ('quoi', 0.7445939183235168)]"
            ]
          },
          "metadata": {},
          "execution_count": 256
        }
      ]
    },
    {
      "cell_type": "code",
      "source": [
        "word_vectors.doesnt_match(\"car motor ponny oil mustang\".split())"
      ],
      "metadata": {
        "colab": {
          "base_uri": "https://localhost:8080/",
          "height": 34
        },
        "id": "xHKcUho5TasO",
        "outputId": "090a2fee-8485-4dc6-92d4-e7215c510f89"
      },
      "execution_count": 257,
      "outputs": [
        {
          "output_type": "execute_result",
          "data": {
            "text/plain": [
              "'ponny'"
            ],
            "application/vnd.google.colaboratory.intrinsic+json": {
              "type": "string"
            }
          },
          "metadata": {},
          "execution_count": 257
        }
      ]
    },
    {
      "cell_type": "code",
      "source": [
        "word_vectors.n_similarity(['light', 'oil'], ['japanese', 'restaurant'])"
      ],
      "metadata": {
        "colab": {
          "base_uri": "https://localhost:8080/"
        },
        "id": "UjWzxmJlVoFR",
        "outputId": "a88070a3-ba39-4e42-bc78-4616949fa19e"
      },
      "execution_count": 259,
      "outputs": [
        {
          "output_type": "execute_result",
          "data": {
            "text/plain": [
              "0.5067868"
            ]
          },
          "metadata": {},
          "execution_count": 259
        }
      ]
    },
    {
      "cell_type": "code",
      "source": [
        "vector = word_vectors['computer']\n",
        "print(vector.shape)\n",
        "print(vector[:10])"
      ],
      "metadata": {
        "colab": {
          "base_uri": "https://localhost:8080/"
        },
        "id": "jZSzmIekVscz",
        "outputId": "41714197-c3ec-4a72-8cc5-96ee688c10d6"
      },
      "execution_count": 260,
      "outputs": [
        {
          "output_type": "stream",
          "name": "stdout",
          "text": [
            "(100,)\n",
            "[ 0.31572  -0.19153   0.068779  0.45787  -0.12653  -0.14132  -0.10973\n",
            " -0.55496   0.79205  -0.34311 ]\n"
          ]
        }
      ]
    },
    {
      "cell_type": "code",
      "source": [
        "word_vectors.distance(\"dog\", \"cat\")"
      ],
      "metadata": {
        "colab": {
          "base_uri": "https://localhost:8080/"
        },
        "id": "soHDSo8hXTja",
        "outputId": "f3fb6b3e-6705-4396-8cb6-0f180d832814"
      },
      "execution_count": 262,
      "outputs": [
        {
          "output_type": "execute_result",
          "data": {
            "text/plain": [
              "0.12479102611541748"
            ]
          },
          "metadata": {},
          "execution_count": 262
        }
      ]
    },
    {
      "cell_type": "code",
      "source": [
        "# boy, father, shirt\n",
        "word_vectors.most_similar(positive=['woman', 'boy'], negative=['man'])"
      ],
      "metadata": {
        "colab": {
          "base_uri": "https://localhost:8080/"
        },
        "id": "04Az5nz5Wv4A",
        "outputId": "f8625d8b-0d1e-441c-e150-089b25eb6722"
      },
      "execution_count": 268,
      "outputs": [
        {
          "output_type": "execute_result",
          "data": {
            "text/plain": [
              "[('girl', 0.8403390645980835),\n",
              " ('mother', 0.7394383549690247),\n",
              " ('daughter', 0.7326353788375854),\n",
              " ('lady', 0.7241897583007812),\n",
              " ('she', 0.7157682180404663),\n",
              " ('female', 0.7143412232398987),\n",
              " ('girlfriend', 0.7029730081558228),\n",
              " ('wife', 0.7005814909934998),\n",
              " ('girls', 0.6984952688217163),\n",
              " ('child', 0.6977960467338562)]"
            ]
          },
          "metadata": {},
          "execution_count": 268
        }
      ]
    },
    {
      "cell_type": "code",
      "source": [
        "# usa, mexico, australia\n",
        "word_vectors.most_similar(positive=['london', 'australia'], negative=['england'])\n"
      ],
      "metadata": {
        "colab": {
          "base_uri": "https://localhost:8080/"
        },
        "id": "yvVxSf8MXeC7",
        "outputId": "fc707167-d46e-41b3-e5e3-22e057de6cf4"
      },
      "execution_count": 271,
      "outputs": [
        {
          "output_type": "execute_result",
          "data": {
            "text/plain": [
              "[('melbourne', 0.7249858379364014),\n",
              " ('sydney', 0.719091534614563),\n",
              " ('dubai', 0.6955541968345642),\n",
              " ('uk', 0.6874183416366577),\n",
              " ('hotel', 0.657270610332489),\n",
              " ('perth', 0.6545104384422302),\n",
              " ('dublin', 0.653557300567627),\n",
              " ('singapore', 0.651378870010376),\n",
              " ('nyc', 0.6383220553398132),\n",
              " ('brisbane', 0.6342905163764954)]"
            ]
          },
          "metadata": {},
          "execution_count": 271
        }
      ]
    },
    {
      "cell_type": "code",
      "source": [
        "# animals (mr gifts)\n",
        "word_vectors.most_similar(positive=[\"dog\", \"oink\"], negative=[\"pig\"])"
      ],
      "metadata": {
        "colab": {
          "base_uri": "https://localhost:8080/"
        },
        "id": "WTnr1xagYK6j",
        "outputId": "b34dd6b7-bf1d-4def-a49d-790956566aa4"
      },
      "execution_count": 274,
      "outputs": [
        {
          "output_type": "execute_result",
          "data": {
            "text/plain": [
              "[('meow', 0.5554405450820923),\n",
              " ('woof', 0.52789306640625),\n",
              " ('cats', 0.5231878161430359),\n",
              " ('cat', 0.5229120850563049),\n",
              " ('sheldon', 0.5032904744148254),\n",
              " ('dogs', 0.5022590756416321),\n",
              " ('pug', 0.48650306463241577),\n",
              " ('barney', 0.4774291515350342),\n",
              " ('starship', 0.4734712541103363),\n",
              " ('kitty', 0.4728127717971802)]"
            ]
          },
          "metadata": {},
          "execution_count": 274
        }
      ]
    },
    {
      "cell_type": "markdown",
      "source": [
        "## Visualizando vectores"
      ],
      "metadata": {
        "id": "m46cC-ShV-oz"
      }
    },
    {
      "cell_type": "code",
      "source": [
        "import numpy as np\n",
        "from sklearn.manifold import TSNE\n",
        "from matplotlib import pyplot as plt"
      ],
      "metadata": {
        "id": "sTg1OhTlV6dW"
      },
      "execution_count": 275,
      "outputs": []
    },
    {
      "cell_type": "code",
      "source": [
        "import warnings\n",
        "warnings.filterwarnings(\"ignore\")"
      ],
      "metadata": {
        "id": "zN1SJ1AFWTq9"
      },
      "execution_count": 276,
      "outputs": []
    },
    {
      "cell_type": "code",
      "source": [
        "tsneModel=TSNE(n_components=2,random_state=0)\n",
        "np.set_printoptions(suppress=True)\n",
        "model2d=tsneModel.fit_transform(word_vectors[word_vectors.index_to_key[300:600]])"
      ],
      "metadata": {
        "id": "ZAr_1b5BWB3X"
      },
      "execution_count": 277,
      "outputs": []
    },
    {
      "cell_type": "code",
      "source": [
        "%matplotlib inline\n",
        "plt.figure(figsize=(15,15))\n",
        "idx = 0\n",
        "for a in model2d[:300]:\n",
        "    w = word_vectors.index_to_key[300+idx]\n",
        "    plt.plot(a[0],a[1],'r.')\n",
        "    plt.text(a[0],a[1],w)\n",
        "    idx += 1\n",
        "plt.show()"
      ],
      "metadata": {
        "colab": {
          "base_uri": "https://localhost:8080/",
          "height": 1000
        },
        "id": "iYzkR57zWGHZ",
        "outputId": "bfe3821a-9f1e-498a-daa5-32527e23cd31"
      },
      "execution_count": 278,
      "outputs": [
        {
          "output_type": "display_data",
          "data": {
            "text/plain": [
              "<Figure size 1500x1500 with 1 Axes>"
            ],
            "image/png": "[encoded data removed]"
          },
          "metadata": {}
        }
      ]
    },
    {
      "cell_type": "code",
      "source": [],
      "metadata": {
        "id": "pRsa08mEWOrm"
      },
      "execution_count": null,
      "outputs": []
    }
  ]
}